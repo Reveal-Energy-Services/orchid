{
 "cells": [
  {
   "cell_type": "code",
   "execution_count": 1,
   "metadata": {
    "collapsed": false,
    "jupyter": {
     "outputs_hidden": false
    },
    "pycharm": {
     "name": "#%%\n"
    }
   },
   "outputs": [],
   "source": [
    "import pathlib\n",
    "import random"
   ]
  },
  {
   "cell_type": "code",
   "execution_count": 2,
   "metadata": {
    "collapsed": false,
    "jupyter": {
     "outputs_hidden": false
    },
    "pycharm": {
     "name": "#%%\n"
    }
   },
   "outputs": [],
   "source": [
    "import numpy as np\n",
    "import matplotlib.pyplot as plt\n",
    "import pandas as pd\n",
    "import seaborn as sns"
   ]
  },
  {
   "cell_type": "code",
   "execution_count": 3,
   "metadata": {
    "collapsed": false,
    "jupyter": {
     "outputs_hidden": false
    },
    "pycharm": {
     "name": "#%%\n"
    }
   },
   "outputs": [],
   "source": [
    "from orchid import (project_loader as opl)"
   ]
  },
  {
   "cell_type": "code",
   "execution_count": 4,
   "metadata": {
    "collapsed": false,
    "jupyter": {
     "outputs_hidden": false
    },
    "pycharm": {
     "name": "#%%\n"
    }
   },
   "outputs": [],
   "source": [
    "import option\n",
    "import toolz.curried as toolz"
   ]
  },
  {
   "cell_type": "code",
   "execution_count": 5,
   "metadata": {
    "collapsed": false,
    "jupyter": {
     "outputs_hidden": false
    },
    "pycharm": {
     "name": "#%%\n"
    }
   },
   "outputs": [],
   "source": [
    "# noinspection PyUnresolvedReferences\n",
    "from System import DateTime, DateTimeOffset, DBNull, TimeSpan\n",
    "# noinspection PyUnresolvedReferences\n",
    "import UnitsNet"
   ]
  },
  {
   "cell_type": "code",
   "execution_count": 6,
   "metadata": {
    "collapsed": false,
    "jupyter": {
     "outputs_hidden": false
    },
    "pycharm": {
     "name": "#%%\n"
    }
   },
   "outputs": [],
   "source": [
    "project_filenames = {\n",
    "    'permian-a': 'Project-frankNstein_Permian_UTM13FT_0412_PjtDataFrame.ifrac',\n",
    "    # 'gng': 'GnG_DemoProject_wDataFrames.ifrac',\n",
    "}"
   ]
  },
  {
   "cell_type": "code",
   "execution_count": 7,
   "metadata": {
    "collapsed": false,
    "jupyter": {
     "outputs_hidden": false
    },
    "pycharm": {
     "name": "#%%\n"
    }
   },
   "outputs": [
    {
     "data": {
      "text/plain": [
       "{'permian-a': WindowsPath('c:/src/Orchid.IntegrationTestData/Project-frankNstein_Permian_UTM13FT_0412_PjtDataFrame.ifrac')}"
      ]
     },
     "execution_count": 7,
     "metadata": {},
     "output_type": "execute_result"
    }
   ],
   "source": [
    "test_data_path = pathlib.Path('c:/src/Orchid.IntegrationTestData/')\n",
    "project_path_names = toolz.valmap(\n",
    "    lambda fn: test_data_path.joinpath(fn), project_filenames\n",
    ")\n",
    "project_path_names"
   ]
  },
  {
   "cell_type": "code",
   "execution_count": 8,
   "metadata": {
    "collapsed": false,
    "jupyter": {
     "outputs_hidden": false
    },
    "pycharm": {
     "name": "#%%\n"
    }
   },
   "outputs": [
    {
     "data": {
      "text/plain": [
       "{'permian-a': <Orchid.FractureDiagnostics.Factories.Implementations.Project object at 0x000001B149245100>}"
      ]
     },
     "execution_count": 8,
     "metadata": {},
     "output_type": "execute_result"
    }
   ],
   "source": [
    "projects = toolz.valmap(\n",
    "    lambda pn: opl.ProjectLoader(str(pn)).native_project(),\n",
    "    project_path_names)\n",
    "projects"
   ]
  },
  {
   "cell_type": "code",
   "execution_count": 9,
   "metadata": {
    "collapsed": false,
    "jupyter": {
     "outputs_hidden": false
    },
    "pycharm": {
     "name": "#%%\n"
    }
   },
   "outputs": [
    {
     "data": {
      "text/plain": [
       "{'permian-a': {<System.Guid object at 0x000001B14922B910>: <Orchid.FractureDiagnostics.Factories.DataFrames.ProjectDataFrame object at 0x000001B14922BFA0>,\n",
       "  <System.Guid object at 0x000001B149245CD0>: <Orchid.FractureDiagnostics.Factories.DataFrames.ObservationSetDataFrame object at 0x000001B149245CA0>,\n",
       "  <System.Guid object at 0x000001B149245F40>: <Orchid.FractureDiagnostics.Factories.DataFrames.MicroseismicDataFrame object at 0x000001B149245F10>}}"
      ]
     },
     "execution_count": 9,
     "metadata": {},
     "output_type": "execute_result"
    }
   ],
   "source": [
    "def make_project_data_frames_by_id(project):\n",
    "    return {df.ObjectId: df for df in project.DataFrames.Items}\n",
    "\n",
    "project_net_data_frames_by_id = toolz.pipe(\n",
    "    projects,\n",
    "    toolz.valmap(make_project_data_frames_by_id),\n",
    ")\n",
    "project_net_data_frames_by_id"
   ]
  },
  {
   "cell_type": "code",
   "execution_count": 10,
   "metadata": {
    "collapsed": false,
    "jupyter": {
     "outputs_hidden": false
    },
    "pycharm": {
     "name": "#%%\n"
    }
   },
   "outputs": [
    {
     "data": {
      "text/plain": [
       "{'permian-a': {'Project Data Frame 01': <Orchid.FractureDiagnostics.Factories.DataFrames.ProjectDataFrame object at 0x000001B12D7A0880>,\n",
       "  'FDI Observations': <Orchid.FractureDiagnostics.Factories.DataFrames.ObservationSetDataFrame object at 0x000001B149239790>,\n",
       "  'C3-Microseismic Data Frame 01': <Orchid.FractureDiagnostics.Factories.DataFrames.MicroseismicDataFrame object at 0x000001B149239D00>}}"
      ]
     },
     "execution_count": 10,
     "metadata": {},
     "output_type": "execute_result"
    }
   ],
   "source": [
    "def make_project_data_frames_by_name(project):\n",
    "    return {df.Name: df for df in project.DataFrames.Items}\n",
    "\n",
    "project_net_data_frames_by_name = toolz.pipe(\n",
    "    projects,\n",
    "    toolz.valmap(make_project_data_frames_by_name),\n",
    ")\n",
    "project_net_data_frames_by_name"
   ]
  },
  {
   "cell_type": "code",
   "execution_count": 11,
   "metadata": {
    "collapsed": false,
    "jupyter": {
     "outputs_hidden": false
    },
    "pycharm": {
     "name": "#%%\n"
    }
   },
   "outputs": [
    {
     "data": {
      "text/plain": [
       "3"
      ]
     },
     "execution_count": 11,
     "metadata": {},
     "output_type": "execute_result"
    }
   ],
   "source": [
    "len(list(toolz.get('permian-a', project_net_data_frames_by_name)))\n",
    "# len(list(toolz.get('gng', project_net_data_frames_by_name)))"
   ]
  },
  {
   "cell_type": "code",
   "execution_count": 12,
   "metadata": {
    "collapsed": false,
    "jupyter": {
     "outputs_hidden": false
    },
    "pycharm": {
     "name": "#%%\n"
    }
   },
   "outputs": [
    {
     "data": {
      "text/plain": [
       "{'permian-a': {'Project Data Frame 01': <Orchid.FractureDiagnostics.Factories.DataFrames.ProjectDataFrame object at 0x000001B12D7A0880>,\n",
       "  'FDI Observations': <Orchid.FractureDiagnostics.Factories.DataFrames.ObservationSetDataFrame object at 0x000001B149239790>,\n",
       "  'C3-Microseismic Data Frame 01': <Orchid.FractureDiagnostics.Factories.DataFrames.MicroseismicDataFrame object at 0x000001B149239D00>}}"
      ]
     },
     "execution_count": 12,
     "metadata": {},
     "output_type": "execute_result"
    }
   ],
   "source": [
    "project_net_data_frames_by_name"
   ]
  },
  {
   "cell_type": "code",
   "execution_count": 13,
   "metadata": {
    "collapsed": false,
    "jupyter": {
     "outputs_hidden": false
    },
    "pycharm": {
     "name": "#%%\n"
    }
   },
   "outputs": [
    {
     "data": {
      "text/plain": [
       "{'permian-a': {'FDI Observations': <Orchid.FractureDiagnostics.Factories.DataFrames.ObservationSetDataFrame object at 0x000001B149239790>}}"
      ]
     },
     "execution_count": 13,
     "metadata": {},
     "output_type": "execute_result"
    }
   ],
   "source": [
    "# horizon_only = toolz.valmap(\n",
    "#     toolz.keyfilter(lambda n: n == 'Horizon Marker Set Data Frame01'),\n",
    "#                     project_net_data_frames_by_name)\n",
    "# horizon_only\n",
    "# microseismic_only = toolz.valmap(\n",
    "#     toolz.keyfilter(lambda n: n == 'C3-Microseismic Data Frame 01'),\n",
    "#     project_net_data_frames_by_name)\n",
    "# microseismic_only\n",
    "# project_only = toolz.valmap(\n",
    "#     toolz.keyfilter(lambda n: n == 'Project Data Frame 01'),\n",
    "#     project_net_data_frames_by_name)\n",
    "# project_only\n",
    "fdi_only = toolz.valmap(\n",
    "    toolz.keyfilter(lambda n: n == 'FDI Observations'),\n",
    "    project_net_data_frames_by_name)\n",
    "fdi_only\n"
   ]
  },
  {
   "cell_type": "code",
   "execution_count": 14,
   "metadata": {
    "collapsed": false,
    "jupyter": {
     "outputs_hidden": false
    },
    "pycharm": {
     "name": "#%%\n"
    }
   },
   "outputs": [
    {
     "data": {
      "text/plain": [
       "{'permian-a': {'FDI Observations': <Orchid.FractureDiagnostics.Factories.DataFrames.ObservationSetDataFrame object at 0x000001B149239790>}}"
      ]
     },
     "execution_count": 14,
     "metadata": {},
     "output_type": "execute_result"
    }
   ],
   "source": [
    "# project_net_data_frames_by_name = horizon_only\n",
    "# project_net_data_frames_by_name = microseismic_only\n",
    "# project_net_data_frames_by_name = project_only\n",
    "project_net_data_frames_by_name = fdi_only\n",
    "\n",
    "project_net_data_frames_by_name"
   ]
  },
  {
   "cell_type": "code",
   "execution_count": 15,
   "metadata": {
    "collapsed": false,
    "jupyter": {
     "outputs_hidden": false
    },
    "pycharm": {
     "name": "#%%\n"
    }
   },
   "outputs": [],
   "source": [
    "# Adapted from code at\n",
    "# https://docs.microsoft.com/en-us/dotnet/framework/data/adonet/dataset-datatable-dataview/creating-a-datareader\n",
    "# retrieved on 18-Apr-2021.\n",
    "\n",
    "def table_row_to_dict(reader):\n",
    "    def map_value(rv, col_type):\n",
    "        if rv == DBNull.Value:\n",
    "            return None\n",
    "        \n",
    "        if col_type == DateTimeOffset.UtcNow.GetType():\n",
    "            return rv.ToString('o')\n",
    "            \n",
    "        if col_type == DateTime.UtcNow.GetType():\n",
    "            rv_text = rv.ToString('o')\n",
    "            print(f'\"{rv_text}\" {col_type}')\n",
    "            raise TypeError(f'Unexpected `DateTime` {rv_text}')\n",
    "\n",
    "        return rv\n",
    "    \n",
    "    seed = {'Sample': None}\n",
    "    indices = range(reader.FieldCount)\n",
    "    names = [reader.GetName(i) for i in indices]\n",
    "    col_types = [reader.GetFieldType(i) for i in indices]\n",
    "    raw_values = [reader[name] for name in names]\n",
    "    values = toolz.map(map_value, raw_values, col_types)\n",
    "    table_result = dict(zip(names, values))\n",
    "    result = toolz.merge(seed, table_result)\n",
    "    return result\n",
    "\n",
    "def read_data_table(data_table):\n",
    "    reader = data_table.CreateDataReader()\n",
    "    try:\n",
    "        while True:\n",
    "            if reader.HasRows:\n",
    "                has_row = reader.Read()\n",
    "                while has_row:\n",
    "                    yield table_row_to_dict(reader)\n",
    "                    has_row = reader.Read()\n",
    "            else:\n",
    "                return\n",
    "            if not reader.NextResult():\n",
    "                break\n",
    "    finally:\n",
    "        reader.Dispose()\n",
    "\n",
    "def table_to_data_frame(data_table):\n",
    "    return pd.DataFrame(data=[r for r in read_data_table(data_table)])"
   ]
  },
  {
   "cell_type": "code",
   "execution_count": 16,
   "metadata": {
    "collapsed": false,
    "jupyter": {
     "outputs_hidden": false
    },
    "pycharm": {
     "name": "#%%\n"
    }
   },
   "outputs": [],
   "source": [
    "net_data_frame_to_pandas_data_frame = toolz.compose(table_to_data_frame,\n",
    "                                                    lambda net_df: net_df.DataTable)\n",
    "\n",
    "project_pandas_data_frames_by_name = toolz.pipe(\n",
    "    project_net_data_frames_by_name,\n",
    "    toolz.valmap(toolz.valmap(net_data_frame_to_pandas_data_frame)),\n",
    ")"
   ]
  },
  {
   "cell_type": "code",
   "execution_count": 17,
   "metadata": {
    "collapsed": false,
    "jupyter": {
     "outputs_hidden": false
    },
    "pycharm": {
     "name": "#%%\n"
    }
   },
   "outputs": [
    {
     "name": "stdout",
     "output_type": "stream",
     "text": [
      "['Sample', 'ProjectName', 'ObservationSetName', 'MonitorName', 'MonitorWellName', 'MonitorStageNumber', 'TreatmentWellName', 'TreatmentStagePartNumber', 'SignalQuality', 'Timestamp', 'DeltaT', 'DeltaP', 'VolumeToPick', 'ProppantMass', 'Energy', 'Notes', 'Shortest distance', 'Distance along the Azimuth']\n"
     ]
    }
   ],
   "source": [
    "# gng_project_frame_columns = list(\n",
    "#     toolz.get_in(['gng', 'Project Data Frame 01'],\n",
    "#                  project_pandas_data_frames_by_name).columns.values\n",
    "# )\n",
    "# print(gng_project_frame_columns)\n",
    "# permian_project_frame_columns = list(\n",
    "#     toolz.get_in(['permian-a', 'Project Data Frame 01'],\n",
    "#                  project_pandas_data_frames_by_name).columns.values\n",
    "# )\n",
    "# print(permian_project_frame_columns)\n",
    "permian_fdi_frame_columns = list(\n",
    "    toolz.get_in(['permian-a', 'FDI Observations'],\n",
    "                 project_pandas_data_frames_by_name).columns.values\n",
    ")\n",
    "print(permian_fdi_frame_columns)\n",
    "# permian_microseismic_frame_columns = list(\n",
    "#     toolz.get_in(['permian-a', 'C3-Microseismic Data Frame 01'],\n",
    "#                  project_pandas_data_frames_by_name).columns.values\n",
    "# )\n",
    "# print(permian_microseismic_frame_columns)"
   ]
  },
  {
   "cell_type": "code",
   "execution_count": 18,
   "metadata": {
    "collapsed": false,
    "jupyter": {
     "outputs_hidden": false
    },
    "pycharm": {
     "name": "#%%\n"
    }
   },
   "outputs": [
    {
     "data": {
      "text/plain": [
       "['ObservationSetName',\n",
       " 'TreatmentStagePartNumber',\n",
       " 'Timestamp',\n",
       " 'DeltaT',\n",
       " 'DeltaP',\n",
       " 'VolumeToPick']"
      ]
     },
     "execution_count": 18,
     "metadata": {},
     "output_type": "execute_result"
    }
   ],
   "source": [
    "# gng_project_sampled_columns = [\n",
    "#     'Surface  Hole Easting ', 'Bottom Hole Northing ', 'Bottom Hole TDV ',\n",
    "#     'StageNumber', 'StageLength', 'Pnet'\n",
    "# ]\n",
    "# gng_project_sampled_columns\n",
    "# permian_project_sampled_columns = [\n",
    "#     'Bottom Hole Easting ', 'MDBottom', 'PartEndTime',\n",
    "#     'StagePartPumpedVolume', 'Pnet', 'PumpTime'\n",
    "# ]\n",
    "# permian_project_sampled_columns\n",
    "permian_fdi_sampled_columns = [\n",
    "    'ObservationSetName', 'TreatmentStagePartNumber', 'Timestamp',\n",
    "    'DeltaT', 'DeltaP', 'VolumeToPick'\n",
    "]\n",
    "permian_fdi_sampled_columns\n",
    "# permian_microseismic_sampled_columns = [\n",
    "#     'Timestamp', 'Northing', 'DepthTvdSs',\n",
    "#     'Distance3d', 'PlanarDistanceAzimuth', 'VerticalDistance',\n",
    "# ]\n",
    "# permian_microseismic_sampled_columns"
   ]
  },
  {
   "cell_type": "code",
   "execution_count": 19,
   "metadata": {
    "collapsed": false,
    "jupyter": {
     "outputs_hidden": false
    },
    "pycharm": {
     "name": "#%%\n"
    }
   },
   "outputs": [
    {
     "data": {
      "text/plain": [
       "[2, 7, 9, 10, 11, 12]"
      ]
     },
     "execution_count": 19,
     "metadata": {},
     "output_type": "execute_result"
    }
   ],
   "source": [
    "# [gng_project_frame_columns.index(cn) for cn in permian_project_sampled_columns]\n",
    "# [permian_project_frame_columns.index(cn) for cn in permian_project_sampled_columns]\n",
    "[permian_fdi_frame_columns.index(cn) for cn in permian_fdi_sampled_columns]"
   ]
  },
  {
   "cell_type": "code",
   "execution_count": 20,
   "metadata": {
    "collapsed": false,
    "jupyter": {
     "outputs_hidden": false
    },
    "pycharm": {
     "name": "#%%\n"
    }
   },
   "outputs": [],
   "source": [
    "all_indices = toolz.compose(list, range, len)\n",
    "\n",
    "@toolz.curry\n",
    "def sample_data_frame_column_indices(data_frame):\n",
    "    # Ignore the seeded `Sample` column and the `ProjectName` column\n",
    "    candidate_column_indices = all_indices(data_frame.columns)[2:]\n",
    "    random.shuffle(candidate_column_indices)\n",
    "    # Randomly sample six columns in addition to the 'Sample' column\n",
    "    # result = [0] + sorted(candidate_column_indices[:6])\n",
    "    # # Permian project\n",
    "    # result = toolz.concatv(['Sample'], permian_project_sampled_columns)\n",
    "    # Permian FDI\n",
    "    result = toolz.concatv(['Sample'], permian_fdi_sampled_columns)\n",
    "    return result\n",
    "\n",
    "@toolz.curry\n",
    "def sample_data_frame_row_indices(data_frame):\n",
    "    candidate_row_indices = all_indices(data_frame)[1:-1]\n",
    "    random.shuffle(candidate_row_indices)\n",
    "    # result = [0, 23, 37, 58, 65, 89, 170, 210]  # GnG project\n",
    "    # result = [0, 31, 39, 51, 52, 58, 62, 87]  # Permian project\n",
    "    # Added sample 26 to FDI observations because of MaxValue issues\n",
    "    result = [0, 1, 20, 26, 28, 45, 52, 53, 83]  # Permian fdi\n",
    "    # result = [0, 12, 79, 96, 99, 330, 366, 479]  # Permian microseismic\n",
    "    return result"
   ]
  },
  {
   "cell_type": "code",
   "execution_count": 21,
   "metadata": {
    "collapsed": false,
    "jupyter": {
     "outputs_hidden": false
    },
    "pycharm": {
     "name": "#%%\n"
    }
   },
   "outputs": [],
   "source": [
    "@toolz.curry\n",
    "def sample_data_frame_indices(indices_func, data_frame):\n",
    "    return indices_func(data_frame)"
   ]
  },
  {
   "cell_type": "code",
   "execution_count": 22,
   "metadata": {
    "collapsed": false,
    "jupyter": {
     "outputs_hidden": false
    },
    "pycharm": {
     "name": "#%%\n"
    }
   },
   "outputs": [
    {
     "data": {
      "text/plain": [
       "{'permian-a': {'FDI Observations': <itertools.chain at 0x1b146c66d60>}}"
      ]
     },
     "execution_count": 22,
     "metadata": {},
     "output_type": "execute_result"
    }
   ],
   "source": [
    "sampled_column_indices_by_name = toolz.valmap(\n",
    "    toolz.valmap(sample_data_frame_column_indices), project_pandas_data_frames_by_name\n",
    ")\n",
    "sampled_column_indices_by_name"
   ]
  },
  {
   "cell_type": "code",
   "execution_count": 23,
   "metadata": {
    "collapsed": false,
    "jupyter": {
     "outputs_hidden": false
    },
    "pycharm": {
     "name": "#%%\n"
    }
   },
   "outputs": [
    {
     "data": {
      "text/plain": [
       "{'permian-a': {'FDI Observations': [0, 1, 20, 26, 28, 45, 52, 53, 83]}}"
      ]
     },
     "execution_count": 23,
     "metadata": {},
     "output_type": "execute_result"
    }
   ],
   "source": [
    "sampled_row_indices_by_name = toolz.valmap(toolz.valmap(sample_data_frame_row_indices),\n",
    "                                           project_pandas_data_frames_by_name)\n",
    "sampled_row_indices_by_name"
   ]
  },
  {
   "cell_type": "code",
   "execution_count": 24,
   "metadata": {
    "collapsed": false,
    "jupyter": {
     "outputs_hidden": false
    },
    "pycharm": {
     "name": "#%%\n"
    }
   },
   "outputs": [
    {
     "data": {
      "text/plain": [
       "{'permian-a': {'FDI Observations': (   Sample                         ProjectName ObservationSetName  \\\n",
       "   0       0  frankNstein_Permian_UTM13FT_Phase2   FDI Observations   \n",
       "   1       1  frankNstein_Permian_UTM13FT_Phase2   FDI Observations   \n",
       "   2    None  frankNstein_Permian_UTM13FT_Phase2   FDI Observations   \n",
       "   3    None  frankNstein_Permian_UTM13FT_Phase2   FDI Observations   \n",
       "   4    None  frankNstein_Permian_UTM13FT_Phase2   FDI Observations   \n",
       "   ..    ...                                 ...                ...   \n",
       "   79   None  frankNstein_Permian_UTM13FT_Phase2   FDI Observations   \n",
       "   80   None  frankNstein_Permian_UTM13FT_Phase2   FDI Observations   \n",
       "   81   None  frankNstein_Permian_UTM13FT_Phase2   FDI Observations   \n",
       "   82   None  frankNstein_Permian_UTM13FT_Phase2   FDI Observations   \n",
       "   83     83  frankNstein_Permian_UTM13FT_Phase2   FDI Observations   \n",
       "   \n",
       "                    MonitorName MonitorWellName MonitorStageNumber  \\\n",
       "   0   P1 - 12555 - MonitorWell              P1               None   \n",
       "   1   P1 - 12555 - MonitorWell              P1               None   \n",
       "   2   P1 - 12555 - MonitorWell              P1               None   \n",
       "   3   P1 - 12555 - MonitorWell              P1               None   \n",
       "   4   P1 - 12555 - MonitorWell              P1               None   \n",
       "   ..                       ...             ...                ...   \n",
       "   79  P1 - 12555 - MonitorWell              P1               None   \n",
       "   80  P1 - 12555 - MonitorWell              P1               None   \n",
       "   81  P1 - 12555 - MonitorWell              P1               None   \n",
       "   82  P1 - 12555 - MonitorWell              P1               None   \n",
       "   83  P1 - 12555 - MonitorWell              P1               None   \n",
       "   \n",
       "      TreatmentWellName TreatmentStagePartNumber  \\\n",
       "   0                 C1                 Stage-01   \n",
       "   1                 C1                 Stage-02   \n",
       "   2                 C1                 Stage-03   \n",
       "   3                 C1                 Stage-04   \n",
       "   4                 C1                 Stage-05   \n",
       "   ..               ...                      ...   \n",
       "   79                C3                 Stage-27   \n",
       "   80                C3                 Stage-28   \n",
       "   81                C3                 Stage-29   \n",
       "   82                C3                 Stage-30   \n",
       "   83                C3                 Stage-31   \n",
       "   \n",
       "                                           SignalQuality  \\\n",
       "   0   Undrained Rock Deformation - Compressive Inter...   \n",
       "   1   Undrained Rock Deformation - Compressive Inter...   \n",
       "   2                         Fluid Migration Interaction   \n",
       "   3                         Fluid Migration Interaction   \n",
       "   4                         Fluid Migration Interaction   \n",
       "   ..                                                ...   \n",
       "   79  Undrained Rock Deformation - Compressive Inter...   \n",
       "   80  Undrained Rock Deformation - Compressive Inter...   \n",
       "   81  Undrained Rock Deformation - Compressive Inter...   \n",
       "   82  Undrained Rock Deformation - Compressive Inter...   \n",
       "   83  Undrained Rock Deformation - Compressive Inter...   \n",
       "   \n",
       "                               Timestamp            DeltaT     DeltaP  \\\n",
       "   0   2018-11-13T21:45:11.9873152+00:00  01:22:18.9873152   0.362115   \n",
       "   1   2018-11-14T23:46:24.4282880+00:00  01:49:01.4282880   0.595053   \n",
       "   2   2018-11-15T07:26:57.5897600+00:00  02:51:32.5897600  11.214450   \n",
       "   3   2018-11-15T15:34:06.0000000+00:00          02:38:36  28.611089   \n",
       "   4   2018-11-15T23:06:03.0000000+00:00          02:45:22  34.879428   \n",
       "   ..                                ...               ...        ...   \n",
       "   79  2018-11-28T03:31:16.1151232+00:00  02:04:34.1151232  35.843682   \n",
       "   80  2018-11-28T08:40:13.8205568+00:00  01:23:29.8205568  33.757328   \n",
       "   81  2018-11-28T14:55:52.0341504+00:00  01:58:35.0341504  27.757442   \n",
       "   82  2018-11-28T22:38:56.0913024+00:00  02:09:30.0913024  45.317334   \n",
       "   83  2018-11-29T04:02:02.8648576+00:00  01:55:11.8648576  31.818509   \n",
       "   \n",
       "       VolumeToPick   ProppantMass        Energy Notes  Shortest distance  \\\n",
       "   0    4299.649417  135495.624893  10824.599202  None         628.092773   \n",
       "   1    5009.373675  193158.304391  12299.932376  None         633.322266   \n",
       "   2    8004.559342  334811.385861  22014.279659  None         627.915833   \n",
       "   3    8476.954683  358476.360891  23558.858223  None         626.517273   \n",
       "   4    8083.696100  333254.458380  22135.013861  None         628.473938   \n",
       "   ..           ...            ...           ...   ...                ...   \n",
       "   79   7038.553958  282750.453424  18616.019522  None         373.970459   \n",
       "   80   4433.381508  146832.781452  11902.579364  None         375.462494   \n",
       "   81   6562.597983  254136.863963  17789.300481  None         372.877899   \n",
       "   82   7283.534992  284958.659299  18342.982949  None         359.464264   \n",
       "   83   6803.360483  258659.430068  18041.737741  None         318.085876   \n",
       "   \n",
       "       Distance along the Azimuth  \n",
       "   0                   627.625427  \n",
       "   1                   632.407715  \n",
       "   2                   627.526733  \n",
       "   3                   626.399109  \n",
       "   4                   629.201111  \n",
       "   ..                         ...  \n",
       "   79                  374.012573  \n",
       "   80                  372.811768  \n",
       "   81                  372.951263  \n",
       "   82                  358.738800  \n",
       "   83                  321.932404  \n",
       "   \n",
       "   [84 rows x 18 columns],\n",
       "   [0, 1, 20, 26, 28, 45, 52, 53, 83],\n",
       "   <itertools.chain at 0x1b146c66d60>)}}"
      ]
     },
     "execution_count": 24,
     "metadata": {},
     "output_type": "execute_result"
    }
   ],
   "source": [
    "def add_sample_numbers(items):\n",
    "    data_frame, row_indices, column_indices = items\n",
    "    sample_index = (list(data_frame.columns.values)).index('Sample')\n",
    "    for row_index in row_indices:\n",
    "        data_frame.iloc[row_index, [sample_index]] = row_index\n",
    "    return data_frame, row_indices, column_indices\n",
    "\n",
    "data_frames_to_sample_by_name = toolz.merge_with(toolz.merge_with(add_sample_numbers),\n",
    "                                                 project_pandas_data_frames_by_name,\n",
    "                                                 sampled_row_indices_by_name,\n",
    "                                                 sampled_column_indices_by_name)\n",
    "data_frames_to_sample_by_name"
   ]
  },
  {
   "cell_type": "code",
   "execution_count": 25,
   "metadata": {
    "collapsed": false,
    "jupyter": {
     "outputs_hidden": false
    },
    "pycharm": {
     "name": "#%%\n"
    }
   },
   "outputs": [],
   "source": [
    "def sample_data_frame(data_frame, row_indices, column_indices):\n",
    "    result = data_frame.iloc[row_indices, :].loc[:, column_indices]\n",
    "    return result"
   ]
  },
  {
   "cell_type": "code",
   "execution_count": 26,
   "metadata": {
    "collapsed": false,
    "jupyter": {
     "outputs_hidden": false
    },
    "pycharm": {
     "name": "#%%\n"
    }
   },
   "outputs": [
    {
     "data": {
      "text/plain": [
       "{'permian-a': {'FDI Observations':    Sample ObservationSetName TreatmentStagePartNumber  \\\n",
       "  0       0   FDI Observations                 Stage-01   \n",
       "  1       1   FDI Observations                 Stage-02   \n",
       "  20     20   FDI Observations                 Stage-19   \n",
       "  26     26   FDI Observations                 Stage-25   \n",
       "  28     28   FDI Observations                 Stage-02   \n",
       "  45     45   FDI Observations                 Stage-20   \n",
       "  52     52   FDI Observations                 Stage-29   \n",
       "  53     53   FDI Observations                 Stage-01   \n",
       "  83     83   FDI Observations                 Stage-31   \n",
       "  \n",
       "                              Timestamp                    DeltaT      DeltaP  \\\n",
       "  0   2018-11-13T21:45:11.9873152+00:00          01:22:18.9873152    0.362115   \n",
       "  1   2018-11-14T23:46:24.4282880+00:00          01:49:01.4282880    0.595053   \n",
       "  20  2018-11-27T16:14:52.3412096+00:00          02:42:24.3412096   39.059964   \n",
       "  26  9999-12-31T23:59:59.9999999+00:00  2915032.19:26:39.9999999         NaN   \n",
       "  28  2018-11-13T04:20:10.0000000+00:00                  02:20:11    6.170513   \n",
       "  45  2018-11-24T16:39:09.0000000+00:00                  02:55:26   98.717645   \n",
       "  52  2018-11-27T19:13:34.1109888+00:00          02:01:22.1109888   94.454784   \n",
       "  53  2018-11-12T17:07:02.3021312+00:00          02:52:32.3021312  214.641797   \n",
       "  83  2018-11-29T04:02:02.8648576+00:00          01:55:11.8648576   31.818509   \n",
       "  \n",
       "      VolumeToPick  \n",
       "  0    4299.649417  \n",
       "  1    5009.373675  \n",
       "  20   8056.843667  \n",
       "  26   8532.661850  \n",
       "  28   9859.784375  \n",
       "  45  10014.638758  \n",
       "  52   5920.732675  \n",
       "  53  11681.990733  \n",
       "  83   6803.360483  }}"
      ]
     },
     "execution_count": 26,
     "metadata": {},
     "output_type": "execute_result"
    }
   ],
   "source": [
    "# sampled_project_data_frames_by_name = toolz.valmap(\n",
    "#     toolz.valmap(lambda e: sample_data_frame(*e)), data_frames_to_sample_by_name\n",
    "# )\n",
    "# sampled_project_data_frames_by_name\n",
    "sampled_fdi_data_frames_by_name = toolz.valmap(\n",
    "    toolz.valmap(lambda e: sample_data_frame(*e)), data_frames_to_sample_by_name\n",
    ")\n",
    "sampled_fdi_data_frames_by_name\n",
    "# sampled_microseismic_data_frames_by_name = toolz.valmap(\n",
    "#     toolz.valmap(lambda e: sample_data_frame(*e)), data_frames_to_sample_by_name\n",
    "# )\n",
    "# sampled_microseismic_data_frames_by_name"
   ]
  },
  {
   "cell_type": "code",
   "execution_count": 27,
   "metadata": {
    "collapsed": false,
    "jupyter": {
     "outputs_hidden": false
    },
    "pycharm": {
     "name": "#%%\n"
    }
   },
   "outputs": [
    {
     "data": {
      "text/html": [
       "<div>\n",
       "<style scoped>\n",
       "    .dataframe tbody tr th:only-of-type {\n",
       "        vertical-align: middle;\n",
       "    }\n",
       "\n",
       "    .dataframe tbody tr th {\n",
       "        vertical-align: top;\n",
       "    }\n",
       "\n",
       "    .dataframe thead th {\n",
       "        text-align: right;\n",
       "    }\n",
       "</style>\n",
       "<table border=\"1\" class=\"dataframe\">\n",
       "  <thead>\n",
       "    <tr style=\"text-align: right;\">\n",
       "      <th></th>\n",
       "      <th>Sample</th>\n",
       "      <th>ObservationSetName</th>\n",
       "      <th>TreatmentStagePartNumber</th>\n",
       "      <th>Timestamp</th>\n",
       "      <th>DeltaT</th>\n",
       "      <th>DeltaP</th>\n",
       "      <th>VolumeToPick</th>\n",
       "    </tr>\n",
       "  </thead>\n",
       "  <tbody>\n",
       "    <tr>\n",
       "      <th>0</th>\n",
       "      <td>0</td>\n",
       "      <td>FDI Observations</td>\n",
       "      <td>Stage-01</td>\n",
       "      <td>2018-11-13T21:45:11.9873152+00:00</td>\n",
       "      <td>01:22:18.9873152</td>\n",
       "      <td>0.362115</td>\n",
       "      <td>4299.649417</td>\n",
       "    </tr>\n",
       "    <tr>\n",
       "      <th>1</th>\n",
       "      <td>1</td>\n",
       "      <td>FDI Observations</td>\n",
       "      <td>Stage-02</td>\n",
       "      <td>2018-11-14T23:46:24.4282880+00:00</td>\n",
       "      <td>01:49:01.4282880</td>\n",
       "      <td>0.595053</td>\n",
       "      <td>5009.373675</td>\n",
       "    </tr>\n",
       "    <tr>\n",
       "      <th>20</th>\n",
       "      <td>20</td>\n",
       "      <td>FDI Observations</td>\n",
       "      <td>Stage-19</td>\n",
       "      <td>2018-11-27T16:14:52.3412096+00:00</td>\n",
       "      <td>02:42:24.3412096</td>\n",
       "      <td>39.059964</td>\n",
       "      <td>8056.843667</td>\n",
       "    </tr>\n",
       "    <tr>\n",
       "      <th>26</th>\n",
       "      <td>26</td>\n",
       "      <td>FDI Observations</td>\n",
       "      <td>Stage-25</td>\n",
       "      <td>9999-12-31T23:59:59.9999999+00:00</td>\n",
       "      <td>2915032.19:26:39.9999999</td>\n",
       "      <td>NaN</td>\n",
       "      <td>8532.661850</td>\n",
       "    </tr>\n",
       "    <tr>\n",
       "      <th>28</th>\n",
       "      <td>28</td>\n",
       "      <td>FDI Observations</td>\n",
       "      <td>Stage-02</td>\n",
       "      <td>2018-11-13T04:20:10.0000000+00:00</td>\n",
       "      <td>02:20:11</td>\n",
       "      <td>6.170513</td>\n",
       "      <td>9859.784375</td>\n",
       "    </tr>\n",
       "    <tr>\n",
       "      <th>45</th>\n",
       "      <td>45</td>\n",
       "      <td>FDI Observations</td>\n",
       "      <td>Stage-20</td>\n",
       "      <td>2018-11-24T16:39:09.0000000+00:00</td>\n",
       "      <td>02:55:26</td>\n",
       "      <td>98.717645</td>\n",
       "      <td>10014.638758</td>\n",
       "    </tr>\n",
       "    <tr>\n",
       "      <th>52</th>\n",
       "      <td>52</td>\n",
       "      <td>FDI Observations</td>\n",
       "      <td>Stage-29</td>\n",
       "      <td>2018-11-27T19:13:34.1109888+00:00</td>\n",
       "      <td>02:01:22.1109888</td>\n",
       "      <td>94.454784</td>\n",
       "      <td>5920.732675</td>\n",
       "    </tr>\n",
       "    <tr>\n",
       "      <th>53</th>\n",
       "      <td>53</td>\n",
       "      <td>FDI Observations</td>\n",
       "      <td>Stage-01</td>\n",
       "      <td>2018-11-12T17:07:02.3021312+00:00</td>\n",
       "      <td>02:52:32.3021312</td>\n",
       "      <td>214.641797</td>\n",
       "      <td>11681.990733</td>\n",
       "    </tr>\n",
       "    <tr>\n",
       "      <th>83</th>\n",
       "      <td>83</td>\n",
       "      <td>FDI Observations</td>\n",
       "      <td>Stage-31</td>\n",
       "      <td>2018-11-29T04:02:02.8648576+00:00</td>\n",
       "      <td>01:55:11.8648576</td>\n",
       "      <td>31.818509</td>\n",
       "      <td>6803.360483</td>\n",
       "    </tr>\n",
       "  </tbody>\n",
       "</table>\n",
       "</div>"
      ],
      "text/plain": [
       "   Sample ObservationSetName TreatmentStagePartNumber  \\\n",
       "0       0   FDI Observations                 Stage-01   \n",
       "1       1   FDI Observations                 Stage-02   \n",
       "20     20   FDI Observations                 Stage-19   \n",
       "26     26   FDI Observations                 Stage-25   \n",
       "28     28   FDI Observations                 Stage-02   \n",
       "45     45   FDI Observations                 Stage-20   \n",
       "52     52   FDI Observations                 Stage-29   \n",
       "53     53   FDI Observations                 Stage-01   \n",
       "83     83   FDI Observations                 Stage-31   \n",
       "\n",
       "                            Timestamp                    DeltaT      DeltaP  \\\n",
       "0   2018-11-13T21:45:11.9873152+00:00          01:22:18.9873152    0.362115   \n",
       "1   2018-11-14T23:46:24.4282880+00:00          01:49:01.4282880    0.595053   \n",
       "20  2018-11-27T16:14:52.3412096+00:00          02:42:24.3412096   39.059964   \n",
       "26  9999-12-31T23:59:59.9999999+00:00  2915032.19:26:39.9999999         NaN   \n",
       "28  2018-11-13T04:20:10.0000000+00:00                  02:20:11    6.170513   \n",
       "45  2018-11-24T16:39:09.0000000+00:00                  02:55:26   98.717645   \n",
       "52  2018-11-27T19:13:34.1109888+00:00          02:01:22.1109888   94.454784   \n",
       "53  2018-11-12T17:07:02.3021312+00:00          02:52:32.3021312  214.641797   \n",
       "83  2018-11-29T04:02:02.8648576+00:00          01:55:11.8648576   31.818509   \n",
       "\n",
       "    VolumeToPick  \n",
       "0    4299.649417  \n",
       "1    5009.373675  \n",
       "20   8056.843667  \n",
       "26   8532.661850  \n",
       "28   9859.784375  \n",
       "45  10014.638758  \n",
       "52   5920.732675  \n",
       "53  11681.990733  \n",
       "83   6803.360483  "
      ]
     },
     "execution_count": 27,
     "metadata": {},
     "output_type": "execute_result"
    }
   ],
   "source": [
    "# toolz.get_in(['gng', 'Project Data Frame 01'],\n",
    "#              sampled_project_data_frames_by_name)\n",
    "# toolz.get_in(['permian-a', 'Project Data Frame 01'],\n",
    "#              sampled_project_data_frames_by_name)\n",
    "toolz.get_in(['permian-a', 'FDI Observations'],\n",
    "             sampled_fdi_data_frames_by_name)"
   ]
  }
 ],
 "metadata": {
  "kernelspec": {
   "display_name": "Python 3",
   "language": "python",
   "name": "python3"
  },
  "language_info": {
   "codemirror_mode": {
    "name": "ipython",
    "version": 3
   },
   "file_extension": ".py",
   "mimetype": "text/x-python",
   "name": "python",
   "nbconvert_exporter": "python",
   "pygments_lexer": "ipython3",
   "version": "3.8.7"
  }
 },
 "nbformat": 4,
 "nbformat_minor": 4
}
