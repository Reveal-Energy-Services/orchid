{
 "cells": [
  {
   "cell_type": "code",
   "execution_count": 1,
   "metadata": {
    "collapsed": false,
    "jupyter": {
     "outputs_hidden": false
    },
    "pycharm": {
     "name": "#%%\n"
    }
   },
   "outputs": [],
   "source": [
    "#  Copyright 2017-2021 Reveal Energy Services, Inc\n",
    "#\n",
    "#  Licensed under the Apache License, Version 2.0 (the \"License\");\n",
    "#  you may not use this file except in compliance with the License.\n",
    "#  You may obtain a copy of the License at\n",
    "#\n",
    "#      http://www.apache.org/licenses/LICENSE-2.0\n",
    "#\n",
    "#  Unless required by applicable law or agreed to in writing, software\n",
    "#  distributed under the License is distributed on an \"AS IS\" BASIS,\n",
    "#  WITHOUT WARRANTIES OR CONDITIONS OF ANY KIND, either express or implied.\n",
    "#  See the License for the specific language governing permissions and\n",
    "#  limitations under the License.\n",
    "#\n",
    "# This file is part of Orchid and related technologies.\n",
    "#"
   ]
  },
  {
   "cell_type": "markdown",
   "metadata": {},
   "source": [
    "# Tutorial DOM walk-through"
   ]
  },
  {
   "cell_type": "markdown",
   "metadata": {},
   "source": [
    "This notebook is a live tutorial on illustrating how to navigate through an Orchid* project.\n",
    "\n",
    "(*Orchid is a mark of Reveal Energy Services, Inc)"
   ]
  },
  {
   "cell_type": "markdown",
   "source": [
    "## 0.5 Import packages"
   ],
   "metadata": {
    "collapsed": false
   }
  },
  {
   "cell_type": "markdown",
   "metadata": {},
   "source": [
    "The only import needed for the Python API is `orchid` itself."
   ]
  },
  {
   "cell_type": "code",
   "execution_count": 2,
   "metadata": {
    "collapsed": false,
    "jupyter": {
     "outputs_hidden": false
    },
    "pycharm": {
     "name": "#%%\n"
    }
   },
   "outputs": [],
   "source": [
    "import orchid"
   ]
  },
  {
   "cell_type": "markdown",
   "source": [
    "Other imports"
   ],
   "metadata": {
    "collapsed": false,
    "pycharm": {
     "name": "#%% md\n"
    }
   }
  },
  {
   "cell_type": "code",
   "execution_count": null,
   "outputs": [],
   "source": [
    "import uuid"
   ],
   "metadata": {
    "collapsed": false,
    "pycharm": {
     "name": "#%%\n"
    }
   }
  },
  {
   "cell_type": "markdown",
   "source": [
    "## 1.0 Load the .ifrac project"
   ],
   "metadata": {
    "collapsed": false
   }
  },
  {
   "cell_type": "markdown",
   "metadata": {},
   "source": [
    "The following code simply captures the configured location of the Orchid training data. It is not needed to\n",
    "use the Orchid Python API itself, but it is used in this example to load a well-known `.ifrac` file."
   ]
  },
  {
   "cell_type": "code",
   "execution_count": 3,
   "metadata": {
    "pycharm": {
     "name": "#%%\n"
    }
   },
   "outputs": [],
   "source": [
    "orchid_training_data_path = orchid.training_data_path()"
   ]
  },
  {
   "cell_type": "code",
   "execution_count": 4,
   "metadata": {
    "collapsed": false,
    "jupyter": {
     "outputs_hidden": false
    },
    "pycharm": {
     "is_executing": true,
     "name": "#%%\n"
    }
   },
   "outputs": [],
   "source": [
    "project = orchid.load_project(str(orchid_training_data_path.joinpath(\n",
    "    'frankNstein_Bakken_UTM13_FEET.ifrac')))"
   ]
  },
  {
   "cell_type": "markdown",
   "metadata": {},
   "source": [
    "Our project is now loaded in memory. An Orchid project has many collections of other items. For example, a\n",
    "project has a collection of wells, and a well has a collection of stages.\n",
    "\n",
    "Each of these objects, for example, each well and each stage, is identified by a unique identifier (an\n",
    "instance of `uuid.UUID`). However, these identifiers, in order to be unique, are **not** easily remembered by\n",
    "people. Further, Orchid **does not** require that alternatives, like a well name or display name, be unique.\n",
    "To allow for convenient searching, project objects like wells and stages are kept in a\n",
    "`SearchableProjectObjects` collection. This class provides methods for searching for more specific instances:\n",
    "\n",
    "- `find_by_object_id()` - Returns the matching object or `None` if no such object exists\n",
    "- `find_by_name()` - Returns an **iterator** of matching objects (since more than one may match).\n",
    "- `find_by_display_name()` - Returns an **iterator** of matching objects.\n",
    "\n",
    "It provides methods returning all valid values of these keys:\n",
    "\n",
    "- `all_object_ids()`\n",
    "- `all_names()`\n",
    "- `all_display_names()`\n",
    "\n",
    "Since `find_by_object_id()`, `find_by_name()` and `find_by_display_name()` do not exhaust the criteria you\n",
    "might want to use to find objects of interest, we have included a more generic method, `find()`, that takes a\n",
    "predicate (a callable) and returns an iterator over all objects for which the predicate returns `True`."
   ]
  },
  {
   "cell_type": "markdown",
   "metadata": {},
   "source": [
    "## 2.0 Query well \"keys\""
   ]
  },
  {
   "cell_type": "code",
   "execution_count": 6,
   "metadata": {
    "collapsed": false,
    "jupyter": {
     "outputs_hidden": false
    },
    "pycharm": {
     "name": "#%%\n"
    }
   },
   "outputs": [
    {
     "name": "stdout",
     "output_type": "stream",
     "text": [
      "all_well_names = ${all_well_names}\n"
     ]
    }
   ],
   "source": [
    "all_well_names = list(project.wells().all_names())\n",
    "print(f\"all_well_names = {all_well_names}\")"
   ]
  },
  {
   "cell_type": "code",
   "execution_count": null,
   "metadata": {
    "collapsed": false,
    "jupyter": {
     "outputs_hidden": false
    },
    "pycharm": {
     "name": "#%%\n"
    }
   },
   "outputs": [],
   "source": [
    "all_well_display_names = list(project.wells().all_display_names())\n",
    "print(f\"all_well_display_names = {all_well_display_names}\")"
   ]
  },
  {
   "cell_type": "code",
   "execution_count": null,
   "metadata": {
    "collapsed": false,
    "jupyter": {
     "outputs_hidden": false
    },
    "pycharm": {
     "name": "#%%\n"
    }
   },
   "outputs": [],
   "source": [
    "all_well_object_ids = list(project.wells().all_object_ids())\n",
    "print(f\"all_well_object_ids = {all_well_object_ids}\")"
   ]
  },
  {
   "cell_type": "markdown",
   "metadata": {
    "pycharm": {
     "name": "#%% md\n"
    }
   },
   "source": [
    "## 3.0 Find well by \"key\""
   ]
  },
  {
   "cell_type": "code",
   "execution_count": null,
   "metadata": {
    "collapsed": false,
    "jupyter": {
     "outputs_hidden": false
    },
    "pycharm": {
     "name": "#%%\n"
    }
   },
   "outputs": [],
   "source": [
    "# `find_by_name` returns an iterable\n",
    "wells_of_interest_by_name = list(project.wells().find_by_name('Demo_1H'))\n",
    "for well_of_interest_by_name in wells_of_interest_by_name:\n",
    "    print(f'well_of_interest_by_name=Well(name={well_of_interest_by_name.name},',\n",
    "          f'display_name={well_of_interest_by_name.display_name}, '\n",
    "          f'object_id={well_of_interest_by_name.object_id})')"
   ]
  },
  {
   "cell_type": "code",
   "execution_count": null,
   "outputs": [],
   "source": [
    "# `find_by_display_name` returns an iterable\n",
    "wells_of_interest_by_display_name = list(project.wells().find_by_display_name('Demo_2H'))\n",
    "for well_of_interest_by_display_name in wells_of_interest_by_display_name:\n",
    "    print(f'well_of_interest_by_display_name=Well(name={well_of_interest_by_display_name.name},',\n",
    "          f'display_name={well_of_interest_by_display_name.display_name}, '\n",
    "          f'object_id={well_of_interest_by_display_name.object_id})')"
   ],
   "metadata": {
    "collapsed": false,
    "pycharm": {
     "name": "#%%\n"
    }
   }
  },
  {
   "cell_type": "code",
   "execution_count": null,
   "outputs": [],
   "source": [
    "# `find_by_object_id` returns either a matching well or None\n",
    "\n",
    "# Match found\n",
    "object_id = '9fe727b0-5fd1-4240-b475-51c1363edb0d'\n",
    "well_of_interest_by_object_id = project.wells().find_by_object_id(uuid.UUID(object_id))\n",
    "if well_of_interest_by_object_id is not None:\n",
    "    print(f\"well_of_interest_by_object_id=Well(name={well_of_interest_by_object_id.name},\",\n",
    "          f\"display_name={well_of_interest_by_object_id.display_name}, \"\n",
    "          f\"object_id={well_of_interest_by_object_id.object_id})\")\n",
    "else:\n",
    "    print(f'No well matching object ID, \"{object_id}\"')"
   ],
   "metadata": {
    "collapsed": false,
    "pycharm": {
     "name": "#%%\n"
    }
   }
  },
  {
   "cell_type": "code",
   "execution_count": null,
   "outputs": [],
   "source": [
    "# No match found\n",
    "object_id = '9fe727b0-5fd1-4240-b475-51c1363edb0e'\n",
    "well_of_interest_by_object_id = project.wells().find_by_object_id(uuid.UUID(object_id))\n",
    "if well_of_interest_by_object_id is not None:\n",
    "    print(f\"well_of_interest_by_object_id=Well(name={well_of_interest_by_object_id.name},\",\n",
    "          f\"display_name={well_of_interest_by_object_id.display_name}, \"\n",
    "          f\"object_id={well_of_interest_by_object_id.object_id})\")\n",
    "else:\n",
    "    print(f'No well matching object ID, \"{object_id}\"')"
   ],
   "metadata": {
    "collapsed": false,
    "pycharm": {
     "name": "#%%\n"
    }
   }
  },
  {
   "cell_type": "markdown",
   "source": [
    "## 4.0 The `find` method supports more generic queries"
   ],
   "metadata": {
    "collapsed": false
   }
  },
  {
   "cell_type": "code",
   "execution_count": null,
   "outputs": [],
   "source": [
    "# `all_objects` returns an iterable\n",
    "wells_of_interest = list(project.wells().find(lambda well: well.name == 'Demo_3H' or well.display_name == 'Demo_4H'))\n",
    "for well_of_interest in wells_of_interest:\n",
    "    print(f'well_of_interest=Well(name={well_of_interest.name},',\n",
    "          f'display_name={well_of_interest.display_name}, '\n",
    "          f'object_id={well_of_interest.object_id})')"
   ],
   "metadata": {
    "collapsed": false,
    "pycharm": {
     "name": "#%%\n"
    }
   }
  },
  {
   "cell_type": "markdown",
   "source": [
    "## 5.0 Finally, if you wish to iterate over all wells, use the object_id() method"
   ],
   "metadata": {
    "collapsed": false,
    "pycharm": {
     "name": "#%% md\n"
    }
   }
  },
  {
   "cell_type": "code",
   "execution_count": null,
   "outputs": [],
   "source": [
    "# `all_objects` returns an iterable\n",
    "wells_of_interest = list(project.wells().all_objects())\n",
    "for well_of_interest in wells_of_interest:\n",
    "    print(f'well_of_interest=Well(name={well_of_interest.name},',\n",
    "          f'display_name={well_of_interest.display_name}, '\n",
    "          f'object_id={well_of_interest.object_id})')"
   ],
   "metadata": {
    "collapsed": false,
    "pycharm": {
     "name": "#%%\n"
    }
   }
  }
 ],
 "metadata": {
  "celltoolbar": "Raw Cell Format",
  "kernelspec": {
   "display_name": "Python 3",
   "language": "python",
   "name": "python3"
  },
  "language_info": {
   "codemirror_mode": {
    "name": "ipython",
    "version": 3
   },
   "file_extension": ".py",
   "mimetype": "text/x-python",
   "name": "python",
   "nbconvert_exporter": "python",
   "pygments_lexer": "ipython3",
   "version": "3.8.7"
  }
 },
 "nbformat": 4,
 "nbformat_minor": 4
}