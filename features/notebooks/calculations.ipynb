{
 "cells": [
  {
   "cell_type": "code",
   "execution_count": null,
   "metadata": {},
   "outputs": [],
   "source": [
    "import numpy as np\n",
    "import matplotlib.pyplot as plt\n",
    "import pandas as pd\n",
    "import seaborn as sns"
   ]
  },
  {
   "cell_type": "code",
   "execution_count": null,
   "metadata": {},
   "outputs": [],
   "source": [
    "import toolz.curried as toolz"
   ]
  },
  {
   "cell_type": "code",
   "execution_count": null,
   "metadata": {},
   "outputs": [],
   "source": [
    "import orchid"
   ]
  },
  {
   "cell_type": "code",
   "execution_count": null,
   "metadata": {},
   "outputs": [],
   "source": [
    "import orchid.project_loader as opl"
   ]
  },
  {
   "cell_type": "code",
   "execution_count": null,
   "metadata": {},
   "outputs": [],
   "source": [
    "# Import the .NET class, `FractureDiagnosticsCalculationsFactory`\n",
    "import clr\n",
    "clr.AddReference('Orchid.FractureDiagnostics.Factories')\n",
    "from Orchid.FractureDiagnostics.Factories import Calculations\n",
    "CalculationsFactory = Calculations.FractureDiagnosticsCalculationsFactory()"
   ]
  },
  {
   "cell_type": "code",
   "execution_count": null,
   "metadata": {},
   "outputs": [],
   "source": [
    "# Path name of whatever project you wish to load.\n",
    "loader = opl.ProjectLoader(\n",
    "    r'c:\\src\\Orchid.IntegrationTestData\\frankNstein_Bakken_UTM13_FEET.ifrac')"
   ]
  },
  {
   "cell_type": "code",
   "execution_count": null,
   "metadata": {},
   "outputs": [],
   "source": [
    "# The returned value from `native_project` is . NET project. NOTE: each instance \n",
    "# of the `ProjectLoader` class loads **exactly one** .NET project. To load a \n",
    "# different project, you must create a new `ProjectLoader` instance.\n",
    "native_project = loader.native_project()"
   ]
  },
  {
   "cell_type": "code",
   "execution_count": null,
   "metadata": {},
   "outputs": [],
   "source": [
    "all_wells = native_project.Wells.Items"
   ]
  },
  {
   "cell_type": "code",
   "execution_count": null,
   "metadata": {},
   "outputs": [],
   "source": [
    "well_of_interest = all_wells[0]  # 'Demo_4H'"
   ]
  },
  {
   "cell_type": "code",
   "execution_count": null,
   "metadata": {},
   "outputs": [],
   "source": [
    "all_stages_for_well_of_interest = well_of_interest.Stages.Items"
   ]
  },
  {
   "cell_type": "code",
   "execution_count": null,
   "metadata": {},
   "outputs": [],
   "source": [
    "stage_of_interest = all_stages_for_well_of_interest[0]  # 'Demo_1H-Stage-1'"
   ]
  },
  {
   "cell_type": "code",
   "execution_count": null,
   "metadata": {},
   "outputs": [],
   "source": [
    "start = stage_of_interest.StartTime\n",
    "stop = stage_of_interest.StopTime"
   ]
  },
  {
   "cell_type": "code",
   "execution_count": null,
   "metadata": {},
   "outputs": [],
   "source": [
    "str(start), str(stop)"
   ]
  },
  {
   "cell_type": "code",
   "execution_count": null,
   "metadata": {},
   "outputs": [],
   "source": [
    "treatment_calculator = CalculationsFactory.CreateTreatmentCalculations()"
   ]
  },
  {
   "cell_type": "code",
   "execution_count": null,
   "metadata": {
    "collapsed": false,
    "jupyter": {
     "outputs_hidden": false
    },
    "pycharm": {
     "name": "#%%\n"
    }
   },
   "outputs": [],
   "source": [
    "stage_pumped_fluid_volume_calculation_result = \\\n",
    "    treatment_calculator.GetPumpedVolume(stage_of_interest, start, stop)"
   ]
  },
  {
   "cell_type": "code",
   "execution_count": null,
   "metadata": {
    "collapsed": false,
    "jupyter": {
     "outputs_hidden": false
    },
    "pycharm": {
     "name": "#%%\n"
    }
   },
   "outputs": [],
   "source": [
    "(str(stage_pumped_fluid_volume_calculation_result.Result),\n",
    " stage_pumped_fluid_volume_calculation_result.Warnings)"
   ]
  },
  {
   "cell_type": "code",
   "execution_count": null,
   "metadata": {
    "collapsed": false,
    "jupyter": {
     "outputs_hidden": false
    },
    "pycharm": {
     "name": "#%%\n"
    }
   },
   "outputs": [],
   "source": [
    "stage_total_proppant_mass_calculation_result = \\\n",
    "    treatment_calculator.GetTotalProppantMass(stage_of_interest, start, stop)"
   ]
  },
  {
   "cell_type": "code",
   "execution_count": null,
   "metadata": {
    "collapsed": false,
    "jupyter": {
     "outputs_hidden": false
    },
    "pycharm": {
     "name": "#%%\n"
    }
   },
   "outputs": [],
   "source": [
    "(str(stage_total_proppant_mass_calculation_result.Result),\n",
    " stage_total_proppant_mass_calculation_result.Warnings)"
   ]
  },
  {
   "cell_type": "code",
   "execution_count": null,
   "metadata": {},
   "outputs": [],
   "source": [
    "stage_median_treating_pressure_calculation_result = \\\n",
    "    treatment_calculator.GetMedianTreatmentPressure(stage_of_interest, start, stop)"
   ]
  },
  {
   "cell_type": "code",
   "execution_count": null,
   "metadata": {
    "pycharm": {
     "name": "#%%\n"
    }
   },
   "outputs": [],
   "source": [
    "(str(stage_median_treating_pressure_calculation_result.Result),\n",
    " stage_median_treating_pressure_calculation_result.Warnings)"
   ]
  },
  {
   "cell_type": "code",
   "execution_count": null,
   "metadata": {
    "collapsed": false,
    "jupyter": {
     "outputs_hidden": false
    },
    "pycharm": {
     "name": "#%%\n"
    }
   },
   "outputs": [],
   "source": [
    "stage_total_pump_energy_calculation_result = \\\n",
    "    treatment_calculator.GetTotalPumpEnergy(stage_of_interest, start, stop)"
   ]
  },
  {
   "cell_type": "code",
   "execution_count": null,
   "metadata": {
    "collapsed": false,
    "jupyter": {
     "outputs_hidden": false
    },
    "pycharm": {
     "name": "#%%\n"
    }
   },
   "outputs": [],
   "source": [
    "(str(stage_total_pump_energy_calculation_result.Result),\n",
    " stage_total_pump_energy_calculation_result.Warnings)"
   ]
  },
  {
   "cell_type": "raw",
   "metadata": {},
   "source": [
    "def total_pump_energy_for_stage(stage):\n",
    "    total_pump_energy_calculation_result = \\\n",
    "        treatment_calculator.GetTotalPumpEnergy(stage, stage.StartTime, stage.StopTime) \n",
    "    result = float(str(total_pump_energy_calculation_result.Result).split()[0].replace(',', ''))\n",
    "    return result\n",
    "\n",
    "def total_pump_energy_for_well(well):\n",
    "    result = toolz.pipe(well.Stages.Items,\n",
    "                        toolz.map(total_pump_energy_for_stage),\n",
    "                        list)\n",
    "    return result\n",
    "\n",
    "def total_pump_energy_all_wells(project):\n",
    "    all_wells_result = toolz.map(total_pump_energy_for_well, project.Wells.Items)\n",
    "    result = toolz.concat(all_wells_result)\n",
    "    return result\n",
    "\n",
    "total_pump_energy = list(total_pump_energy_all_wells(native_project))"
   ]
  },
  {
   "cell_type": "code",
   "execution_count": null,
   "metadata": {},
   "outputs": [],
   "source": [
    "df = pd.DataFrame(data=total_pump_energy)\n",
    "df"
   ]
  },
  {
   "cell_type": "code",
   "execution_count": null,
   "metadata": {},
   "outputs": [],
   "source": [
    "df.describe()"
   ]
  },
  {
   "cell_type": "code",
   "execution_count": null,
   "metadata": {},
   "outputs": [],
   "source": [
    "df.hist()"
   ]
  },
  {
   "cell_type": "code",
   "execution_count": null,
   "metadata": {},
   "outputs": [],
   "source": [
    "import math"
   ]
  },
  {
   "cell_type": "code",
   "execution_count": null,
   "metadata": {},
   "outputs": [],
   "source": [
    "1 + math.log(135, 2)"
   ]
  },
  {
   "cell_type": "code",
   "execution_count": null,
   "metadata": {},
   "outputs": [],
   "source": [
    "def total_pump_energy_for_wells(project):\n",
    "    well_results = toolz.pipe(project.Wells.Items,\n",
    "                              toolz.map(lambda w: (w.Name, total_pump_energy_for_well(w))),\n",
    "                              dict)\n",
    "    result = toolz.valmap(lambda items: pd.DataFrame(data=items), well_results)\n",
    "    return result\n",
    "\n",
    "total_pump_energy = total_pump_energy_for_wells(native_project)"
   ]
  },
  {
   "cell_type": "code",
   "execution_count": null,
   "metadata": {},
   "outputs": [],
   "source": [
    "for well_name in [n for n in total_pump_energy.keys() if n != 'Demo_3H']:\n",
    "    total_pump_energy[well_name].hist()"
   ]
  },
  {
   "cell_type": "code",
   "execution_count": null,
   "metadata": {},
   "outputs": [],
   "source": []
  }
 ],
 "metadata": {
  "kernelspec": {
   "display_name": "Python 3",
   "language": "python",
   "name": "python3"
  },
  "language_info": {
   "codemirror_mode": {
    "name": "ipython",
    "version": 3
   },
   "file_extension": ".py",
   "mimetype": "text/x-python",
   "name": "python",
   "nbconvert_exporter": "python",
   "pygments_lexer": "ipython3",
   "version": "3.8.6"
  }
 },
 "nbformat": 4,
 "nbformat_minor": 4
}
