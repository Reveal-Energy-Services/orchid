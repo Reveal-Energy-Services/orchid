{
 "cells": [
  {
   "cell_type": "code",
   "execution_count": 1,
   "metadata": {
    "collapsed": false,
    "jupyter": {
     "outputs_hidden": false
    },
    "pycharm": {
     "name": "#%%\n"
    }
   },
   "outputs": [],
   "source": [
    "#  Copyright 2017-2021 Reveal Energy Services, Inc\n",
    "#\n",
    "#  Licensed under the Apache License, Version 2.0 (the \"License\");\n",
    "#  you may not use this file except in compliance with the License.\n",
    "#  You may obtain a copy of the License at\n",
    "#\n",
    "#      http://www.apache.org/licenses/LICENSE-2.0\n",
    "#\n",
    "#  Unless required by applicable law or agreed to in writing, software\n",
    "#  distributed under the License is distributed on an \"AS IS\" BASIS,\n",
    "#  WITHOUT WARRANTIES OR CONDITIONS OF ANY KIND, either express or implied.\n",
    "#  See the License for the specific language governing permissions and\n",
    "#  limitations under the License.\n",
    "#\n",
    "# This file is part of Orchid and related technologies.\n",
    "#"
   ]
  },
  {
   "cell_type": "markdown",
   "metadata": {},
   "source": [
    "# Tutorial DOM walk-through\n",
    "\n",
    "This notebook is a live tutorial on illustrating how to navigate through an Orchid* project.\n",
    "\n",
    "(*Orchid is a mark of Reveal Energy Services, Inc)"
   ]
  },
  {
   "cell_type": "markdown",
   "metadata": {},
   "source": [
    "## 0.5 Import packages\n",
    "\n",
    "The only import needed for the Python API is `orchid` itself."
   ]
  },
  {
   "cell_type": "code",
   "execution_count": 2,
   "metadata": {
    "collapsed": false,
    "jupyter": {
     "outputs_hidden": false
    },
    "pycharm": {
     "name": "#%%\n"
    }
   },
   "outputs": [],
   "source": [
    "import orchid"
   ]
  },
  {
   "cell_type": "markdown",
   "metadata": {
    "pycharm": {
     "name": "#%% md\n"
    }
   },
   "source": [
    "Import other packages to meet specific needs"
   ]
  },
  {
   "cell_type": "code",
   "execution_count": 3,
   "metadata": {
    "collapsed": false,
    "jupyter": {
     "outputs_hidden": false
    },
    "pycharm": {
     "name": "#%%\n"
    }
   },
   "outputs": [],
   "source": [
    "import uuid  ## Used to construct an object ID from its string representation"
   ]
  },
  {
   "cell_type": "markdown",
   "metadata": {},
   "source": [
    "## 1.0 Load the .ifrac project\n",
    "\n",
    "The following code simply captures the configured location of the Orchid training data. It is not needed to\n",
    "use the Orchid Python API itself, but it is used in this example to load a well-known `.ifrac` file."
   ]
  },
  {
   "cell_type": "code",
   "execution_count": 4,
   "metadata": {
    "pycharm": {
     "name": "#%%\n"
    }
   },
   "outputs": [],
   "source": [
    "orchid_training_data_path = orchid.training_data_path()"
   ]
  },
  {
   "cell_type": "code",
   "execution_count": 5,
   "metadata": {
    "collapsed": false,
    "jupyter": {
     "outputs_hidden": false
    },
    "pycharm": {
     "is_executing": true,
     "name": "#%%\n"
    }
   },
   "outputs": [],
   "source": [
    "project = orchid.load_project(str(orchid_training_data_path.joinpath(\n",
    "    'frankNstein_Bakken_UTM13_FEET.ifrac')))"
   ]
  },
  {
   "cell_type": "markdown",
   "metadata": {},
   "source": [
    "Our project is now loaded in memory. An Orchid project has many collections of other items. For example, a\n",
    "project has a collection of wells, and a well has a collection of stages.\n",
    "\n",
    "Each of these objects, for example, each well and each stage, is identified by a unique identifier (an\n",
    "instance of `uuid.UUID`). However, these identifiers, in order to be unique, are **not** easily remembered by\n",
    "people. Further, Orchid **does not** require that alternatives, like a well name or display name, be unique.\n",
    "To allow for convenient searching, project objects like wells and stages are kept in a\n",
    "`SearchableProjectObjects` collection. This class provides methods for searching for more specific instances:\n",
    "\n",
    "- `find_by_object_id()` - Returns the matching object or `None` if no such object exists\n",
    "- `find_by_name()` - Returns an **iterator** of matching objects (since more than one may match).\n",
    "- `find_by_display_name()` - Returns an **iterator** of matching objects.\n",
    "\n",
    "It provides methods returning all valid values of these keys:\n",
    "\n",
    "- `all_object_ids()`\n",
    "- `all_names()`\n",
    "- `all_display_names()`\n",
    "\n",
    "Since `find_by_object_id()`, `find_by_name()` and `find_by_display_name()` do not exhaust the criteria you\n",
    "might want to use to find objects of interest, we have included a more generic method, `find()`, that takes a\n",
    "predicate (a callable) and returns an iterator over all objects for which the predicate returns `True`."
   ]
  },
  {
   "cell_type": "markdown",
   "metadata": {},
   "source": [
    "## 2.0 Query well \"keys\"\n",
    "\n",
    "Particularly during exploration of a project, you may not know the specific object in which you are\n",
    "interested, but you know something about its name or its display name. The Orchid Python API provides you\n",
    "with the `all_names()` and `all_display_names()` to iterate over those names."
   ]
  },
  {
   "cell_type": "code",
   "execution_count": 6,
   "metadata": {
    "collapsed": false,
    "jupyter": {
     "outputs_hidden": false
    },
    "pycharm": {
     "name": "#%%\n"
    }
   },
   "outputs": [
    {
     "name": "stdout",
     "output_type": "stream",
     "text": [
      "all_well_names = ['Demo_1H', 'Demo_2H', 'Demo_3H', 'Demo_4H']\n"
     ]
    }
   ],
   "source": [
    "all_well_names = list(project.wells().all_names())\n",
    "print(f\"all_well_names = {all_well_names}\")"
   ]
  },
  {
   "cell_type": "code",
   "execution_count": 7,
   "metadata": {
    "collapsed": false,
    "jupyter": {
     "outputs_hidden": false
    },
    "pycharm": {
     "name": "#%%\n"
    }
   },
   "outputs": [
    {
     "name": "stdout",
     "output_type": "stream",
     "text": [
      "all_well_display_names = ['Demo_1H', 'Demo_2H', 'Demo_3H', 'Demo_4H']\n"
     ]
    }
   ],
   "source": [
    "all_well_display_names = list(project.wells().all_display_names())\n",
    "print(f\"all_well_display_names = {all_well_display_names}\")"
   ]
  },
  {
   "cell_type": "markdown",
   "metadata": {
    "pycharm": {
     "name": "#%% md\n"
    }
   },
   "source": [
    "### 2.1 Query all object ids\n",
    "\n",
    "For completeness, we provide the `all_object_ids()` to list all the object IDs."
   ]
  },
  {
   "cell_type": "code",
   "execution_count": 8,
   "metadata": {
    "collapsed": false,
    "jupyter": {
     "outputs_hidden": false
    },
    "pycharm": {
     "name": "#%%\n"
    }
   },
   "outputs": [
    {
     "name": "stdout",
     "output_type": "stream",
     "text": [
      "all_well_object_ids = [UUID('ce9290bd-f9f1-45c2-b8c8-77b672ec0c43'), UUID('22afba22-6be4-460d-9b83-a43b8b1eec11'), UUID('5af7a14e-b7c9-4662-ba95-5ce3a0c39f60'), UUID('9fe727b0-5fd1-4240-b475-51c1363edb0d')]\n"
     ]
    }
   ],
   "source": [
    "all_well_object_ids = list(project.wells().all_object_ids())\n",
    "print(f\"all_well_object_ids = {all_well_object_ids}\")"
   ]
  },
  {
   "cell_type": "markdown",
   "metadata": {
    "pycharm": {
     "name": "#%% md\n"
    }
   },
   "source": [
    "## 3.0 Find well by \"key\"\n",
    "\n",
    "The method, `find_by_name()`, returns an iterable over wells."
   ]
  },
  {
   "cell_type": "code",
   "execution_count": 9,
   "metadata": {
    "collapsed": false,
    "jupyter": {
     "outputs_hidden": false
    },
    "pycharm": {
     "name": "#%%\n"
    }
   },
   "outputs": [
    {
     "data": {
      "text/plain": [
       "[('Demo_1H', 'Demo_1H', UUID('ce9290bd-f9f1-45c2-b8c8-77b672ec0c43'))]"
      ]
     },
     "execution_count": 9,
     "metadata": {},
     "output_type": "execute_result"
    }
   ],
   "source": [
    "wells_of_interest_by_name = list(project.wells().find_by_name('Demo_1H'))\n",
    "[(well.name, well.display_name, well.object_id) for well in wells_of_interest_by_name]"
   ]
  },
  {
   "cell_type": "markdown",
   "metadata": {},
   "source": [
    "Similarly, the method, `find_by_display_name()`, returns an iterable over wells"
   ]
  },
  {
   "cell_type": "code",
   "execution_count": 10,
   "metadata": {
    "collapsed": false,
    "jupyter": {
     "outputs_hidden": false
    },
    "pycharm": {
     "name": "#%%\n"
    }
   },
   "outputs": [
    {
     "data": {
      "text/plain": [
       "[('Demo_2H', 'Demo_2H', UUID('22afba22-6be4-460d-9b83-a43b8b1eec11'))]"
      ]
     },
     "execution_count": 10,
     "metadata": {},
     "output_type": "execute_result"
    }
   ],
   "source": [
    "wells_of_interest_by_display_name = list(project.wells().find_by_display_name('Demo_2H'))\n",
    "[(well.name, well.display_name, well.object_id) for well in wells_of_interest_by_display_name]"
   ]
  },
  {
   "cell_type": "markdown",
   "metadata": {},
   "source": [
    "Because `find_by_name()` and `find_by_display_name()` returns an **iterator**, one typically must handle this\n",
    "method returning\n",
    "\n",
    "- An empty iterator\n",
    "- An iterator with more than 1 item\n",
    "- An iterator with a single item\n",
    "\n",
    "For example,"
   ]
  },
  {
   "cell_type": "code",
   "execution_count": 11,
   "metadata": {
    "collapsed": false,
    "jupyter": {
     "outputs_hidden": false
    },
    "pycharm": {
     "name": "#%%\n"
    }
   },
   "outputs": [
    {
     "name": "stdout",
     "output_type": "stream",
     "text": [
      "Found single well in project with name, Demo_3H\n"
     ]
    }
   ],
   "source": [
    "well_name_of_interest = 'Demo_3H'\n",
    "wells_of_interest_by_name = list(project.wells().find_by_name(well_name_of_interest))\n",
    "if len(wells_of_interest_by_name) == 0:\n",
    "    print(f'No well in project with name, {well_name_of_interest}')\n",
    "elif len(wells_of_interest_by_name) > 1:\n",
    "    print(f'Found multiple wells ({len(wells_of_interest_by_name)}) in project with name,'\n",
    "          f' {well_name_of_interest}')\n",
    "else:\n",
    "    print(f'Found single well in project with name, {well_name_of_interest}')"
   ]
  },
  {
   "cell_type": "markdown",
   "metadata": {},
   "source": [
    "Another way to handle multiple wells found by `find_by_name()` is to use `assert` statements. It\n",
    "is suitable if you **know** that the well with the specified name exists."
   ]
  },
  {
   "cell_type": "code",
   "execution_count": 12,
   "metadata": {
    "collapsed": false,
    "jupyter": {
     "outputs_hidden": false
    },
    "pycharm": {
     "name": "#%%\n"
    }
   },
   "outputs": [
    {
     "data": {
      "text/plain": [
       "('Demo_3H', 'Demo_3H', UUID('5af7a14e-b7c9-4662-ba95-5ce3a0c39f60'))"
      ]
     },
     "execution_count": 12,
     "metadata": {},
     "output_type": "execute_result"
    }
   ],
   "source": [
    "assert len(wells_of_interest_by_name) == 1, f'Expected one well with name, {well_name_of_interest},' \\\n",
    "                                            f' but found {len(wells_of_interest_by_display_name)}'\n",
    "well_of_interest = wells_of_interest_by_name[0]\n",
    "well_of_interest.name, well_of_interest.display_name, well_of_interest.object_id"
   ]
  },
  {
   "cell_type": "markdown",
   "metadata": {
    "pycharm": {
     "name": "#%% md\n"
    }
   },
   "source": [
    "However, `find_by_object_id()` method returns either a well with the specified object ID or None.\n",
    "\n",
    "If a well with this object ID exists:"
   ]
  },
  {
   "cell_type": "code",
   "execution_count": 13,
   "metadata": {
    "collapsed": false,
    "jupyter": {
     "outputs_hidden": false
    },
    "pycharm": {
     "name": "#%%\n"
    }
   },
   "outputs": [
    {
     "data": {
      "text/plain": [
       "('Demo_4H', 'Demo_4H', UUID('9fe727b0-5fd1-4240-b475-51c1363edb0d'))"
      ]
     },
     "execution_count": 13,
     "metadata": {},
     "output_type": "execute_result"
    }
   ],
   "source": [
    "object_id = '9fe727b0-5fd1-4240-b475-51c1363edb0d'\n",
    "well_of_interest_by_object_id = project.wells().find_by_object_id(uuid.UUID(object_id))\n",
    "((well_of_interest_by_object_id.name,\n",
    "  well_of_interest_by_object_id.display_name,\n",
    "  well_of_interest_by_object_id.object_id) if well_of_interest_by_object_id is not None\n",
    " else \"No such object\")"
   ]
  },
  {
   "cell_type": "markdown",
   "metadata": {
    "pycharm": {
     "name": "#%% md\n"
    }
   },
   "source": [
    "But if no well with this object ID exists:"
   ]
  },
  {
   "cell_type": "code",
   "execution_count": 14,
   "metadata": {
    "collapsed": false,
    "jupyter": {
     "outputs_hidden": false
    },
    "pycharm": {
     "name": "#%%\n"
    }
   },
   "outputs": [
    {
     "data": {
      "text/plain": [
       "'No such object'"
      ]
     },
     "execution_count": 14,
     "metadata": {},
     "output_type": "execute_result"
    }
   ],
   "source": [
    "object_id = '9fe727b0-5fd1-4240-b475-51c1363edb0e'\n",
    "well_of_interest_by_object_id = project.wells().find_by_object_id(uuid.UUID(object_id))\n",
    "((well_of_interest_by_object_id.name,\n",
    "  well_of_interest_by_object_id.display_name,\n",
    "  well_of_interest_by_object_id.object_id) if well_of_interest_by_object_id is not None\n",
    " else \"No such object\")"
   ]
  },
  {
   "cell_type": "markdown",
   "metadata": {},
   "source": [
    "## 4.0 The `find()` method supports more generic queries\n",
    "\n",
    "The `find()` method returns an iterable over the wells for which the specified predicate is `True`"
   ]
  },
  {
   "cell_type": "code",
   "execution_count": 15,
   "metadata": {
    "collapsed": false,
    "jupyter": {
     "outputs_hidden": false
    },
    "pycharm": {
     "name": "#%%\n"
    }
   },
   "outputs": [
    {
     "name": "stdout",
     "output_type": "stream",
     "text": [
      "well_of_interest=Well(name=Demo_3H, display_name=Demo_3H, object_id=5af7a14e-b7c9-4662-ba95-5ce3a0c39f60)\n",
      "well_of_interest=Well(name=Demo_4H, display_name=Demo_4H, object_id=9fe727b0-5fd1-4240-b475-51c1363edb0d)\n"
     ]
    }
   ],
   "source": [
    "wells_of_interest = list(project.wells().find(lambda well: well.name == 'Demo_3H' or well.display_name == 'Demo_4H'))\n",
    "for well_of_interest in wells_of_interest:\n",
    "    print(f'well_of_interest=Well(name={well_of_interest.name},',\n",
    "          f'display_name={well_of_interest.display_name}, '\n",
    "          f'object_id={well_of_interest.object_id})')"
   ]
  },
  {
   "cell_type": "markdown",
   "metadata": {
    "pycharm": {
     "name": "#%% md\n"
    }
   },
   "source": [
    "## 5.0 Finally, if you wish to iterate over all wells, use the object_id() method\n",
    "\n",
    "The method, `all_objects()`, returns an iterable over **all** wells in the project"
   ]
  },
  {
   "cell_type": "code",
   "execution_count": 16,
   "metadata": {
    "collapsed": false,
    "jupyter": {
     "outputs_hidden": false
    },
    "pycharm": {
     "name": "#%%\n"
    }
   },
   "outputs": [
    {
     "data": {
      "text/plain": [
       "[('Demo_1H', 'Demo_1H', UUID('ce9290bd-f9f1-45c2-b8c8-77b672ec0c43')),\n",
       " ('Demo_2H', 'Demo_2H', UUID('22afba22-6be4-460d-9b83-a43b8b1eec11')),\n",
       " ('Demo_3H', 'Demo_3H', UUID('5af7a14e-b7c9-4662-ba95-5ce3a0c39f60')),\n",
       " ('Demo_4H', 'Demo_4H', UUID('9fe727b0-5fd1-4240-b475-51c1363edb0d'))]"
      ]
     },
     "execution_count": 16,
     "metadata": {},
     "output_type": "execute_result"
    }
   ],
   "source": [
    "wells_of_interest = list(project.wells().all_objects())\n",
    "[(well.name, well.display_name, well.object_id) for well in wells_of_interest]"
   ]
  },
  {
   "cell_type": "markdown",
   "metadata": {
    "pycharm": {
     "name": "#%% md\n"
    }
   },
   "source": [
    "All the project top-level objects provide a similar interface:\n",
    "\n",
    "- `project.data_frames()`\n",
    "- `project.monitors()`\n",
    "- `project.time_series()`\n",
    "- `project.wells()`\n",
    "\n",
    "Stages have the same interface; however, stages also have two additional methods:\n",
    "\n",
    "- `stage.find_by_display_stage_number()`\n",
    "- `stage.find_by_display_name_with_well()`\n",
    "\n",
    "## 6.0 Additional searchable stages methods\n",
    "\n",
    "The stage method, `find_stage_by_display_stage_number()` returns either the single stage with the display\n",
    "stage number or it returns `None`.\n",
    "\n",
    "Begin by searching for the well of interest."
   ]
  },
  {
   "cell_type": "code",
   "execution_count": 17,
   "metadata": {
    "collapsed": false,
    "jupyter": {
     "outputs_hidden": false
    },
    "pycharm": {
     "name": "#%%\n"
    }
   },
   "outputs": [
    {
     "data": {
      "text/plain": [
       "('Demo_4H', 'Demo_4H', UUID('9fe727b0-5fd1-4240-b475-51c1363edb0d'))"
      ]
     },
     "execution_count": 17,
     "metadata": {},
     "output_type": "execute_result"
    }
   ],
   "source": [
    "well_display_name_of_interest = 'Demo_4H'\n",
    "wells_of_interest_by_display_name = [\n",
    "    well for well in project.wells().find_by_display_name(well_display_name_of_interest)\n",
    "]\n",
    "\n",
    "assert len(wells_of_interest_by_display_name) == 1,\\\n",
    "    f'Expected one well with display_name, {well_display_name_of_interest},' \\\n",
    "    f' but found {len(wells_of_interest_by_display_name)}'\n",
    "well_of_interest = wells_of_interest_by_display_name[0]\n",
    "well_of_interest.name, well_of_interest.display_name, well_of_interest.object_id"
   ]
  },
  {
   "cell_type": "markdown",
   "metadata": {},
   "source": [
    "Now search for a stage with a specified display stage number."
   ]
  },
  {
   "cell_type": "code",
   "execution_count": 18,
   "metadata": {
    "collapsed": false,
    "jupyter": {
     "outputs_hidden": false
    },
    "pycharm": {
     "name": "#%%\n"
    }
   },
   "outputs": [
    {
     "name": "stdout",
     "output_type": "stream",
     "text": [
      "('Stage-7', 'Stage-7', 7)\n"
     ]
    }
   ],
   "source": [
    "stage_display_number_of_interest = 7\n",
    "stage_of_interest = well_of_interest.stages().find_by_display_stage_number(stage_display_number_of_interest)\n",
    "if stage_of_interest is not None:\n",
    "    print((stage_of_interest.name, stage_of_interest.display_name, stage_of_interest.display_stage_number))\n",
    "else:\n",
    "    print(f'No stage with display stage number, {stage_display_number_of_interest}.')"
   ]
  },
  {
   "cell_type": "markdown",
   "metadata": {
    "pycharm": {
     "name": "#%% md\n"
    }
   },
   "source": [
    "If you search for a stage by display stage number that does **not** exist:"
   ]
  },
  {
   "cell_type": "code",
   "execution_count": 19,
   "metadata": {
    "collapsed": false,
    "jupyter": {
     "outputs_hidden": false
    },
    "pycharm": {
     "name": "#%%\n"
    }
   },
   "outputs": [
    {
     "name": "stdout",
     "output_type": "stream",
     "text": [
      "No stage with display stage number, 9999.\n"
     ]
    }
   ],
   "source": [
    "stage_display_number_of_interest = 9999\n",
    "stage_of_interest = well_of_interest.stages().find_by_display_stage_number(stage_display_number_of_interest)\n",
    "if stage_of_interest is not None:\n",
    "    print((stage_of_interest.name, stage_of_interest.display_name, stage_of_interest.display_stage_number))\n",
    "else:\n",
    "    print(f'No stage with display stage number, {stage_display_number_of_interest}.')"
   ]
  },
  {
   "cell_type": "code",
   "execution_count": null,
   "metadata": {},
   "outputs": [],
   "source": []
  }
 ],
 "metadata": {
  "celltoolbar": "Raw Cell Format",
  "kernelspec": {
   "display_name": "Python 3",
   "language": "python",
   "name": "python3"
  },
  "language_info": {
   "codemirror_mode": {
    "name": "ipython",
    "version": 3
   },
   "file_extension": ".py",
   "mimetype": "text/x-python",
   "name": "python",
   "nbconvert_exporter": "python",
   "pygments_lexer": "ipython3",
   "version": "3.8.7"
  }
 },
 "nbformat": 4,
 "nbformat_minor": 4
}