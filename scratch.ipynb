{
 "cells": [
  {
   "cell_type": "code",
   "execution_count": null,
   "metadata": {},
   "outputs": [],
   "source": [
    "import datetime"
   ]
  },
  {
   "cell_type": "code",
   "execution_count": null,
   "metadata": {},
   "outputs": [],
   "source": [
    "import numpy as np\n",
    "import matplotlib.pyplot as plt\n",
    "import pandas as pd"
   ]
  },
  {
   "cell_type": "code",
   "execution_count": null,
   "metadata": {},
   "outputs": [],
   "source": [
    "import orchid\n",
    "from orchid.project_loader import ProjectLoader"
   ]
  },
  {
   "cell_type": "code",
   "execution_count": null,
   "metadata": {},
   "outputs": [],
   "source": [
    "loader = ProjectLoader(r'c:\\Users\\larry.jones\\tmp\\ifa-test-data\\Crane_II.ifrac')\n",
    "net_project = loader.loaded_project()\n",
    "pressure_curves = net_project.WellTimeSeriesList.Items\n",
    "first_curve = pressure_curves[0]\n",
    "samples = first_curve.GetOrderedTimeSeriesHistory()"
   ]
  },
  {
   "cell_type": "code",
   "execution_count": null,
   "metadata": {},
   "outputs": [],
   "source": [
    "first_curve.DisplayName"
   ]
  },
  {
   "cell_type": "code",
   "execution_count": null,
   "metadata": {},
   "outputs": [],
   "source": [
    "stamp_value_pairs = [(s.Timestamp, s.Value) for s in samples]\n",
    "timestamps, values = zip(*stamp_value_pairs)\n",
    "time_series = pd.Series(values, timestamps)\n",
    "time_series"
   ]
  },
  {
   "cell_type": "code",
   "execution_count": null,
   "metadata": {},
   "outputs": [],
   "source": [
    "time_series[time_series < 0]"
   ]
  },
  {
   "cell_type": "code",
   "execution_count": null,
   "metadata": {},
   "outputs": [],
   "source": [
    "max(time_series)"
   ]
  },
  {
   "cell_type": "code",
   "execution_count": null,
   "metadata": {},
   "outputs": [],
   "source": [
    "samples_as_array = np.array(samples)\n",
    "samples_as_array"
   ]
  },
  {
   "cell_type": "code",
   "execution_count": null,
   "metadata": {},
   "outputs": [],
   "source": [
    "# Uncomment the next line to throw an exception\n",
    "# np.fromiter((s.Timestamp for s in samples), np.object, count=len(samples))"
   ]
  },
  {
   "cell_type": "code",
   "execution_count": null,
   "metadata": {},
   "outputs": [],
   "source": [
    "# datetime.datetime(samples[0].Timestamp)"
   ]
  },
  {
   "cell_type": "code",
   "execution_count": null,
   "metadata": {},
   "outputs": [],
   "source": [
    "pd.Series.empty"
   ]
  },
  {
   "cell_type": "code",
   "execution_count": null,
   "metadata": {},
   "outputs": [],
   "source": [
    "foo = pd.Series([])\n",
    "foo"
   ]
  },
  {
   "cell_type": "code",
   "execution_count": null,
   "metadata": {},
   "outputs": [],
   "source": [
    "foo.empty"
   ]
  },
  {
   "cell_type": "code",
   "execution_count": null,
   "metadata": {},
   "outputs": [],
   "source": [
    "class Sample:\n",
    "    def __init__(self, timestamp, value):\n",
    "        # I chose to use capitalized names for compatability with .NET\n",
    "        self.Timestamp = timestamp\n",
    "        self.Value = value"
   ]
  },
  {
   "cell_type": "code",
   "execution_count": null,
   "metadata": {},
   "outputs": [],
   "source": [
    "start_times = [datetime.datetime(2017, 3, 8, 4, 32, 25), datetime.datetime(2017, 3, 8, 18, 33, 39), datetime.datetime(2017, 3, 9, 13, 23, 47)]\n",
    "sample_values = [[14.85, 14.53, 15.32], [27.21, 27.13, 27.05], [26.97, 26.89, 26.80]]\n",
    "sample_times = [[start_times[i] + j * datetime.timedelta(seconds=30) for j in range(len(sample_values[i]))] for i in range(len(sample_values))]\n",
    "sample_parameters = [zip(sample_times[i], sample_values[i]) for i in range(len(start_times))]\n",
    "samples = [[Sample(*sps) for sps in list(sample_parameters[i])] for i in range(len(sample_parameters))]\n",
    "samples"
   ]
  },
  {
   "cell_type": "code",
   "execution_count": null,
   "metadata": {},
   "outputs": [],
   "source": [
    "list(sample_parameters[1])"
   ]
  },
  {
   "cell_type": "code",
   "execution_count": null,
   "metadata": {},
   "outputs": [],
   "source": [
    "import datetime\n",
    "start_time_point = datetime.datetime(2020, 12, 23, 10, 54, 47)\n",
    "sample_time_points = [start_time_point + i * datetime.timedelta(seconds=30) for i in range(3)]\n",
    "sample_pressures = [0.4172, 0.4187, 0.4205]\n",
    "curve = pd.Series(sample_pressures, index=sample_time_points)\n",
    "curve"
   ]
  },
  {
   "cell_type": "code",
   "execution_count": null,
   "metadata": {},
   "outputs": [],
   "source": [
    "curve.plot()"
   ]
  },
  {
   "cell_type": "code",
   "execution_count": null,
   "metadata": {},
   "outputs": [],
   "source": [
    "project = orchid.load_project(r'c:\\Users\\larry.jones\\tmp\\ifa-test-data\\Crane_II.ifrac')"
   ]
  },
  {
   "cell_type": "code",
   "execution_count": null,
   "metadata": {},
   "outputs": [],
   "source": [
    "all_pressure_curves = project.all_pressure_curves()\n",
    "pressure_curve_ids = all_pressure_curves.pressure_curve_ids()\n",
    "surface_pressure_curves = [all_pressure_curves.pressure_curve_samples(pressure_curve_id)\n",
    "                           for pressure_curve_id in pressure_curve_ids]"
   ]
  },
  {
   "cell_type": "code",
   "execution_count": null,
   "metadata": {},
   "outputs": [],
   "source": [
    "ax = surface_pressure_curves[0].plot()\n",
    "ticks = ax.get_xticks()\n",
    "import matplotlib.dates as mpld\n",
    "[mpld.num2date(t) for t in ticks]\n",
    "# labels_props = {'rotation': 30}\n",
    "# plt.setp(labels, **labels_props)\n",
    "# min_time_point, max_time_point = surface_pressure_curves[0].index.min(), surface_pressure_curves[0].index.max()\n",
    "# q, _ = divmod(datetime.timedelta(hours=min_time_point.hour), datetime.timedelta(hours=12))\n",
    "# if q == 1:\n",
    "#     adjusted_min_time_point = datetime.datetime(min_time_point.year, min_time_point.month, min_time_point.day + 1, 0, 0, 0)\n",
    "# else:\n",
    "#     adjusted_min_time_point = datetime.datetime(min_time_point.year, min_time_point.month, min_time_point.day, 12, 0, 0)\n",
    "# q, _ = divmod(datetime.timedelta(hours=max_time_point.hour), datetime.timedelta(hours=12))\n",
    "# if q == 1:\n",
    "#     adjusted_max_time_point = datetime.datetime(max_time_point.year, max_time_point.month, min_time_point.day, 12, 0, 0)\n",
    "# else:\n",
    "#     adjusted_max_time_point = datetime.datetime(max_time_point.year, max_time_point.month, max_time_point.day - 1, 0, 0, 0)\n",
    "# print((adjusted_min_time_point, adjusted_max_time_point)) "
   ]
  },
  {
   "cell_type": "code",
   "execution_count": null,
   "metadata": {},
   "outputs": [],
   "source": []
  }
 ],
 "metadata": {
  "kernelspec": {
   "display_name": "Python 3",
   "language": "python",
   "name": "python3"
  },
  "language_info": {
   "codemirror_mode": {
    "name": "ipython",
    "version": 3
   },
   "file_extension": ".py",
   "mimetype": "text/x-python",
   "name": "python",
   "nbconvert_exporter": "python",
   "pygments_lexer": "ipython3",
   "version": "3.7.7"
  }
 },
 "nbformat": 4,
 "nbformat_minor": 4
}
