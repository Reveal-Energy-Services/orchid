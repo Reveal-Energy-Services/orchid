{
 "cells": [
  {
   "cell_type": "code",
   "execution_count": 1,
   "metadata": {
    "collapsed": false,
    "jupyter": {
     "outputs_hidden": false
    },
    "pycharm": {
     "name": "#%%\n"
    }
   },
   "outputs": [],
   "source": [
    "import pathlib"
   ]
  },
  {
   "cell_type": "code",
   "execution_count": 2,
   "metadata": {
    "collapsed": false,
    "jupyter": {
     "outputs_hidden": false
    },
    "pycharm": {
     "name": "#%%\n"
    }
   },
   "outputs": [],
   "source": [
    "import numpy as np\n",
    "import matplotlib.pyplot as plt\n",
    "import pandas as pd\n",
    "import seaborn as sns"
   ]
  },
  {
   "cell_type": "code",
   "execution_count": 3,
   "metadata": {
    "collapsed": false,
    "jupyter": {
     "outputs_hidden": false
    },
    "pycharm": {
     "name": "#%%\n"
    }
   },
   "outputs": [],
   "source": [
    "from orchid import (project_loader as opl)"
   ]
  },
  {
   "cell_type": "code",
   "execution_count": 4,
   "metadata": {
    "collapsed": false,
    "jupyter": {
     "outputs_hidden": false
    },
    "pycharm": {
     "name": "#%%\n"
    }
   },
   "outputs": [],
   "source": [
    "import toolz.curried as toolz"
   ]
  },
  {
   "cell_type": "code",
   "execution_count": 5,
   "metadata": {
    "collapsed": false,
    "jupyter": {
     "outputs_hidden": false
    },
    "pycharm": {
     "name": "#%%\n"
    }
   },
   "outputs": [],
   "source": [
    "# noinspection PyUnresolvedReferences\n",
    "import UnitsNet"
   ]
  },
  {
   "cell_type": "code",
   "execution_count": 6,
   "metadata": {
    "collapsed": false,
    "jupyter": {
     "outputs_hidden": false
    },
    "pycharm": {
     "name": "#%%\n"
    }
   },
   "outputs": [],
   "source": [
    "project_filenames = {\n",
    "    'permian-a': 'Project-frankNstein_Permian_UTM13FT_0412_PjtDataFrame.ifrac',\n",
    "    'gng': 'GnG_DemoProject_wDataFrames.ifrac',\n",
    "}"
   ]
  },
  {
   "cell_type": "code",
   "execution_count": 7,
   "metadata": {
    "collapsed": false,
    "jupyter": {
     "outputs_hidden": false
    },
    "pycharm": {
     "name": "#%%\n"
    }
   },
   "outputs": [
    {
     "data": {
      "text/plain": [
       "{'permian-a': WindowsPath('c:/src/Orchid.IntegrationTestData/Project-frankNstein_Permian_UTM13FT_0412_PjtDataFrame.ifrac'),\n",
       " 'gng': WindowsPath('c:/src/Orchid.IntegrationTestData/GnG_DemoProject_wDataFrames.ifrac')}"
      ]
     },
     "execution_count": 7,
     "metadata": {},
     "output_type": "execute_result"
    }
   ],
   "source": [
    "test_data_path = pathlib.Path('c:/src/Orchid.IntegrationTestData/')\n",
    "project_path_names = toolz.valmap(lambda fn: test_data_path.joinpath(fn), project_filenames)\n",
    "project_path_names"
   ]
  },
  {
   "cell_type": "code",
   "execution_count": 8,
   "metadata": {
    "collapsed": false,
    "jupyter": {
     "outputs_hidden": false
    },
    "pycharm": {
     "name": "#%%\n"
    }
   },
   "outputs": [
    {
     "data": {
      "text/plain": [
       "{'permian-a': <Orchid.FractureDiagnostics.Factories.Implementations.Project object at 0x0000017B63FA79D0>,\n",
       " 'gng': <Orchid.FractureDiagnostics.Factories.Implementations.Project object at 0x0000017B63FA7A30>}"
      ]
     },
     "execution_count": 8,
     "metadata": {},
     "output_type": "execute_result"
    }
   ],
   "source": [
    "projects = toolz.valmap(\n",
    "    lambda pn: opl.ProjectLoader(str(pn)).native_project(),\n",
    "    project_path_names)\n",
    "projects"
   ]
  },
  {
   "cell_type": "code",
   "execution_count": 9,
   "metadata": {
    "collapsed": false,
    "jupyter": {
     "outputs_hidden": false
    },
    "pycharm": {
     "name": "#%%\n"
    }
   },
   "outputs": [
    {
     "data": {
      "text/plain": [
       "{'permian-a': {<System.Guid object at 0x0000017B63FA8490>: <Orchid.FractureDiagnostics.Factories.DataFrames.ProjectDataFrame object at 0x0000017B63FA8460>,\n",
       "  <System.Guid object at 0x0000017B63FA86D0>: <Orchid.FractureDiagnostics.Factories.DataFrames.ObservationSetDataFrame object at 0x0000017B63FA86A0>,\n",
       "  <System.Guid object at 0x0000017B63FA88E0>: <Orchid.FractureDiagnostics.Factories.DataFrames.MicroseismicDataFrame object at 0x0000017B63FA88B0>},\n",
       " 'gng': {<System.Guid object at 0x0000017B63FA8940>: <Orchid.FractureDiagnostics.Factories.DataFrames.ProjectDataFrame object at 0x0000017B63FA8910>,\n",
       "  <System.Guid object at 0x0000017B63FA8B80>: <Orchid.FractureDiagnostics.Factories.DataFrames.FaultTraceSetDataFrame object at 0x0000017B63FA8B50>,\n",
       "  <System.Guid object at 0x0000017B63FA8DC0>: <Orchid.FractureDiagnostics.Factories.DataFrames.StageDataFrame object at 0x0000017B63FA8D90>,\n",
       "  <System.Guid object at 0x0000017B63FAF040>: <Orchid.FractureDiagnostics.Factories.DataFrames.WellLogSetDataFrame object at 0x0000017B63FA8FD0>,\n",
       "  <System.Guid object at 0x0000017B63FAF370>: <Orchid.FractureDiagnostics.Factories.DataFrames.HorizonIntersectionsDataFrame object at 0x0000017B63FAF340>}}"
      ]
     },
     "execution_count": 9,
     "metadata": {},
     "output_type": "execute_result"
    }
   ],
   "source": [
    "def make_project_data_frames_by_id(project):\n",
    "    return {df.ObjectId: df for df in project.DataFrames.Items}\n",
    "\n",
    "project_net_data_frames_by_id = toolz.pipe(\n",
    "    projects,\n",
    "    toolz.valmap(make_project_data_frames_by_id),\n",
    ")\n",
    "project_net_data_frames_by_id"
   ]
  },
  {
   "cell_type": "code",
   "execution_count": 12,
   "metadata": {},
   "outputs": [
    {
     "data": {
      "text/plain": [
       "{'permian-a': {'Project Data Frame 01': <Orchid.FractureDiagnostics.Factories.DataFrames.ProjectDataFrame object at 0x0000017B63FAFA90>,\n",
       "  'FDI Observations': <Orchid.FractureDiagnostics.Factories.DataFrames.ObservationSetDataFrame object at 0x0000017B63FAFB80>,\n",
       "  'C3-Microseismic Data Frame 01': <Orchid.FractureDiagnostics.Factories.DataFrames.MicroseismicDataFrame object at 0x0000017B63FAFBB0>},\n",
       " 'gng': {'Project Data Frame 01': <Orchid.FractureDiagnostics.Factories.DataFrames.ProjectDataFrame object at 0x0000017B63FAFBE0>,\n",
       "  'Fault Trace Set Data Frame 01': <Orchid.FractureDiagnostics.Factories.DataFrames.FaultTraceSetDataFrame object at 0x0000017B63FAFC10>,\n",
       "  'Stage Data Frame 01': <Orchid.FractureDiagnostics.Factories.DataFrames.StageDataFrame object at 0x0000017B63FAFC40>,\n",
       "  'Well Log Set Data Frame 01': <Orchid.FractureDiagnostics.Factories.DataFrames.WellLogSetDataFrame object at 0x0000017B63FAFCA0>,\n",
       "  'Horizon Marker Set Data Frame01': <Orchid.FractureDiagnostics.Factories.DataFrames.HorizonIntersectionsDataFrame object at 0x0000017B63FAFCD0>}}"
      ]
     },
     "execution_count": 12,
     "metadata": {},
     "output_type": "execute_result"
    }
   ],
   "source": [
    "def make_project_data_frames_by_name(project):\n",
    "    return {df.Name: df for df in project.DataFrames.Items}\n",
    "\n",
    "project_net_data_frames_by_name = toolz.pipe(\n",
    "    projects,\n",
    "    toolz.valmap(make_project_data_frames_by_name),\n",
    ")\n",
    "project_net_data_frames_by_name"
   ]
  },
  {
   "cell_type": "code",
   "execution_count": 13,
   "metadata": {},
   "outputs": [
    {
     "data": {
      "text/plain": [
       "3"
      ]
     },
     "execution_count": 13,
     "metadata": {},
     "output_type": "execute_result"
    }
   ],
   "source": [
    "len(list(toolz.get('permian-a', project_net_data_frames_by_name)))"
   ]
  },
  {
   "cell_type": "code",
   "execution_count": null,
   "metadata": {},
   "outputs": [],
   "source": []
  }
 ],
 "metadata": {
  "kernelspec": {
   "display_name": "Python 3",
   "language": "python",
   "name": "python3"
  },
  "language_info": {
   "codemirror_mode": {
    "name": "ipython",
    "version": 3
   },
   "file_extension": ".py",
   "mimetype": "text/x-python",
   "name": "python",
   "nbconvert_exporter": "python",
   "pygments_lexer": "ipython3",
   "version": "3.8.7"
  }
 },
 "nbformat": 4,
 "nbformat_minor": 4
}
