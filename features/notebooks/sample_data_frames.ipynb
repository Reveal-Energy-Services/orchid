{
 "cells": [
  {
   "cell_type": "code",
   "execution_count": null,
   "metadata": {
    "collapsed": false,
    "jupyter": {
     "outputs_hidden": false
    },
    "pycharm": {
     "name": "#%%\n"
    }
   },
   "outputs": [],
   "source": [
    "import enum\n",
    "import pathlib\n",
    "import random"
   ]
  },
  {
   "cell_type": "code",
   "execution_count": null,
   "metadata": {
    "collapsed": false,
    "jupyter": {
     "outputs_hidden": false
    },
    "pycharm": {
     "name": "#%%\n"
    }
   },
   "outputs": [],
   "source": [
    "import numpy as np\n",
    "import matplotlib.pyplot as plt\n",
    "import pandas as pd\n",
    "import seaborn as sns"
   ]
  },
  {
   "cell_type": "code",
   "execution_count": null,
   "metadata": {
    "collapsed": false,
    "jupyter": {
     "outputs_hidden": false
    },
    "pycharm": {
     "name": "#%%\n"
    }
   },
   "outputs": [],
   "source": [
    "from orchid import (project_loader as opl)"
   ]
  },
  {
   "cell_type": "code",
   "execution_count": null,
   "metadata": {
    "collapsed": false,
    "jupyter": {
     "outputs_hidden": false
    },
    "pycharm": {
     "name": "#%%\n"
    }
   },
   "outputs": [],
   "source": [
    "import toolz.curried as toolz"
   ]
  },
  {
   "cell_type": "code",
   "execution_count": null,
   "metadata": {
    "collapsed": false,
    "jupyter": {
     "outputs_hidden": false
    },
    "pycharm": {
     "name": "#%%\n"
    }
   },
   "outputs": [],
   "source": [
    "# noinspection PyUnresolvedReferences\n",
    "from System import DateTime, DateTimeOffset, DBNull, TimeSpan\n",
    "# noinspection PyUnresolvedReferences\n",
    "import UnitsNet"
   ]
  },
  {
   "cell_type": "code",
   "execution_count": null,
   "metadata": {
    "collapsed": false,
    "jupyter": {
     "outputs_hidden": false
    },
    "pycharm": {
     "name": "#%%\n"
    }
   },
   "outputs": [],
   "source": [
    "project_filenames = {\n",
    "    # 'permian-a': 'Project-frankNstein_Permian_UTM13FT_0412_PjtDataFrame.ifrac',\n",
    "    'gng': 'GnG_DemoProject_wDataFrames.ifrac',\n",
    "}"
   ]
  },
  {
   "cell_type": "code",
   "execution_count": null,
   "metadata": {
    "collapsed": false,
    "jupyter": {
     "outputs_hidden": false
    },
    "pycharm": {
     "name": "#%%\n"
    }
   },
   "outputs": [],
   "source": [
    "test_data_path = pathlib.Path('c:/src/Orchid.IntegrationTestData/')\n",
    "project_path_names = toolz.valmap(\n",
    "    lambda fn: test_data_path.joinpath(fn), project_filenames\n",
    ")\n",
    "project_path_names"
   ]
  },
  {
   "cell_type": "code",
   "execution_count": null,
   "metadata": {
    "collapsed": false,
    "jupyter": {
     "outputs_hidden": false
    },
    "pycharm": {
     "name": "#%%\n"
    }
   },
   "outputs": [],
   "source": [
    "projects = toolz.valmap(\n",
    "    lambda pn: opl.ProjectLoader(str(pn)).native_project(),\n",
    "    project_path_names)\n",
    "projects"
   ]
  },
  {
   "cell_type": "code",
   "execution_count": null,
   "metadata": {
    "collapsed": false,
    "jupyter": {
     "outputs_hidden": false
    },
    "pycharm": {
     "name": "#%%\n"
    }
   },
   "outputs": [],
   "source": [
    "def make_project_data_frames_by_id(project):\n",
    "    return {df.ObjectId: df for df in project.DataFrames.Items}\n",
    "\n",
    "project_net_data_frames_by_id = toolz.pipe(\n",
    "    projects,\n",
    "    toolz.valmap(make_project_data_frames_by_id),\n",
    ")\n",
    "project_net_data_frames_by_id"
   ]
  },
  {
   "cell_type": "code",
   "execution_count": null,
   "metadata": {
    "collapsed": false,
    "jupyter": {
     "outputs_hidden": false
    },
    "pycharm": {
     "name": "#%%\n"
    }
   },
   "outputs": [],
   "source": [
    "def make_project_data_frames_by_name(project):\n",
    "    return {df.Name: df for df in project.DataFrames.Items}\n",
    "\n",
    "project_net_data_frames_by_name = toolz.pipe(\n",
    "    projects,\n",
    "    toolz.valmap(make_project_data_frames_by_name),\n",
    ")\n",
    "project_net_data_frames_by_name"
   ]
  },
  {
   "cell_type": "code",
   "execution_count": null,
   "metadata": {
    "collapsed": false,
    "jupyter": {
     "outputs_hidden": false
    },
    "pycharm": {
     "name": "#%%\n"
    }
   },
   "outputs": [],
   "source": [
    "# len(list(toolz.get('permian-a', project_net_data_frames_by_name)))\n",
    "len(list(toolz.get('gng', project_net_data_frames_by_name)))"
   ]
  },
  {
   "cell_type": "code",
   "execution_count": null,
   "metadata": {
    "collapsed": false,
    "jupyter": {
     "outputs_hidden": false
    },
    "pycharm": {
     "name": "#%%\n"
    }
   },
   "outputs": [],
   "source": [
    "project_net_data_frames_by_name"
   ]
  },
  {
   "cell_type": "code",
   "execution_count": null,
   "outputs": [],
   "source": [
    "class PermianFrames(enum.Enum):\n",
    "    PROJECT = 'Project Data Frame 01'\n",
    "    FDI = 'FDI Observations'\n",
    "    MICROSEISMIC = 'C3-Microseismic Data Frame 01'\n",
    "\n",
    "class GnGFrames(enum.Enum):\n",
    "    PROJECT = 'Project Data Frame 01'\n",
    "    FAULT = 'Fault Trace Set Data Frame 01'\n",
    "    STAGE = 'Stage Data Frame 01'\n",
    "    WELL_LOG = 'Well Log Set Data Frame'\n",
    "    HORIZON = 'Horizon Marker Set Data Frame01'"
   ],
   "metadata": {
    "collapsed": false,
    "pycharm": {
     "name": "#%%\n"
    }
   }
  },
  {
   "cell_type": "code",
   "execution_count": null,
   "metadata": {
    "collapsed": false,
    "jupyter": {
     "outputs_hidden": false
    },
    "pycharm": {
     "name": "#%%\n"
    }
   },
   "outputs": [],
   "source": [
    "project_only = toolz.valmap(\n",
    "    toolz.keyfilter(lambda n: n == GnGFrames.PROJECT.value),\n",
    "    project_net_data_frames_by_name)\n",
    "project_only\n",
    "# horizon_only = toolz.valmap(\n",
    "#     toolz.keyfilter(lambda n: n == 'Horizon Marker Set Data Frame01'),\n",
    "#                     project_net_data_frames_by_name)\n",
    "# horizon_only\n",
    "# fdi_only = toolz.valmap(\n",
    "#     toolz.keyfilter(lambda n: n == PermianFrames.FDI.value),\n",
    "#     project_net_data_frames_by_name)\n",
    "# fdi_only\n",
    "# microseismic_only = toolz.valmap(\n",
    "#     toolz.keyfilter(lambda n: n == PermianFrames.MICROSEISMIC.value),\n",
    "#     project_net_data_frames_by_name)\n",
    "# microseismic_only\n"
   ]
  },
  {
   "cell_type": "code",
   "execution_count": null,
   "metadata": {
    "collapsed": false,
    "jupyter": {
     "outputs_hidden": false
    },
    "pycharm": {
     "name": "#%%\n"
    }
   },
   "outputs": [],
   "source": [
    "project_net_data_frames_by_name = project_only\n",
    "# project_net_data_frames_by_name = horizon_only\n",
    "# project_net_data_frames_by_name = project_only\n",
    "# project_net_data_frames_by_name = fdi_only\n",
    "# project_net_data_frames_by_name = microseismic_only\n",
    "\n",
    "project_net_data_frames_by_name"
   ]
  },
  {
   "cell_type": "code",
   "execution_count": null,
   "metadata": {
    "collapsed": false,
    "jupyter": {
     "outputs_hidden": false
    },
    "pycharm": {
     "name": "#%%\n"
    }
   },
   "outputs": [],
   "source": [
    "# Adapted from code at\n",
    "# https://docs.microsoft.com/en-us/dotnet/framework/data/adonet/dataset-datatable-dataview/creating-a-datareader\n",
    "# retrieved on 18-Apr-2021.\n",
    "\n",
    "def table_row_to_dict(reader):\n",
    "    def map_value(rv, col_type):\n",
    "        if rv == DBNull.Value:\n",
    "            return None\n",
    "        \n",
    "        if col_type == DateTimeOffset.UtcNow.GetType():\n",
    "            return rv.ToString('o')\n",
    "            \n",
    "        if col_type == DateTime.UtcNow.GetType():\n",
    "            rv_text = rv.ToString('o')\n",
    "            print(f'\"{rv_text}\" {col_type}')\n",
    "            raise TypeError(f'Unexpected `DateTime` {rv_text}')\n",
    "\n",
    "        return rv\n",
    "    \n",
    "    seed = {'Sample': None}\n",
    "    indices = range(reader.FieldCount)\n",
    "    names = [reader.GetName(i) for i in indices]\n",
    "    col_types = [reader.GetFieldType(i) for i in indices]\n",
    "    raw_values = [reader[name] for name in names]\n",
    "    values = toolz.map(map_value, raw_values, col_types)\n",
    "    table_result = dict(zip(names, values))\n",
    "    result = toolz.merge(seed, table_result)\n",
    "    return result\n",
    "\n",
    "def read_data_table(data_table):\n",
    "    reader = data_table.CreateDataReader()\n",
    "    try:\n",
    "        while True:\n",
    "            if reader.HasRows:\n",
    "                has_row = reader.Read()\n",
    "                while has_row:\n",
    "                    yield table_row_to_dict(reader)\n",
    "                    has_row = reader.Read()\n",
    "            else:\n",
    "                return\n",
    "            if not reader.NextResult():\n",
    "                break\n",
    "    finally:\n",
    "        reader.Dispose()\n",
    "\n",
    "def table_to_data_frame(data_table):\n",
    "    return pd.DataFrame(data=[r for r in read_data_table(data_table)])"
   ]
  },
  {
   "cell_type": "code",
   "execution_count": null,
   "metadata": {
    "collapsed": false,
    "jupyter": {
     "outputs_hidden": false
    },
    "pycharm": {
     "name": "#%%\n"
    }
   },
   "outputs": [],
   "source": [
    "net_data_frame_to_pandas_data_frame = toolz.compose(table_to_data_frame,\n",
    "                                                    lambda net_df: net_df.DataTable)\n",
    "\n",
    "project_pandas_data_frames_by_name = toolz.pipe(\n",
    "    project_net_data_frames_by_name,\n",
    "    toolz.valmap(toolz.valmap(net_data_frame_to_pandas_data_frame)),\n",
    ")"
   ]
  },
  {
   "cell_type": "code",
   "execution_count": null,
   "metadata": {
    "collapsed": false,
    "jupyter": {
     "outputs_hidden": false
    },
    "pycharm": {
     "name": "#%%\n"
    }
   },
   "outputs": [],
   "source": [
    "gng_project_frame_columns = list(\n",
    "    toolz.get_in(['gng', GnGFrames.PROJECT.value],\n",
    "                 project_pandas_data_frames_by_name).columns.values\n",
    ")\n",
    "print(gng_project_frame_columns)\n",
    "# permian_project_frame_columns = list(\n",
    "#     toolz.get_in(['permian-a', PermianFrames.PROJECT.value],\n",
    "#                  project_pandas_data_frames_by_name).columns.values\n",
    "# )\n",
    "# print(permian_project_frame_columns)\n",
    "# permian_fdi_frame_columns = list(\n",
    "#     toolz.get_in(['permian-a', PermianFrames.FDI.value],\n",
    "#                  project_pandas_data_frames_by_name).columns.values\n",
    "# )\n",
    "# print(permian_fdi_frame_columns)\n",
    "# permian_microseismic_frame_columns = list(\n",
    "#     toolz.get_in(['permian-a', PermianFrames.MICROSEISMIC.value],\n",
    "#                  project_pandas_data_frames_by_name).columns.values\n",
    "# )\n",
    "# print(permian_microseismic_frame_columns)"
   ]
  },
  {
   "cell_type": "code",
   "execution_count": null,
   "metadata": {
    "collapsed": false,
    "jupyter": {
     "outputs_hidden": false
    },
    "pycharm": {
     "name": "#%%\n"
    }
   },
   "outputs": [],
   "source": [
    "gng_project_sampled_columns = [\n",
    "    'Surface  Hole Easting ', 'Bottom Hole Northing ', 'Bottom Hole TDV ',\n",
    "    'StageNumber', 'StageLength', 'Pnet'\n",
    "]\n",
    "gng_project_sampled_columns\n",
    "# permian_project_sampled_columns = [\n",
    "#     'Bottom Hole Easting ', 'MDBottom', 'PartEndTime',\n",
    "#     'StagePartPumpedVolume', 'Pnet', 'PumpTime'\n",
    "# ]\n",
    "# permian_project_sampled_columns\n",
    "# permian_fdi_sampled_columns = [\n",
    "#     'ObservationSetName', 'TreatmentStagePartNumber', 'Timestamp',\n",
    "#     'DeltaT', 'DeltaP', 'VolumeToPick'\n",
    "# ]\n",
    "# permian_fdi_sampled_columns\n",
    "# permian_microseismic_sampled_columns = [\n",
    "#     'Timestamp', 'Northing', 'DepthTvdSs',\n",
    "#     'Distance3d', 'PlanarDistanceAzimuth', 'VerticalDistance',\n",
    "# ]\n",
    "# permian_microseismic_sampled_columns"
   ]
  },
  {
   "cell_type": "code",
   "execution_count": null,
   "metadata": {
    "collapsed": false,
    "jupyter": {
     "outputs_hidden": false
    },
    "pycharm": {
     "name": "#%%\n"
    }
   },
   "outputs": [],
   "source": [
    "[gng_project_frame_columns.index(cn) for cn in gng_project_sampled_columns]\n",
    "# [permian_project_frame_columns.index(cn) for cn in permian_project_sampled_columns]\n",
    "# [permian_fdi_frame_columns.index(cn) for cn in permian_fdi_sampled_columns]\n",
    "# [permian_microseismic_frame_columns.index(cn) for cn in permian_microseismic_sampled_columns]"
   ]
  },
  {
   "cell_type": "code",
   "execution_count": null,
   "metadata": {
    "collapsed": false,
    "jupyter": {
     "outputs_hidden": false
    },
    "pycharm": {
     "name": "#%%\n"
    }
   },
   "outputs": [],
   "source": [
    "all_indices = toolz.compose(list, range, len)\n",
    "\n",
    "@toolz.curry\n",
    "def sample_data_frame_column_indices(data_frame):\n",
    "    # Gng Project\n",
    "    result = toolz.concatv(['Sample'], gng_project_sampled_columns)\n",
    "    # # Permian project\n",
    "    # result = toolz.concatv(['Sample'], permian_project_sampled_columns)\n",
    "    # # Permian FDI\n",
    "    # result = toolz.concatv(['Sample'], permian_fdi_sampled_columns)\n",
    "    # # Permian Microseismic\n",
    "    # result = toolz.concatv(['Sample'], permian_microseismic_sampled_columns)\n",
    "\n",
    "    return result\n",
    "\n",
    "@toolz.curry\n",
    "def sample_data_frame_row_indices(data_frame):\n",
    "    result = [0, 23, 37, 58, 65, 89, 170, 210]  # GnG project\n",
    "    # result = [0, 31, 39, 51, 52, 58, 62, 87]  # Permian project\n",
    "    # Added sample 26 to FDI observations because of MaxValue issues\n",
    "    # result = [0, 1, 20, 26, 28, 45, 52, 53, 83]  # Permian fdi\n",
    "    # result = [0, 12, 79, 96, 99, 330, 366, 479]  # Permian microseismic\n",
    "\n",
    "    return result"
   ]
  },
  {
   "cell_type": "code",
   "execution_count": null,
   "metadata": {
    "collapsed": false,
    "jupyter": {
     "outputs_hidden": false
    },
    "pycharm": {
     "name": "#%%\n"
    }
   },
   "outputs": [],
   "source": [
    "@toolz.curry\n",
    "def sample_data_frame_indices(indices_func, data_frame):\n",
    "    return indices_func(data_frame)"
   ]
  },
  {
   "cell_type": "code",
   "execution_count": null,
   "metadata": {
    "collapsed": false,
    "jupyter": {
     "outputs_hidden": false
    },
    "pycharm": {
     "name": "#%%\n"
    }
   },
   "outputs": [],
   "source": [
    "sampled_column_indices_by_name = toolz.valmap(\n",
    "    toolz.valmap(sample_data_frame_column_indices), project_pandas_data_frames_by_name\n",
    ")\n",
    "sampled_column_indices_by_name"
   ]
  },
  {
   "cell_type": "code",
   "execution_count": null,
   "metadata": {
    "collapsed": false,
    "jupyter": {
     "outputs_hidden": false
    },
    "pycharm": {
     "name": "#%%\n"
    }
   },
   "outputs": [],
   "source": [
    "sampled_row_indices_by_name = toolz.valmap(toolz.valmap(sample_data_frame_row_indices),\n",
    "                                           project_pandas_data_frames_by_name)\n",
    "sampled_row_indices_by_name"
   ]
  },
  {
   "cell_type": "code",
   "execution_count": null,
   "metadata": {
    "collapsed": false,
    "jupyter": {
     "outputs_hidden": false
    },
    "pycharm": {
     "name": "#%%\n"
    }
   },
   "outputs": [],
   "source": [
    "def add_sample_numbers(items):\n",
    "    data_frame, row_indices, column_indices = items\n",
    "    sample_index = (list(data_frame.columns.values)).index('Sample')\n",
    "    for row_index in row_indices:\n",
    "        data_frame.iloc[row_index, [sample_index]] = row_index\n",
    "    return data_frame, row_indices, column_indices\n",
    "\n",
    "data_frames_to_sample_by_name = toolz.merge_with(toolz.merge_with(add_sample_numbers),\n",
    "                                                 project_pandas_data_frames_by_name,\n",
    "                                                 sampled_row_indices_by_name,\n",
    "                                                 sampled_column_indices_by_name)\n",
    "data_frames_to_sample_by_name"
   ]
  },
  {
   "cell_type": "code",
   "execution_count": null,
   "metadata": {
    "collapsed": false,
    "jupyter": {
     "outputs_hidden": false
    },
    "pycharm": {
     "name": "#%%\n"
    }
   },
   "outputs": [],
   "source": [
    "def sample_data_frame(data_frame, row_indices, column_indices):\n",
    "    result = data_frame.iloc[row_indices, :].loc[:, column_indices]\n",
    "    return result"
   ]
  },
  {
   "cell_type": "code",
   "execution_count": null,
   "metadata": {
    "collapsed": false,
    "jupyter": {
     "outputs_hidden": false
    },
    "pycharm": {
     "name": "#%%\n"
    }
   },
   "outputs": [],
   "source": [
    "# GnG\n",
    "sampled_project_data_frames_by_name = toolz.valmap(\n",
    "    toolz.valmap(lambda e: sample_data_frame(*e)), data_frames_to_sample_by_name\n",
    ")\n",
    "sampled_project_data_frames_by_name\n",
    "\n",
    "# Permian\n",
    "# sampled_project_data_frames_by_name = toolz.valmap(\n",
    "#     toolz.valmap(lambda e: sample_data_frame(*e)), data_frames_to_sample_by_name\n",
    "# )\n",
    "# sampled_project_data_frames_by_name\n",
    "# sampled_fdi_data_frames_by_name = toolz.valmap(\n",
    "#     toolz.valmap(lambda e: sample_data_frame(*e)), data_frames_to_sample_by_name\n",
    "# )\n",
    "# sampled_fdi_data_frames_by_name\n",
    "# sampled_microseismic_data_frames_by_name = toolz.valmap(\n",
    "#     toolz.valmap(lambda e: sample_data_frame(*e)), data_frames_to_sample_by_name\n",
    "# )\n",
    "# sampled_microseismic_data_frames_by_name"
   ]
  },
  {
   "cell_type": "code",
   "execution_count": null,
   "metadata": {
    "collapsed": false,
    "jupyter": {
     "outputs_hidden": false
    },
    "pycharm": {
     "name": "#%%\n"
    }
   },
   "outputs": [],
   "source": [
    "# GnG\n",
    "toolz.get_in(['gng', GnGFrames.PROJECT.value],\n",
    "              sampled_project_data_frames_by_name)\n",
    "\n",
    "# Permian\n",
    "# toolz.get_in(['permian-a', PermianFrames.PROJECT.value],\n",
    "#               sampled_project_data_frames_by_name)\n",
    "# toolz.get_in(['permian-a', PermianFrames.FDI.value],\n",
    "#               sampled_fdi_data_frames_by_name)\n",
    "# toolz.get_in(['permian-a', PermianFrames.MICROSEISMIC.value],\n",
    "#               sampled_microseismic_data_frames_by_name)"
   ]
  }
 ],
 "metadata": {
  "kernelspec": {
   "display_name": "Python 3",
   "language": "python",
   "name": "python3"
  },
  "language_info": {
   "codemirror_mode": {
    "name": "ipython",
    "version": 3
   },
   "file_extension": ".py",
   "mimetype": "text/x-python",
   "name": "python",
   "nbconvert_exporter": "python",
   "pygments_lexer": "ipython3",
   "version": "3.8.7"
  }
 },
 "nbformat": 4,
 "nbformat_minor": 4
}