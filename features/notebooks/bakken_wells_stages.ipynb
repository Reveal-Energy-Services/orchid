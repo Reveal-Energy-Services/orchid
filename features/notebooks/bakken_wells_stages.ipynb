{
 "cells": [
  {
   "cell_type": "code",
   "execution_count": null,
   "metadata": {},
   "outputs": [],
   "source": [
    "from collections import namedtuple\n",
    "import random"
   ]
  },
  {
   "cell_type": "code",
   "execution_count": null,
   "metadata": {
    "collapsed": false,
    "jupyter": {
     "outputs_hidden": false
    },
    "pycharm": {
     "name": "#%%\n"
    }
   },
   "outputs": [],
   "source": [
    "import pandas as pd"
   ]
  },
  {
   "cell_type": "code",
   "execution_count": null,
   "metadata": {},
   "outputs": [],
   "source": [
    "import orchid\n",
    "import orchid.reference_origins as origins"
   ]
  },
  {
   "cell_type": "code",
   "execution_count": null,
   "metadata": {},
   "outputs": [],
   "source": [
    "import orchid.project_loader as opl"
   ]
  },
  {
   "cell_type": "code",
   "execution_count": null,
   "metadata": {
    "collapsed": false,
    "jupyter": {
     "outputs_hidden": false
    },
    "pycharm": {
     "name": "#%%\n"
    }
   },
   "outputs": [],
   "source": [
    "import toolz.curried as toolz"
   ]
  },
  {
   "cell_type": "code",
   "execution_count": null,
   "metadata": {
    "collapsed": false,
    "jupyter": {
     "outputs_hidden": false
    },
    "pycharm": {
     "name": "#%%\n"
    }
   },
   "outputs": [],
   "source": [
    "from Orchid.FractureDiagnostics import WellReferenceFrameXy, DepthDatum\n",
    "import UnitsNet"
   ]
  },
  {
   "cell_type": "code",
   "execution_count": null,
   "metadata": {},
   "outputs": [],
   "source": [
    "# Path name of whatever project you wish to load.\n",
    "loader = opl.ProjectLoader(\n",
    "    r'c:\\src\\Orchid.IntegrationTestData\\frankNstein_Bakken_UTM13_FEET.ifrac')"
   ]
  },
  {
   "cell_type": "code",
   "execution_count": null,
   "metadata": {},
   "outputs": [],
   "source": [
    "# The returned value from `native_project` is . NET project. NOTE: each instance \n",
    "# of the `ProjectLoader` class loads **exactly one** .NET project. To load a \n",
    "# different project, you must create a new `ProjectLoader` instance.\n",
    "native_project = loader.native_project()"
   ]
  },
  {
   "cell_type": "code",
   "execution_count": null,
   "metadata": {},
   "outputs": [],
   "source": [
    "all_wells = native_project.Wells.Items"
   ]
  },
  {
   "cell_type": "code",
   "execution_count": null,
   "metadata": {},
   "outputs": [],
   "source": [
    "well_of_interest = all_wells[3]  # 'Demo_4H'"
   ]
  },
  {
   "cell_type": "code",
   "execution_count": null,
   "metadata": {},
   "outputs": [],
   "source": [
    "well_of_interest.Name"
   ]
  },
  {
   "cell_type": "code",
   "execution_count": null,
   "metadata": {},
   "outputs": [],
   "source": [
    "all_stages_for_well_of_interest = well_of_interest.Stages.Items"
   ]
  },
  {
   "cell_type": "code",
   "execution_count": null,
   "metadata": {},
   "outputs": [],
   "source": [
    "len(all_stages_for_well_of_interest)"
   ]
  },
  {
   "cell_type": "code",
   "execution_count": null,
   "metadata": {
    "collapsed": false,
    "jupyter": {
     "outputs_hidden": false
    },
    "pycharm": {
     "name": "#%%\n"
    }
   },
   "outputs": [],
   "source": [
    "all_stage_numbers = list(range((len(all_stages_for_well_of_interest))))\n",
    "random.shuffle(all_stage_numbers)\n",
    "all_stage_numbers"
   ]
  },
  {
   "cell_type": "code",
   "execution_count": null,
   "metadata": {
    "collapsed": false,
    "jupyter": {
     "outputs_hidden": false
    },
    "pycharm": {
     "name": "#%%\n"
    }
   },
   "outputs": [],
   "source": [
    "sampled_stage_numbers = [0, 34, 4, 28]"
   ]
  },
  {
   "cell_type": "code",
   "execution_count": null,
   "metadata": {
    "pycharm": {
     "name": "#%%\n"
    }
   },
   "outputs": [],
   "source": [
    "@toolz.curry\n",
    "def basic_data_for_stage_of_well(w, s):\n",
    "    return ('bakken', w.Name, s.DisplayStageNumber,\n",
    "            s.DisplayNameWithoutWell, s.OrderOfCompletionOnWell,\n",
    "            s.GlobalStageSequenceNumber, stage_type_str(s.StageType))\n",
    "basic_data_for_well = basic_data_for_stage_of_well(well_of_interest)\n",
    "\n",
    "@toolz.curry\n",
    "def stage_type_str(stage_type):\n",
    "    stage_type_str_map = {0: 'PlugAndPerf',\n",
    "                          1: 'SlidingSleeve',\n",
    "                          2: 'SinglePointEntry',\n",
    "                          3: 'OpenHole'}\n",
    "    return stage_type_str_map[stage_type]\n",
    "\n",
    "@toolz.curry\n",
    "def make_basic_item(n):\n",
    "    basic_data = basic_data_for_well(all_stages_for_well_of_interest[n])\n",
    "    return {\n",
    "        'field': [basic_data[0]],\n",
    "        'name': [basic_data[1]],\n",
    "        'stage_no': [basic_data[2]],\n",
    "        'name_without_well': [basic_data[3]],\n",
    "        'order': [basic_data[4]],\n",
    "        'global_seq_no': [basic_data[5]],\n",
    "        'stage_type': [basic_data[6]],\n",
    "    }\n",
    "    \n",
    "all_items = toolz.pipe(sampled_stage_numbers,\n",
    "                       toolz.map(make_basic_item),\n",
    "                       list)\n",
    "\n",
    "def merge_values(values):\n",
    "    return list(toolz.concat(values))\n",
    "\n",
    "data = toolz.merge_with(merge_values,\n",
    "                        *all_items)\n",
    "\n",
    "pd.DataFrame(data)"
   ]
  },
  {
   "cell_type": "code",
   "execution_count": null,
   "metadata": {
    "collapsed": false,
    "jupyter": {
     "outputs_hidden": false
    },
    "pycharm": {
     "name": "#%%\n"
    }
   },
   "outputs": [],
   "source": [
    "all_frames = [rf for rf in iter(origins.WellReferenceFrameXy)]\n",
    "random_frames = list(toolz.concat([all_frames] * 2))\n",
    "random.shuffle(random_frames)\n",
    "random_frames"
   ]
  },
  {
   "cell_type": "code",
   "execution_count": null,
   "metadata": {
    "collapsed": false,
    "jupyter": {
     "outputs_hidden": false
    },
    "pycharm": {
     "name": "#%%\n"
    }
   },
   "outputs": [],
   "source": [
    "sampled_frames = [\n",
    "    origins.WellReferenceFrameXy.ABSOLUTE_STATE_PLANE,\n",
    "    origins.WellReferenceFrameXy.WELL_HEAD,\n",
    "    origins.WellReferenceFrameXy.PROJECT,\n",
    "    origins.WellReferenceFrameXy.WELL_HEAD,\n",
    "]"
   ]
  },
  {
   "cell_type": "code",
   "execution_count": null,
   "metadata": {
    "collapsed": false,
    "jupyter": {
     "outputs_hidden": false
    },
    "pycharm": {
     "name": "#%%\n"
    }
   },
   "outputs": [],
   "source": [
    "SubsurfacePoint = namedtuple('SubsurfacePoint', ['x', 'y', 'depth'])\n",
    "@toolz.curry\n",
    "def subsurface_location_in_units(in_units, subsurface_location):\n",
    "    x = subsurface_location.X.ToUnit(in_units)\n",
    "    y = subsurface_location.Y.ToUnit(in_units)\n",
    "    depth = subsurface_location.Depth.ToUnit(in_units)\n",
    "    return SubsurfacePoint(x, y, depth)\n",
    "subsurface_location_in_project_units = subsurface_location_in_units(native_project.ProjectUnits.LengthUnit)\n",
    "\n",
    "def get_stage_bottom_location(reference_frame, stage):\n",
    "    return stage.GetStageLocationBottom(reference_frame.value, DepthDatum.KellyBushing)\n",
    "\n",
    "def get_stage_top_location(reference_frame, stage):\n",
    "    return stage.GetStageLocationTop(reference_frame.value, DepthDatum.KellyBushing)\n",
    "\n",
    "@toolz.curry\n",
    "def stage_location(w, location_func, rf, s):\n",
    "    subsurface_location = location_func(rf, s)\n",
    "    x, y, depth = subsurface_location_in_project_units(subsurface_location)\n",
    "    return ('bakken', w.Name, s.DisplayStageNumber, rf.name,\n",
    "            f'{x.Value:.2f} {UnitsNet.Length.GetAbbreviation(x.Unit)}',\n",
    "            f'{y.Value:.2f} {UnitsNet.Length.GetAbbreviation(y.Unit)}',\n",
    "            f'{depth.Value:.2f} {UnitsNet.Length.GetAbbreviation(depth.Unit)}')\n",
    "location_for_well = stage_location(well_of_interest)\n",
    "stage_bottom_location_for_well = location_for_well(get_stage_bottom_location)\n",
    "stage_top_location_for_well = location_for_well(get_stage_top_location)\n",
    "\n",
    "@toolz.curry\n",
    "def make_location_item(rf, n):\n",
    "    # location_data = stage_top_location_for_well(rf, all_stages_for_well_of_interest[n])\n",
    "    location_data = stage_bottom_location_for_well(rf, all_stages_for_well_of_interest[n])\n",
    "    return {\n",
    "        'field': [location_data[0]],\n",
    "        'name': [location_data[1]],\n",
    "        'stage_no': [location_data[2]],\n",
    "        'frame': [location_data[3]],\n",
    "        'x': [location_data[4]],\n",
    "        'y': [location_data[5]],\n",
    "        'depth': [location_data[6]],\n",
    "    }\n",
    "\n",
    "all_items = toolz.pipe(zip(sampled_frames,\n",
    "                           sampled_stage_numbers,),\n",
    "                       toolz.map(lambda pair: make_location_item(*pair)),\n",
    "                       list)\n",
    "\n",
    "def merge_values(values):\n",
    "    return list(toolz.concat(values))\n",
    "\n",
    "data = toolz.merge_with(merge_values,\n",
    "                        *all_items)\n",
    "\n",
    "pd.DataFrame(data)"
   ]
  },
  {
   "cell_type": "code",
   "execution_count": null,
   "metadata": {
    "collapsed": false,
    "jupyter": {
     "outputs_hidden": false
    },
    "pycharm": {
     "name": "#%%\n"
    }
   },
   "outputs": [],
   "source": [
    "@toolz.curry\n",
    "def cluster_count_for_stage_of_well(w, s):\n",
    "    return ('bakken', w.Name, s.DisplayStageNumber,\n",
    "            s.NumberOfClusters)\n",
    "cluster_count_for_well = cluster_count_for_stage_of_well(well_of_interest)\n",
    "\n",
    "@toolz.curry\n",
    "def make_cluster_count(n):\n",
    "    cluster_count_data = cluster_count_for_well(all_stages_for_well_of_interest[n])\n",
    "    return {\n",
    "        'field': [cluster_count_data[0]],\n",
    "        'name': [cluster_count_data[1]],\n",
    "        'stage_no': [cluster_count_data[2]],\n",
    "        'cluster_count': [cluster_count_data[3]],\n",
    "    }\n",
    "\n",
    "all_items = toolz.pipe(sampled_stage_numbers,\n",
    "                       toolz.map(make_cluster_count),\n",
    "                       list)\n",
    "\n",
    "def merge_values(values):\n",
    "    return list(toolz.concat(values))\n",
    "\n",
    "data = toolz.merge_with(merge_values,\n",
    "                        *all_items)\n",
    "\n",
    "cluster_count_df = pd.DataFrame(data)\n",
    "cluster_count_df"
   ]
  },
  {
   "cell_type": "code",
   "execution_count": null,
   "metadata": {
    "collapsed": false,
    "jupyter": {
     "outputs_hidden": false
    },
    "pycharm": {
     "name": "#%%\n"
    }
   },
   "outputs": [],
   "source": [
    "shuffled_cluster_numbers = []\n",
    "for cluster_count in cluster_count_df['cluster_count']:\n",
    "    candidates = list(range(1, cluster_count + 1))\n",
    "    random.shuffle(candidates)\n",
    "    shuffled_cluster_numbers.append(candidates)\n",
    "shuffled_cluster_numbers"
   ]
  },
  {
   "cell_type": "code",
   "execution_count": null,
   "metadata": {
    "collapsed": false,
    "jupyter": {
     "outputs_hidden": false
    },
    "pycharm": {
     "name": "#%%\n"
    }
   },
   "outputs": [],
   "source": [
    "sampled_cluster_numbers = [4, 6, 1, 5]"
   ]
  },
  {
   "cell_type": "code",
   "execution_count": null,
   "metadata": {
    "collapsed": false,
    "jupyter": {
     "outputs_hidden": false
    },
    "pycharm": {
     "name": "#%%\n"
    }
   },
   "outputs": [],
   "source": [
    "def get_stage_cluster_location(reference_frame, stage, cluster_no):\n",
    "    return stage.GetStageLocationCluster(cluster_no, reference_frame.value, DepthDatum.KellyBushing)\n",
    "\n",
    "@toolz.curry\n",
    "def stage_cluster_location(w, location_func, rf, s, cluster_no):\n",
    "    subsurface_location = location_func(rf, s, cluster_no)\n",
    "    x, y, depth = subsurface_location_in_project_units(subsurface_location)\n",
    "    return ('bakken', w.Name, s.DisplayStageNumber, cluster_no, rf.name,\n",
    "            f'{x.Value:.2f} {UnitsNet.Length.GetAbbreviation(x.Unit)}',\n",
    "            f'{y.Value:.2f} {UnitsNet.Length.GetAbbreviation(y.Unit)}',\n",
    "            f'{depth.Value:.2f} {UnitsNet.Length.GetAbbreviation(depth.Unit)}')\n",
    "cluster_location_for_well = stage_cluster_location(well_of_interest)\n",
    "stage_cluster_location_for_well = cluster_location_for_well(get_stage_cluster_location)\n",
    "\n",
    "@toolz.curry\n",
    "def make_cluster_location_item(rf, n, cluster_no):\n",
    "    location_data = stage_cluster_location_for_well(rf, all_stages_for_well_of_interest[n], cluster_no)\n",
    "    return {\n",
    "        'field': [location_data[0]],\n",
    "        'name': [location_data[1]],\n",
    "        'stage_no': [location_data[2]],\n",
    "        'cluster_no': [location_data[3]],\n",
    "        'frame': [location_data[4]],\n",
    "        'x': [location_data[5]],\n",
    "        'y': [location_data[6]],\n",
    "        'depth': [location_data[7]],\n",
    "    }\n",
    "\n",
    "all_items = toolz.pipe(zip(sampled_frames,\n",
    "                           sampled_stage_numbers,\n",
    "                           sampled_cluster_numbers,),\n",
    "                       toolz.map(lambda triple: make_cluster_location_item(*triple)),\n",
    "                       list)\n",
    "\n",
    "def merge_values(values):\n",
    "    return list(toolz.concat(values))\n",
    "\n",
    "data = toolz.merge_with(merge_values,\n",
    "                        *all_items)\n",
    "\n",
    "pd.DataFrame(data)"
   ]
  },
  {
   "cell_type": "code",
   "execution_count": null,
   "metadata": {},
   "outputs": [],
   "source": []
  }
 ],
 "metadata": {
  "kernelspec": {
   "display_name": "Python 3",
   "language": "python",
   "name": "python3"
  },
  "language_info": {
   "codemirror_mode": {
    "name": "ipython",
    "version": 3
   },
   "file_extension": ".py",
   "mimetype": "text/x-python",
   "name": "python",
   "nbconvert_exporter": "python",
   "pygments_lexer": "ipython3",
   "version": "3.8.6"
  }
 },
 "nbformat": 4,
 "nbformat_minor": 4
}