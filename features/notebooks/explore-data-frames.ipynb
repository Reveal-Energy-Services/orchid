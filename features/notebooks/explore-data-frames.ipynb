{
 "cells": [
  {
   "cell_type": "code",
   "execution_count": null,
   "metadata": {
    "collapsed": false,
    "jupyter": {
     "outputs_hidden": false
    },
    "pycharm": {
     "name": "#%%\n"
    }
   },
   "outputs": [],
   "source": [
    "import pathlib"
   ]
  },
  {
   "cell_type": "code",
   "execution_count": null,
   "metadata": {
    "collapsed": false,
    "jupyter": {
     "outputs_hidden": false
    },
    "pycharm": {
     "name": "#%%\n"
    }
   },
   "outputs": [],
   "source": [
    "import numpy as np\n",
    "import matplotlib.pyplot as plt\n",
    "import pandas as pd\n",
    "import seaborn as sns"
   ]
  },
  {
   "cell_type": "code",
   "execution_count": null,
   "metadata": {
    "collapsed": false,
    "jupyter": {
     "outputs_hidden": false
    },
    "pycharm": {
     "name": "#%%\n"
    }
   },
   "outputs": [],
   "source": [
    "from orchid import (project_loader as opl)"
   ]
  },
  {
   "cell_type": "code",
   "execution_count": null,
   "metadata": {
    "collapsed": false,
    "jupyter": {
     "outputs_hidden": false
    },
    "pycharm": {
     "name": "#%%\n"
    }
   },
   "outputs": [],
   "source": [
    "import toolz.curried as toolz"
   ]
  },
  {
   "cell_type": "code",
   "execution_count": null,
   "metadata": {
    "collapsed": false,
    "jupyter": {
     "outputs_hidden": false
    },
    "pycharm": {
     "name": "#%%\n"
    }
   },
   "outputs": [],
   "source": [
    "import UnitsNet"
   ]
  },
  {
   "cell_type": "code",
   "execution_count": null,
   "metadata": {
    "collapsed": false,
    "jupyter": {
     "outputs_hidden": false
    },
    "pycharm": {
     "name": "#%%\n"
    }
   },
   "outputs": [],
   "source": [
    "project_filenames = {\n",
    "    'permian-a': 'Project-frankNstein_Permian_UTM13FT_0412_PjtDataFrame.ifrac',\n",
    "    'gng': 'GnG_DemoProject_wDataFrames.ifrac',\n",
    "}"
   ]
  },
  {
   "cell_type": "code",
   "execution_count": null,
   "metadata": {
    "collapsed": false,
    "jupyter": {
     "outputs_hidden": false
    },
    "pycharm": {
     "name": "#%%\n"
    }
   },
   "outputs": [],
   "source": [
    "test_data_path = pathlib.Path('c:/src/Orchid.IntegrationTestData/')\n",
    "project_path_names = toolz.valmap(lambda fn: test_data_path.joinpath(fn), project_filenames)\n",
    "project_path_names"
   ]
  },
  {
   "cell_type": "code",
   "execution_count": null,
   "metadata": {
    "collapsed": false,
    "jupyter": {
     "outputs_hidden": false
    },
    "pycharm": {
     "name": "#%%\n"
    }
   },
   "outputs": [],
   "source": [
    "projects = toolz.valmap(\n",
    "    lambda pn: opl.ProjectLoader(str(pn)).native_project(),\n",
    "    project_path_names)\n",
    "projects"
   ]
  },
  {
   "cell_type": "code",
   "execution_count": null,
   "metadata": {
    "collapsed": false,
    "jupyter": {
     "outputs_hidden": false
    },
    "pycharm": {
     "name": "#%%\n"
    }
   },
   "outputs": [],
   "source": [
    "project_units = toolz.valmap(lambda p: p.ProjectUnits, projects)\n",
    "project_units"
   ]
  },
  {
   "cell_type": "code",
   "execution_count": null,
   "metadata": {
    "collapsed": false,
    "jupyter": {
     "outputs_hidden": false
    },
    "pycharm": {
     "name": "#%%\n"
    }
   },
   "outputs": [],
   "source": [
    "def accumulator(so_far, element):\n",
    "    return toolz.assoc(so_far,  element.ObjectId, element)\n",
    "\n",
    "def data_frame_map(project):\n",
    "    return toolz.pipe(project.DataFrames.Items,\n",
    "                   list,\n",
    "                   lambda dfs: toolz.reduce(accumulator, dfs, {})\n",
    "              )\n",
    "\n",
    "net_data_frames = toolz.valmap(data_frame_map, projects)\n",
    "net_data_frames"
   ]
  },
  {
   "cell_type": "code",
   "execution_count": null,
   "metadata": {
    "collapsed": false,
    "jupyter": {
     "outputs_hidden": false
    },
    "pycharm": {
     "name": "#%%\n"
    }
   },
   "outputs": [],
   "source": [
    "def identify_data_frame(item):\n",
    "    df_id, data_frame = item\n",
    "    return {'id': data_frame.ObjectId, 'name': data_frame.Name, 'display_name': data_frame.DisplayName}\n",
    "\n",
    "def identify_data_frames(data_frames):\n",
    "    return toolz.pipe(data_frames,\n",
    "                      # toolz.do(lambda df: print(df)),\n",
    "                      lambda dfs: toolz.map(identify_data_frame, dfs.items()),\n",
    "                      list)\n",
    "\n",
    "\n",
    "identifications = toolz.valmap(identify_data_frames, net_data_frames)\n",
    "identifications"
   ]
  },
  {
   "cell_type": "code",
   "execution_count": null,
   "metadata": {
    "collapsed": false,
    "jupyter": {
     "outputs_hidden": false
    },
    "pycharm": {
     "name": "#%%\n"
    }
   },
   "outputs": [],
   "source": [
    "@toolz.curry\n",
    "def add_project_name(pn, df_ids):\n",
    "    return toolz.assoc(df_ids, 'project', pn)\n",
    "    \n",
    "    \n",
    "def summarize_data_frames(item):\n",
    "    pn, dfs_ids = item\n",
    "    result = toolz.pipe(dfs_ids,\n",
    "                        # toolz.do(lambda df_id: print(df_id)),\n",
    "                        toolz.map(lambda df_ids: add_project_name(pn, df_ids)),\n",
    "                        list,\n",
    "                       )\n",
    "    return pn, result\n",
    "\n",
    "id_summaries = toolz.itemmap(summarize_data_frames, identifications)\n",
    "id_summaries"
   ]
  },
  {
   "cell_type": "code",
   "execution_count": null,
   "metadata": {},
   "outputs": [],
   "source": [
    "col_names = ['project', 'id', 'name', 'display_name']"
   ]
  },
  {
   "cell_type": "code",
   "execution_count": null,
   "metadata": {},
   "outputs": [],
   "source": [
    "pd.DataFrame(data=id_summaries['permian-a'], columns=col_names)"
   ]
  },
  {
   "cell_type": "code",
   "execution_count": null,
   "metadata": {},
   "outputs": [],
   "source": [
    "pd.DataFrame(data=id_summaries['gng'], columns=col_names)"
   ]
  },
  {
   "cell_type": "code",
   "execution_count": null,
   "metadata": {},
   "outputs": [],
   "source": [
    "@toolz.curry\n",
    "def find_data_frame_by_name(project_name, data_frames, name):\n",
    "    project_data_frames = toolz.get(project_name, data_frames)\n",
    "    candidates = toolz.pipe(project_data_frames,\n",
    "                            toolz.valfilter(lambda df: df.Name == name),\n",
    "                            lambda cs: cs.values(),\n",
    "                            list,\n",
    "                           )\n",
    "    assert len(candidates) == 1\n",
    "    return candidates[0]"
   ]
  },
  {
   "cell_type": "code",
   "execution_count": null,
   "metadata": {},
   "outputs": [],
   "source": [
    "find_permian_data_frames = find_data_frame_by_name('permian-a', net_data_frames)\n",
    "find_permian_data_frames"
   ]
  },
  {
   "cell_type": "code",
   "execution_count": null,
   "metadata": {},
   "outputs": [],
   "source": [
    "@toolz.curry\n",
    "def find_data_frames(project_name, data_frame_names):\n",
    "    return toolz.pipe(data_frame_names,\n",
    "                       toolz.map(find_data_frame_by_name(project_name, net_data_frames)),\n",
    "                       list,\n",
    "                      )"
   ]
  },
  {
   "cell_type": "code",
   "execution_count": null,
   "metadata": {},
   "outputs": [],
   "source": [
    "permian_project_01, permian_fdi, permian_useismic = toolz.pipe(\n",
    "    ['Project Data Frame 01', 'FDI Observations', 'C3-Microseismic Data Frame 01'],\n",
    "    find_data_frames('permian-a'),\n",
    "    toolz.map(lambda df: df.DataTable),\n",
    "    list,\n",
    ")\n",
    "permian_project_01, permian_fdi, permian_useismic"
   ]
  },
  {
   "cell_type": "code",
   "execution_count": null,
   "metadata": {},
   "outputs": [],
   "source": [
    "[c.ColumnName for c in permian_project_01.Columns]"
   ]
  },
  {
   "cell_type": "code",
   "execution_count": null,
   "metadata": {},
   "outputs": [],
   "source": [
    "len(permian_project_01.Rows)"
   ]
  },
  {
   "cell_type": "code",
   "execution_count": null,
   "metadata": {},
   "outputs": [],
   "source": [
    "# Adapted from code at\n",
    "# https://docs.microsoft.com/en-us/dotnet/framework/data/adonet/dataset-datatable-dataview/creating-a-datareader\n",
    "# retrieved on 18-Apr-2021.\n",
    "\n",
    "def print_columns(reader):\n",
    "    # Loop through all rows in the reader\n",
    "    while reader.Read():\n",
    "        for i in range(reader.FieldCount):\n",
    "            print(f'{reader[i]} ', end='')\n",
    "        print()\n",
    "        \n",
    "def print_data_table_contents(data_table):\n",
    "    reader = data_table.CreateDataReader()\n",
    "    try:\n",
    "        is_finished = False\n",
    "        while not is_finished:\n",
    "            if not reader.HasRows:\n",
    "                print(\"Empty data reader.\")\n",
    "                is_finished = True\n",
    "            else:\n",
    "                print_columns(reader)\n",
    "                is_finished = reader.NextResult()\n",
    "    finally:\n",
    "        reader.Dispose()"
   ]
  },
  {
   "cell_type": "code",
   "execution_count": null,
   "metadata": {},
   "outputs": [],
   "source": [
    "print_data_table_contents(permian_project_01)"
   ]
  },
  {
   "cell_type": "code",
   "execution_count": null,
   "metadata": {},
   "outputs": [],
   "source": []
  }
 ],
 "metadata": {
  "kernelspec": {
   "display_name": "Python 3",
   "language": "python",
   "name": "python3"
  },
  "language_info": {
   "codemirror_mode": {
    "name": "ipython",
    "version": 3
   },
   "file_extension": ".py",
   "mimetype": "text/x-python",
   "name": "python",
   "nbconvert_exporter": "python",
   "pygments_lexer": "ipython3",
   "version": "3.8.7"
  }
 },
 "nbformat": 4,
 "nbformat_minor": 4
}
