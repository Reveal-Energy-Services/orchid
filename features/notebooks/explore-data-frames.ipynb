{
 "cells": [
  {
   "cell_type": "code",
   "execution_count": null,
   "outputs": [],
   "source": [
    "import pathlib"
   ],
   "metadata": {
    "collapsed": false,
    "pycharm": {
     "name": "#%%\n"
    }
   }
  },
  {
   "cell_type": "code",
   "execution_count": null,
   "outputs": [],
   "source": [
    "import numpy as np\n",
    "import matplotlib.pyplot as plt\n",
    "import pandas as pd\n",
    "import seaborn as sns"
   ],
   "metadata": {
    "collapsed": false,
    "pycharm": {
     "name": "#%%\n"
    }
   }
  },
  {
   "cell_type": "code",
   "execution_count": null,
   "outputs": [],
   "source": [
    "from orchid import (project_loader as opl)"
   ],
   "metadata": {
    "collapsed": false,
    "pycharm": {
     "name": "#%%\n"
    }
   }
  },
  {
   "cell_type": "code",
   "execution_count": null,
   "outputs": [],
   "source": [
    "import toolz.curried as toolz"
   ],
   "metadata": {
    "collapsed": false,
    "pycharm": {
     "name": "#%%\n"
    }
   }
  },
  {
   "cell_type": "code",
   "execution_count": null,
   "outputs": [],
   "source": [
    "# noinspection PyUnresolvedReferences\n",
    "import UnitsNet"
   ],
   "metadata": {
    "collapsed": false,
    "pycharm": {
     "name": "#%%\n"
    }
   }
  },
  {
   "cell_type": "code",
   "execution_count": null,
   "outputs": [],
   "source": [
    "project_filenames = {\n",
    "    'permian-a': 'Project-frankNstein_Permian_UTM13FT_0412_PjtDataFrame.ifrac',\n",
    "    'gng': 'GnG_DemoProject_wDataFrames.ifrac',\n",
    "}"
   ],
   "metadata": {
    "collapsed": false,
    "pycharm": {
     "name": "#%%\n"
    }
   }
  },
  {
   "cell_type": "code",
   "execution_count": null,
   "outputs": [],
   "source": [
    "test_data_path = pathlib.Path('c:/src/Orchid.IntegrationTestData/')\n",
    "project_path_names = toolz.valmap(lambda fn: test_data_path.joinpath(fn), project_filenames)\n",
    "project_path_names"
   ],
   "metadata": {
    "collapsed": false,
    "pycharm": {
     "name": "#%%\n"
    }
   }
  },
  {
   "cell_type": "code",
   "execution_count": null,
   "outputs": [],
   "source": [
    "projects = toolz.valmap(\n",
    "    lambda pn: opl.ProjectLoader(str(pn)).native_project(),\n",
    "    project_path_names)\n",
    "projects"
   ],
   "metadata": {
    "collapsed": false,
    "pycharm": {
     "name": "#%%\n"
    }
   }
  },
  {
   "cell_type": "code",
   "execution_count": null,
   "outputs": [],
   "source": [
    "project_units = toolz.valmap(lambda p: p.ProjectUnits, projects)\n",
    "project_units"
   ],
   "metadata": {
    "collapsed": false,
    "pycharm": {
     "name": "#%%\n"
    }
   }
  },
  {
   "cell_type": "code",
   "execution_count": null,
   "outputs": [],
   "source": [
    "def accumulate_net_data_frames_by_id(so_far, element):\n",
    "    return toolz.assoc(so_far,  element.ObjectId, element)\n",
    "\n",
    "def id_net_data_frame_map(project):\n",
    "    return toolz.pipe(project.DataFrames.Items,\n",
    "                   list,\n",
    "                   lambda dfs: toolz.reduce(accumulate_net_data_frames_by_id, dfs, {})\n",
    "              )\n",
    "\n",
    "net_data_frames = toolz.valmap(id_net_data_frame_map, projects)\n",
    "net_data_frames"
   ],
   "metadata": {
    "collapsed": false,
    "pycharm": {
     "name": "#%%\n"
    }
   }
  },
  {
   "cell_type": "code",
   "execution_count": null,
   "outputs": [],
   "source": [
    "def accumulate_net_data_frames_by_name(so_far, element):\n",
    "    return toolz.assoc(so_far,  element.Name, element)\n",
    "\n",
    "def id_net_data_frame_map(project):\n",
    "    return toolz.pipe(project.DataFrames.Items,\n",
    "                      list,\n",
    "                      lambda dfs: toolz.reduce(accumulate_net_data_frames_by_name, dfs, {})\n",
    "                      )\n",
    "\n",
    "net_data_frames_by_name = toolz.valmap(id_net_data_frame_map, projects)\n",
    "net_data_frames_by_name"
   ],
   "metadata": {
    "collapsed": false,
    "pycharm": {
     "name": "#%%\n"
    }
   }
  },
  {
   "cell_type": "code",
   "execution_count": null,
   "outputs": [],
   "source": [
    "def identify_net_data_frame(item):\n",
    "    df_id, data_frame = item\n",
    "    return {'id': data_frame.ObjectId, 'name': data_frame.Name, 'display_name': data_frame.DisplayName}\n",
    "\n",
    "def identify_net_data_frames(net_dfs):\n",
    "    return toolz.pipe(net_dfs,\n",
    "                      # toolz.do(lambda df: print(df)),\n",
    "                      lambda dfs: toolz.map(identify_net_data_frame, dfs.items()),\n",
    "                      list)\n",
    "\n",
    "\n",
    "identifications = toolz.valmap(identify_net_data_frames, net_data_frames)\n",
    "identifications"
   ],
   "metadata": {
    "collapsed": false,
    "pycharm": {
     "name": "#%%\n"
    }
   }
  },
  {
   "cell_type": "code",
   "execution_count": null,
   "outputs": [],
   "source": [
    "@toolz.curry\n",
    "def add_project_name(pn, df_ids):\n",
    "    return toolz.assoc(df_ids, 'project', pn)\n",
    "    \n",
    "    \n",
    "def summarize_net_data_frames(item):\n",
    "    pn, dfs_ids = item\n",
    "    result = toolz.pipe(dfs_ids,\n",
    "                        # toolz.do(lambda df_id: print(df_id)),\n",
    "                        toolz.map(lambda df_ids: add_project_name(pn, df_ids)),\n",
    "                        list,\n",
    "                       )\n",
    "    return pn, result\n",
    "\n",
    "id_summaries = toolz.itemmap(summarize_net_data_frames, identifications)\n",
    "id_summaries"
   ],
   "metadata": {
    "collapsed": false,
    "pycharm": {
     "name": "#%%\n"
    }
   }
  },
  {
   "cell_type": "code",
   "execution_count": null,
   "outputs": [],
   "source": [
    "col_names = ['project', 'id', 'name', 'display_name']"
   ],
   "metadata": {
    "collapsed": false,
    "pycharm": {
     "name": "#%%\n"
    }
   }
  },
  {
   "cell_type": "code",
   "execution_count": null,
   "outputs": [],
   "source": [
    "pd.DataFrame(data=id_summaries['permian-a'], columns=col_names)"
   ],
   "metadata": {
    "collapsed": false,
    "pycharm": {
     "name": "#%%\n"
    }
   }
  },
  {
   "cell_type": "code",
   "execution_count": null,
   "outputs": [],
   "source": [
    "pd.DataFrame(data=id_summaries['gng'], columns=col_names)"
   ],
   "metadata": {
    "collapsed": false,
    "pycharm": {
     "name": "#%%\n"
    }
   }
  },
  {
   "cell_type": "code",
   "execution_count": null,
   "outputs": [],
   "source": [
    "@toolz.curry\n",
    "def find_net_data_frame_by_name(project_name, net_dfs, name):\n",
    "    project_net_dfs = toolz.get(project_name, net_dfs)\n",
    "    candidates = toolz.pipe(project_net_dfs,\n",
    "                            toolz.valfilter(lambda df: df.Name == name),\n",
    "                            lambda cs: cs.values(),\n",
    "                            list,\n",
    "                           )\n",
    "    assert len(candidates) == 1\n",
    "    return candidates[0]\n",
    "\n",
    "@toolz.curry\n",
    "def find_net_data_frames(project_name, data_frame_names):\n",
    "    return toolz.pipe(data_frame_names,\n",
    "                      toolz.map(find_net_data_frame_by_name(project_name, net_data_frames)),\n",
    "                      list,\n",
    "                      )"
   ],
   "metadata": {
    "collapsed": false,
    "pycharm": {
     "name": "#%%\n"
    }
   }
  },
  {
   "cell_type": "code",
   "execution_count": null,
   "outputs": [],
   "source": [
    "find_permian_data_frames = find_net_data_frame_by_name('permian-a', net_data_frames)\n",
    "find_permian_data_frames('C3-Microseismic Data Frame 01')"
   ],
   "metadata": {
    "collapsed": false,
    "pycharm": {
     "name": "#%%\n"
    }
   }
  },
  {
   "cell_type": "code",
   "execution_count": null,
   "outputs": [],
   "source": [
    "# Adapted from code at\n",
    "# https://docs.microsoft.com/en-us/dotnet/framework/data/adonet/dataset-datatable-dataview/creating-a-datareader\n",
    "# retrieved on 18-Apr-2021.\n",
    "\n",
    "def row_as_dict(reader):\n",
    "    return {reader.GetName(i): reader[reader.GetName(i)] for i in range(reader.FieldCount)}\n",
    "\n",
    "def read_data_table(data_table):\n",
    "    reader = data_table.CreateDataReader()\n",
    "    try:\n",
    "        while True:\n",
    "            if reader.HasRows:\n",
    "                has_row = reader.Read()\n",
    "                while has_row:\n",
    "                    yield row_as_dict(reader)\n",
    "                    has_row = reader.Read()\n",
    "            else:\n",
    "                return\n",
    "            if not reader.NextResult():\n",
    "                break\n",
    "    finally:\n",
    "        reader.Dispose()"
   ],
   "metadata": {
    "collapsed": false,
    "pycharm": {
     "name": "#%%\n"
    }
   }
  },
  {
   "cell_type": "code",
   "execution_count": null,
   "outputs": [],
   "source": [
    "net_data_frame_names = {\n",
    "    'permian-a': [\n",
    "        'Project Data Frame 01',\n",
    "        'FDI Observations',\n",
    "        'C3-Microseismic Data Frame 01',\n",
    "    ],\n",
    "    'gng': [\n",
    "        'Project Data Frame 01',\n",
    "        'Fault Trace Set Data Frame 01',\n",
    "        'Stage Data Frame 01',\n",
    "        'Well Log Set Data Frame 01',\n",
    "        'Horizon Marker Set Data Frame01',\n",
    "    ],\n",
    "}"
   ],
   "metadata": {
    "collapsed": false,
    "pycharm": {
     "name": "#%%\n"
    }
   }
  },
  {
   "cell_type": "code",
   "execution_count": null,
   "outputs": [],
   "source": [
    "def table_data_frame(data_table):\n",
    "    return pd.DataFrame(data=[r for r in read_data_table(data_table)])\n",
    "\n",
    "def data_frames_for_project(item):\n",
    "    project_name, net_data_frames_map = item\n",
    "    mapped_data_frames = toolz.pipe(\n",
    "        net_data_frames_map,\n",
    "        toolz.valmap(toolz.compose(table_data_frame, lambda df: df.DataTable)),\n",
    "    )\n",
    "    return project_name, mapped_data_frames"
   ],
   "metadata": {
    "collapsed": false,
    "pycharm": {
     "name": "#%%\n"
    }
   }
  },
  {
   "cell_type": "code",
   "execution_count": null,
   "outputs": [],
   "source": [
    "data_frames = toolz.pipe(\n",
    "    net_data_frames_by_name,\n",
    "    toolz.itemmap(data_frames_for_project),\n",
    ")"
   ],
   "metadata": {
    "collapsed": false,
    "pycharm": {
     "name": "#%%\n"
    }
   }
  },
  {
   "cell_type": "code",
   "execution_count": null,
   "outputs": [],
   "source": [
    "def extract_project_data_frames(project_name):\n",
    "    result = toolz.pipe(\n",
    "        net_data_frame_names[project_name],\n",
    "        toolz.map(lambda dfn: toolz.get_in([project_name, dfn], data_frames)),\n",
    "        list,\n",
    "    )\n",
    "    return result"
   ],
   "metadata": {
    "collapsed": false,
    "pycharm": {
     "name": "#%%\n"
    }
   }
  },
  {
   "cell_type": "code",
   "execution_count": null,
   "outputs": [],
   "source": [
    "(permian_project, \n",
    " permian_fdi_observations,\n",
    " permian_microseismic) = extract_project_data_frames('permian-a')"
   ],
   "metadata": {
    "collapsed": false,
    "pycharm": {
     "name": "#%%\n"
    }
   }
  },
  {
   "cell_type": "code",
   "execution_count": null,
   "outputs": [],
   "source": [
    "permian_project"
   ],
   "metadata": {
    "collapsed": false,
    "pycharm": {
     "name": "#%%\n"
    }
   }
  },
  {
   "cell_type": "code",
   "execution_count": null,
   "outputs": [],
   "source": [
    "permian_fdi_observations"
   ],
   "metadata": {
    "collapsed": false,
    "pycharm": {
     "name": "#%%\n"
    }
   }
  },
  {
   "cell_type": "code",
   "execution_count": null,
   "outputs": [],
   "source": [
    "permian_microseismic"
   ],
   "metadata": {
    "collapsed": false,
    "pycharm": {
     "name": "#%%\n"
    }
   }
  },
  {
   "cell_type": "code",
   "execution_count": null,
   "outputs": [],
   "source": [
    "(gng_project,\n",
    " gng_fault_trace,\n",
    " gng_stage,\n",
    " gng_well_log,\n",
    " gng_horizon_marker) = extract_project_data_frames('gng')"
   ],
   "metadata": {
    "collapsed": false,
    "pycharm": {
     "name": "#%%\n"
    }
   }
  },
  {
   "cell_type": "code",
   "execution_count": null,
   "outputs": [],
   "source": [
    "gng_project"
   ],
   "metadata": {
    "collapsed": false,
    "pycharm": {
     "name": "#%%\n"
    }
   }
  },
  {
   "cell_type": "code",
   "execution_count": null,
   "outputs": [],
   "source": [
    "gng_fault_trace"
   ],
   "metadata": {
    "collapsed": false,
    "pycharm": {
     "name": "#%%\n"
    }
   }
  },
  {
   "cell_type": "code",
   "execution_count": null,
   "outputs": [],
   "source": [
    "gng_stage"
   ],
   "metadata": {
    "collapsed": false,
    "pycharm": {
     "name": "#%%\n"
    }
   }
  },
  {
   "cell_type": "code",
   "execution_count": null,
   "outputs": [],
   "source": [
    "gng_well_log"
   ],
   "metadata": {
    "collapsed": false,
    "pycharm": {
     "name": "#%%\n"
    }
   }
  },
  {
   "cell_type": "code",
   "execution_count": null,
   "outputs": [],
   "source": [
    "gng_horizon_marker"
   ],
   "metadata": {
    "collapsed": false,
    "pycharm": {
     "name": "#%%\n"
    }
   }
  }
 ],
 "metadata": {
  "kernelspec": {
   "display_name": "Python 3",
   "language": "python",
   "name": "python3"
  },
  "language_info": {
   "codemirror_mode": {
    "name": "ipython",
    "version": 3
   },
   "file_extension": ".py",
   "mimetype": "text/x-python",
   "name": "python",
   "nbconvert_exporter": "python",
   "pygments_lexer": "ipython3",
   "version": "3.8.7"
  }
 },
 "nbformat": 4,
 "nbformat_minor": 4
}