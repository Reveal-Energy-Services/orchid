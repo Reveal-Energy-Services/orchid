{
 "cells": [
  {
   "cell_type": "markdown",
   "id": "5cb81607",
   "metadata": {},
   "source": [
    "# Repairs of Python.NET 3 breaking changes to internal tests"
   ]
  },
  {
   "cell_type": "markdown",
   "id": "67a1d4fb",
   "metadata": {},
   "source": [
    "## Load a runtime before calling `import clr`"
   ]
  },
  {
   "cell_type": "markdown",
   "source": [
    "\n",
    "In order to access .NET assemblies (`.dll` files), one must load an available runtime before executing the\n",
    "`import clr` statement. (If one calls `import clr` before specifying a runtime, Python.NET will load a default\n",
    "runtime which may **not** be compatible with the installed Orchid assemblies.\n",
    "\n",
    "To make this easier, when we `import` the `orchid` package, the Orchid Python API will load the runtime\n",
    "corresponding to the configured Orchid installation."
   ],
   "metadata": {
    "collapsed": false
   }
  },
  {
   "cell_type": "code",
   "execution_count": null,
   "id": "eb29845a-d005-49eb-8c8e-9d89498ab911",
   "metadata": {},
   "outputs": [],
   "source": [
    "import orchid"
   ]
  },
  {
   "cell_type": "code",
   "execution_count": null,
   "id": "19621d00-1157-4131-85f2-82b068d9ad77",
   "metadata": {},
   "outputs": [],
   "source": [
    "#noinspection PyPackageRequirements\n",
    "import clr"
   ]
  },
  {
   "cell_type": "code",
   "execution_count": null,
   "id": "62978d22",
   "metadata": {
    "collapsed": false,
    "jupyter": {
     "outputs_hidden": false
    }
   },
   "outputs": [],
   "source": [
    "# noinspection PyUnresolvedReferences,PyPackageRequirements\n",
    "from System import (\n",
    "    ArgumentException,\n",
    "    Convert,\n",
    "    DateTime,\n",
    "    DateTimeKind,\n",
    "    DateTimeOffset,\n",
    "    Int32,\n",
    "    InvalidCastException,\n",
    "    TimeSpan,\n",
    ")"
   ]
  },
  {
   "cell_type": "markdown",
   "id": "09125724",
   "metadata": {},
   "source": [
    "## Reduce the implicit conversions between Python types and .NET Types"
   ]
  },
  {
   "cell_type": "markdown",
   "id": "fbd07c48-bcf3-461f-9c25-75dfd1a10fe3",
   "metadata": {},
   "source": [
    "### Equality between Python `int` values and `DateTimeOffset.MaxValue` no longer supported\n",
    "\n",
    "Python.NET 2.5.2 allowed a developer to test for equality between Python `int` values and values of type `DateTimeOffset`\n",
    "by performing an implicit conversion of the `DateTimeOffset` type."
   ]
  },
  {
   "cell_type": "code",
   "execution_count": null,
   "id": "c8e82555",
   "metadata": {
    "collapsed": false,
    "jupyter": {
     "outputs_hidden": false
    }
   },
   "outputs": [],
   "source": [
    "try:\n",
    "    print('Trying `108 == DateTimeOffset.Value`')\n",
    "    108 == DateTimeOffset.MaxValue\n",
    "except TypeError as nie:\n",
    "    print(f'TypeError: {nie}')"
   ]
  },
  {
   "cell_type": "code",
   "execution_count": null,
   "id": "70c69c1a",
   "metadata": {
    "collapsed": false,
    "jupyter": {
     "outputs_hidden": false
    }
   },
   "outputs": [],
   "source": [
    "try:\n",
    "    print('Trying `108 == TimeSpan.MaxValue`')\n",
    "    108 == TimeSpan.MaxValue\n",
    "except TypeError as nie:\n",
    "    print(f'TypeError: {nie}')"
   ]
  },
  {
   "cell_type": "markdown",
   "id": "7e9c7d01",
   "metadata": {},
   "source": [
    "We filed an issue with the Python.NET team. They responded with the following:\n",
    "\n",
    "> Yes, we tried to limit the \"implicit\" conversions to a minimum. I don't even know, which change in particular is responsible for the behavioural ~change~ fix that you are observing here, but you are only able to compare things to a .NET object that are directly convertible to it. If you'd really require this for `DateTimeOffset` and `TimeSpan`, you could make them convertible via a [Codec](https://pythonnet.github.io/pythonnet/codecs.html). Otherwise, I'd suggest you just generate the respective comparison values using `.FromTicks`.\n",
    "\n",
    "Python.NET 3 requires a developer to explicitly use the `DateTimeOffset.Ticks` for in the equality test."
   ]
  },
  {
   "cell_type": "code",
   "execution_count": null,
   "id": "33b359d3",
   "metadata": {
    "collapsed": false,
    "jupyter": {
     "outputs_hidden": false
    }
   },
   "outputs": [],
   "source": [
    "108 == DateTimeOffset.MaxValue.Ticks"
   ]
  },
  {
   "cell_type": "code",
   "execution_count": null,
   "id": "3f27a7ab",
   "metadata": {
    "collapsed": false,
    "jupyter": {
     "outputs_hidden": false
    }
   },
   "outputs": [],
   "source": [
    "108 == TimeSpan.MaxValue.Ticks"
   ]
  },
  {
   "cell_type": "code",
   "execution_count": null,
   "id": "2b082dc2",
   "metadata": {
    "collapsed": false,
    "jupyter": {
     "outputs_hidden": false
    }
   },
   "outputs": [],
   "source": [
    "108 == TimeSpan.MinValue.Ticks"
   ]
  },
  {
   "cell_type": "markdown",
   "id": "0b684663",
   "metadata": {},
   "source": [
    "### Less effort to make Python constructors \"just work\""
   ]
  },
  {
   "cell_type": "markdown",
   "id": "cd131386-c6db-4f30-879d-4bf3933c34dd",
   "metadata": {},
   "source": [
    "Python.NET 2.5.2 allowed expressions like `TimeSpan()`. (Note that the .NET `TimeSpan` class **does not** have a \n",
    "default constructor.) This expression is no longer supported. Instead, one must supply an argument \n",
    "(typically zero (0)) to the constructor or to methods like `TimeSpan.FromTicks()`."
   ]
  },
  {
   "cell_type": "code",
   "execution_count": null,
   "id": "285a617e",
   "metadata": {
    "collapsed": false,
    "jupyter": {
     "outputs_hidden": false
    }
   },
   "outputs": [],
   "source": [
    "try:\n",
    "    print('Trying expression, `TimeSpan()`')\n",
    "    TimeSpan()\n",
    "except TypeError as te:\n",
    "    print(f'TypeError: {te}')"
   ]
  },
  {
   "cell_type": "code",
   "execution_count": null,
   "outputs": [],
   "source": [
    "TimeSpan(8801).ToString()"
   ],
   "metadata": {
    "collapsed": false
   }
  },
  {
   "cell_type": "code",
   "execution_count": null,
   "id": "5b724d19",
   "metadata": {
    "collapsed": false,
    "jupyter": {
     "outputs_hidden": false
    }
   },
   "outputs": [],
   "source": [
    "TimeSpan(0).ToString()"
   ]
  },
  {
   "cell_type": "code",
   "execution_count": null,
   "id": "e925196a",
   "metadata": {
    "collapsed": false,
    "jupyter": {
     "outputs_hidden": false
    }
   },
   "outputs": [],
   "source": [
    "TimeSpan.FromTicks(0).ToString()"
   ]
  },
  {
   "cell_type": "markdown",
   "id": "0e18d060",
   "metadata": {
    "tags": []
   },
   "source": [
    "## Adding attributes with integer values requires explicit conversion"
   ]
  },
  {
   "cell_type": "markdown",
   "id": "09f6952f-b06e-4880-90c6-7038cd0928b6",
   "metadata": {
    "tags": []
   },
   "source": [
    "(This issue occurred in **both** internal testing and low-level script testing and so is duplicated.)"
   ]
  },
  {
   "cell_type": "markdown",
   "id": "214f3fe6-5376-4899-9c05-61db0d0db871",
   "metadata": {
    "tags": []
   },
   "source": [
    "During integration testing, we discovered an issue setting an attribute with type, `Int32`, using a Python `int` \n",
    "value of 7. The run-time reported that the types, `Int32` and `PyInt` were incompatible. "
   ]
  },
  {
   "cell_type": "markdown",
   "id": "40fa5c5b-2a73-4fe1-b1d2-ae88d5d415a4",
   "metadata": {
    "tags": []
   },
   "source": [
    "This scenario requires significant set up."
   ]
  },
  {
   "cell_type": "code",
   "execution_count": 13,
   "id": "4149ddd8",
   "metadata": {
    "tags": []
   },
   "outputs": [],
   "source": [
    "# Find the well named 'Demo_1H'\n",
    "bakken = orchid.load_project('c:/src/Orchid.IntegrationTestData/frankNstein_Bakken_UTM13_FEET.ifrac')\n",
    "candidate_wells = list(bakken.wells().find_by_name('Demo_1H'))\n",
    "assert len(candidate_wells) == 1\n",
    "demo_1h = candidate_wells[0]"
   ]
  },
  {
   "cell_type": "code",
   "execution_count": 14,
   "id": "e26ca26e",
   "metadata": {
    "collapsed": false,
    "jupyter": {
     "outputs_hidden": false
    }
   },
   "outputs": [],
   "source": [
    "# Create an attribute with name, 'My New Attribute', and type, `System.Int32`\n",
    "# noinspection PyUnresolvedReferences,PyPackageRequirements\n",
    "from Orchid.FractureDiagnostics.Factories.Implementations import Attribute\n",
    "\n",
    "attribute_to_add_type = Int32\n",
    "attribute_to_add = Attribute[attribute_to_add_type].Create('My New Attribute')"
   ]
  },
  {
   "cell_type": "code",
   "execution_count": 15,
   "id": "8e4cff25",
   "metadata": {
    "collapsed": false,
    "jupyter": {
     "outputs_hidden": false
    }
   },
   "outputs": [],
   "source": [
    "# Add newly created attribute to well, 'Demo_1H'\n",
    "with orchid.dot_net_disposable.disposable(demo_1h.dom_object.ToMutable()) as mutable_well:\n",
    "    mutable_well.AddStageAttribute(attribute_to_add)"
   ]
  },
  {
   "cell_type": "code",
   "execution_count": 16,
   "id": "995a1e44",
   "metadata": {
    "collapsed": false,
    "jupyter": {
     "outputs_hidden": false
    }
   },
   "outputs": [],
   "source": [
    "# Find stage number 7 in well, 'Demo_1H'\n",
    "maybe_stage = demo_1h.stages().find_by_display_stage_number(7)\n",
    "assert maybe_stage is not None\n",
    "stage_7 = maybe_stage"
   ]
  },
  {
   "cell_type": "code",
   "execution_count": 17,
   "id": "272de977",
   "metadata": {
    "collapsed": false,
    "jupyter": {
     "outputs_hidden": false
    }
   },
   "outputs": [
    {
     "name": "stdout",
     "output_type": "stream",
     "text": [
      "ArgumentException: Attribute type System.Int32 does not match value type Python.Runtime.PyObject\r\n",
      "   at Orchid.FractureDiagnostics.Factories.Implementations.Stage.SetAttributeValue(IAttribute attribute, Object value) in C:\\src\\OrchidApp\\Orchid\\Orchid.FractureDiagnostics.Factories\\Implementations\\Stage.cs:line 690\r\n",
      "   at Orchid.FractureDiagnostics.Factories.Implementations.MutableStage.SetAttribute(IAttribute attribute, Object value) in C:\\src\\OrchidApp\\Orchid\\Orchid.FractureDiagnostics.Factories\\Implementations\\Stage.cs:line 805\n"
     ]
    }
   ],
   "source": [
    "# Add attribute with value, 17, to stage 7, with Python `int` type.\n",
    "with (orchid.dot_net_disposable.disposable(stage_7.dom_object.ToMutable())) as mutable_stage:\n",
    "    # This action will fail because the attribute type is `System.Int32`\n",
    "    # and `pythonnet-3.0.0.post1` **does not** implicitly equate these two types.\n",
    "    try:\n",
    "        mutable_stage.SetAttribute(attribute_to_add, int)\n",
    "    except ArgumentException as ae:\n",
    "        print(f'ArgumentException: {ae}')\n"
   ]
  },
  {
   "cell_type": "code",
   "execution_count": 18,
   "id": "9c7bf798",
   "metadata": {
    "collapsed": false,
    "jupyter": {
     "outputs_hidden": false
    }
   },
   "outputs": [],
   "source": [
    "# Add attribute to stage 7 with a value of 17 **explicitly** converted to an `Int32`\n",
    "with (orchid.dot_net_disposable.disposable(stage_7.dom_object.ToMutable())) as mutable_stage:\n",
    "    mutable_stage.SetAttribute(attribute_to_add, attribute_to_add_type(7))"
   ]
  },
  {
   "cell_type": "code",
   "execution_count": 19,
   "id": "c599a940",
   "metadata": {
    "tags": []
   },
   "outputs": [],
   "source": [
    "# Verify added attribute value\n",
    "ignored_object = object()\n",
    "is_attribute_present, actual_attribute_value = stage_7.dom_object.TryGetAttributeValue(attribute_to_add,\n",
    "                                                                                       ignored_object)\n",
    "assert is_attribute_present\n",
    "assert type(actual_attribute_value) == int\n",
    "assert actual_attribute_value == 7"
   ]
  },
  {
   "cell_type": "markdown",
   "id": "03743bac",
   "metadata": {},
   "source": [
    "## Disabled implicit conversion from C# Enums to Python `int` and back"
   ]
  },
  {
   "cell_type": "markdown",
   "id": "57a671c5-e582-48f3-a5bc-9e126d0280e3",
   "metadata": {},
   "source": [
    "### Reduced need for use of `Overloads` (`__overloads__` in Python.NET 3)"
   ]
  },
  {
   "cell_type": "markdown",
   "id": "75542248-306f-4980-9493-05ac2ac0798a",
   "metadata": {},
   "source": [
    "The .NET `DateTime` class has many overloaded constructors. Because version Python.NET 2.5.2 converted members \n",
    "of .NET Enum types into Python `int` values, the method resolution process could not distinguish between the\n",
    "`DateTime` constructor taking 7 `System.Int32` arguments (the last specifying milliseconds) and the constructor\n",
    "accepting 6 `System.Int32` values and a `DateTimeKind` member. Consequently, a developer of the Orchid Python API\n",
    "had to specify an overload in order to invoke the appropriate constructor."
   ]
  },
  {
   "cell_type": "code",
   "execution_count": 20,
   "id": "513ba0b6",
   "metadata": {
    "collapsed": false,
    "jupyter": {
     "outputs_hidden": false
    }
   },
   "outputs": [
    {
     "data": {
      "text/plain": "System.DateTime"
     },
     "execution_count": 20,
     "metadata": {},
     "output_type": "execute_result"
    }
   ],
   "source": [
    "DateTime"
   ]
  },
  {
   "cell_type": "code",
   "execution_count": 21,
   "id": "84efa409",
   "metadata": {
    "collapsed": false,
    "jupyter": {
     "outputs_hidden": false
    }
   },
   "outputs": [
    {
     "data": {
      "text/plain": "(<unbound method '__init__'>, <unbound method '__init__'>)"
     },
     "execution_count": 21,
     "metadata": {},
     "output_type": "execute_result"
    }
   ],
   "source": [
    "# Querying the `__overloads__` (preferred but `Overloads` is also available) produces a very unexpected result.\n",
    "#\n",
    "# Our working hypothesis is that the Python.NET method resolution algorithm could find any overloads for the \n",
    "# constructor resulting in \n",
    "DateTime.Overloads, DateTime.__overloads__"
   ]
  },
  {
   "cell_type": "code",
   "execution_count": 22,
   "id": "e31dbd54",
   "metadata": {
    "collapsed": false,
    "jupyter": {
     "outputs_hidden": false
    }
   },
   "outputs": [
    {
     "data": {
      "text/plain": "CLR.MethodBinding"
     },
     "execution_count": 22,
     "metadata": {},
     "output_type": "execute_result"
    }
   ],
   "source": [
    "type(DateTime.__overloads__)"
   ]
  },
  {
   "cell_type": "code",
   "execution_count": 23,
   "id": "b9d48ba9",
   "metadata": {
    "collapsed": false,
    "jupyter": {
     "outputs_hidden": false
    }
   },
   "outputs": [
    {
     "data": {
      "text/plain": "['Add',\n 'AddDays',\n 'AddHours',\n 'AddMilliseconds',\n 'AddMinutes',\n 'AddMonths',\n 'AddSeconds',\n 'AddTicks',\n 'AddYears',\n 'Compare',\n 'CompareTo',\n 'Date',\n 'Day',\n 'DayOfWeek',\n 'DayOfYear',\n 'DaysInMonth',\n 'Equals',\n 'Finalize',\n 'FromBinary',\n 'FromFileTime',\n 'FromFileTimeUtc',\n 'FromOADate',\n 'GetDateTimeFormats',\n 'GetHashCode',\n 'GetType',\n 'GetTypeCode',\n 'Hour',\n 'IsDaylightSavingTime',\n 'IsLeapYear',\n 'Kind',\n 'MaxValue',\n 'MemberwiseClone',\n 'Millisecond',\n 'MinValue',\n 'Minute',\n 'Month',\n 'Now',\n 'Overloads',\n 'Parse',\n 'ParseExact',\n 'ReferenceEquals',\n 'Second',\n 'SpecifyKind',\n 'Subtract',\n 'Ticks',\n 'TimeOfDay',\n 'ToBinary',\n 'ToFileTime',\n 'ToFileTimeUtc',\n 'ToLocalTime',\n 'ToLongDateString',\n 'ToLongTimeString',\n 'ToOADate',\n 'ToShortDateString',\n 'ToShortTimeString',\n 'ToString',\n 'ToUniversalTime',\n 'Today',\n 'TryParse',\n 'TryParseExact',\n 'UtcNow',\n 'Year',\n '__add__',\n '__class__',\n '__delattr__',\n '__dir__',\n '__doc__',\n '__eq__',\n '__format__',\n '__ge__',\n '__getattribute__',\n '__gt__',\n '__hash__',\n '__init__',\n '__init_subclass__',\n '__le__',\n '__lt__',\n '__module__',\n '__ne__',\n '__new__',\n '__overloads__',\n '__radd__',\n '__reduce__',\n '__reduce_ex__',\n '__repr__',\n '__rsub__',\n '__setattr__',\n '__sizeof__',\n '__str__',\n '__sub__',\n '__subclasshook__',\n 'get_Date',\n 'get_Day',\n 'get_DayOfWeek',\n 'get_DayOfYear',\n 'get_Hour',\n 'get_Kind',\n 'get_Millisecond',\n 'get_Minute',\n 'get_Month',\n 'get_Now',\n 'get_Second',\n 'get_Ticks',\n 'get_TimeOfDay',\n 'get_Today',\n 'get_UtcNow',\n 'get_Year',\n 'op_Addition',\n 'op_Equality',\n 'op_GreaterThan',\n 'op_GreaterThanOrEqual',\n 'op_Inequality',\n 'op_LessThan',\n 'op_LessThanOrEqual',\n 'op_Subtraction']"
     },
     "execution_count": 23,
     "metadata": {},
     "output_type": "execute_result"
    }
   ],
   "source": [
    "dir(DateTime)"
   ]
  },
  {
   "cell_type": "code",
   "execution_count": 24,
   "id": "d3a66c2c",
   "metadata": {
    "collapsed": false,
    "jupyter": {
     "outputs_hidden": false
    }
   },
   "outputs": [
    {
     "data": {
      "text/plain": "System.DateTimeKind"
     },
     "execution_count": 24,
     "metadata": {},
     "output_type": "execute_result"
    }
   ],
   "source": [
    "type(DateTimeKind.Utc)"
   ]
  },
  {
   "cell_type": "code",
   "execution_count": 25,
   "id": "4c637a15",
   "metadata": {
    "collapsed": false,
    "jupyter": {
     "outputs_hidden": false
    }
   },
   "outputs": [
    {
     "data": {
      "text/plain": "['CompareTo',\n 'Equals',\n 'Finalize',\n 'Format',\n 'GetHashCode',\n 'GetName',\n 'GetNames',\n 'GetType',\n 'GetTypeCode',\n 'GetUnderlyingType',\n 'GetValues',\n 'HasFlag',\n 'IsDefined',\n 'Local',\n 'MemberwiseClone',\n 'Overloads',\n 'Parse',\n 'ReferenceEquals',\n 'ToObject',\n 'ToString',\n 'TryParse',\n 'Unspecified',\n 'Utc',\n '__and__',\n '__class__',\n '__delattr__',\n '__dir__',\n '__doc__',\n '__eq__',\n '__float__',\n '__format__',\n '__ge__',\n '__getattribute__',\n '__gt__',\n '__hash__',\n '__index__',\n '__init__',\n '__init_subclass__',\n '__int__',\n '__invert__',\n '__le__',\n '__lt__',\n '__module__',\n '__ne__',\n '__new__',\n '__or__',\n '__overloads__',\n '__rand__',\n '__reduce__',\n '__reduce_ex__',\n '__repr__',\n '__ror__',\n '__rxor__',\n '__setattr__',\n '__sizeof__',\n '__str__',\n '__subclasshook__',\n '__xor__',\n 'value__']"
     },
     "execution_count": 25,
     "metadata": {},
     "output_type": "execute_result"
    }
   ],
   "source": [
    "dir(DateTimeKind.Utc)"
   ]
  },
  {
   "cell_type": "code",
   "execution_count": 26,
   "id": "6e1dadf3",
   "metadata": {
    "collapsed": false,
    "jupyter": {
     "outputs_hidden": false
    }
   },
   "outputs": [
    {
     "data": {
      "text/plain": "<System.RuntimeType object at 0x0000018B90158140>"
     },
     "execution_count": 26,
     "metadata": {},
     "output_type": "execute_result"
    }
   ],
   "source": [
    "DateTimeKind.Utc.GetType()"
   ]
  },
  {
   "cell_type": "code",
   "execution_count": 27,
   "id": "4c5698df",
   "metadata": {
    "collapsed": false,
    "jupyter": {
     "outputs_hidden": false
    }
   },
   "outputs": [
    {
     "data": {
      "text/plain": "['AsType',\n 'Assembly',\n 'AssemblyQualifiedName',\n 'Attributes',\n 'BaseType',\n 'Clone',\n 'ContainsGenericParameters',\n 'CustomAttributes',\n 'DeclaredConstructors',\n 'DeclaredEvents',\n 'DeclaredFields',\n 'DeclaredMembers',\n 'DeclaredMethods',\n 'DeclaredNestedTypes',\n 'DeclaredProperties',\n 'DeclaringMethod',\n 'DeclaringType',\n 'DefaultBinder',\n 'Delimiter',\n 'EmptyTypes',\n 'Equals',\n 'FilterAttribute',\n 'FilterName',\n 'FilterNameIgnoreCase',\n 'Finalize',\n 'FindInterfaces',\n 'FindMembers',\n 'FullName',\n 'GUID',\n 'GenericParameterAttributes',\n 'GenericParameterPosition',\n 'GenericTypeArguments',\n 'GenericTypeParameters',\n 'GetArrayRank',\n 'GetAttributeFlagsImpl',\n 'GetConstructor',\n 'GetConstructorImpl',\n 'GetConstructors',\n 'GetCustomAttributes',\n 'GetCustomAttributesData',\n 'GetDeclaredEvent',\n 'GetDeclaredField',\n 'GetDeclaredMethod',\n 'GetDeclaredMethods',\n 'GetDeclaredNestedType',\n 'GetDeclaredProperty',\n 'GetDefaultMembers',\n 'GetElementType',\n 'GetEnumName',\n 'GetEnumNames',\n 'GetEnumUnderlyingType',\n 'GetEnumValues',\n 'GetEvent',\n 'GetEvents',\n 'GetField',\n 'GetFields',\n 'GetGenericArguments',\n 'GetGenericParameterConstraints',\n 'GetGenericTypeDefinition',\n 'GetHashCode',\n 'GetInterface',\n 'GetInterfaceMap',\n 'GetInterfaces',\n 'GetMember',\n 'GetMembers',\n 'GetMethod',\n 'GetMethodImpl',\n 'GetMethods',\n 'GetNestedType',\n 'GetNestedTypes',\n 'GetObjectData',\n 'GetProperties',\n 'GetProperty',\n 'GetPropertyImpl',\n 'GetType',\n 'GetTypeArray',\n 'GetTypeCode',\n 'GetTypeCodeImpl',\n 'GetTypeFromCLSID',\n 'GetTypeFromHandle',\n 'GetTypeFromProgID',\n 'GetTypeHandle',\n 'HasElementType',\n 'HasElementTypeImpl',\n 'ImplementedInterfaces',\n 'InvokeMember',\n 'IsAbstract',\n 'IsAnsiClass',\n 'IsArray',\n 'IsArrayImpl',\n 'IsAssignableFrom',\n 'IsAutoClass',\n 'IsAutoLayout',\n 'IsByRef',\n 'IsByRefImpl',\n 'IsCOMObject',\n 'IsCOMObjectImpl',\n 'IsClass',\n 'IsConstructedGenericType',\n 'IsContextful',\n 'IsContextfulImpl',\n 'IsDefined',\n 'IsEnum',\n 'IsEnumDefined',\n 'IsEquivalentTo',\n 'IsExplicitLayout',\n 'IsGenericParameter',\n 'IsGenericType',\n 'IsGenericTypeDefinition',\n 'IsImport',\n 'IsInstanceOfType',\n 'IsInterface',\n 'IsLayoutSequential',\n 'IsMarshalByRef',\n 'IsMarshalByRefImpl',\n 'IsNested',\n 'IsNestedAssembly',\n 'IsNestedFamANDAssem',\n 'IsNestedFamORAssem',\n 'IsNestedFamily',\n 'IsNestedPrivate',\n 'IsNestedPublic',\n 'IsNotPublic',\n 'IsPointer',\n 'IsPointerImpl',\n 'IsPrimitive',\n 'IsPrimitiveImpl',\n 'IsPublic',\n 'IsSealed',\n 'IsSecurityCritical',\n 'IsSecuritySafeCritical',\n 'IsSecurityTransparent',\n 'IsSerializable',\n 'IsSpecialName',\n 'IsSubclassOf',\n 'IsUnicodeClass',\n 'IsValueType',\n 'IsValueTypeImpl',\n 'IsVisible',\n 'MakeArrayType',\n 'MakeByRefType',\n 'MakeGenericType',\n 'MakePointerType',\n 'MemberType',\n 'MemberwiseClone',\n 'MetadataToken',\n 'Missing',\n 'Module',\n 'Name',\n 'Namespace',\n 'Overloads',\n 'ReferenceEquals',\n 'ReflectedType',\n 'ReflectionOnlyGetType',\n 'StructLayoutAttribute',\n 'ToString',\n 'TypeHandle',\n 'TypeInitializer',\n 'UnderlyingSystemType',\n '__class__',\n '__delattr__',\n '__dir__',\n '__doc__',\n '__eq__',\n '__format__',\n '__ge__',\n '__getattribute__',\n '__gt__',\n '__hash__',\n '__init__',\n '__init_subclass__',\n '__le__',\n '__lt__',\n '__module__',\n '__ne__',\n '__new__',\n '__overloads__',\n '__reduce__',\n '__reduce_ex__',\n '__repr__',\n '__setattr__',\n '__sizeof__',\n '__str__',\n '__subclasshook__',\n 'get_Assembly',\n 'get_AssemblyQualifiedName',\n 'get_Attributes',\n 'get_BaseType',\n 'get_ContainsGenericParameters',\n 'get_CustomAttributes',\n 'get_DeclaredConstructors',\n 'get_DeclaredEvents',\n 'get_DeclaredFields',\n 'get_DeclaredMembers',\n 'get_DeclaredMethods',\n 'get_DeclaredNestedTypes',\n 'get_DeclaredProperties',\n 'get_DeclaringMethod',\n 'get_DeclaringType',\n 'get_DefaultBinder',\n 'get_FullName',\n 'get_GUID',\n 'get_GenericParameterAttributes',\n 'get_GenericParameterPosition',\n 'get_GenericTypeArguments',\n 'get_GenericTypeParameters',\n 'get_HasElementType',\n 'get_ImplementedInterfaces',\n 'get_IsAbstract',\n 'get_IsAnsiClass',\n 'get_IsArray',\n 'get_IsAutoClass',\n 'get_IsAutoLayout',\n 'get_IsByRef',\n 'get_IsCOMObject',\n 'get_IsClass',\n 'get_IsConstructedGenericType',\n 'get_IsContextful',\n 'get_IsEnum',\n 'get_IsExplicitLayout',\n 'get_IsGenericParameter',\n 'get_IsGenericType',\n 'get_IsGenericTypeDefinition',\n 'get_IsImport',\n 'get_IsInterface',\n 'get_IsLayoutSequential',\n 'get_IsMarshalByRef',\n 'get_IsNested',\n 'get_IsNestedAssembly',\n 'get_IsNestedFamANDAssem',\n 'get_IsNestedFamORAssem',\n 'get_IsNestedFamily',\n 'get_IsNestedPrivate',\n 'get_IsNestedPublic',\n 'get_IsNotPublic',\n 'get_IsPointer',\n 'get_IsPrimitive',\n 'get_IsPublic',\n 'get_IsSealed',\n 'get_IsSecurityCritical',\n 'get_IsSecuritySafeCritical',\n 'get_IsSecurityTransparent',\n 'get_IsSerializable',\n 'get_IsSpecialName',\n 'get_IsUnicodeClass',\n 'get_IsValueType',\n 'get_IsVisible',\n 'get_MemberType',\n 'get_MetadataToken',\n 'get_Module',\n 'get_Name',\n 'get_Namespace',\n 'get_ReflectedType',\n 'get_StructLayoutAttribute',\n 'get_TypeHandle',\n 'get_TypeInitializer',\n 'get_UnderlyingSystemType',\n 'op_Equality',\n 'op_Inequality']"
     },
     "execution_count": 27,
     "metadata": {},
     "output_type": "execute_result"
    }
   ],
   "source": [
    "dir(DateTimeKind.Utc.GetType())"
   ]
  },
  {
   "cell_type": "code",
   "execution_count": 28,
   "id": "8a089b1e",
   "metadata": {
    "collapsed": false,
    "jupyter": {
     "outputs_hidden": false
    }
   },
   "outputs": [
    {
     "data": {
      "text/plain": "<System.RuntimeType object at 0x0000018B90158540>"
     },
     "execution_count": 28,
     "metadata": {},
     "output_type": "execute_result"
    }
   ],
   "source": [
    "DateTimeKind.Utc.GetType().BaseType"
   ]
  },
  {
   "cell_type": "code",
   "execution_count": 29,
   "id": "8422b281",
   "metadata": {
    "collapsed": false,
    "jupyter": {
     "outputs_hidden": false
    }
   },
   "outputs": [
    {
     "data": {
      "text/plain": "'System.Enum'"
     },
     "execution_count": 29,
     "metadata": {},
     "output_type": "execute_result"
    }
   ],
   "source": [
    "DateTimeKind.Utc.GetType().BaseType.FullName"
   ]
  },
  {
   "cell_type": "code",
   "execution_count": 30,
   "id": "6fe7005f-a6b8-487c-8168-be18b3adc52a",
   "metadata": {
    "collapsed": false,
    "jupyter": {
     "outputs_hidden": false
    }
   },
   "outputs": [
    {
     "data": {
      "text/plain": "'2021-12-01T12:15:37.0000000Z'"
     },
     "execution_count": 30,
     "metadata": {},
     "output_type": "execute_result"
    }
   ],
   "source": [
    "DateTime(2021, 12, 1, 12, 15, 37, DateTimeKind.Utc).ToString('o')"
   ]
  },
  {
   "cell_type": "markdown",
   "id": "b2aef865-cd29-44ab-9649-a1cca7299ad0",
   "metadata": {},
   "source": [
    "### Eliminated need to inherit from Python `enum.IntEnum` for compatibility with .NET Enum types"
   ]
  },
  {
   "cell_type": "markdown",
   "id": "59b9582e-8095-4c06-b6d4-eea6015aa064",
   "metadata": {},
   "source": [
    "Version 2.5.2 of `pythonnet` converted values of type .NET Enum to Python `int` values. Consequently, to support \n",
    "easy comparisons between the .NET type, `Orchid.FractureDiagnostics.FormationConnectionType` and the Python \n",
    "enumeration, `native_stage_adapter.ConnectionType`, we defined `native_stage_adapter.ConnectionType` to inherit \n",
    "from `enum.IntEnum`.  This base class is not needed in `pythonnet-3.0.0.post1` because the enumeration member \n",
    "`native_stage_adatper.ConnectionType.PLUG_AND_PERF`, defined to have a value of \n",
    "`Orchid.FractureDiagnostics.FormationConnectionType` is no longer of type `int` but is actually of type, \n",
    "`Orchid.FractureDiagnostics.FormationConnectionType`."
   ]
  },
  {
   "cell_type": "code",
   "execution_count": 31,
   "id": "21af759e",
   "metadata": {
    "collapsed": false,
    "jupyter": {
     "outputs_hidden": false
    }
   },
   "outputs": [
    {
     "data": {
      "text/plain": "False"
     },
     "execution_count": 31,
     "metadata": {},
     "output_type": "execute_result"
    }
   ],
   "source": [
    "# Returned `True` in `pythonnet-2.5.2`\n",
    "orchid.net_date_time.TimePointTimeZoneKind.UTC == 0"
   ]
  },
  {
   "cell_type": "code",
   "execution_count": 32,
   "id": "c86fe687",
   "metadata": {
    "collapsed": false,
    "jupyter": {
     "outputs_hidden": false
    }
   },
   "outputs": [
    {
     "data": {
      "text/plain": "System.DateTimeKind"
     },
     "execution_count": 32,
     "metadata": {},
     "output_type": "execute_result"
    }
   ],
   "source": [
    "orchid.net_date_time.DateTimeKind"
   ]
  },
  {
   "cell_type": "code",
   "execution_count": 33,
   "id": "17e1ed8a",
   "metadata": {
    "collapsed": false,
    "jupyter": {
     "outputs_hidden": false
    }
   },
   "outputs": [
    {
     "data": {
      "text/plain": "<enum 'TimePointTimeZoneKind'>"
     },
     "execution_count": 33,
     "metadata": {},
     "output_type": "execute_result"
    }
   ],
   "source": [
    "orchid.net_date_time.TimePointTimeZoneKind"
   ]
  },
  {
   "cell_type": "code",
   "execution_count": 34,
   "id": "fe7f194c",
   "metadata": {
    "collapsed": false,
    "jupyter": {
     "outputs_hidden": false
    }
   },
   "outputs": [
    {
     "data": {
      "text/plain": "<TimePointTimeZoneKind.UTC: <System.DateTimeKind object at 0x0000018BF22B8BC0>>"
     },
     "execution_count": 34,
     "metadata": {},
     "output_type": "execute_result"
    }
   ],
   "source": [
    "orchid.net_date_time.TimePointTimeZoneKind.UTC"
   ]
  },
  {
   "cell_type": "code",
   "execution_count": 35,
   "id": "dc550cbe",
   "metadata": {
    "collapsed": false,
    "jupyter": {
     "outputs_hidden": false
    }
   },
   "outputs": [
    {
     "data": {
      "text/plain": "<System.DateTimeKind object at 0x0000018BF22B8BC0>"
     },
     "execution_count": 35,
     "metadata": {},
     "output_type": "execute_result"
    }
   ],
   "source": [
    "orchid.net_date_time.TimePointTimeZoneKind.UTC.value"
   ]
  },
  {
   "cell_type": "code",
   "execution_count": 36,
   "id": "296394b2",
   "metadata": {
    "collapsed": false,
    "jupyter": {
     "outputs_hidden": false
    }
   },
   "outputs": [
    {
     "data": {
      "text/plain": "False"
     },
     "execution_count": 36,
     "metadata": {},
     "output_type": "execute_result"
    }
   ],
   "source": [
    "# Similarly, this expression returned `True` in `pythonnet-2.5.2`\n",
    "orchid.native_stage_adapter.ConnectionType == 0"
   ]
  },
  {
   "cell_type": "code",
   "execution_count": 37,
   "id": "63906824",
   "metadata": {
    "collapsed": false,
    "jupyter": {
     "outputs_hidden": false
    }
   },
   "outputs": [
    {
     "data": {
      "text/plain": "Orchid.FractureDiagnostics.FormationConnectionType"
     },
     "execution_count": 37,
     "metadata": {},
     "output_type": "execute_result"
    }
   ],
   "source": [
    "orchid.native_stage_adapter.FormationConnectionType"
   ]
  },
  {
   "cell_type": "code",
   "execution_count": 38,
   "id": "f7fedaf3",
   "metadata": {
    "collapsed": false,
    "jupyter": {
     "outputs_hidden": false
    }
   },
   "outputs": [
    {
     "data": {
      "text/plain": "<enum 'ConnectionType'>"
     },
     "execution_count": 38,
     "metadata": {},
     "output_type": "execute_result"
    }
   ],
   "source": [
    "orchid.native_stage_adapter.ConnectionType"
   ]
  },
  {
   "cell_type": "code",
   "execution_count": 39,
   "id": "16ffb9b6",
   "metadata": {
    "collapsed": false,
    "jupyter": {
     "outputs_hidden": false
    }
   },
   "outputs": [
    {
     "data": {
      "text/plain": "<ConnectionType.PLUG_AND_PERF: <Orchid.FractureDiagnostics.FormationConnectionType object at 0x0000018BF357F680>>"
     },
     "execution_count": 39,
     "metadata": {},
     "output_type": "execute_result"
    }
   ],
   "source": [
    "orchid.native_stage_adapter.ConnectionType.PLUG_AND_PERF"
   ]
  },
  {
   "cell_type": "code",
   "execution_count": 40,
   "id": "f95f8d76",
   "metadata": {
    "collapsed": false,
    "jupyter": {
     "outputs_hidden": false
    }
   },
   "outputs": [
    {
     "data": {
      "text/plain": "<ConnectionType.OPEN_HOLE: <Orchid.FractureDiagnostics.FormationConnectionType object at 0x0000018BF357F780>>"
     },
     "execution_count": 40,
     "metadata": {},
     "output_type": "execute_result"
    }
   ],
   "source": [
    "orchid.native_stage_adapter.ConnectionType.OPEN_HOLE"
   ]
  },
  {
   "cell_type": "code",
   "execution_count": 41,
   "id": "43cdb7cc",
   "metadata": {
    "collapsed": false,
    "jupyter": {
     "outputs_hidden": false
    }
   },
   "outputs": [
    {
     "data": {
      "text/plain": "<Orchid.FractureDiagnostics.FormationConnectionType object at 0x0000018BF357F680>"
     },
     "execution_count": 41,
     "metadata": {},
     "output_type": "execute_result"
    }
   ],
   "source": [
    "orchid.native_stage_adapter.ConnectionType.PLUG_AND_PERF.value"
   ]
  },
  {
   "cell_type": "markdown",
   "id": "b3487252",
   "metadata": {},
   "source": [
    "## Return values from .NET methods that return an interface are now automatically wrapped in that interface"
   ]
  },
  {
   "cell_type": "markdown",
   "id": "4903ade3",
   "metadata": {},
   "source": [
    "Under `pythonnet-2.5.2`, running the following `doctest` passes:\n",
    "\n",
    "```\n",
    "    >>> start = pendulum.parse('2022-02-23T15:53:23Z')\n",
    "    >>> stop = pendulum.parse('2022-02-24T05:54:11Z')\n",
    "    >>> net_start = ndt.as_net_date_time(start)\n",
    "    >>> net_stop = ndt.as_net_date_time(stop)\n",
    "    >>> factory = create()\n",
    "    >>> date_time_offset_range = factory.CreateDateTimeOffsetRange(net_start, net_stop)\n",
    "    >>> (date_time_offset_range.Start.ToString('o'), date_time_offset_range.Stop.ToString('o'))\n",
    "    ('2022-02-23T15:53:23.0000000+00:00', '2022-02-24T05:54:11.0000000+00:00')\n",
    "```"
   ]
  },
  {
   "cell_type": "markdown",
   "id": "ae980d4e",
   "metadata": {},
   "source": [
    "When running the same `doctest` using `pythonnet-3.0.0.post1`, this code\n",
    "encounters an unhandled exception:\n",
    "\n",
    "```\n",
    "Error\n",
    "**********************************************************************\n",
    "File \"C:\\src\\orchid-python-api\\orchid\\net_fracture_diagnostics_factory.py\", line ?, in net_fracture_diagnostics_factory.create\n",
    "Failed example:\n",
    "    (date_time_offset_range.Start.ToString('o'), date_time_offset_range.Stop.ToString('o'))\n",
    "Exception raised:\n",
    "    Traceback (most recent call last):\n",
    "      File \"C:/Users/larry.jones/AppData/Local/JetBrains/Toolbox/apps/PyCharm-P/ch-0/222.4459.20/plugins/python/helpers/pycharm/docrunner.py\", line 138, in __run\n",
    "        exec(compile(example.source, filename, \"single\",\n",
    "      File \"<doctest net_fracture_diagnostics_factory.create[6]>\", line 1, in <module>\n",
    "        (date_time_offset_range.Start.ToString('o'), date_time_offset_range.Stop.ToString('o'))\n",
    "    TypeError: No method matches given arguments for Object.ToString: (<class 'str'>)\n",
    "```"
   ]
  },
  {
   "cell_type": "code",
   "execution_count": 42,
   "id": "5e20a223",
   "metadata": {
    "collapsed": false,
    "jupyter": {
     "outputs_hidden": false
    }
   },
   "outputs": [],
   "source": [
    "import pendulum"
   ]
  },
  {
   "cell_type": "code",
   "execution_count": 43,
   "id": "7e2bdec9",
   "metadata": {
    "collapsed": false,
    "jupyter": {
     "outputs_hidden": false
    }
   },
   "outputs": [],
   "source": [
    "start = pendulum.parse('2022-02-23T15:53:23Z')\n",
    "stop = pendulum.parse('2022-02-24T05:54:11Z')\n",
    "net_start = orchid.net_date_time.as_net_date_time(start)\n",
    "net_stop = orchid.net_date_time.as_net_date_time(stop)\n",
    "factory = orchid.net_fracture_diagnostics_factory.create()"
   ]
  },
  {
   "cell_type": "code",
   "execution_count": 44,
   "id": "117c45f4",
   "metadata": {
    "collapsed": false,
    "jupyter": {
     "outputs_hidden": false
    }
   },
   "outputs": [
    {
     "data": {
      "text/plain": "(pendulum.datetime.DateTime,\n pendulum.datetime.DateTime,\n System.DateTime,\n System.DateTime,\n Orchid.FractureDiagnostics.IFractureDiagnosticsFactory)"
     },
     "execution_count": 44,
     "metadata": {},
     "output_type": "execute_result"
    }
   ],
   "source": [
    "type(start), type(stop), type(net_start), type(net_stop), type(factory)"
   ]
  },
  {
   "cell_type": "code",
   "execution_count": 45,
   "id": "b5a7e9a7",
   "metadata": {
    "collapsed": false,
    "jupyter": {
     "outputs_hidden": false
    }
   },
   "outputs": [
    {
     "data": {
      "text/plain": "Orchid.FractureDiagnostics.IDateTimeOffsetRange"
     },
     "execution_count": 45,
     "metadata": {},
     "output_type": "execute_result"
    }
   ],
   "source": [
    "date_time_offset_range = factory.CreateDateTimeOffsetRange(net_start, net_stop)\n",
    "type(date_time_offset_range)"
   ]
  },
  {
   "cell_type": "code",
   "execution_count": 46,
   "id": "817ea281",
   "metadata": {
    "collapsed": false,
    "jupyter": {
     "outputs_hidden": false
    }
   },
   "outputs": [
    {
     "data": {
      "text/plain": "['Equals',\n 'GetHashCode',\n 'GetType',\n 'IsInRange',\n 'Start',\n 'Stop',\n 'ToString',\n '__class__',\n '__delattr__',\n '__dir__',\n '__doc__',\n '__eq__',\n '__format__',\n '__ge__',\n '__getattribute__',\n '__gt__',\n '__hash__',\n '__init__',\n '__init_subclass__',\n '__le__',\n '__lt__',\n '__module__',\n '__ne__',\n '__new__',\n '__reduce__',\n '__reduce_ex__',\n '__repr__',\n '__setattr__',\n '__sizeof__',\n '__str__',\n '__subclasshook__',\n 'get_Start',\n 'get_Stop']"
     },
     "execution_count": 46,
     "metadata": {},
     "output_type": "execute_result"
    }
   ],
   "source": [
    "dir(date_time_offset_range)"
   ]
  },
  {
   "cell_type": "code",
   "execution_count": 47,
   "id": "1c5d762f",
   "metadata": {
    "collapsed": false,
    "jupyter": {
     "outputs_hidden": false
    }
   },
   "outputs": [
    {
     "data": {
      "text/plain": "'Orchid.FractureDiagnostics.Factories.Implementations.DateTimeOffsetRange'"
     },
     "execution_count": 47,
     "metadata": {},
     "output_type": "execute_result"
    }
   ],
   "source": [
    "str(date_time_offset_range)"
   ]
  },
  {
   "cell_type": "code",
   "execution_count": 48,
   "id": "c33fc1c6",
   "metadata": {
    "collapsed": false,
    "jupyter": {
     "outputs_hidden": false
    }
   },
   "outputs": [
    {
     "data": {
      "text/plain": "'System.DateTimeOffset'"
     },
     "execution_count": 48,
     "metadata": {},
     "output_type": "execute_result"
    }
   ],
   "source": [
    "date_time_offset_range.Start.GetType().FullName"
   ]
  },
  {
   "cell_type": "code",
   "execution_count": 49,
   "id": "0838bc72",
   "metadata": {
    "collapsed": false,
    "jupyter": {
     "outputs_hidden": false
    }
   },
   "outputs": [
    {
     "data": {
      "text/plain": "System.IComparable"
     },
     "execution_count": 49,
     "metadata": {},
     "output_type": "execute_result"
    }
   ],
   "source": [
    "net_range_start = date_time_offset_range.Start\n",
    "type(net_range_start)"
   ]
  },
  {
   "cell_type": "code",
   "execution_count": 50,
   "id": "2da482a8",
   "metadata": {
    "collapsed": false,
    "jupyter": {
     "outputs_hidden": false
    }
   },
   "outputs": [
    {
     "name": "stdout",
     "output_type": "stream",
     "text": [
      "TypeError: No method matches given arguments for Object.ToString: (<class 'str'>)\n"
     ]
    }
   ],
   "source": [
    "try:\n",
    "    net_range_start.ToString('o')\n",
    "except TypeError as te:\n",
    "    print(f'TypeError: {te}')"
   ]
  },
  {
   "cell_type": "code",
   "execution_count": 51,
   "id": "db3da74d",
   "metadata": {
    "collapsed": false,
    "jupyter": {
     "outputs_hidden": false
    }
   },
   "outputs": [
    {
     "data": {
      "text/plain": "'2/23/2022 3:53:23 PM +00:00'"
     },
     "execution_count": 51,
     "metadata": {},
     "output_type": "execute_result"
    }
   ],
   "source": [
    "net_range_start.ToString()"
   ]
  },
  {
   "cell_type": "code",
   "execution_count": 52,
   "id": "4ea78097",
   "metadata": {
    "collapsed": false,
    "jupyter": {
     "outputs_hidden": false
    }
   },
   "outputs": [
    {
     "data": {
      "text/plain": "'System.String ToString()'"
     },
     "execution_count": 52,
     "metadata": {},
     "output_type": "execute_result"
    }
   ],
   "source": [
    "net_range_start.ToString.__doc__"
   ]
  },
  {
   "cell_type": "code",
   "execution_count": 53,
   "id": "e094aad7",
   "metadata": {
    "collapsed": false,
    "jupyter": {
     "outputs_hidden": false
    }
   },
   "outputs": [
    {
     "data": {
      "text/plain": "['Add',\n 'AddDays',\n 'AddHours',\n 'AddMilliseconds',\n 'AddMinutes',\n 'AddMonths',\n 'AddSeconds',\n 'AddTicks',\n 'AddYears',\n 'Compare',\n 'CompareTo',\n 'Date',\n 'DateTime',\n 'Day',\n 'DayOfWeek',\n 'DayOfYear',\n 'Equals',\n 'EqualsExact',\n 'Finalize',\n 'FromFileTime',\n 'FromUnixTimeMilliseconds',\n 'FromUnixTimeSeconds',\n 'GetHashCode',\n 'GetType',\n 'Hour',\n 'LocalDateTime',\n 'MaxValue',\n 'MemberwiseClone',\n 'Millisecond',\n 'MinValue',\n 'Minute',\n 'Month',\n 'Now',\n 'Offset',\n 'Overloads',\n 'Parse',\n 'ParseExact',\n 'ReferenceEquals',\n 'Second',\n 'Subtract',\n 'Ticks',\n 'TimeOfDay',\n 'ToFileTime',\n 'ToLocalTime',\n 'ToOffset',\n 'ToString',\n 'ToUniversalTime',\n 'ToUnixTimeMilliseconds',\n 'ToUnixTimeSeconds',\n 'TryParse',\n 'TryParseExact',\n 'UtcDateTime',\n 'UtcNow',\n 'UtcTicks',\n 'Year',\n '__add__',\n '__class__',\n '__delattr__',\n '__dir__',\n '__doc__',\n '__eq__',\n '__format__',\n '__ge__',\n '__getattribute__',\n '__gt__',\n '__hash__',\n '__init__',\n '__init_subclass__',\n '__le__',\n '__lt__',\n '__module__',\n '__ne__',\n '__new__',\n '__overloads__',\n '__radd__',\n '__reduce__',\n '__reduce_ex__',\n '__repr__',\n '__rsub__',\n '__setattr__',\n '__sizeof__',\n '__str__',\n '__sub__',\n '__subclasshook__',\n 'get_Date',\n 'get_DateTime',\n 'get_Day',\n 'get_DayOfWeek',\n 'get_DayOfYear',\n 'get_Hour',\n 'get_LocalDateTime',\n 'get_Millisecond',\n 'get_Minute',\n 'get_Month',\n 'get_Now',\n 'get_Offset',\n 'get_Second',\n 'get_Ticks',\n 'get_TimeOfDay',\n 'get_UtcDateTime',\n 'get_UtcNow',\n 'get_UtcTicks',\n 'get_Year',\n 'op_Addition',\n 'op_Equality',\n 'op_GreaterThan',\n 'op_GreaterThanOrEqual',\n 'op_Implicit',\n 'op_Inequality',\n 'op_LessThan',\n 'op_LessThanOrEqual',\n 'op_Subtraction']"
     },
     "execution_count": 53,
     "metadata": {},
     "output_type": "execute_result"
    }
   ],
   "source": [
    "dir(DateTimeOffset)"
   ]
  },
  {
   "cell_type": "code",
   "execution_count": 54,
   "id": "9112991c",
   "metadata": {
    "collapsed": false,
    "jupyter": {
     "outputs_hidden": false
    }
   },
   "outputs": [
    {
     "data": {
      "text/plain": "<System.DateTimeOffset object at 0x0000018B90170880>"
     },
     "execution_count": 54,
     "metadata": {},
     "output_type": "execute_result"
    }
   ],
   "source": [
    "net_date_time_offset = DateTimeOffset.UtcNow\n",
    "net_date_time_offset"
   ]
  },
  {
   "cell_type": "code",
   "execution_count": 55,
   "id": "8bf5382e",
   "metadata": {
    "collapsed": false,
    "jupyter": {
     "outputs_hidden": false
    }
   },
   "outputs": [
    {
     "data": {
      "text/plain": "'12/3/2022 11:43:05 PM +00:00'"
     },
     "execution_count": 55,
     "metadata": {},
     "output_type": "execute_result"
    }
   ],
   "source": [
    "str(net_date_time_offset)"
   ]
  },
  {
   "cell_type": "code",
   "execution_count": 56,
   "id": "7084adbc",
   "metadata": {
    "collapsed": false,
    "jupyter": {
     "outputs_hidden": false
    }
   },
   "outputs": [
    {
     "data": {
      "text/plain": "'<System.DateTimeOffset object at 0x0000018B90170880>'"
     },
     "execution_count": 56,
     "metadata": {},
     "output_type": "execute_result"
    }
   ],
   "source": [
    "repr(net_date_time_offset)"
   ]
  },
  {
   "cell_type": "code",
   "execution_count": 57,
   "id": "031aaa66",
   "metadata": {
    "collapsed": false,
    "jupyter": {
     "outputs_hidden": false
    }
   },
   "outputs": [
    {
     "data": {
      "text/plain": "'12/3/2022 11:43:05 PM +00:00'"
     },
     "execution_count": 57,
     "metadata": {},
     "output_type": "execute_result"
    }
   ],
   "source": [
    "net_date_time_offset.ToString()"
   ]
  },
  {
   "cell_type": "code",
   "execution_count": 58,
   "id": "21a793d1",
   "metadata": {
    "collapsed": false,
    "jupyter": {
     "outputs_hidden": false
    }
   },
   "outputs": [
    {
     "data": {
      "text/plain": "'2022-12-03T23:43:05.9968580+00:00'"
     },
     "execution_count": 58,
     "metadata": {},
     "output_type": "execute_result"
    }
   ],
   "source": [
    "net_date_time_offset.ToString('o')"
   ]
  },
  {
   "cell_type": "code",
   "execution_count": 59,
   "id": "aea81a09",
   "metadata": {
    "collapsed": false,
    "jupyter": {
     "outputs_hidden": false
    }
   },
   "outputs": [
    {
     "data": {
      "text/plain": "System.DateTimeOffset"
     },
     "execution_count": 59,
     "metadata": {},
     "output_type": "execute_result"
    }
   ],
   "source": [
    "type(net_date_time_offset)"
   ]
  },
  {
   "cell_type": "code",
   "execution_count": 60,
   "id": "5a759870",
   "metadata": {
    "collapsed": false,
    "jupyter": {
     "outputs_hidden": false
    }
   },
   "outputs": [
    {
     "data": {
      "text/plain": "System.IComparable"
     },
     "execution_count": 60,
     "metadata": {},
     "output_type": "execute_result"
    }
   ],
   "source": [
    "type(net_range_start)"
   ]
  },
  {
   "cell_type": "code",
   "execution_count": 61,
   "id": "b4dd8158",
   "metadata": {
    "collapsed": false,
    "jupyter": {
     "outputs_hidden": false
    }
   },
   "outputs": [
    {
     "data": {
      "text/plain": "'System.DateTimeOffset'"
     },
     "execution_count": 61,
     "metadata": {},
     "output_type": "execute_result"
    }
   ],
   "source": [
    "net_range_start.GetType().FullName"
   ]
  },
  {
   "cell_type": "code",
   "execution_count": 62,
   "id": "01b12059",
   "metadata": {
    "collapsed": false,
    "jupyter": {
     "outputs_hidden": false
    }
   },
   "outputs": [
    {
     "data": {
      "text/plain": "['AsType',\n 'Assembly',\n 'AssemblyQualifiedName',\n 'Attributes',\n 'BaseType',\n 'Clone',\n 'ContainsGenericParameters',\n 'CustomAttributes',\n 'DeclaredConstructors',\n 'DeclaredEvents',\n 'DeclaredFields',\n 'DeclaredMembers',\n 'DeclaredMethods',\n 'DeclaredNestedTypes',\n 'DeclaredProperties',\n 'DeclaringMethod',\n 'DeclaringType',\n 'DefaultBinder',\n 'Delimiter',\n 'EmptyTypes',\n 'Equals',\n 'FilterAttribute',\n 'FilterName',\n 'FilterNameIgnoreCase',\n 'Finalize',\n 'FindInterfaces',\n 'FindMembers',\n 'FullName',\n 'GUID',\n 'GenericParameterAttributes',\n 'GenericParameterPosition',\n 'GenericTypeArguments',\n 'GenericTypeParameters',\n 'GetArrayRank',\n 'GetAttributeFlagsImpl',\n 'GetConstructor',\n 'GetConstructorImpl',\n 'GetConstructors',\n 'GetCustomAttributes',\n 'GetCustomAttributesData',\n 'GetDeclaredEvent',\n 'GetDeclaredField',\n 'GetDeclaredMethod',\n 'GetDeclaredMethods',\n 'GetDeclaredNestedType',\n 'GetDeclaredProperty',\n 'GetDefaultMembers',\n 'GetElementType',\n 'GetEnumName',\n 'GetEnumNames',\n 'GetEnumUnderlyingType',\n 'GetEnumValues',\n 'GetEvent',\n 'GetEvents',\n 'GetField',\n 'GetFields',\n 'GetGenericArguments',\n 'GetGenericParameterConstraints',\n 'GetGenericTypeDefinition',\n 'GetHashCode',\n 'GetInterface',\n 'GetInterfaceMap',\n 'GetInterfaces',\n 'GetMember',\n 'GetMembers',\n 'GetMethod',\n 'GetMethodImpl',\n 'GetMethods',\n 'GetNestedType',\n 'GetNestedTypes',\n 'GetObjectData',\n 'GetProperties',\n 'GetProperty',\n 'GetPropertyImpl',\n 'GetType',\n 'GetTypeArray',\n 'GetTypeCode',\n 'GetTypeCodeImpl',\n 'GetTypeFromCLSID',\n 'GetTypeFromHandle',\n 'GetTypeFromProgID',\n 'GetTypeHandle',\n 'HasElementType',\n 'HasElementTypeImpl',\n 'ImplementedInterfaces',\n 'InvokeMember',\n 'IsAbstract',\n 'IsAnsiClass',\n 'IsArray',\n 'IsArrayImpl',\n 'IsAssignableFrom',\n 'IsAutoClass',\n 'IsAutoLayout',\n 'IsByRef',\n 'IsByRefImpl',\n 'IsCOMObject',\n 'IsCOMObjectImpl',\n 'IsClass',\n 'IsConstructedGenericType',\n 'IsContextful',\n 'IsContextfulImpl',\n 'IsDefined',\n 'IsEnum',\n 'IsEnumDefined',\n 'IsEquivalentTo',\n 'IsExplicitLayout',\n 'IsGenericParameter',\n 'IsGenericType',\n 'IsGenericTypeDefinition',\n 'IsImport',\n 'IsInstanceOfType',\n 'IsInterface',\n 'IsLayoutSequential',\n 'IsMarshalByRef',\n 'IsMarshalByRefImpl',\n 'IsNested',\n 'IsNestedAssembly',\n 'IsNestedFamANDAssem',\n 'IsNestedFamORAssem',\n 'IsNestedFamily',\n 'IsNestedPrivate',\n 'IsNestedPublic',\n 'IsNotPublic',\n 'IsPointer',\n 'IsPointerImpl',\n 'IsPrimitive',\n 'IsPrimitiveImpl',\n 'IsPublic',\n 'IsSealed',\n 'IsSecurityCritical',\n 'IsSecuritySafeCritical',\n 'IsSecurityTransparent',\n 'IsSerializable',\n 'IsSpecialName',\n 'IsSubclassOf',\n 'IsUnicodeClass',\n 'IsValueType',\n 'IsValueTypeImpl',\n 'IsVisible',\n 'MakeArrayType',\n 'MakeByRefType',\n 'MakeGenericType',\n 'MakePointerType',\n 'MemberType',\n 'MemberwiseClone',\n 'MetadataToken',\n 'Missing',\n 'Module',\n 'Name',\n 'Namespace',\n 'Overloads',\n 'ReferenceEquals',\n 'ReflectedType',\n 'ReflectionOnlyGetType',\n 'StructLayoutAttribute',\n 'ToString',\n 'TypeHandle',\n 'TypeInitializer',\n 'UnderlyingSystemType',\n '__class__',\n '__delattr__',\n '__dir__',\n '__doc__',\n '__eq__',\n '__format__',\n '__ge__',\n '__getattribute__',\n '__gt__',\n '__hash__',\n '__init__',\n '__init_subclass__',\n '__le__',\n '__lt__',\n '__module__',\n '__ne__',\n '__new__',\n '__overloads__',\n '__reduce__',\n '__reduce_ex__',\n '__repr__',\n '__setattr__',\n '__sizeof__',\n '__str__',\n '__subclasshook__',\n 'get_Assembly',\n 'get_AssemblyQualifiedName',\n 'get_Attributes',\n 'get_BaseType',\n 'get_ContainsGenericParameters',\n 'get_CustomAttributes',\n 'get_DeclaredConstructors',\n 'get_DeclaredEvents',\n 'get_DeclaredFields',\n 'get_DeclaredMembers',\n 'get_DeclaredMethods',\n 'get_DeclaredNestedTypes',\n 'get_DeclaredProperties',\n 'get_DeclaringMethod',\n 'get_DeclaringType',\n 'get_DefaultBinder',\n 'get_FullName',\n 'get_GUID',\n 'get_GenericParameterAttributes',\n 'get_GenericParameterPosition',\n 'get_GenericTypeArguments',\n 'get_GenericTypeParameters',\n 'get_HasElementType',\n 'get_ImplementedInterfaces',\n 'get_IsAbstract',\n 'get_IsAnsiClass',\n 'get_IsArray',\n 'get_IsAutoClass',\n 'get_IsAutoLayout',\n 'get_IsByRef',\n 'get_IsCOMObject',\n 'get_IsClass',\n 'get_IsConstructedGenericType',\n 'get_IsContextful',\n 'get_IsEnum',\n 'get_IsExplicitLayout',\n 'get_IsGenericParameter',\n 'get_IsGenericType',\n 'get_IsGenericTypeDefinition',\n 'get_IsImport',\n 'get_IsInterface',\n 'get_IsLayoutSequential',\n 'get_IsMarshalByRef',\n 'get_IsNested',\n 'get_IsNestedAssembly',\n 'get_IsNestedFamANDAssem',\n 'get_IsNestedFamORAssem',\n 'get_IsNestedFamily',\n 'get_IsNestedPrivate',\n 'get_IsNestedPublic',\n 'get_IsNotPublic',\n 'get_IsPointer',\n 'get_IsPrimitive',\n 'get_IsPublic',\n 'get_IsSealed',\n 'get_IsSecurityCritical',\n 'get_IsSecuritySafeCritical',\n 'get_IsSecurityTransparent',\n 'get_IsSerializable',\n 'get_IsSpecialName',\n 'get_IsUnicodeClass',\n 'get_IsValueType',\n 'get_IsVisible',\n 'get_MemberType',\n 'get_MetadataToken',\n 'get_Module',\n 'get_Name',\n 'get_Namespace',\n 'get_ReflectedType',\n 'get_StructLayoutAttribute',\n 'get_TypeHandle',\n 'get_TypeInitializer',\n 'get_UnderlyingSystemType',\n 'op_Equality',\n 'op_Inequality']"
     },
     "execution_count": 62,
     "metadata": {},
     "output_type": "execute_result"
    }
   ],
   "source": [
    "dir(net_range_start.GetType())"
   ]
  },
  {
   "cell_type": "code",
   "execution_count": 63,
   "id": "04527074",
   "metadata": {
    "collapsed": false,
    "jupyter": {
     "outputs_hidden": false
    }
   },
   "outputs": [
    {
     "data": {
      "text/plain": "['System.IComparable',\n 'System.IFormattable',\n 'System.Runtime.Serialization.ISerializable',\n 'System.Runtime.Serialization.IDeserializationCallback',\n 'System.IComparable`1[[System.DateTimeOffset, mscorlib, Version=4.0.0.0, Culture=neutral, PublicKeyToken=b77a5c561934e089]]',\n 'System.IEquatable`1[[System.DateTimeOffset, mscorlib, Version=4.0.0.0, Culture=neutral, PublicKeyToken=b77a5c561934e089]]']"
     },
     "execution_count": 63,
     "metadata": {},
     "output_type": "execute_result"
    }
   ],
   "source": [
    "[iface.FullName for iface in net_range_start.GetType().GetInterfaces()]"
   ]
  },
  {
   "cell_type": "code",
   "execution_count": 64,
   "id": "e4676c51",
   "metadata": {
    "collapsed": false,
    "jupyter": {
     "outputs_hidden": false
    }
   },
   "outputs": [
    {
     "name": "stdout",
     "output_type": "stream",
     "text": [
      "InvalidCastException Object must implement IConvertible.\r\n",
      "   at System.Convert.ChangeType(Object value, Type conversionType, IFormatProvider provider)\n"
     ]
    }
   ],
   "source": [
    "try:\n",
    "    error_net_range_start = Convert.ChangeType(date_time_offset_range, DateTimeOffset)\n",
    "    type(error_net_range_start)\n",
    "except InvalidCastException as ice:\n",
    "    print(f'InvalidCastException {ice}')"
   ]
  },
  {
   "cell_type": "code",
   "execution_count": 65,
   "id": "d8fb0bff",
   "metadata": {
    "collapsed": false,
    "jupyter": {
     "outputs_hidden": false
    }
   },
   "outputs": [],
   "source": [
    "clr.AddReference('System.Globalization')\n",
    "# noinspection PyUnresolvedReferences,PyPackageRequirements\n",
    "from System.Globalization import DateTimeFormatInfo"
   ]
  },
  {
   "cell_type": "code",
   "execution_count": 66,
   "id": "0fbfe4ed",
   "metadata": {
    "collapsed": false,
    "jupyter": {
     "outputs_hidden": false
    }
   },
   "outputs": [
    {
     "data": {
      "text/plain": "['AMDesignator',\n 'AbbreviatedDayNames',\n 'AbbreviatedMonthGenitiveNames',\n 'AbbreviatedMonthNames',\n 'Calendar',\n 'CalendarWeekRule',\n 'Clone',\n 'CurrentInfo',\n 'DateSeparator',\n 'DayNames',\n 'Equals',\n 'Finalize',\n 'FirstDayOfWeek',\n 'FullDateTimePattern',\n 'GetAbbreviatedDayName',\n 'GetAbbreviatedEraName',\n 'GetAbbreviatedMonthName',\n 'GetAllDateTimePatterns',\n 'GetDayName',\n 'GetEra',\n 'GetEraName',\n 'GetFormat',\n 'GetHashCode',\n 'GetInstance',\n 'GetMonthName',\n 'GetShortestDayName',\n 'GetType',\n 'InvariantInfo',\n 'IsReadOnly',\n 'LongDatePattern',\n 'LongTimePattern',\n 'MemberwiseClone',\n 'MonthDayPattern',\n 'MonthGenitiveNames',\n 'MonthNames',\n 'NativeCalendarName',\n 'Overloads',\n 'PMDesignator',\n 'RFC1123Pattern',\n 'ReadOnly',\n 'ReferenceEquals',\n 'SetAllDateTimePatterns',\n 'ShortDatePattern',\n 'ShortTimePattern',\n 'ShortestDayNames',\n 'SortableDateTimePattern',\n 'TimeSeparator',\n 'ToString',\n 'UniversalSortableDateTimePattern',\n 'YearMonthPattern',\n '__class__',\n '__delattr__',\n '__dir__',\n '__doc__',\n '__eq__',\n '__format__',\n '__ge__',\n '__getattribute__',\n '__gt__',\n '__hash__',\n '__init__',\n '__init_subclass__',\n '__le__',\n '__lt__',\n '__module__',\n '__ne__',\n '__new__',\n '__overloads__',\n '__reduce__',\n '__reduce_ex__',\n '__repr__',\n '__setattr__',\n '__sizeof__',\n '__str__',\n '__subclasshook__',\n 'get_AMDesignator',\n 'get_AbbreviatedDayNames',\n 'get_AbbreviatedMonthGenitiveNames',\n 'get_AbbreviatedMonthNames',\n 'get_Calendar',\n 'get_CalendarWeekRule',\n 'get_CurrentInfo',\n 'get_DateSeparator',\n 'get_DayNames',\n 'get_FirstDayOfWeek',\n 'get_FullDateTimePattern',\n 'get_InvariantInfo',\n 'get_IsReadOnly',\n 'get_LongDatePattern',\n 'get_LongTimePattern',\n 'get_MonthDayPattern',\n 'get_MonthGenitiveNames',\n 'get_MonthNames',\n 'get_NativeCalendarName',\n 'get_PMDesignator',\n 'get_RFC1123Pattern',\n 'get_ShortDatePattern',\n 'get_ShortTimePattern',\n 'get_ShortestDayNames',\n 'get_SortableDateTimePattern',\n 'get_TimeSeparator',\n 'get_UniversalSortableDateTimePattern',\n 'get_YearMonthPattern',\n 'set_AMDesignator',\n 'set_AbbreviatedDayNames',\n 'set_AbbreviatedMonthGenitiveNames',\n 'set_AbbreviatedMonthNames',\n 'set_Calendar',\n 'set_CalendarWeekRule',\n 'set_DateSeparator',\n 'set_DayNames',\n 'set_FirstDayOfWeek',\n 'set_FullDateTimePattern',\n 'set_LongDatePattern',\n 'set_LongTimePattern',\n 'set_MonthDayPattern',\n 'set_MonthGenitiveNames',\n 'set_MonthNames',\n 'set_PMDesignator',\n 'set_ShortDatePattern',\n 'set_ShortTimePattern',\n 'set_ShortestDayNames',\n 'set_TimeSeparator',\n 'set_YearMonthPattern']"
     },
     "execution_count": 66,
     "metadata": {},
     "output_type": "execute_result"
    }
   ],
   "source": [
    "dir(DateTimeFormatInfo)"
   ]
  },
  {
   "cell_type": "code",
   "execution_count": 67,
   "id": "689bc7b2",
   "metadata": {
    "collapsed": false,
    "jupyter": {
     "outputs_hidden": false
    }
   },
   "outputs": [
    {
     "name": "stdout",
     "output_type": "stream",
     "text": [
      "TypeError: No method matches given arguments for Object.ToString: (<class 'CLR.PropertyObject'>)\n"
     ]
    }
   ],
   "source": [
    "try:\n",
    "    net_range_start.ToString(DateTimeFormatInfo.SortableDateTimePattern)\n",
    "except TypeError as nie:\n",
    "    print(f'TypeError: {nie}')"
   ]
  },
  {
   "cell_type": "code",
   "execution_count": 68,
   "id": "13930bf7",
   "metadata": {
    "collapsed": false,
    "jupyter": {
     "outputs_hidden": false
    }
   },
   "outputs": [
    {
     "name": "stdout",
     "output_type": "stream",
     "text": [
      "NotImplementedError\n"
     ]
    }
   ],
   "source": [
    "try:\n",
    "    orchid.net_date_time.as_date_time(net_range_start)\n",
    "except NotImplementedError:\n",
    "    print(f'NotImplementedError')"
   ]
  },
  {
   "cell_type": "code",
   "execution_count": 69,
   "id": "a3495182",
   "metadata": {
    "collapsed": false,
    "jupyter": {
     "outputs_hidden": false
    }
   },
   "outputs": [
    {
     "name": "stdout",
     "output_type": "stream",
     "text": [
      "TypeError: No method matches given arguments for DateTimeOffset..ctor: (<class 'System.IComparable'>)\n"
     ]
    }
   ],
   "source": [
    "try:\n",
    "    (DateTimeOffset)(net_range_start)\n",
    "except TypeError as te:\n",
    "    print(f'TypeError: {te}')"
   ]
  },
  {
   "cell_type": "code",
   "execution_count": 70,
   "id": "bc648dae",
   "metadata": {
    "collapsed": false,
    "jupyter": {
     "outputs_hidden": false
    }
   },
   "outputs": [
    {
     "data": {
      "text/plain": "<System.IComparable object at 0x0000018B90162880>"
     },
     "execution_count": 70,
     "metadata": {},
     "output_type": "execute_result"
    }
   ],
   "source": [
    "a_date_time_offset = DateTimeOffset.UtcNow\n",
    "a_date_time_offset = net_range_start\n",
    "a_date_time_offset"
   ]
  },
  {
   "cell_type": "code",
   "execution_count": 71,
   "id": "cd549c6a",
   "metadata": {
    "collapsed": false,
    "jupyter": {
     "outputs_hidden": false
    }
   },
   "outputs": [
    {
     "data": {
      "text/plain": "['CompareTo',\n 'Equals',\n 'GetHashCode',\n 'GetType',\n 'ToString',\n '__class__',\n '__delattr__',\n '__dir__',\n '__doc__',\n '__eq__',\n '__format__',\n '__ge__',\n '__getattribute__',\n '__gt__',\n '__hash__',\n '__init__',\n '__init_subclass__',\n '__le__',\n '__lt__',\n '__module__',\n '__ne__',\n '__new__',\n '__reduce__',\n '__reduce_ex__',\n '__repr__',\n '__setattr__',\n '__sizeof__',\n '__str__',\n '__subclasshook__']"
     },
     "execution_count": 71,
     "metadata": {},
     "output_type": "execute_result"
    }
   ],
   "source": [
    "dir(net_range_start)"
   ]
  },
  {
   "cell_type": "code",
   "execution_count": 72,
   "id": "2bbf3e01",
   "metadata": {
    "collapsed": false,
    "jupyter": {
     "outputs_hidden": false
    }
   },
   "outputs": [
    {
     "data": {
      "text/plain": "Orchid.FractureDiagnostics.IDateTimeOffsetRange"
     },
     "execution_count": 72,
     "metadata": {},
     "output_type": "execute_result"
    }
   ],
   "source": [
    "type(date_time_offset_range)"
   ]
  },
  {
   "cell_type": "code",
   "execution_count": 73,
   "id": "9d5ea4d4",
   "metadata": {
    "collapsed": false,
    "jupyter": {
     "outputs_hidden": false
    }
   },
   "outputs": [
    {
     "data": {
      "text/plain": "['Equals',\n 'GetHashCode',\n 'GetType',\n 'IsInRange',\n 'Start',\n 'Stop',\n 'ToString',\n '__class__',\n '__delattr__',\n '__dir__',\n '__doc__',\n '__eq__',\n '__format__',\n '__ge__',\n '__getattribute__',\n '__gt__',\n '__hash__',\n '__init__',\n '__init_subclass__',\n '__le__',\n '__lt__',\n '__module__',\n '__ne__',\n '__new__',\n '__reduce__',\n '__reduce_ex__',\n '__repr__',\n '__setattr__',\n '__sizeof__',\n '__str__',\n '__subclasshook__',\n 'get_Start',\n 'get_Stop']"
     },
     "execution_count": 73,
     "metadata": {},
     "output_type": "execute_result"
    }
   ],
   "source": [
    "dir(date_time_offset_range)"
   ]
  },
  {
   "cell_type": "code",
   "execution_count": 74,
   "id": "ad19ee50",
   "metadata": {
    "collapsed": false,
    "jupyter": {
     "outputs_hidden": false
    }
   },
   "outputs": [],
   "source": [
    "net_range_start.GetType().GetElementType()"
   ]
  },
  {
   "cell_type": "code",
   "execution_count": 75,
   "id": "f4a76a09",
   "metadata": {
    "collapsed": false,
    "jupyter": {
     "outputs_hidden": false
    }
   },
   "outputs": [],
   "source": [
    "net_range_start.GetType().GetInterface('DateTimeOffset')"
   ]
  },
  {
   "cell_type": "code",
   "execution_count": 76,
   "id": "f009f960",
   "metadata": {
    "collapsed": false,
    "jupyter": {
     "outputs_hidden": false
    }
   },
   "outputs": [
    {
     "name": "stdout",
     "output_type": "stream",
     "text": [
      "TypeError: not enough arguments\n"
     ]
    }
   ],
   "source": [
    "try:\n",
    "    DateTimeOffset.GetType().IsInstanceOfType(net_range_start)\n",
    "except TypeError as te:\n",
    "    print(f'TypeError: {te}')"
   ]
  },
  {
   "cell_type": "code",
   "execution_count": 77,
   "id": "f7f89c98",
   "metadata": {
    "collapsed": false,
    "jupyter": {
     "outputs_hidden": false
    }
   },
   "outputs": [
    {
     "data": {
      "text/plain": "True"
     },
     "execution_count": 77,
     "metadata": {},
     "output_type": "execute_result"
    }
   ],
   "source": [
    "a_date_time_offset.GetType().IsInstanceOfType(net_range_start)"
   ]
  },
  {
   "cell_type": "code",
   "execution_count": 78,
   "id": "29f58ba4",
   "metadata": {
    "collapsed": false,
    "jupyter": {
     "outputs_hidden": false
    }
   },
   "outputs": [
    {
     "data": {
      "text/plain": "'System.ValueType'"
     },
     "execution_count": 78,
     "metadata": {},
     "output_type": "execute_result"
    }
   ],
   "source": [
    "net_range_start.GetType().BaseType.FullName"
   ]
  },
  {
   "cell_type": "markdown",
   "id": "36334ae4",
   "metadata": {},
   "source": [
    "I have not been able to determine a mechanism to convert or cast the type of `IDateTimeOffsetRange.Start` \n",
    "(and `IDateTimeOffsetRange.Stop`) from `IComparable` \"down\" to the concrete type. Consequently, I will use the \n",
    "work around of simply invoking `Object.ToString()` and comparing."
   ]
  },
  {
   "cell_type": "code",
   "execution_count": 79,
   "id": "3bfbbf09",
   "metadata": {
    "collapsed": false,
    "jupyter": {
     "outputs_hidden": false
    }
   },
   "outputs": [
    {
     "data": {
      "text/plain": "('2/23/2022 3:53:23 PM +00:00', '2/24/2022 5:54:11 AM +00:00')"
     },
     "execution_count": 79,
     "metadata": {},
     "output_type": "execute_result"
    }
   ],
   "source": [
    "date_time_offset_range.Start.ToString(), date_time_offset_range.Stop.ToString()"
   ]
  },
  {
   "cell_type": "markdown",
   "id": "13fe6452",
   "metadata": {},
   "source": [
    "After implementing the `ToString()` (no arguments) work around, I received a [response](https://github.com/pythonnet/pythonnet/issues/2034#issuecomment-1332728831) to the issue that I [posted](https://github.com/pythonnet/pythonnet/issues/2034):\n",
    "\n",
    "> You can access `__implementation__` (codecs applied) or `__raw_implementaion__` (codecs not applied).\n",
    "\n",
    "This solution is a much better solution than my work around."
   ]
  },
  {
   "cell_type": "code",
   "execution_count": 80,
   "id": "166808e3",
   "metadata": {
    "collapsed": false,
    "jupyter": {
     "outputs_hidden": false
    }
   },
   "outputs": [
    {
     "data": {
      "text/plain": "<System.DateTimeOffset object at 0x0000018B901B9940>"
     },
     "execution_count": 80,
     "metadata": {},
     "output_type": "execute_result"
    }
   ],
   "source": [
    "net_range_start.__implementation__"
   ]
  },
  {
   "cell_type": "code",
   "execution_count": 81,
   "id": "3d457a8f",
   "metadata": {
    "collapsed": false,
    "jupyter": {
     "outputs_hidden": false
    }
   },
   "outputs": [
    {
     "data": {
      "text/plain": "<System.DateTimeOffset object at 0x0000018B901B9F40>"
     },
     "execution_count": 81,
     "metadata": {},
     "output_type": "execute_result"
    }
   ],
   "source": [
    "net_range_start.__raw_implementation__"
   ]
  },
  {
   "cell_type": "code",
   "execution_count": 82,
   "id": "79a6dc9a",
   "metadata": {
    "collapsed": false,
    "jupyter": {
     "outputs_hidden": false
    }
   },
   "outputs": [
    {
     "data": {
      "text/plain": "['2022-02-23T15:53:23.0000000+00:00', '2022-02-24T05:54:11.0000000+00:00']"
     },
     "execution_count": 82,
     "metadata": {},
     "output_type": "execute_result"
    }
   ],
   "source": [
    "[o.__implementation__.ToString('o') for o in (date_time_offset_range.Start, date_time_offset_range.Stop)]"
   ]
  },
  {
   "cell_type": "code",
   "execution_count": 82,
   "id": "ca97fb91-ee25-4759-8023-8a62458f536c",
   "metadata": {
    "collapsed": false,
    "jupyter": {
     "outputs_hidden": false
    }
   },
   "outputs": [],
   "source": []
  }
 ],
 "metadata": {
  "kernelspec": {
   "display_name": "Python 3 (ipykernel)",
   "language": "python",
   "name": "python3"
  },
  "language_info": {
   "codemirror_mode": {
    "name": "ipython",
    "version": 3
   },
   "file_extension": ".py",
   "mimetype": "text/x-python",
   "name": "python",
   "nbconvert_exporter": "python",
   "pygments_lexer": "ipython3",
   "version": "3.8.10"
  }
 },
 "nbformat": 4,
 "nbformat_minor": 5
}
