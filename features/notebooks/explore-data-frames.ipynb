{
 "cells": [
  {
   "cell_type": "code",
   "execution_count": 11,
   "metadata": {
    "collapsed": false,
    "jupyter": {
     "outputs_hidden": false
    },
    "pycharm": {
     "name": "#%%\n"
    }
   },
   "outputs": [],
   "source": [
    "import pathlib"
   ]
  },
  {
   "cell_type": "code",
   "execution_count": 12,
   "metadata": {
    "collapsed": false,
    "jupyter": {
     "outputs_hidden": false
    },
    "pycharm": {
     "name": "#%%\n"
    }
   },
   "outputs": [],
   "source": [
    "import numpy as np\n",
    "import matplotlib.pyplot as plt\n",
    "import pandas as pd\n",
    "import seaborn as sns"
   ]
  },
  {
   "cell_type": "code",
   "execution_count": 13,
   "metadata": {
    "collapsed": false,
    "jupyter": {
     "outputs_hidden": false
    },
    "pycharm": {
     "name": "#%%\n"
    }
   },
   "outputs": [],
   "source": [
    "from orchid import (project_loader as opl)"
   ]
  },
  {
   "cell_type": "code",
   "execution_count": 14,
   "metadata": {
    "collapsed": false,
    "jupyter": {
     "outputs_hidden": false
    },
    "pycharm": {
     "name": "#%%\n"
    }
   },
   "outputs": [],
   "source": [
    "import toolz.curried as toolz"
   ]
  },
  {
   "cell_type": "code",
   "execution_count": 15,
   "metadata": {
    "collapsed": false,
    "jupyter": {
     "outputs_hidden": false
    },
    "pycharm": {
     "name": "#%%\n"
    }
   },
   "outputs": [],
   "source": [
    "import UnitsNet"
   ]
  },
  {
   "cell_type": "code",
   "execution_count": 16,
   "metadata": {
    "collapsed": false,
    "jupyter": {
     "outputs_hidden": false
    },
    "pycharm": {
     "name": "#%%\n"
    }
   },
   "outputs": [],
   "source": [
    "project_filenames = {\n",
    "    'permian-a': 'Project-frankNstein_Permian_UTM13FT_0412_PjtDataFrame.ifrac',\n",
    "    'gng': 'GnG_DemoProject_wDataFrames.ifrac',\n",
    "}"
   ]
  },
  {
   "cell_type": "code",
   "execution_count": 17,
   "metadata": {
    "collapsed": false,
    "jupyter": {
     "outputs_hidden": false
    },
    "pycharm": {
     "name": "#%%\n"
    }
   },
   "outputs": [
    {
     "data": {
      "text/plain": [
       "{'permian-a': WindowsPath('c:/src/Orchid.IntegrationTestData/Project-frankNstein_Permian_UTM13FT_0412_PjtDataFrame.ifrac'),\n",
       " 'gng': WindowsPath('c:/src/Orchid.IntegrationTestData/GnG_DemoProject_wDataFrames.ifrac')}"
      ]
     },
     "execution_count": 17,
     "metadata": {},
     "output_type": "execute_result"
    }
   ],
   "source": [
    "test_data_path = pathlib.Path('c:/src/Orchid.IntegrationTestData/')\n",
    "project_path_names = toolz.valmap(lambda fn: test_data_path.joinpath(fn), project_filenames)\n",
    "project_path_names"
   ]
  },
  {
   "cell_type": "code",
   "execution_count": 18,
   "metadata": {
    "collapsed": false,
    "jupyter": {
     "outputs_hidden": false
    },
    "pycharm": {
     "name": "#%%\n"
    }
   },
   "outputs": [
    {
     "data": {
      "text/plain": [
       "{'permian-a': <Orchid.FractureDiagnostics.Factories.Implementations.Project object at 0x00000154C57DE1F0>,\n",
       " 'gng': <Orchid.FractureDiagnostics.Factories.Implementations.Project object at 0x00000154C57DE1C0>}"
      ]
     },
     "execution_count": 18,
     "metadata": {},
     "output_type": "execute_result"
    }
   ],
   "source": [
    "projects = toolz.valmap(\n",
    "    lambda pn: opl.ProjectLoader(str(pn)).native_project(),\n",
    "    project_path_names)\n",
    "projects"
   ]
  },
  {
   "cell_type": "code",
   "execution_count": 19,
   "metadata": {
    "collapsed": false,
    "jupyter": {
     "outputs_hidden": false
    },
    "pycharm": {
     "name": "#%%\n"
    }
   },
   "outputs": [
    {
     "data": {
      "text/plain": [
       "{'permian-a': <Orchid.FractureDiagnostics.UnitSystem object at 0x00000154C785CC10>,\n",
       " 'gng': <Orchid.FractureDiagnostics.UnitSystem object at 0x00000154C785CCD0>}"
      ]
     },
     "execution_count": 19,
     "metadata": {},
     "output_type": "execute_result"
    }
   ],
   "source": [
    "project_units = toolz.valmap(lambda p: p.ProjectUnits, projects)\n",
    "project_units"
   ]
  },
  {
   "cell_type": "code",
   "execution_count": 33,
   "metadata": {
    "collapsed": false,
    "jupyter": {
     "outputs_hidden": false
    },
    "pycharm": {
     "name": "#%%\n"
    }
   },
   "outputs": [
    {
     "name": "stdout",
     "output_type": "stream",
     "text": [
      "{<System.Guid object at 0x00000154E0B138B0>: <Orchid.FractureDiagnostics.Factories.DataFrames.ProjectDataFrame object at 0x00000154E0B13940>}\n",
      "{<System.Guid object at 0x00000154E0B138B0>: <Orchid.FractureDiagnostics.Factories.DataFrames.ProjectDataFrame object at 0x00000154E0B13940>, <System.Guid object at 0x00000154E0B282B0>: <Orchid.FractureDiagnostics.Factories.DataFrames.ObservationSetDataFrame object at 0x00000154E0B139A0>}\n",
      "{<System.Guid object at 0x00000154E0B138B0>: <Orchid.FractureDiagnostics.Factories.DataFrames.ProjectDataFrame object at 0x00000154E0B13940>, <System.Guid object at 0x00000154E0B282B0>: <Orchid.FractureDiagnostics.Factories.DataFrames.ObservationSetDataFrame object at 0x00000154E0B139A0>, <System.Guid object at 0x00000154E0B28C10>: <Orchid.FractureDiagnostics.Factories.DataFrames.MicroseismicDataFrame object at 0x00000154E0B13BB0>}\n",
      "{<System.Guid object at 0x00000154E0B288B0>: <Orchid.FractureDiagnostics.Factories.DataFrames.ProjectDataFrame object at 0x00000154E0B28A00>}\n",
      "{<System.Guid object at 0x00000154E0B288B0>: <Orchid.FractureDiagnostics.Factories.DataFrames.ProjectDataFrame object at 0x00000154E0B28A00>, <System.Guid object at 0x00000154E0B28700>: <Orchid.FractureDiagnostics.Factories.DataFrames.FaultTraceSetDataFrame object at 0x00000154E0B28A30>}\n",
      "{<System.Guid object at 0x00000154E0B288B0>: <Orchid.FractureDiagnostics.Factories.DataFrames.ProjectDataFrame object at 0x00000154E0B28A00>, <System.Guid object at 0x00000154E0B28700>: <Orchid.FractureDiagnostics.Factories.DataFrames.FaultTraceSetDataFrame object at 0x00000154E0B28A30>, <System.Guid object at 0x00000154E0B28550>: <Orchid.FractureDiagnostics.Factories.DataFrames.StageDataFrame object at 0x00000154E0B289A0>}\n",
      "{<System.Guid object at 0x00000154E0B288B0>: <Orchid.FractureDiagnostics.Factories.DataFrames.ProjectDataFrame object at 0x00000154E0B28A00>, <System.Guid object at 0x00000154E0B28700>: <Orchid.FractureDiagnostics.Factories.DataFrames.FaultTraceSetDataFrame object at 0x00000154E0B28A30>, <System.Guid object at 0x00000154E0B28550>: <Orchid.FractureDiagnostics.Factories.DataFrames.StageDataFrame object at 0x00000154E0B289A0>, <System.Guid object at 0x00000154E0B28400>: <Orchid.FractureDiagnostics.Factories.DataFrames.WellLogSetDataFrame object at 0x00000154E0B28910>}\n",
      "{<System.Guid object at 0x00000154E0B288B0>: <Orchid.FractureDiagnostics.Factories.DataFrames.ProjectDataFrame object at 0x00000154E0B28A00>, <System.Guid object at 0x00000154E0B28700>: <Orchid.FractureDiagnostics.Factories.DataFrames.FaultTraceSetDataFrame object at 0x00000154E0B28A30>, <System.Guid object at 0x00000154E0B28550>: <Orchid.FractureDiagnostics.Factories.DataFrames.StageDataFrame object at 0x00000154E0B289A0>, <System.Guid object at 0x00000154E0B28400>: <Orchid.FractureDiagnostics.Factories.DataFrames.WellLogSetDataFrame object at 0x00000154E0B28910>, <System.Guid object at 0x00000154E0B28340>: <Orchid.FractureDiagnostics.Factories.DataFrames.HorizonIntersectionsDataFrame object at 0x00000154E0B28940>}\n"
     ]
    },
    {
     "data": {
      "text/plain": [
       "{'permian-a': {<System.Guid object at 0x00000154E0B138B0>: <Orchid.FractureDiagnostics.Factories.DataFrames.ProjectDataFrame object at 0x00000154E0B13940>,\n",
       "  <System.Guid object at 0x00000154E0B282B0>: <Orchid.FractureDiagnostics.Factories.DataFrames.ObservationSetDataFrame object at 0x00000154E0B139A0>,\n",
       "  <System.Guid object at 0x00000154E0B28C10>: <Orchid.FractureDiagnostics.Factories.DataFrames.MicroseismicDataFrame object at 0x00000154E0B13BB0>},\n",
       " 'gng': {<System.Guid object at 0x00000154E0B288B0>: <Orchid.FractureDiagnostics.Factories.DataFrames.ProjectDataFrame object at 0x00000154E0B28A00>,\n",
       "  <System.Guid object at 0x00000154E0B28700>: <Orchid.FractureDiagnostics.Factories.DataFrames.FaultTraceSetDataFrame object at 0x00000154E0B28A30>,\n",
       "  <System.Guid object at 0x00000154E0B28550>: <Orchid.FractureDiagnostics.Factories.DataFrames.StageDataFrame object at 0x00000154E0B289A0>,\n",
       "  <System.Guid object at 0x00000154E0B28400>: <Orchid.FractureDiagnostics.Factories.DataFrames.WellLogSetDataFrame object at 0x00000154E0B28910>,\n",
       "  <System.Guid object at 0x00000154E0B28340>: <Orchid.FractureDiagnostics.Factories.DataFrames.HorizonIntersectionsDataFrame object at 0x00000154E0B28940>}}"
      ]
     },
     "execution_count": 33,
     "metadata": {},
     "output_type": "execute_result"
    }
   ],
   "source": [
    "def accumulator(so_far, element):\n",
    "    return toolz.assoc(so_far,  element.ObjectId, element)\n",
    "\n",
    "def data_frame_map(project):\n",
    "    return toolz.pipe(project.DataFrames.Items,\n",
    "                   list,\n",
    "                   lambda dfs: toolz.reduce(accumulator, dfs, {})\n",
    "              )\n",
    "\n",
    "net_data_frames = toolz.valmap(data_frame_map, projects)\n",
    "net_data_frames"
   ]
  },
  {
   "cell_type": "code",
   "execution_count": null,
   "metadata": {
    "collapsed": false,
    "jupyter": {
     "outputs_hidden": false
    },
    "pycharm": {
     "name": "#%%\n"
    }
   },
   "outputs": [],
   "source": [
    "def data_frame_identifying(data_frame):\n",
    "    return data_frame.ObjectId, data_frame.Name, data_frame.DisplayName\n",
    "\n",
    "identifications = toolz.valmap(toolz.valmap(data_frame_identifying), net_data_frames)\n",
    "identifications"
   ]
  },
  {
   "cell_type": "code",
   "execution_count": null,
   "metadata": {
    "collapsed": false,
    "jupyter": {
     "outputs_hidden": false
    },
    "pycharm": {
     "name": "#%%\n"
    }
   },
   "outputs": [],
   "source": []
  }
 ],
 "metadata": {
  "kernelspec": {
   "display_name": "Python 3",
   "language": "python",
   "name": "python3"
  },
  "language_info": {
   "codemirror_mode": {
    "name": "ipython",
    "version": 3
   },
   "file_extension": ".py",
   "mimetype": "text/x-python",
   "name": "python",
   "nbconvert_exporter": "python",
   "pygments_lexer": "ipython3",
   "version": "3.8.7"
  }
 },
 "nbformat": 4,
 "nbformat_minor": 4
}