{
 "cells": [
  {
   "cell_type": "code",
   "execution_count": null,
   "metadata": {
    "collapsed": false,
    "jupyter": {
     "outputs_hidden": false
    },
    "pycharm": {
     "name": "#%%\n"
    }
   },
   "outputs": [],
   "source": [
    "import datetime as dt"
   ]
  },
  {
   "cell_type": "code",
   "execution_count": null,
   "metadata": {
    "collapsed": false,
    "jupyter": {
     "outputs_hidden": false
    },
    "pycharm": {
     "name": "#%%\n"
    }
   },
   "outputs": [],
   "source": [
    "# Just to initialize Python.NET\n",
    "import orchid"
   ]
  },
  {
   "cell_type": "code",
   "execution_count": null,
   "metadata": {
    "collapsed": false,
    "jupyter": {
     "outputs_hidden": false
    },
    "pycharm": {
     "name": "#%%\n"
    }
   },
   "outputs": [],
   "source": [
    "import dateutil.parser as dup\n",
    "import toolz.curried as toolz"
   ]
  },
  {
   "cell_type": "code",
   "execution_count": null,
   "metadata": {
    "collapsed": false,
    "jupyter": {
     "outputs_hidden": false
    },
    "pycharm": {
     "name": "#%%\n"
    }
   },
   "outputs": [],
   "source": [
    "# noinspection PyUnresolvedReferences\n",
    "from System import Type\n",
    "# noinspection PyUnresolvedReferences\n",
    "from System.Data import DataTable, DataColumn"
   ]
  },
  {
   "cell_type": "code",
   "execution_count": null,
   "metadata": {
    "collapsed": false,
    "jupyter": {
     "outputs_hidden": false
    },
    "pycharm": {
     "name": "#%%\n"
    }
   },
   "outputs": [],
   "source": [
    "some_data = {'foo': [3, 1, 4],\n",
    "             'bar': [3.14, 2.718, 1.414],\n",
    "             'baz': ['abc', 'def', 'ghi'],\n",
    "             'quux': [dup.isoparse('2314-02-13T17:03:22Z'),\n",
    "                      dup.isoparse('2718-10-03T08:17:49Z'),\n",
    "                      dup.isoparse('2141-07-17T10:24:16Z')]}"
   ]
  },
  {
   "cell_type": "code",
   "execution_count": null,
   "metadata": {
    "collapsed": false,
    "jupyter": {
     "outputs_hidden": false
    },
    "pycharm": {
     "name": "#%%\n"
    }
   },
   "outputs": [],
   "source": [
    "type_net_type_names = {type(1): \"System.Int32\",\n",
    "                       type(2.0): \"System.Double\",\n",
    "                       type('xyz'): \"System.String\",\n",
    "                       type(dt.datetime): \"System.DateTime\",}\n",
    "def net_type_name(python_value):\n",
    "    return type_net_type_names(type(python_value))"
   ]
  },
  {
   "cell_type": "code",
   "execution_count": null,
   "metadata": {
    "collapsed": false,
    "jupyter": {
     "outputs_hidden": false
    },
    "pycharm": {
     "name": "#%%\n"
    }
   },
   "outputs": [],
   "source": [
    "def populate_data_table(from_data):\n",
    "    empty_data_table = DataTable()\n",
    "    data_table_with_columns = add_data_table_columns(empty_data_table, from_data)\n",
    "    result = add_data_table_rows(data_table_with_columns, from_data)\n",
    "    return result\n",
    "\n",
    "def dump_table(data_table):\n",
    "    print(f'Columns: {[c.ColumnName for c in built_data_table.Columns]}')\n",
    "    for i, row in enumerate(data_table.Rows):\n",
    "        print(f'row {i}: ', end='')\n",
    "        for cn in [c.ColumnName for c in data_table.Columns]:\n",
    "            print(f'{cn}: ', end='')\n",
    "            print(f'{row[cn]}, ', end='')\n",
    "        print('')\n",
    "        \n",
    "def dump_column_details(data_table):\n",
    "    print(f'Columns: {[(c.ColumnName, str(c.DataType), c.ReadOnly) for c in built_data_table.Columns]}')\n",
    "    \n",
    "def add_data_table_columns(data_table, from_data):\n",
    "    for column_name, row_values in from_data.items():\n",
    "        new_column = make_data_table_column(column_name, row_values[0])\n",
    "        data_table.Columns.Add(new_column)\n",
    "    return data_table\n",
    "    \n",
    "def make_data_table_column(column_name, row_value):\n",
    "    new_column = DataColumn()\n",
    "    new_column.ColumnName = data_name_to_column_name(column_name)\n",
    "    new_column.DataType = make_data_column_type(row_value)\n",
    "    new_column.ReadOnly = True\n",
    "    return new_column\n",
    "    \n",
    "def data_name_to_column_name(data_name):\n",
    "    mapper = {'foo': 'Fooey',\n",
    "              'bar': 'Bizarre',\n",
    "              'baz': 'Beltashazzar',}\n",
    "    try:\n",
    "        return mapper[data_name]\n",
    "    except KeyError:\n",
    "        if data_name == 'quux':\n",
    "            return \"Quark\"\n",
    "        raise\n",
    "        \n",
    "def make_data_column_type(row_value):\n",
    "    mapper = {int: 'System.Int32',\n",
    "              float: 'System.Double',\n",
    "              str: 'System.String'}\n",
    "    \n",
    "    sought = type(row_value)\n",
    "    try:\n",
    "        return Type.GetType(mapper[sought])\n",
    "    except KeyError:\n",
    "        if sought == dt.datetime:\n",
    "            return Type.GetType('System.DateTime')\n",
    "        raise\n",
    "\n",
    "def add_data_table_rows(data_table, from_data):\n",
    "    for column_name, row_values in from_data.items():\n",
    "        new_row = make_data_table_row(data_table, column_name, row_values)\n",
    "        data_table.Rows.Add(new_row)\n",
    "    return data_table\n",
    "        \n",
    "def make_data_table_row(data_table, column_name, row_values):\n",
    "    data_table_row = data_table.NewRow()\n",
    "    for row_value in row_values:\n",
    "        net_column_name = data_name_to_column_name(column_name) \n",
    "        if net_column_name != 'Quark':\n",
    "            data_table_row[net_column_name] = row_value\n",
    "        else:\n",
    "            data_table_row[net_column_name] = orchid.net_quantity.as_net_date_time(row_value)\n",
    "    return data_table_row"
   ]
  },
  {
   "cell_type": "code",
   "execution_count": null,
   "metadata": {
    "pycharm": {
     "is_executing": true
    }
   },
   "outputs": [],
   "source": [
    "built_data_table = populate_data_table(some_data)\n",
    "dump_table(built_data_table)"
   ]
  },
  {
   "cell_type": "code",
   "execution_count": null,
   "metadata": {},
   "outputs": [],
   "source": [
    "dump_column_details(built_data_table)"
   ]
  },
  {
   "cell_type": "code",
   "execution_count": null,
   "metadata": {},
   "outputs": [],
   "source": [
    "len(built_data_table.Rows)"
   ]
  },
  {
   "cell_type": "code",
   "execution_count": null,
   "metadata": {},
   "outputs": [],
   "source": [
    "for i, row in enumerate(built_data_table.Rows):\n",
    "    print(f'row {i}')\n",
    "    for cn in [c.ColumnName for c in built_data_table.Columns]:\n",
    "        print(f'{cn}: ', end='')\n",
    "        print(f'{row[cn]}, ', end='')\n",
    "    print('')"
   ]
  },
  {
   "cell_type": "code",
   "execution_count": null,
   "metadata": {},
   "outputs": [],
   "source": [
    "\n",
    "    "
   ]
  }
 ],
 "metadata": {
  "kernelspec": {
   "display_name": "Python 3",
   "language": "python",
   "name": "python3"
  },
  "language_info": {
   "codemirror_mode": {
    "name": "ipython",
    "version": 3
   },
   "file_extension": ".py",
   "mimetype": "text/x-python",
   "name": "python",
   "nbconvert_exporter": "python",
   "pygments_lexer": "ipython3",
   "version": "3.8.7"
  }
 },
 "nbformat": 4,
 "nbformat_minor": 4
}
