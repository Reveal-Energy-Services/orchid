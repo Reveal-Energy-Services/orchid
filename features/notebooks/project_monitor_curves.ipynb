{
 "cells": [
  {
   "cell_type": "code",
   "execution_count": 1,
   "metadata": {
    "collapsed": false,
    "jupyter": {
     "outputs_hidden": false
    },
    "pycharm": {
     "name": "#%%\n"
    }
   },
   "outputs": [],
   "source": [
    "from collections import namedtuple\n",
    "import pathlib\n",
    "import random"
   ]
  },
  {
   "cell_type": "code",
   "execution_count": 2,
   "metadata": {
    "collapsed": false,
    "jupyter": {
     "outputs_hidden": false
    },
    "pycharm": {
     "name": "#%%\n"
    }
   },
   "outputs": [],
   "source": [
    "import numpy as np\n",
    "import matplotlib.pyplot as plt\n",
    "import pandas as pd\n",
    "import seaborn as sns"
   ]
  },
  {
   "cell_type": "code",
   "execution_count": 3,
   "metadata": {
    "collapsed": false,
    "jupyter": {
     "outputs_hidden": false
    },
    "pycharm": {
     "name": "#%%\n"
    }
   },
   "outputs": [],
   "source": [
    "from orchid import (project_loader as opl)"
   ]
  },
  {
   "cell_type": "code",
   "execution_count": 4,
   "metadata": {
    "collapsed": false,
    "jupyter": {
     "outputs_hidden": false
    },
    "pycharm": {
     "name": "#%%\n"
    }
   },
   "outputs": [],
   "source": [
    "import toolz.curried as toolz"
   ]
  },
  {
   "cell_type": "code",
   "execution_count": 5,
   "metadata": {
    "collapsed": false,
    "jupyter": {
     "outputs_hidden": false
    },
    "pycharm": {
     "name": "#%%\n"
    }
   },
   "outputs": [],
   "source": [
    "import UnitsNet"
   ]
  },
  {
   "cell_type": "code",
   "execution_count": 6,
   "metadata": {
    "collapsed": false,
    "jupyter": {
     "outputs_hidden": false
    },
    "pycharm": {
     "name": "#%%\n"
    }
   },
   "outputs": [],
   "source": [
    "project_filenames = {\n",
    "    'bakken': 'frankNstein_Bakken_UTM13_FEET.ifrac',\n",
    "    'montney': 'Project-frankNstein_Montney_UTM13_METERS.ifrac',\n",
    "}"
   ]
  },
  {
   "cell_type": "code",
   "execution_count": 7,
   "metadata": {
    "collapsed": false,
    "jupyter": {
     "outputs_hidden": false
    },
    "pycharm": {
     "name": "#%%\n"
    }
   },
   "outputs": [
    {
     "data": {
      "text/plain": [
       "{'bakken': WindowsPath('c:/src/Orchid.IntegrationTestData/frankNstein_Bakken_UTM13_FEET.ifrac'),\n",
       " 'montney': WindowsPath('c:/src/Orchid.IntegrationTestData/Project-frankNstein_Montney_UTM13_METERS.ifrac')}"
      ]
     },
     "execution_count": 7,
     "metadata": {},
     "output_type": "execute_result"
    }
   ],
   "source": [
    "test_data_path = pathlib.Path('c:/src/Orchid.IntegrationTestData/')\n",
    "project_path_names = toolz.valmap(lambda fn: test_data_path.joinpath(fn), project_filenames)\n",
    "project_path_names"
   ]
  },
  {
   "cell_type": "code",
   "execution_count": 8,
   "metadata": {
    "collapsed": false,
    "jupyter": {
     "outputs_hidden": false
    },
    "pycharm": {
     "name": "#%%\n"
    }
   },
   "outputs": [
    {
     "data": {
      "text/plain": [
       "{'bakken': <Orchid.FractureDiagnostics.Factories.Implementations.Project object at 0x00000159D3360340>,\n",
       " 'montney': <Orchid.FractureDiagnostics.Factories.Implementations.Project object at 0x00000159D33603A0>}"
      ]
     },
     "execution_count": 8,
     "metadata": {},
     "output_type": "execute_result"
    }
   ],
   "source": [
    "projects = toolz.valmap(\n",
    "    lambda pn: opl.ProjectLoader(str(pn)).native_project(),\n",
    "    project_path_names)\n",
    "projects"
   ]
  },
  {
   "cell_type": "code",
   "execution_count": 9,
   "metadata": {
    "collapsed": false,
    "jupyter": {
     "outputs_hidden": false
    },
    "pycharm": {
     "name": "#%%\n"
    }
   },
   "outputs": [
    {
     "data": {
      "text/plain": [
       "{'bakken': <Orchid.FractureDiagnostics.UnitSystem object at 0x00000159D3345610>,\n",
       " 'montney': <Orchid.FractureDiagnostics.UnitSystem object at 0x00000159D33451F0>}"
      ]
     },
     "execution_count": 9,
     "metadata": {},
     "output_type": "execute_result"
    }
   ],
   "source": [
    "project_units = toolz.valmap(lambda p: p.ProjectUnits, projects)\n",
    "project_units"
   ]
  },
  {
   "cell_type": "code",
   "execution_count": 10,
   "metadata": {
    "collapsed": false,
    "jupyter": {
     "outputs_hidden": false
    },
    "pycharm": {
     "name": "#%%\n"
    }
   },
   "outputs": [
    {
     "data": {
      "text/plain": [
       "<Orchid.FractureDiagnostics.TimeSeries.IWellSampledQuantityTimeSeries[] object at 0x00000159D3345430>"
      ]
     },
     "execution_count": 10,
     "metadata": {},
     "output_type": "execute_result"
    }
   ],
   "source": [
    "projects['bakken'].WellTimeSeriesList.Items"
   ]
  },
  {
   "cell_type": "code",
   "execution_count": 11,
   "metadata": {},
   "outputs": [
    {
     "data": {
      "text/plain": [
       "4"
      ]
     },
     "execution_count": 11,
     "metadata": {},
     "output_type": "execute_result"
    }
   ],
   "source": [
    "len(projects['bakken'].WellTimeSeriesList.Items)"
   ]
  },
  {
   "cell_type": "code",
   "execution_count": 12,
   "metadata": {},
   "outputs": [
    {
     "data": {
      "text/plain": [
       "<Orchid.FractureDiagnostics.Factories.Implementations.TimeSeries.WellSampledQuantityTimeSeries object at 0x00000159D3360DC0>"
      ]
     },
     "execution_count": 12,
     "metadata": {},
     "output_type": "execute_result"
    }
   ],
   "source": [
    "first_well_time_series = projects['bakken'].WellTimeSeriesList.Items[0]\n",
    "first_well_time_series"
   ]
  },
  {
   "cell_type": "code",
   "execution_count": 76,
   "metadata": {},
   "outputs": [
    {
     "data": {
      "text/plain": [
       "TimeSeriesSummary(display_name='MonitorData-Demo_1H-Pressure', name='MonitorData-Demo_1H', qty_name='Pressure', qty_type=68, suffix='', start=<System.DateTime object at 0x00000159F4270490>, stop=<System.DateTime object at 0x00000159D13D7C10>)"
      ]
     },
     "execution_count": 76,
     "metadata": {},
     "output_type": "execute_result"
    }
   ],
   "source": [
    "TimeSeriesSummary = namedtuple('TimeSeriesSummary', ['display_name', 'name',\n",
    "                                                     'qty_name', 'qty_type', 'suffix', \n",
    "                                                     'start', 'stop',])\n",
    "\n",
    "def summarize_time_series(ts):\n",
    "    time_series_range = ts.GetTimeSeriesRange()\n",
    "    start = time_series_range.Item1\n",
    "    stop = time_series_range.Item2\n",
    "    return TimeSeriesSummary(ts.DisplayName, ts.Name, \n",
    "                             ts.SampledQuantityName, ts.SampledQuantityType, ts.Suffix,\n",
    "                             start, stop)\n",
    "\n",
    "time_series_summary = summarize_time_series(first_well_time_series)\n",
    "time_series_summary"
   ]
  },
  {
   "cell_type": "code",
   "execution_count": 14,
   "metadata": {},
   "outputs": [
    {
     "data": {
      "text/plain": [
       "[12.83973, 12.81262, 12.81063, 12.79626, 12.83592]"
      ]
     },
     "execution_count": 14,
     "metadata": {},
     "output_type": "execute_result"
    }
   ],
   "source": [
    "first_well_time_series_samples = first_well_time_series.GetOrderedTimeSeriesHistory()\n",
    "len(first_well_time_series_samples)\n",
    "[first_well_time_series_samples[n].Value for n in range(5)]"
   ]
  },
  {
   "cell_type": "code",
   "execution_count": 72,
   "metadata": {},
   "outputs": [],
   "source": [
    "def generate_sample_indices(ts):\n",
    "    candidate_indices = list(range(len(first_well_time_series_samples)))\n",
    "    random.shuffle(candidate_indices)\n",
    "    inner_indices = sorted(candidate_indices[:6])\n",
    "    result = [0] + inner_indices + [len(first_well_time_series_samples) - 1]\n",
    "    return result"
   ]
  },
  {
   "cell_type": "code",
   "execution_count": 73,
   "metadata": {
    "collapsed": false,
    "jupyter": {
     "outputs_hidden": false
    },
    "pycharm": {
     "name": "#%%\n"
    }
   },
   "outputs": [
    {
     "data": {
      "text/plain": [
       "[0, 45415, 56552, 56601, 59190, 74283, 113370, 114594]"
      ]
     },
     "execution_count": 73,
     "metadata": {},
     "output_type": "execute_result"
    }
   ],
   "source": [
    "sample_indices = generate_sample_indices(first_well_time_series_samples)\n",
    "sample_indices"
   ]
  },
  {
   "cell_type": "code",
   "execution_count": 74,
   "metadata": {},
   "outputs": [
    {
     "name": "stdout",
     "output_type": "stream",
     "text": [
      "12.83973\n",
      "8188.938\n",
      "4479.67\n",
      "3961.965\n",
      "3021.48\n",
      "4303.582\n",
      "12.94474\n",
      "-7999.0\n"
     ]
    },
    {
     "data": {
      "text/plain": [
       "['12.84 psi',\n",
       " '8,188.94 psi',\n",
       " '4,479.67 psi',\n",
       " '3,961.97 psi',\n",
       " '3,021.48 psi',\n",
       " '4,303.58 psi',\n",
       " '12.94 psi',\n",
       " '-7,999 psi']"
      ]
     },
     "execution_count": 74,
     "metadata": {},
     "output_type": "execute_result"
    }
   ],
   "source": [
    "@toolz.curry\n",
    "def make_sample_pressure(summary, sample):\n",
    "    return UnitsNet.Pressure.From(UnitsNet.QuantityValue.op_Implicit(sample.Value), \n",
    "                                  project_units['bakken'].PressureUnit)\n",
    "\n",
    "def sample_time_series(indices, summary, ts):\n",
    "    result = toolz.pipe(indices,\n",
    "                        # toolz.map(toolz.do(lambda n: print(n))),\n",
    "                        toolz.map(lambda n: toolz.nth(n, ts)),\n",
    "                        toolz.map(toolz.do(lambda s: print(s.Value))),\n",
    "                        toolz.map(make_sample_pressure(summary)),\n",
    "                        toolz.map(str),\n",
    "                        list,\n",
    "                        )\n",
    "    return result\n",
    "    \n",
    "sample_time_series(sample_indices, time_series_summary, first_well_time_series_samples)"
   ]
  },
  {
   "cell_type": "code",
   "execution_count": null,
   "metadata": {},
   "outputs": [],
   "source": []
  }
 ],
 "metadata": {
  "kernelspec": {
   "display_name": "Python 3",
   "language": "python",
   "name": "python3"
  },
  "language_info": {
   "codemirror_mode": {
    "name": "ipython",
    "version": 3
   },
   "file_extension": ".py",
   "mimetype": "text/x-python",
   "name": "python",
   "nbconvert_exporter": "python",
   "pygments_lexer": "ipython3",
   "version": "3.8.7"
  }
 },
 "nbformat": 4,
 "nbformat_minor": 4
}
