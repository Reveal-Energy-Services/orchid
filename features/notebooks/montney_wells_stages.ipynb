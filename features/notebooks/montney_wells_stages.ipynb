{
 "cells": [
  {
   "cell_type": "code",
   "execution_count": null,
   "metadata": {
    "collapsed": false,
    "jupyter": {
     "outputs_hidden": false
    },
    "pycharm": {
     "name": "#%%\n"
    }
   },
   "outputs": [],
   "source": [
    "from collections import namedtuple\n",
    "import random"
   ]
  },
  {
   "cell_type": "code",
   "execution_count": 2,
   "metadata": {
    "collapsed": false,
    "jupyter": {
     "outputs_hidden": false
    },
    "pycharm": {
     "name": "#%%\n"
    }
   },
   "outputs": [],
   "source": [
    "import pandas as pd"
   ]
  },
  {
   "cell_type": "code",
   "execution_count": 3,
   "metadata": {},
   "outputs": [],
   "source": [
    "import orchid\n",
    "import orchid.reference_origins as origins"
   ]
  },
  {
   "cell_type": "code",
   "execution_count": 4,
   "metadata": {},
   "outputs": [],
   "source": [
    "import orchid.project_loader as opl"
   ]
  },
  {
   "cell_type": "code",
   "execution_count": 5,
   "metadata": {
    "collapsed": false,
    "jupyter": {
     "outputs_hidden": false
    },
    "pycharm": {
     "name": "#%%\n"
    }
   },
   "outputs": [],
   "source": [
    "import toolz.curried as toolz"
   ]
  },
  {
   "cell_type": "code",
   "execution_count": 6,
   "metadata": {
    "collapsed": false,
    "jupyter": {
     "outputs_hidden": false
    },
    "pycharm": {
     "name": "#%%\n"
    }
   },
   "outputs": [],
   "source": [
    "from Orchid.FractureDiagnostics import WellReferenceFrameXy, DepthDatum\n",
    "import UnitsNet"
   ]
  },
  {
   "cell_type": "code",
   "execution_count": 7,
   "metadata": {},
   "outputs": [],
   "source": [
    "# Path name of whatever project you wish to load.\n",
    "loader = opl.ProjectLoader(\n",
    "    r'c:\\src\\Orchid.IntegrationTestData\\Project-frankNstein_Montney_UTM13_METERS.ifrac')"
   ]
  },
  {
   "cell_type": "code",
   "execution_count": 8,
   "metadata": {},
   "outputs": [],
   "source": [
    "# The returned value from `native_project` is . NET project. NOTE: each instance \n",
    "# of the `ProjectLoader` class loads **exactly one** .NET project. To load a \n",
    "# different project, you must create a new `ProjectLoader` instance.\n",
    "native_project = loader.native_project()"
   ]
  },
  {
   "cell_type": "code",
   "execution_count": 9,
   "metadata": {},
   "outputs": [],
   "source": [
    "all_wells = native_project.Wells.Items"
   ]
  },
  {
   "cell_type": "code",
   "execution_count": 10,
   "metadata": {},
   "outputs": [],
   "source": [
    "# well_of_interest = all_wells[0]  # 'Hori_01'\n",
    "well_of_interest = all_wells[1]  # 'Hori_02'\n",
    "# well_of_interest = all_wells[3]  # 'Vert_01'"
   ]
  },
  {
   "cell_type": "code",
   "execution_count": 11,
   "metadata": {
    "collapsed": false,
    "jupyter": {
     "outputs_hidden": false
    },
    "pycharm": {
     "name": "#%%\n"
    }
   },
   "outputs": [
    {
     "data": {
      "text/plain": [
       "'Hori_02'"
      ]
     },
     "execution_count": 11,
     "metadata": {},
     "output_type": "execute_result"
    }
   ],
   "source": [
    "well_of_interest.Name"
   ]
  },
  {
   "cell_type": "code",
   "execution_count": 12,
   "metadata": {},
   "outputs": [],
   "source": [
    "all_stages_for_well_of_interest = well_of_interest.Stages.Items"
   ]
  },
  {
   "cell_type": "code",
   "execution_count": 13,
   "metadata": {
    "collapsed": false,
    "jupyter": {
     "outputs_hidden": false
    },
    "pycharm": {
     "name": "#%%\n"
    }
   },
   "outputs": [
    {
     "data": {
      "text/plain": [
       "29"
      ]
     },
     "execution_count": 13,
     "metadata": {},
     "output_type": "execute_result"
    }
   ],
   "source": [
    "len(all_stages_for_well_of_interest)"
   ]
  },
  {
   "cell_type": "code",
   "execution_count": 14,
   "metadata": {
    "collapsed": false,
    "jupyter": {
     "outputs_hidden": false
    },
    "pycharm": {
     "name": "#%%\n"
    }
   },
   "outputs": [
    {
     "data": {
      "text/plain": [
       "[10,\n",
       " 5,\n",
       " 8,\n",
       " 15,\n",
       " 27,\n",
       " 2,\n",
       " 7,\n",
       " 14,\n",
       " 11,\n",
       " 25,\n",
       " 9,\n",
       " 1,\n",
       " 18,\n",
       " 3,\n",
       " 6,\n",
       " 13,\n",
       " 20,\n",
       " 21,\n",
       " 12,\n",
       " 17,\n",
       " 28,\n",
       " 24,\n",
       " 23,\n",
       " 19,\n",
       " 26,\n",
       " 16,\n",
       " 4,\n",
       " 0,\n",
       " 22]"
      ]
     },
     "execution_count": 14,
     "metadata": {},
     "output_type": "execute_result"
    }
   ],
   "source": [
    "all_stage_numbers = list(range((len(all_stages_for_well_of_interest))))\n",
    "random.shuffle(all_stage_numbers)\n",
    "all_stage_numbers"
   ]
  },
  {
   "cell_type": "code",
   "execution_count": 15,
   "metadata": {
    "collapsed": false,
    "jupyter": {
     "outputs_hidden": false
    },
    "pycharm": {
     "name": "#%%\n"
    }
   },
   "outputs": [],
   "source": [
    "# Field names\n",
    "BAKKEN = 'Bakken'\n",
    "MONTNEY = 'Montney'\n",
    "\n",
    "# Bakken Well names\n",
    "DEMO_1H = 'Demo_1H'\n",
    "DEMO_2H = 'Demo_2H'\n",
    "DEMO_3H = 'Demo_3H'\n",
    "DEMO_4H = 'Demo_4H'\n",
    "\n",
    "# Montney Well names\n",
    "HORI_01 = 'Hori_01'\n",
    "HORI_02 = 'Hori_02'\n",
    "HORI_03 = 'Hori_03'\n",
    "VERT_01 = 'Vert_01'\n",
    "\n",
    "# Test \"names\"\n",
    "ADDITIONAL_BASIC = 'additional_basic'\n",
    "BOTTOM_LOCATION = 'bottom_location'\n",
    "CLUSTER_COUNT = 'cluster_count'\n",
    "CLUSTER_LOCATION = 'cluster_location'\n",
    "TOP_LOCATION = 'top_location'"
   ]
  },
  {
   "cell_type": "code",
   "execution_count": 16,
   "metadata": {
    "collapsed": false,
    "jupyter": {
     "outputs_hidden": false
    },
    "pycharm": {
     "name": "#%%\n"
    }
   },
   "outputs": [],
   "source": [
    "# Remember that the `sampled_stage_numbers` are all **one less** than the stage numbers \n",
    "# in the feature itself (no stage zero (0)).\n",
    "sampled_stage_numbers = {\n",
    "    HORI_01: {\n",
    "        ADDITIONAL_BASIC: [0, 14, 5, 10],\n",
    "        BOTTOM_LOCATION: [0, 14, 8, 6],\n",
    "        CLUSTER_COUNT: [0, 14, 5, 13],\n",
    "        CLUSTER_LOCATION: [0, 14, 9, 1],\n",
    "        TOP_LOCATION: [0, 14, 6, 9],\n",
    "    },\n",
    "    HORI_02: {\n",
    "        ADDITIONAL_BASIC: [0, 28, 13, 21],\n",
    "        BOTTOM_LOCATION: [0, 28, 3, 16],\n",
    "        CLUSTER_COUNT: [0, 28, 13, 16],\n",
    "        CLUSTER_LOCATION: [0, 28, 4, 16],\n",
    "        TOP_LOCATION: [0, 28, 9, 25],\n",
    "    },\n",
    "}\n",
    "# sampled_stage_numbers = [0, 1, 2, 3]  # 'Vert_01'"
   ]
  },
  {
   "cell_type": "code",
   "execution_count": 17,
   "metadata": {
    "collapsed": false,
    "jupyter": {
     "outputs_hidden": false
    },
    "pycharm": {
     "name": "#%%\n"
    }
   },
   "outputs": [
    {
     "data": {
      "text/html": [
       "<div>\n",
       "<style scoped>\n",
       "    .dataframe tbody tr th:only-of-type {\n",
       "        vertical-align: middle;\n",
       "    }\n",
       "\n",
       "    .dataframe tbody tr th {\n",
       "        vertical-align: top;\n",
       "    }\n",
       "\n",
       "    .dataframe thead th {\n",
       "        text-align: right;\n",
       "    }\n",
       "</style>\n",
       "<table border=\"1\" class=\"dataframe\">\n",
       "  <thead>\n",
       "    <tr style=\"text-align: right;\">\n",
       "      <th></th>\n",
       "      <th>field</th>\n",
       "      <th>name</th>\n",
       "      <th>stage_no</th>\n",
       "      <th>name_without_well</th>\n",
       "      <th>order</th>\n",
       "      <th>global_seq_no</th>\n",
       "      <th>stage_type</th>\n",
       "    </tr>\n",
       "  </thead>\n",
       "  <tbody>\n",
       "    <tr>\n",
       "      <th>0</th>\n",
       "      <td>Montney</td>\n",
       "      <td>Hori_02</td>\n",
       "      <td>1</td>\n",
       "      <td>Stage-1</td>\n",
       "      <td>0</td>\n",
       "      <td>1</td>\n",
       "      <td>PlugAndPerf</td>\n",
       "    </tr>\n",
       "    <tr>\n",
       "      <th>1</th>\n",
       "      <td>Montney</td>\n",
       "      <td>Hori_02</td>\n",
       "      <td>29</td>\n",
       "      <td>Stage-29</td>\n",
       "      <td>28</td>\n",
       "      <td>70</td>\n",
       "      <td>PlugAndPerf</td>\n",
       "    </tr>\n",
       "    <tr>\n",
       "      <th>2</th>\n",
       "      <td>Montney</td>\n",
       "      <td>Hori_02</td>\n",
       "      <td>14</td>\n",
       "      <td>Stage-14</td>\n",
       "      <td>13</td>\n",
       "      <td>43</td>\n",
       "      <td>PlugAndPerf</td>\n",
       "    </tr>\n",
       "    <tr>\n",
       "      <th>3</th>\n",
       "      <td>Montney</td>\n",
       "      <td>Hori_02</td>\n",
       "      <td>22</td>\n",
       "      <td>Stage-22</td>\n",
       "      <td>21</td>\n",
       "      <td>59</td>\n",
       "      <td>PlugAndPerf</td>\n",
       "    </tr>\n",
       "  </tbody>\n",
       "</table>\n",
       "</div>"
      ],
      "text/plain": [
       "     field     name  stage_no name_without_well  order  global_seq_no  \\\n",
       "0  Montney  Hori_02         1           Stage-1      0              1   \n",
       "1  Montney  Hori_02        29          Stage-29     28             70   \n",
       "2  Montney  Hori_02        14          Stage-14     13             43   \n",
       "3  Montney  Hori_02        22          Stage-22     21             59   \n",
       "\n",
       "    stage_type  \n",
       "0  PlugAndPerf  \n",
       "1  PlugAndPerf  \n",
       "2  PlugAndPerf  \n",
       "3  PlugAndPerf  "
      ]
     },
     "execution_count": 17,
     "metadata": {},
     "output_type": "execute_result"
    }
   ],
   "source": [
    "@toolz.curry\n",
    "def basic_data_for_stage_of_well(w, s):\n",
    "    return (MONTNEY, w.Name, s.DisplayStageNumber,\n",
    "            s.DisplayNameWithoutWell, s.OrderOfCompletionOnWell,\n",
    "            s.GlobalStageSequenceNumber, stage_type_str(s.StageType))\n",
    "basic_data_for_well = basic_data_for_stage_of_well(well_of_interest)\n",
    "\n",
    "@toolz.curry\n",
    "def stage_type_str(stage_type):\n",
    "    stage_type_str_map = {0: 'PlugAndPerf',\n",
    "                          1: 'SlidingSleeve',\n",
    "                          2: 'SinglePointEntry',\n",
    "                          3: 'OpenHole'}\n",
    "    return stage_type_str_map[stage_type]\n",
    "\n",
    "@toolz.curry\n",
    "def make_basic_item(n):\n",
    "    basic_data = basic_data_for_well(all_stages_for_well_of_interest[n])\n",
    "    return {\n",
    "        'field': [basic_data[0]],\n",
    "        'name': [basic_data[1]],\n",
    "        'stage_no': [basic_data[2]],\n",
    "        'name_without_well': [basic_data[3]],\n",
    "        'order': [basic_data[4]],\n",
    "        'global_seq_no': [basic_data[5]],\n",
    "        'stage_type': [basic_data[6]],\n",
    "    }\n",
    "\n",
    "all_items = toolz.pipe(toolz.get_in([well_of_interest.Name, 'additional_basic'], sampled_stage_numbers),\n",
    "                       toolz.map(make_basic_item),\n",
    "                       list)\n",
    "\n",
    "def merge_values(values):\n",
    "    return list(toolz.concat(values))\n",
    "\n",
    "data = toolz.merge_with(merge_values,\n",
    "                        *all_items)\n",
    "\n",
    "pd.DataFrame(data)"
   ]
  },
  {
   "cell_type": "code",
   "execution_count": 18,
   "metadata": {
    "collapsed": false,
    "jupyter": {
     "outputs_hidden": false
    },
    "pycharm": {
     "name": "#%%\n"
    }
   },
   "outputs": [
    {
     "data": {
      "text/plain": [
       "[<WellReferenceFrameXy.PROJECT: 1>,\n",
       " <WellReferenceFrameXy.ABSOLUTE_STATE_PLANE: 0>,\n",
       " <WellReferenceFrameXy.WELL_HEAD: 2>,\n",
       " <WellReferenceFrameXy.PROJECT: 1>,\n",
       " <WellReferenceFrameXy.WELL_HEAD: 2>,\n",
       " <WellReferenceFrameXy.ABSOLUTE_STATE_PLANE: 0>]"
      ]
     },
     "execution_count": 18,
     "metadata": {},
     "output_type": "execute_result"
    }
   ],
   "source": [
    "all_frames = [rf for rf in iter(origins.WellReferenceFrameXy)]\n",
    "random_frames = list(toolz.concat([all_frames] * 2))\n",
    "random.shuffle(random_frames)\n",
    "random_frames"
   ]
  },
  {
   "cell_type": "code",
   "execution_count": 19,
   "metadata": {
    "collapsed": false,
    "jupyter": {
     "outputs_hidden": false
    },
    "pycharm": {
     "name": "#%%\n"
    }
   },
   "outputs": [],
   "source": [
    "sampled_frames = {\n",
    "    HORI_01: {\n",
    "        BOTTOM_LOCATION: [\n",
    "            origins.WellReferenceFrameXy.PROJECT,\n",
    "            origins.WellReferenceFrameXy.PROJECT,\n",
    "            origins.WellReferenceFrameXy.WELL_HEAD,\n",
    "            origins.WellReferenceFrameXy.ABSOLUTE_STATE_PLANE,\n",
    "        ],\n",
    "        CLUSTER_LOCATION: [\n",
    "            origins.WellReferenceFrameXy.ABSOLUTE_STATE_PLANE,\n",
    "            origins.WellReferenceFrameXy.WELL_HEAD,\n",
    "            origins.WellReferenceFrameXy.PROJECT,\n",
    "            origins.WellReferenceFrameXy.ABSOLUTE_STATE_PLANE,\n",
    "        ],\n",
    "        TOP_LOCATION: [\n",
    "            origins.WellReferenceFrameXy.WELL_HEAD,\n",
    "            origins.WellReferenceFrameXy.PROJECT,\n",
    "            origins.WellReferenceFrameXy.PROJECT,\n",
    "            origins.WellReferenceFrameXy.ABSOLUTE_STATE_PLANE,\n",
    "        ],\n",
    "    },\n",
    "    HORI_02: {\n",
    "        BOTTOM_LOCATION: [\n",
    "            origins.WellReferenceFrameXy.ABSOLUTE_STATE_PLANE,\n",
    "            origins.WellReferenceFrameXy.PROJECT,\n",
    "            origins.WellReferenceFrameXy.WELL_HEAD,\n",
    "            origins.WellReferenceFrameXy.PROJECT,\n",
    "        ],\n",
    "        CLUSTER_LOCATION: [\n",
    "            origins.WellReferenceFrameXy.PROJECT,\n",
    "            origins.WellReferenceFrameXy.WELL_HEAD,\n",
    "            origins.WellReferenceFrameXy.ABSOLUTE_STATE_PLANE,\n",
    "            origins.WellReferenceFrameXy.PROJECT,\n",
    "        ],\n",
    "        TOP_LOCATION: [\n",
    "            origins.WellReferenceFrameXy.WELL_HEAD,\n",
    "            origins.WellReferenceFrameXy.PROJECT,\n",
    "            origins.WellReferenceFrameXy.ABSOLUTE_STATE_PLANE,\n",
    "            origins.WellReferenceFrameXy.PROJECT,\n",
    "        ],\n",
    "    },\n",
    "    VERT_01: {\n",
    "        BOTTOM_LOCATION: [\n",
    "            origins.WellReferenceFrameXy.ABSOLUTE_STATE_PLANE,\n",
    "            origins.WellReferenceFrameXy.ABSOLUTE_STATE_PLANE,\n",
    "            origins.WellReferenceFrameXy.PROJECT,\n",
    "            origins.WellReferenceFrameXy.WELL_HEAD,\n",
    "        ],\n",
    "        CLUSTER_LOCATION: [\n",
    "            \n",
    "        ],\n",
    "        TOP_LOCATION: [\n",
    "            \n",
    "        ],\n",
    "    },\n",
    "}"
   ]
  },
  {
   "cell_type": "code",
   "execution_count": 20,
   "metadata": {
    "collapsed": false,
    "jupyter": {
     "outputs_hidden": false
    },
    "pycharm": {
     "name": "#%%\n"
    }
   },
   "outputs": [],
   "source": [
    "SubsurfacePoint = namedtuple('SubsurfacePoint', ['x', 'y', 'depth'])\n",
    "\n",
    "@toolz.curry\n",
    "def subsurface_location_in_units(in_units, subsurface_location):\n",
    "    x = subsurface_location.X.ToUnit(in_units)\n",
    "    y = subsurface_location.Y.ToUnit(in_units)\n",
    "    depth = subsurface_location.Depth.ToUnit(in_units)\n",
    "    return SubsurfacePoint(x, y, depth)\n",
    "subsurface_location_in_project_units = subsurface_location_in_units(native_project.ProjectUnits.LengthUnit)\n",
    "\n",
    "def get_stage_bottom_location(reference_frame, stage):\n",
    "    return stage.GetStageLocationBottom(reference_frame.value, DepthDatum.KellyBushing)\n",
    "\n",
    "def get_stage_top_location(reference_frame, stage):\n",
    "    return stage.GetStageLocationTop(reference_frame.value, DepthDatum.KellyBushing)\n",
    "\n",
    "@toolz.curry\n",
    "def stage_location(w, location_func, rf, s):\n",
    "    subsurface_location = location_func(rf, s)\n",
    "    x, y, depth = subsurface_location_in_project_units(subsurface_location)\n",
    "    return ('montney', w.Name, s.DisplayStageNumber, rf.name,\n",
    "            f'{x.Value:.2f} {UnitsNet.Length.GetAbbreviation(x.Unit)}',\n",
    "            f'{y.Value:.2f} {UnitsNet.Length.GetAbbreviation(y.Unit)}',\n",
    "            f'{depth.Value:.2f} {UnitsNet.Length.GetAbbreviation(depth.Unit)}')\n",
    "location_for_well = stage_location(well_of_interest)"
   ]
  },
  {
   "cell_type": "code",
   "execution_count": 21,
   "metadata": {
    "collapsed": false,
    "jupyter": {
     "outputs_hidden": false
    },
    "pycharm": {
     "name": "#%%\n"
    }
   },
   "outputs": [
    {
     "data": {
      "text/html": [
       "<div>\n",
       "<style scoped>\n",
       "    .dataframe tbody tr th:only-of-type {\n",
       "        vertical-align: middle;\n",
       "    }\n",
       "\n",
       "    .dataframe tbody tr th {\n",
       "        vertical-align: top;\n",
       "    }\n",
       "\n",
       "    .dataframe thead th {\n",
       "        text-align: right;\n",
       "    }\n",
       "</style>\n",
       "<table border=\"1\" class=\"dataframe\">\n",
       "  <thead>\n",
       "    <tr style=\"text-align: right;\">\n",
       "      <th></th>\n",
       "      <th>field</th>\n",
       "      <th>name</th>\n",
       "      <th>stage_no</th>\n",
       "      <th>frame</th>\n",
       "      <th>x</th>\n",
       "      <th>y</th>\n",
       "      <th>depth</th>\n",
       "    </tr>\n",
       "  </thead>\n",
       "  <tbody>\n",
       "    <tr>\n",
       "      <th>0</th>\n",
       "      <td>montney</td>\n",
       "      <td>Hori_02</td>\n",
       "      <td>1</td>\n",
       "      <td>ABSOLUTE_STATE_PLANE</td>\n",
       "      <td>659041.61 m</td>\n",
       "      <td>6177489.54 m</td>\n",
       "      <td>2547.18 m</td>\n",
       "    </tr>\n",
       "    <tr>\n",
       "      <th>1</th>\n",
       "      <td>montney</td>\n",
       "      <td>Hori_02</td>\n",
       "      <td>29</td>\n",
       "      <td>PROJECT</td>\n",
       "      <td>-265.31 m</td>\n",
       "      <td>136.65 m</td>\n",
       "      <td>2535.20 m</td>\n",
       "    </tr>\n",
       "    <tr>\n",
       "      <th>2</th>\n",
       "      <td>montney</td>\n",
       "      <td>Hori_02</td>\n",
       "      <td>4</td>\n",
       "      <td>WELL_HEAD</td>\n",
       "      <td>2251.94 m</td>\n",
       "      <td>-1702.43 m</td>\n",
       "      <td>2545.77 m</td>\n",
       "    </tr>\n",
       "    <tr>\n",
       "      <th>3</th>\n",
       "      <td>montney</td>\n",
       "      <td>Hori_02</td>\n",
       "      <td>17</td>\n",
       "      <td>PROJECT</td>\n",
       "      <td>647.61 m</td>\n",
       "      <td>-565.58 m</td>\n",
       "      <td>2544.27 m</td>\n",
       "    </tr>\n",
       "  </tbody>\n",
       "</table>\n",
       "</div>"
      ],
      "text/plain": [
       "     field     name  stage_no                 frame            x  \\\n",
       "0  montney  Hori_02         1  ABSOLUTE_STATE_PLANE  659041.61 m   \n",
       "1  montney  Hori_02        29               PROJECT    -265.31 m   \n",
       "2  montney  Hori_02         4             WELL_HEAD    2251.94 m   \n",
       "3  montney  Hori_02        17               PROJECT     647.61 m   \n",
       "\n",
       "              y      depth  \n",
       "0  6177489.54 m  2547.18 m  \n",
       "1      136.65 m  2535.20 m  \n",
       "2    -1702.43 m  2545.77 m  \n",
       "3     -565.58 m  2544.27 m  "
      ]
     },
     "execution_count": 21,
     "metadata": {},
     "output_type": "execute_result"
    }
   ],
   "source": [
    "stage_bottom_location_for_well = location_for_well(get_stage_bottom_location)\n",
    "\n",
    "@toolz.curry\n",
    "def make_bottom_location_item(rf, n):\n",
    "    location_data = stage_bottom_location_for_well(rf, all_stages_for_well_of_interest[n])\n",
    "    return {\n",
    "        'field': [location_data[0]],\n",
    "        'name': [location_data[1]],\n",
    "        'stage_no': [location_data[2]],\n",
    "        'frame': [location_data[3]],\n",
    "        'x': [location_data[4]],\n",
    "        'y': [location_data[5]],\n",
    "        'depth': [location_data[6]],\n",
    "    }\n",
    "\n",
    "all_items = toolz.pipe(zip(toolz.get_in([well_of_interest.Name, BOTTOM_LOCATION], sampled_frames),\n",
    "                           toolz.get_in([well_of_interest.Name, BOTTOM_LOCATION], sampled_stage_numbers)),\n",
    "                       toolz.map(lambda pair: make_bottom_location_item(*pair)),\n",
    "                       list)\n",
    "\n",
    "def merge_values(values):\n",
    "    return list(toolz.concat(values))\n",
    "\n",
    "data = toolz.merge_with(merge_values,\n",
    "                        *all_items)\n",
    "\n",
    "pd.DataFrame(data)"
   ]
  },
  {
   "cell_type": "code",
   "execution_count": 22,
   "metadata": {
    "collapsed": false,
    "jupyter": {
     "outputs_hidden": false
    },
    "pycharm": {
     "name": "#%%\n"
    }
   },
   "outputs": [
    {
     "data": {
      "text/html": [
       "<div>\n",
       "<style scoped>\n",
       "    .dataframe tbody tr th:only-of-type {\n",
       "        vertical-align: middle;\n",
       "    }\n",
       "\n",
       "    .dataframe tbody tr th {\n",
       "        vertical-align: top;\n",
       "    }\n",
       "\n",
       "    .dataframe thead th {\n",
       "        text-align: right;\n",
       "    }\n",
       "</style>\n",
       "<table border=\"1\" class=\"dataframe\">\n",
       "  <thead>\n",
       "    <tr style=\"text-align: right;\">\n",
       "      <th></th>\n",
       "      <th>field</th>\n",
       "      <th>name</th>\n",
       "      <th>stage_no</th>\n",
       "      <th>cluster_count</th>\n",
       "    </tr>\n",
       "  </thead>\n",
       "  <tbody>\n",
       "    <tr>\n",
       "      <th>0</th>\n",
       "      <td>bakken</td>\n",
       "      <td>Hori_02</td>\n",
       "      <td>1</td>\n",
       "      <td>1</td>\n",
       "    </tr>\n",
       "    <tr>\n",
       "      <th>1</th>\n",
       "      <td>bakken</td>\n",
       "      <td>Hori_02</td>\n",
       "      <td>29</td>\n",
       "      <td>1</td>\n",
       "    </tr>\n",
       "    <tr>\n",
       "      <th>2</th>\n",
       "      <td>bakken</td>\n",
       "      <td>Hori_02</td>\n",
       "      <td>14</td>\n",
       "      <td>1</td>\n",
       "    </tr>\n",
       "    <tr>\n",
       "      <th>3</th>\n",
       "      <td>bakken</td>\n",
       "      <td>Hori_02</td>\n",
       "      <td>17</td>\n",
       "      <td>1</td>\n",
       "    </tr>\n",
       "  </tbody>\n",
       "</table>\n",
       "</div>"
      ],
      "text/plain": [
       "    field     name  stage_no  cluster_count\n",
       "0  bakken  Hori_02         1              1\n",
       "1  bakken  Hori_02        29              1\n",
       "2  bakken  Hori_02        14              1\n",
       "3  bakken  Hori_02        17              1"
      ]
     },
     "execution_count": 22,
     "metadata": {},
     "output_type": "execute_result"
    }
   ],
   "source": [
    "@toolz.curry\n",
    "def cluster_count_for_stage_of_well(w, s):\n",
    "    return ('bakken', w.Name, s.DisplayStageNumber,\n",
    "            s.NumberOfClusters)\n",
    "cluster_count_for_well = cluster_count_for_stage_of_well(well_of_interest)\n",
    "\n",
    "@toolz.curry\n",
    "def make_cluster_count(n):\n",
    "    cluster_count_data = cluster_count_for_well(all_stages_for_well_of_interest[n])\n",
    "    return {\n",
    "        'field': [cluster_count_data[0]],\n",
    "        'name': [cluster_count_data[1]],\n",
    "        'stage_no': [cluster_count_data[2]],\n",
    "        'cluster_count': [cluster_count_data[3]],\n",
    "    }\n",
    "\n",
    "all_items = toolz.pipe(toolz.get_in([well_of_interest.Name, CLUSTER_COUNT], sampled_stage_numbers),\n",
    "                       toolz.map(make_cluster_count),\n",
    "                       list)\n",
    "\n",
    "def merge_values(values):\n",
    "    return list(toolz.concat(values))\n",
    "\n",
    "data = toolz.merge_with(merge_values,\n",
    "                        *all_items)\n",
    "\n",
    "cluster_count_df = pd.DataFrame(data)\n",
    "cluster_count_df"
   ]
  },
  {
   "cell_type": "code",
   "execution_count": 23,
   "metadata": {
    "collapsed": false,
    "jupyter": {
     "outputs_hidden": false
    },
    "pycharm": {
     "name": "#%%\n"
    }
   },
   "outputs": [
    {
     "data": {
      "text/plain": [
       "[[1], [1], [1], [1]]"
      ]
     },
     "execution_count": 23,
     "metadata": {},
     "output_type": "execute_result"
    }
   ],
   "source": [
    "shuffled_cluster_numbers = []\n",
    "for cluster_count in cluster_count_df['cluster_count']:\n",
    "    candidates = list(range(1, cluster_count + 1))\n",
    "    random.shuffle(candidates)\n",
    "    shuffled_cluster_numbers.append(candidates)\n",
    "shuffled_cluster_numbers"
   ]
  },
  {
   "cell_type": "code",
   "execution_count": 24,
   "metadata": {
    "collapsed": false,
    "jupyter": {
     "outputs_hidden": false
    },
    "pycharm": {
     "name": "#%%\n"
    }
   },
   "outputs": [],
   "source": [
    "sampled_cluster_numbers = {\n",
    "    HORI_01: [1, 1, 1, 1],\n",
    "    HORI_02: [1, 1, 1, 1],\n",
    "    HORI_03: [1, 1, 1, 1],\n",
    "    VERT_01: [1, 1, 1, 1],\n",
    "}"
   ]
  },
  {
   "cell_type": "code",
   "execution_count": 25,
   "metadata": {
    "collapsed": false,
    "jupyter": {
     "outputs_hidden": false
    },
    "pycharm": {
     "name": "#%%\n"
    }
   },
   "outputs": [
    {
     "data": {
      "text/html": [
       "<div>\n",
       "<style scoped>\n",
       "    .dataframe tbody tr th:only-of-type {\n",
       "        vertical-align: middle;\n",
       "    }\n",
       "\n",
       "    .dataframe tbody tr th {\n",
       "        vertical-align: top;\n",
       "    }\n",
       "\n",
       "    .dataframe thead th {\n",
       "        text-align: right;\n",
       "    }\n",
       "</style>\n",
       "<table border=\"1\" class=\"dataframe\">\n",
       "  <thead>\n",
       "    <tr style=\"text-align: right;\">\n",
       "      <th></th>\n",
       "      <th>field</th>\n",
       "      <th>name</th>\n",
       "      <th>stage_no</th>\n",
       "      <th>cluster_no</th>\n",
       "      <th>frame</th>\n",
       "      <th>x</th>\n",
       "      <th>y</th>\n",
       "      <th>depth</th>\n",
       "    </tr>\n",
       "  </thead>\n",
       "  <tbody>\n",
       "    <tr>\n",
       "      <th>0</th>\n",
       "      <td>montney</td>\n",
       "      <td>Hori_02</td>\n",
       "      <td>1</td>\n",
       "      <td>1</td>\n",
       "      <td>PROJECT</td>\n",
       "      <td>1823.90 m</td>\n",
       "      <td>-1468.04 m</td>\n",
       "      <td>2547.17 m</td>\n",
       "    </tr>\n",
       "    <tr>\n",
       "      <th>1</th>\n",
       "      <td>montney</td>\n",
       "      <td>Hori_02</td>\n",
       "      <td>29</td>\n",
       "      <td>1</td>\n",
       "      <td>WELL_HEAD</td>\n",
       "      <td>320.78 m</td>\n",
       "      <td>-218.66 m</td>\n",
       "      <td>2534.98 m</td>\n",
       "    </tr>\n",
       "    <tr>\n",
       "      <th>2</th>\n",
       "      <td>montney</td>\n",
       "      <td>Hori_02</td>\n",
       "      <td>5</td>\n",
       "      <td>1</td>\n",
       "      <td>ABSOLUTE_STATE_PLANE</td>\n",
       "      <td>658733.50 m</td>\n",
       "      <td>6177723.22 m</td>\n",
       "      <td>2544.52 m</td>\n",
       "    </tr>\n",
       "    <tr>\n",
       "      <th>3</th>\n",
       "      <td>montney</td>\n",
       "      <td>Hori_02</td>\n",
       "      <td>17</td>\n",
       "      <td>1</td>\n",
       "      <td>PROJECT</td>\n",
       "      <td>619.24 m</td>\n",
       "      <td>-543.02 m</td>\n",
       "      <td>2544.19 m</td>\n",
       "    </tr>\n",
       "  </tbody>\n",
       "</table>\n",
       "</div>"
      ],
      "text/plain": [
       "     field     name  stage_no  cluster_no                 frame            x  \\\n",
       "0  montney  Hori_02         1           1               PROJECT    1823.90 m   \n",
       "1  montney  Hori_02        29           1             WELL_HEAD     320.78 m   \n",
       "2  montney  Hori_02         5           1  ABSOLUTE_STATE_PLANE  658733.50 m   \n",
       "3  montney  Hori_02        17           1               PROJECT     619.24 m   \n",
       "\n",
       "              y      depth  \n",
       "0    -1468.04 m  2547.17 m  \n",
       "1     -218.66 m  2534.98 m  \n",
       "2  6177723.22 m  2544.52 m  \n",
       "3     -543.02 m  2544.19 m  "
      ]
     },
     "execution_count": 25,
     "metadata": {},
     "output_type": "execute_result"
    }
   ],
   "source": [
    "def get_stage_cluster_location(reference_frame, stage, cluster_no):\n",
    "    return stage.GetStageLocationCluster(cluster_no, reference_frame.value, DepthDatum.KellyBushing)\n",
    "\n",
    "@toolz.curry\n",
    "def stage_cluster_location(w, location_func, rf, s, cluster_no):\n",
    "    subsurface_location = location_func(rf, s, cluster_no)\n",
    "    x, y, depth = subsurface_location_in_project_units(subsurface_location)\n",
    "    return ('montney', w.Name, s.DisplayStageNumber, cluster_no, rf.name,\n",
    "            f'{x.Value:.2f} {UnitsNet.Length.GetAbbreviation(x.Unit)}',\n",
    "            f'{y.Value:.2f} {UnitsNet.Length.GetAbbreviation(y.Unit)}',\n",
    "            f'{depth.Value:.2f} {UnitsNet.Length.GetAbbreviation(depth.Unit)}')\n",
    "cluster_location_for_well = stage_cluster_location(well_of_interest)\n",
    "stage_cluster_location_for_well = cluster_location_for_well(get_stage_cluster_location)\n",
    "\n",
    "@toolz.curry\n",
    "def make_cluster_location_item(rf, n, cluster_no):\n",
    "    location_data = stage_cluster_location_for_well(rf, all_stages_for_well_of_interest[n], cluster_no)\n",
    "    return {\n",
    "        'field': [location_data[0]],\n",
    "        'name': [location_data[1]],\n",
    "        'stage_no': [location_data[2]],\n",
    "        'cluster_no': [location_data[3]],\n",
    "        'frame': [location_data[4]],\n",
    "        'x': [location_data[5]],\n",
    "        'y': [location_data[6]],\n",
    "        'depth': [location_data[7]],\n",
    "    }\n",
    "\n",
    "all_items = toolz.pipe(zip(toolz.get_in([well_of_interest.Name, CLUSTER_LOCATION], sampled_frames),\n",
    "                           toolz.get_in([well_of_interest.Name, CLUSTER_LOCATION], sampled_stage_numbers),\n",
    "                           sampled_cluster_numbers[well_of_interest.Name],),\n",
    "                       toolz.map(lambda triple: make_cluster_location_item(*triple)),\n",
    "                       list)\n",
    "\n",
    "def merge_values(values):\n",
    "    return list(toolz.concat(values))\n",
    "\n",
    "data = toolz.merge_with(merge_values,\n",
    "                        *all_items)\n",
    "\n",
    "pd.DataFrame(data)"
   ]
  },
  {
   "cell_type": "code",
   "execution_count": 26,
   "metadata": {
    "collapsed": false,
    "jupyter": {
     "outputs_hidden": false
    },
    "pycharm": {
     "name": "#%%\n"
    }
   },
   "outputs": [
    {
     "data": {
      "text/html": [
       "<div>\n",
       "<style scoped>\n",
       "    .dataframe tbody tr th:only-of-type {\n",
       "        vertical-align: middle;\n",
       "    }\n",
       "\n",
       "    .dataframe tbody tr th {\n",
       "        vertical-align: top;\n",
       "    }\n",
       "\n",
       "    .dataframe thead th {\n",
       "        text-align: right;\n",
       "    }\n",
       "</style>\n",
       "<table border=\"1\" class=\"dataframe\">\n",
       "  <thead>\n",
       "    <tr style=\"text-align: right;\">\n",
       "      <th></th>\n",
       "      <th>field</th>\n",
       "      <th>name</th>\n",
       "      <th>stage_no</th>\n",
       "      <th>frame</th>\n",
       "      <th>x</th>\n",
       "      <th>y</th>\n",
       "      <th>depth</th>\n",
       "    </tr>\n",
       "  </thead>\n",
       "  <tbody>\n",
       "    <tr>\n",
       "      <th>0</th>\n",
       "      <td>montney</td>\n",
       "      <td>Hori_02</td>\n",
       "      <td>1</td>\n",
       "      <td>WELL_HEAD</td>\n",
       "      <td>2423.59 m</td>\n",
       "      <td>-1832.70 m</td>\n",
       "      <td>2547.25 m</td>\n",
       "    </tr>\n",
       "    <tr>\n",
       "      <th>1</th>\n",
       "      <td>montney</td>\n",
       "      <td>Hori_02</td>\n",
       "      <td>29</td>\n",
       "      <td>PROJECT</td>\n",
       "      <td>-322.66 m</td>\n",
       "      <td>180.15 m</td>\n",
       "      <td>2534.73 m</td>\n",
       "    </tr>\n",
       "    <tr>\n",
       "      <th>2</th>\n",
       "      <td>montney</td>\n",
       "      <td>Hori_02</td>\n",
       "      <td>10</td>\n",
       "      <td>ABSOLUTE_STATE_PLANE</td>\n",
       "      <td>658324.33 m</td>\n",
       "      <td>6178037.58 m</td>\n",
       "      <td>2544.78 m</td>\n",
       "    </tr>\n",
       "    <tr>\n",
       "      <th>3</th>\n",
       "      <td>montney</td>\n",
       "      <td>Hori_02</td>\n",
       "      <td>26</td>\n",
       "      <td>PROJECT</td>\n",
       "      <td>-91.15 m</td>\n",
       "      <td>8.58 m</td>\n",
       "      <td>2536.80 m</td>\n",
       "    </tr>\n",
       "  </tbody>\n",
       "</table>\n",
       "</div>"
      ],
      "text/plain": [
       "     field     name  stage_no                 frame            x  \\\n",
       "0  montney  Hori_02         1             WELL_HEAD    2423.59 m   \n",
       "1  montney  Hori_02        29               PROJECT    -322.66 m   \n",
       "2  montney  Hori_02        10  ABSOLUTE_STATE_PLANE  658324.33 m   \n",
       "3  montney  Hori_02        26               PROJECT     -91.15 m   \n",
       "\n",
       "              y      depth  \n",
       "0    -1832.70 m  2547.25 m  \n",
       "1      180.15 m  2534.73 m  \n",
       "2  6178037.58 m  2544.78 m  \n",
       "3        8.58 m  2536.80 m  "
      ]
     },
     "execution_count": 26,
     "metadata": {},
     "output_type": "execute_result"
    }
   ],
   "source": [
    "stage_top_location_for_well = location_for_well(get_stage_top_location)\n",
    "\n",
    "@toolz.curry\n",
    "def make_top_location_item(rf, n):\n",
    "    location_data = stage_top_location_for_well(rf, all_stages_for_well_of_interest[n])\n",
    "    return {\n",
    "        'field': [location_data[0]],\n",
    "        'name': [location_data[1]],\n",
    "        'stage_no': [location_data[2]],\n",
    "        'frame': [location_data[3]],\n",
    "        'x': [location_data[4]],\n",
    "        'y': [location_data[5]],\n",
    "        'depth': [location_data[6]],\n",
    "    }\n",
    "\n",
    "all_items = toolz.pipe(zip(toolz.get_in([well_of_interest.Name, TOP_LOCATION], sampled_frames),\n",
    "                           toolz.get_in([well_of_interest.Name, TOP_LOCATION], sampled_stage_numbers)),\n",
    "                       toolz.map(lambda pair: make_top_location_item(*pair)),\n",
    "                       list)\n",
    "\n",
    "def merge_values(values):\n",
    "    return list(toolz.concat(values))\n",
    "\n",
    "data = toolz.merge_with(merge_values,\n",
    "                        *all_items)\n",
    "\n",
    "pd.DataFrame(data)"
   ]
  },
  {
   "cell_type": "code",
   "execution_count": null,
   "metadata": {
    "collapsed": false,
    "jupyter": {
     "outputs_hidden": false
    },
    "pycharm": {
     "name": "#%%\n"
    }
   },
   "outputs": [],
   "source": []
  }
 ],
 "metadata": {
  "kernelspec": {
   "display_name": "Python 3 (ipykernel)",
   "language": "python",
   "name": "python3"
  },
  "language_info": {
   "codemirror_mode": {
    "name": "ipython",
    "version": 3
   },
   "file_extension": ".py",
   "mimetype": "text/x-python",
   "name": "python",
   "nbconvert_exporter": "python",
   "pygments_lexer": "ipython3",
   "version": "3.8.7"
  }
 },
 "nbformat": 4,
 "nbformat_minor": 4
}
