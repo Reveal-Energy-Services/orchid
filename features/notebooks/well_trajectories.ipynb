{
 "cells": [
  {
   "cell_type": "code",
   "execution_count": null,
   "metadata": {
    "collapsed": false,
    "jupyter": {
     "outputs_hidden": false
    },
    "pycharm": {
     "name": "#%%\n"
    }
   },
   "outputs": [],
   "source": [
    "import pathlib\n",
    "import pprint\n",
    "import random"
   ]
  },
  {
   "cell_type": "code",
   "execution_count": null,
   "metadata": {
    "collapsed": false,
    "jupyter": {
     "outputs_hidden": false
    },
    "pycharm": {
     "name": "#%%\n"
    }
   },
   "outputs": [],
   "source": [
    "import numpy as np\n",
    "import matplotlib.pyplot as plt\n",
    "import pandas as pd\n",
    "import seaborn as sns"
   ]
  },
  {
   "cell_type": "code",
   "execution_count": null,
   "metadata": {
    "collapsed": false,
    "jupyter": {
     "outputs_hidden": false
    },
    "pycharm": {
     "name": "#%%\n"
    }
   },
   "outputs": [],
   "source": [
    "from orchid import (\n",
    "    core as oc,\n",
    "    net_quantity as onq,\n",
    "    unit_system as units,\n",
    ")"
   ]
  },
  {
   "cell_type": "code",
   "execution_count": null,
   "metadata": {
    "collapsed": false,
    "jupyter": {
     "outputs_hidden": false
    },
    "pycharm": {
     "name": "#%%\n"
    }
   },
   "outputs": [],
   "source": [
    "import option\n",
    "import toolz.curried as toolz"
   ]
  },
  {
   "cell_type": "code",
   "execution_count": null,
   "metadata": {
    "collapsed": false,
    "jupyter": {
     "outputs_hidden": false
    },
    "pycharm": {
     "name": "#%%\n"
    }
   },
   "outputs": [],
   "source": [
    "# noinspection PyUnresolvedReferences\n",
    "from Orchid.FractureDiagnostics import WellReferenceFrameXy, DepthDatum\n",
    "# noinspection PyUnresolvedReferences\n",
    "import UnitsNet\n",
    "# noinspection PyUnresolvedReferences\n",
    "from System import Array, Int32"
   ]
  },
  {
   "cell_type": "code",
   "execution_count": null,
   "metadata": {
    "collapsed": false,
    "jupyter": {
     "outputs_hidden": false
    },
    "pycharm": {
     "name": "#%%\n"
    }
   },
   "outputs": [],
   "source": [
    "project_filenames = {\n",
    "    'bakken': 'frankNstein_Bakken_UTM13_FEET.ifrac',\n",
    "    'montney': 'Project-frankNstein_Montney_UTM13_METERS.ifrac',\n",
    "    'permian': 'Project_frankNstein_Permian_UTM13_FEET.ifrac'\n",
    "}"
   ]
  },
  {
   "cell_type": "code",
   "execution_count": null,
   "metadata": {
    "collapsed": false,
    "jupyter": {
     "outputs_hidden": false
    },
    "pycharm": {
     "name": "#%%\n"
    }
   },
   "outputs": [],
   "source": [
    "projects = toolz.pipe(\n",
    "    project_filenames,\n",
    "    toolz.valmap(lambda fn: str(pathlib.Path(r'c:\\src\\Orchid.IntegrationTestData').joinpath(fn))),\n",
    "    toolz.valmap(toolz.curry(oc.load_project)),\n",
    ")\n",
    "pprint.pprint(projects)"
   ]
  },
  {
   "cell_type": "code",
   "execution_count": null,
   "metadata": {
    "collapsed": false,
    "jupyter": {
     "outputs_hidden": false
    },
    "pycharm": {
     "name": "#%%\n"
    }
   },
   "outputs": [],
   "source": [
    "native_projects = toolz.valmap(lambda p: p.dom_object, projects)\n",
    "pprint.pprint(native_projects)"
   ]
  },
  {
   "cell_type": "code",
   "execution_count": null,
   "metadata": {
    "collapsed": false,
    "jupyter": {
     "outputs_hidden": false
    },
    "pycharm": {
     "name": "#%%\n"
    }
   },
   "outputs": [],
   "source": [
    "wells = toolz.pipe(native_projects,\n",
    "    toolz.valmap(lambda native_project: native_project.Wells.Items),\n",
    "    toolz.valmap(lambda well_map: [(w.Name, w) for w in well_map]),\n",
    "    toolz.valmap(dict))\n",
    "pprint.pprint(wells)"
   ]
  },
  {
   "cell_type": "code",
   "execution_count": null,
   "metadata": {
    "collapsed": false,
    "jupyter": {
     "outputs_hidden": false
    },
    "pycharm": {
     "name": "#%%\n"
    }
   },
   "outputs": [],
   "source": [
    "trajectories = toolz.valmap(toolz.valmap(lambda w: w.Trajectory), wells)\n",
    "pprint.pprint(trajectories)"
   ]
  },
  {
   "cell_type": "code",
   "execution_count": null,
   "metadata": {
    "collapsed": false,
    "jupyter": {
     "outputs_hidden": false
    },
    "pycharm": {
     "name": "#%%\n"
    }
   },
   "outputs": [],
   "source": [
    "project_units = toolz.valmap(lambda p: p.project_units, projects)\n",
    "pprint.pprint(project_units)"
   ]
  },
  {
   "cell_type": "code",
   "execution_count": null,
   "metadata": {
    "collapsed": false,
    "jupyter": {
     "outputs_hidden": false
    },
    "pycharm": {
     "name": "#%%\n"
    }
   },
   "outputs": [],
   "source": [
    "project_name = 'bakken'\n",
    "\n",
    "# well_name = 'Demo_1H'\n",
    "# samples = [0, 252, 146, 174, 99, 185]\n",
    "# well_name = 'Demo_2H'\n",
    "# samples = [0, 245, 203, 154, 155, 241]\n",
    "# well_name = 'Demo_3H'\n",
    "# samples = [0, 233, 121, 19, 213, 53]\n",
    "well_name = 'Demo_4H'\n",
    "samples = [0, 256, 53, 14, 144, 140]"
   ]
  },
  {
   "cell_type": "code",
   "execution_count": null,
   "metadata": {
    "collapsed": false,
    "jupyter": {
     "outputs_hidden": false
    },
    "pycharm": {
     "name": "#%%\n"
    }
   },
   "outputs": [],
   "source": [
    "eastings = toolz.pipe(\n",
    "    trajectories,\n",
    "    toolz.get_in([project_name, well_name]),\n",
    "    lambda t: t.GetEastingArray(WellReferenceFrameXy.Project),\n",
    "    toolz.map(lambda ne: onq.as_measurement(project_units[project_name].LENGTH, option.maybe(ne))),\n",
    "    list,\n",
    "    toolz.get(samples),\n",
    "    toolz.map(lambda e: f'{e.magnitude:.4f} {e.units:~P}'),\n",
    "    list,\n",
    ")\n",
    "pprint.pprint(eastings)"
   ]
  },
  {
   "cell_type": "code",
   "execution_count": null,
   "metadata": {
    "collapsed": false,
    "jupyter": {
     "outputs_hidden": false
    },
    "pycharm": {
     "name": "#%%\n"
    }
   },
   "outputs": [],
   "source": [
    "northings = toolz.pipe(\n",
    "    trajectories,\n",
    "    toolz.get_in([project_name, well_name]),\n",
    "    lambda t: t.GetNorthingArray(WellReferenceFrameXy.Project),\n",
    "    toolz.map(lambda ne: onq.as_measurement(project_units[project_name].LENGTH, option.maybe(ne))),\n",
    "    list,\n",
    "    toolz.get(samples),\n",
    "    toolz.map(lambda e: f'{e.magnitude:.4f} {e.units:~P}'),\n",
    "    list,\n",
    ")\n",
    "pprint.pprint(northings)"
   ]
  },
  {
   "cell_type": "code",
   "execution_count": null,
   "metadata": {
    "collapsed": false,
    "jupyter": {
     "outputs_hidden": false
    },
    "pycharm": {
     "name": "#%%\n"
    }
   },
   "outputs": [],
   "source": [
    "tvdSss = toolz.pipe(\n",
    "    trajectories,\n",
    "    toolz.get_in([project_name, well_name]),\n",
    "    lambda t: t.GetTvdArray(DepthDatum.SeaLevel),\n",
    "    toolz.map(lambda ne: onq.as_measurement(project_units[project_name].LENGTH, option.maybe(ne))),\n",
    "    list,\n",
    "    toolz.get(samples),\n",
    "    toolz.map(lambda e: f'{e.magnitude:.4f} {e.units:~P}'),\n",
    "    list,\n",
    ")\n",
    "pprint.pprint(tvdSss)"
   ]
  },
  {
   "cell_type": "code",
   "execution_count": null,
   "metadata": {
    "collapsed": false,
    "jupyter": {
     "outputs_hidden": false
    },
    "pycharm": {
     "name": "#%%\n"
    }
   },
   "outputs": [],
   "source": [
    "inclinations = toolz.pipe(\n",
    "    trajectories,\n",
    "    toolz.get_in([project_name, well_name]),\n",
    "    lambda t: t.GetInclinationArray(),\n",
    "    toolz.map(lambda ne: onq.as_measurement(units.Common.ANGLE, option.maybe(ne))),\n",
    "    list,\n",
    "    toolz.get(samples),\n",
    "    toolz.map(lambda e: f'{e.magnitude:.4f} {e.units:~P}'),\n",
    "    list,\n",
    ")\n",
    "pprint.pprint(inclinations)"
   ]
  },
  {
   "cell_type": "code",
   "execution_count": null,
   "metadata": {
    "collapsed": false,
    "jupyter": {
     "outputs_hidden": false
    },
    "pycharm": {
     "name": "#%%\n"
    }
   },
   "outputs": [],
   "source": [
    "azimuths = toolz.pipe(\n",
    "    trajectories,\n",
    "    toolz.get_in([project_name, well_name]),\n",
    "    lambda t: t.GetAzimuthEastOfNorthArray(),\n",
    "    toolz.map(lambda ne: onq.as_measurement(units.Common.ANGLE, option.maybe(ne))),\n",
    "    list,\n",
    "    toolz.get(samples),\n",
    "    toolz.map(lambda e: f'{e.magnitude:.4f} {e.units:~P}'),\n",
    "    list,\n",
    ")\n",
    "pprint.pprint(azimuths)"
   ]
  },
  {
   "cell_type": "code",
   "execution_count": null,
   "metadata": {
    "collapsed": false,
    "jupyter": {
     "outputs_hidden": false
    },
    "pycharm": {
     "name": "#%%\n"
    }
   },
   "outputs": [],
   "source": [
    "mdKbs = toolz.pipe(\n",
    "    trajectories,\n",
    "    toolz.get_in([project_name, well_name]),\n",
    "    lambda t: t.GetMdKbArray(),\n",
    "    toolz.map(lambda ne: onq.as_measurement(project_units[project_name].LENGTH, option.maybe(ne))),\n",
    "    list,\n",
    "    toolz.get(samples),\n",
    "    toolz.map(lambda e: f'{e.magnitude:.4f} {e.units:~P}'),\n",
    "    list,\n",
    ")\n",
    "pprint.pprint(mdKbs)"
   ]
  },
  {
   "cell_type": "code",
   "execution_count": null,
   "metadata": {},
   "outputs": [],
   "source": [
    "frame_data = {\n",
    "    'field': [project_name] * len(samples),\n",
    "    'well': [well_name] * len(samples),\n",
    "    'index': samples,\n",
    "    'easting': eastings,\n",
    "    'northing': northings,\n",
    "    'tvdss': tvdSss,\n",
    "    'inclination': inclinations,\n",
    "    'azimuth': azimuths,\n",
    "    'mdkb': mdKbs,\n",
    "}"
   ]
  },
  {
   "cell_type": "code",
   "execution_count": null,
   "metadata": {},
   "outputs": [],
   "source": [
    "pd.DataFrame(data=frame_data)"
   ]
  },
  {
   "cell_type": "code",
   "execution_count": null,
   "metadata": {},
   "outputs": [],
   "source": []
  }
 ],
 "metadata": {
  "kernelspec": {
   "display_name": "Python 3 (ipykernel)",
   "language": "python",
   "name": "python3"
  },
  "language_info": {
   "codemirror_mode": {
    "name": "ipython",
    "version": 3
   },
   "file_extension": ".py",
   "mimetype": "text/x-python",
   "name": "python",
   "nbconvert_exporter": "python",
   "pygments_lexer": "ipython3",
   "version": "3.8.7"
  }
 },
 "nbformat": 4,
 "nbformat_minor": 4
}
