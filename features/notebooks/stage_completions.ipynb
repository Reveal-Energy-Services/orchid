{
 "cells": [
  {
   "cell_type": "code",
   "execution_count": null,
   "metadata": {},
   "outputs": [],
   "source": [
    "import json\n",
    "import pathlib\n",
    "import zipfile"
   ]
  },
  {
   "cell_type": "code",
   "execution_count": null,
   "metadata": {},
   "outputs": [],
   "source": [
    "import numpy as np\n",
    "import matplotlib.pyplot as plt\n",
    "import pandas as pd\n",
    "import seaborn as sns\n",
    "import scipy"
   ]
  },
  {
   "cell_type": "code",
   "execution_count": null,
   "metadata": {},
   "outputs": [],
   "source": [
    "import pendulum as pdt\n",
    "import toolz.curried as toolz"
   ]
  },
  {
   "cell_type": "code",
   "execution_count": null,
   "metadata": {},
   "outputs": [],
   "source": [
    "project_filenames = {\n",
    "    'bakken': 'frankNstein_Bakken_UTM13_FEET.ifrac',\n",
    "    'montney': 'Project-frankNstein_Montney_UTM13_METERS.ifrac',\n",
    "    'permian': 'Project_frankNstein_Permian_UTM13_FEET.ifrac',\n",
    "}"
   ]
  },
  {
   "cell_type": "code",
   "execution_count": null,
   "metadata": {},
   "outputs": [],
   "source": [
    "test_data_path = pathlib.Path('c:/src/Orchid.IntegrationTestData/')\n",
    "project_path_names = toolz.valmap(lambda fn: test_data_path.joinpath(fn), project_filenames)\n",
    "project_path_names"
   ]
  },
  {
   "cell_type": "code",
   "execution_count": null,
   "metadata": {},
   "outputs": [],
   "source": [
    "def project_json(path):\n",
    "    with zipfile.ZipFile(path) as archive:\n",
    "        return json.loads(archive.read('project.json'))"
   ]
  },
  {
   "cell_type": "code",
   "execution_count": null,
   "metadata": {},
   "outputs": [],
   "source": [
    "bakken_project_json = project_json(project_path_names['bakken'])"
   ]
  },
  {
   "cell_type": "code",
   "execution_count": null,
   "metadata": {},
   "outputs": [],
   "source": [
    "bakken_wells = {w['Name']: w for w in toolz.get_in(['Object', 'Wells'], bakken_project_json)}"
   ]
  },
  {
   "cell_type": "code",
   "execution_count": null,
   "metadata": {},
   "outputs": [],
   "source": [
    "def string_to_date_time(i):\n",
    "    column_name, value = i\n",
    "    \n",
    "    def to_pandas_timestamp(time_text):\n",
    "        if time_text != '0001-01-01T00:00:00.0000000':\n",
    "            result = pd.Timestamp(pdt.parse(time_text))\n",
    "        else:\n",
    "            result = pd.NaT\n",
    "        return result\n",
    "    \n",
    "    if column_name == 'StartTime':\n",
    "        return column_name, to_pandas_timestamp(value)\n",
    "    elif column_name == 'StopTime':\n",
    "        return column_name, to_pandas_timestamp(value)\n",
    "    else:\n",
    "        return column_name, value\n",
    "    \n",
    "def stage_details(s):\n",
    "    result = toolz.pipe(\n",
    "        s,\n",
    "        toolz.keyfilter(lambda n: n in {'DisplayStageNumber', 'GlobalStageSequenceNumber', 'StartTime', 'StopTime'}),\n",
    "        toolz.itemmap(string_to_date_time),\n",
    "    )\n",
    "    return result\n",
    "\n",
    "def stages(project, well):\n",
    "    result = toolz.pipe(\n",
    "        toolz.get_in([well, 'Stages'], bakken_wells),\n",
    "        toolz.map(stage_details),\n",
    "        toolz.map(lambda s: toolz.merge({'Project': project, 'Well': well}, s)),\n",
    "        list,\n",
    "    )\n",
    "    return result"
   ]
  },
  {
   "cell_type": "code",
   "execution_count": null,
   "metadata": {},
   "outputs": [],
   "source": [
    "# stages('bakken', 'Demo_1H')\n",
    "# stages('bakken', 'Demo_2H')\n",
    "# stages('bakken', 'Demo_3H')\n",
    "# stages('bakken', 'Demo_4H')"
   ]
  },
  {
   "cell_type": "code",
   "execution_count": null,
   "metadata": {},
   "outputs": [],
   "source": [
    "bakken_stages_seq = toolz.concat([\n",
    "    stages('bakken', 'Demo_1H'),\n",
    "    stages('bakken', 'Demo_2H'),\n",
    "    stages('bakken', 'Demo_3H'),\n",
    "    stages('bakken', 'Demo_4H'),\n",
    "])"
   ]
  },
  {
   "cell_type": "code",
   "execution_count": null,
   "metadata": {},
   "outputs": [],
   "source": [
    "bakken_stages = pd.DataFrame(data=bakken_stages_seq)"
   ]
  },
  {
   "cell_type": "code",
   "execution_count": null,
   "metadata": {},
   "outputs": [],
   "source": [
    "bakken_stages"
   ]
  },
  {
   "cell_type": "code",
   "execution_count": null,
   "metadata": {},
   "outputs": [],
   "source": [
    "stages_by_seq_no = bakken_stages.set_index('GlobalStageSequenceNumber').sort_index()\n",
    "stages_by_seq_no"
   ]
  },
  {
   "cell_type": "code",
   "execution_count": null,
   "metadata": {},
   "outputs": [],
   "source": [
    "previous_treatment_starts = stages_by_seq_no.loc[2:, 'StartTime'].to_frame()\n",
    "previous_treatment_starts.columns = ['PreviousTreatmentStart']\n",
    "previous_treatment_starts"
   ]
  },
  {
   "cell_type": "code",
   "execution_count": null,
   "metadata": {
    "collapsed": false,
    "jupyter": {
     "outputs_hidden": false
    },
    "pycharm": {
     "name": "#%%\n"
    }
   },
   "outputs": [],
   "source": [
    "stages_with_previous = pd.concat([stages_by_seq_no, previous_treatment_starts], axis=1, copy=False)\n",
    "stages_with_previous"
   ]
  },
  {
   "cell_type": "code",
   "execution_count": null,
   "metadata": {},
   "outputs": [],
   "source": [
    "stages_with_previous['Switchover'] = (stages_with_previous['StopTime'] - stages_with_previous['PreviousTreatmentStart'])\n",
    "stages_with_previous"
   ]
  },
  {
   "cell_type": "code",
   "execution_count": null,
   "metadata": {},
   "outputs": [],
   "source": [
    "stages_with_previous['Switchover'] = stages_with_previous['Switchover'].apply(lambda ptd: ptd.total_seconds())\n",
    "stages_with_previous"
   ]
  },
  {
   "cell_type": "code",
   "execution_count": null,
   "metadata": {},
   "outputs": [],
   "source": []
  }
 ],
 "metadata": {
  "kernelspec": {
   "display_name": "Python 3 (ipykernel)",
   "language": "python",
   "name": "python3"
  },
  "language_info": {
   "codemirror_mode": {
    "name": "ipython",
    "version": 3
   },
   "file_extension": ".py",
   "mimetype": "text/x-python",
   "name": "python",
   "nbconvert_exporter": "python",
   "pygments_lexer": "ipython3",
   "version": "3.8.7"
  }
 },
 "nbformat": 4,
 "nbformat_minor": 4
}
