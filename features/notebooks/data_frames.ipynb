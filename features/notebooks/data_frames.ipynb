{
 "cells": [
  {
   "cell_type": "code",
   "execution_count": null,
   "metadata": {
    "collapsed": false,
    "jupyter": {
     "outputs_hidden": false
    },
    "pycharm": {
     "name": "#%%\n"
    }
   },
   "outputs": [],
   "source": [
    "import enum\n",
    "import pathlib\n",
    "import random"
   ]
  },
  {
   "cell_type": "code",
   "execution_count": null,
   "metadata": {
    "collapsed": false,
    "jupyter": {
     "outputs_hidden": false
    },
    "pycharm": {
     "name": "#%%\n"
    }
   },
   "outputs": [],
   "source": [
    "import numpy as np\n",
    "import matplotlib.pyplot as plt\n",
    "import pandas as pd\n",
    "import seaborn as sns"
   ]
  },
  {
   "cell_type": "code",
   "execution_count": null,
   "outputs": [],
   "source": [
    "import option\n",
    "import toolz.curried as toolz"
   ],
   "metadata": {
    "collapsed": false,
    "pycharm": {
     "name": "#%%\n"
    }
   }
  },
  {
   "cell_type": "code",
   "execution_count": null,
   "outputs": [],
   "source": [
    "from orchid import (project_loader as opl)"
   ],
   "metadata": {
    "collapsed": false,
    "pycharm": {
     "name": "#%%\n"
    }
   }
  },
  {
   "cell_type": "code",
   "execution_count": null,
   "metadata": {
    "collapsed": false,
    "jupyter": {
     "outputs_hidden": false
    },
    "pycharm": {
     "name": "#%%\n"
    }
   },
   "outputs": [],
   "source": [
    "# noinspection PyUnresolvedReferences\n",
    "from System import DBNull, DateTime, DateTimeOffset, TimeSpan\n",
    "# noinspection PyUnresolvedReferences\n",
    "import UnitsNet"
   ]
  },
  {
   "cell_type": "code",
   "execution_count": null,
   "metadata": {
    "collapsed": false,
    "jupyter": {
     "outputs_hidden": false
    },
    "pycharm": {
     "name": "#%%\n"
    }
   },
   "outputs": [],
   "source": [
    "project_filenames = {\n",
    "    'permian-u': 'Project-frankNstein_Permian_UTM13FT_DF_PR2298_vs263.ifrac',\n",
    "    'permian-c': 'Project-frankNstein_Permian_UTM13FT_0412_PjtDataFrame.ifrac',\n",
    "    'gng': 'GnG_DemoProject_wDataFrames.ifrac',\n",
    "}"
   ]
  },
  {
   "cell_type": "code",
   "execution_count": null,
   "metadata": {
    "collapsed": false,
    "jupyter": {
     "outputs_hidden": false
    },
    "pycharm": {
     "name": "#%%\n"
    }
   },
   "outputs": [],
   "source": [
    "test_data_path = pathlib.Path('c:/src/Orchid.IntegrationTestData/')\n",
    "project_path_names = toolz.valmap(lambda fn: test_data_path.joinpath(fn), project_filenames)\n",
    "project_path_names"
   ]
  },
  {
   "cell_type": "code",
   "execution_count": null,
   "metadata": {
    "collapsed": false,
    "jupyter": {
     "outputs_hidden": false
    },
    "pycharm": {
     "name": "#%%\n"
    }
   },
   "outputs": [],
   "source": [
    "projects = toolz.valmap(\n",
    "    lambda pn: opl.ProjectLoader(str(pn)).native_project(),\n",
    "    project_path_names)\n",
    "projects"
   ]
  },
  {
   "cell_type": "code",
   "execution_count": null,
   "metadata": {
    "collapsed": false,
    "jupyter": {
     "outputs_hidden": false
    },
    "pycharm": {
     "name": "#%%\n"
    }
   },
   "outputs": [],
   "source": [
    "def make_project_data_frames_by_id(project):\n",
    "    return {df.ObjectId: df for df in project.DataFrames.Items}\n",
    "\n",
    "project_net_data_frames_by_id = toolz.pipe(\n",
    "    projects,\n",
    "    toolz.valmap(make_project_data_frames_by_id),\n",
    ")\n",
    "project_net_data_frames_by_id"
   ]
  },
  {
   "cell_type": "code",
   "execution_count": null,
   "metadata": {
    "collapsed": false,
    "jupyter": {
     "outputs_hidden": false
    },
    "pycharm": {
     "name": "#%%\n"
    }
   },
   "outputs": [],
   "source": [
    "def make_project_data_frames_by_name(project):\n",
    "    return {df.Name: df for df in project.DataFrames.Items}\n",
    "\n",
    "project_net_data_frames_by_name = toolz.pipe(\n",
    "    projects,\n",
    "    toolz.valmap(make_project_data_frames_by_name),\n",
    ")\n",
    "project_net_data_frames_by_name"
   ]
  },
  {
   "cell_type": "code",
   "execution_count": null,
   "outputs": [],
   "source": [
    "len(list(toolz.get('permian-u', project_net_data_frames_by_name)))"
   ],
   "metadata": {
    "collapsed": false,
    "pycharm": {
     "name": "#%%\n"
    }
   }
  },
  {
   "cell_type": "code",
   "execution_count": null,
   "metadata": {
    "collapsed": false,
    "jupyter": {
     "outputs_hidden": false
    },
    "pycharm": {
     "name": "#%%\n"
    }
   },
   "outputs": [],
   "source": [
    "len(list(toolz.get('permian-c', project_net_data_frames_by_name)))"
   ]
  },
  {
   "cell_type": "code",
   "execution_count": null,
   "metadata": {
    "collapsed": false,
    "jupyter": {
     "outputs_hidden": false
    },
    "pycharm": {
     "name": "#%%\n"
    }
   },
   "outputs": [],
   "source": [
    "len(list(toolz.get('gng', project_net_data_frames_by_name)))"
   ]
  },
  {
   "cell_type": "code",
   "execution_count": null,
   "outputs": [],
   "source": [
    "POTENTIALLY_CORRUPTED = ' (Potentially Corrupted)'\n",
    "\n",
    "class PermianFrames(enum.Enum):\n",
    "    PROJECT = 'Project Data Frame 01'\n",
    "    FDI = 'FDI Observations'\n",
    "    MICROSEISMIC = 'Microseismic Data Frame 01' + POTENTIALLY_CORRUPTED\n",
    "    STAGE = 'Stage Data Frame 01'\n",
    "    WELL_LOG = 'Well Log Set Data Frame 01'\n",
    "    C2_STAGE_12 = 'C2-stg12_Xft_Permian_Edited_19-Nov-2018'\n",
    "    FAULT_TRACE = 'Fault Trace Set Data Frame 01'\n",
    "    FAULT_SET = 'Fault Set Data Frame 01'\n",
    "\n",
    "class PermianCorruptedFrames(enum.Enum):\n",
    "    PROJECT = 'Project Data Frame 01' + POTENTIALLY_CORRUPTED\n",
    "    FDI = 'FDI Observations' + POTENTIALLY_CORRUPTED\n",
    "    MICROSEISMIC = 'C3-Microseismic Data Frame 01' + POTENTIALLY_CORRUPTED\n",
    "\n",
    "class GnGFrames(enum.Enum):\n",
    "    PROJECT = 'Project Data Frame 01'\n",
    "    FAULT_TRACE = 'Fault Trace Set Data Frame 01'\n",
    "    STAGE = 'Stage Data Frame 01'\n",
    "    WELL_LOG = 'Well Log Set Data Frame 01'\n",
    "    HORIZON = 'Horizon Marker Set Data Frame01'"
   ],
   "metadata": {
    "collapsed": false,
    "pycharm": {
     "name": "#%%\n"
    }
   }
  },
  {
   "cell_type": "code",
   "execution_count": null,
   "outputs": [],
   "source": [
    "permian_fault_trace_net_data_frame = toolz.get_in(\n",
    "    ['permian-u', PermianFrames.FAULT_TRACE.value], project_net_data_frames_by_name)\n",
    "print([c.ColumnName for c in permian_fault_trace_net_data_frame.DataTable.Columns])\n",
    "print(len(permian_fault_trace_net_data_frame.DataTable.Rows))"
   ],
   "metadata": {
    "collapsed": false,
    "pycharm": {
     "name": "#%%\n"
    }
   }
  },
  {
   "cell_type": "code",
   "execution_count": null,
   "outputs": [],
   "source": [
    "permian_fault_set_net_data_frame = toolz.get_in(\n",
    "    ['permian-u', PermianFrames.FAULT_SET.value], project_net_data_frames_by_name)\n",
    "print([c.ColumnName for c in permian_fault_set_net_data_frame.DataTable.Columns])\n",
    "print(len(permian_fault_set_net_data_frame.DataTable.Rows))"
   ],
   "metadata": {
    "collapsed": false,
    "pycharm": {
     "name": "#%%\n"
    }
   }
  },
  {
   "cell_type": "code",
   "execution_count": null,
   "metadata": {
    "collapsed": false,
    "jupyter": {
     "outputs_hidden": false
    },
    "pycharm": {
     "name": "#%%\n"
    }
   },
   "outputs": [],
   "source": [
    "def extract_net_data_frame_identities(df):\n",
    "    return {\n",
    "        'object_id': str(df.ObjectId),\n",
    "        'name': df.Name,\n",
    "        'display_name': df.DisplayName,\n",
    "    }\n",
    "\n",
    "@toolz.curry\n",
    "def build_net_data_frame_identities(net_dfs):\n",
    "    return toolz.map(extract_net_data_frame_identities, net_dfs)\n",
    "    \n",
    "net_data_frame_identities = toolz.pipe(\n",
    "    project_net_data_frames_by_name,\n",
    "    toolz.valmap(lambda dfs_by_name: dfs_by_name.values()),\n",
    "    toolz.valmap(build_net_data_frame_identities),\n",
    "    toolz.valmap(list),\n",
    ")\n",
    "net_data_frame_identities"
   ]
  },
  {
   "cell_type": "code",
   "execution_count": null,
   "metadata": {
    "collapsed": false,
    "jupyter": {
     "outputs_hidden": false
    },
    "pycharm": {
     "name": "#%%\n"
    }
   },
   "outputs": [],
   "source": [
    "def make_data_frame_identities_summary(item):\n",
    "    project_name, ndf_id_sums = item\n",
    "    summaries = toolz.pipe(\n",
    "        ndf_id_sums,\n",
    "        toolz.map(lambda ndf_id_sum: toolz.merge(ndf_id_sum, {'project': project_name})),\n",
    "    )\n",
    "    return project_name, summaries\n",
    "\n",
    "data_frame_identities_summary = toolz.itemmap(make_data_frame_identities_summary,\n",
    "                                              net_data_frame_identities)\n",
    "data_frame_identities_summary"
   ]
  },
  {
   "cell_type": "code",
   "execution_count": null,
   "outputs": [],
   "source": [
    "pd.DataFrame(data=data_frame_identities_summary['permian-u'],\n",
    "             columns=['project', 'object_id', 'name', 'display_name'])"
   ],
   "metadata": {
    "collapsed": false,
    "pycharm": {
     "name": "#%%\n"
    }
   }
  },
  {
   "cell_type": "code",
   "execution_count": null,
   "metadata": {
    "collapsed": false,
    "jupyter": {
     "outputs_hidden": false
    },
    "pycharm": {
     "name": "#%%\n"
    }
   },
   "outputs": [],
   "source": [
    "pd.DataFrame(data=data_frame_identities_summary['permian-c'],\n",
    "             columns=['project', 'object_id', 'name', 'display_name'])"
   ]
  },
  {
   "cell_type": "code",
   "execution_count": null,
   "metadata": {
    "collapsed": false,
    "jupyter": {
     "outputs_hidden": false
    },
    "pycharm": {
     "name": "#%%\n"
    }
   },
   "outputs": [],
   "source": [
    "pd.DataFrame(data=data_frame_identities_summary['gng'], \n",
    "             columns=['project', 'object_id', 'name', 'display_name'])"
   ]
  },
  {
   "cell_type": "code",
   "execution_count": null,
   "metadata": {
    "collapsed": false,
    "jupyter": {
     "outputs_hidden": false
    },
    "pycharm": {
     "name": "#%%\n"
    }
   },
   "outputs": [],
   "source": [
    "permian_project_01 = toolz.get_in(['permian-u', PermianFrames.PROJECT.value],\n",
    "                                  project_net_data_frames_by_name)\n",
    "permian_corrupted_project_01 = toolz.get_in(['permian-c', PermianCorruptedFrames.PROJECT.value],\n",
    "                                            project_net_data_frames_by_name)"
   ]
  },
  {
   "cell_type": "code",
   "execution_count": null,
   "metadata": {
    "collapsed": false,
    "jupyter": {
     "outputs_hidden": false
    },
    "pycharm": {
     "name": "#%%\n"
    }
   },
   "outputs": [],
   "source": [
    "option.maybe(permian_corrupted_project_01.DisplayName).unwrap_or('foo')"
   ]
  },
  {
   "cell_type": "code",
   "execution_count": null,
   "metadata": {
    "collapsed": false,
    "jupyter": {
     "outputs_hidden": false
    },
    "pycharm": {
     "name": "#%%\n"
    }
   },
   "outputs": [],
   "source": [
    "# Adapted from code at\n",
    "# https://docs.microsoft.com/en-us/dotnet/framework/data/adonet/dataset-datatable-dataview/creating-a-datareader\n",
    "# retrieved on 18-Apr-2021.\n",
    "\n",
    "def table_row_to_dict(reader, row_no):\n",
    "    def map_value(rv, col_type):\n",
    "        if rv == DBNull.Value:\n",
    "            return None\n",
    "\n",
    "        if col_type == DateTimeOffset.UtcNow.GetType():\n",
    "            return rv.ToString('o')\n",
    "\n",
    "        if col_type == DateTime.UtcNow.GetType():\n",
    "            rv_text = rv.ToString('o')\n",
    "            print(f'\"{rv_text}\" {col_type}')\n",
    "            raise TypeError(f'Unexpected `DateTime` {rv_text}')\n",
    "\n",
    "        return rv\n",
    "\n",
    "    seed = {'Sample': row_no}\n",
    "    indices = range(reader.FieldCount)\n",
    "    names = [reader.GetName(i) for i in indices]\n",
    "    col_types = [reader.GetFieldType(i) for i in indices]\n",
    "    raw_values = [reader[name] for name in names]\n",
    "    values = toolz.map(map_value, raw_values, col_types)\n",
    "    table_result = dict(zip(names, values))\n",
    "    result = toolz.merge(seed, table_result)\n",
    "    return result\n",
    "\n",
    "def read_data_table(data_table):\n",
    "    reader = data_table.CreateDataReader()\n",
    "    row_nos = iter(range(len(data_table.Rows)))\n",
    "    try:\n",
    "        while True:\n",
    "            if reader.HasRows:\n",
    "                has_row = reader.Read()\n",
    "                while has_row:\n",
    "                    yield table_row_to_dict(reader, next(row_nos))\n",
    "                    has_row = reader.Read()\n",
    "            else:\n",
    "                return\n",
    "            if not reader.NextResult():\n",
    "                break\n",
    "    finally:\n",
    "        reader.Dispose()\n",
    "\n",
    "def table_to_data_frame(data_table):\n",
    "    return pd.DataFrame(data=[r for r in read_data_table(data_table)])"
   ]
  },
  {
   "cell_type": "code",
   "execution_count": null,
   "metadata": {
    "collapsed": false,
    "jupyter": {
     "outputs_hidden": false
    },
    "pycharm": {
     "name": "#%%\n"
    }
   },
   "outputs": [],
   "source": [
    "net_data_frame_to_pandas_data_frame = toolz.compose(table_to_data_frame,\n",
    "                                                    lambda net_df: net_df.DataTable)\n",
    "\n",
    "project_pandas_data_frames_by_name = toolz.pipe(\n",
    "    project_net_data_frames_by_name,\n",
    "    toolz.valmap(toolz.valmap(net_data_frame_to_pandas_data_frame)),\n",
    ")"
   ]
  },
  {
   "cell_type": "code",
   "execution_count": null,
   "outputs": [],
   "source": [
    "permian_fault_trace_data_frame = toolz.get_in(\n",
    "    ['permian-u', PermianFrames.FAULT_TRACE.value], project_pandas_data_frames_by_name)\n",
    "print(permian_fault_trace_data_frame)"
   ],
   "metadata": {
    "collapsed": false,
    "pycharm": {
     "name": "#%%\n"
    }
   }
  },
  {
   "cell_type": "code",
   "execution_count": null,
   "metadata": {
    "collapsed": false,
    "jupyter": {
     "outputs_hidden": false
    },
    "pycharm": {
     "name": "#%%\n"
    }
   },
   "outputs": [],
   "source": [
    "permian_fault_set_data_frame = toolz.get_in(\n",
    "    ['permian-u', PermianFrames.FAULT_SET.value], project_pandas_data_frames_by_name)\n",
    "print(permian_fault_set_data_frame)"
   ]
  },
  {
   "cell_type": "code",
   "execution_count": null,
   "metadata": {
    "collapsed": false,
    "jupyter": {
     "outputs_hidden": false
    },
    "pycharm": {
     "name": "#%%\n"
    }
   },
   "outputs": [],
   "source": [
    "all_indices = toolz.compose(list, range, len)\n",
    "\n",
    "@toolz.curry\n",
    "def sample_data_frame_column_indices(df):\n",
    "    all_candidates = all_indices(df.columns.values)\n",
    "\n",
    "    # Do nat sample the \"Sample\" column seeded at the beginning of the columns\n",
    "    no_sample_candidates = all_candidates[1:]\n",
    "\n",
    "    # Do not sample the \"ProjectName\" column if it is present\n",
    "    no_project_name_candidates = no_sample_candidates\n",
    "    try:\n",
    "        project_name_index = list(df.columns.values).index('ProjectName')\n",
    "        no_project_name_candidates.remove(project_name_index)\n",
    "    except ValueError:\n",
    "        pass\n",
    "\n",
    "    # Do not sample the last column\n",
    "    candidate_column_indices = no_project_name_candidates[:-1]\n",
    "\n",
    "    # Return empty sample indices if no candidates\n",
    "    if len(candidate_column_indices) == 0:\n",
    "        return []\n",
    "\n",
    "    # Randomly sample six columns from the candidates\n",
    "    random.shuffle(candidate_column_indices)\n",
    "\n",
    "    # Bracket the candidates with the indices of the \"Sample\" column and the last column\n",
    "    result = [0] + sorted(candidate_column_indices[:6]) + [len(df.columns) - 1]\n",
    "    return result\n",
    "\n",
    "@toolz.curry\n",
    "def sample_data_frame_row_indices(df):\n",
    "    all_candidates = all_indices(df)\n",
    "    if len(all_candidates) == 0:\n",
    "        # No rows so return empty sample indices\n",
    "        return []\n",
    "\n",
    "    if len(all_candidates) == 1:\n",
    "        # One row so return that row\n",
    "        return all_candidates\n",
    "\n",
    "    # At least two rows so skip the first and last row\n",
    "    candidate_row_indices = all_candidates[1:-1]\n",
    "\n",
    "    random.shuffle(candidate_row_indices)\n",
    "    # first row, a sorted, random sample of 6 rows, and the last row\n",
    "    result = [0] + sorted(candidate_row_indices[:6]) + [len(df) - 1]\n",
    "    return result"
   ]
  },
  {
   "cell_type": "code",
   "execution_count": null,
   "metadata": {
    "collapsed": false,
    "jupyter": {
     "outputs_hidden": false
    },
    "pycharm": {
     "name": "#%%\n"
    }
   },
   "outputs": [],
   "source": [
    "@toolz.curry\n",
    "def sample_data_frame_indices(indices_func, df):\n",
    "    return indices_func(df)"
   ]
  },
  {
   "cell_type": "code",
   "execution_count": null,
   "metadata": {
    "collapsed": false,
    "jupyter": {
     "outputs_hidden": false
    },
    "pycharm": {
     "name": "#%%\n"
    }
   },
   "outputs": [],
   "source": [
    "sampled_column_indices_by_name = toolz.valmap(toolz.valmap(sample_data_frame_column_indices),\n",
    "                                              project_pandas_data_frames_by_name)\n",
    "sampled_column_indices_by_name"
   ]
  },
  {
   "cell_type": "code",
   "execution_count": null,
   "metadata": {
    "collapsed": false,
    "jupyter": {
     "outputs_hidden": false
    },
    "pycharm": {
     "name": "#%%\n"
    }
   },
   "outputs": [],
   "source": [
    "sampled_row_indices_by_name = toolz.valmap(toolz.valmap(sample_data_frame_row_indices),\n",
    "                                           project_pandas_data_frames_by_name)\n",
    "sampled_row_indices_by_name"
   ]
  },
  {
   "cell_type": "code",
   "execution_count": null,
   "outputs": [],
   "source": [
    "for field_name in project_pandas_data_frames_by_name.keys():\n",
    "    for data_frame_name in project_pandas_data_frames_by_name[field_name].keys():\n",
    "        data_frame = toolz.get_in([field_name, data_frame_name], project_pandas_data_frames_by_name)\n",
    "        print(f'{field_name=}, {data_frame_name=}, {len(data_frame.columns.values)=}')\n",
    "        print(data_frame.columns.values)\n",
    "        print(f'Empty? {data_frame.empty}')\n",
    "        print(f'{len(data_frame)=}')"
   ],
   "metadata": {
    "collapsed": false,
    "pycharm": {
     "name": "#%%\n"
    }
   }
  },
  {
   "cell_type": "code",
   "execution_count": null,
   "metadata": {
    "collapsed": false,
    "jupyter": {
     "outputs_hidden": false
    },
    "pycharm": {
     "name": "#%%\n"
    }
   },
   "outputs": [],
   "source": [
    "def add_sample_numbers(items):\n",
    "    df, row_indices, column_indices = items\n",
    "    if df.empty:\n",
    "        return df, row_indices, column_indices\n",
    "\n",
    "    sample_index = (list(df.columns.values)).index('Sample')\n",
    "    for row_index in row_indices:\n",
    "        df.iloc[row_index, [sample_index]] = row_index\n",
    "    return df, row_indices, column_indices\n",
    "\n",
    "data_frames_to_sample_by_name = toolz.merge_with(toolz.merge_with(add_sample_numbers),\n",
    "                                                 project_pandas_data_frames_by_name,\n",
    "                                                 sampled_row_indices_by_name,\n",
    "                                                 sampled_column_indices_by_name)\n",
    "# data_frames_to_sample_by_name"
   ]
  },
  {
   "cell_type": "code",
   "execution_count": null,
   "metadata": {
    "collapsed": false,
    "jupyter": {
     "outputs_hidden": false
    },
    "pycharm": {
     "name": "#%%\n"
    }
   },
   "outputs": [],
   "source": [
    "def sample_data_frame(df, row_indices, column_indices):\n",
    "    if df.empty:\n",
    "        return df\n",
    "\n",
    "    result = df.iloc[row_indices, column_indices]\n",
    "    return result"
   ]
  },
  {
   "cell_type": "code",
   "execution_count": null,
   "metadata": {
    "collapsed": false,
    "jupyter": {
     "outputs_hidden": false
    },
    "pycharm": {
     "name": "#%%\n"
    }
   },
   "outputs": [],
   "source": [
    "sampled_project_data_frames_by_name = toolz.valmap(toolz.valmap(lambda e: sample_data_frame(*e)),\n",
    "                                                   data_frames_to_sample_by_name)\n",
    "# sampled_project_data_frames_by_name"
   ]
  },
  {
   "cell_type": "code",
   "execution_count": null,
   "outputs": [],
   "source": [
    "sampled_project_data_frames_by_name['permian-u'][PermianFrames.PROJECT.value]"
   ],
   "metadata": {
    "collapsed": false,
    "pycharm": {
     "name": "#%%\n"
    }
   }
  },
  {
   "cell_type": "code",
   "execution_count": null,
   "outputs": [],
   "source": [
    "sampled_project_data_frames_by_name['permian-u'][PermianFrames.FDI.value]"
   ],
   "metadata": {
    "collapsed": false,
    "pycharm": {
     "name": "#%%\n"
    }
   }
  },
  {
   "cell_type": "code",
   "execution_count": null,
   "outputs": [],
   "source": [
    "sampled_project_data_frames_by_name['permian-u'][PermianFrames.MICROSEISMIC.value]"
   ],
   "metadata": {
    "collapsed": false,
    "pycharm": {
     "name": "#%%\n"
    }
   }
  },
  {
   "cell_type": "code",
   "execution_count": null,
   "outputs": [],
   "source": [
    "sampled_project_data_frames_by_name['permian-u'][PermianFrames.STAGE.value]"
   ],
   "metadata": {
    "collapsed": false,
    "pycharm": {
     "name": "#%%\n"
    }
   }
  },
  {
   "cell_type": "code",
   "execution_count": null,
   "outputs": [],
   "source": [
    "sampled_project_data_frames_by_name['permian-u'][PermianFrames.WELL_LOG.value]"
   ],
   "metadata": {
    "collapsed": false,
    "pycharm": {
     "name": "#%%\n"
    }
   }
  },
  {
   "cell_type": "code",
   "execution_count": null,
   "outputs": [],
   "source": [
    "sampled_project_data_frames_by_name['permian-u'][PermianFrames.C2_STAGE_12.value]"
   ],
   "metadata": {
    "collapsed": false,
    "pycharm": {
     "name": "#%%\n"
    }
   }
  },
  {
   "cell_type": "code",
   "execution_count": null,
   "outputs": [],
   "source": [
    "sampled_project_data_frames_by_name['permian-u'][PermianFrames.FAULT_TRACE.value]"
   ],
   "metadata": {
    "collapsed": false,
    "pycharm": {
     "name": "#%%\n"
    }
   }
  },
  {
   "cell_type": "code",
   "execution_count": null,
   "outputs": [],
   "source": [
    "sampled_project_data_frames_by_name['permian-u'][PermianFrames.FAULT_SET.value]"
   ],
   "metadata": {
    "collapsed": false,
    "pycharm": {
     "name": "#%%\n"
    }
   }
  },
  {
   "cell_type": "code",
   "execution_count": null,
   "metadata": {
    "collapsed": false,
    "jupyter": {
     "outputs_hidden": false
    },
    "pycharm": {
     "name": "#%%\n"
    }
   },
   "outputs": [],
   "source": [
    "sampled_project_data_frames_by_name['permian-c'][PermianCorruptedFrames.PROJECT.value]"
   ]
  },
  {
   "cell_type": "code",
   "execution_count": null,
   "metadata": {
    "collapsed": false,
    "jupyter": {
     "outputs_hidden": false
    },
    "pycharm": {
     "name": "#%%\n"
    }
   },
   "outputs": [],
   "source": [
    "sampled_project_data_frames_by_name['permian-c'][PermianCorruptedFrames.FDI.value]"
   ]
  },
  {
   "cell_type": "code",
   "execution_count": null,
   "metadata": {
    "collapsed": false,
    "jupyter": {
     "outputs_hidden": false
    },
    "pycharm": {
     "name": "#%%\n"
    }
   },
   "outputs": [],
   "source": [
    "sampled_project_data_frames_by_name['permian-c'][PermianCorruptedFrames.MICROSEISMIC.value]"
   ]
  },
  {
   "cell_type": "code",
   "execution_count": null,
   "metadata": {
    "collapsed": false,
    "jupyter": {
     "outputs_hidden": false
    },
    "pycharm": {
     "name": "#%%\n"
    }
   },
   "outputs": [],
   "source": [
    "sampled_project_data_frames_by_name['gng'][GnGFrames.PROJECT.value]"
   ]
  },
  {
   "cell_type": "code",
   "execution_count": null,
   "metadata": {
    "collapsed": false,
    "jupyter": {
     "outputs_hidden": false
    },
    "pycharm": {
     "name": "#%%\n"
    }
   },
   "outputs": [],
   "source": [
    "sampled_project_data_frames_by_name['gng'][GnGFrames.FAULT_TRACE.value]"
   ]
  },
  {
   "cell_type": "code",
   "execution_count": null,
   "metadata": {
    "collapsed": false,
    "jupyter": {
     "outputs_hidden": false
    },
    "pycharm": {
     "name": "#%%\n"
    }
   },
   "outputs": [],
   "source": [
    "sampled_project_data_frames_by_name['gng'][GnGFrames.STAGE.value]"
   ]
  },
  {
   "cell_type": "code",
   "execution_count": null,
   "metadata": {
    "collapsed": false,
    "jupyter": {
     "outputs_hidden": false
    },
    "pycharm": {
     "name": "#%%\n"
    }
   },
   "outputs": [],
   "source": [
    "sampled_project_data_frames_by_name['gng'][GnGFrames.WELL_LOG.value]"
   ]
  },
  {
   "cell_type": "code",
   "execution_count": null,
   "metadata": {
    "collapsed": false,
    "jupyter": {
     "outputs_hidden": false
    },
    "pycharm": {
     "name": "#%%\n"
    }
   },
   "outputs": [],
   "source": [
    "sampled_project_data_frames_by_name['gng'][GnGFrames.HORIZON.value]"
   ]
  },
  {
   "cell_type": "code",
   "execution_count": null,
   "metadata": {
    "collapsed": false,
    "jupyter": {
     "outputs_hidden": false
    },
    "pycharm": {
     "name": "#%%\n"
    }
   },
   "outputs": [],
   "source": []
  }
 ],
 "metadata": {
  "kernelspec": {
   "display_name": "Python 3",
   "language": "python",
   "name": "python3"
  },
  "language_info": {
   "codemirror_mode": {
    "name": "ipython",
    "version": 3
   },
   "file_extension": ".py",
   "mimetype": "text/x-python",
   "name": "python",
   "nbconvert_exporter": "python",
   "pygments_lexer": "ipython3",
   "version": "3.8.7"
  }
 },
 "nbformat": 4,
 "nbformat_minor": 4
}