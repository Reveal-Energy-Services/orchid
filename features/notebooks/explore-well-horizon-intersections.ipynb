{
 "cells": [
  {
   "cell_type": "code",
   "execution_count": null,
   "id": "155ec2cd",
   "metadata": {
    "collapsed": false,
    "jupyter": {
     "outputs_hidden": false
    },
    "pycharm": {
     "is_executing": true
    }
   },
   "outputs": [],
   "source": [
    "import pathlib\n",
    "import toolz.curried as toolz"
   ]
  },
  {
   "cell_type": "code",
   "execution_count": null,
   "id": "6a3a9d1e",
   "metadata": {
    "collapsed": false,
    "jupyter": {
     "outputs_hidden": false
    },
    "pycharm": {
     "is_executing": true
    }
   },
   "outputs": [],
   "source": [
    "import orchid"
   ]
  },
  {
   "cell_type": "code",
   "execution_count": null,
   "id": "50163468-d0b0-40b0-a353-957264096bf8",
   "metadata": {},
   "outputs": [],
   "source": [
    "import clr\n",
    "clr.AddReference('System.Linq')"
   ]
  },
  {
   "cell_type": "code",
   "execution_count": null,
   "id": "badb8ace-482a-424c-ac7b-758a8d36061b",
   "metadata": {
    "collapsed": false,
    "jupyter": {
     "outputs_hidden": false
    },
    "pycharm": {
     "name": "#%%\n"
    }
   },
   "outputs": [],
   "source": [
    "from Orchid.FractureDiagnostics.Settings import (IProjectUserData, Variant)"
   ]
  },
  {
   "cell_type": "code",
   "execution_count": null,
   "id": "f1bdaa1c-8c30-421f-897c-1a6e12f3de9e",
   "metadata": {
    "collapsed": false,
    "jupyter": {
     "outputs_hidden": false
    },
    "pycharm": {
     "name": "#%%\n"
    }
   },
   "outputs": [],
   "source": [
    "# noinspection PyUnresolvedReferences\n",
    "from Orchid.FractureDiagnostics import IProject, FormationConnectionType\n",
    "# noinspection PyUnresolvedReferences\n",
    "from Orchid.FractureDiagnostics.Factories import FractureDiagnosticsFactory\n",
    "# noinspection System\n",
    "from System import (DateTime, Double, Guid, Nullable, String, UInt32)\n",
    "# noinspection System\n",
    "import System.Linq\n",
    "# noinspection PyUnresolvedReferences\n",
    "import UnitsNet"
   ]
  },
  {
   "cell_type": "code",
   "execution_count": null,
   "id": "4892c493-ec18-4d5f-8953-2282635937e0",
   "metadata": {
    "collapsed": false,
    "jupyter": {
     "outputs_hidden": false
    }
   },
   "outputs": [],
   "source": [
    "project_filenames = {\n",
    "    'permian': '05PermianProjectQ3_2022_DataFrames.ifrac',\n",
    "}"
   ]
  },
  {
   "cell_type": "code",
   "execution_count": null,
   "id": "496e825a",
   "metadata": {
    "collapsed": false,
    "jupyter": {
     "outputs_hidden": false
    }
   },
   "outputs": [],
   "source": [
    "# update test path for local testing\n",
    "test_data_path = pathlib.Path('d:/source/Orchid.IntegrationTestData/')\n",
    "project_path_names = toolz.valmap(lambda fn: test_data_path.joinpath(fn), project_filenames)\n",
    "project_path_names"
   ]
  },
  {
   "cell_type": "code",
   "execution_count": null,
   "id": "02118ad7",
   "metadata": {
    "collapsed": false,
    "jupyter": {
     "outputs_hidden": false
    }
   },
   "outputs": [],
   "source": [
    "projects = toolz.valmap(\n",
    "    lambda pn: orchid.load_project(str(pn)),\n",
    "    project_path_names)\n",
    "projects"
   ]
  },
  {
   "cell_type": "code",
   "execution_count": null,
   "id": "15262e95",
   "metadata": {
    "collapsed": false,
    "jupyter": {
     "outputs_hidden": false
    }
   },
   "outputs": [],
   "source": [
    "the_project = projects['permian']\n",
    "the_project"
   ]
  },
  {
   "cell_type": "code",
   "execution_count": null,
   "id": "a154f943",
   "metadata": {
    "collapsed": false,
    "jupyter": {
     "outputs_hidden": false
    }
   },
   "outputs": [],
   "source": [
    "the_well = {w.name: w for w in the_project.wells().find_by_name('P1')}\n",
    "the_well"
   ]
  },
  {
   "cell_type": "code",
   "execution_count": null,
   "id": "934a192c-5de2-43b0-a0d3-cc8f1dd1ad22",
   "metadata": {},
   "outputs": [],
   "source": [
    "the_net_project = the_project.dom_object\n",
    "the_net_project"
   ]
  },
  {
   "cell_type": "code",
   "execution_count": null,
   "id": "b8bcb278-e04f-43ad-bf82-012b99d15c65",
   "metadata": {},
   "outputs": [],
   "source": [
    "# the project knows about all horizon markers\n",
    "the_net_project.HorizonMarkerSets.Items"
   ]
  },
  {
   "cell_type": "code",
   "execution_count": null,
   "id": "a9534bfe-6cf6-482b-ad6f-759fd1a7c3e6",
   "metadata": {},
   "outputs": [],
   "source": []
  }
 ],
 "metadata": {
  "kernelspec": {
   "display_name": "Python 3 (ipykernel)",
   "language": "python",
   "name": "python3"
  },
  "language_info": {
   "codemirror_mode": {
    "name": "ipython",
    "version": 3
   },
   "file_extension": ".py",
   "mimetype": "text/x-python",
   "name": "python",
   "nbconvert_exporter": "python",
   "pygments_lexer": "ipython3",
   "version": "3.10.9"
  }
 },
 "nbformat": 4,
 "nbformat_minor": 5
}
