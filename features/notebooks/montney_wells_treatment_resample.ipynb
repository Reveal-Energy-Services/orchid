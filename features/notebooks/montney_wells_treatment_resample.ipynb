{
 "cells": [
  {
   "cell_type": "code",
   "execution_count": null,
   "metadata": {
    "collapsed": false,
    "jupyter": {
     "outputs_hidden": false
    },
    "pycharm": {
     "name": "#%%\n"
    }
   },
   "outputs": [],
   "source": [
    "import pandas as pd"
   ]
  },
  {
   "cell_type": "code",
   "execution_count": null,
   "metadata": {},
   "outputs": [],
   "source": [
    "from orchid import project_loader as opl"
   ]
  },
  {
   "cell_type": "code",
   "execution_count": null,
   "metadata": {
    "collapsed": false,
    "jupyter": {
     "outputs_hidden": false
    },
    "pycharm": {
     "name": "#%%\n"
    }
   },
   "outputs": [],
   "source": [
    "import toolz.curried as toolz"
   ]
  },
  {
   "cell_type": "code",
   "execution_count": null,
   "metadata": {
    "collapsed": false,
    "jupyter": {
     "outputs_hidden": false
    },
    "pycharm": {
     "name": "#%%\n"
    }
   },
   "outputs": [],
   "source": [
    "from Orchid.FractureDiagnostics.RatioTypes import ProppantConcentration, SlurryRate\n",
    "import UnitsNet"
   ]
  },
  {
   "cell_type": "code",
   "execution_count": null,
   "metadata": {},
   "outputs": [],
   "source": [
    "# Path name of whatever project you wish to load.\n",
    "loader = opl.ProjectLoader(\n",
    "    'c:/src/Orchid.IntegrationTestData/Project-frankNstein_Montney_UTM13_METERS.ifrac')"
   ]
  },
  {
   "cell_type": "code",
   "execution_count": null,
   "metadata": {},
   "outputs": [],
   "source": [
    "# The returned value from `native_project` is . NET project. NOTE: each instance \n",
    "# of the `ProjectLoader` class loads **exactly one** .NET project. To load a \n",
    "# different project, you must create a new `ProjectLoader` instance.\n",
    "native_project = loader.native_project()"
   ]
  },
  {
   "cell_type": "code",
   "execution_count": null,
   "metadata": {},
   "outputs": [],
   "source": [
    "all_wells = native_project.Wells.Items"
   ]
  },
  {
   "cell_type": "code",
   "execution_count": null,
   "metadata": {
    "pycharm": {
     "name": "#%%\n"
    }
   },
   "outputs": [],
   "source": [
    "well_of_interest = all_wells[2]  # 'Hori_03'"
   ]
  },
  {
   "cell_type": "code",
   "execution_count": null,
   "metadata": {},
   "outputs": [],
   "source": [
    "well_of_interest.Name"
   ]
  },
  {
   "cell_type": "code",
   "execution_count": null,
   "metadata": {},
   "outputs": [],
   "source": [
    "all_stages_for_well_of_interest = well_of_interest.Stages.Items"
   ]
  },
  {
   "cell_type": "code",
   "execution_count": null,
   "metadata": {
    "collapsed": false,
    "jupyter": {
     "outputs_hidden": false
    },
    "pycharm": {
     "name": "#%%\n"
    }
   },
   "outputs": [],
   "source": [
    "sampled_stage_number = 22"
   ]
  },
  {
   "cell_type": "code",
   "execution_count": null,
   "metadata": {
    "collapsed": false,
    "jupyter": {
     "outputs_hidden": false
    },
    "pycharm": {
     "name": "#%%\n"
    }
   },
   "outputs": [],
   "source": [
    "stage_of_interest = all_stages_for_well_of_interest[sampled_stage_number]\n",
    "treatment_curves_of_interest = {c.SampledQuantityName: c for c in stage_of_interest.TreatmentCurves.Items}"
   ]
  },
  {
   "cell_type": "code",
   "execution_count": null,
   "metadata": {},
   "outputs": [],
   "source": [
    "samples_of_interest = toolz.valmap(lambda c: c.GetOrderedTimeSeriesHistory(), treatment_curves_of_interest)\n",
    "samples_of_interest"
   ]
  },
  {
   "cell_type": "code",
   "execution_count": null,
   "metadata": {},
   "outputs": [],
   "source": [
    "sample_indices_of_interest = {\n",
    "    'Pressure': [69, 56, 65, 40, 70, 78, 42, 2],\n",
    "    'Surface Proppant Concentration': [17, 31, 24, 77, 49, 69, 67, 75],\n",
    "    'Slurry Rate': [31, 25, 46, 32, 14, 59, 8, 64]\n",
    "}\n",
    "sample_indices_of_interest"
   ]
  },
  {
   "cell_type": "code",
   "execution_count": null,
   "metadata": {
    "collapsed": false,
    "jupyter": {
     "outputs_hidden": false
    },
    "pycharm": {
     "name": "#%%\n"
    }
   },
   "outputs": [],
   "source": [
    "quantity_name_type_map = {'Pressure': 'pressure',\n",
    "                          'Surface Proppant Concentration': 'proppant',\n",
    "                          'Slurry Rate': 'slurry'}\n",
    "\n",
    "quantity_name_unit_map = {\n",
    "    'Pressure':  UnitsNet.Pressure.GetAbbreviation(native_project.ProjectUnits.PressureUnit),\n",
    "    'Surface Proppant Concentration': \n",
    "        ProppantConcentration.GetAbbreviation(\n",
    "            native_project.ProjectUnits.ProppantConcentrationUnit.Item1,\n",
    "            native_project.ProjectUnits.ProppantConcentrationUnit.Item2),\n",
    "    'Slurry Rate': \n",
    "        SlurryRate.GetAbbreviation(\n",
    "            native_project.ProjectUnits.SlurryRateUnit.Item1,\n",
    "            native_project.ProjectUnits.SlurryRateUnit.Item2),\n",
    "}\n",
    "\n",
    "@toolz.curry\n",
    "def all_sampled_samples(samples, indices, quantity_name):\n",
    "    result = [(n, s.Timestamp.ToString('o'), s.Value)\n",
    "              for (n, s) in [(n, samples[quantity_name][n])\n",
    "               for n in indices[quantity_name]]]\n",
    "    return result\n",
    "sampled_samples = all_sampled_samples(samples_of_interest, sample_indices_of_interest)\n",
    "\n",
    "@toolz.curry\n",
    "def all_sampled_data(field, well, stage, quantity_name, treatment_samples):\n",
    "    result = [{'field': field,\n",
    "               'well': well.Name,\n",
    "               'stage_no': stage.DisplayStageNumber,\n",
    "               'type': quantity_name_type_map[quantity_name],\n",
    "               'index': sample[0],\n",
    "               'timestamp': sample[1],\n",
    "               'value': f'{sample[2]} {quantity_name_unit_map[quantity_name]}'}\n",
    "               for sample in treatment_samples]\n",
    "    return result\n",
    "sampled_data_for_field_well_stage = all_sampled_data('Montney', well_of_interest, stage_of_interest)\n",
    "\n",
    "def sampled_data(quantity_name):\n",
    "    result = sampled_data_for_field_well_stage(quantity_name, sampled_samples(quantity_name))\n",
    "    return result\n",
    "\n",
    "pressure_data = sampled_data('Pressure')\n",
    "proppant_data = sampled_data('Surface Proppant Concentration')\n",
    "slurry_data = sampled_data('Slurry Rate')"
   ]
  },
  {
   "cell_type": "code",
   "execution_count": null,
   "metadata": {
    "collapsed": false,
    "jupyter": {
     "outputs_hidden": false
    },
    "pycharm": {
     "name": "#%%\n"
    }
   },
   "outputs": [],
   "source": [
    "def merge_values(values):\n",
    "    return values\n",
    "\n",
    "data = toolz.merge_with(merge_values,\n",
    "                        *list(toolz.concatv(pressure_data, proppant_data, slurry_data)))\n",
    "\n",
    "pd.DataFrame(dict(data))"
   ]
  },
  {
   "cell_type": "code",
   "execution_count": null,
   "metadata": {},
   "outputs": [],
   "source": []
  }
 ],
 "metadata": {
  "kernelspec": {
   "display_name": "Python 3",
   "language": "python",
   "name": "python3"
  },
  "language_info": {
   "codemirror_mode": {
    "name": "ipython",
    "version": 3
   },
   "file_extension": ".py",
   "mimetype": "text/x-python",
   "name": "python",
   "nbconvert_exporter": "python",
   "pygments_lexer": "ipython3",
   "version": "3.8.7"
  }
 },
 "nbformat": 4,
 "nbformat_minor": 4
}
