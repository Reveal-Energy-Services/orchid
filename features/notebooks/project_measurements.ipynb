{
 "cells": [
  {
   "cell_type": "code",
   "execution_count": null,
   "metadata": {
    "collapsed": false,
    "jupyter": {
     "outputs_hidden": false
    },
    "pycharm": {
     "name": "#%%\n"
    }
   },
   "outputs": [],
   "source": [
    "import pathlib"
   ]
  },
  {
   "cell_type": "code",
   "execution_count": null,
   "metadata": {
    "collapsed": false,
    "jupyter": {
     "outputs_hidden": false
    },
    "pycharm": {
     "name": "#%%\n"
    }
   },
   "outputs": [],
   "source": [
    "import numpy as np\n",
    "import matplotlib.pyplot as plt\n",
    "import pandas as pd\n",
    "import seaborn as sns"
   ]
  },
  {
   "cell_type": "code",
   "execution_count": null,
   "metadata": {
    "collapsed": false,
    "jupyter": {
     "outputs_hidden": false
    },
    "pycharm": {
     "name": "#%%\n"
    }
   },
   "outputs": [],
   "source": [
    "from orchid import (project_loader as opl)"
   ]
  },
  {
   "cell_type": "code",
   "execution_count": null,
   "metadata": {
    "collapsed": false,
    "jupyter": {
     "outputs_hidden": false
    },
    "pycharm": {
     "name": "#%%\n"
    }
   },
   "outputs": [],
   "source": [
    "import toolz.curried as toolz"
   ]
  },
  {
   "cell_type": "code",
   "execution_count": null,
   "metadata": {
    "collapsed": false,
    "jupyter": {
     "outputs_hidden": false
    },
    "pycharm": {
     "name": "#%%\n"
    }
   },
   "outputs": [],
   "source": [
    "from Orchid.FractureDiagnostics.RatioTypes import ProppantConcentration, SlurryRate\n",
    "import UnitsNet"
   ]
  },
  {
   "cell_type": "code",
   "execution_count": null,
   "metadata": {
    "collapsed": false,
    "jupyter": {
     "outputs_hidden": false
    },
    "pycharm": {
     "name": "#%%\n"
    }
   },
   "outputs": [],
   "source": [
    "project_filenames = {\n",
    "    'bakken': 'frankNstein_Bakken_UTM13_FEET.ifrac',\n",
    "    'montney': 'Project-frankNstein_Montney_UTM13_METERS.ifrac',\n",
    "    'permian': 'Project_frankNstein_Permian_UTM13_FEET.ifrac',\n",
    "}"
   ]
  },
  {
   "cell_type": "code",
   "execution_count": null,
   "metadata": {
    "collapsed": false,
    "jupyter": {
     "outputs_hidden": false
    },
    "pycharm": {
     "name": "#%%\n"
    }
   },
   "outputs": [],
   "source": [
    "test_data_path = pathlib.Path('c:/src/Orchid.IntegrationTestData/')\n",
    "project_path_names = toolz.valmap(lambda fn: test_data_path.joinpath(fn), project_filenames)\n",
    "project_path_names"
   ]
  },
  {
   "cell_type": "code",
   "execution_count": null,
   "metadata": {
    "collapsed": false,
    "jupyter": {
     "outputs_hidden": false
    },
    "pycharm": {
     "name": "#%%\n"
    }
   },
   "outputs": [],
   "source": [
    "projects = toolz.valmap(\n",
    "    lambda pn: opl.ProjectLoader(str(pn)).native_project(),\n",
    "    project_path_names)\n",
    "projects"
   ]
  },
  {
   "cell_type": "code",
   "execution_count": null,
   "metadata": {
    "collapsed": false,
    "jupyter": {
     "outputs_hidden": false
    },
    "pycharm": {
     "name": "#%%\n"
    }
   },
   "outputs": [],
   "source": [
    "project_units = toolz.valmap(lambda p: p.ProjectUnits, projects)\n",
    "project_units"
   ]
  },
  {
   "cell_type": "code",
   "execution_count": null,
   "metadata": {},
   "outputs": [],
   "source": [
    "@toolz.curry\n",
    "def to_project_unit(unit, nq):\n",
    "    return nq.ToUnit(unit)\n",
    "\n",
    "@toolz.curry\n",
    "def net_quantity_to_tuple(nq):\n",
    "    return nq.Value, nq.Unit\n",
    "\n",
    "def project_fluid_density(proj):\n",
    "    magnitude, unit = toolz.pipe(proj.FluidDensity,\n",
    "                                 to_project_unit(proj.ProjectUnits.DensityUnit),\n",
    "                                 net_quantity_to_tuple,\n",
    "                                )\n",
    "    return f'{magnitude} {UnitsNet.Density.GetAbbreviation(unit)}'\n",
    "\n",
    "def project_azimuth(proj):\n",
    "    magnitude, unit = net_quantity_to_tuple(proj.Azimuth)\n",
    "    return f'{magnitude} {UnitsNet.Angle.GetAbbreviation(unit)}'\n",
    "\n",
    "def project_center(proj):\n",
    "    result = toolz.pipe(proj.GetProjectCenter(),\n",
    "                        toolz.map(to_project_unit(proj.ProjectUnits.LengthUnit)),\n",
    "                        toolz.map(lambda m: f'{m.Value} {UnitsNet.Length.GetAbbreviation(m.Unit)}'),\n",
    "                        tuple,\n",
    "                       )\n",
    "    return result"
   ]
  },
  {
   "cell_type": "code",
   "execution_count": null,
   "metadata": {
    "collapsed": false,
    "jupyter": {
     "outputs_hidden": false
    },
    "pycharm": {
     "name": "#%%\n"
    }
   },
   "outputs": [],
   "source": [
    "def get_project_measurements(proj):\n",
    "    result = {\n",
    "        'fluid_density': project_fluid_density(proj),\n",
    "        'azimuth': project_azimuth(proj),\n",
    "        'center_x': project_center(proj)[0],\n",
    "        'center_y': project_center(proj)[1],\n",
    "    }\n",
    "    return result"
   ]
  },
  {
   "cell_type": "code",
   "execution_count": null,
   "metadata": {
    "collapsed": false,
    "jupyter": {
     "outputs_hidden": false
    },
    "pycharm": {
     "name": "#%%\n"
    }
   },
   "outputs": [],
   "source": [
    "def collect_project_measurements(e):\n",
    "    field, measurements = e\n",
    "    field_summary = toolz.merge(measurements, {'field': field})\n",
    "    return field, field_summary\n",
    "\n",
    "project_measurements = toolz.pipe(\n",
    "                            projects,\n",
    "                            toolz.valmap(get_project_measurements),\n",
    "                            toolz.itemmap(collect_project_measurements),\n",
    "                        )"
   ]
  },
  {
   "cell_type": "code",
   "execution_count": null,
   "metadata": {},
   "outputs": [],
   "source": [
    "def make_data_frame(field):\n",
    "    return pd.DataFrame(data=project_measurements[field], \n",
    "                        columns=['field', 'fluid_density', 'azimuth', 'center_x', 'center_y'],\n",
    "                        index=(0,))"
   ]
  },
  {
   "cell_type": "code",
   "execution_count": null,
   "metadata": {},
   "outputs": [],
   "source": [
    "make_data_frame('bakken')"
   ]
  },
  {
   "cell_type": "code",
   "execution_count": null,
   "metadata": {
    "pycharm": {
     "name": "#%%\n"
    }
   },
   "outputs": [],
   "source": [
    "make_data_frame('montney')"
   ]
  },
  {
   "cell_type": "code",
   "execution_count": null,
   "metadata": {
    "collapsed": false,
    "jupyter": {
     "outputs_hidden": false
    },
    "pycharm": {
     "name": "#%%\n"
    }
   },
   "outputs": [],
   "source": [
    "make_data_frame('permian')"
   ]
  },
  {
   "cell_type": "code",
   "execution_count": null,
   "metadata": {},
   "outputs": [],
   "source": [
    "str(projects['bakken'].TimeZone)"
   ]
  },
  {
   "cell_type": "code",
   "execution_count": null,
   "metadata": {},
   "outputs": [],
   "source": [
    "time_zones = toolz.valmap(lambda p: str(p.TimeZone), projects)\n",
    "time_zones"
   ]
  },
  {
   "cell_type": "code",
   "execution_count": null,
   "metadata": {},
   "outputs": [],
   "source": [
    "toolz.pipe(projects['bakken'].GetProjectBounds(),\n",
    "           toolz.map(lambda l: f'{l.Value:10} {UnitsNet.Length.GetAbbreviation(l.Unit)}'),\n",
    "           list)"
   ]
  },
  {
   "cell_type": "code",
   "execution_count": null,
   "metadata": {
    "collapsed": false,
    "jupyter": {
     "outputs_hidden": false
    },
    "pycharm": {
     "name": "#%%\n"
    }
   },
   "outputs": [],
   "source": [
    "def length_abbreviation(l):\n",
    "    return f'{UnitsNet.Length.GetAbbreviation(l.Unit)}'\n",
    "\n",
    "def length_magnitude(l):\n",
    "    return f'{l.Value:10}'\n",
    "\n",
    "def str_length(l):\n",
    "    return f'{length_magnitude(l)} {length_abbreviation(l)}'\n",
    "\n",
    "def get_project_bounds(proj):\n",
    "    min_x, max_x, min_y, max_y, min_depth, max_depth = proj.GetProjectBounds()\n",
    "    magnitude_format = \"G10\"\n",
    "    result = {\n",
    "        'min_x': str_length(min_x),\n",
    "        'max_x': str_length(max_x),\n",
    "        'min_y': str_length(min_y),\n",
    "        'max_y': str_length(max_y),\n",
    "        'min_depth': str_length(min_depth),\n",
    "        'max_depth': str_length(max_depth),\n",
    "    }\n",
    "    return result"
   ]
  },
  {
   "cell_type": "code",
   "execution_count": null,
   "metadata": {
    "collapsed": false,
    "jupyter": {
     "outputs_hidden": false
    },
    "pycharm": {
     "name": "#%%\n"
    }
   },
   "outputs": [],
   "source": [
    "def collect_project_bounds(e):\n",
    "    field, measurements = e\n",
    "    field_summary = toolz.merge(measurements, {'field': field})\n",
    "    return field, field_summary\n",
    "\n",
    "project_bounds = toolz.pipe(\n",
    "    projects,\n",
    "    toolz.valmap(get_project_bounds),\n",
    "    toolz.itemmap(collect_project_bounds),\n",
    ")"
   ]
  },
  {
   "cell_type": "code",
   "execution_count": null,
   "metadata": {},
   "outputs": [],
   "source": [
    "def make_bounds_data_frame(field):\n",
    "    return pd.DataFrame(data=project_bounds[field], \n",
    "                        columns=['field', 'min_x', 'max_x', 'min_y', 'max_y', 'min_depth', 'max_depth'],\n",
    "                        index=(0,))"
   ]
  },
  {
   "cell_type": "code",
   "execution_count": null,
   "metadata": {},
   "outputs": [],
   "source": [
    "make_bounds_data_frame('bakken')"
   ]
  },
  {
   "cell_type": "code",
   "execution_count": null,
   "metadata": {},
   "outputs": [],
   "source": [
    "make_bounds_data_frame('montney')"
   ]
  },
  {
   "cell_type": "code",
   "execution_count": null,
   "metadata": {},
   "outputs": [],
   "source": [
    "make_bounds_data_frame('permian')"
   ]
  },
  {
   "cell_type": "code",
   "execution_count": null,
   "metadata": {},
   "outputs": [],
   "source": []
  }
 ],
 "metadata": {
  "kernelspec": {
   "display_name": "Python 3",
   "language": "python",
   "name": "python3"
  },
  "language_info": {
   "codemirror_mode": {
    "name": "ipython",
    "version": 3
   },
   "file_extension": ".py",
   "mimetype": "text/x-python",
   "name": "python",
   "nbconvert_exporter": "python",
   "pygments_lexer": "ipython3",
   "version": "3.8.7"
  }
 },
 "nbformat": 4,
 "nbformat_minor": 4
}
