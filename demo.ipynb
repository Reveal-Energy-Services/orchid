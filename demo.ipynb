{
 "cells": [
  {
   "cell_type": "code",
   "execution_count": 1,
   "metadata": {},
   "outputs": [],
   "source": [
    "import image_frac"
   ]
  },
  {
   "cell_type": "code",
   "execution_count": 2,
   "metadata": {},
   "outputs": [
    {
     "data": {
      "text/plain": [
       "['ProjectAdapter',\n",
       " 'ProjectLoader',\n",
       " 'TrajectoryCoordinator',\n",
       " '__builtins__',\n",
       " '__cached__',\n",
       " '__doc__',\n",
       " '__file__',\n",
       " '__loader__',\n",
       " '__name__',\n",
       " '__package__',\n",
       " '__path__',\n",
       " '__spec__',\n",
       " 'core',\n",
       " 'load_project',\n",
       " 'plot_trajectories',\n",
       " 'project_adapter',\n",
       " 'project_loader',\n",
       " 'trajectory_coordinator']"
      ]
     },
     "execution_count": 2,
     "metadata": {},
     "output_type": "execute_result"
    }
   ],
   "source": [
    "dir(image_frac)"
   ]
  },
  {
   "cell_type": "code",
   "execution_count": 3,
   "metadata": {},
   "outputs": [
    {
     "data": {
      "text/plain": [
       "\u001b[1;31mSignature:\u001b[0m \u001b[0mimage_frac\u001b[0m\u001b[1;33m.\u001b[0m\u001b[0mplot_trajectories\u001b[0m\u001b[1;33m(\u001b[0m\u001b[0mifrac_pathname\u001b[0m\u001b[1;33m:\u001b[0m \u001b[0mstr\u001b[0m\u001b[1;33m)\u001b[0m \u001b[1;33m->\u001b[0m \u001b[1;32mNone\u001b[0m\u001b[1;33m\u001b[0m\u001b[1;33m\u001b[0m\u001b[0m\n",
       "\u001b[1;31mDocstring:\u001b[0m\n",
       "Plot the trajectories for all the wells in the project of interest.\n",
       "\n",
       ":param ifrac_pathname: The path identifying the data file of the project of interest.\n",
       ":return: None\n",
       "\u001b[1;31mFile:\u001b[0m      c:\\src\\pythonapiclone\\image_frac\\core.py\n",
       "\u001b[1;31mType:\u001b[0m      function\n"
      ]
     },
     "metadata": {},
     "output_type": "display_data"
    }
   ],
   "source": [
    "image_frac.plot_trajectories?"
   ]
  },
  {
   "cell_type": "code",
   "execution_count": 4,
   "metadata": {},
   "outputs": [
    {
     "data": {
      "image/png": "[encoded data removed]",
      "text/plain": [
       "<Figure size 432x288 with 1 Axes>"
      ]
     },
     "metadata": {
      "needs_background": "light"
     },
     "output_type": "display_data"
    }
   ],
   "source": [
    "image_frac.plot_trajectories(r'c:\\Users\\larry.jones\\tmp\\ifa-test-data\\Crane_II.ifrac')"
   ]
  },
  {
   "cell_type": "code",
   "execution_count": 5,
   "metadata": {},
   "outputs": [
    {
     "data": {
      "text/plain": [
       "\u001b[1;31mSignature:\u001b[0m \u001b[0mimage_frac\u001b[0m\u001b[1;33m.\u001b[0m\u001b[0mload_project\u001b[0m\u001b[1;33m(\u001b[0m\u001b[0mifrac_pathname\u001b[0m\u001b[1;33m:\u001b[0m \u001b[0mstr\u001b[0m\u001b[1;33m)\u001b[0m \u001b[1;33m->\u001b[0m \u001b[0mimage_frac\u001b[0m\u001b[1;33m.\u001b[0m\u001b[0mproject_adapter\u001b[0m\u001b[1;33m.\u001b[0m\u001b[0mProjectAdapter\u001b[0m\u001b[1;33m\u001b[0m\u001b[1;33m\u001b[0m\u001b[0m\n",
       "\u001b[1;31mDocstring:\u001b[0m\n",
       "Return the project for the specified `.ifrac` file.\n",
       "\n",
       ":param ifrac_pathname: The path identifying the data file of the project of interest.\n",
       ":return: The project of interest.\n",
       "\u001b[1;31mFile:\u001b[0m      c:\\src\\pythonapiclone\\image_frac\\core.py\n",
       "\u001b[1;31mType:\u001b[0m      function\n"
      ]
     },
     "metadata": {},
     "output_type": "display_data"
    }
   ],
   "source": [
    "image_frac.load_project?"
   ]
  },
  {
   "cell_type": "code",
   "execution_count": 6,
   "metadata": {},
   "outputs": [
    {
     "data": {
      "text/plain": [
       "<image_frac.project_adapter.ProjectAdapter at 0x20a74c08188>"
      ]
     },
     "execution_count": 6,
     "metadata": {},
     "output_type": "execute_result"
    }
   ],
   "source": [
    "project = image_frac.load_project(r'c:\\Users\\larry.jones\\tmp\\ifa-test-data\\Crane_II.ifrac')\n",
    "project"
   ]
  },
  {
   "cell_type": "code",
   "execution_count": 7,
   "metadata": {},
   "outputs": [
    {
     "data": {
      "text/plain": [
       "['__class__',\n",
       " '__delattr__',\n",
       " '__dict__',\n",
       " '__dir__',\n",
       " '__doc__',\n",
       " '__eq__',\n",
       " '__format__',\n",
       " '__ge__',\n",
       " '__getattribute__',\n",
       " '__gt__',\n",
       " '__hash__',\n",
       " '__init__',\n",
       " '__init_subclass__',\n",
       " '__le__',\n",
       " '__lt__',\n",
       " '__module__',\n",
       " '__ne__',\n",
       " '__new__',\n",
       " '__reduce__',\n",
       " '__reduce_ex__',\n",
       " '__repr__',\n",
       " '__setattr__',\n",
       " '__sizeof__',\n",
       " '__str__',\n",
       " '__subclasshook__',\n",
       " '__weakref__',\n",
       " '_project_loader',\n",
       " '_wells',\n",
       " 'default_well_colors',\n",
       " 'length_unit',\n",
       " 'name',\n",
       " 'trajectory_points',\n",
       " 'well_display_name',\n",
       " 'well_ids',\n",
       " 'well_map',\n",
       " 'well_name']"
      ]
     },
     "execution_count": 7,
     "metadata": {},
     "output_type": "execute_result"
    }
   ],
   "source": [
    "dir(project)"
   ]
  },
  {
   "cell_type": "code",
   "execution_count": 8,
   "metadata": {},
   "outputs": [
    {
     "data": {
      "text/plain": [
       "\u001b[1;31mSignature:\u001b[0m \u001b[0mproject\u001b[0m\u001b[1;33m.\u001b[0m\u001b[0mtrajectory_points\u001b[0m\u001b[1;33m(\u001b[0m\u001b[0mwell_id\u001b[0m\u001b[1;33m:\u001b[0m \u001b[0muuid\u001b[0m\u001b[1;33m.\u001b[0m\u001b[0mUUID\u001b[0m\u001b[1;33m)\u001b[0m \u001b[1;33m->\u001b[0m \u001b[0mvectormath\u001b[0m\u001b[1;33m.\u001b[0m\u001b[0mvector\u001b[0m\u001b[1;33m.\u001b[0m\u001b[0mVector3Array\u001b[0m\u001b[1;33m\u001b[0m\u001b[1;33m\u001b[0m\u001b[0m\n",
       "\u001b[1;31mDocstring:\u001b[0m\n",
       "Return the subsurface points of the well bore of well_id in the specified reference frame and with depth datum.\n",
       "\n",
       ":param well_id: Identifies a specific well in the project.\n",
       "\n",
       ":return: A Vector3Array containing the trajectory (in project units using project reference frame and kelly\n",
       "bushing depth datum).\n",
       "\n",
       ":example:\n",
       "    >>> # noinspection PyUnresolvedReferences\n",
       "    >>> from project_loader import ProjectLoader\n",
       "    >>> loader = ProjectLoader(r'c:/Users/larry.jones/tmp/ifa-test-data/Crane_II.ifrac')\n",
       "    >>> project = ProjectAdapter(loader)\n",
       "    >>> trajectory_points = [project.trajectory_points(well_id) for well_id in project.well_ids()]\n",
       "    >>> len(trajectory_points)\n",
       "    4\n",
       "    >>> # noinspection PyTypeChecker\n",
       "    >>> [len(points) for points in trajectory_points]\n",
       "    [253, 246, 234, 257]\n",
       "    >>> # Initial point of trajectories\n",
       "    >>> # noinspection PyUnresolvedReferences\n",
       "    >>> [trajectory_points[i][0] for i in range(4)]\n",
       "    [Vector3([0.064, 0.56 , 0.   ]), Vector3([-22.902, -65.06 ,   0.   ]), Vector3([ 954.788, -803.25 ,    0.   ]), Vector3([ -50.166, -156.69 ,    0.   ])]\n",
       "    >>> # Middle point of trajectories\n",
       "    >>> # noinspection PyUnresolvedReferences\n",
       "    >>> [trajectory_points[i][len(trajectory_points[i]) // 2] for i in range(4)]\n",
       "    [Vector3([  262.64215124,  1297.3048967 , 10481.01160463]), Vector3([  242.37977858,   596.4535276 , 10573.78645779]), Vector3([  467.07593939,  -464.9789044 , 10767.02602787]), Vector3([  112.08522272, -1020.3832704 , 10625.70516618])]\n",
       "    >>> # Last point of trajectories\n",
       "    >>> # noinspection PyUnresolvedReferences\n",
       "    >>> [trajectory_points[i][-1] for i in range(4)]\n",
       "    [Vector3([-10015.68480859,   1330.8487571 ,  10705.24099079]), Vector3([-10029.48342696,    556.742598  ,  10712.00210724]), Vector3([-9854.81599078,   -71.6013143 , 10727.50321322]), Vector3([-10046.00226103,   -911.7090451 ,  10716.0042386 ])]\n",
       "\u001b[1;31mFile:\u001b[0m      c:\\src\\pythonapiclone\\image_frac\\project_adapter.py\n",
       "\u001b[1;31mType:\u001b[0m      method\n"
      ]
     },
     "metadata": {},
     "output_type": "display_data"
    }
   ],
   "source": [
    "project.trajectory_points?"
   ]
  },
  {
   "cell_type": "code",
   "execution_count": 9,
   "metadata": {},
   "outputs": [
    {
     "data": {
      "text/plain": [
       "\u001b[1;31mSignature:\u001b[0m \u001b[0mproject\u001b[0m\u001b[1;33m.\u001b[0m\u001b[0mwell_ids\u001b[0m\u001b[1;33m(\u001b[0m\u001b[1;33m)\u001b[0m \u001b[1;33m->\u001b[0m \u001b[0mKeysView\u001b[0m\u001b[1;33m[\u001b[0m\u001b[0muuid\u001b[0m\u001b[1;33m.\u001b[0m\u001b[0mUUID\u001b[0m\u001b[1;33m]\u001b[0m\u001b[1;33m\u001b[0m\u001b[1;33m\u001b[0m\u001b[0m\n",
       "\u001b[1;31mDocstring:\u001b[0m Return sequence identifiers for all wells in this project.\n",
       "\u001b[1;31mFile:\u001b[0m      c:\\src\\pythonapiclone\\image_frac\\project_adapter.py\n",
       "\u001b[1;31mType:\u001b[0m      method\n"
      ]
     },
     "metadata": {},
     "output_type": "display_data"
    }
   ],
   "source": [
    "project.well_ids?"
   ]
  },
  {
   "cell_type": "code",
   "execution_count": 10,
   "metadata": {},
   "outputs": [
    {
     "data": {
      "text/plain": [
       "dict_keys([UUID('1e189b52-8cb6-4aa7-901f-b29aa50d95b6'), UUID('d8dca276-7b65-4896-886b-6d2f46e80ce0'), UUID('2fc54cb3-0c07-4708-b719-ba2b27754bb0'), UUID('7169664a-31d6-46e2-8cee-fbee3f2b015e')])"
      ]
     },
     "execution_count": 10,
     "metadata": {},
     "output_type": "execute_result"
    }
   ],
   "source": [
    "well_ids = project.well_ids()\n",
    "well_ids"
   ]
  },
  {
   "cell_type": "code",
   "execution_count": 11,
   "metadata": {},
   "outputs": [
    {
     "data": {
      "text/plain": [
       "[UUID('1e189b52-8cb6-4aa7-901f-b29aa50d95b6'),\n",
       " UUID('d8dca276-7b65-4896-886b-6d2f46e80ce0'),\n",
       " UUID('2fc54cb3-0c07-4708-b719-ba2b27754bb0'),\n",
       " UUID('7169664a-31d6-46e2-8cee-fbee3f2b015e')]"
      ]
     },
     "execution_count": 11,
     "metadata": {},
     "output_type": "execute_result"
    }
   ],
   "source": [
    "well_ids = list(well_ids)\n",
    "well_ids"
   ]
  },
  {
   "cell_type": "code",
   "execution_count": 12,
   "metadata": {},
   "outputs": [
    {
     "data": {
      "text/plain": [
       "Vector3Array([[ 6.40000000e-02,  5.59999999e-01,  0.00000000e+00],\n",
       "              [ 4.53996310e-01,  5.57957999e-01,  1.48969319e+02],\n",
       "              [ 7.38283030e-01,  4.20137797e-01,  2.34538648e+02],\n",
       "              [ 9.68356610e-01,  2.27571987e-02,  3.22497403e+02],\n",
       "              [ 1.28433424e+00, -6.19297028e-02,  4.08516442e+02],\n",
       "              [ 1.54242175e+00, -1.81319300e-01,  4.96685577e+02],\n",
       "              [ 1.43162807e+00, -5.71861103e-01,  5.86614395e+02],\n",
       "              [ 1.07398115e+00, -7.31245302e-01,  6.76353529e+02],\n",
       "              [ 8.44037410e-01, -1.32127560e+00,  7.63850825e+02],\n",
       "              [ 9.53490940e-01, -1.97787820e+00,  8.53347857e+02],\n",
       "              [ 1.38020093e+00, -2.16964930e+00,  9.43186634e+02],\n",
       "              [ 1.71860759e+00, -2.34960680e+00,  1.03300579e+03],\n",
       "              [ 1.90008599e+00, -2.42128440e+00,  1.12058554e+03],\n",
       "              [ 2.34383416e+00, -2.41715460e+00,  1.20686421e+03],\n",
       "              [ 2.86789484e+00, -2.26394040e+00,  1.29474232e+03],\n",
       "              [ 3.11282384e+00, -1.88388500e+00,  1.38145113e+03],\n",
       "              [ 3.55747729e+00, -1.39992260e+00,  1.46656847e+03],\n",
       "              [ 3.98863686e+00, -8.03729601e-01,  1.55493526e+03],\n",
       "              [ 3.94670031e+00, -6.35534003e-02,  1.64262202e+03],\n",
       "              [ 3.56044521e+00,  6.80944398e-01,  1.73256802e+03],\n",
       "              [ 3.18053889e+00,  1.15998610e+00,  1.82051584e+03],\n",
       "              [ 2.93004933e+00,  1.69940110e+00,  1.90605372e+03],\n",
       "              [ 2.92201180e+00,  2.13482150e+00,  1.99267236e+03],\n",
       "              [ 3.06872721e+00,  2.28699000e+00,  2.04196189e+03],\n",
       "              [ 3.43838583e+00,  2.84783240e+00,  2.14195960e+03],\n",
       "              [ 3.65369729e+00,  3.10189890e+00,  2.17895809e+03],\n",
       "              [ 4.72507224e+00,  4.08168780e+00,  2.27294640e+03],\n",
       "              [ 6.39322748e+00,  5.69421590e+00,  2.36791786e+03],\n",
       "              [ 8.70858288e+00,  8.68550080e+00,  2.46183909e+03],\n",
       "              [ 1.10185869e+01,  1.35904259e+01,  2.55568108e+03],\n",
       "              [ 1.28643254e+01,  2.05963970e+01,  2.64939840e+03],\n",
       "              [ 1.45073290e+01,  2.71802509e+01,  2.71202871e+03],\n",
       "              [ 1.56007978e+01,  3.10869160e+01,  2.74276191e+03],\n",
       "              [ 1.70002902e+01,  3.62077145e+01,  2.77937880e+03],\n",
       "              [ 1.91182902e+01,  4.53713458e+01,  2.83660953e+03],\n",
       "              [ 2.02186946e+01,  5.07929360e+01,  2.86711182e+03],\n",
       "              [ 2.24161943e+01,  6.24570400e+01,  2.92898321e+03],\n",
       "              [ 2.54957257e+01,  7.97994076e+01,  3.02131747e+03],\n",
       "              [ 2.89772152e+01,  9.60455047e+01,  3.11485202e+03],\n",
       "              [ 3.30106810e+01,  1.11895503e+02,  3.20741793e+03],\n",
       "              [ 3.69920630e+01,  1.27516752e+02,  3.30103890e+03],\n",
       "              [ 4.10285157e+01,  1.42412490e+02,  3.39477686e+03],\n",
       "              [ 4.55341478e+01,  1.57077145e+02,  3.48751633e+03],\n",
       "              [ 4.97113875e+01,  1.72238266e+02,  3.58120441e+03],\n",
       "              [ 5.33500790e+01,  1.87665142e+02,  3.67487269e+03],\n",
       "              [ 5.74672035e+01,  2.02143289e+02,  3.76765890e+03],\n",
       "              [ 6.15372600e+01,  2.16224030e+02,  3.86050876e+03],\n",
       "              [ 6.53236440e+01,  2.30416044e+02,  3.95436627e+03],\n",
       "              [ 6.85926010e+01,  2.44086917e+02,  4.04831972e+03],\n",
       "              [ 7.09115753e+01,  2.56795302e+02,  4.14142723e+03],\n",
       "              [ 7.35944024e+01,  2.69206701e+02,  4.23557405e+03],\n",
       "              [ 7.74479944e+01,  2.82561046e+02,  4.32853831e+03],\n",
       "              [ 8.19098779e+01,  2.96435236e+02,  4.42140120e+03],\n",
       "              [ 8.66040868e+01,  3.08809263e+02,  4.51547239e+03],\n",
       "              [ 9.12510557e+01,  3.20599903e+02,  4.60962261e+03],\n",
       "              [ 9.56023278e+01,  3.33458876e+02,  4.70263648e+03],\n",
       "              [ 9.94058865e+01,  3.47191647e+02,  4.79453765e+03],\n",
       "              [ 1.02499072e+02,  3.60661497e+02,  4.88751476e+03],\n",
       "              [ 1.05289096e+02,  3.73206876e+02,  4.98164131e+03],\n",
       "              [ 1.08103541e+02,  3.85367299e+02,  5.07581772e+03],\n",
       "              [ 1.11950161e+02,  3.97855111e+02,  5.16890265e+03],\n",
       "              [ 1.16666627e+02,  4.11454241e+02,  5.26179355e+03],\n",
       "              [ 1.20947671e+02,  4.25724414e+02,  5.35561782e+03],\n",
       "              [ 1.24936481e+02,  4.40261192e+02,  5.44941411e+03],\n",
       "              [ 1.29200964e+02,  4.55782197e+02,  5.54303955e+03],\n",
       "              [ 1.33481214e+02,  4.72233802e+02,  5.63548934e+03],\n",
       "              [ 1.37729542e+02,  4.89780272e+02,  5.72875764e+03],\n",
       "              [ 1.42101163e+02,  5.07945921e+02,  5.82088184e+03],\n",
       "              [ 1.46213016e+02,  5.25262912e+02,  5.91317879e+03],\n",
       "              [ 1.46859135e+02,  5.28023021e+02,  5.92892567e+03],\n",
       "              [ 1.48944050e+02,  5.36544063e+02,  5.97916525e+03],\n",
       "              [ 1.50250080e+02,  5.41658711e+02,  6.01072684e+03],\n",
       "              [ 1.54243438e+02,  5.56245980e+02,  6.10350197e+03],\n",
       "              [ 1.58586436e+02,  5.72045153e+02,  6.19605860e+03],\n",
       "              [ 1.63218107e+02,  5.88987159e+02,  6.28942032e+03],\n",
       "              [ 1.67926022e+02,  6.04350597e+02,  6.38304958e+03],\n",
       "              [ 1.72028658e+02,  6.19782601e+02,  6.47567994e+03],\n",
       "              [ 1.75531280e+02,  6.36303671e+02,  6.56916655e+03],\n",
       "              [ 1.78965485e+02,  6.51911710e+02,  6.66281206e+03],\n",
       "              [ 1.82658639e+02,  6.67810896e+02,  6.75538195e+03],\n",
       "              [ 1.86931619e+02,  6.85073746e+02,  6.84870240e+03],\n",
       "              [ 1.91466336e+02,  7.02726328e+02,  6.94091824e+03],\n",
       "              [ 1.95971108e+02,  7.21148319e+02,  7.03298502e+03],\n",
       "              [ 2.00596375e+02,  7.40742210e+02,  7.12582651e+03],\n",
       "              [ 2.05581434e+02,  7.61647324e+02,  7.21836269e+03],\n",
       "              [ 2.10871229e+02,  7.83714837e+02,  7.30958144e+03],\n",
       "              [ 2.16041261e+02,  8.05425765e+02,  7.40089127e+03],\n",
       "              [ 2.20506518e+02,  8.24614729e+02,  7.49382014e+03],\n",
       "              [ 2.24419089e+02,  8.42037436e+02,  7.58508958e+03],\n",
       "              [ 2.27988434e+02,  8.59117742e+02,  7.67847107e+03],\n",
       "              [ 2.31175182e+02,  8.74945029e+02,  7.77107419e+03],\n",
       "              [ 2.34255351e+02,  8.90026590e+02,  7.86380439e+03],\n",
       "              [ 2.37193574e+02,  9.03764624e+02,  7.95775866e+03],\n",
       "              [ 2.40298153e+02,  9.17311972e+02,  8.04971268e+03],\n",
       "              [ 2.43703626e+02,  9.31533046e+02,  8.14256802e+03],\n",
       "              [ 2.47326306e+02,  9.45140170e+02,  8.23651836e+03],\n",
       "              [ 2.50957607e+02,  9.58559005e+02,  8.33049565e+03],\n",
       "              [ 2.54356595e+02,  9.71896926e+02,  8.42348242e+03],\n",
       "              [ 2.58112313e+02,  9.85200747e+02,  8.51646003e+03],\n",
       "              [ 2.62354893e+02,  9.98328239e+02,  8.60944198e+03],\n",
       "              [ 2.66829510e+02,  1.01180224e+03,  8.70337464e+03],\n",
       "              [ 2.71205779e+02,  1.02567812e+03,  8.79624173e+03],\n",
       "              [ 2.75266231e+02,  1.03951552e+03,  8.88912891e+03],\n",
       "              [ 2.79165655e+02,  1.05260477e+03,  8.98213066e+03],\n",
       "              [ 2.83128211e+02,  1.06449026e+03,  9.07630003e+03],\n",
       "              [ 2.86730627e+02,  1.07653391e+03,  9.16945373e+03],\n",
       "              [ 2.89993947e+02,  1.09023276e+03,  9.26340366e+03],\n",
       "              [ 2.93359212e+02,  1.10452263e+03,  9.35726244e+03],\n",
       "              [ 2.96927720e+02,  1.11818306e+03,  9.45019554e+03],\n",
       "              [ 3.00308995e+02,  1.13193611e+03,  9.54312164e+03],\n",
       "              [ 3.03363851e+02,  1.14652175e+03,  9.63694554e+03],\n",
       "              [ 3.06469623e+02,  1.16074446e+03,  9.72981124e+03],\n",
       "              [ 3.09863744e+02,  1.17456736e+03,  9.82272729e+03],\n",
       "              [ 3.13485415e+02,  1.18948438e+03,  9.91647682e+03],\n",
       "              [ 3.16995400e+02,  1.20476580e+03,  1.00101730e+04],\n",
       "              [ 3.20112441e+02,  1.21791335e+03,  1.01031938e+04],\n",
       "              [ 3.23075138e+02,  1.23029657e+03,  1.01963269e+04],\n",
       "              [ 3.23773181e+02,  1.23307277e+03,  1.02161210e+04],\n",
       "              [ 3.24762339e+02,  1.23765020e+03,  1.02477762e+04],\n",
       "              [ 3.24472203e+02,  1.24271521e+03,  1.02783506e+04],\n",
       "              [ 3.22033859e+02,  1.24926344e+03,  1.03095690e+04],\n",
       "              [ 3.17338174e+02,  1.25718965e+03,  1.03402037e+04],\n",
       "              [ 3.10522033e+02,  1.26580454e+03,  1.03691836e+04],\n",
       "              [ 3.01394431e+02,  1.27473421e+03,  1.03974222e+04],\n",
       "              [ 2.89869929e+02,  1.28348314e+03,  1.04259583e+04],\n",
       "              [ 2.77218461e+02,  1.29097147e+03,  1.04532459e+04],\n",
       "              [ 2.62642151e+02,  1.29730490e+03,  1.04810116e+04],\n",
       "              [ 2.46819714e+02,  1.30154456e+03,  1.05073171e+04],\n",
       "              [ 2.29809316e+02,  1.30370344e+03,  1.05331361e+04],\n",
       "              [ 2.12266610e+02,  1.30465063e+03,  1.05586766e+04],\n",
       "              [ 1.93069761e+02,  1.30551777e+03,  1.05842568e+04],\n",
       "              [ 1.72954633e+02,  1.30633021e+03,  1.06078245e+04],\n",
       "              [ 1.50670890e+02,  1.30709058e+03,  1.06307688e+04],\n",
       "              [ 1.27527244e+02,  1.30796054e+03,  1.06513638e+04],\n",
       "              [ 1.02027372e+02,  1.30889606e+03,  1.06706587e+04],\n",
       "              [ 7.58073769e+01,  1.30977661e+03,  1.06871540e+04],\n",
       "              [ 4.74164771e+01,  1.31072885e+03,  1.07018693e+04],\n",
       "              [ 1.93277435e+01,  1.31179829e+03,  1.07149411e+04],\n",
       "              [-9.72614017e+00,  1.31295504e+03,  1.07283027e+04],\n",
       "              [-3.90562442e+01,  1.31434594e+03,  1.07410159e+04],\n",
       "              [-6.81310180e+01,  1.31584734e+03,  1.07516441e+04],\n",
       "              [-9.88914227e+01,  1.31758124e+03,  1.07602582e+04],\n",
       "              [-1.29272550e+02,  1.31907653e+03,  1.07661882e+04],\n",
       "              [-1.60092538e+02,  1.31972831e+03,  1.07693197e+04],\n",
       "              [-1.92074712e+02,  1.32015822e+03,  1.07702075e+04],\n",
       "              [-2.56067084e+02,  1.32106296e+03,  1.07700176e+04],\n",
       "              [-2.86065832e+02,  1.32122003e+03,  1.07698475e+04],\n",
       "              [-3.78059534e+02,  1.32032890e+03,  1.07701686e+04],\n",
       "              [-4.70024255e+02,  1.31798499e+03,  1.07710839e+04],\n",
       "              [-5.61966624e+02,  1.31498315e+03,  1.07704416e+04],\n",
       "              [-6.53856473e+02,  1.31141298e+03,  1.07677203e+04],\n",
       "              [-7.45802390e+02,  1.30894949e+03,  1.07661868e+04],\n",
       "              [-8.37783427e+02,  1.30833135e+03,  1.07676720e+04],\n",
       "              [-9.29739945e+02,  1.30793011e+03,  1.07704655e+04],\n",
       "              [-1.02172824e+03,  1.30806668e+03,  1.07717018e+04],\n",
       "              [-1.11372361e+03,  1.30874105e+03,  1.07711559e+04],\n",
       "              [-1.20571970e+03,  1.30898991e+03,  1.07704092e+04],\n",
       "              [-1.29771649e+03,  1.30830750e+03,  1.07703048e+04],\n",
       "              [-1.38971062e+03,  1.30752072e+03,  1.07708990e+04],\n",
       "              [-1.48470240e+03,  1.30737150e+03,  1.07721259e+04],\n",
       "              [-1.58069645e+03,  1.30801655e+03,  1.07722013e+04],\n",
       "              [-1.67569104e+03,  1.30872118e+03,  1.07716873e+04],\n",
       "              [-1.77068290e+03,  1.30947551e+03,  1.07709412e+04],\n",
       "              [-1.86463448e+03,  1.31145163e+03,  1.07687183e+04],\n",
       "              [-1.96059722e+03,  1.31357054e+03,  1.07673529e+04],\n",
       "              [-2.05556152e+03,  1.31592452e+03,  1.07665072e+04],\n",
       "              [-2.15049519e+03,  1.31892452e+03,  1.07646172e+04],\n",
       "              [-2.24644704e+03,  1.32158792e+03,  1.07632014e+04],\n",
       "              [-2.34142444e+03,  1.32360229e+03,  1.07629196e+04],\n",
       "              [-2.43640334e+03,  1.32514408e+03,  1.07618667e+04],\n",
       "              [-2.53037317e+03,  1.32641520e+03,  1.07598653e+04],\n",
       "              [-2.62536665e+03,  1.32696229e+03,  1.07591441e+04],\n",
       "              [-2.72034392e+03,  1.32638233e+03,  1.07575276e+04],\n",
       "              [-2.81425677e+03,  1.32493165e+03,  1.07537553e+04],\n",
       "              [-2.90920412e+03,  1.32430232e+03,  1.07507878e+04],\n",
       "              [-3.00418741e+03,  1.32487426e+03,  1.07491049e+04],\n",
       "              [-3.09918307e+03,  1.32533019e+03,  1.07486241e+04],\n",
       "              [-3.19518000e+03,  1.32597526e+03,  1.07489089e+04],\n",
       "              [-3.29017336e+03,  1.32701981e+03,  1.07485524e+04],\n",
       "              [-3.38415070e+03,  1.32793838e+03,  1.07468053e+04],\n",
       "              [-3.47910164e+03,  1.32883329e+03,  1.07438876e+04],\n",
       "              [-3.57405100e+03,  1.32939674e+03,  1.07408456e+04],\n",
       "              [-3.66903617e+03,  1.32990246e+03,  1.07397182e+04],\n",
       "              [-3.76302498e+03,  1.33082111e+03,  1.07408256e+04],\n",
       "              [-3.85801852e+03,  1.33157549e+03,  1.07408753e+04],\n",
       "              [-3.95300422e+03,  1.33216402e+03,  1.07393417e+04],\n",
       "              [-4.04797543e+03,  1.33342382e+03,  1.07374018e+04],\n",
       "              [-4.14395460e+03,  1.33452939e+03,  1.07358269e+04],\n",
       "              [-4.23895167e+03,  1.33497706e+03,  1.07352880e+04],\n",
       "              [-4.33394929e+03,  1.33559054e+03,  1.07354953e+04],\n",
       "              [-4.42894460e+03,  1.33619571e+03,  1.07362082e+04],\n",
       "              [-4.52392657e+03,  1.33617093e+03,  1.07379657e+04],\n",
       "              [-4.61891504e+03,  1.33593055e+03,  1.07380652e+04],\n",
       "              [-4.71386509e+03,  1.33568204e+03,  1.07350231e+04],\n",
       "              [-4.80883032e+03,  1.33592265e+03,  1.07326192e+04],\n",
       "              [-4.90282017e+03,  1.33658704e+03,  1.07314298e+04],\n",
       "              [-4.99881171e+03,  1.33643626e+03,  1.07301900e+04],\n",
       "              [-5.09379189e+03,  1.33482809e+03,  1.07292946e+04],\n",
       "              [-5.18872731e+03,  1.33137185e+03,  1.07291702e+04],\n",
       "              [-5.28468061e+03,  1.32852401e+03,  1.07289943e+04],\n",
       "              [-5.37867228e+03,  1.32826969e+03,  1.07279607e+04],\n",
       "              [-5.47366524e+03,  1.32890800e+03,  1.07270405e+04],\n",
       "              [-5.56966408e+03,  1.32908393e+03,  1.07272164e+04],\n",
       "              [-5.66365343e+03,  1.32828833e+03,  1.07282992e+04],\n",
       "              [-5.75861367e+03,  1.32652306e+03,  1.07303633e+04],\n",
       "              [-5.85358657e+03,  1.32476587e+03,  1.07313829e+04],\n",
       "              [-5.94856739e+03,  1.32341472e+03,  1.07300814e+04],\n",
       "              [-6.04354605e+03,  1.32169048e+03,  1.07293436e+04],\n",
       "              [-6.13853791e+03,  1.32079516e+03,  1.07291944e+04],\n",
       "              [-6.23353647e+03,  1.32098583e+03,  1.07287633e+04],\n",
       "              [-6.32853366e+03,  1.32039723e+03,  1.07284565e+04],\n",
       "              [-6.42251140e+03,  1.31885534e+03,  1.07272179e+04],\n",
       "              [-6.51744358e+03,  1.31605443e+03,  1.07250211e+04],\n",
       "              [-6.61333771e+03,  1.31222807e+03,  1.07226421e+04],\n",
       "              [-6.70821832e+03,  1.30811867e+03,  1.07202382e+04],\n",
       "              [-6.80310401e+03,  1.30383483e+03,  1.07184476e+04],\n",
       "              [-6.89696750e+03,  1.29895673e+03,  1.07171351e+04],\n",
       "              [-6.99088000e+03,  1.29532437e+03,  1.07156749e+04],\n",
       "              [-7.02287298e+03,  1.29541370e+03,  1.07151498e+04],\n",
       "              [-7.08583156e+03,  1.29739775e+03,  1.07140448e+04],\n",
       "              [-7.11779702e+03,  1.29885210e+03,  1.07138968e+04],\n",
       "              [-7.18070340e+03,  1.30224247e+03,  1.07144356e+04],\n",
       "              [-7.27554154e+03,  1.30776063e+03,  1.07148667e+04],\n",
       "              [-7.36936655e+03,  1.31349100e+03,  1.07150143e+04],\n",
       "              [-7.46417769e+03,  1.31942278e+03,  1.07157770e+04],\n",
       "              [-7.55998914e+03,  1.32529964e+03,  1.07170420e+04],\n",
       "              [-7.65484337e+03,  1.33030397e+03,  1.07186254e+04],\n",
       "              [-7.74872246e+03,  1.33432082e+03,  1.07211516e+04],\n",
       "              [-7.84366406e+03,  1.33699738e+03,  1.07228344e+04],\n",
       "              [-7.93865535e+03,  1.33819115e+03,  1.07225526e+04],\n",
       "              [-8.03364965e+03,  1.33841498e+03,  1.07215826e+04],\n",
       "              [-8.12864589e+03,  1.33807509e+03,  1.07208697e+04],\n",
       "              [-8.22363774e+03,  1.33691449e+03,  1.07206956e+04],\n",
       "              [-8.31761093e+03,  1.33468347e+03,  1.07205725e+04],\n",
       "              [-8.41356168e+03,  1.33191954e+03,  1.07193830e+04],\n",
       "              [-8.50849368e+03,  1.32854631e+03,  1.07184628e+04],\n",
       "              [-8.60339084e+03,  1.32418727e+03,  1.07191260e+04],\n",
       "              [-8.69831254e+03,  1.32041633e+03,  1.07196068e+04],\n",
       "              [-8.79327583e+03,  1.31881638e+03,  1.07178909e+04],\n",
       "              [-8.88824871e+03,  1.31829422e+03,  1.07158434e+04],\n",
       "              [-8.98324228e+03,  1.31728282e+03,  1.07155118e+04],\n",
       "              [-9.07822081e+03,  1.31535966e+03,  1.07159760e+04],\n",
       "              [-9.17418480e+03,  1.31295569e+03,  1.07170400e+04],\n",
       "              [-9.26915988e+03,  1.31094965e+03,  1.07168078e+04],\n",
       "              [-9.36412315e+03,  1.31065928e+03,  1.07143540e+04],\n",
       "              [-9.45904375e+03,  1.31333584e+03,  1.07117261e+04],\n",
       "              [-9.55292876e+03,  1.31763198e+03,  1.07099544e+04],\n",
       "              [-9.64784580e+03,  1.32142760e+03,  1.07089015e+04],\n",
       "              [-9.74278677e+03,  1.32470154e+03,  1.07082134e+04],\n",
       "              [-9.83874921e+03,  1.32730657e+03,  1.07079621e+04],\n",
       "              [-9.93372556e+03,  1.32916337e+03,  1.07071994e+04],\n",
       "              [-9.94971822e+03,  1.32948999e+03,  1.07068420e+04],\n",
       "              [-1.00156848e+04,  1.33084876e+03,  1.07052410e+04]])"
      ]
     },
     "execution_count": 12,
     "metadata": {},
     "output_type": "execute_result"
    }
   ],
   "source": [
    "trajectory = project.trajectory_points(well_ids[0])\n",
    "trajectory"
   ]
  },
  {
   "cell_type": "code",
   "execution_count": 13,
   "metadata": {},
   "outputs": [
    {
     "data": {
      "text/plain": [
       "10772.2012869635"
      ]
     },
     "execution_count": 13,
     "metadata": {},
     "output_type": "execute_result"
    }
   ],
   "source": [
    "max([v.z for v in trajectory])"
   ]
  },
  {
   "cell_type": "code",
   "execution_count": null,
   "metadata": {},
   "outputs": [],
   "source": []
  }
 ],
 "metadata": {
  "kernelspec": {
   "display_name": "Python 3",
   "language": "python",
   "name": "python3"
  },
  "language_info": {
   "codemirror_mode": {
    "name": "ipython",
    "version": 3
   },
   "file_extension": ".py",
   "mimetype": "text/x-python",
   "name": "python",
   "nbconvert_exporter": "python",
   "pygments_lexer": "ipython3",
   "version": "3.7.7"
  }
 },
 "nbformat": 4,
 "nbformat_minor": 4
}
