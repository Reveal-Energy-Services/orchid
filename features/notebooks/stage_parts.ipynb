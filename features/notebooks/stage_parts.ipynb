{
 "cells": [
  {
   "cell_type": "code",
   "execution_count": null,
   "metadata": {
    "collapsed": false,
    "jupyter": {
     "outputs_hidden": false
    },
    "pycharm": {
     "name": "#%%\n"
    }
   },
   "outputs": [],
   "source": [
    "from collections import namedtuple\n",
    "import dataclasses as dc\n",
    "import pathlib\n",
    "import pprint\n",
    "import random\n",
    "import uuid"
   ]
  },
  {
   "cell_type": "code",
   "execution_count": null,
   "metadata": {
    "collapsed": false,
    "jupyter": {
     "outputs_hidden": false
    },
    "pycharm": {
     "name": "#%%\n"
    }
   },
   "outputs": [],
   "source": [
    "import numpy as np\n",
    "import matplotlib.pyplot as plt\n",
    "import pandas as pd\n",
    "import pendulum\n",
    "import seaborn as sns"
   ]
  },
  {
   "cell_type": "code",
   "execution_count": null,
   "metadata": {
    "collapsed": false,
    "jupyter": {
     "outputs_hidden": false
    },
    "pycharm": {
     "name": "#%%\n"
    }
   },
   "outputs": [],
   "source": [
    "import orchid  # For `unit_registry`\n",
    "from orchid import (\n",
    "    net_quantity as onq,\n",
    "    project_store as ops,\n",
    "    unit_system as units,\n",
    ")"
   ]
  },
  {
   "cell_type": "code",
   "execution_count": null,
   "metadata": {
    "collapsed": false,
    "jupyter": {
     "outputs_hidden": false
    },
    "pycharm": {
     "name": "#%%\n"
    }
   },
   "outputs": [],
   "source": [
    "import option\n",
    "import toolz.curried as toolz"
   ]
  },
  {
   "cell_type": "code",
   "execution_count": null,
   "metadata": {
    "collapsed": false,
    "jupyter": {
     "outputs_hidden": false
    },
    "pycharm": {
     "name": "#%%\n"
    }
   },
   "outputs": [],
   "source": [
    "# noinspection PyUnresolvedReferences\n",
    "import UnitsNet\n",
    "# noinspection PyUnresolvedReferences\n",
    "from System import DateTime"
   ]
  },
  {
   "cell_type": "code",
   "execution_count": null,
   "metadata": {
    "collapsed": false,
    "jupyter": {
     "outputs_hidden": false
    },
    "pycharm": {
     "name": "#%%\n"
    }
   },
   "outputs": [],
   "source": [
    "project_filenames = {\n",
    "    'bakken': 'frankNstein_Bakken_UTM13_FEET.ifrac',\n",
    "    'montney': 'Project-frankNstein_Montney_UTM13_METERS.ifrac',\n",
    "}"
   ]
  },
  {
   "cell_type": "code",
   "execution_count": null,
   "metadata": {
    "collapsed": false,
    "jupyter": {
     "outputs_hidden": false
    },
    "pycharm": {
     "name": "#%%\n"
    }
   },
   "outputs": [],
   "source": [
    "test_data_path = pathlib.Path('c:/src/Orchid.IntegrationTestData/')\n",
    "project_path_names = toolz.valmap(lambda fn: test_data_path.joinpath(fn), \n",
    "                                  project_filenames)\n",
    "project_path_names"
   ]
  },
  {
   "cell_type": "code",
   "execution_count": null,
   "metadata": {
    "collapsed": false,
    "jupyter": {
     "outputs_hidden": false
    },
    "pycharm": {
     "name": "#%%\n"
    }
   },
   "outputs": [],
   "source": [
    "projects = toolz.valmap(\n",
    "    lambda pn: ops.ProjectStore(str(pn)).native_project(),\n",
    "    project_path_names)\n",
    "projects"
   ]
  },
  {
   "cell_type": "code",
   "execution_count": null,
   "metadata": {},
   "outputs": [],
   "source": [
    "def get_project_wells(proj):\n",
    "    return proj.Wells.Items\n",
    "\n",
    "project_wells = toolz.pipe(\n",
    "    projects,\n",
    "    toolz.valmap(get_project_wells),\n",
    "    toolz.valmap(lambda ws: {w.Name: w for w in ws}),\n",
    ")\n",
    "pprint.pprint(project_wells)"
   ]
  },
  {
   "cell_type": "code",
   "execution_count": null,
   "metadata": {
    "collapsed": false,
    "jupyter": {
     "outputs_hidden": false
    },
    "pycharm": {
     "name": "#%%\n"
    }
   },
   "outputs": [],
   "source": [
    "toolz.pipe(project_wells.values(),\n",
    "           toolz.map(len),\n",
    "           list,)"
   ]
  },
  {
   "cell_type": "code",
   "execution_count": null,
   "metadata": {},
   "outputs": [],
   "source": [
    "project_wells"
   ]
  },
  {
   "cell_type": "code",
   "execution_count": null,
   "metadata": {},
   "outputs": [],
   "source": [
    "def get_well_stages(well):\n",
    "    return well.Stages.Items\n",
    "\n",
    "well_stages = toolz.pipe(\n",
    "    project_wells,\n",
    "    toolz.valmap(toolz.valmap(get_well_stages)),\n",
    "    toolz.valmap(toolz.valmap(lambda ss: {s.DisplayStageNumber: s for s in ss})),\n",
    ")\n",
    "# pprint.pprint(well_stages)"
   ]
  },
  {
   "cell_type": "code",
   "execution_count": null,
   "metadata": {
    "collapsed": false,
    "jupyter": {
     "outputs_hidden": false
    },
    "pycharm": {
     "name": "#%%\n"
    }
   },
   "outputs": [],
   "source": [
    "toolz.pipe(\n",
    "    well_stages.values(),\n",
    "    toolz.map(lambda wss: wss.values()),\n",
    "    list,\n",
    "    toolz.map(len),\n",
    "    list,\n",
    ")"
   ]
  },
  {
   "cell_type": "code",
   "execution_count": null,
   "metadata": {},
   "outputs": [],
   "source": [
    "def get_stage_parts(stage):\n",
    "    return stage.Parts\n",
    "\n",
    "stage_parts = toolz.pipe(\n",
    "    well_stages,\n",
    "    toolz.valmap(toolz.valmap(toolz.valmap(get_stage_parts))),\n",
    ")\n",
    "# pprint.pprint(stage_parts)"
   ]
  },
  {
   "cell_type": "code",
   "execution_count": null,
   "metadata": {
    "collapsed": false,
    "jupyter": {
     "outputs_hidden": false
    },
    "pycharm": {
     "name": "#%%\n"
    }
   },
   "outputs": [],
   "source": [
    "toolz.pipe(\n",
    "    well_stages.values(),\n",
    "    toolz.map(lambda wss: wss.values()),\n",
    "    list,\n",
    "    toolz.map(len),\n",
    "    list,\n",
    ")"
   ]
  },
  {
   "cell_type": "code",
   "execution_count": null,
   "metadata": {
    "collapsed": false,
    "jupyter": {
     "outputs_hidden": false
    },
    "pycharm": {
     "name": "#%%\n"
    }
   },
   "outputs": [],
   "source": [
    "@dc.dataclass\n",
    "class StagePart:\n",
    "    object_id: uuid.UUID\n",
    "    name: str\n",
    "    display_name: str\n",
    "    display_name_with_well: str\n",
    "    display_name_without_well: str\n",
    "    start_time: pendulum.DateTime\n",
    "    stop_time: pendulum.DateTime\n",
    "    isip: orchid.unit_registry.Quantity\n",
    "    part_no: int\n",
    "    \n",
    "    \n",
    "def isip_text(sp):\n",
    "    isip = onq.as_measurement(\n",
    "        units.as_unit_system(sp.Project.ProjectUnits).PRESSURE,\n",
    "        option.maybe(sp.Isip),\n",
    "    )\n",
    "    result = f'{isip:~P}'\n",
    "    return result\n",
    "\n",
    "@toolz.curry\n",
    "def summarize_stage_part(sp):\n",
    "    result = StagePart(\n",
    "        object_id=uuid.UUID(sp.ObjectId.ToString()),\n",
    "        name=sp.Name,\n",
    "        display_name=sp.DisplayName,\n",
    "        display_name_with_well=sp.DisplayNameWithWell,\n",
    "        display_name_without_well=sp.DisplayNameWithoutWell,\n",
    "        start_time=sp.StartTime.ToString('o'),\n",
    "        stop_time=sp.StopTime.ToString('o'),\n",
    "        isip=isip_text(sp),\n",
    "        part_no=sp.PartNumber)\n",
    "    return result"
   ]
  },
  {
   "cell_type": "code",
   "execution_count": null,
   "metadata": {
    "collapsed": false,
    "jupyter": {
     "outputs_hidden": false
    },
    "pycharm": {
     "name": "#%%\n"
    }
   },
   "outputs": [],
   "source": [
    "stage_part_summary = toolz.pipe(\n",
    "    stage_parts,\n",
    "    toolz.valmap(toolz.valmap(toolz.valmap(toolz.map(summarize_stage_part)))),\n",
    "    toolz.valmap(toolz.valmap(toolz.valmap(list))),\n",
    "    toolz.valmap(toolz.valmap(toolz.valmap(toolz.nth(0)))),  # Assume only single item in list\n",
    "    toolz.valmap(toolz.valmap(toolz.valmap(lambda sp: dc.asdict(sp)))),\n",
    ")\n",
    "# pprint.pprint(stage_part_summary)"
   ]
  },
  {
   "cell_type": "code",
   "execution_count": null,
   "metadata": {
    "collapsed": false,
    "jupyter": {
     "outputs_hidden": false
    },
    "pycharm": {
     "name": "#%%\n"
    }
   },
   "outputs": [],
   "source": [
    "def stage_part_summary_to_stage(sps):\n",
    "    stage_no, summary = sps\n",
    "    return toolz.merge({'stage_no': stage_no}, summary)\n",
    "\n",
    "well_stages_summary = toolz.pipe(\n",
    "    stage_part_summary,\n",
    "    toolz.valmap(toolz.valmap(lambda ssps: ssps.items())),\n",
    "    toolz.valmap(toolz.valmap(toolz.map(stage_part_summary_to_stage))),\n",
    "    toolz.valmap(toolz.valmap(list)),\n",
    ")\n",
    "# pprint.pprint(well_stages_summary)"
   ]
  },
  {
   "cell_type": "code",
   "execution_count": null,
   "metadata": {
    "collapsed": false,
    "jupyter": {
     "outputs_hidden": false
    },
    "pycharm": {
     "name": "#%%\n"
    }
   },
   "outputs": [],
   "source": [
    "def well_stages_summary_to_well(wss):\n",
    "    well, summaries = wss\n",
    "    result = toolz.pipe(\n",
    "        summaries,\n",
    "        toolz.map(lambda summary: toolz.merge({'well': well}, summary)),\n",
    "        list,\n",
    "    )\n",
    "    return result\n",
    "\n",
    "project_wells_summary = toolz.pipe(\n",
    "    well_stages_summary,\n",
    "    toolz.valmap(lambda wss: wss.items()),\n",
    "    toolz.valmap(toolz.map(well_stages_summary_to_well)),\n",
    "    toolz.valmap(toolz.concat),\n",
    "    toolz.valmap(list),\n",
    ")\n",
    "\n",
    "# pprint.pprint(project_wells_summary)"
   ]
  },
  {
   "cell_type": "code",
   "execution_count": null,
   "metadata": {
    "collapsed": false,
    "jupyter": {
     "outputs_hidden": false
    },
    "pycharm": {
     "name": "#%%\n"
    }
   },
   "outputs": [],
   "source": [
    "def project_wells_summary_to_project(pws):\n",
    "    project, summaries = pws\n",
    "    result = toolz.pipe(\n",
    "        summaries,\n",
    "        toolz.map(lambda summary: toolz.merge({'field': project}, summary)),\n",
    "        list,\n",
    "    )\n",
    "    return result\n",
    "\n",
    "projects_summary = toolz.pipe(\n",
    "    project_wells_summary,\n",
    "    lambda pwss: pwss.items(),\n",
    "    toolz.map(project_wells_summary_to_project),\n",
    "    toolz.concat,\n",
    "    list,\n",
    ")\n",
    "\n",
    "# pprint.pprint(projects_summary)"
   ]
  },
  {
   "cell_type": "code",
   "execution_count": null,
   "metadata": {
    "collapsed": false,
    "jupyter": {
     "outputs_hidden": false
    },
    "pycharm": {
     "name": "#%%\n"
    }
   },
   "outputs": [],
   "source": [
    "all_stage_parts_frame = pd.DataFrame(data=projects_summary)\n",
    "# all_stage_parts_frame"
   ]
  },
  {
   "cell_type": "code",
   "execution_count": null,
   "metadata": {
    "collapsed": false,
    "jupyter": {
     "outputs_hidden": false
    },
    "pycharm": {
     "name": "#%%\n"
    }
   },
   "outputs": [],
   "source": [
    "all_parts_identifiers = all_stage_parts_frame.loc[:, ['field', 'well', 'stage_no',\n",
    "                                                      'part_no', 'name', 'display_name',\n",
    "                                                      'display_name_with_well',\n",
    "                                                      'display_name_without_well']]\n",
    "# all_parts_identifiers"
   ]
  },
  {
   "cell_type": "code",
   "execution_count": null,
   "metadata": {
    "collapsed": false,
    "jupyter": {
     "outputs_hidden": false
    },
    "pycharm": {
     "name": "#%%\n"
    }
   },
   "outputs": [],
   "source": [
    "# Fields\n",
    "bakken = all_parts_identifiers['field'] == 'bakken'\n",
    "montney = all_parts_identifiers['field'] == 'montney'"
   ]
  },
  {
   "cell_type": "code",
   "execution_count": null,
   "metadata": {
    "collapsed": false,
    "jupyter": {
     "outputs_hidden": false
    },
    "pycharm": {
     "name": "#%%\n"
    }
   },
   "outputs": [],
   "source": [
    "# Wells\n",
    "demo_1h = all_parts_identifiers['well'] == 'Demo_1H'\n",
    "demo_2h = all_parts_identifiers['well'] == 'Demo_2H'\n",
    "demo_4h = all_parts_identifiers['well'] == 'Demo_4H'\n",
    "hori_01 = all_parts_identifiers['well'] == 'Hori_01'\n",
    "hori_02 = all_parts_identifiers['well'] == 'Hori_02'\n",
    "hori_03 = all_parts_identifiers['well'] == 'Hori_03'\n",
    "vert_01 = all_parts_identifiers['well'] == 'Vert_01'"
   ]
  },
  {
   "cell_type": "code",
   "execution_count": null,
   "metadata": {
    "collapsed": false,
    "jupyter": {
     "outputs_hidden": false
    },
    "pycharm": {
     "name": "#%%\n"
    }
   },
   "outputs": [],
   "source": [
    "def generate_candidates(count):\n",
    "    return [n + 1 for n, _ in enumerate(range(count))]\n",
    "\n",
    "candidates = {n: generate_candidates(n) for n in {50, 35, 15, 29, 28, 4}}\n",
    "toolz.valmap(lambda cs: random.shuffle(cs), candidates)  # Relies on side-effect on `candidates`\n",
    "sampled_stage_nos = toolz.valmap(lambda cs: cs[:8], candidates)\n",
    "sampled_stage_nos"
   ]
  },
  {
   "cell_type": "code",
   "execution_count": null,
   "metadata": {
    "collapsed": false,
    "jupyter": {
     "outputs_hidden": false
    },
    "pycharm": {
     "name": "#%%\n"
    }
   },
   "outputs": [],
   "source": [
    "def make_stage_selector(stage_no):\n",
    "    return all_parts_identifiers['stage_no'] == stage_no"
   ]
  },
  {
   "cell_type": "code",
   "execution_count": null,
   "metadata": {
    "collapsed": false,
    "jupyter": {
     "outputs_hidden": false
    },
    "pycharm": {
     "name": "#%%\n"
    }
   },
   "outputs": [],
   "source": [
    "# Bakken stages\n",
    "stages_demo_1h = all_parts_identifiers['stage_no'].isin([1, 50, 31, 9])\n",
    "stages_demo_2h = all_parts_identifiers['stage_no'].isin([1, 50, 42, 15])\n",
    "stages_demo_4h = all_parts_identifiers['stage_no'].isin([1, 35, 18, 28])\n",
    "\n",
    "# Montney stages\n",
    "stages_hori_01 = all_parts_identifiers['stage_no'].isin([1, 15, 11, 4])\n",
    "stages_hori_02 = all_parts_identifiers['stage_no'].isin([1, 29, 14, 21])\n",
    "stages_hori_03 = all_parts_identifiers['stage_no'].isin([1, 28, 13, 19])\n",
    "stages_vert_01 = all_parts_identifiers['stage_no'].isin([1, 2, 3, 4])"
   ]
  },
  {
   "cell_type": "code",
   "execution_count": null,
   "metadata": {
    "collapsed": false,
    "jupyter": {
     "outputs_hidden": false
    },
    "pycharm": {
     "name": "#%%\n"
    }
   },
   "outputs": [],
   "source": [
    "pd.concat(\n",
    "    objs=[\n",
    "        all_parts_identifiers[bakken & demo_1h & stages_demo_1h],\n",
    "        all_parts_identifiers[bakken & demo_2h & stages_demo_2h],\n",
    "        all_parts_identifiers[bakken & demo_4h & stages_demo_4h],\n",
    "    ], axis=0)"
   ]
  },
  {
   "cell_type": "code",
   "execution_count": null,
   "metadata": {
    "collapsed": false,
    "jupyter": {
     "outputs_hidden": false
    },
    "pycharm": {
     "name": "#%%\n"
    }
   },
   "outputs": [],
   "source": [
    "pd.concat(\n",
    "    objs=[\n",
    "        all_parts_identifiers[montney & hori_01 & stages_hori_01],\n",
    "        all_parts_identifiers[montney & hori_02 & stages_hori_02],\n",
    "        all_parts_identifiers[montney & hori_03 & stages_hori_03],\n",
    "        all_parts_identifiers[montney & vert_01 & stages_vert_01],\n",
    "    ], axis=0)"
   ]
  },
  {
   "cell_type": "code",
   "execution_count": null,
   "metadata": {
    "collapsed": false,
    "jupyter": {
     "outputs_hidden": false
    },
    "pycharm": {
     "name": "#%%\n"
    }
   },
   "outputs": [],
   "source": [
    "all_parts_details = all_stage_parts_frame.loc[:, ['field', 'well', 'stage_no', 'part_no',\n",
    "                                                  'start_time', 'stop_time', 'isip']]\n",
    "# all_parts_details"
   ]
  },
  {
   "cell_type": "code",
   "execution_count": null,
   "metadata": {
    "collapsed": false,
    "jupyter": {
     "outputs_hidden": false
    },
    "pycharm": {
     "name": "#%%\n"
    }
   },
   "outputs": [],
   "source": [
    "pd.concat(\n",
    "    objs=[\n",
    "        all_parts_details[bakken & demo_1h & stages_demo_1h],\n",
    "        all_parts_details[bakken & demo_2h & stages_demo_2h],\n",
    "        all_parts_details[bakken & demo_4h & stages_demo_4h],\n",
    "    ], axis=0)"
   ]
  },
  {
   "cell_type": "code",
   "execution_count": null,
   "metadata": {
    "collapsed": false,
    "jupyter": {
     "outputs_hidden": false
    },
    "pycharm": {
     "name": "#%%\n"
    }
   },
   "outputs": [],
   "source": [
    "pd.concat(\n",
    "    objs=[\n",
    "        all_parts_details[montney & hori_01 & stages_hori_01],\n",
    "        all_parts_details[montney & hori_02 & stages_hori_02],\n",
    "        all_parts_details[montney & hori_03 & stages_hori_03],\n",
    "        all_parts_details[montney & vert_01 & stages_vert_01],\n",
    "    ], axis=0)"
   ]
  },
  {
   "cell_type": "code",
   "execution_count": null,
   "metadata": {},
   "outputs": [],
   "source": []
  }
 ],
 "metadata": {
  "kernelspec": {
   "display_name": "Python 3 (ipykernel)",
   "language": "python",
   "name": "python3"
  },
  "language_info": {
   "codemirror_mode": {
    "name": "ipython",
    "version": 3
   },
   "file_extension": ".py",
   "mimetype": "text/x-python",
   "name": "python",
   "nbconvert_exporter": "python",
   "pygments_lexer": "ipython3",
   "version": "3.8.7"
  }
 },
 "nbformat": 4,
 "nbformat_minor": 4
}
