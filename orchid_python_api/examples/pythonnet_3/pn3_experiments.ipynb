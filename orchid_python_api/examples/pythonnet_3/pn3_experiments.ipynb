{
 "cells": [
  {
   "cell_type": "code",
   "execution_count": null,
   "id": "eb29845a-d005-49eb-8c8e-9d89498ab911",
   "metadata": {},
   "outputs": [],
   "source": [
    "import orchid"
   ]
  },
  {
   "cell_type": "code",
   "execution_count": null,
   "id": "19621d00-1157-4131-85f2-82b068d9ad77",
   "metadata": {},
   "outputs": [],
   "source": [
    "# Remember that importing `orchid` results in a call to `pythonnet.load()`\n",
    "# to specify the targeted runtime:\n",
    "#\n",
    "# 'netfx': .NET Framework\n",
    "# 'coreclr': .NET Core\n",
    "# 'mono': Mono\n",
    "\n",
    "import clr"
   ]
  },
  {
   "cell_type": "code",
   "execution_count": null,
   "outputs": [],
   "source": [
    "from System import DateTime, DateTimeKind, DateTimeOffset, TimeSpan"
   ],
   "metadata": {
    "collapsed": false
   }
  },
  {
   "cell_type": "code",
   "execution_count": null,
   "outputs": [],
   "source": [
    "DateTime"
   ],
   "metadata": {
    "collapsed": false
   }
  },
  {
   "cell_type": "code",
   "execution_count": null,
   "outputs": [],
   "source": [
    "DateTime.Overloads, DateTime.__overloads__"
   ],
   "metadata": {
    "collapsed": false
   }
  },
  {
   "cell_type": "code",
   "execution_count": null,
   "outputs": [],
   "source": [
    "type(DateTime.__overloads__)"
   ],
   "metadata": {
    "collapsed": false
   }
  },
  {
   "cell_type": "code",
   "execution_count": null,
   "outputs": [],
   "source": [
    "dir(DateTime)"
   ],
   "metadata": {
    "collapsed": false
   }
  },
  {
   "cell_type": "code",
   "execution_count": null,
   "outputs": [],
   "source": [
    "import pythonnet"
   ],
   "metadata": {
    "collapsed": false
   }
  },
  {
   "cell_type": "code",
   "execution_count": null,
   "outputs": [],
   "source": [
    "pythonnet.get_runtime_info()"
   ],
   "metadata": {
    "collapsed": false
   }
  },
  {
   "cell_type": "code",
   "execution_count": null,
   "outputs": [],
   "source": [
    "type(DateTimeKind.Utc)"
   ],
   "metadata": {
    "collapsed": false
   }
  },
  {
   "cell_type": "code",
   "execution_count": null,
   "outputs": [],
   "source": [
    "dir(DateTimeKind.Utc)"
   ],
   "metadata": {
    "collapsed": false
   }
  },
  {
   "cell_type": "code",
   "execution_count": null,
   "outputs": [],
   "source": [
    "DateTimeKind.Utc.GetType()"
   ],
   "metadata": {
    "collapsed": false
   }
  },
  {
   "cell_type": "code",
   "execution_count": null,
   "outputs": [],
   "source": [
    "dir(DateTimeKind.Utc.GetType())"
   ],
   "metadata": {
    "collapsed": false
   }
  },
  {
   "cell_type": "code",
   "execution_count": null,
   "outputs": [],
   "source": [
    "DateTimeKind.Utc.GetType().BaseType"
   ],
   "metadata": {
    "collapsed": false
   }
  },
  {
   "cell_type": "code",
   "execution_count": null,
   "outputs": [],
   "source": [
    "DateTimeKind.Utc.GetType().BaseType.FullName"
   ],
   "metadata": {
    "collapsed": false
   }
  },
  {
   "cell_type": "code",
   "execution_count": null,
   "outputs": [],
   "source": [
    "[n for n in dir(DateTimeOffset) if 'Equality' in n]"
   ],
   "metadata": {
    "collapsed": false
   }
  },
  {
   "cell_type": "code",
   "execution_count": null,
   "outputs": [],
   "source": [
    "DateTimeOffset.op_Equality.__overloads__"
   ],
   "metadata": {
    "collapsed": false
   }
  },
  {
   "cell_type": "code",
   "execution_count": null,
   "outputs": [],
   "source": [
    "try:\n",
    "    print('Trying `108 == DateTimeOffset.Value`')\n",
    "    108 == DateTimeOffset.MaxValue\n",
    "except TypeError as te:\n",
    "    print(f'TypeError: {te}')"
   ],
   "metadata": {
    "collapsed": false
   }
  },
  {
   "cell_type": "code",
   "execution_count": null,
   "outputs": [],
   "source": [
    "try:\n",
    "    print('Trying `108 == TimeSpan.MaxValue`')\n",
    "    108 == TimeSpan.MaxValue\n",
    "except TypeError as te:\n",
    "    print(f'TypeError: {te}')"
   ],
   "metadata": {
    "collapsed": false
   }
  },
  {
   "cell_type": "markdown",
   "source": [
    "We filed an issue with the Python.NET team. The fairly quickly responded with the following:\n",
    "\n",
    "\"\"\"\n",
    "Yes, we tried to limit the \"implicit\" conversions to a minimum. I don't even know, which\n",
    "change in particular is responsible for the behavioural change fix that you are observing\n",
    "here, but you are only able to compare things to a .NET object that are directly convertible\n",
    "to it. If you'd really require this for DateTimeOffset and TimeSpan, you could make them\n",
    "convertible via a Codec. Otherwise, I'd suggest you just generate the respective comparison\n",
    "values using .FromTicks.\n",
    "\"\"\""
   ],
   "metadata": {
    "collapsed": false
   }
  },
  {
   "cell_type": "code",
   "execution_count": null,
   "outputs": [],
   "source": [
    "108 == DateTimeOffset.MaxValue.Ticks"
   ],
   "metadata": {
    "collapsed": false
   }
  },
  {
   "cell_type": "code",
   "execution_count": null,
   "outputs": [],
   "source": [
    "108 == TimeSpan.MaxValue.Ticks"
   ],
   "metadata": {
    "collapsed": false
   }
  },
  {
   "cell_type": "code",
   "execution_count": null,
   "outputs": [],
   "source": [
    "108 == TimeSpan.MinValue.Ticks"
   ],
   "metadata": {
    "collapsed": false
   }
  },
  {
   "cell_type": "markdown",
   "source": [
    "Python.NET 2.5.2 allowed expressions like `TimeSpan()`. (Note that the .NET\n",
    "`TimeSpan` class **does not** have a default constructor.) This expression\n",
    "is no longer supported. Instead, one must supply an argument (typically\n",
    "zero (0)) to the constructor or to methods like `TimeSpan.FromTicks()`."
   ],
   "metadata": {
    "collapsed": false
   }
  },
  {
   "cell_type": "code",
   "execution_count": null,
   "outputs": [],
   "source": [
    "TimeSpan(8801)"
   ],
   "metadata": {
    "collapsed": false
   }
  },
  {
   "cell_type": "code",
   "execution_count": null,
   "outputs": [],
   "source": [
    "try:\n",
    "    print('Trying expression, `TimeSpan()`')\n",
    "    TimeSpan()\n",
    "except TypeError as te:\n",
    "    print(f'TypeError: {te}')"
   ],
   "metadata": {
    "collapsed": false
   }
  },
  {
   "cell_type": "code",
   "execution_count": null,
   "outputs": [],
   "source": [
    "TimeSpan(0)"
   ],
   "metadata": {
    "collapsed": false
   }
  },
  {
   "cell_type": "code",
   "execution_count": null,
   "outputs": [],
   "source": [
    "TimeSpan.FromTicks(0)"
   ],
   "metadata": {
    "collapsed": false
   }
  },
  {
   "cell_type": "code",
   "execution_count": null,
   "outputs": [],
   "source": [],
   "metadata": {
    "collapsed": false
   }
  }
 ],
 "metadata": {
  "kernelspec": {
   "display_name": "Python 3 (ipykernel)",
   "language": "python",
   "name": "python3"
  },
  "language_info": {
   "codemirror_mode": {
    "name": "ipython",
    "version": 3
   },
   "file_extension": ".py",
   "mimetype": "text/x-python",
   "name": "python",
   "nbconvert_exporter": "python",
   "pygments_lexer": "ipython3",
   "version": "3.8.10"
  }
 },
 "nbformat": 4,
 "nbformat_minor": 5
}
