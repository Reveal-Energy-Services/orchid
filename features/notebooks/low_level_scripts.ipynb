{
 "cells": [
  {
   "cell_type": "code",
   "execution_count": null,
   "id": "1576e0d1-ef48-4352-93d1-db11f4e53b8a",
   "metadata": {},
   "outputs": [],
   "source": [
    "import parsy"
   ]
  },
  {
   "cell_type": "code",
   "execution_count": null,
   "id": "518ce5be-33a1-40eb-a75c-3ab2ff968db5",
   "metadata": {},
   "outputs": [],
   "source": [
    "auto_pick_output_text = r\"\"\"INFO:root:native_project.Name='frankNstein_Bakken_UTM13_FEET'\n",
    "INFO:root:len(native_project.ObservationSets.Items)=2\n",
    "INFO:root:observation_set.Name='ParentWellObservations'\n",
    "INFO:root:len(observation_set.GetObservations())=17\n",
    "INFO:root:observation_set.Name='Auto-picked Observation Set3'\n",
    "INFO:root:len(observation_set.GetObservations())=120\n",
    "INFO:root:Wrote changes to \"c:\\src\\Orchid.IntegrationTestData\\frankNstein_Bakken_UTM13_FEET.999.ifrac\"\n",
    "\"\"\""
   ]
  },
  {
   "cell_type": "code",
   "execution_count": null,
   "id": "04096660-f3b5-480f-bc83-5c4a46bdd48c",
   "metadata": {},
   "outputs": [],
   "source": [
    "auto_pick_output_text"
   ]
  },
  {
   "cell_type": "code",
   "execution_count": null,
   "id": "0137eace-d438-4ffe-be9e-1cd97ee7cca5",
   "metadata": {},
   "outputs": [],
   "source": [
    "# Utility parsers\n",
    "newline = parsy.string('\\n')\n",
    "left_brace = parsy.string('{')\n",
    "right_brace = parsy.string('}')\n",
    "integer = parsy.regex(r'\\d+').map(int)"
   ]
  },
  {
   "cell_type": "code",
   "execution_count": null,
   "id": "6a102d53-1089-4a46-8382-36549f850e02",
   "metadata": {},
   "outputs": [],
   "source": [
    "# Single-line parsers\n",
    "project_name = parsy.string(\"INFO:root:native_project.Name='frankNstein_Bakken_UTM13_FEET'\")\n",
    "observation_set_items = parsy.string(\"INFO:root:len(native_project.ObservationSets.Items)=2\")\n",
    "parent_well_observations = parsy.string(\"INFO:root:observation_set.Name='ParentWellObservations'\")\n",
    "get_observations = parsy.string(\"INFO:root:len(observation_set.GetObservations())=\") >> parsy.regex(r'\\d+').map(int)\n",
    "auto_picked_observation_set = parsy.string(\"INFO:root:observation_set.Name='Auto-picked Observation Set3'\")\n",
    "output_path_name = (parsy.string('INFO:root:Wrote changes to') >>\n",
    "                    parsy.regex(r' \"c:\\\\src\\\\Orchid.IntegrationTestData\\\\frankNstein_Bakken_UTM13_FEET.\\d{3}.ifrac\"'))\n",
    "unique_attribute_count_per_stage_per_well_equals = parsy.string(r'INFO:root:Unique counts of attributes per stage per well=')"
   ]
  },
  {
   "cell_type": "code",
   "execution_count": null,
   "id": "991e746e-9169-4cf8-b029-f17495d77ae2",
   "metadata": {},
   "outputs": [],
   "source": [
    "@parsy.generate\n",
    "def attribute_count_per_stage_per_well():\n",
    "    yield unique_attribute_count_per_stage_per_well_equals\n",
    "    yield left_brace\n",
    "    attribute_per_stage_per_well_count = yield integer\n",
    "    yield right_brace\n",
    "    \n",
    "    return attribute_per_stage_per_well_count"
   ]
  },
  {
   "cell_type": "code",
   "execution_count": null,
   "id": "ea5d1cbc-dc7a-4df5-a592-b3a1dbc3fdfe",
   "metadata": {},
   "outputs": [],
   "source": [
    "@parsy.generate\n",
    "def get_second_observations_count():\n",
    "    yield project_name\n",
    "    yield newline >> observation_set_items\n",
    "    yield newline >> parent_well_observations\n",
    "    yield newline >> get_observations\n",
    "    yield newline >> auto_picked_observation_set\n",
    "    get_observations_count = yield newline >> get_observations\n",
    "    yield (newline >> attribute_count_per_stage_per_well).optional()\n",
    "    yield newline >> output_path_name\n",
    "    yield newline\n",
    "\n",
    "    return get_observations_count"
   ]
  },
  {
   "cell_type": "code",
   "execution_count": null,
   "id": "be9759df-13e8-470d-aeb4-f2c2e3a9ae2e",
   "metadata": {},
   "outputs": [],
   "source": [
    "get_second_observations_count.parse(auto_pick_output_text)"
   ]
  },
  {
   "cell_type": "code",
   "execution_count": null,
   "id": "8033c2f9-c878-444f-9f3b-8cadaa9c980d",
   "metadata": {},
   "outputs": [],
   "source": [
    "auto_pick_and_create_attributes_output_text = r\"\"\"INFO:root:native_project.Name='frankNstein_Bakken_UTM13_FEET'\n",
    "INFO:root:len(native_project.ObservationSets.Items)=2\n",
    "INFO:root:observation_set.Name='ParentWellObservations'\n",
    "INFO:root:len(observation_set.GetObservations())=17\n",
    "INFO:root:observation_set.Name='Auto-picked Observation Set3'\n",
    "INFO:root:len(observation_set.GetObservations())=120\n",
    "INFO:root:Unique counts of attributes per stage per well={2}\n",
    "INFO:root:Wrote changes to \"c:\\src\\Orchid.IntegrationTestData\\frankNstein_Bakken_UTM13_FEET.998.ifrac\"\n",
    "\"\"\""
   ]
  },
  {
   "cell_type": "code",
   "execution_count": null,
   "id": "5c8a887c-11a2-402a-911a-ab9069c2eb89",
   "metadata": {},
   "outputs": [],
   "source": [
    "@parsy.generate\n",
    "def get_attribute_count_for_each_stage_and_well():\n",
    "    yield project_name\n",
    "    yield newline >> observation_set_items\n",
    "    yield newline >> parent_well_observations\n",
    "    yield newline >> get_observations\n",
    "    yield newline >> auto_picked_observation_set\n",
    "    yield newline >> get_observations\n",
    "    attribute_count_for_each_stage_and_well = yield newline >> attribute_count_per_stage_per_well\n",
    "    yield newline >> output_path_name\n",
    "    yield newline\n",
    "\n",
    "    return attribute_count_for_each_stage_and_well"
   ]
  },
  {
   "cell_type": "code",
   "execution_count": null,
   "id": "6886fb21-1caa-424c-928d-6c9dbb4ffa4c",
   "metadata": {},
   "outputs": [],
   "source": [
    "get_attribute_count_for_each_stage_and_well.parse(auto_pick_and_create_attributes_output_text)"
   ]
  },
  {
   "cell_type": "code",
   "execution_count": null,
   "id": "4d1be20a-2726-472c-832a-155f951a87e9",
   "metadata": {},
   "outputs": [],
   "source": []
  }
 ],
 "metadata": {
  "kernelspec": {
   "display_name": "Python 3 (ipykernel)",
   "language": "python",
   "name": "python3"
  },
  "language_info": {
   "codemirror_mode": {
    "name": "ipython",
    "version": 3
   },
   "file_extension": ".py",
   "mimetype": "text/x-python",
   "name": "python",
   "nbconvert_exporter": "python",
   "pygments_lexer": "ipython3",
   "version": "3.8.10"
  }
 },
 "nbformat": 4,
 "nbformat_minor": 5
}
