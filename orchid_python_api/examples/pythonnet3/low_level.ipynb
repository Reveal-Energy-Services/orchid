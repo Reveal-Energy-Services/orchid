{
 "cells": [
  {
   "cell_type": "code",
   "execution_count": null,
   "outputs": [],
   "source": [
    "import orchid"
   ],
   "metadata": {
    "collapsed": false
   }
  },
  {
   "cell_type": "code",
   "execution_count": null,
   "outputs": [],
   "source": [
    "# Remember that importing `orchid` results in a call to `pythonnet.load()`\n",
    "# to specify the targeted runtime:\n",
    "#\n",
    "# 'netfx': .NET Framework\n",
    "# 'coreclr': .NET Core\n",
    "# 'mono': Mono\n",
    "\n",
    "import clr"
   ],
   "metadata": {
    "collapsed": false
   }
  },
  {
   "cell_type": "code",
   "execution_count": null,
   "outputs": [],
   "source": [
    "from System import (\n",
    "    ArgumentException,\n",
    "    Array,\n",
    "    DateTime,\n",
    "    TimeSpan,\n",
    "    Int32,\n",
    "    ValueType,\n",
    ")"
   ],
   "metadata": {
    "collapsed": false
   }
  },
  {
   "cell_type": "markdown",
   "source": [
    "During integration testing, we discovered an issue setting an attribute with\n",
    "type, `Int32`, using a Python `int` of value 7. The run-time reported that\n",
    "the types, `Int32` and `PyInt` were incompatible. This scenario requires\n",
    "significant set up."
   ],
   "metadata": {
    "collapsed": false
   }
  },
  {
   "cell_type": "code",
   "execution_count": null,
   "outputs": [],
   "source": [
    "# Find the well named 'Demo_1H'\n",
    "bakken = orchid.load_project('c:/src/Orchid.IntegrationTestData/frankNstein_Bakken_UTM13_FEET.ifrac')\n",
    "candidate_wells = list(bakken.wells().find_by_name('Demo_1H'))\n",
    "assert len(candidate_wells) == 1\n",
    "demo_1h = candidate_wells[0]"
   ],
   "metadata": {
    "collapsed": false
   }
  },
  {
   "cell_type": "code",
   "execution_count": null,
   "outputs": [],
   "source": [
    "# Create an attribute with name, 'My New Attribute', and type, `System.Int32`\n",
    "from Orchid.FractureDiagnostics.Factories.Implementations import Attribute\n",
    "\n",
    "attribute_to_add_type = Int32\n",
    "attribute_to_add = Attribute[attribute_to_add_type].Create('My New Attribute')"
   ],
   "metadata": {
    "collapsed": false
   }
  },
  {
   "cell_type": "code",
   "execution_count": null,
   "outputs": [],
   "source": [
    "# Add newly created attribute to well, 'Demo_1H'\n",
    "with orchid.dot_net_disposable.disposable(demo_1h.dom_object.ToMutable()) as mutable_well:\n",
    "    mutable_well.AddStageAttribute(attribute_to_add)"
   ],
   "metadata": {
    "collapsed": false
   }
  },
  {
   "cell_type": "code",
   "execution_count": null,
   "outputs": [],
   "source": [
    "# Find stage number 7 in well, 'Demo_1H'\n",
    "maybe_stage = demo_1h.stages().find_by_display_stage_number(7)\n",
    "assert maybe_stage is not None\n",
    "stage_7 = maybe_stage"
   ],
   "metadata": {
    "collapsed": false
   }
  },
  {
   "cell_type": "code",
   "execution_count": null,
   "outputs": [],
   "source": [
    "# Add attribute with value, 17, to stage 7, with Python `int` type.\n",
    "with (orchid.dot_net_disposable.disposable(stage_7.dom_object.ToMutable())) as mutable_stage:\n",
    "    # This action will fail because the attribute type is `System.Int32`\n",
    "    # and `pythonnet-3.0.0.post1` **does not** implicitly equate these two types.\n",
    "    try:\n",
    "        mutable_stage.SetAttribute(attribute_to_add, int)\n",
    "    except ArgumentException as ae:\n",
    "        print(f'ArgumentException: {ae}')\n"
   ],
   "metadata": {
    "collapsed": false
   }
  },
  {
   "cell_type": "code",
   "execution_count": null,
   "outputs": [],
   "source": [
    "# Add attribute with value, 17, to stage 7\n",
    "with (orchid.dot_net_disposable.disposable(stage_7.dom_object.ToMutable())) as mutable_stage:\n",
    "    mutable_stage.SetAttribute(attribute_to_add, attribute_to_add_type(7))\n"
   ],
   "metadata": {
    "collapsed": false
   }
  },
  {
   "cell_type": "code",
   "execution_count": null,
   "outputs": [],
   "source": [
    "# Verify added attribute value\n",
    "ignored_object = object()\n",
    "is_attribute_present, actual_attribute_value = stage_7.dom_object.TryGetAttributeValue(attribute_to_add,\n",
    "                                                                                       ignored_object)\n",
    "assert is_attribute_present\n",
    "assert type(actual_attribute_value) == int\n",
    "assert actual_attribute_value == 7"
   ],
   "metadata": {
    "collapsed": false
   }
  },
  {
   "cell_type": "markdown",
   "source": [
    "### Leakoff.ControlPoints and no ValueType() ctor error"
   ],
   "metadata": {
    "collapsed": false
   }
  },
  {
   "cell_type": "code",
   "execution_count": null,
   "outputs": [],
   "source": [
    "# noinspection PyUnresolvedReferences\n",
    "from Orchid.FractureDiagnostics import Leakoff\n",
    "\n",
    "clr.AddReference('System.Collections')\n",
    "# noinspection PyUnresolvedReferences\n",
    "from System.Collections.Generic import List\n",
    "# noinspection PyUnresolvedReferences\n",
    "import UnitsNet\n"
   ],
   "metadata": {
    "collapsed": false
   }
  },
  {
   "cell_type": "code",
   "execution_count": null,
   "outputs": [],
   "source": [
    "end = DateTime.UtcNow\n",
    "start = end.Subtract(TimeSpan.FromMinutes(10))\n",
    "control_points = List[Leakoff.ControlPoint]()"
   ],
   "metadata": {
    "collapsed": false
   }
  },
  {
   "cell_type": "code",
   "execution_count": null,
   "outputs": [],
   "source": [
    "try:\n",
    "    control_points.Add(Leakoff.ControlPoint(\n",
    "        DateTime=start,\n",
    "        Pressure=UnitsNet.Pressure(95.64, UnitsNet.Units.PressureUnit.PoundForcePerSquareInch)))\n",
    "    control_points.Add(Leakoff.ControlPoint(\n",
    "        DateTime=end,\n",
    "        Pressure=UnitsNet.Pressure(104.8, UnitsNet.Units.PressureUnit.PoundForcePerSquareInch)))\n",
    "except TypeError as te:\n",
    "    print(f'TypeError: {te}')\n"
   ],
   "metadata": {
    "collapsed": false
   }
  },
  {
   "cell_type": "code",
   "execution_count": null,
   "outputs": [],
   "source": [
    "foo = List[TimeSpan]()\n",
    "foo.Add(TimeSpan.FromSeconds(314))"
   ],
   "metadata": {
    "collapsed": false
   }
  },
  {
   "cell_type": "code",
   "execution_count": null,
   "outputs": [],
   "source": [
    "TimeSpan is ValueType"
   ],
   "metadata": {
    "collapsed": false
   }
  },
  {
   "cell_type": "code",
   "execution_count": null,
   "outputs": [],
   "source": [
    "error_control_points = List[Leakoff.ControlPoint](2)\n",
    "print(f'{error_control_points.Capacity=}')\n",
    "print(f'{error_control_points.Count=}')\n"
   ],
   "metadata": {
    "collapsed": false
   }
  },
  {
   "cell_type": "code",
   "execution_count": null,
   "outputs": [],
   "source": [
    "try:\n",
    "    error_control_points.Add(Leakoff.ControlPoint(\n",
    "        DateTime=start,\n",
    "        Pressure=UnitsNet.Pressure(95.64, UnitsNet.Units.PressureUnit.PoundForcePerSquareInch)))\n",
    "    error_control_points.Add(Leakoff.ControlPoint(\n",
    "        DateTime=end,\n",
    "        Pressure=UnitsNet.Pressure(104.8, UnitsNet.Units.PressureUnit.PoundForcePerSquareInch)))\n",
    "except TypeError as te:\n",
    "    print(f'TypeError: {te}')"
   ],
   "metadata": {
    "collapsed": false
   }
  },
  {
   "cell_type": "code",
   "execution_count": null,
   "outputs": [],
   "source": [
    "try:\n",
    "    error_control_points[0] = Leakoff.ControlPoint(\n",
    "        DateTime=start,\n",
    "        Pressure=UnitsNet.Pressure(95.64, UnitsNet.Units.PressureUnit.PoundForcePerSquareInch))\n",
    "except TypeError as te:\n",
    "    print(f'TypeError: {te}')"
   ],
   "metadata": {
    "collapsed": false
   }
  },
  {
   "cell_type": "code",
   "execution_count": null,
   "outputs": [],
   "source": [
    "try:\n",
    "    python_control_points = [\n",
    "        Leakoff.ControlPoint(\n",
    "            DateTime=start,\n",
    "            Pressure=UnitsNet.Pressure(95.64, UnitsNet.Units.PressureUnit.PoundForcePerSquareInch)),\n",
    "        Leakoff.ControlPoint(\n",
    "            DateTime=end,\n",
    "            Pressure=UnitsNet.Pressure(104.8, UnitsNet.Units.PressureUnit.PoundForcePerSquareInch)),\n",
    "    ]\n",
    "    error_again_control_points = List[Leakoff.ControlPoint](python_control_points)\n",
    "except TypeError as te:\n",
    "    print(f'TypeError: {te}')"
   ],
   "metadata": {
    "collapsed": false
   }
  },
  {
   "cell_type": "code",
   "execution_count": null,
   "outputs": [],
   "source": [
    "try:\n",
    "    control_points_array = Array[Leakoff.ControlPoint](2)\n",
    "    control_points_array[0] = Leakoff.ControlPoint(\n",
    "            DateTime=start,\n",
    "            Pressure=UnitsNet.Pressure(95.64, UnitsNet.Units.PressureUnit.PoundForcePerSquareInch))\n",
    "    control_points_array[1] = Leakoff.ControlPoint(\n",
    "            DateTime=end,\n",
    "            Pressure=UnitsNet.Pressure(104.8, UnitsNet.Units.PressureUnit.PoundForcePerSquareInch))\n",
    "except TypeError as te:\n",
    "    print(f'TypeError: {te}')"
   ],
   "metadata": {
    "collapsed": false
   }
  },
  {
   "cell_type": "markdown",
   "source": [
    "The Orchid team ran some experiments in C#. We observed:\n",
    "\n",
    "- Code that created a `List<Leakoff.ControlPoint>()` and then using\n",
    "  `List.Add()` ran without any errors.\n",
    "- Code that tried to invoke the \"constructor\",\n",
    "  `Leakoff.ControlPoint(DateTime, Pressure)` failed to compile.\n",
    "\n",
    "These observations led us to the hypothesis that `pythonnet-2.5.2` performed\n",
    "additional work to convert the Python expression\n",
    "`Leakoff.ControlPoint(DateTime.UtcNow, Pressure.FromPoundsForcePerSquareInt(100))`\n",
    "into the equivalent C# code:\n",
    "\n",
    "```\n",
    "var controlPoint = new Leakoff.ControlPoint();\n",
    "controlPoint.Date = DateTime.UtcNow;\n",
    "controlPoint.Pressure = Pressure.FromPoundsForcePerSquareInch(100);\n",
    "```\n",
    "\n",
    "The following cell tests that hypothesis."
   ],
   "metadata": {
    "collapsed": false
   }
  },
  {
   "cell_type": "code",
   "execution_count": null,
   "outputs": [],
   "source": [
    "python_control_points = [Leakoff.ControlPoint(), Leakoff.ControlPoint()]\n",
    "python_control_points[0].DateTime = start\n",
    "python_control_points[0].Pressure = UnitsNet.Pressure(95.64, UnitsNet.Units.PressureUnit.PoundForcePerSquareInch)\n",
    "python_control_points[1].DateTime = start\n",
    "python_control_points[1].Pressure = UnitsNet.Pressure(104.8, UnitsNet.Units.PressureUnit.PoundForcePerSquareInch)\n"
   ],
   "metadata": {
    "collapsed": false
   }
  },
  {
   "cell_type": "code",
   "execution_count": null,
   "outputs": [],
   "source": [
    "working_control_points = List[Leakoff.ControlPoint]()\n",
    "working_control_points.Add(python_control_points[0])\n",
    "working_control_points.Add(python_control_points[1])"
   ],
   "metadata": {
    "collapsed": false
   }
  },
  {
   "cell_type": "code",
   "execution_count": null,
   "outputs": [],
   "source": [
    "stage_parts = stage_7.dom_object.Parts\n",
    "type(stage_parts)"
   ],
   "metadata": {
    "collapsed": false
   }
  },
  {
   "cell_type": "code",
   "execution_count": null,
   "outputs": [],
   "source": [
    "stage_parts.GetType()"
   ],
   "metadata": {
    "collapsed": false
   }
  },
  {
   "cell_type": "code",
   "execution_count": null,
   "outputs": [],
   "source": [
    "stage_parts.GetType().BaseType.FullName"
   ],
   "metadata": {
    "collapsed": false
   }
  },
  {
   "cell_type": "code",
   "execution_count": null,
   "outputs": [],
   "source": [
    "net_l = List[Int32]()\n",
    "net_l.Add(Int32(1))\n",
    "net_l.GetType().FullName"
   ],
   "metadata": {
    "collapsed": false
   }
  },
  {
   "cell_type": "code",
   "execution_count": null,
   "outputs": [],
   "source": [
    "net_l_interfaces = net_l.GetType().GetInterfaces()\n",
    "[i.FullName for i in net_l_interfaces]"
   ],
   "metadata": {
    "collapsed": false
   }
  },
  {
   "cell_type": "markdown",
   "source": [
    "[This comment](https://github.com/pythonnet/pythonnet/issues/1153#issuecomment-926143701)\n",
    "indicates that the `pythonnet-2.5.2` implicit conversions from .NET `List`\n",
    "to a Python `list` is no longer supported. Consequently, one must use the\n",
    "explicit but more verbose conversion demonstrated below."
   ],
   "metadata": {
    "collapsed": false
   }
  },
  {
   "cell_type": "code",
   "execution_count": null,
   "outputs": [],
   "source": [
    "alt_control_points = List[Leakoff.ControlPoint](len(python_control_points))\n",
    "for cp in python_control_points:\n",
    "    alt_control_points.Add(cp)\n"
   ],
   "metadata": {
    "collapsed": false
   }
  },
  {
   "cell_type": "code",
   "execution_count": null,
   "outputs": [],
   "source": [
    "for added_cp in alt_control_points:\n",
    "    print(f'Leakoff.ControlPoint(DateTime={added_cp.DateTime.ToString(\"o\")}, Pressure={added_cp.Pressure}')"
   ],
   "metadata": {
    "collapsed": false
   }
  },
  {
   "cell_type": "code",
   "execution_count": null,
   "outputs": [],
   "source": [],
   "metadata": {
    "collapsed": false
   }
  }
 ],
 "metadata": {
  "kernelspec": {
   "display_name": "Python 3 (ipykernel)",
   "language": "python",
   "name": "python3"
  },
  "language_info": {
   "codemirror_mode": {
    "name": "ipython",
    "version": 3
   },
   "file_extension": ".py",
   "mimetype": "text/x-python",
   "name": "python",
   "nbconvert_exporter": "python",
   "pygments_lexer": "ipython3",
   "version": "3.8.10"
  }
 },
 "nbformat": 4,
 "nbformat_minor": 5
}
