{
 "cells": [
  {
   "cell_type": "code",
   "execution_count": null,
   "metadata": {
    "collapsed": false,
    "jupyter": {
     "outputs_hidden": false
    },
    "pycharm": {
     "name": "#%%\n"
    }
   },
   "outputs": [],
   "source": [
    "from collections import namedtuple\n",
    "import pathlib\n",
    "import random"
   ]
  },
  {
   "cell_type": "code",
   "execution_count": null,
   "metadata": {
    "collapsed": false,
    "jupyter": {
     "outputs_hidden": false
    },
    "pycharm": {
     "name": "#%%\n"
    }
   },
   "outputs": [],
   "source": [
    "import numpy as np\n",
    "import matplotlib.pyplot as plt\n",
    "import pandas as pd\n",
    "import seaborn as sns"
   ]
  },
  {
   "cell_type": "code",
   "execution_count": null,
   "metadata": {
    "collapsed": false,
    "jupyter": {
     "outputs_hidden": false
    },
    "pycharm": {
     "name": "#%%\n"
    }
   },
   "outputs": [],
   "source": [
    "from orchid import (project_loader as opl)"
   ]
  },
  {
   "cell_type": "code",
   "execution_count": null,
   "metadata": {
    "collapsed": false,
    "jupyter": {
     "outputs_hidden": false
    },
    "pycharm": {
     "name": "#%%\n"
    }
   },
   "outputs": [],
   "source": [
    "import toolz.curried as toolz"
   ]
  },
  {
   "cell_type": "code",
   "execution_count": null,
   "metadata": {
    "collapsed": false,
    "jupyter": {
     "outputs_hidden": false
    },
    "pycharm": {
     "name": "#%%\n"
    }
   },
   "outputs": [],
   "source": [
    "# noinspection PyUnresolvedReferences\n",
    "import UnitsNet"
   ]
  },
  {
   "cell_type": "code",
   "execution_count": null,
   "metadata": {
    "collapsed": false,
    "jupyter": {
     "outputs_hidden": false
    },
    "pycharm": {
     "name": "#%%\n"
    }
   },
   "outputs": [],
   "source": [
    "project_filenames = {\n",
    "    'bakken': 'frankNstein_Bakken_UTM13_FEET.ifrac',\n",
    "    'montney': 'Project-frankNstein_Montney_UTM13_METERS.ifrac',\n",
    "}"
   ]
  },
  {
   "cell_type": "code",
   "execution_count": null,
   "metadata": {
    "collapsed": false,
    "jupyter": {
     "outputs_hidden": false
    },
    "pycharm": {
     "name": "#%%\n"
    }
   },
   "outputs": [],
   "source": [
    "test_data_path = pathlib.Path('c:/src/Orchid.IntegrationTestData/')\n",
    "project_path_names = toolz.valmap(lambda fn: test_data_path.joinpath(fn), project_filenames)\n",
    "project_path_names"
   ]
  },
  {
   "cell_type": "code",
   "execution_count": null,
   "metadata": {
    "collapsed": false,
    "jupyter": {
     "outputs_hidden": false
    },
    "pycharm": {
     "name": "#%%\n"
    }
   },
   "outputs": [],
   "source": [
    "projects = toolz.valmap(\n",
    "    lambda pn: opl.ProjectLoader(str(pn)).native_project(),\n",
    "    project_path_names)\n",
    "projects"
   ]
  },
  {
   "cell_type": "code",
   "execution_count": null,
   "metadata": {
    "collapsed": false,
    "jupyter": {
     "outputs_hidden": false
    },
    "pycharm": {
     "name": "#%%\n"
    }
   },
   "outputs": [],
   "source": [
    "project_units = toolz.valmap(lambda p: p.ProjectUnits, projects)\n",
    "project_units"
   ]
  },
  {
   "cell_type": "code",
   "execution_count": null,
   "metadata": {
    "collapsed": false,
    "jupyter": {
     "outputs_hidden": false
    },
    "pycharm": {
     "name": "#%%\n"
    }
   },
   "outputs": [],
   "source": [
    "def collect_time_series(so_far, ts):\n",
    "    return toolz.merge(so_far, {ts.DisplayName: ts})\n",
    "\n",
    "def well_time_series(project):\n",
    "    return toolz.reduce(collect_time_series, project.WellTimeSeriesList.Items, {})\n",
    "\n",
    "project_time_series = toolz.valmap(well_time_series, projects)\n",
    "project_time_series"
   ]
  },
  {
   "cell_type": "code",
   "execution_count": null,
   "metadata": {
    "collapsed": false,
    "jupyter": {
     "outputs_hidden": false
    },
    "pycharm": {
     "name": "#%%\n"
    }
   },
   "outputs": [],
   "source": [
    "toolz.valmap(len, project_time_series)"
   ]
  },
  {
   "cell_type": "code",
   "execution_count": null,
   "metadata": {
    "collapsed": false,
    "jupyter": {
     "outputs_hidden": false
    },
    "pycharm": {
     "name": "#%%\n"
    }
   },
   "outputs": [],
   "source": [
    "TimeSeriesSummary = namedtuple('TimeSeriesSummary', ['display_name', 'name',\n",
    "                                                     'phenomenon', 'net_unit', 'suffix',\n",
    "                                                     'start_time', 'stop_time'])\n"
   ]
  },
  {
   "cell_type": "code",
   "execution_count": null,
   "metadata": {},
   "outputs": [],
   "source": [
    "def summarize_time_series(ts):\n",
    "    time_series_range = ts.GetTimeSeriesRange()\n",
    "    start = time_series_range.Item1\n",
    "    stop = time_series_range.Item2\n",
    "    return TimeSeriesSummary(ts.DisplayName, ts.Name,\n",
    "                             ts.SampledQuantityName, ts.SampledQuantityType, ts.Suffix,\n",
    "                             start, stop)\n",
    "\n",
    "project_time_series_summaries = toolz.valmap(\n",
    "    toolz.valmap(summarize_time_series),\n",
    "    project_time_series)\n",
    "project_time_series_summaries"
   ]
  },
  {
   "cell_type": "code",
   "execution_count": null,
   "outputs": [],
   "source": [
    "project_time_series_samples = toolz.valmap(\n",
    "    toolz.valmap(toolz.compose(# list,\n",
    "                               lambda ts: ts.GetOrderedTimeSeriesHistory())),\n",
    "    project_time_series)\n",
    "# samples_to_print = toolz.valmap(\n",
    "#     toolz.map(len),\n",
    "#     project_time_series_samples)\n",
    "# samples_to_print"
   ],
   "metadata": {
    "collapsed": false,
    "pycharm": {
     "name": "#%%\n"
    }
   }
  },
  {
   "cell_type": "code",
   "execution_count": null,
   "metadata": {
    "collapsed": false,
    "jupyter": {
     "outputs_hidden": false
    },
    "pycharm": {
     "name": "#%%\n"
    }
   },
   "outputs": [],
   "source": [
    "def generate_sample_indices(ts):\n",
    "    candidate_indices = list(range(len(ts)))\n",
    "    random.shuffle(candidate_indices)\n",
    "    inner_indices = sorted(candidate_indices[:6])\n",
    "    result = [0] + inner_indices + [len(ts) - 1]\n",
    "    return result\n",
    "\n",
    "project_sample_indices = toolz.valmap(toolz.valmap(generate_sample_indices),\n",
    "                                      project_time_series_samples)\n",
    "project_sample_indices"
   ]
  },
  {
   "cell_type": "code",
   "execution_count": null,
   "outputs": [],
   "source": [
    "MergedSamples = namedtuple('MergedSamples', ['samples', 'summary', 'indices'])\n",
    "\n",
    "def merge_monitor_series_info(samples, summaries, indices):\n",
    "    return toolz.merge_with(lambda ks: MergedSamples(*ks),\n",
    "                            samples, summaries, indices)\n",
    "\n",
    "def merge_field_series_info(field_name):\n",
    "    return merge_monitor_series_info(project_time_series_samples[field_name],\n",
    "                                     project_time_series_summaries[field_name],\n",
    "                                     project_sample_indices[field_name])"
   ],
   "metadata": {
    "collapsed": false,
    "pycharm": {
     "name": "#%%\n"
    }
   }
  },
  {
   "cell_type": "code",
   "execution_count": null,
   "outputs": [],
   "source": [
    "bakken_time_series_merged_info = merge_field_series_info('bakken')\n",
    "bakken_time_series_merged_info\n",
    "# montney_time_series_merged_info = merge_field_series_info('montney')\n",
    "# montney_time_series_merged_info"
   ],
   "metadata": {
    "collapsed": false,
    "pycharm": {
     "name": "#%%\n"
    }
   }
  },
  {
   "cell_type": "code",
   "execution_count": null,
   "metadata": {},
   "outputs": [],
   "source": [
    "@toolz.curry\n",
    "def make_sample_pressure(field_name, sample):\n",
    "    return UnitsNet.Pressure.From(UnitsNet.QuantityValue.op_Implicit(sample.Value),\n",
    "                                  project_units[field_name].PressureUnit)\n",
    "\n",
    "@toolz.curry\n",
    "def sample_time_series(field_name, merged_info):\n",
    "    result = toolz.pipe(merged_info.indices,\n",
    "                        # toolz.map(toolz.do(lambda n: print(n))),\n",
    "                        toolz.map(lambda n: toolz.nth(n, merged_info.samples)),\n",
    "                        # toolz.map(toolz.do(lambda s: print(s.Value))),\n",
    "                        toolz.map(make_sample_pressure(field_name)),\n",
    "\n",
    "                        toolz.map(str),\n",
    "                        list,\n",
    "                        )\n",
    "    return result\n",
    "\n",
    "bakken_time_series_monitor_info = toolz.valmap(sample_time_series('bakken'),\n",
    "                                       bakken_time_series_merged_info)\n",
    "bakken_time_series_monitor_info"
   ]
  },
  {
   "cell_type": "code",
   "execution_count": null,
   "outputs": [],
   "source": [
    "@toolz.curry\n",
    "def make_series_info(field_name, monitor_name, samples):\n",
    "    result = {'field': field_name,\n",
    "              'monitor': monitor_name,\n",
    "              'samples': samples}\n",
    "    return result\n",
    "\n",
    "@toolz.curry\n",
    "def make_monitor_series_info(field_name, item):\n",
    "    monitor_name, samples = item\n",
    "    return make_series_info(field_name, monitor_name, samples)\n",
    "\n",
    "def field_series_info(field_name, monitor_info):\n",
    "    return [make_monitor_series_info(field_name, item) for item in monitor_info.items()]\n",
    "\n",
    "bakken_time_series_info = field_series_info('bakken', bakken_time_series_monitor_info)\n",
    "bakken_time_series_info"
   ],
   "metadata": {
    "collapsed": false,
    "pycharm": {
     "name": "#%%\n"
    }
   }
  },
  {
   "cell_type": "code",
   "execution_count": null,
   "outputs": [],
   "source": [
    "pd.DataFrame(data=bakken_time_series_info)"
   ],
   "metadata": {
    "collapsed": false,
    "pycharm": {
     "name": "#%%\n"
    }
   }
  },
  {
   "cell_type": "code",
   "execution_count": null,
   "outputs": [],
   "source": [],
   "metadata": {
    "collapsed": false,
    "pycharm": {
     "name": "#%%\n"
    }
   }
  }
 ],
 "metadata": {
  "kernelspec": {
   "display_name": "Python 3",
   "language": "python",
   "name": "python3"
  },
  "language_info": {
   "codemirror_mode": {
    "name": "ipython",
    "version": 3
   },
   "file_extension": ".py",
   "mimetype": "text/x-python",
   "name": "python",
   "nbconvert_exporter": "python",
   "pygments_lexer": "ipython3",
   "version": "3.8.7"
  }
 },
 "nbformat": 4,
 "nbformat_minor": 4
}