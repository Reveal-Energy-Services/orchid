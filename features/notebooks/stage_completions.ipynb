{
 "cells": [
  {
   "cell_type": "markdown",
   "metadata": {},
   "source": [
    "# Analyze Stage Completions"
   ]
  },
  {
   "cell_type": "code",
   "execution_count": null,
   "metadata": {},
   "outputs": [],
   "source": [
    "import json\n",
    "import pathlib\n",
    "import zipfile"
   ]
  },
  {
   "cell_type": "code",
   "execution_count": null,
   "metadata": {},
   "outputs": [],
   "source": [
    "import numpy as np\n",
    "import matplotlib.pyplot as plt\n",
    "import pandas as pd\n",
    "import seaborn as sns\n",
    "import sklearn.linear_model as sklm\n",
    "import sklearn.metrics as skm\n",
    "import scipy"
   ]
  },
  {
   "cell_type": "code",
   "execution_count": null,
   "metadata": {},
   "outputs": [],
   "source": [
    "import pendulum as pdt\n",
    "import toolz.curried as toolz"
   ]
  },
  {
   "cell_type": "markdown",
   "metadata": {},
   "source": [
    "## Preparation"
   ]
  },
  {
   "cell_type": "code",
   "execution_count": null,
   "metadata": {},
   "outputs": [],
   "source": [
    "project_filenames = {\n",
    "    'bakken': 'frankNstein_Bakken_UTM13_FEET.ifrac',\n",
    "    'montney': 'Project-frankNstein_Montney_UTM13_METERS.ifrac',\n",
    "    'permian': 'Project_frankNstein_Permian_UTM13_FEET.ifrac',\n",
    "}"
   ]
  },
  {
   "cell_type": "code",
   "execution_count": null,
   "metadata": {},
   "outputs": [],
   "source": [
    "test_data_path = pathlib.Path('c:/src/Orchid.IntegrationTestData/')\n",
    "project_path_names = toolz.valmap(lambda fn: test_data_path.joinpath(fn), project_filenames)\n",
    "project_path_names"
   ]
  },
  {
   "cell_type": "code",
   "execution_count": null,
   "metadata": {},
   "outputs": [],
   "source": [
    "def project_json(path):\n",
    "    with zipfile.ZipFile(path) as archive:\n",
    "        return json.loads(archive.read('project.json'))"
   ]
  },
  {
   "cell_type": "code",
   "execution_count": null,
   "metadata": {
    "tags": []
   },
   "outputs": [],
   "source": [
    "project_jsons = {}\n",
    "wells = {}"
   ]
  },
  {
   "cell_type": "code",
   "execution_count": null,
   "metadata": {},
   "outputs": [],
   "source": [
    "stages_seq = {}\n",
    "stages = {}\n",
    "stages_by_seq_no = {}\n",
    "previous_treatment_starts = {}\n",
    "stages_with_previous = {}"
   ]
  },
  {
   "cell_type": "markdown",
   "metadata": {},
   "source": [
    "### Bakken"
   ]
  },
  {
   "cell_type": "code",
   "execution_count": null,
   "metadata": {
    "tags": []
   },
   "outputs": [],
   "source": [
    "project_jsons['bakken'] = project_json(project_path_names['bakken'])"
   ]
  },
  {
   "cell_type": "code",
   "execution_count": null,
   "metadata": {},
   "outputs": [],
   "source": [
    "wells['bakken'] = {w['Name']: w for w in toolz.get_in(['Object', 'Wells'], project_jsons['bakken'])}"
   ]
  },
  {
   "cell_type": "code",
   "execution_count": null,
   "metadata": {},
   "outputs": [],
   "source": [
    "def string_to_date_time(i):\n",
    "    column_name, value = i\n",
    "    \n",
    "    def to_pandas_timestamp(time_text):\n",
    "        if time_text != '0001-01-01T00:00:00.0000000':\n",
    "            result = pd.Timestamp(pdt.parse(time_text))\n",
    "        else:\n",
    "            result = pd.NaT\n",
    "        return result\n",
    "    \n",
    "    if column_name == 'StartTime':\n",
    "        return column_name, to_pandas_timestamp(value)\n",
    "    elif column_name == 'StopTime':\n",
    "        return column_name, to_pandas_timestamp(value)\n",
    "    else:\n",
    "        return column_name, value\n",
    "    \n",
    "def stage_details(s):\n",
    "    result = toolz.pipe(\n",
    "        s,\n",
    "        toolz.keyfilter(lambda n: n in {'DisplayStageNumber', 'GlobalStageSequenceNumber', 'StartTime', 'StopTime'}),\n",
    "        toolz.itemmap(string_to_date_time),\n",
    "    )\n",
    "    return result\n",
    "\n",
    "def stages_details(project, well):\n",
    "    result = toolz.pipe(\n",
    "        toolz.get_in([well, 'Stages'], wells[project]),\n",
    "        toolz.map(stage_details),\n",
    "        toolz.map(lambda s: toolz.merge({'Project': project, 'Well': well}, s)),\n",
    "        list,\n",
    "    )\n",
    "    return result"
   ]
  },
  {
   "cell_type": "code",
   "execution_count": null,
   "metadata": {},
   "outputs": [],
   "source": [
    "# stages_details('bakken', 'Demo_1H')\n",
    "# stages_details('bakken', 'Demo_2H')\n",
    "# stages_details('bakken', 'Demo_3H')\n",
    "# stages_details('bakken', 'Demo_4H')"
   ]
  },
  {
   "cell_type": "code",
   "execution_count": null,
   "metadata": {},
   "outputs": [],
   "source": [
    "stages_seq['bakken'] = toolz.concat([\n",
    "    stages_details('bakken', 'Demo_1H'),\n",
    "    stages_details('bakken', 'Demo_2H'),\n",
    "    stages_details('bakken', 'Demo_3H'),\n",
    "    stages_details('bakken', 'Demo_4H'),\n",
    "])"
   ]
  },
  {
   "cell_type": "code",
   "execution_count": null,
   "metadata": {},
   "outputs": [],
   "source": [
    "stages['bakken'] = pd.DataFrame(data=stages_seq['bakken'])"
   ]
  },
  {
   "cell_type": "code",
   "execution_count": null,
   "metadata": {},
   "outputs": [],
   "source": [
    "stages['bakken']"
   ]
  },
  {
   "cell_type": "code",
   "execution_count": null,
   "metadata": {},
   "outputs": [],
   "source": [
    "stages_by_seq_no['bakken'] = stages['bakken'].set_index('GlobalStageSequenceNumber').sort_index()\n",
    "stages_by_seq_no['bakken']"
   ]
  },
  {
   "cell_type": "code",
   "execution_count": null,
   "metadata": {
    "tags": []
   },
   "outputs": [],
   "source": [
    "stages_by_seq_no['bakken'].index"
   ]
  },
  {
   "cell_type": "code",
   "execution_count": null,
   "metadata": {},
   "outputs": [],
   "source": [
    "fig, ax = plt.subplots()\n",
    "\n",
    "ax.plot(range(1, 136 + 1), stages_by_seq_no['bakken'].index)\n",
    "\n",
    "plt.show()"
   ]
  },
  {
   "cell_type": "code",
   "execution_count": null,
   "metadata": {
    "tags": []
   },
   "outputs": [],
   "source": [
    "def calculate_completion_time(row):\n",
    "    result = (row['StopTime'] - row['StartTime']).total_seconds()\n",
    "    return result"
   ]
  },
  {
   "cell_type": "code",
   "execution_count": null,
   "metadata": {
    "tags": []
   },
   "outputs": [],
   "source": [
    "stages_by_seq_no['bakken']['CompletionTime'] = (\n",
    "    stages_by_seq_no['bakken'].apply(calculate_completion_time, axis=1)\n",
    ")\n",
    "stages_by_seq_no['bakken']"
   ]
  },
  {
   "cell_type": "code",
   "execution_count": null,
   "metadata": {
    "tags": []
   },
   "outputs": [],
   "source": [
    "previous_treatment_starts['bakken'] = stages_by_seq_no['bakken'].loc[2:, 'StartTime'].to_frame()\n",
    "previous_treatment_starts['bakken'].columns = ['PreviousStart']\n",
    "previous_treatment_starts['bakken']"
   ]
  },
  {
   "cell_type": "code",
   "execution_count": null,
   "metadata": {
    "collapsed": false,
    "jupyter": {
     "outputs_hidden": false
    },
    "pycharm": {
     "name": "#%%\n"
    }
   },
   "outputs": [],
   "source": [
    "stages_with_previous['bakken'] = pd.concat([stages_by_seq_no['bakken'], previous_treatment_starts['bakken']], axis=1, copy=True)\n",
    "stages_with_previous['bakken']"
   ]
  },
  {
   "cell_type": "code",
   "execution_count": null,
   "metadata": {},
   "outputs": [],
   "source": [
    "stages_with_previous['bakken']['ChangeoverTime'] = (\n",
    "    stages_with_previous['bakken']['StopTime'] - stages_with_previous['bakken']['PreviousStart']\n",
    ")\n",
    "stages_with_previous['bakken']"
   ]
  },
  {
   "cell_type": "code",
   "execution_count": null,
   "metadata": {},
   "outputs": [],
   "source": [
    "stages_with_previous['bakken']['ChangeoverTime'] = (\n",
    "    stages_with_previous['bakken']['ChangeoverTime'].apply(lambda ptd: ptd.total_seconds())\n",
    ")\n",
    "stages_with_previous['bakken']"
   ]
  },
  {
   "cell_type": "code",
   "execution_count": null,
   "metadata": {},
   "outputs": [],
   "source": [
    "stages_with_previous['bakken'].plot.line(y='CompletionTime')"
   ]
  },
  {
   "cell_type": "code",
   "execution_count": null,
   "metadata": {},
   "outputs": [],
   "source": [
    "stages_with_previous['bakken'].hist(column='CompletionTime')"
   ]
  },
  {
   "cell_type": "code",
   "execution_count": null,
   "metadata": {},
   "outputs": [],
   "source": [
    "stages_with_previous['bakken'].plot.line(y='ChangeoverTime')"
   ]
  },
  {
   "cell_type": "code",
   "execution_count": null,
   "metadata": {},
   "outputs": [],
   "source": [
    "stages_with_previous['bakken'].hist(column='ChangeoverTime')"
   ]
  },
  {
   "cell_type": "markdown",
   "metadata": {},
   "source": [
    "### Montney"
   ]
  },
  {
   "cell_type": "code",
   "execution_count": null,
   "metadata": {
    "tags": []
   },
   "outputs": [],
   "source": [
    "project_jsons['montney'] = project_json(project_path_names['montney'])"
   ]
  },
  {
   "cell_type": "code",
   "execution_count": null,
   "metadata": {},
   "outputs": [],
   "source": [
    "wells['montney'] = {w['Name']: w for w in toolz.get_in(['Object', 'Wells'], project_jsons['montney'])}"
   ]
  },
  {
   "cell_type": "code",
   "execution_count": null,
   "metadata": {},
   "outputs": [],
   "source": [
    "# stages_details('montney', 'Hori_01')\n",
    "# stages_details('montney', 'Hori_02')\n",
    "# stages_details('montney', 'Hori_03')\n",
    "# stages_details('montney', 'Vert_01')"
   ]
  },
  {
   "cell_type": "code",
   "execution_count": null,
   "metadata": {},
   "outputs": [],
   "source": [
    "stages_seq['montney'] = toolz.concat([\n",
    "    stages_details('montney', 'Hori_01'),\n",
    "    stages_details('montney', 'Hori_02'),\n",
    "    stages_details('montney', 'Hori_03'),\n",
    "    stages_details('montney', 'Vert_01'),\n",
    "])"
   ]
  },
  {
   "cell_type": "code",
   "execution_count": null,
   "metadata": {},
   "outputs": [],
   "source": [
    "stages['montney'] = pd.DataFrame(data=stages_seq['montney'])"
   ]
  },
  {
   "cell_type": "code",
   "execution_count": null,
   "metadata": {},
   "outputs": [],
   "source": [
    "stages['montney']"
   ]
  },
  {
   "cell_type": "code",
   "execution_count": null,
   "metadata": {},
   "outputs": [],
   "source": [
    "stages_by_seq_no['montney'] = stages['montney'].set_index('GlobalStageSequenceNumber').sort_index()\n",
    "stages_by_seq_no['montney']"
   ]
  },
  {
   "cell_type": "code",
   "execution_count": null,
   "metadata": {
    "tags": []
   },
   "outputs": [],
   "source": [
    "stages_by_seq_no['montney'].index"
   ]
  },
  {
   "cell_type": "code",
   "execution_count": null,
   "metadata": {},
   "outputs": [],
   "source": [
    "fig, ax = plt.subplots()\n",
    "\n",
    "ax.plot(range(1, 76 + 1), stages_by_seq_no['montney'].index)\n",
    "\n",
    "plt.show()"
   ]
  },
  {
   "cell_type": "code",
   "execution_count": null,
   "metadata": {
    "tags": []
   },
   "outputs": [],
   "source": [
    "stages_by_seq_no['montney']['CompletionTime'] = (\n",
    "    stages_by_seq_no['montney'].apply(calculate_completion_time, axis=1)\n",
    ")\n",
    "stages_by_seq_no['montney']"
   ]
  },
  {
   "cell_type": "code",
   "execution_count": null,
   "metadata": {
    "tags": []
   },
   "outputs": [],
   "source": [
    "previous_treatment_starts['montney'] = stages_by_seq_no['montney'].loc[2:, 'StartTime'].to_frame()\n",
    "previous_treatment_starts['montney'].columns = ['PreviousStart']\n",
    "previous_treatment_starts['montney']"
   ]
  },
  {
   "cell_type": "code",
   "execution_count": null,
   "metadata": {
    "collapsed": false,
    "jupyter": {
     "outputs_hidden": false
    },
    "pycharm": {
     "name": "#%%\n"
    }
   },
   "outputs": [],
   "source": [
    "stages_with_previous['montney'] = pd.concat([stages_by_seq_no['montney'], \n",
    "                                             previous_treatment_starts['montney']], \n",
    "                                            axis=1, copy=False)\n",
    "stages_with_previous['montney']"
   ]
  },
  {
   "cell_type": "code",
   "execution_count": null,
   "metadata": {},
   "outputs": [],
   "source": [
    "stages_with_previous['montney']['ChangeoverTime'] = (\n",
    "    stages_with_previous['montney']['StopTime'] - stages_with_previous['montney']['PreviousStart']\n",
    ")\n",
    "stages_with_previous['montney']"
   ]
  },
  {
   "cell_type": "code",
   "execution_count": null,
   "metadata": {},
   "outputs": [],
   "source": [
    "stages_with_previous['montney']['ChangeoverTime'] = (\n",
    "    stages_with_previous['montney']['ChangeoverTime'].apply(lambda ptd: ptd.total_seconds())\n",
    ")\n",
    "stages_with_previous['montney']"
   ]
  },
  {
   "cell_type": "code",
   "execution_count": null,
   "metadata": {},
   "outputs": [],
   "source": [
    "stages_with_previous['montney'].plot.line(y='CompletionTime')"
   ]
  },
  {
   "cell_type": "code",
   "execution_count": null,
   "metadata": {},
   "outputs": [],
   "source": [
    "stages_with_previous['montney'].hist(column='CompletionTime')"
   ]
  },
  {
   "cell_type": "code",
   "execution_count": null,
   "metadata": {},
   "outputs": [],
   "source": [
    "stages_with_previous['montney'].plot.line(y='ChangeoverTime')"
   ]
  },
  {
   "cell_type": "code",
   "execution_count": null,
   "metadata": {},
   "outputs": [],
   "source": [
    "stages_with_previous['montney'].hist(column='ChangeoverTime')"
   ]
  },
  {
   "cell_type": "markdown",
   "metadata": {},
   "source": [
    "### Permian"
   ]
  },
  {
   "cell_type": "code",
   "execution_count": null,
   "metadata": {
    "tags": []
   },
   "outputs": [],
   "source": [
    "project_jsons['permian'] = project_json(project_path_names['permian'])"
   ]
  },
  {
   "cell_type": "code",
   "execution_count": null,
   "metadata": {},
   "outputs": [],
   "source": [
    "wells['permian'] = {w['Name']: w for w in toolz.get_in(['Object', 'Wells'], project_jsons['permian'])}"
   ]
  },
  {
   "cell_type": "code",
   "execution_count": null,
   "metadata": {},
   "outputs": [],
   "source": [
    "# stages_details('permian', 'C1')\n",
    "# stages_details('permian', 'C2')\n",
    "# stages_details('permian', 'C3')\n",
    "# stages_details('permian', 'P1')"
   ]
  },
  {
   "cell_type": "code",
   "execution_count": null,
   "metadata": {},
   "outputs": [],
   "source": [
    "stages_seq['permian'] = toolz.concat([\n",
    "    stages_details('permian', 'C1'),\n",
    "    stages_details('permian', 'C2'),\n",
    "    stages_details('permian', 'C3'),\n",
    "    stages_details('permian', 'P1'),\n",
    "])"
   ]
  },
  {
   "cell_type": "code",
   "execution_count": null,
   "metadata": {},
   "outputs": [],
   "source": [
    "stages['permian'] = pd.DataFrame(data=stages_seq['permian'])"
   ]
  },
  {
   "cell_type": "code",
   "execution_count": null,
   "metadata": {},
   "outputs": [],
   "source": [
    "stages['permian']"
   ]
  },
  {
   "cell_type": "code",
   "execution_count": null,
   "metadata": {},
   "outputs": [],
   "source": [
    "stages_by_seq_no['permian'] = stages['permian'].set_index('GlobalStageSequenceNumber').sort_index()\n",
    "stages_by_seq_no['permian']"
   ]
  },
  {
   "cell_type": "code",
   "execution_count": null,
   "metadata": {
    "tags": []
   },
   "outputs": [],
   "source": [
    "stages_by_seq_no['permian'].index"
   ]
  },
  {
   "cell_type": "code",
   "execution_count": null,
   "metadata": {},
   "outputs": [],
   "source": [
    "fig, ax = plt.subplots()\n",
    "\n",
    "ax.plot(range(1, 86 + 1), stages_by_seq_no['permian'].index)\n",
    "\n",
    "plt.show()"
   ]
  },
  {
   "cell_type": "code",
   "execution_count": null,
   "metadata": {
    "tags": []
   },
   "outputs": [],
   "source": [
    "stages_by_seq_no['permian']['CompletionTime'] = (\n",
    "    stages_by_seq_no['permian'].apply(calculate_completion_time, axis=1)\n",
    ")\n",
    "stages_by_seq_no['permian']"
   ]
  },
  {
   "cell_type": "code",
   "execution_count": null,
   "metadata": {
    "tags": []
   },
   "outputs": [],
   "source": [
    "stages_by_seq_no['permian']['CompletionTime'] = (\n",
    "    stages_by_seq_no['permian'].apply(calculate_completion_time, axis=1)\n",
    ")\n",
    "stages_by_seq_no['permian']"
   ]
  },
  {
   "cell_type": "code",
   "execution_count": null,
   "metadata": {
    "tags": []
   },
   "outputs": [],
   "source": [
    "previous_treatment_starts['permian'] = stages_by_seq_no['permian'].loc[2:, 'StartTime'].to_frame()\n",
    "previous_treatment_starts['permian'].columns = ['PreviousStart']\n",
    "previous_treatment_starts['permian']"
   ]
  },
  {
   "cell_type": "code",
   "execution_count": null,
   "metadata": {
    "collapsed": false,
    "jupyter": {
     "outputs_hidden": false
    },
    "pycharm": {
     "name": "#%%\n"
    }
   },
   "outputs": [],
   "source": [
    "stages_with_previous['permian'] = pd.concat([stages_by_seq_no['permian'], \n",
    "                                             previous_treatment_starts['permian']], \n",
    "                                            axis=1, copy=False)\n",
    "stages_with_previous['permian']"
   ]
  },
  {
   "cell_type": "code",
   "execution_count": null,
   "metadata": {},
   "outputs": [],
   "source": [
    "stages_with_previous['permian']['ChangeoverTime'] = (\n",
    "    stages_with_previous['permian']['StopTime'] - stages_with_previous['permian']['PreviousStart']\n",
    ")\n",
    "stages_with_previous['permian']"
   ]
  },
  {
   "cell_type": "code",
   "execution_count": null,
   "metadata": {},
   "outputs": [],
   "source": [
    "stages_with_previous['permian']['ChangeoverTime'] = (\n",
    "    stages_with_previous['permian']['ChangeoverTime'].apply(lambda ptd: ptd.total_seconds())\n",
    ")\n",
    "stages_with_previous['permian']"
   ]
  },
  {
   "cell_type": "code",
   "execution_count": null,
   "metadata": {},
   "outputs": [],
   "source": [
    "stages_with_previous['permian'].plot.line(y='CompletionTime')"
   ]
  },
  {
   "cell_type": "code",
   "execution_count": null,
   "metadata": {},
   "outputs": [],
   "source": [
    "stages_with_previous['permian'].hist(column='CompletionTime')"
   ]
  },
  {
   "cell_type": "code",
   "execution_count": null,
   "metadata": {
    "tags": []
   },
   "outputs": [],
   "source": [
    "stages_with_previous['permian'].plot.line(y='ChangeoverTime')"
   ]
  },
  {
   "cell_type": "code",
   "execution_count": null,
   "metadata": {},
   "outputs": [],
   "source": [
    "stages_with_previous['permian'].hist(column='ChangeoverTime')"
   ]
  },
  {
   "cell_type": "code",
   "execution_count": null,
   "metadata": {},
   "outputs": [],
   "source": [
    "permian_previous_below_10k = stages_with_previous['permian'][stages_with_previous['permian']['ChangeoverTime'] < 10000]\n",
    "permian_previous_below_10k"
   ]
  },
  {
   "cell_type": "code",
   "execution_count": null,
   "metadata": {},
   "outputs": [],
   "source": [
    "permian_previous_below_10k.plot.line(y='CompletionTime')"
   ]
  },
  {
   "cell_type": "code",
   "execution_count": null,
   "metadata": {},
   "outputs": [],
   "source": [
    "permian_previous_below_10k.hist(column='CompletionTime')"
   ]
  },
  {
   "cell_type": "code",
   "execution_count": null,
   "metadata": {},
   "outputs": [],
   "source": [
    "permian_previous_below_10k.plot.line(y='ChangeoverTime')"
   ]
  },
  {
   "cell_type": "code",
   "execution_count": null,
   "metadata": {},
   "outputs": [],
   "source": [
    "permian_previous_below_10k.hist(column='ChangeoverTime')"
   ]
  },
  {
   "cell_type": "markdown",
   "metadata": {},
   "source": [
    "## Analysis"
   ]
  },
  {
   "cell_type": "markdown",
   "metadata": {},
   "source": [
    "### Completion"
   ]
  },
  {
   "cell_type": "code",
   "execution_count": null,
   "metadata": {},
   "outputs": [],
   "source": [
    "stages_with_previous['bakken']['CompletionTime'].describe()"
   ]
  },
  {
   "cell_type": "markdown",
   "metadata": {},
   "source": [
    "### Changeover"
   ]
  },
  {
   "cell_type": "code",
   "execution_count": null,
   "metadata": {},
   "outputs": [],
   "source": [
    "bakken_changeover = stages_with_previous['bakken'].loc[2:, 'ChangeoverTime']\n",
    "bakken_changeover"
   ]
  },
  {
   "cell_type": "code",
   "execution_count": null,
   "metadata": {},
   "outputs": [],
   "source": [
    "linear_regressor = sklm.LinearRegression()"
   ]
  },
  {
   "cell_type": "code",
   "execution_count": null,
   "metadata": {},
   "outputs": [],
   "source": [
    "bakken_regressable = stages_with_previous['bakken'].loc[2:]\n",
    "bakken_regressable"
   ]
  },
  {
   "cell_type": "code",
   "execution_count": null,
   "metadata": {},
   "outputs": [],
   "source": [
    "# Converts numpy array to (column) vector of single sample arrays\n",
    "bakken_x = bakken_regressable.index.to_numpy().reshape(-1, 1)\n",
    "# bakken_x"
   ]
  },
  {
   "cell_type": "code",
   "execution_count": null,
   "metadata": {},
   "outputs": [],
   "source": [
    "# Converts numpy array to (column) vector of single sample arrays\n",
    "bakken_y = bakken_regressable.loc[:, 'ChangeoverTime'].to_numpy().reshape(-1, 1)\n",
    "# bakken_y"
   ]
  },
  {
   "cell_type": "code",
   "execution_count": null,
   "metadata": {},
   "outputs": [],
   "source": [
    "linear_regressor = sklm.LinearRegression()"
   ]
  },
  {
   "cell_type": "code",
   "execution_count": null,
   "metadata": {},
   "outputs": [],
   "source": [
    "linear_regressor.fit(bakken_x, bakken_y)"
   ]
  },
  {
   "cell_type": "code",
   "execution_count": null,
   "metadata": {},
   "outputs": [],
   "source": [
    "bakken_y_prediction = linear_regressor.predict(bakken_x)"
   ]
  },
  {
   "cell_type": "code",
   "execution_count": null,
   "metadata": {},
   "outputs": [],
   "source": [
    "plt.scatter(bakken_changeover.index, bakken_changeover.values)\n",
    "plt.plot(bakken_x, bakken_y_prediction, color='red')\n",
    "plt.show()"
   ]
  },
  {
   "cell_type": "code",
   "execution_count": null,
   "metadata": {},
   "outputs": [],
   "source": [
    "linear_regressor.coef_, linear_regressor.intercept_"
   ]
  },
  {
   "cell_type": "code",
   "execution_count": null,
   "metadata": {},
   "outputs": [],
   "source": [
    "skm.mean_squared_error(bakken_y, bakken_y_prediction), skm.r2_score(bakken_y, bakken_y_prediction)"
   ]
  },
  {
   "cell_type": "code",
   "execution_count": null,
   "metadata": {
    "tags": []
   },
   "outputs": [],
   "source": [
    "bakken_changeover_delta = stages_with_previous['bakken'].loc[2:135, 'ChangeoverTime'].to_frame()\n",
    "bakken_changeover_delta.index += 1\n",
    "bakken_changeover_delta.columns = ['PreviousChangeoverTime']\n",
    "bakken_changeover_delta"
   ]
  },
  {
   "cell_type": "code",
   "execution_count": null,
   "metadata": {
    "collapsed": false,
    "jupyter": {
     "outputs_hidden": false
    },
    "pycharm": {
     "name": "#%%\n"
    }
   },
   "outputs": [],
   "source": [
    "bakken_with_delta = pd.concat([stages_with_previous['bakken'],\n",
    "                                  bakken_changeover_delta],\n",
    "                                 axis=1, copy=False)\n",
    "bakken_with_delta = bakken_with_delta.loc[2:, :]\n",
    "bakken_with_delta"
   ]
  },
  {
   "cell_type": "code",
   "execution_count": null,
   "metadata": {},
   "outputs": [],
   "source": [
    "bakken_with_delta['Delta'] = (\n",
    "    bakken_with_delta['ChangeoverTime'] - bakken_with_delta['PreviousChangeoverTime']\n",
    ")\n",
    "bakken_with_delta"
   ]
  },
  {
   "cell_type": "code",
   "execution_count": null,
   "metadata": {},
   "outputs": [],
   "source": [
    "bakken_with_delta.hist('Delta')"
   ]
  },
  {
   "cell_type": "code",
   "execution_count": null,
   "metadata": {},
   "outputs": [],
   "source": [
    "bakken_with_delta['Delta'].describe()"
   ]
  },
  {
   "cell_type": "code",
   "execution_count": null,
   "metadata": {
    "tags": []
   },
   "outputs": [],
   "source": [
    "def predicted_changeover(row):\n",
    "    result = linear_regressor.coef_ * row['GlobalStageSequenceNumber'] + linear_regressor.intercept_\n",
    "    return result[0][0]"
   ]
  },
  {
   "cell_type": "code",
   "execution_count": null,
   "metadata": {
    "tags": []
   },
   "outputs": [],
   "source": [
    "bakken_with_prediction = stages_with_previous['bakken'].loc[2:, ['ChangeoverTime']]\n",
    "bakken_with_prediction.reset_index(inplace=True)\n",
    "prediction = bakken_with_prediction.apply(predicted_changeover, axis=1)\n",
    "bakken_with_prediction['Prediction'] = prediction\n",
    "bakken_with_prediction['Error'] = bakken_with_prediction['Prediction'] - bakken_with_prediction['ChangeoverTime']\n",
    "bakken_with_prediction"
   ]
  },
  {
   "cell_type": "code",
   "execution_count": null,
   "metadata": {},
   "outputs": [],
   "source": [
    "bakken_with_prediction.hist('Error')"
   ]
  },
  {
   "cell_type": "code",
   "execution_count": null,
   "metadata": {},
   "outputs": [],
   "source": [
    "bakken_with_prediction['Error'].describe()"
   ]
  },
  {
   "cell_type": "code",
   "execution_count": null,
   "metadata": {},
   "outputs": [],
   "source": []
  }
 ],
 "metadata": {
  "kernelspec": {
   "display_name": "Python 3 (ipykernel)",
   "language": "python",
   "name": "python3"
  },
  "language_info": {
   "codemirror_mode": {
    "name": "ipython",
    "version": 3
   },
   "file_extension": ".py",
   "mimetype": "text/x-python",
   "name": "python",
   "nbconvert_exporter": "python",
   "pygments_lexer": "ipython3",
   "version": "3.8.7"
  }
 },
 "nbformat": 4,
 "nbformat_minor": 4
}
