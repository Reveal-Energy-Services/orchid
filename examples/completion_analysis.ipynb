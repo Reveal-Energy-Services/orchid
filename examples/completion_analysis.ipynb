{
 "cells": [
  {
   "cell_type": "markdown",
   "metadata": {
    "pycharm": {
     "name": "#%% md\n"
    }
   },
   "source": [
    "# Example: Using Pandas to Analyze Completion Parameters"
   ]
  },
  {
   "cell_type": "markdown",
   "metadata": {
    "pycharm": {
     "name": "#%% md\n"
    }
   },
   "source": [
    "This notebook illustrates using the Python API and the pandas package to perform completion analysis."
   ]
  },
  {
   "cell_type": "markdown",
   "metadata": {
    "pycharm": {
     "name": "#%% md\n"
    }
   },
   "source": [
    "## 0.5 Import packages"
   ]
  },
  {
   "cell_type": "markdown",
   "metadata": {
    "pycharm": {
     "name": "#%% md\n"
    }
   },
   "source": [
    "The only import needed for the Python API is `orchid` itself."
   ]
  },
  {
   "cell_type": "code",
   "execution_count": null,
   "metadata": {
    "collapsed": false,
    "jupyter": {
     "outputs_hidden": false
    },
    "pycharm": {
     "name": "#%%\n"
    }
   },
   "outputs": [],
   "source": [
    "import orchid"
   ]
  },
  {
   "cell_type": "markdown",
   "metadata": {
    "pycharm": {
     "name": "#%% md\n"
    }
   },
   "source": [
    "The remaining imports are standard python packages to support the analysis."
   ]
  },
  {
   "cell_type": "code",
   "execution_count": null,
   "metadata": {
    "collapsed": false,
    "jupyter": {
     "outputs_hidden": false
    },
    "pycharm": {
     "name": "#%%\n"
    }
   },
   "outputs": [],
   "source": [
    "import numpy as np\n",
    "import pandas as pd\n",
    "import matplotlib.pyplot as plt\n",
    "from scipy import integrate"
   ]
  },
  {
   "cell_type": "markdown",
   "metadata": {
    "jupyter": {
     "outputs_hidden": false
    },
    "pycharm": {
     "name": "#%% md\n"
    }
   },
   "source": [
    "## 1.0 Load the .ifrac project"
   ]
  },
  {
   "cell_type": "code",
   "execution_count": null,
   "metadata": {
    "collapsed": false,
    "jupyter": {
     "outputs_hidden": false
    },
    "pycharm": {
     "name": "#%%\n"
    }
   },
   "outputs": [],
   "source": [
    "project = orchid.load_project(\n",
    "    r'c:\\src\\Orchid.IntegrationTestData\\frankNstein_Bakken_UTM13_FEET.ifrac')"
   ]
  },
  {
   "cell_type": "markdown",
   "metadata": {
    "pycharm": {
     "name": "#%% md\n"
    }
   },
   "source": [
    "## 2.0 Define a function to compute the stage treatment data"
   ]
  },
  {
   "cell_type": "code",
   "execution_count": null,
   "metadata": {
    "collapsed": false,
    "jupyter": {
     "outputs_hidden": false
    },
    "pycharm": {
     "name": "#%%\n"
    }
   },
   "outputs": [],
   "source": [
    "def compute_stage_treatment_aggregates(treatment_stage):\n",
    "    \n",
    "    def slurry_rate_per_min_to_per_second_conversion_factor():\n",
    "        source_slurry_rate_unit = treatment_curves['Slurry Rate'].sampled_quantity_unit()\n",
    "        target_slurry_rate_unit = \\\n",
    "            f'{orchid.slurry_rate_volume_unit(source_slurry_rate_unit)}/s'\n",
    "        local_result = orchid.get_conversion_factor(source_slurry_rate_unit,\n",
    "                                                    target_slurry_rate_unit)\n",
    "        return local_result\n",
    "\n",
    "    def slurry_rate_bbl_per_second_to_gal_per_second_conversion_factor():\n",
    "        local_result = orchid.get_conversion_factor('bbl/s', 'gal/s')\n",
    "        return local_result\n",
    "\n",
    "    treatment_curves = treatment_stage.treatment_curves()\n",
    "    if not treatment_curves:\n",
    "        return None\n",
    "    \n",
    "    raw_treatment_series = {n: c.time_series() for n, c in (treatment_curves.items())}\n",
    "    stage_start_time = np.datetime64(stage.start_time)\n",
    "    stage_stop_time = np.datetime64(stage.stop_time)\n",
    "    \n",
    "    fluid_per_sec = \\\n",
    "        (raw_treatment_series[orchid.SLURRY_RATE][stage_start_time:stage_stop_time] *\n",
    "         slurry_rate_per_min_to_per_second_conversion_factor())\n",
    "    stage_fluid = integrate.trapz(fluid_per_sec.values, \n",
    "                                  (fluid_per_sec.index - stage_start_time).seconds)\n",
    "    \n",
    "    stage_concentration = \\\n",
    "        raw_treatment_series[orchid.PROPPANT_CONCENTRATION][stage_start_time:stage_stop_time]\n",
    "    proppant_per_sec = (fluid_per_sec * \n",
    "                        slurry_rate_bbl_per_second_to_gal_per_second_conversion_factor() *\n",
    "                        stage_concentration)\n",
    "    stage_proppant = integrate.trapz(proppant_per_sec.values, \n",
    "                                     (proppant_per_sec.index - stage_start_time).seconds)\n",
    "    \n",
    "    stage_pressure = \\\n",
    "        raw_treatment_series[orchid.TREATING_PRESSURE][stage_start_time:stage_stop_time]\n",
    "    median_stage_pressure = stage_pressure.median()\n",
    "    \n",
    "    # Assumes that all three curves have the same time basis; that is, \n",
    "    # that the index for each series is equal.\n",
    "    treatment_curves = pd.DataFrame.from_dict(raw_treatment_series)\n",
    "    treatment_curves['dt'] = ((treatment_curves.index.values - stage_start_time) /\n",
    "                              np.timedelta64(1, 's'))\n",
    "    \n",
    "    return stage_fluid, stage_proppant, median_stage_pressure"
   ]
  },
  {
   "cell_type": "markdown",
   "metadata": {
    "pycharm": {
     "name": "#%% md\n"
    }
   },
   "source": [
    "## 3.0 Build a pandas data frame"
   ]
  },
  {
   "cell_type": "code",
   "execution_count": null,
   "metadata": {
    "collapsed": false,
    "jupyter": {
     "outputs_hidden": false
    },
    "pycharm": {
     "name": "#%%\n"
    }
   },
   "outputs": [],
   "source": [
    "# Remember the project units\n",
    "units = {'length': project.unit('length'),\n",
    "         'mass': project.unit('mass'),\n",
    "         'pressure': project.unit('pressure'),\n",
    "         'slurry volume': orchid.slurry_rate_volume_unit(project.unit('slurry rate')),\n",
    "         'proppant mass': orchid.proppant_concentration_mass_unit(\n",
    "             project.unit('proppant concentration'))}"
   ]
  },
  {
   "cell_type": "code",
   "execution_count": null,
   "metadata": {
    "collapsed": false,
    "jupyter": {
     "outputs_hidden": false
    },
    "pycharm": {
     "name": "#%%\n"
    }
   },
   "outputs": [],
   "source": [
    "# Calculate the stage results\n",
    "stage_results = []\n",
    "for well in project.wells:\n",
    "    stages = list(well.stages)\n",
    "\n",
    "    for stage in stages:\n",
    "        \n",
    "        treatment_aggregates = compute_stage_treatment_aggregates(stage)\n",
    "        # Skip stages with no aggregates. These stages most likely are from \n",
    "        # an untreated monitor well.\n",
    "        if not treatment_aggregates:\n",
    "            continue\n",
    "            \n",
    "        stage_fluid, stage_proppant, median_stage_pressure = treatment_aggregates\n",
    "        stage_results.append((project.name, well.name, stage.display_stage_number,\n",
    "                              stage.md_top(units['length']).magnitude,\n",
    "                              stage.md_bottom(units['length']).magnitude,\n",
    "                              stage_fluid, stage_proppant, median_stage_pressure))"
   ]
  },
  {
   "cell_type": "code",
   "execution_count": null,
   "metadata": {
    "collapsed": false,
    "jupyter": {
     "outputs_hidden": false
    },
    "pycharm": {
     "name": "#%%\n"
    }
   },
   "outputs": [],
   "source": [
    "# Provide a way to manage DataFrame column names (which include units) using simpler,\n",
    "# semantic identifiers. Creating the column names helps me avoid \"typos\" involved in\n",
    "# getting the (project-specific) units correct, but is not necessary in a typical\n",
    "# interactive session.\n",
    "\n",
    "name_column_name_map = {'project': 'Project',\n",
    "                        'well': 'Well',\n",
    "                        'stage': 'Stage',\n",
    "                        'md_top': f'MD Top ({units[\"length\"]})',\n",
    "                        'md_bottom': f'MD Bottom ({units[\"length\"]})',\n",
    "                        'total_fluid': f'Total Fluid ({units[\"slurry volume\"]})',\n",
    "                        'total_proppant': f'Total Proppant ({units[\"proppant mass\"]})',\n",
    "                        'median_treating': f'Median Treating Pressure ({units[\"pressure\"]})'}"
   ]
  },
  {
   "cell_type": "code",
   "execution_count": null,
   "metadata": {
    "collapsed": false,
    "jupyter": {
     "outputs_hidden": false
    },
    "pycharm": {
     "name": "#%%\n"
    }
   },
   "outputs": [],
   "source": [
    "# Create the data frame\n",
    "stage_summaries = pd.DataFrame(data=stage_results,\n",
    "                               columns=name_column_name_map.values())\n",
    "stage_summaries.head()"
   ]
  },
  {
   "cell_type": "markdown",
   "metadata": {
    "pycharm": {
     "name": "#%% md\n"
    }
   },
   "source": [
    "### 3.1 Compute the stage length directly from the data frame"
   ]
  },
  {
   "cell_type": "code",
   "execution_count": null,
   "metadata": {
    "collapsed": false,
    "jupyter": {
     "outputs_hidden": false
    },
    "pycharm": {
     "name": "#%%"
    }
   },
   "outputs": [],
   "source": [
    "stage_summaries[f'Stage Length ({units[\"length\"]})'] = \\\n",
    "    stage_summaries.apply(\n",
    "        lambda s: s[name_column_name_map['md_bottom']] -\n",
    "                  s[name_column_name_map['md_top']], axis=1)\n",
    "name_column_name_map['stage_length']= stage_summaries.columns[-1]\n",
    "stage_summaries.head()"
   ]
  },
  {
   "cell_type": "markdown",
   "metadata": {
    "pycharm": {
     "name": "#%% md\n"
    }
   },
   "source": [
    "### 3.2 Now compute the proppant loading for each stage"
   ]
  },
  {
   "cell_type": "code",
   "execution_count": null,
   "metadata": {
    "collapsed": false,
    "jupyter": {
     "outputs_hidden": false
    },
    "pycharm": {
     "name": "#%%\n"
    }
   },
   "outputs": [],
   "source": [
    "stage_summaries[f'Proppant loading ({units[\"proppant mass\"]}/{units[\"length\"]})'] = \\\n",
    "    stage_summaries.apply(\n",
    "        lambda s: s[name_column_name_map['total_proppant']] /\n",
    "                  s[name_column_name_map['stage_length']], axis=1)\n",
    "name_column_name_map['proppant_loading']= stage_summaries.columns[-1]\n",
    "stage_summaries.head()"
   ]
  },
  {
   "cell_type": "markdown",
   "metadata": {
    "pycharm": {
     "name": "#%% md\n"
    }
   },
   "source": [
    "## 4.0 Completion questions"
   ]
  },
  {
   "cell_type": "markdown",
   "metadata": {
    "pycharm": {
     "name": "#%% md\n"
    }
   },
   "source": [
    "### 4.1 What is the median proppant intensity per well?"
   ]
  },
  {
   "cell_type": "code",
   "execution_count": null,
   "metadata": {
    "collapsed": false,
    "jupyter": {
     "outputs_hidden": false
    },
    "pycharm": {
     "name": "#%%\n"
    }
   },
   "outputs": [],
   "source": [
    "stage_summaries[[name_column_name_map['well'],\n",
    "                 name_column_name_map['proppant_loading']]].\\\n",
    "    groupby(name_column_name_map['well']).median()"
   ]
  },
  {
   "cell_type": "code",
   "execution_count": null,
   "metadata": {},
   "outputs": [],
   "source": [
    "groups = stage_summaries.groupby(name_column_name_map['well'])\n",
    "\n",
    "fig, ax = plt.subplots()\n",
    "ax.margins(0.05) # Optional, just adds 5% padding to the autoscaling\n",
    "for name, group in groups:\n",
    "    ax.plot(group[name_column_name_map['stage']],\n",
    "            group[name_column_name_map['proppant_loading']],\n",
    "            marker='o', linestyle='', ms=6, label=name)\n",
    "ax.legend()\n",
    "plt.rcParams['figure.dpi'] = 150\n",
    "plt.show()"
   ]
  },
  {
   "cell_type": "markdown",
   "metadata": {
    "pycharm": {
     "name": "#%% md\n"
    }
   },
   "source": [
    "That's a little hard to interpret with the outliers"
   ]
  },
  {
   "cell_type": "code",
   "execution_count": null,
   "metadata": {
    "collapsed": false,
    "jupyter": {
     "outputs_hidden": false
    },
    "pycharm": {
     "name": "#%%\n"
    }
   },
   "outputs": [],
   "source": [
    "# Plot\n",
    "groups = stage_summaries[stage_summaries[name_column_name_map['stage']]>5].\\\n",
    "    groupby(name_column_name_map['well'])\n",
    "\n",
    "fig, ax = plt.subplots()\n",
    "ax.margins(0.05) # Optional, just adds 5% padding to the autoscaling\n",
    "for name, group in groups:\n",
    "    ax.plot(group[name_column_name_map['stage']],\n",
    "            group[name_column_name_map['proppant_loading']],\n",
    "            marker='o', linestyle='', ms=6, label=name)\n",
    "ax.legend()\n",
    "ax.set_title(f'Proppant Loading by Stage')\n",
    "ax.set_xlabel('Stage Number')\n",
    "ax.set_ylabel(name_column_name_map['proppant_loading'])\n",
    "plt.rcParams['figure.dpi'] = 150\n",
    "plt.show()"
   ]
  },
  {
   "cell_type": "markdown",
   "source": [
    "That's a little busy. Let's clean it up."
   ],
   "metadata": {
    "collapsed": false,
    "pycharm": {
     "name": "#%% md\n"
    }
   }
  },
  {
   "cell_type": "code",
   "execution_count": null,
   "outputs": [],
   "source": [
    "def build_proppant_loading_plot(data_frame):\n",
    "    # Plot\n",
    "    groups = data_frame.groupby(name_column_name_map['well'])\n",
    "\n",
    "    fig, ax = plt.subplots(len(groups), sharex=True, sharey=True)\n",
    "    fig.suptitle(f'{name_column_name_map[\"proppant_loading\"]} by Stage')\n",
    "    i=0\n",
    "    colors=['tab:blue', 'tab:orange', 'tab:green', 'tab:red', 'tab:purple',\n",
    "            'tab:brown', 'tab:pink', 'tab:gray', 'tab:olive', 'tab:cyan']\n",
    "    for name, group in groups:\n",
    "        ax[i].margins(0.05)\n",
    "        ax[i].plot(group[name_column_name_map['stage']],\n",
    "                   group[name_column_name_map['proppant_loading']],\n",
    "                   marker='o', linestyle='', ms=6, label=name)\n",
    "        ax[i].legend()\n",
    "        ax[i].set_xlabel('Stage Number')\n",
    "        i = i+1\n",
    "        # Hide x labels and tick labels for all but bottom plot.\n",
    "    for a in ax:\n",
    "        a.label_outer()\n",
    "    plt.rcParams['figure.dpi'] = 150\n",
    "    plt.show()\n",
    "\n",
    "build_proppant_loading_plot(stage_summaries[stage_summaries[name_column_name_map['stage']]>5])"
   ],
   "metadata": {
    "collapsed": false,
    "pycharm": {
     "name": "#%%\n"
    }
   }
  }
 ],
 "metadata": {
  "kernelspec": {
   "display_name": "Python 3",
   "language": "python",
   "name": "python3"
  },
  "language_info": {
   "codemirror_mode": {
    "name": "ipython",
    "version": 3
   },
   "file_extension": ".py",
   "mimetype": "text/x-python",
   "name": "python",
   "nbconvert_exporter": "python",
   "pygments_lexer": "ipython3",
   "version": "3.7.7"
  }
 },
 "nbformat": 4,
 "nbformat_minor": 4
}