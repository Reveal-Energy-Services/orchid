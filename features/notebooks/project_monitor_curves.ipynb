{
 "cells": [
  {
   "cell_type": "code",
   "execution_count": null,
   "metadata": {
    "collapsed": false,
    "jupyter": {
     "outputs_hidden": false
    },
    "pycharm": {
     "name": "#%%\n"
    }
   },
   "outputs": [],
   "source": [
    "from collections import namedtuple\n",
    "import pathlib\n",
    "import random"
   ]
  },
  {
   "cell_type": "code",
   "execution_count": null,
   "metadata": {
    "collapsed": false,
    "jupyter": {
     "outputs_hidden": false
    },
    "pycharm": {
     "name": "#%%\n"
    }
   },
   "outputs": [],
   "source": [
    "import numpy as np\n",
    "import matplotlib.pyplot as plt\n",
    "import pandas as pd\n",
    "import seaborn as sns"
   ]
  },
  {
   "cell_type": "code",
   "execution_count": null,
   "metadata": {
    "collapsed": false,
    "jupyter": {
     "outputs_hidden": false
    },
    "pycharm": {
     "name": "#%%\n"
    }
   },
   "outputs": [],
   "source": [
    "from orchid import (project_loader as opl)"
   ]
  },
  {
   "cell_type": "code",
   "execution_count": null,
   "metadata": {
    "collapsed": false,
    "jupyter": {
     "outputs_hidden": false
    },
    "pycharm": {
     "name": "#%%\n"
    }
   },
   "outputs": [],
   "source": [
    "import toolz.curried as toolz"
   ]
  },
  {
   "cell_type": "code",
   "execution_count": null,
   "metadata": {
    "collapsed": false,
    "jupyter": {
     "outputs_hidden": false
    },
    "pycharm": {
     "name": "#%%\n"
    }
   },
   "outputs": [],
   "source": [
    "# noinspection PyUnresolvedReferences\n",
    "import UnitsNet"
   ]
  },
  {
   "cell_type": "code",
   "execution_count": null,
   "metadata": {
    "collapsed": false,
    "jupyter": {
     "outputs_hidden": false
    },
    "pycharm": {
     "name": "#%%\n"
    }
   },
   "outputs": [],
   "source": [
    "project_filenames = {\n",
    "    'bakken': 'frankNstein_Bakken_UTM13_FEET.ifrac',\n",
    "    'montney': 'Project-frankNstein_Montney_UTM13_METERS.ifrac',\n",
    "}"
   ]
  },
  {
   "cell_type": "code",
   "execution_count": null,
   "metadata": {
    "collapsed": false,
    "jupyter": {
     "outputs_hidden": false
    },
    "pycharm": {
     "name": "#%%\n"
    }
   },
   "outputs": [],
   "source": [
    "test_data_path = pathlib.Path('c:/src/Orchid.IntegrationTestData/')\n",
    "project_path_names = toolz.valmap(lambda fn: test_data_path.joinpath(fn), project_filenames)\n",
    "project_path_names"
   ]
  },
  {
   "cell_type": "code",
   "execution_count": null,
   "metadata": {
    "collapsed": false,
    "jupyter": {
     "outputs_hidden": false
    },
    "pycharm": {
     "name": "#%%\n"
    }
   },
   "outputs": [],
   "source": [
    "projects = toolz.valmap(\n",
    "    lambda pn: opl.ProjectLoader(str(pn)).native_project(),\n",
    "    project_path_names)\n",
    "projects"
   ]
  },
  {
   "cell_type": "code",
   "execution_count": null,
   "metadata": {
    "collapsed": false,
    "jupyter": {
     "outputs_hidden": false
    },
    "pycharm": {
     "name": "#%%\n"
    }
   },
   "outputs": [],
   "source": [
    "project_units = toolz.valmap(lambda p: p.ProjectUnits, projects)\n",
    "project_units"
   ]
  },
  {
   "cell_type": "code",
   "execution_count": null,
   "metadata": {
    "collapsed": false,
    "jupyter": {
     "outputs_hidden": false
    },
    "pycharm": {
     "name": "#%%\n"
    }
   },
   "outputs": [],
   "source": [
    "def collect_time_series(so_far, ts):\n",
    "    return toolz.merge(so_far, {ts.DisplayName: ts})\n",
    "\n",
    "def well_time_series(project):\n",
    "    return toolz.reduce(collect_time_series, project.WellTimeSeriesList.Items, {})\n",
    "\n",
    "project_time_series = toolz.valmap(well_time_series, projects)\n",
    "project_time_series"
   ]
  },
  {
   "cell_type": "code",
   "execution_count": null,
   "metadata": {
    "collapsed": false,
    "jupyter": {
     "outputs_hidden": false
    },
    "pycharm": {
     "name": "#%%\n"
    }
   },
   "outputs": [],
   "source": [
    "toolz.valmap(len, project_time_series)"
   ]
  },
  {
   "cell_type": "code",
   "execution_count": null,
   "metadata": {
    "collapsed": false,
    "jupyter": {
     "outputs_hidden": false
    },
    "pycharm": {
     "name": "#%%\n"
    }
   },
   "outputs": [],
   "source": [
    "TimeSeriesSummary = namedtuple('TimeSeriesSummary', ['display_name', 'name',\n",
    "                                                     'phenomenon', 'net_unit', 'suffix',\n",
    "                                                     'start_time', 'stop_time'])\n"
   ]
  },
  {
   "cell_type": "code",
   "execution_count": null,
   "metadata": {},
   "outputs": [],
   "source": [
    "def summarize_time_series(ts):\n",
    "    time_series_range = ts.GetTimeSeriesRange()\n",
    "    start = time_series_range.Item1\n",
    "    stop = time_series_range.Item2\n",
    "    return TimeSeriesSummary(ts.DisplayName, ts.Name,\n",
    "                             ts.SampledQuantityName, ts.SampledQuantityType, ts.Suffix,\n",
    "                             start, stop)\n",
    "\n",
    "project_time_series_summaries = toolz.valmap(\n",
    "    toolz.valmap(summarize_time_series),\n",
    "    project_time_series)\n",
    "project_time_series_summaries"
   ]
  },
  {
   "cell_type": "code",
   "execution_count": null,
   "outputs": [],
   "source": [
    "project_time_series_samples = toolz.valmap(\n",
    "    toolz.valmap(toolz.compose(# list,\n",
    "                               lambda ts: ts.GetOrderedTimeSeriesHistory())),\n",
    "    project_time_series)\n",
    "# samples_to_print = toolz.valmap(\n",
    "#     toolz.map(len),\n",
    "#     project_time_series_samples)\n",
    "# samples_to_print"
   ],
   "metadata": {
    "collapsed": false,
    "pycharm": {
     "name": "#%%\n"
    }
   }
  },
  {
   "cell_type": "code",
   "execution_count": null,
   "metadata": {
    "collapsed": false,
    "jupyter": {
     "outputs_hidden": false
    },
    "pycharm": {
     "name": "#%%\n"
    }
   },
   "outputs": [],
   "source": [
    "first_well_time_series = projects['bakken'].WellTimeSeriesList.Items[0]\n",
    "first_well_time_series"
   ]
  },
  {
   "cell_type": "code",
   "execution_count": null,
   "metadata": {},
   "outputs": [],
   "source": [
    "first_well_time_series_samples = first_well_time_series.GetOrderedTimeSeriesHistory()\n",
    "len(first_well_time_series_samples)\n",
    "[first_well_time_series_samples[n].Value for n in range(5)]"
   ]
  },
  {
   "cell_type": "code",
   "execution_count": null,
   "metadata": {},
   "outputs": [],
   "source": [
    "def generate_sample_indices(ts):\n",
    "    candidate_indices = list(range(len(first_well_time_series_samples)))\n",
    "    random.shuffle(candidate_indices)\n",
    "    inner_indices = sorted(candidate_indices[:6])\n",
    "    result = [0] + inner_indices + [len(first_well_time_series_samples) - 1]\n",
    "    return result"
   ]
  },
  {
   "cell_type": "code",
   "execution_count": null,
   "metadata": {
    "collapsed": false,
    "jupyter": {
     "outputs_hidden": false
    },
    "pycharm": {
     "name": "#%%\n"
    }
   },
   "outputs": [],
   "source": [
    "sample_indices = generate_sample_indices(first_well_time_series_samples)\n",
    "sample_indices"
   ]
  },
  {
   "cell_type": "code",
   "execution_count": null,
   "metadata": {},
   "outputs": [],
   "source": [
    "@toolz.curry\n",
    "def make_sample_pressure(summary, sample):\n",
    "    return UnitsNet.Pressure.From(UnitsNet.QuantityValue.op_Implicit(sample.Value), \n",
    "                                  project_units['bakken'].PressureUnit)\n",
    "\n",
    "def sample_time_series(indices, summary, ts):\n",
    "    result = toolz.pipe(indices,\n",
    "                        # toolz.map(toolz.do(lambda n: print(n))),\n",
    "                        toolz.map(lambda n: toolz.nth(n, ts)),\n",
    "                        toolz.map(toolz.do(lambda s: print(s.Value))),\n",
    "                        toolz.map(make_sample_pressure(summary)),\n",
    "                        toolz.map(str),\n",
    "                        list,\n",
    "                        )\n",
    "    return result\n",
    "    \n",
    "sample_time_series(sample_indices, time_series_summary, first_well_time_series_samples)"
   ]
  },
  {
   "cell_type": "code",
   "execution_count": null,
   "metadata": {},
   "outputs": [],
   "source": []
  }
 ],
 "metadata": {
  "kernelspec": {
   "display_name": "Python 3",
   "language": "python",
   "name": "python3"
  },
  "language_info": {
   "codemirror_mode": {
    "name": "ipython",
    "version": 3
   },
   "file_extension": ".py",
   "mimetype": "text/x-python",
   "name": "python",
   "nbconvert_exporter": "python",
   "pygments_lexer": "ipython3",
   "version": "3.8.7"
  }
 },
 "nbformat": 4,
 "nbformat_minor": 4
}