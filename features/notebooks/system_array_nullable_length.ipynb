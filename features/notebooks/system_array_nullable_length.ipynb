{
 "cells": [
  {
   "cell_type": "code",
   "execution_count": null,
   "id": "033779eb-fab9-4129-b12f-232934080916",
   "metadata": {},
   "outputs": [],
   "source": [
    "import math"
   ]
  },
  {
   "cell_type": "code",
   "execution_count": null,
   "id": "598310f7-59d8-4bba-8005-de3463cb1903",
   "metadata": {},
   "outputs": [],
   "source": [
    "from orchid import (\n",
    "    measurement as om,\n",
    "    net_quantity as onq,\n",
    "    physical_quantity as opq,\n",
    ")"
   ]
  },
  {
   "cell_type": "code",
   "execution_count": null,
   "id": "e37de9b3-78f5-4ea6-9c78-d7901e65a7a3",
   "metadata": {},
   "outputs": [],
   "source": [
    "import System\n",
    "import UnitsNet"
   ]
  },
  {
   "cell_type": "code",
   "execution_count": null,
   "id": "d8ff4f5c-58a2-4118-8e09-56a626de4646",
   "metadata": {},
   "outputs": [],
   "source": [
    "ms = [3.141 * om.registry.m, 2.718 * om.registry.m, math.nan * om.registry.m, 1.414 * om.registry.m]\n",
    "ms"
   ]
  },
  {
   "cell_type": "code",
   "execution_count": null,
   "id": "549851f0-12ae-4e00-a1c8-21c8a2e4e7d3",
   "metadata": {},
   "outputs": [],
   "source": [
    "nls = [onq.as_net_quantity(opq.PhysicalQuantity.LENGTH, m) for m in ms]\n",
    "nls"
   ]
  },
  {
   "cell_type": "code",
   "execution_count": null,
   "id": "1009cd39-0896-4676-88ad-4930b42981c8",
   "metadata": {},
   "outputs": [],
   "source": [
    "System.Array[System.Nullable[UnitsNet.Length]].Overloads"
   ]
  },
  {
   "cell_type": "code",
   "execution_count": null,
   "id": "64975421-d721-474d-8015-35704728b29c",
   "metadata": {},
   "outputs": [],
   "source": [
    "System.Nullable[UnitsNet.Length].Overloads"
   ]
  },
  {
   "cell_type": "code",
   "execution_count": null,
   "id": "53b5cf58-afb6-4364-9439-0b9fbf247053",
   "metadata": {},
   "outputs": [],
   "source": [
    "System.DateTime.UtcNow.GetType()"
   ]
  },
  {
   "cell_type": "code",
   "execution_count": null,
   "id": "ae79aa5f-52cb-41a0-9974-395e60c45191",
   "metadata": {},
   "outputs": [],
   "source": [
    "dir(nls[0].GetType())"
   ]
  },
  {
   "cell_type": "code",
   "execution_count": null,
   "id": "8b1626a2-3a74-4040-b4c2-c4e812e23ea8",
   "metadata": {},
   "outputs": [],
   "source": [
    "nls[0].GetType().IsValueType"
   ]
  },
  {
   "cell_type": "code",
   "execution_count": null,
   "id": "02f2b5e2-ccf5-4eb4-8fdb-a3e0395db120",
   "metadata": {},
   "outputs": [],
   "source": [
    "nls[0].GetType().UnderlyingSystemType"
   ]
  },
  {
   "cell_type": "code",
   "execution_count": null,
   "id": "e46f8aeb-1251-4a59-b113-db55f90374b3",
   "metadata": {},
   "outputs": [],
   "source": [
    "a = System.Array[System.Nullable[UnitsNet.Length]](nls)\n",
    "a"
   ]
  },
  {
   "cell_type": "code",
   "execution_count": null,
   "id": "1f6ddeb8-b26d-4c5d-b977-0d934c986234",
   "metadata": {},
   "outputs": [],
   "source": [
    "a.Length"
   ]
  },
  {
   "cell_type": "code",
   "execution_count": null,
   "id": "974a1b1b-ade5-48c9-a229-28e6d2aea1b5",
   "metadata": {},
   "outputs": [],
   "source": [
    "a[0]"
   ]
  },
  {
   "cell_type": "code",
   "execution_count": null,
   "id": "df670a98-7edf-4daf-aee9-557ff74ef4e0",
   "metadata": {},
   "outputs": [],
   "source": [
    "a[2]"
   ]
  },
  {
   "cell_type": "code",
   "execution_count": null,
   "id": "112a9599-84a0-48ff-9452-c8d9ab99a08e",
   "metadata": {},
   "outputs": [],
   "source": [
    "UnitsNet.Length.FromMeters.Overloads"
   ]
  },
  {
   "cell_type": "code",
   "execution_count": null,
   "id": "ab14913f-045d-4530-b69d-b9b16f360413",
   "metadata": {},
   "outputs": [],
   "source": []
  }
 ],
 "metadata": {
  "kernelspec": {
   "display_name": "Python 3 (ipykernel)",
   "language": "python",
   "name": "python3"
  },
  "language_info": {
   "codemirror_mode": {
    "name": "ipython",
    "version": 3
   },
   "file_extension": ".py",
   "mimetype": "text/x-python",
   "name": "python",
   "nbconvert_exporter": "python",
   "pygments_lexer": "ipython3",
   "version": "3.8.10"
  }
 },
 "nbformat": 4,
 "nbformat_minor": 5
}
