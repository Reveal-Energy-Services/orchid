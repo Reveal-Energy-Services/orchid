{
 "cells": [
  {
   "cell_type": "code",
   "execution_count": null,
   "id": "eb29845a-d005-49eb-8c8e-9d89498ab911",
   "metadata": {},
   "outputs": [],
   "source": [
    "import orchid"
   ]
  },
  {
   "cell_type": "code",
   "execution_count": null,
   "id": "19621d00-1157-4131-85f2-82b068d9ad77",
   "metadata": {},
   "outputs": [],
   "source": [
    "# Remember that importing `orchid` results in a call to `pythonnet.load()`\n",
    "# to specify the targeted runtime:\n",
    "#\n",
    "# 'netfx': .NET Framework\n",
    "# 'coreclr': .NET Core\n",
    "# 'mono': Mono\n",
    "\n",
    "#noinspection PyPackageRequirements\n",
    "import clr"
   ]
  },
  {
   "cell_type": "code",
   "execution_count": null,
   "outputs": [],
   "source": [
    "# noinspection PyUnresolvedReferences,PyPackageRequirements\n",
    "from System import (\n",
    "    ArgumentException,\n",
    "    Convert,\n",
    "    DateTime,\n",
    "    DateTimeKind,\n",
    "    DateTimeOffset,\n",
    "    Int32,\n",
    "    InvalidCastException,\n",
    "    TimeSpan,\n",
    ")"
   ],
   "metadata": {
    "collapsed": false
   }
  },
  {
   "cell_type": "code",
   "execution_count": null,
   "outputs": [],
   "source": [
    "DateTime"
   ],
   "metadata": {
    "collapsed": false
   }
  },
  {
   "cell_type": "code",
   "execution_count": null,
   "outputs": [],
   "source": [
    "DateTime.Overloads, DateTime.__overloads__"
   ],
   "metadata": {
    "collapsed": false
   }
  },
  {
   "cell_type": "code",
   "execution_count": null,
   "outputs": [],
   "source": [
    "type(DateTime.__overloads__)"
   ],
   "metadata": {
    "collapsed": false
   }
  },
  {
   "cell_type": "code",
   "execution_count": null,
   "outputs": [],
   "source": [
    "dir(DateTime)"
   ],
   "metadata": {
    "collapsed": false
   }
  },
  {
   "cell_type": "code",
   "execution_count": null,
   "outputs": [],
   "source": [
    "import pythonnet"
   ],
   "metadata": {
    "collapsed": false
   }
  },
  {
   "cell_type": "code",
   "execution_count": null,
   "outputs": [],
   "source": [
    "pythonnet.get_runtime_info()"
   ],
   "metadata": {
    "collapsed": false
   }
  },
  {
   "cell_type": "code",
   "execution_count": null,
   "outputs": [],
   "source": [
    "type(DateTimeKind.Utc)"
   ],
   "metadata": {
    "collapsed": false
   }
  },
  {
   "cell_type": "code",
   "execution_count": null,
   "outputs": [],
   "source": [
    "dir(DateTimeKind.Utc)"
   ],
   "metadata": {
    "collapsed": false
   }
  },
  {
   "cell_type": "code",
   "execution_count": null,
   "outputs": [],
   "source": [
    "DateTimeKind.Utc.GetType()"
   ],
   "metadata": {
    "collapsed": false
   }
  },
  {
   "cell_type": "code",
   "execution_count": null,
   "outputs": [],
   "source": [
    "dir(DateTimeKind.Utc.GetType())"
   ],
   "metadata": {
    "collapsed": false
   }
  },
  {
   "cell_type": "code",
   "execution_count": null,
   "outputs": [],
   "source": [
    "DateTimeKind.Utc.GetType().BaseType"
   ],
   "metadata": {
    "collapsed": false
   }
  },
  {
   "cell_type": "code",
   "execution_count": null,
   "outputs": [],
   "source": [
    "DateTimeKind.Utc.GetType().BaseType.FullName"
   ],
   "metadata": {
    "collapsed": false
   }
  },
  {
   "cell_type": "code",
   "execution_count": null,
   "outputs": [],
   "source": [
    "[n for n in dir(DateTimeOffset) if 'Equality' in n]"
   ],
   "metadata": {
    "collapsed": false
   }
  },
  {
   "cell_type": "code",
   "execution_count": null,
   "outputs": [],
   "source": [
    "DateTimeOffset.op_Equality.__overloads__"
   ],
   "metadata": {
    "collapsed": false
   }
  },
  {
   "cell_type": "code",
   "execution_count": null,
   "outputs": [],
   "source": [
    "try:\n",
    "    print('Trying `108 == DateTimeOffset.Value`')\n",
    "    108 == DateTimeOffset.MaxValue\n",
    "except TypeError as nie:\n",
    "    print(f'TypeError: {nie}')"
   ],
   "metadata": {
    "collapsed": false
   }
  },
  {
   "cell_type": "code",
   "execution_count": null,
   "outputs": [],
   "source": [
    "try:\n",
    "    print('Trying `108 == TimeSpan.MaxValue`')\n",
    "    108 == TimeSpan.MaxValue\n",
    "except TypeError as nie:\n",
    "    print(f'TypeError: {nie}')"
   ],
   "metadata": {
    "collapsed": false
   }
  },
  {
   "cell_type": "markdown",
   "source": [
    "We filed an issue with the Python.NET team. The fairly quickly responded with the following:\n",
    "\n",
    "\"\"\"\n",
    "Yes, we tried to limit the \"implicit\" conversions to a minimum. I don't even know, which\n",
    "change in particular is responsible for the behavioural change fix that you are observing\n",
    "here, but you are only able to compare things to a .NET object that are directly convertible\n",
    "to it. If you'd really require this for DateTimeOffset and TimeSpan, you could make them\n",
    "convertible via a Codec. Otherwise, I'd suggest you just generate the respective comparison\n",
    "values using .FromTicks.\n",
    "\"\"\""
   ],
   "metadata": {
    "collapsed": false
   }
  },
  {
   "cell_type": "code",
   "execution_count": null,
   "outputs": [],
   "source": [
    "108 == DateTimeOffset.MaxValue.Ticks"
   ],
   "metadata": {
    "collapsed": false
   }
  },
  {
   "cell_type": "code",
   "execution_count": null,
   "outputs": [],
   "source": [
    "108 == TimeSpan.MaxValue.Ticks"
   ],
   "metadata": {
    "collapsed": false
   }
  },
  {
   "cell_type": "code",
   "execution_count": null,
   "outputs": [],
   "source": [
    "108 == TimeSpan.MinValue.Ticks"
   ],
   "metadata": {
    "collapsed": false
   }
  },
  {
   "cell_type": "markdown",
   "source": [
    "Python.NET 2.5.2 allowed expressions like `TimeSpan()`. (Note that the .NET\n",
    "`TimeSpan` class **does not** have a default constructor.) This expression\n",
    "is no longer supported. Instead, one must supply an argument (typically\n",
    "zero (0)) to the constructor or to methods like `TimeSpan.FromTicks()`."
   ],
   "metadata": {
    "collapsed": false
   }
  },
  {
   "cell_type": "code",
   "execution_count": null,
   "outputs": [],
   "source": [
    "TimeSpan(8801)"
   ],
   "metadata": {
    "collapsed": false
   }
  },
  {
   "cell_type": "code",
   "execution_count": null,
   "outputs": [],
   "source": [
    "try:\n",
    "    print('Trying expression, `TimeSpan()`')\n",
    "    TimeSpan()\n",
    "except TypeError as nie:\n",
    "    print(f'TypeError: {nie}')"
   ],
   "metadata": {
    "collapsed": false
   }
  },
  {
   "cell_type": "code",
   "execution_count": null,
   "outputs": [],
   "source": [
    "TimeSpan(0)"
   ],
   "metadata": {
    "collapsed": false
   }
  },
  {
   "cell_type": "code",
   "execution_count": null,
   "outputs": [],
   "source": [
    "TimeSpan.FromTicks(0)"
   ],
   "metadata": {
    "collapsed": false
   }
  },
  {
   "cell_type": "markdown",
   "source": [
    "During integration testing, we discovered an issue setting an attribute with\n",
    "type, `Int32`, using a Python `int` of value 7. The run-time reported that\n",
    "the types, `Int32` and `PyInt` were incompatible. This scenario requires\n",
    "significant set up."
   ],
   "metadata": {
    "collapsed": false
   }
  },
  {
   "cell_type": "code",
   "execution_count": null,
   "outputs": [],
   "source": [
    "# Find the well named 'Demo_1H'\n",
    "bakken = orchid.load_project('c:/src/Orchid.IntegrationTestData/frankNstein_Bakken_UTM13_FEET.ifrac')\n",
    "candidate_wells = list(bakken.wells().find_by_name('Demo_1H'))\n",
    "assert len(candidate_wells) == 1\n",
    "demo_1h = candidate_wells[0]"
   ],
   "metadata": {
    "collapsed": false
   }
  },
  {
   "cell_type": "code",
   "execution_count": null,
   "outputs": [],
   "source": [
    "# Create an attribute with name, 'My New Attribute', and type, `System.Int32`\n",
    "# noinspection PyUnresolvedReferences,PyPackageRequirements\n",
    "from Orchid.FractureDiagnostics.Factories.Implementations import Attribute\n",
    "\n",
    "attribute_to_add_type = Int32\n",
    "attribute_to_add = Attribute[attribute_to_add_type].Create('My New Attribute')"
   ],
   "metadata": {
    "collapsed": false
   }
  },
  {
   "cell_type": "code",
   "execution_count": null,
   "outputs": [],
   "source": [
    "# Add newly created attribute to well, 'Demo_1H'\n",
    "with orchid.dot_net_disposable.disposable(demo_1h.dom_object.ToMutable()) as mutable_well:\n",
    "    mutable_well.AddStageAttribute(attribute_to_add)"
   ],
   "metadata": {
    "collapsed": false
   }
  },
  {
   "cell_type": "code",
   "execution_count": null,
   "outputs": [],
   "source": [
    "# Find stage number 7 in well, 'Demo_1H'\n",
    "maybe_stage = demo_1h.stages().find_by_display_stage_number(7)\n",
    "assert maybe_stage is not None\n",
    "stage_7 = maybe_stage"
   ],
   "metadata": {
    "collapsed": false
   }
  },
  {
   "cell_type": "code",
   "execution_count": null,
   "outputs": [],
   "source": [
    "# Add attribute with value, 17, to stage 7, with Python `int` type.\n",
    "with (orchid.dot_net_disposable.disposable(stage_7.dom_object.ToMutable())) as mutable_stage:\n",
    "    # This action will fail because the attribute type is `System.Int32`\n",
    "    # and `pythonnet-3.0.0.post1` **does not** implicitly equate these two types.\n",
    "    try:\n",
    "        mutable_stage.SetAttribute(attribute_to_add, int)\n",
    "    except ArgumentException as ae:\n",
    "        print(f'ArgumentException: {ae}')\n"
   ],
   "metadata": {
    "collapsed": false
   }
  },
  {
   "cell_type": "code",
   "execution_count": null,
   "outputs": [],
   "source": [
    "# Add attribute with value, 17, to stage 7\n",
    "with (orchid.dot_net_disposable.disposable(stage_7.dom_object.ToMutable())) as mutable_stage:\n",
    "    mutable_stage.SetAttribute(attribute_to_add, attribute_to_add_type(7))\n"
   ],
   "metadata": {
    "collapsed": false
   }
  },
  {
   "cell_type": "code",
   "execution_count": null,
   "outputs": [],
   "source": [
    "# Verify added attribute value\n",
    "ignored_object = object()\n",
    "is_attribute_present, actual_attribute_value = stage_7.dom_object.TryGetAttributeValue(attribute_to_add,\n",
    "                                                                                       ignored_object)\n",
    "assert is_attribute_present\n",
    "assert type(actual_attribute_value) == int\n",
    "assert actual_attribute_value == 7"
   ],
   "metadata": {
    "collapsed": false
   }
  },
  {
   "cell_type": "markdown",
   "source": [
    "## Python enum.Enum member values of type .NET Enum"
   ],
   "metadata": {
    "collapsed": false
   }
  },
  {
   "cell_type": "markdown",
   "source": [
    "Version 2.5.2 of `pythonnet` converted values of type .NET Enum to Python\n",
    "`int` values. Consequently, to support easy comparisons between the .NET\n",
    "type, `Orchid.FractureDiagnostics.FormationConnectionType` and the Python\n",
    "enumeration, `native_stage_adapter.ConnectionType`, we defined\n",
    "`native_stage_adapter.ConnectionType` to inherit from `enum.IntEnum`.\n",
    "\n",
    "This base class is not needed in `pythonnet-3.0.0.post1` because the\n",
    "enumeration member `native_stage_adatper.ConnectionType.PLUG_AND_PERF`,\n",
    "defined to have a value of\n",
    "`Orchid.FractureDiagnostics.FormationConnectionType` is no longer of\n",
    "type `int` but is actually of type,\n",
    "`Orchid.FractureDiagnostics.FormationConnectionType`."
   ],
   "metadata": {
    "collapsed": false
   }
  },
  {
   "cell_type": "code",
   "execution_count": null,
   "outputs": [],
   "source": [
    "# Returned `True` in `pythonnet-2.5.2`\n",
    "orchid.net_date_time.TimePointTimeZoneKind.UTC == 0"
   ],
   "metadata": {
    "collapsed": false
   }
  },
  {
   "cell_type": "code",
   "execution_count": null,
   "outputs": [],
   "source": [
    "orchid.net_date_time.DateTimeKind"
   ],
   "metadata": {
    "collapsed": false
   }
  },
  {
   "cell_type": "code",
   "execution_count": null,
   "outputs": [],
   "source": [
    "orchid.net_date_time.TimePointTimeZoneKind"
   ],
   "metadata": {
    "collapsed": false
   }
  },
  {
   "cell_type": "code",
   "execution_count": null,
   "outputs": [],
   "source": [
    "orchid.net_date_time.TimePointTimeZoneKind.UTC"
   ],
   "metadata": {
    "collapsed": false
   }
  },
  {
   "cell_type": "code",
   "execution_count": null,
   "outputs": [],
   "source": [
    "orchid.net_date_time.TimePointTimeZoneKind.UTC.value"
   ],
   "metadata": {
    "collapsed": false
   }
  },
  {
   "cell_type": "code",
   "execution_count": null,
   "outputs": [],
   "source": [
    "# Similarly, this expression returned `True` in `pythonnet-2.5.2`\n",
    "orchid.native_stage_adapter.ConnectionType == 0"
   ],
   "metadata": {
    "collapsed": false
   }
  },
  {
   "cell_type": "code",
   "execution_count": null,
   "outputs": [],
   "source": [
    "orchid.native_stage_adapter.FormationConnectionType"
   ],
   "metadata": {
    "collapsed": false
   }
  },
  {
   "cell_type": "code",
   "execution_count": null,
   "outputs": [],
   "source": [
    "orchid.native_stage_adapter.ConnectionType"
   ],
   "metadata": {
    "collapsed": false
   }
  },
  {
   "cell_type": "code",
   "execution_count": null,
   "outputs": [],
   "source": [
    "orchid.native_stage_adapter.ConnectionType.PLUG_AND_PERF"
   ],
   "metadata": {
    "collapsed": false
   }
  },
  {
   "cell_type": "code",
   "execution_count": null,
   "outputs": [],
   "source": [
    "orchid.native_stage_adapter.ConnectionType.OPEN_HOLE"
   ],
   "metadata": {
    "collapsed": false
   }
  },
  {
   "cell_type": "code",
   "execution_count": null,
   "outputs": [],
   "source": [
    "orchid.native_stage_adapter.ConnectionType.PLUG_AND_PERF.value"
   ],
   "metadata": {
    "collapsed": false
   }
  },
  {
   "cell_type": "markdown",
   "source": [
    "### Obscure \"No method matches given arguments for Object.ToString: (<class 'str'>)\""
   ],
   "metadata": {
    "collapsed": false
   }
  },
  {
   "cell_type": "markdown",
   "source": [
    "Under `pythonnet-2.5.2`, running the following `doctest` passes:\n",
    "\n",
    "```\n",
    "    >>> start = pendulum.parse('2022-02-23T15:53:23Z')\n",
    "    >>> stop = pendulum.parse('2022-02-24T05:54:11Z')\n",
    "    >>> net_start = ndt.as_net_date_time(start)\n",
    "    >>> net_stop = ndt.as_net_date_time(stop)\n",
    "    >>> factory = create()\n",
    "    >>> date_time_offset_range = factory.CreateDateTimeOffsetRange(net_start, net_stop)\n",
    "    >>> (date_time_offset_range.Start.ToString('o'), date_time_offset_range.Stop.ToString('o'))\n",
    "    ('2022-02-23T15:53:23.0000000+00:00', '2022-02-24T05:54:11.0000000+00:00')\n",
    "```"
   ],
   "metadata": {
    "collapsed": false
   }
  },
  {
   "cell_type": "markdown",
   "source": [
    "When running the same `doctest` using `pythonnet-3.0.0.post1`, this code\n",
    "encounters an unhandled exception:\n",
    "\n",
    "```\n",
    "Error\n",
    "**********************************************************************\n",
    "File \"C:\\src\\orchid-python-api\\orchid\\net_fracture_diagnostics_factory.py\", line ?, in net_fracture_diagnostics_factory.create\n",
    "Failed example:\n",
    "    (date_time_offset_range.Start.ToString('o'), date_time_offset_range.Stop.ToString('o'))\n",
    "Exception raised:\n",
    "    Traceback (most recent call last):\n",
    "      File \"C:/Users/larry.jones/AppData/Local/JetBrains/Toolbox/apps/PyCharm-P/ch-0/222.4459.20/plugins/python/helpers/pycharm/docrunner.py\", line 138, in __run\n",
    "        exec(compile(example.source, filename, \"single\",\n",
    "      File \"<doctest net_fracture_diagnostics_factory.create[6]>\", line 1, in <module>\n",
    "        (date_time_offset_range.Start.ToString('o'), date_time_offset_range.Stop.ToString('o'))\n",
    "    TypeError: No method matches given arguments for Object.ToString: (<class 'str'>)\n",
    "```"
   ],
   "metadata": {
    "collapsed": false
   }
  },
  {
   "cell_type": "code",
   "execution_count": null,
   "outputs": [],
   "source": [
    "import pendulum"
   ],
   "metadata": {
    "collapsed": false
   }
  },
  {
   "cell_type": "code",
   "execution_count": null,
   "outputs": [],
   "source": [
    "start = pendulum.parse('2022-02-23T15:53:23Z')\n",
    "stop = pendulum.parse('2022-02-24T05:54:11Z')\n",
    "net_start = orchid.net_date_time.as_net_date_time(start)\n",
    "net_stop = orchid.net_date_time.as_net_date_time(stop)\n",
    "factory = orchid.net_fracture_diagnostics_factory.create()"
   ],
   "metadata": {
    "collapsed": false
   }
  },
  {
   "cell_type": "code",
   "execution_count": null,
   "outputs": [],
   "source": [
    "type(start), type(stop), type(net_start), type(net_stop), type(factory)"
   ],
   "metadata": {
    "collapsed": false
   }
  },
  {
   "cell_type": "code",
   "execution_count": null,
   "outputs": [],
   "source": [
    "date_time_offset_range = factory.CreateDateTimeOffsetRange(net_start, net_stop)\n",
    "type(date_time_offset_range)"
   ],
   "metadata": {
    "collapsed": false
   }
  },
  {
   "cell_type": "code",
   "execution_count": null,
   "outputs": [],
   "source": [
    "dir(date_time_offset_range)"
   ],
   "metadata": {
    "collapsed": false
   }
  },
  {
   "cell_type": "code",
   "execution_count": null,
   "outputs": [],
   "source": [
    "str(date_time_offset_range)"
   ],
   "metadata": {
    "collapsed": false
   }
  },
  {
   "cell_type": "code",
   "execution_count": null,
   "outputs": [],
   "source": [
    "date_time_offset_range.Start.GetType().FullName"
   ],
   "metadata": {
    "collapsed": false
   }
  },
  {
   "cell_type": "code",
   "execution_count": null,
   "outputs": [],
   "source": [
    "net_range_start = date_time_offset_range.Start\n",
    "type(net_range_start)"
   ],
   "metadata": {
    "collapsed": false
   }
  },
  {
   "cell_type": "code",
   "execution_count": null,
   "outputs": [],
   "source": [
    "try:\n",
    "    net_range_start.ToString('o')\n",
    "except TypeError as te:\n",
    "    print(f'TypeError: {te}')"
   ],
   "metadata": {
    "collapsed": false
   }
  },
  {
   "cell_type": "code",
   "execution_count": null,
   "outputs": [],
   "source": [
    "net_range_start.ToString()"
   ],
   "metadata": {
    "collapsed": false
   }
  },
  {
   "cell_type": "code",
   "execution_count": null,
   "outputs": [],
   "source": [
    "net_range_start.ToString.__doc__"
   ],
   "metadata": {
    "collapsed": false
   }
  },
  {
   "cell_type": "code",
   "execution_count": null,
   "outputs": [],
   "source": [
    "dir(DateTimeOffset)"
   ],
   "metadata": {
    "collapsed": false
   }
  },
  {
   "cell_type": "code",
   "execution_count": null,
   "outputs": [],
   "source": [
    "net_date_time_offset = DateTimeOffset.UtcNow\n",
    "net_date_time_offset"
   ],
   "metadata": {
    "collapsed": false
   }
  },
  {
   "cell_type": "code",
   "execution_count": null,
   "outputs": [],
   "source": [
    "str(net_date_time_offset)"
   ],
   "metadata": {
    "collapsed": false
   }
  },
  {
   "cell_type": "code",
   "execution_count": null,
   "outputs": [],
   "source": [
    "repr(net_date_time_offset)"
   ],
   "metadata": {
    "collapsed": false
   }
  },
  {
   "cell_type": "code",
   "execution_count": null,
   "outputs": [],
   "source": [
    "net_date_time_offset.ToString()"
   ],
   "metadata": {
    "collapsed": false
   }
  },
  {
   "cell_type": "code",
   "execution_count": null,
   "outputs": [],
   "source": [
    "net_date_time_offset.ToString('o')"
   ],
   "metadata": {
    "collapsed": false
   }
  },
  {
   "cell_type": "code",
   "execution_count": null,
   "outputs": [],
   "source": [
    "type(net_date_time_offset)"
   ],
   "metadata": {
    "collapsed": false
   }
  },
  {
   "cell_type": "code",
   "execution_count": null,
   "outputs": [],
   "source": [
    "type(net_range_start)"
   ],
   "metadata": {
    "collapsed": false
   }
  },
  {
   "cell_type": "code",
   "execution_count": null,
   "outputs": [],
   "source": [
    "net_range_start.GetType().FullName"
   ],
   "metadata": {
    "collapsed": false
   }
  },
  {
   "cell_type": "code",
   "execution_count": null,
   "outputs": [],
   "source": [
    "dir(net_range_start.GetType())"
   ],
   "metadata": {
    "collapsed": false
   }
  },
  {
   "cell_type": "code",
   "execution_count": null,
   "outputs": [],
   "source": [
    "[iface.FullName for iface in net_range_start.GetType().GetInterfaces()]"
   ],
   "metadata": {
    "collapsed": false
   }
  },
  {
   "cell_type": "code",
   "execution_count": null,
   "outputs": [],
   "source": [
    "try:\n",
    "    error_net_range_start = Convert.ChangeType(date_time_offset_range, DateTimeOffset)\n",
    "    type(error_net_range_start)\n",
    "except InvalidCastException as ice:\n",
    "    print(f'InvalidCastException {ice}')"
   ],
   "metadata": {
    "collapsed": false
   }
  },
  {
   "cell_type": "code",
   "execution_count": null,
   "outputs": [],
   "source": [
    "clr.AddReference('System.Globalization')\n",
    "# noinspection PyUnresolvedReferences,PyPackageRequirements\n",
    "from System.Globalization import DateTimeFormatInfo"
   ],
   "metadata": {
    "collapsed": false
   }
  },
  {
   "cell_type": "code",
   "execution_count": null,
   "outputs": [],
   "source": [
    "dir(DateTimeFormatInfo)"
   ],
   "metadata": {
    "collapsed": false
   }
  },
  {
   "cell_type": "code",
   "execution_count": null,
   "outputs": [],
   "source": [
    "try:\n",
    "    net_range_start.ToString(DateTimeFormatInfo.SortableDateTimePattern)\n",
    "except TypeError as nie:\n",
    "    print(f'TypeError: {nie}')"
   ],
   "metadata": {
    "collapsed": false
   }
  },
  {
   "cell_type": "code",
   "execution_count": null,
   "outputs": [],
   "source": [
    "try:\n",
    "    orchid.net_date_time.as_date_time(net_range_start)\n",
    "except NotImplementedError:\n",
    "    print(f'NotImplementedError')"
   ],
   "metadata": {
    "collapsed": false
   }
  },
  {
   "cell_type": "code",
   "execution_count": null,
   "outputs": [],
   "source": [
    "try:\n",
    "    (DateTimeOffset)(net_range_start)\n",
    "except TypeError as te:\n",
    "    print(f'TypeError: {te}')"
   ],
   "metadata": {
    "collapsed": false
   }
  },
  {
   "cell_type": "code",
   "execution_count": null,
   "outputs": [],
   "source": [
    "a_date_time_offset = DateTimeOffset.UtcNow\n",
    "a_date_time_offset = net_range_start\n",
    "a_date_time_offset"
   ],
   "metadata": {
    "collapsed": false
   }
  },
  {
   "cell_type": "code",
   "execution_count": null,
   "outputs": [],
   "source": [
    "dir(net_range_start)"
   ],
   "metadata": {
    "collapsed": false
   }
  },
  {
   "cell_type": "code",
   "execution_count": null,
   "outputs": [],
   "source": [
    "type(date_time_offset_range)"
   ],
   "metadata": {
    "collapsed": false
   }
  },
  {
   "cell_type": "code",
   "execution_count": null,
   "outputs": [],
   "source": [
    "dir(date_time_offset_range)"
   ],
   "metadata": {
    "collapsed": false
   }
  },
  {
   "cell_type": "code",
   "execution_count": null,
   "outputs": [],
   "source": [
    "net_range_start.GetType().GetElementType()"
   ],
   "metadata": {
    "collapsed": false
   }
  },
  {
   "cell_type": "code",
   "execution_count": null,
   "outputs": [],
   "source": [
    "net_range_start.GetType().GetInterface('DateTimeOffset')"
   ],
   "metadata": {
    "collapsed": false
   }
  },
  {
   "cell_type": "code",
   "execution_count": null,
   "outputs": [],
   "source": [
    "try:\n",
    "    DateTimeOffset.GetType().IsInstanceOfType(net_range_start)\n",
    "except TypeError as te:\n",
    "    print(f'TypeError: {te}')"
   ],
   "metadata": {
    "collapsed": false
   }
  },
  {
   "cell_type": "code",
   "execution_count": null,
   "outputs": [],
   "source": [
    "a_date_time_offset.GetType().IsInstanceOfType(net_range_start)"
   ],
   "metadata": {
    "collapsed": false
   }
  },
  {
   "cell_type": "code",
   "execution_count": null,
   "outputs": [],
   "source": [
    "net_range_start.GetType().BaseType.FullName"
   ],
   "metadata": {
    "collapsed": false
   }
  },
  {
   "cell_type": "markdown",
   "source": [
    "I have not been able to determine a mechanism to convert or cast the type of\n",
    "`IDateTimeOffsetRange.Start` (and `IDateTimeOffsetRange.Stop`) from\n",
    "`IComparable` \"down\" to the concrete type. Consequently, I will use the\n",
    "work around of simply invoking `Object.ToString()` and comparing."
   ],
   "metadata": {
    "collapsed": false
   }
  },
  {
   "cell_type": "code",
   "execution_count": null,
   "outputs": [],
   "source": [
    "date_time_offset_range.Start.ToString(), date_time_offset_range.Stop.ToString()"
   ],
   "metadata": {
    "collapsed": false
   }
  },
  {
   "cell_type": "code",
   "execution_count": null,
   "outputs": [],
   "source": [],
   "metadata": {
    "collapsed": false
   }
  }
 ],
 "metadata": {
  "kernelspec": {
   "display_name": "Python 3 (ipykernel)",
   "language": "python",
   "name": "python3"
  },
  "language_info": {
   "codemirror_mode": {
    "name": "ipython",
    "version": 3
   },
   "file_extension": ".py",
   "mimetype": "text/x-python",
   "name": "python",
   "nbconvert_exporter": "python",
   "pygments_lexer": "ipython3",
   "version": "3.8.10"
  }
 },
 "nbformat": 4,
 "nbformat_minor": 5
}
