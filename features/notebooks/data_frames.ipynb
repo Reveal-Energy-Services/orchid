{
 "cells": [
  {
   "cell_type": "code",
   "execution_count": null,
   "metadata": {
    "collapsed": false,
    "jupyter": {
     "outputs_hidden": false
    },
    "pycharm": {
     "name": "#%%\n"
    }
   },
   "outputs": [],
   "source": [
    "import pathlib\n",
    "import random"
   ]
  },
  {
   "cell_type": "code",
   "execution_count": null,
   "metadata": {
    "collapsed": false,
    "jupyter": {
     "outputs_hidden": false
    },
    "pycharm": {
     "name": "#%%\n"
    }
   },
   "outputs": [],
   "source": [
    "import numpy as np\n",
    "import matplotlib.pyplot as plt\n",
    "import pandas as pd\n",
    "import seaborn as sns"
   ]
  },
  {
   "cell_type": "code",
   "execution_count": null,
   "metadata": {
    "collapsed": false,
    "jupyter": {
     "outputs_hidden": false
    },
    "pycharm": {
     "name": "#%%\n"
    }
   },
   "outputs": [],
   "source": [
    "from orchid import (project_loader as opl)"
   ]
  },
  {
   "cell_type": "code",
   "execution_count": null,
   "metadata": {
    "collapsed": false,
    "jupyter": {
     "outputs_hidden": false
    },
    "pycharm": {
     "name": "#%%\n"
    }
   },
   "outputs": [],
   "source": [
    "import option\n",
    "import toolz.curried as toolz"
   ]
  },
  {
   "cell_type": "code",
   "execution_count": null,
   "metadata": {
    "collapsed": false,
    "jupyter": {
     "outputs_hidden": false
    },
    "pycharm": {
     "name": "#%%\n"
    }
   },
   "outputs": [],
   "source": [
    "# noinspection PyUnresolvedReferences\n",
    "from System import DBNull\n",
    "# noinspection PyUnresolvedReferences\n",
    "import UnitsNet"
   ]
  },
  {
   "cell_type": "code",
   "execution_count": null,
   "metadata": {
    "collapsed": false,
    "jupyter": {
     "outputs_hidden": false
    },
    "pycharm": {
     "name": "#%%\n"
    }
   },
   "outputs": [],
   "source": [
    "project_filenames = {\n",
    "    'permian-a': 'Project-frankNstein_Permian_UTM13FT_0412_PjtDataFrame.ifrac',\n",
    "    'gng': 'GnG_DemoProject_wDataFrames.ifrac',\n",
    "}"
   ]
  },
  {
   "cell_type": "code",
   "execution_count": null,
   "metadata": {
    "collapsed": false,
    "jupyter": {
     "outputs_hidden": false
    },
    "pycharm": {
     "name": "#%%\n"
    }
   },
   "outputs": [],
   "source": [
    "test_data_path = pathlib.Path('c:/src/Orchid.IntegrationTestData/')\n",
    "project_path_names = toolz.valmap(lambda fn: test_data_path.joinpath(fn), project_filenames)\n",
    "project_path_names"
   ]
  },
  {
   "cell_type": "code",
   "execution_count": null,
   "metadata": {
    "collapsed": false,
    "jupyter": {
     "outputs_hidden": false
    },
    "pycharm": {
     "name": "#%%\n"
    }
   },
   "outputs": [],
   "source": [
    "projects = toolz.valmap(\n",
    "    lambda pn: opl.ProjectLoader(str(pn)).native_project(),\n",
    "    project_path_names)\n",
    "projects"
   ]
  },
  {
   "cell_type": "code",
   "execution_count": null,
   "metadata": {
    "collapsed": false,
    "jupyter": {
     "outputs_hidden": false
    },
    "pycharm": {
     "name": "#%%\n"
    }
   },
   "outputs": [],
   "source": [
    "def make_project_data_frames_by_id(project):\n",
    "    return {df.ObjectId: df for df in project.DataFrames.Items}\n",
    "\n",
    "project_net_data_frames_by_id = toolz.pipe(\n",
    "    projects,\n",
    "    toolz.valmap(make_project_data_frames_by_id),\n",
    ")\n",
    "project_net_data_frames_by_id"
   ]
  },
  {
   "cell_type": "code",
   "execution_count": null,
   "metadata": {
    "collapsed": false,
    "jupyter": {
     "outputs_hidden": false
    },
    "pycharm": {
     "name": "#%%\n"
    }
   },
   "outputs": [],
   "source": [
    "def make_project_data_frames_by_name(project):\n",
    "    return {df.Name: df for df in project.DataFrames.Items}\n",
    "\n",
    "project_net_data_frames_by_name = toolz.pipe(\n",
    "    projects,\n",
    "    toolz.valmap(make_project_data_frames_by_name),\n",
    ")\n",
    "project_net_data_frames_by_name"
   ]
  },
  {
   "cell_type": "code",
   "execution_count": null,
   "metadata": {
    "collapsed": false,
    "jupyter": {
     "outputs_hidden": false
    },
    "pycharm": {
     "name": "#%%\n"
    }
   },
   "outputs": [],
   "source": [
    "len(list(toolz.get('permian-a', project_net_data_frames_by_name)))"
   ]
  },
  {
   "cell_type": "code",
   "execution_count": null,
   "metadata": {
    "collapsed": false,
    "jupyter": {
     "outputs_hidden": false
    },
    "pycharm": {
     "name": "#%%\n"
    }
   },
   "outputs": [],
   "source": [
    "len(list(toolz.get('gng', project_net_data_frames_by_name)))"
   ]
  },
  {
   "cell_type": "code",
   "execution_count": null,
   "metadata": {
    "collapsed": false,
    "jupyter": {
     "outputs_hidden": false
    },
    "pycharm": {
     "name": "#%%\n"
    }
   },
   "outputs": [],
   "source": [
    "def extract_net_data_frame_identities(df):\n",
    "    return {\n",
    "        'object_id': str(df.ObjectId),\n",
    "        'name': df.Name,\n",
    "        'display_name': df.DisplayName,\n",
    "    }\n",
    "\n",
    "@toolz.curry\n",
    "def build_net_data_frame_identities(ndfs):\n",
    "    return toolz.map(extract_net_data_frame_identities, ndfs)\n",
    "    \n",
    "net_data_frame_identities = toolz.pipe(\n",
    "    project_net_data_frames_by_name,\n",
    "    toolz.valmap(lambda dfs_by_name: dfs_by_name.values()),\n",
    "    toolz.valmap(build_net_data_frame_identities),\n",
    "    toolz.valmap(list),\n",
    ")\n",
    "net_data_frame_identities"
   ]
  },
  {
   "cell_type": "code",
   "execution_count": null,
   "metadata": {
    "collapsed": false,
    "jupyter": {
     "outputs_hidden": false
    },
    "pycharm": {
     "name": "#%%\n"
    }
   },
   "outputs": [],
   "source": [
    "def make_data_frame_identities_summary(item):\n",
    "    project_name, ndf_id_sums = item\n",
    "    summaries = toolz.pipe(\n",
    "        ndf_id_sums,\n",
    "        toolz.map(lambda ndf_id_sum: toolz.merge(ndf_id_sum, {'project': project_name})),\n",
    "    )\n",
    "    return project_name, summaries\n",
    "\n",
    "data_frame_identities_summary = toolz.itemmap(make_data_frame_identities_summary, net_data_frame_identities)\n",
    "data_frame_identities_summary"
   ]
  },
  {
   "cell_type": "code",
   "execution_count": null,
   "metadata": {
    "collapsed": false,
    "jupyter": {
     "outputs_hidden": false
    },
    "pycharm": {
     "name": "#%%\n"
    }
   },
   "outputs": [],
   "source": [
    "pd.DataFrame(data=data_frame_identities_summary['permian-a'], \n",
    "             columns=['project', 'object_id', 'name', 'display_name'])"
   ]
  },
  {
   "cell_type": "code",
   "execution_count": null,
   "metadata": {
    "collapsed": false,
    "jupyter": {
     "outputs_hidden": false
    },
    "pycharm": {
     "name": "#%%\n"
    }
   },
   "outputs": [],
   "source": [
    "pd.DataFrame(data=data_frame_identities_summary['gng'], \n",
    "             columns=['project', 'object_id', 'name', 'display_name'])"
   ]
  },
  {
   "cell_type": "code",
   "execution_count": null,
   "metadata": {
    "collapsed": false,
    "jupyter": {
     "outputs_hidden": false
    },
    "pycharm": {
     "name": "#%%\n"
    }
   },
   "outputs": [],
   "source": [
    "permian_project_01 = toolz.get_in(['permian-a', 'Project Data Frame 01'], project_net_data_frames_by_name)"
   ]
  },
  {
   "cell_type": "code",
   "execution_count": null,
   "metadata": {
    "collapsed": false,
    "jupyter": {
     "outputs_hidden": false
    },
    "pycharm": {
     "name": "#%%\n"
    }
   },
   "outputs": [],
   "source": [
    "option.maybe(permian_project_01.DisplayName).unwrap_or('Fooey')"
   ]
  },
  {
   "cell_type": "code",
   "execution_count": null,
   "metadata": {
    "collapsed": false,
    "jupyter": {
     "outputs_hidden": false
    },
    "pycharm": {
     "name": "#%%\n"
    }
   },
   "outputs": [],
   "source": [
    "# Adapted from code at\n",
    "# https://docs.microsoft.com/en-us/dotnet/framework/data/adonet/dataset-datatable-dataview/creating-a-datareader\n",
    "# retrieved on 18-Apr-2021.\n",
    "\n",
    "def table_row_to_dict(reader):\n",
    "    def map_db_null_value(raw_value):\n",
    "        return raw_value if raw_value != DBNull.Value else None\n",
    "\n",
    "    seed = {'Sample': None}\n",
    "    table_result = {reader.GetName(i): map_db_null_value(reader[reader.GetName(i)])\n",
    "                    for i in range(reader.FieldCount)}\n",
    "    result = toolz.merge(seed, table_result)\n",
    "    return result\n",
    "\n",
    "def read_data_table(data_table):\n",
    "    reader = data_table.CreateDataReader()\n",
    "    try:\n",
    "        while True:\n",
    "            if reader.HasRows:\n",
    "                has_row = reader.Read()\n",
    "                while has_row:\n",
    "                    yield table_row_to_dict(reader)\n",
    "                    has_row = reader.Read()\n",
    "            else:\n",
    "                return\n",
    "            if not reader.NextResult():\n",
    "                break\n",
    "    finally:\n",
    "        reader.Dispose()\n",
    "\n",
    "def table_to_data_frame(data_table):\n",
    "    return pd.DataFrame(data=[r for r in read_data_table(data_table)])"
   ]
  },
  {
   "cell_type": "code",
   "execution_count": null,
   "metadata": {
    "collapsed": false,
    "jupyter": {
     "outputs_hidden": false
    },
    "pycharm": {
     "name": "#%%\n"
    }
   },
   "outputs": [],
   "source": [
    "net_data_frame_to_pandas_data_frame = toolz.compose(table_to_data_frame,\n",
    "                                                    lambda net_df: net_df.DataTable)\n",
    "\n",
    "project_pandas_data_frames_by_name = toolz.pipe(\n",
    "    project_net_data_frames_by_name,\n",
    "    toolz.valmap(toolz.valmap(net_data_frame_to_pandas_data_frame)),\n",
    ")"
   ]
  },
  {
   "cell_type": "code",
   "execution_count": null,
   "metadata": {
    "collapsed": false,
    "jupyter": {
     "outputs_hidden": false
    },
    "pycharm": {
     "name": "#%%\n"
    }
   },
   "outputs": [],
   "source": [
    "# toolz.get_in(['permian-a', 'FDI Observations'], project_pandas_data_frames_by_name)"
   ]
  },
  {
   "cell_type": "code",
   "execution_count": null,
   "metadata": {
    "collapsed": false,
    "jupyter": {
     "outputs_hidden": false
    },
    "pycharm": {
     "name": "#%%\n"
    }
   },
   "outputs": [],
   "source": [
    "all_indices = toolz.compose(list, range, len)\n",
    "\n",
    "@toolz.curry\n",
    "def sample_data_frame_column_indices(data_frame):\n",
    "    # Ignore the seeded `Sample` column and the `ProjectName` column\n",
    "    candidate_column_indices = all_indices(data_frame.columns)[2:]\n",
    "    random.shuffle(candidate_column_indices)\n",
    "    # Randomly sample six columns in addition to the 'Sample' column\n",
    "    result = [0] + sorted(candidate_column_indices[:6])\n",
    "    return result\n",
    "\n",
    "@toolz.curry\n",
    "def sample_data_frame_row_indices(data_frame):\n",
    "    candidate_row_indices = all_indices(data_frame)[1:-1]\n",
    "    random.shuffle(candidate_row_indices)\n",
    "    result = [0] + sorted(candidate_row_indices[:6]) + [len(data_frame) - 1]\n",
    "    return result"
   ]
  },
  {
   "cell_type": "code",
   "execution_count": null,
   "metadata": {
    "collapsed": false,
    "jupyter": {
     "outputs_hidden": false
    },
    "pycharm": {
     "name": "#%%\n"
    }
   },
   "outputs": [],
   "source": [
    "@toolz.curry\n",
    "def sample_data_frame_indices(indices_func, data_frame):\n",
    "    return indices_func(data_frame)"
   ]
  },
  {
   "cell_type": "code",
   "execution_count": null,
   "metadata": {
    "collapsed": false,
    "jupyter": {
     "outputs_hidden": false
    },
    "pycharm": {
     "name": "#%%\n"
    }
   },
   "outputs": [],
   "source": [
    "sampled_column_indices_by_name = toolz.valmap(toolz.valmap(sample_data_frame_column_indices),\n",
    "                                              project_pandas_data_frames_by_name)\n",
    "sampled_column_indices_by_name"
   ]
  },
  {
   "cell_type": "code",
   "execution_count": null,
   "metadata": {
    "collapsed": false,
    "jupyter": {
     "outputs_hidden": false
    },
    "pycharm": {
     "name": "#%%\n"
    }
   },
   "outputs": [],
   "source": [
    "sampled_row_indices_by_name = toolz.valmap(toolz.valmap(sample_data_frame_row_indices),\n",
    "                                           project_pandas_data_frames_by_name)\n",
    "sampled_row_indices_by_name"
   ]
  },
  {
   "cell_type": "code",
   "execution_count": null,
   "metadata": {
    "collapsed": false,
    "jupyter": {
     "outputs_hidden": false
    },
    "pycharm": {
     "name": "#%%\n"
    }
   },
   "outputs": [],
   "source": [
    "def add_sample_numbers(items):\n",
    "    data_frame, row_indices, column_indices = items\n",
    "    sample_index = (list(data_frame.columns.values)).index('Sample')\n",
    "    for row_index in row_indices:\n",
    "        data_frame.iloc[row_index, [sample_index]] = row_index\n",
    "    return data_frame, row_indices, column_indices\n",
    "\n",
    "data_frames_to_sample_by_name = toolz.merge_with(toolz.merge_with(add_sample_numbers),\n",
    "                                                 project_pandas_data_frames_by_name,\n",
    "                                                 sampled_row_indices_by_name,\n",
    "                                                 sampled_column_indices_by_name)\n",
    "# data_frames_to_sample_by_name"
   ]
  },
  {
   "cell_type": "code",
   "execution_count": null,
   "metadata": {
    "collapsed": false,
    "jupyter": {
     "outputs_hidden": false
    },
    "pycharm": {
     "name": "#%%\n"
    }
   },
   "outputs": [],
   "source": [
    "def sample_data_frame(data_frame, row_indices, column_indices):\n",
    "    result = data_frame.iloc[row_indices, column_indices]\n",
    "    return result"
   ]
  },
  {
   "cell_type": "code",
   "execution_count": null,
   "metadata": {
    "collapsed": false,
    "jupyter": {
     "outputs_hidden": false
    },
    "pycharm": {
     "name": "#%%\n"
    }
   },
   "outputs": [],
   "source": [
    "sampled_project_data_frames_by_name = toolz.valmap(toolz.valmap(lambda e: sample_data_frame(*e)),\n",
    "                                                   data_frames_to_sample_by_name)\n",
    "# sampled_project_data_frames_by_name"
   ]
  },
  {
   "cell_type": "code",
   "execution_count": null,
   "metadata": {
    "collapsed": false,
    "jupyter": {
     "outputs_hidden": false
    },
    "pycharm": {
     "name": "#%%\n"
    }
   },
   "outputs": [],
   "source": [
    "sampled_project_data_frames_by_name['permian-a']['Project Data Frame 01']"
   ]
  },
  {
   "cell_type": "code",
   "execution_count": null,
   "metadata": {
    "collapsed": false,
    "jupyter": {
     "outputs_hidden": false
    },
    "pycharm": {
     "name": "#%%\n"
    }
   },
   "outputs": [],
   "source": [
    "sampled_project_data_frames_by_name['permian-a']['FDI Observations']"
   ]
  },
  {
   "cell_type": "code",
   "execution_count": null,
   "metadata": {
    "collapsed": false,
    "jupyter": {
     "outputs_hidden": false
    },
    "pycharm": {
     "name": "#%%\n"
    }
   },
   "outputs": [],
   "source": [
    "sampled_project_data_frames_by_name['permian-a']['C3-Microseismic Data Frame 01']"
   ]
  },
  {
   "cell_type": "code",
   "execution_count": null,
   "metadata": {
    "collapsed": false,
    "jupyter": {
     "outputs_hidden": false
    },
    "pycharm": {
     "name": "#%%\n"
    }
   },
   "outputs": [],
   "source": [
    "sampled_project_data_frames_by_name['gng']['Project Data Frame 01']"
   ]
  },
  {
   "cell_type": "code",
   "execution_count": null,
   "metadata": {
    "collapsed": false,
    "jupyter": {
     "outputs_hidden": false
    },
    "pycharm": {
     "name": "#%%\n"
    }
   },
   "outputs": [],
   "source": [
    "sampled_project_data_frames_by_name['gng']['Fault Trace Set Data Frame 01']"
   ]
  },
  {
   "cell_type": "code",
   "execution_count": null,
   "metadata": {
    "collapsed": false,
    "jupyter": {
     "outputs_hidden": false
    },
    "pycharm": {
     "name": "#%%\n"
    }
   },
   "outputs": [],
   "source": [
    "sampled_project_data_frames_by_name['gng']['Stage Data Frame 01']"
   ]
  },
  {
   "cell_type": "code",
   "execution_count": null,
   "metadata": {
    "collapsed": false,
    "jupyter": {
     "outputs_hidden": false
    },
    "pycharm": {
     "name": "#%%\n"
    }
   },
   "outputs": [],
   "source": [
    "sampled_project_data_frames_by_name['gng']['Well Log Set Data Frame 01']"
   ]
  },
  {
   "cell_type": "code",
   "execution_count": null,
   "metadata": {
    "collapsed": false,
    "jupyter": {
     "outputs_hidden": false
    },
    "pycharm": {
     "name": "#%%\n"
    }
   },
   "outputs": [],
   "source": [
    "sampled_project_data_frames_by_name['gng']['Horizon Marker Set Data Frame01']"
   ]
  },
  {
   "cell_type": "code",
   "execution_count": null,
   "metadata": {
    "collapsed": false,
    "jupyter": {
     "outputs_hidden": false
    },
    "pycharm": {
     "name": "#%%\n"
    }
   },
   "outputs": [],
   "source": []
  }
 ],
 "metadata": {
  "kernelspec": {
   "display_name": "Python 3",
   "language": "python",
   "name": "python3"
  },
  "language_info": {
   "codemirror_mode": {
    "name": "ipython",
    "version": 3
   },
   "file_extension": ".py",
   "mimetype": "text/x-python",
   "name": "python",
   "nbconvert_exporter": "python",
   "pygments_lexer": "ipython3",
   "version": "3.8.7"
  }
 },
 "nbformat": 4,
 "nbformat_minor": 4
}