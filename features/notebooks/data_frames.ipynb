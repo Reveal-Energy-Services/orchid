{
 "cells": [
  {
   "cell_type": "code",
   "execution_count": 1,
   "metadata": {
    "collapsed": false,
    "jupyter": {
     "outputs_hidden": false
    },
    "pycharm": {
     "name": "#%%\n"
    }
   },
   "outputs": [],
   "source": [
    "import pathlib"
   ]
  },
  {
   "cell_type": "code",
   "execution_count": 2,
   "metadata": {
    "collapsed": false,
    "jupyter": {
     "outputs_hidden": false
    },
    "pycharm": {
     "name": "#%%\n"
    }
   },
   "outputs": [],
   "source": [
    "import numpy as np\n",
    "import matplotlib.pyplot as plt\n",
    "import pandas as pd\n",
    "import seaborn as sns"
   ]
  },
  {
   "cell_type": "code",
   "execution_count": 3,
   "metadata": {
    "collapsed": false,
    "jupyter": {
     "outputs_hidden": false
    },
    "pycharm": {
     "name": "#%%\n"
    }
   },
   "outputs": [],
   "source": [
    "from orchid import (project_loader as opl)"
   ]
  },
  {
   "cell_type": "code",
   "execution_count": 4,
   "metadata": {
    "collapsed": false,
    "jupyter": {
     "outputs_hidden": false
    },
    "pycharm": {
     "name": "#%%\n"
    }
   },
   "outputs": [],
   "source": [
    "import toolz.curried as toolz"
   ]
  },
  {
   "cell_type": "code",
   "execution_count": 5,
   "metadata": {
    "collapsed": false,
    "jupyter": {
     "outputs_hidden": false
    },
    "pycharm": {
     "name": "#%%\n"
    }
   },
   "outputs": [],
   "source": [
    "# noinspection PyUnresolvedReferences\n",
    "import UnitsNet"
   ]
  },
  {
   "cell_type": "code",
   "execution_count": 6,
   "metadata": {
    "collapsed": false,
    "jupyter": {
     "outputs_hidden": false
    },
    "pycharm": {
     "name": "#%%\n"
    }
   },
   "outputs": [],
   "source": [
    "project_filenames = {\n",
    "    'permian-a': 'Project-frankNstein_Permian_UTM13FT_0412_PjtDataFrame.ifrac',\n",
    "    'gng': 'GnG_DemoProject_wDataFrames.ifrac',\n",
    "}"
   ]
  },
  {
   "cell_type": "code",
   "execution_count": 7,
   "metadata": {
    "collapsed": false,
    "jupyter": {
     "outputs_hidden": false
    },
    "pycharm": {
     "name": "#%%\n"
    }
   },
   "outputs": [
    {
     "data": {
      "text/plain": [
       "{'permian-a': WindowsPath('c:/src/Orchid.IntegrationTestData/Project-frankNstein_Permian_UTM13FT_0412_PjtDataFrame.ifrac'),\n",
       " 'gng': WindowsPath('c:/src/Orchid.IntegrationTestData/GnG_DemoProject_wDataFrames.ifrac')}"
      ]
     },
     "execution_count": 7,
     "metadata": {},
     "output_type": "execute_result"
    }
   ],
   "source": [
    "test_data_path = pathlib.Path('c:/src/Orchid.IntegrationTestData/')\n",
    "project_path_names = toolz.valmap(lambda fn: test_data_path.joinpath(fn), project_filenames)\n",
    "project_path_names"
   ]
  },
  {
   "cell_type": "code",
   "execution_count": 8,
   "metadata": {
    "collapsed": false,
    "jupyter": {
     "outputs_hidden": false
    },
    "pycharm": {
     "name": "#%%\n"
    }
   },
   "outputs": [
    {
     "data": {
      "text/plain": [
       "{'permian-a': <Orchid.FractureDiagnostics.Factories.Implementations.Project object at 0x000001EDA1067820>,\n",
       " 'gng': <Orchid.FractureDiagnostics.Factories.Implementations.Project object at 0x000001EDA1067880>}"
      ]
     },
     "execution_count": 8,
     "metadata": {},
     "output_type": "execute_result"
    }
   ],
   "source": [
    "projects = toolz.valmap(\n",
    "    lambda pn: opl.ProjectLoader(str(pn)).native_project(),\n",
    "    project_path_names)\n",
    "projects"
   ]
  },
  {
   "cell_type": "code",
   "execution_count": 9,
   "metadata": {
    "collapsed": false,
    "jupyter": {
     "outputs_hidden": false
    },
    "pycharm": {
     "name": "#%%\n"
    }
   },
   "outputs": [
    {
     "data": {
      "text/plain": [
       "{'permian-a': {<System.Guid object at 0x000001EDA1067F40>: <Orchid.FractureDiagnostics.Factories.DataFrames.ProjectDataFrame object at 0x000001EDA1067DF0>,\n",
       "  <System.Guid object at 0x000001EDA106D1C0>: <Orchid.FractureDiagnostics.Factories.DataFrames.ObservationSetDataFrame object at 0x000001EDA106D190>,\n",
       "  <System.Guid object at 0x000001EDA106D3D0>: <Orchid.FractureDiagnostics.Factories.DataFrames.MicroseismicDataFrame object at 0x000001EDA106D3A0>},\n",
       " 'gng': {<System.Guid object at 0x000001EDA106D460>: <Orchid.FractureDiagnostics.Factories.DataFrames.ProjectDataFrame object at 0x000001EDA106D400>,\n",
       "  <System.Guid object at 0x000001EDA106D6A0>: <Orchid.FractureDiagnostics.Factories.DataFrames.FaultTraceSetDataFrame object at 0x000001EDA106D670>,\n",
       "  <System.Guid object at 0x000001EDA106D8E0>: <Orchid.FractureDiagnostics.Factories.DataFrames.StageDataFrame object at 0x000001EDA106D8B0>,\n",
       "  <System.Guid object at 0x000001EDA106DB20>: <Orchid.FractureDiagnostics.Factories.DataFrames.WellLogSetDataFrame object at 0x000001EDA106DAF0>,\n",
       "  <System.Guid object at 0x000001EDA106DEB0>: <Orchid.FractureDiagnostics.Factories.DataFrames.HorizonIntersectionsDataFrame object at 0x000001EDA106DE80>}}"
      ]
     },
     "execution_count": 9,
     "metadata": {},
     "output_type": "execute_result"
    }
   ],
   "source": [
    "def make_project_data_frames_by_id(project):\n",
    "    return {df.ObjectId: df for df in project.DataFrames.Items}\n",
    "\n",
    "project_net_data_frames_by_id = toolz.pipe(\n",
    "    projects,\n",
    "    toolz.valmap(make_project_data_frames_by_id),\n",
    ")\n",
    "project_net_data_frames_by_id"
   ]
  },
  {
   "cell_type": "code",
   "execution_count": 10,
   "metadata": {},
   "outputs": [
    {
     "data": {
      "text/plain": [
       "{'permian-a': {'Project Data Frame 01': <Orchid.FractureDiagnostics.Factories.DataFrames.ProjectDataFrame object at 0x000001EDA104DA60>,\n",
       "  'FDI Observations': <Orchid.FractureDiagnostics.Factories.DataFrames.ObservationSetDataFrame object at 0x000001EDA1072070>,\n",
       "  'C3-Microseismic Data Frame 01': <Orchid.FractureDiagnostics.Factories.DataFrames.MicroseismicDataFrame object at 0x000001EDA10720A0>},\n",
       " 'gng': {'Project Data Frame 01': <Orchid.FractureDiagnostics.Factories.DataFrames.ProjectDataFrame object at 0x000001EDA10720D0>,\n",
       "  'Fault Trace Set Data Frame 01': <Orchid.FractureDiagnostics.Factories.DataFrames.FaultTraceSetDataFrame object at 0x000001EDA1072100>,\n",
       "  'Stage Data Frame 01': <Orchid.FractureDiagnostics.Factories.DataFrames.StageDataFrame object at 0x000001EDA1072130>,\n",
       "  'Well Log Set Data Frame 01': <Orchid.FractureDiagnostics.Factories.DataFrames.WellLogSetDataFrame object at 0x000001EDA1072190>,\n",
       "  'Horizon Marker Set Data Frame01': <Orchid.FractureDiagnostics.Factories.DataFrames.HorizonIntersectionsDataFrame object at 0x000001EDA10721C0>}}"
      ]
     },
     "execution_count": 10,
     "metadata": {},
     "output_type": "execute_result"
    }
   ],
   "source": [
    "def make_project_data_frames_by_name(project):\n",
    "    return {df.Name: df for df in project.DataFrames.Items}\n",
    "\n",
    "project_net_data_frames_by_name = toolz.pipe(\n",
    "    projects,\n",
    "    toolz.valmap(make_project_data_frames_by_name),\n",
    ")\n",
    "project_net_data_frames_by_name"
   ]
  },
  {
   "cell_type": "code",
   "execution_count": 11,
   "metadata": {},
   "outputs": [
    {
     "data": {
      "text/plain": [
       "3"
      ]
     },
     "execution_count": 11,
     "metadata": {},
     "output_type": "execute_result"
    }
   ],
   "source": [
    "len(list(toolz.get('permian-a', project_net_data_frames_by_name)))"
   ]
  },
  {
   "cell_type": "code",
   "execution_count": 12,
   "metadata": {},
   "outputs": [
    {
     "data": {
      "text/plain": [
       "5"
      ]
     },
     "execution_count": 12,
     "metadata": {},
     "output_type": "execute_result"
    }
   ],
   "source": [
    "len(list(toolz.get('gng', project_net_data_frames_by_name)))"
   ]
  },
  {
   "cell_type": "code",
   "execution_count": 98,
   "metadata": {},
   "outputs": [
    {
     "data": {
      "text/plain": [
       "{'permian-a': [{'object_id': '0d2ec4b2-5766-461a-b57d-cc711576f46f',\n",
       "   'name': 'Project Data Frame 01',\n",
       "   'display_name': None},\n",
       "  {'object_id': '0339e49a-a534-4d6f-b218-9862eeb73019',\n",
       "   'name': 'FDI Observations',\n",
       "   'display_name': None},\n",
       "  {'object_id': 'a48e71d9-50ce-49c4-bde2-c1915cb87bd4',\n",
       "   'name': 'C3-Microseismic Data Frame 01',\n",
       "   'display_name': None}],\n",
       " 'gng': [{'object_id': '9acfc88f-44f3-4f23-ac78-6ca94bae2d84',\n",
       "   'name': 'Project Data Frame 01',\n",
       "   'display_name': None},\n",
       "  {'object_id': 'db5dc0c7-9132-4270-9bff-2bbf32ed93e3',\n",
       "   'name': 'Fault Trace Set Data Frame 01',\n",
       "   'display_name': None},\n",
       "  {'object_id': 'e16f00ad-4c42-4726-8996-22a4632beaa9',\n",
       "   'name': 'Stage Data Frame 01',\n",
       "   'display_name': None},\n",
       "  {'object_id': 'a287e63d-fd15-48e8-b5fc-99eb57244f18',\n",
       "   'name': 'Well Log Set Data Frame 01',\n",
       "   'display_name': None},\n",
       "  {'object_id': '1cef6417-acb4-478c-b270-ca7022fc6003',\n",
       "   'name': 'Horizon Marker Set Data Frame01',\n",
       "   'display_name': None}]}"
      ]
     },
     "execution_count": 98,
     "metadata": {},
     "output_type": "execute_result"
    }
   ],
   "source": [
    "def extract_net_data_frame_identities(df):\n",
    "    return {\n",
    "        'object_id': str(df.ObjectId),\n",
    "        'name': df.Name,\n",
    "        'display_name': df.DisplayName,\n",
    "    }\n",
    "\n",
    "@toolz.curry\n",
    "def build_net_data_frame_identities(ndfs):\n",
    "    return toolz.map(extract_net_data_frame_identities, ndfs)\n",
    "    \n",
    "net_data_frame_identities = toolz.pipe(\n",
    "    project_net_data_frames_by_name,\n",
    "    toolz.valmap(lambda dfs_by_name: dfs_by_name.values()),\n",
    "    toolz.valmap(build_net_data_frame_identities),\n",
    "    toolz.valmap(list),\n",
    ")\n",
    "net_data_frame_identities"
   ]
  },
  {
   "cell_type": "code",
   "execution_count": 128,
   "metadata": {},
   "outputs": [
    {
     "data": {
      "text/plain": [
       "{'permian-a': <map at 0x1ed9f464d90>, 'gng': <map at 0x1ed9f457a90>}"
      ]
     },
     "execution_count": 128,
     "metadata": {},
     "output_type": "execute_result"
    }
   ],
   "source": [
    "def make_data_frame_identities_summary(item):\n",
    "    project_name, ndf_id_sums = item\n",
    "    summaries = toolz.pipe(\n",
    "        ndf_id_sums,\n",
    "        toolz.map(lambda ndf_id_sum: toolz.merge(ndf_id_sum, {'project': project_name})),\n",
    "    )\n",
    "    return project_name, summaries\n",
    "\n",
    "data_frame_identities_summary = toolz.itemmap(make_data_frame_identities_summary, net_data_frame_identities)\n",
    "data_frame_identities_summary"
   ]
  },
  {
   "cell_type": "code",
   "execution_count": 129,
   "metadata": {},
   "outputs": [
    {
     "data": {
      "text/html": [
       "<div>\n",
       "<style scoped>\n",
       "    .dataframe tbody tr th:only-of-type {\n",
       "        vertical-align: middle;\n",
       "    }\n",
       "\n",
       "    .dataframe tbody tr th {\n",
       "        vertical-align: top;\n",
       "    }\n",
       "\n",
       "    .dataframe thead th {\n",
       "        text-align: right;\n",
       "    }\n",
       "</style>\n",
       "<table border=\"1\" class=\"dataframe\">\n",
       "  <thead>\n",
       "    <tr style=\"text-align: right;\">\n",
       "      <th></th>\n",
       "      <th>object_id</th>\n",
       "      <th>name</th>\n",
       "      <th>display_name</th>\n",
       "      <th>project</th>\n",
       "    </tr>\n",
       "  </thead>\n",
       "  <tbody>\n",
       "    <tr>\n",
       "      <th>0</th>\n",
       "      <td>0d2ec4b2-5766-461a-b57d-cc711576f46f</td>\n",
       "      <td>Project Data Frame 01</td>\n",
       "      <td>None</td>\n",
       "      <td>permian-a</td>\n",
       "    </tr>\n",
       "    <tr>\n",
       "      <th>1</th>\n",
       "      <td>0339e49a-a534-4d6f-b218-9862eeb73019</td>\n",
       "      <td>FDI Observations</td>\n",
       "      <td>None</td>\n",
       "      <td>permian-a</td>\n",
       "    </tr>\n",
       "    <tr>\n",
       "      <th>2</th>\n",
       "      <td>a48e71d9-50ce-49c4-bde2-c1915cb87bd4</td>\n",
       "      <td>C3-Microseismic Data Frame 01</td>\n",
       "      <td>None</td>\n",
       "      <td>permian-a</td>\n",
       "    </tr>\n",
       "  </tbody>\n",
       "</table>\n",
       "</div>"
      ],
      "text/plain": [
       "                              object_id                           name  \\\n",
       "0  0d2ec4b2-5766-461a-b57d-cc711576f46f          Project Data Frame 01   \n",
       "1  0339e49a-a534-4d6f-b218-9862eeb73019               FDI Observations   \n",
       "2  a48e71d9-50ce-49c4-bde2-c1915cb87bd4  C3-Microseismic Data Frame 01   \n",
       "\n",
       "  display_name    project  \n",
       "0         None  permian-a  \n",
       "1         None  permian-a  \n",
       "2         None  permian-a  "
      ]
     },
     "execution_count": 129,
     "metadata": {},
     "output_type": "execute_result"
    }
   ],
   "source": [
    "pd.DataFrame(data=data_frame_identities_summary['permian-a'])"
   ]
  },
  {
   "cell_type": "code",
   "execution_count": 130,
   "metadata": {},
   "outputs": [
    {
     "data": {
      "text/html": [
       "<div>\n",
       "<style scoped>\n",
       "    .dataframe tbody tr th:only-of-type {\n",
       "        vertical-align: middle;\n",
       "    }\n",
       "\n",
       "    .dataframe tbody tr th {\n",
       "        vertical-align: top;\n",
       "    }\n",
       "\n",
       "    .dataframe thead th {\n",
       "        text-align: right;\n",
       "    }\n",
       "</style>\n",
       "<table border=\"1\" class=\"dataframe\">\n",
       "  <thead>\n",
       "    <tr style=\"text-align: right;\">\n",
       "      <th></th>\n",
       "      <th>object_id</th>\n",
       "      <th>name</th>\n",
       "      <th>display_name</th>\n",
       "      <th>project</th>\n",
       "    </tr>\n",
       "  </thead>\n",
       "  <tbody>\n",
       "    <tr>\n",
       "      <th>0</th>\n",
       "      <td>9acfc88f-44f3-4f23-ac78-6ca94bae2d84</td>\n",
       "      <td>Project Data Frame 01</td>\n",
       "      <td>None</td>\n",
       "      <td>gng</td>\n",
       "    </tr>\n",
       "    <tr>\n",
       "      <th>1</th>\n",
       "      <td>db5dc0c7-9132-4270-9bff-2bbf32ed93e3</td>\n",
       "      <td>Fault Trace Set Data Frame 01</td>\n",
       "      <td>None</td>\n",
       "      <td>gng</td>\n",
       "    </tr>\n",
       "    <tr>\n",
       "      <th>2</th>\n",
       "      <td>e16f00ad-4c42-4726-8996-22a4632beaa9</td>\n",
       "      <td>Stage Data Frame 01</td>\n",
       "      <td>None</td>\n",
       "      <td>gng</td>\n",
       "    </tr>\n",
       "    <tr>\n",
       "      <th>3</th>\n",
       "      <td>a287e63d-fd15-48e8-b5fc-99eb57244f18</td>\n",
       "      <td>Well Log Set Data Frame 01</td>\n",
       "      <td>None</td>\n",
       "      <td>gng</td>\n",
       "    </tr>\n",
       "    <tr>\n",
       "      <th>4</th>\n",
       "      <td>1cef6417-acb4-478c-b270-ca7022fc6003</td>\n",
       "      <td>Horizon Marker Set Data Frame01</td>\n",
       "      <td>None</td>\n",
       "      <td>gng</td>\n",
       "    </tr>\n",
       "  </tbody>\n",
       "</table>\n",
       "</div>"
      ],
      "text/plain": [
       "                              object_id                             name  \\\n",
       "0  9acfc88f-44f3-4f23-ac78-6ca94bae2d84            Project Data Frame 01   \n",
       "1  db5dc0c7-9132-4270-9bff-2bbf32ed93e3    Fault Trace Set Data Frame 01   \n",
       "2  e16f00ad-4c42-4726-8996-22a4632beaa9              Stage Data Frame 01   \n",
       "3  a287e63d-fd15-48e8-b5fc-99eb57244f18       Well Log Set Data Frame 01   \n",
       "4  1cef6417-acb4-478c-b270-ca7022fc6003  Horizon Marker Set Data Frame01   \n",
       "\n",
       "  display_name project  \n",
       "0         None     gng  \n",
       "1         None     gng  \n",
       "2         None     gng  \n",
       "3         None     gng  \n",
       "4         None     gng  "
      ]
     },
     "execution_count": 130,
     "metadata": {},
     "output_type": "execute_result"
    }
   ],
   "source": [
    "pd.DataFrame(data=data_frame_identities_summary['gng'])"
   ]
  },
  {
   "cell_type": "code",
   "execution_count": null,
   "metadata": {},
   "outputs": [],
   "source": []
  }
 ],
 "metadata": {
  "kernelspec": {
   "display_name": "Python 3",
   "language": "python",
   "name": "python3"
  },
  "language_info": {
   "codemirror_mode": {
    "name": "ipython",
    "version": 3
   },
   "file_extension": ".py",
   "mimetype": "text/x-python",
   "name": "python",
   "nbconvert_exporter": "python",
   "pygments_lexer": "ipython3",
   "version": "3.8.7"
  }
 },
 "nbformat": 4,
 "nbformat_minor": 4
}
