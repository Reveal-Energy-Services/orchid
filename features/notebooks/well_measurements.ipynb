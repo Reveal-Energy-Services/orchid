{
 "cells": [
  {
   "cell_type": "code",
   "execution_count": null,
   "metadata": {
    "collapsed": false,
    "jupyter": {
     "outputs_hidden": false
    },
    "pycharm": {
     "name": "#%%\n"
    }
   },
   "outputs": [],
   "source": [
    "from collections import namedtuple\n",
    "import pathlib\n",
    "import random"
   ]
  },
  {
   "cell_type": "code",
   "execution_count": null,
   "metadata": {
    "collapsed": false,
    "jupyter": {
     "outputs_hidden": false
    },
    "pycharm": {
     "name": "#%%\n"
    }
   },
   "outputs": [],
   "source": [
    "import numpy as np\n",
    "import matplotlib.pyplot as plt\n",
    "import pandas as pd\n",
    "import seaborn as sns"
   ]
  },
  {
   "cell_type": "code",
   "execution_count": null,
   "metadata": {
    "collapsed": false,
    "jupyter": {
     "outputs_hidden": false
    },
    "pycharm": {
     "name": "#%%\n"
    }
   },
   "outputs": [],
   "source": [
    "from orchid import (\n",
    "    measurement as om,\n",
    "    net_quantity as onq,\n",
    "    project_loader as opl,\n",
    ")"
   ]
  },
  {
   "cell_type": "code",
   "execution_count": null,
   "metadata": {
    "collapsed": false,
    "jupyter": {
     "outputs_hidden": false
    },
    "pycharm": {
     "name": "#%%\n"
    }
   },
   "outputs": [],
   "source": [
    "import toolz.curried as toolz"
   ]
  },
  {
   "cell_type": "code",
   "execution_count": null,
   "metadata": {
    "collapsed": false,
    "jupyter": {
     "outputs_hidden": false
    },
    "pycharm": {
     "name": "#%%\n"
    }
   },
   "outputs": [],
   "source": [
    "from Orchid.FractureDiagnostics import WellReferenceFrameXy, DepthDatum\n",
    "import UnitsNet\n",
    "from System import Array, Int32"
   ]
  },
  {
   "cell_type": "code",
   "execution_count": null,
   "metadata": {
    "collapsed": false,
    "jupyter": {
     "outputs_hidden": false
    },
    "pycharm": {
     "name": "#%%\n"
    }
   },
   "outputs": [],
   "source": [
    "project_filenames = {\n",
    "    'bakken': 'frankNstein_Bakken_UTM13_FEET.ifrac',\n",
    "    'montney': 'Project-frankNstein_Montney_UTM13_METERS.ifrac',\n",
    "}"
   ]
  },
  {
   "cell_type": "code",
   "execution_count": null,
   "metadata": {
    "collapsed": false,
    "jupyter": {
     "outputs_hidden": false
    },
    "pycharm": {
     "name": "#%%\n"
    }
   },
   "outputs": [],
   "source": [
    "test_data_path = pathlib.Path('c:/src/Orchid.IntegrationTestData/')\n",
    "project_path_names = toolz.valmap(lambda fn: test_data_path.joinpath(fn), project_filenames)\n",
    "project_path_names"
   ]
  },
  {
   "cell_type": "code",
   "execution_count": null,
   "metadata": {
    "collapsed": false,
    "jupyter": {
     "outputs_hidden": false
    },
    "pycharm": {
     "name": "#%%\n"
    }
   },
   "outputs": [],
   "source": [
    "projects = toolz.valmap(\n",
    "    lambda pn: opl.ProjectLoader(str(pn)).native_project(),\n",
    "    project_path_names)\n",
    "projects"
   ]
  },
  {
   "cell_type": "code",
   "execution_count": null,
   "metadata": {
    "collapsed": false,
    "jupyter": {
     "outputs_hidden": false
    },
    "pycharm": {
     "name": "#%%\n"
    }
   },
   "outputs": [],
   "source": [
    "project_units = toolz.valmap(lambda p: p.ProjectUnits, projects)\n",
    "project_units"
   ]
  },
  {
   "cell_type": "code",
   "execution_count": null,
   "metadata": {},
   "outputs": [],
   "source": [
    "@toolz.curry\n",
    "def to_project_unit(unit, nq):\n",
    "    return nq.ToUnit(unit)\n",
    "\n",
    "@toolz.curry\n",
    "def net_quantity_to_tuple(nq):\n",
    "    return nq.Value, nq.Unit"
   ]
  },
  {
   "cell_type": "code",
   "execution_count": null,
   "metadata": {},
   "outputs": [],
   "source": [
    "def get_project_wells(proj):\n",
    "    return proj.Wells.Items\n",
    "\n",
    "def collect_well_names(wells):\n",
    "    return {w.Name: w for w in wells}\n",
    "\n",
    "project_wells = toolz.pipe(\n",
    "    projects,\n",
    "    toolz.valmap(get_project_wells),\n",
    "    toolz.valmap(collect_well_names),\n",
    ")\n",
    "project_wells"
   ]
  },
  {
   "cell_type": "code",
   "execution_count": null,
   "metadata": {},
   "outputs": [],
   "source": [
    "@toolz.curry\n",
    "def summarize_well_measurements(well):\n",
    "    return {'KB above ground': str(well.KellyBushingHeightAboveGroundLevel),\n",
    "            'GL above sea level': str(well.GroundLevelElevationAboveSeaLevel,),}\n",
    "\n",
    "well_measurements = toolz.pipe(project_wells,\n",
    "                               toolz.valmap(toolz.valmap(summarize_well_measurements)))\n",
    "well_measurements"
   ]
  },
  {
   "cell_type": "code",
   "execution_count": null,
   "metadata": {
    "collapsed": false,
    "jupyter": {
     "outputs_hidden": false
    },
    "pycharm": {
     "name": "#%%\n"
    }
   },
   "outputs": [],
   "source": [
    "frames = {\n",
    "    WellReferenceFrameXy.AbsoluteStatePlane: 'Plane',\n",
    "    WellReferenceFrameXy.Project: 'Project',\n",
    "    WellReferenceFrameXy.WellHead: 'Well',\n",
    "}\n",
    "\n",
    "datums = {\n",
    "    DepthDatum.GroundLevel: 'Ground',\n",
    "    DepthDatum.KellyBushing: 'Kelly',\n",
    "    DepthDatum.SeaLevel: 'Sea',\n",
    "}"
   ]
  },
  {
   "cell_type": "code",
   "execution_count": null,
   "metadata": {
    "collapsed": false,
    "jupyter": {
     "outputs_hidden": false
    },
    "pycharm": {
     "name": "#%%\n"
    }
   },
   "outputs": [],
   "source": [
    "frames"
   ]
  },
  {
   "cell_type": "code",
   "execution_count": null,
   "metadata": {
    "collapsed": false,
    "jupyter": {
     "outputs_hidden": false
    },
    "pycharm": {
     "name": "#%%\n"
    }
   },
   "outputs": [],
   "source": [
    "selected_field_name = 'montney'"
   ]
  },
  {
   "cell_type": "code",
   "execution_count": null,
   "metadata": {
    "collapsed": false,
    "jupyter": {
     "outputs_hidden": false
    },
    "pycharm": {
     "name": "#%%\n"
    }
   },
   "outputs": [],
   "source": [
    "# selected_well_name = 'Hori_01'\n",
    "# selected_well_name = 'Hori_02'\n",
    "selected_well_name = 'Hori_03'"
   ]
  },
  {
   "cell_type": "code",
   "execution_count": null,
   "metadata": {
    "collapsed": false,
    "jupyter": {
     "outputs_hidden": false
    },
    "pycharm": {
     "name": "#%%\n"
    }
   },
   "outputs": [],
   "source": [
    "# # Hori_01\n",
    "# selected_frame = WellReferenceFrameXy.AbsoluteStatePlane\n",
    "# selected_datum = DepthDatum.KellyBushing\n",
    "\n",
    "# # Hori_02\n",
    "# selected_frame = WellReferenceFrameXy.WellHead\n",
    "# selected_datum = DepthDatum.GroundLevel\n",
    "\n",
    "# Hori_03\n",
    "selected_frame = WellReferenceFrameXy.Project\n",
    "selected_datum = DepthDatum.SeaLevel"
   ]
  },
  {
   "cell_type": "code",
   "execution_count": null,
   "metadata": {},
   "outputs": [],
   "source": [
    "selected_well = toolz.get_in([selected_field_name, selected_well_name], project_wells)\n",
    "selected_well"
   ]
  },
  {
   "cell_type": "code",
   "execution_count": null,
   "metadata": {},
   "outputs": [],
   "source": [
    "selected_well_md_kb_values = selected_well.Trajectory.GetMdKbArray()\n",
    "len(selected_well_md_kb_values)"
   ]
  },
  {
   "cell_type": "code",
   "execution_count": null,
   "metadata": {},
   "outputs": [],
   "source": [
    "trajectory_bounds_measurements = toolz.pipe(\n",
    "    selected_well_md_kb_values,\n",
    "    toolz.get([0, -1]),\n",
    ")\n",
    "\n",
    "toolz.pipe(trajectory_bounds_measurements,\n",
    "           toolz.map(str),\n",
    "           list)"
   ]
  },
  {
   "cell_type": "code",
   "execution_count": null,
   "metadata": {
    "collapsed": false,
    "jupyter": {
     "outputs_hidden": false
    },
    "pycharm": {
     "name": "#%%\n"
    }
   },
   "outputs": [],
   "source": [
    "trajectory_bounds = toolz.pipe(trajectory_bounds_measurements,\n",
    "                               toolz.map(lambda v: v.Value),\n",
    "                               list)\n",
    "trajectory_bounds"
   ]
  },
  {
   "cell_type": "code",
   "execution_count": null,
   "metadata": {},
   "outputs": [],
   "source": [
    "def sample(bounds):\n",
    "    return random.uniform(*bounds)\n",
    "\n",
    "sample_size = 4\n",
    "md_kb_at = toolz.pipe(range(sample_size),\n",
    "                      toolz.map(lambda _: sample(trajectory_bounds)),\n",
    "                      sorted,\n",
    "                      list)\n",
    "md_kb_at"
   ]
  },
  {
   "cell_type": "code",
   "execution_count": null,
   "metadata": {},
   "outputs": [],
   "source": [
    "def make_net_feet(v):\n",
    "    return onq.net_length_from_ft(v)\n",
    "\n",
    "def make_net_meters(v):\n",
    "    return onq.net_length_from_m(v)\n",
    "\n",
    "@toolz.curry\n",
    "def make_net_quantity(make_quantity_func, value):\n",
    "    return make_quantity_func(value)\n",
    "\n",
    "\n",
    "# net_quantity_func = make_net_feet\n",
    "net_quantity_func = make_net_meters\n",
    "\n",
    "# sample_md_kb_measurements = toolz.pipe(\n",
    "#     md_kb_at,\n",
    "#     toolz.map(make_net_quantity(net_quantity_func)),\n",
    "#     list\n",
    "# )\n",
    "sample_md_kb_measurements = toolz.pipe(\n",
    "    # [467.3, 814.8, 2595., 3062.],  # Hori_02\n",
    "    # [1026., 1889., 3968., 4096.],  # Hori_02\n",
    "    [358.8, 1018., 3668., 4439.],  # Hori_03\n",
    "    toolz.map(make_net_quantity(net_quantity_func)),\n",
    "    list,\n",
    ")\n",
    "\n",
    "[str(m) for m in sample_md_kb_measurements]"
   ]
  },
  {
   "cell_type": "code",
   "execution_count": null,
   "metadata": {},
   "outputs": [],
   "source": [
    "sample_values = Array[UnitsNet.Length](sample_md_kb_measurements)\n",
    "for i in range(len(sample_values)):\n",
    "    print(str(sample_values[i]))"
   ]
  },
  {
   "cell_type": "code",
   "execution_count": null,
   "metadata": {},
   "outputs": [],
   "source": [
    "SimplePoint = namedtuple('SimplePoint', ['x', 'y', 'z'])"
   ]
  },
  {
   "cell_type": "code",
   "execution_count": null,
   "metadata": {},
   "outputs": [],
   "source": [
    "raw_points = selected_well.GetLocationsForMdKbValues(sample_values, \n",
    "                                                     selected_frame,\n",
    "                                                     selected_datum)\n",
    "points = toolz.pipe(\n",
    "    raw_points,\n",
    "    toolz.map(lambda p: SimplePoint(p.X.ToUnit(project_units[selected_field_name].LengthUnit),\n",
    "                                    p.Y.ToUnit(project_units[selected_field_name].LengthUnit),\n",
    "                                    p.Depth.ToUnit(project_units[selected_field_name].LengthUnit))),\n",
    "    list,\n",
    ")"
   ]
  },
  {
   "cell_type": "code",
   "execution_count": null,
   "metadata": {},
   "outputs": [],
   "source": [
    "for point in points:\n",
    "    print(f'SubsurfacePoint({str(point.x)}, {str(point.y)}, {str(point.z)})')"
   ]
  },
  {
   "cell_type": "code",
   "execution_count": null,
   "metadata": {},
   "outputs": [],
   "source": [
    "def abbreviation(u):\n",
    "    return UnitsNet.Length.GetAbbreviation(u)\n",
    "    \n",
    "def format_length(v):\n",
    "    return f'{v.Value:#.4g} {abbreviation(v.Unit)}'\n",
    "    \n",
    "@toolz.curry\n",
    "def summarize_point(e):\n",
    "    sample_measurement, point = e\n",
    "    return {\n",
    "        'field': selected_field_name,\n",
    "        'well': selected_well_name,\n",
    "        'mb_kb': f'{format_length(sample_measurement)}',\n",
    "        'frame': frames[selected_frame],\n",
    "        'datum': datums[selected_datum],\n",
    "        'x': f'{format_length(point.x)}',\n",
    "        'y': f'{format_length(point.y)}',\n",
    "        'z': f'{format_length(point.z)}',\n",
    "    }\n",
    "\n",
    "\n",
    "point_summary = toolz.pipe(\n",
    "    zip(sample_md_kb_measurements, points),\n",
    "    toolz.map(summarize_point),\n",
    "    list,\n",
    ")\n",
    "point_summary"
   ]
  },
  {
   "cell_type": "code",
   "execution_count": null,
   "metadata": {},
   "outputs": [],
   "source": [
    "pd.DataFrame(data=point_summary)"
   ]
  },
  {
   "cell_type": "code",
   "execution_count": null,
   "metadata": {},
   "outputs": [],
   "source": [
    "whl_data = []\n",
    "def combine_data(whl_loc):\n",
    "    return str(whl_loc.Value) + ' ' + abbreviation(whl_loc.Unit)\n",
    "\n",
    "for proj_name in project_wells:\n",
    "    for wellname, well in project_wells[proj_name].items():\n",
    "        whl = well.WellHeadLocation\n",
    "        whl_data.append((proj_name,\n",
    "                         wellname,\n",
    "                         combine_data(whl[0]),\n",
    "                         combine_data(whl[1]),\n",
    "                         combine_data(whl[2])))\n",
    "\n",
    "whl_df = pd.DataFrame(whl_data,\n",
    "                      columns=['Project',\n",
    "                               'Well',\n",
    "                               'Easting',\n",
    "                               'Northing',\n",
    "                               'Depth'])\n",
    "whl_df.head(whl_df.shape[0])\n"
   ]
  },
  {
   "cell_type": "code",
   "execution_count": null,
   "metadata": {
    "pycharm": {
     "name": "#%%\n"
    }
   },
   "outputs": [],
   "source": []
  }
 ],
 "metadata": {
  "kernelspec": {
   "display_name": "Python 3 (ipykernel)",
   "language": "python",
   "name": "python3"
  },
  "language_info": {
   "codemirror_mode": {
    "name": "ipython",
    "version": 3
   },
   "file_extension": ".py",
   "mimetype": "text/x-python",
   "name": "python",
   "nbconvert_exporter": "python",
   "pygments_lexer": "ipython3",
   "version": "3.8.7"
  }
 },
 "nbformat": 4,
 "nbformat_minor": 4
}
