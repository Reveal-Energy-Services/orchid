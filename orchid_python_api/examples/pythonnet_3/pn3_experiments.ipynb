{
 "cells": [
  {
   "cell_type": "code",
   "execution_count": null,
   "id": "eb29845a-d005-49eb-8c8e-9d89498ab911",
   "metadata": {},
   "outputs": [],
   "source": [
    "import orchid"
   ]
  },
  {
   "cell_type": "code",
   "execution_count": null,
   "id": "19621d00-1157-4131-85f2-82b068d9ad77",
   "metadata": {},
   "outputs": [],
   "source": [
    "# Remember that importing `orchid` results in a call to `pythonnet.load()`\n",
    "# to specify the targeted runtime:\n",
    "#\n",
    "# 'netfx': .NET Framework\n",
    "# 'coreclr': .NET Core\n",
    "# 'mono': Mono\n",
    "\n",
    "import clr"
   ]
  },
  {
   "cell_type": "code",
   "execution_count": null,
   "outputs": [],
   "source": [
    "from System import (\n",
    "    ArgumentException,\n",
    "    DateTime,\n",
    "    DateTimeKind,\n",
    "    DateTimeOffset,\n",
    "    Int32,\n",
    "    TimeSpan,\n",
    ")"
   ],
   "metadata": {
    "collapsed": false
   }
  },
  {
   "cell_type": "code",
   "execution_count": null,
   "outputs": [],
   "source": [
    "DateTime"
   ],
   "metadata": {
    "collapsed": false
   }
  },
  {
   "cell_type": "code",
   "execution_count": null,
   "outputs": [],
   "source": [
    "DateTime.Overloads, DateTime.__overloads__"
   ],
   "metadata": {
    "collapsed": false
   }
  },
  {
   "cell_type": "code",
   "execution_count": null,
   "outputs": [],
   "source": [
    "type(DateTime.__overloads__)"
   ],
   "metadata": {
    "collapsed": false
   }
  },
  {
   "cell_type": "code",
   "execution_count": null,
   "outputs": [],
   "source": [
    "dir(DateTime)"
   ],
   "metadata": {
    "collapsed": false
   }
  },
  {
   "cell_type": "code",
   "execution_count": null,
   "outputs": [],
   "source": [
    "import pythonnet"
   ],
   "metadata": {
    "collapsed": false
   }
  },
  {
   "cell_type": "code",
   "execution_count": null,
   "outputs": [],
   "source": [
    "pythonnet.get_runtime_info()"
   ],
   "metadata": {
    "collapsed": false
   }
  },
  {
   "cell_type": "code",
   "execution_count": null,
   "outputs": [],
   "source": [
    "type(DateTimeKind.Utc)"
   ],
   "metadata": {
    "collapsed": false
   }
  },
  {
   "cell_type": "code",
   "execution_count": null,
   "outputs": [],
   "source": [
    "dir(DateTimeKind.Utc)"
   ],
   "metadata": {
    "collapsed": false
   }
  },
  {
   "cell_type": "code",
   "execution_count": null,
   "outputs": [],
   "source": [
    "DateTimeKind.Utc.GetType()"
   ],
   "metadata": {
    "collapsed": false
   }
  },
  {
   "cell_type": "code",
   "execution_count": null,
   "outputs": [],
   "source": [
    "dir(DateTimeKind.Utc.GetType())"
   ],
   "metadata": {
    "collapsed": false
   }
  },
  {
   "cell_type": "code",
   "execution_count": null,
   "outputs": [],
   "source": [
    "DateTimeKind.Utc.GetType().BaseType"
   ],
   "metadata": {
    "collapsed": false
   }
  },
  {
   "cell_type": "code",
   "execution_count": null,
   "outputs": [],
   "source": [
    "DateTimeKind.Utc.GetType().BaseType.FullName"
   ],
   "metadata": {
    "collapsed": false
   }
  },
  {
   "cell_type": "code",
   "execution_count": null,
   "outputs": [],
   "source": [
    "[n for n in dir(DateTimeOffset) if 'Equality' in n]"
   ],
   "metadata": {
    "collapsed": false
   }
  },
  {
   "cell_type": "code",
   "execution_count": null,
   "outputs": [],
   "source": [
    "DateTimeOffset.op_Equality.__overloads__"
   ],
   "metadata": {
    "collapsed": false
   }
  },
  {
   "cell_type": "code",
   "execution_count": null,
   "outputs": [],
   "source": [
    "try:\n",
    "    print('Trying `108 == DateTimeOffset.Value`')\n",
    "    108 == DateTimeOffset.MaxValue\n",
    "except TypeError as te:\n",
    "    print(f'TypeError: {te}')"
   ],
   "metadata": {
    "collapsed": false
   }
  },
  {
   "cell_type": "code",
   "execution_count": null,
   "outputs": [],
   "source": [
    "try:\n",
    "    print('Trying `108 == TimeSpan.MaxValue`')\n",
    "    108 == TimeSpan.MaxValue\n",
    "except TypeError as te:\n",
    "    print(f'TypeError: {te}')"
   ],
   "metadata": {
    "collapsed": false
   }
  },
  {
   "cell_type": "markdown",
   "source": [
    "We filed an issue with the Python.NET team. The fairly quickly responded with the following:\n",
    "\n",
    "\"\"\"\n",
    "Yes, we tried to limit the \"implicit\" conversions to a minimum. I don't even know, which\n",
    "change in particular is responsible for the behavioural change fix that you are observing\n",
    "here, but you are only able to compare things to a .NET object that are directly convertible\n",
    "to it. If you'd really require this for DateTimeOffset and TimeSpan, you could make them\n",
    "convertible via a Codec. Otherwise, I'd suggest you just generate the respective comparison\n",
    "values using .FromTicks.\n",
    "\"\"\""
   ],
   "metadata": {
    "collapsed": false
   }
  },
  {
   "cell_type": "code",
   "execution_count": null,
   "outputs": [],
   "source": [
    "108 == DateTimeOffset.MaxValue.Ticks"
   ],
   "metadata": {
    "collapsed": false
   }
  },
  {
   "cell_type": "code",
   "execution_count": null,
   "outputs": [],
   "source": [
    "108 == TimeSpan.MaxValue.Ticks"
   ],
   "metadata": {
    "collapsed": false
   }
  },
  {
   "cell_type": "code",
   "execution_count": null,
   "outputs": [],
   "source": [
    "108 == TimeSpan.MinValue.Ticks"
   ],
   "metadata": {
    "collapsed": false
   }
  },
  {
   "cell_type": "markdown",
   "source": [
    "Python.NET 2.5.2 allowed expressions like `TimeSpan()`. (Note that the .NET\n",
    "`TimeSpan` class **does not** have a default constructor.) This expression\n",
    "is no longer supported. Instead, one must supply an argument (typically\n",
    "zero (0)) to the constructor or to methods like `TimeSpan.FromTicks()`."
   ],
   "metadata": {
    "collapsed": false
   }
  },
  {
   "cell_type": "code",
   "execution_count": null,
   "outputs": [],
   "source": [
    "TimeSpan(8801)"
   ],
   "metadata": {
    "collapsed": false
   }
  },
  {
   "cell_type": "code",
   "execution_count": null,
   "outputs": [],
   "source": [
    "try:\n",
    "    print('Trying expression, `TimeSpan()`')\n",
    "    TimeSpan()\n",
    "except TypeError as te:\n",
    "    print(f'TypeError: {te}')"
   ],
   "metadata": {
    "collapsed": false
   }
  },
  {
   "cell_type": "code",
   "execution_count": null,
   "outputs": [],
   "source": [
    "TimeSpan(0)"
   ],
   "metadata": {
    "collapsed": false
   }
  },
  {
   "cell_type": "code",
   "execution_count": null,
   "outputs": [],
   "source": [
    "TimeSpan.FromTicks(0)"
   ],
   "metadata": {
    "collapsed": false
   }
  },
  {
   "cell_type": "markdown",
   "source": [
    "During integration testing, we discovered an issue setting an attribute with\n",
    "type, `Int32`, using a Python `int` of value 7. The run-time reported that\n",
    "the types, `Int32` and `PyInt` were incompatible. This scenario requires\n",
    "significant set up."
   ],
   "metadata": {
    "collapsed": false
   }
  },
  {
   "cell_type": "code",
   "execution_count": null,
   "outputs": [],
   "source": [
    "# Find the well named 'Demo_1H'\n",
    "bakken = orchid.load_project('c:/src/Orchid.IntegrationTestData/frankNstein_Bakken_UTM13_FEET.ifrac')\n",
    "candidate_wells = list(bakken.wells().find_by_name('Demo_1H'))\n",
    "assert len(candidate_wells) == 1\n",
    "demo_1h = candidate_wells[0]"
   ],
   "metadata": {
    "collapsed": false
   }
  },
  {
   "cell_type": "code",
   "execution_count": null,
   "outputs": [],
   "source": [
    "# Create an attribute with name, 'My New Attribute', and type, `System.Int32`\n",
    "from Orchid.FractureDiagnostics.Factories.Implementations import Attribute\n",
    "\n",
    "attribute_to_add_type = Int32\n",
    "attribute_to_add = Attribute[attribute_to_add_type].Create('My New Attribute')"
   ],
   "metadata": {
    "collapsed": false
   }
  },
  {
   "cell_type": "code",
   "execution_count": null,
   "outputs": [],
   "source": [
    "# Add newly created attribute to well, 'Demo_1H'\n",
    "with orchid.dot_net_disposable.disposable(demo_1h.dom_object.ToMutable()) as mutable_well:\n",
    "    mutable_well.AddStageAttribute(attribute_to_add)"
   ],
   "metadata": {
    "collapsed": false
   }
  },
  {
   "cell_type": "code",
   "execution_count": null,
   "outputs": [],
   "source": [
    "# Find stage number 7 in well, 'Demo_1H'\n",
    "maybe_stage = demo_1h.stages().find_by_display_stage_number(7)\n",
    "assert maybe_stage is not None\n",
    "stage_7 = maybe_stage"
   ],
   "metadata": {
    "collapsed": false
   }
  },
  {
   "cell_type": "code",
   "execution_count": null,
   "outputs": [],
   "source": [
    "# Add attribute with value, 17, to stage 7, with Python `int` type.\n",
    "with (orchid.dot_net_disposable.disposable(stage_7.dom_object.ToMutable())) as mutable_stage:\n",
    "    # This action will fail because the attribute type is `System.Int32`\n",
    "    # and `pythonnet-3.0.0.post1` **does not** implicitly equate these two types.\n",
    "    try:\n",
    "        mutable_stage.SetAttribute(attribute_to_add, int)\n",
    "    except ArgumentException as ae:\n",
    "        print(f'ArgumentException: {ae}')\n"
   ],
   "metadata": {
    "collapsed": false
   }
  },
  {
   "cell_type": "code",
   "execution_count": null,
   "outputs": [],
   "source": [
    "# Add attribute with value, 17, to stage 7\n",
    "with (orchid.dot_net_disposable.disposable(stage_7.dom_object.ToMutable())) as mutable_stage:\n",
    "    mutable_stage.SetAttribute(attribute_to_add, attribute_to_add_type(7))\n"
   ],
   "metadata": {
    "collapsed": false
   }
  },
  {
   "cell_type": "code",
   "execution_count": null,
   "outputs": [],
   "source": [
    "# Verify added attribute value\n",
    "ignored_object = object()\n",
    "is_attribute_present, actual_attribute_value = stage_7.dom_object.TryGetAttributeValue(attribute_to_add,\n",
    "                                                                                       ignored_object)\n",
    "assert is_attribute_present\n",
    "assert type(actual_attribute_value) == int\n",
    "assert actual_attribute_value == 7"
   ],
   "metadata": {
    "collapsed": false
   }
  },
  {
   "cell_type": "code",
   "execution_count": null,
   "outputs": [],
   "source": [],
   "metadata": {
    "collapsed": false
   }
  }
 ],
 "metadata": {
  "kernelspec": {
   "display_name": "Python 3 (ipykernel)",
   "language": "python",
   "name": "python3"
  },
  "language_info": {
   "codemirror_mode": {
    "name": "ipython",
    "version": 3
   },
   "file_extension": ".py",
   "mimetype": "text/x-python",
   "name": "python",
   "nbconvert_exporter": "python",
   "pygments_lexer": "ipython3",
   "version": "3.8.10"
  }
 },
 "nbformat": 4,
 "nbformat_minor": 5
}
