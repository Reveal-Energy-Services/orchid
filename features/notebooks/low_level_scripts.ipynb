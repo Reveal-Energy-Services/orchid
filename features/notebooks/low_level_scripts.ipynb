{
 "cells": [
  {
   "cell_type": "code",
   "execution_count": null,
   "id": "1576e0d1-ef48-4352-93d1-db11f4e53b8a",
   "metadata": {},
   "outputs": [],
   "source": [
    "import parsy"
   ]
  },
  {
   "cell_type": "code",
   "execution_count": null,
   "id": "518ce5be-33a1-40eb-a75c-3ab2ff968db5",
   "metadata": {},
   "outputs": [],
   "source": [
    "auto_pick_output_text = r\"\"\"INFO:root:native_project.Name='frankNstein_Bakken_UTM13_FEET'\n",
    "INFO:root:len(native_project.ObservationSets.Items)=2\n",
    "INFO:root:observation_set.Name='ParentWellObservations'\n",
    "INFO:root:len(observation_set.GetObservations())=17\n",
    "INFO:root:observation_set.Name='Auto-picked Observation Set3'\n",
    "INFO:root:len(observation_set.GetObservations())=120\n",
    "INFO:root:Wrote changes to \"c:\\src\\Orchid.IntegrationTestData\\frankNstein_Bakken_UTM13_FEET.999.ifrac\"\n",
    "\"\"\""
   ]
  },
  {
   "cell_type": "code",
   "execution_count": null,
   "id": "04096660-f3b5-480f-bc83-5c4a46bdd48c",
   "metadata": {},
   "outputs": [],
   "source": [
    "auto_pick_output_text"
   ]
  },
  {
   "cell_type": "code",
   "execution_count": null,
   "id": "9ea362c7-9c9f-4110-8748-059e4072e3d1",
   "metadata": {},
   "outputs": [],
   "source": [
    "newline = parsy.string('\\n')\n",
    "get_observations = parsy.string(\"INFO:root:len(observation_set.GetObservations())=\") >> parsy.regex(r'\\d+').map(int)\n",
    "output_path_name = (parsy.string('INFO:root:Wrote changes to') >>\n",
    "                    parsy.regex(r' \"c:\\\\src\\\\Orchid.IntegrationTestData\\\\frankNstein_Bakken_UTM13_FEET.\\d{3}.ifrac\"'))\n",
    "    \n",
    "@parsy.generate\n",
    "def auto_pick_output():\n",
    "    yield parsy.string(\"INFO:root:native_project.Name='frankNstein_Bakken_UTM13_FEET'\")\n",
    "    yield newline >> parsy.string(\"INFO:root:len(native_project.ObservationSets.Items)=2\")\n",
    "    yield newline >> parsy.string(\"INFO:root:observation_set.Name='ParentWellObservations'\")\n",
    "    yield newline >> get_observations\n",
    "    yield newline >> parsy.string(\"INFO:root:observation_set.Name='Auto-picked Observation Set3'\")\n",
    "    get_observations_count = yield newline >> get_observations\n",
    "    yield newline >> output_path_name\n",
    "    yield newline\n",
    "    \n",
    "    return get_observations_count"
   ]
  },
  {
   "cell_type": "code",
   "execution_count": null,
   "id": "be9759df-13e8-470d-aeb4-f2c2e3a9ae2e",
   "metadata": {},
   "outputs": [],
   "source": [
    "auto_pick_output.parse(auto_pick_output_text)"
   ]
  },
  {
   "cell_type": "code",
   "execution_count": null,
   "id": "6886fb21-1caa-424c-928d-6c9dbb4ffa4c",
   "metadata": {},
   "outputs": [],
   "source": []
  }
 ],
 "metadata": {
  "kernelspec": {
   "display_name": "Python 3 (ipykernel)",
   "language": "python",
   "name": "python3"
  },
  "language_info": {
   "codemirror_mode": {
    "name": "ipython",
    "version": 3
   },
   "file_extension": ".py",
   "mimetype": "text/x-python",
   "name": "python",
   "nbconvert_exporter": "python",
   "pygments_lexer": "ipython3",
   "version": "3.8.10"
  }
 },
 "nbformat": 4,
 "nbformat_minor": 5
}
