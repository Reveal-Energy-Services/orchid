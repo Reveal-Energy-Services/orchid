{
 "cells": [
  {
   "cell_type": "code",
   "execution_count": null,
   "metadata": {
    "collapsed": false,
    "jupyter": {
     "outputs_hidden": false
    },
    "pycharm": {
     "name": "#%%\n"
    }
   },
   "outputs": [],
   "source": [
    "from collections import namedtuple\n",
    "import dataclasses as dc\n",
    "import pathlib\n",
    "import pprint\n",
    "import random\n",
    "import uuid"
   ]
  },
  {
   "cell_type": "code",
   "execution_count": null,
   "metadata": {
    "collapsed": false,
    "jupyter": {
     "outputs_hidden": false
    },
    "pycharm": {
     "name": "#%%\n"
    }
   },
   "outputs": [],
   "source": [
    "import numpy as np\n",
    "import matplotlib.pyplot as plt\n",
    "import pandas as pd\n",
    "import pendulum\n",
    "import seaborn as sns"
   ]
  },
  {
   "cell_type": "code",
   "execution_count": null,
   "metadata": {
    "collapsed": false,
    "jupyter": {
     "outputs_hidden": false
    },
    "pycharm": {
     "name": "#%%\n"
    }
   },
   "outputs": [],
   "source": [
    "from orchid import (project_store as ops)"
   ]
  },
  {
   "cell_type": "code",
   "execution_count": null,
   "metadata": {
    "collapsed": false,
    "jupyter": {
     "outputs_hidden": false
    },
    "pycharm": {
     "name": "#%%\n"
    }
   },
   "outputs": [],
   "source": [
    "import toolz.curried as toolz"
   ]
  },
  {
   "cell_type": "code",
   "execution_count": null,
   "metadata": {
    "collapsed": false,
    "jupyter": {
     "outputs_hidden": false
    },
    "pycharm": {
     "name": "#%%\n"
    }
   },
   "outputs": [],
   "source": [
    "# noinspection PyUnresolvedReferences\n",
    "import UnitsNet\n",
    "# noinspection PyUnresolvedReferences\n",
    "from System import DateTime"
   ]
  },
  {
   "cell_type": "code",
   "execution_count": null,
   "metadata": {
    "collapsed": false,
    "jupyter": {
     "outputs_hidden": false
    },
    "pycharm": {
     "name": "#%%\n"
    }
   },
   "outputs": [],
   "source": [
    "project_filenames = {\n",
    "    'bakken': 'frankNstein_Bakken_UTM13_FEET.ifrac',\n",
    "    'montney': 'Project-frankNstein_Montney_UTM13_METERS.ifrac',\n",
    "}"
   ]
  },
  {
   "cell_type": "code",
   "execution_count": null,
   "metadata": {
    "collapsed": false,
    "jupyter": {
     "outputs_hidden": false
    },
    "pycharm": {
     "name": "#%%\n"
    }
   },
   "outputs": [],
   "source": [
    "test_data_path = pathlib.Path('c:/src/Orchid.IntegrationTestData/')\n",
    "project_path_names = toolz.valmap(lambda fn: test_data_path.joinpath(fn), \n",
    "                                  project_filenames)\n",
    "project_path_names"
   ]
  },
  {
   "cell_type": "code",
   "execution_count": null,
   "metadata": {
    "collapsed": false,
    "jupyter": {
     "outputs_hidden": false
    },
    "pycharm": {
     "name": "#%%\n"
    }
   },
   "outputs": [],
   "source": [
    "projects = toolz.valmap(\n",
    "    lambda pn: ops.ProjectStore(str(pn)).native_project(),\n",
    "    project_path_names)\n",
    "projects"
   ]
  },
  {
   "cell_type": "code",
   "execution_count": null,
   "metadata": {},
   "outputs": [],
   "source": [
    "def get_project_monitors(proj):\n",
    "    return proj.Monitors.Items\n",
    "\n",
    "project_monitors = toolz.pipe(\n",
    "    projects,\n",
    "    toolz.valmap(get_project_monitors),\n",
    ")\n",
    "project_monitors"
   ]
  },
  {
   "cell_type": "code",
   "execution_count": null,
   "metadata": {
    "collapsed": false,
    "jupyter": {
     "outputs_hidden": false
    },
    "pycharm": {
     "name": "#%%\n"
    }
   },
   "outputs": [],
   "source": [
    "toolz.pipe(project_monitors.values(),\n",
    "           toolz.map(len),\n",
    "           list,)"
   ]
  },
  {
   "cell_type": "code",
   "execution_count": null,
   "metadata": {
    "collapsed": false,
    "jupyter": {
     "outputs_hidden": false
    },
    "pycharm": {
     "name": "#%%\n"
    }
   },
   "outputs": [],
   "source": [
    "@dc.dataclass\n",
    "class MonitorBasics:\n",
    "    object_id: uuid.UUID\n",
    "    name: str\n",
    "    display_name: str\n",
    "    start_time: pendulum.DateTime\n",
    "    stop_time: pendulum.DateTime\n",
    "\n",
    "@toolz.curry\n",
    "def summarize_monitor_basics(m):\n",
    "    result = MonitorBasics(m.ObjectId, m.DisplayName, m.Name, \n",
    "                           m.StartTime.ToString('o'), m.StopTime.ToString('o'))\n",
    "    return result\n",
    "\n",
    "project_monitor_summaries = toolz.pipe(\n",
    "    project_monitors,\n",
    "    toolz.valmap(toolz.map(summarize_monitor_basics)),\n",
    "    toolz.valmap(list),\n",
    ")\n",
    "project_monitor_summaries"
   ]
  },
  {
   "cell_type": "code",
   "execution_count": null,
   "metadata": {
    "collapsed": false,
    "jupyter": {
     "outputs_hidden": false
    },
    "pycharm": {
     "name": "#%%\n"
    }
   },
   "outputs": [],
   "source": [
    "selected_field_name = 'bakken'"
   ]
  },
  {
   "cell_type": "code",
   "execution_count": null,
   "metadata": {
    "collapsed": false,
    "jupyter": {
     "outputs_hidden": false
    },
    "pycharm": {
     "name": "#%%\n"
    }
   },
   "outputs": [],
   "source": [
    "def make_id_summary(field_name, summaries):\n",
    "    field_name_summaries = summaries[field_name]\n",
    "    return {\n",
    "        'field': field_name,\n",
    "        'Object Id': [s.object_id for s in field_name_summaries],\n",
    "        # 'Display Name': [s.display_name for s in field_name_summaries],\n",
    "        # 'Name': [s.name for s in field_name_summaries],\n",
    "        'Start Time': [s.start_time for s in field_name_summaries],\n",
    "        'Stop Time': [s.stop_time for s in field_name_summaries],\n",
    "    }"
   ]
  },
  {
   "cell_type": "code",
   "execution_count": null,
   "metadata": {
    "collapsed": false,
    "jupyter": {
     "outputs_hidden": false
    },
    "pycharm": {
     "name": "#%%\n"
    }
   },
   "outputs": [],
   "source": [
    "pd.DataFrame(data=make_id_summary('bakken', project_monitor_summaries))"
   ]
  },
  {
   "cell_type": "code",
   "execution_count": null,
   "metadata": {},
   "outputs": [],
   "source": [
    "pd.DataFrame(data=make_id_summary('montney', project_monitor_summaries))"
   ]
  },
  {
   "cell_type": "code",
   "execution_count": null,
   "metadata": {
    "pycharm": {
     "name": "#%%\n"
    }
   },
   "outputs": [],
   "source": [
    "@dc.dataclass\n",
    "class PyTick:\n",
    "    sample_at: DateTime\n",
    "    sample_value: float\n",
    "        \n",
    "MonitorSummary = namedtuple('MonitorSummary', ['object_id',\n",
    "                                               'name', \n",
    "                                               'display_name',\n",
    "                                               'stage_no',\n",
    "                                               'start',\n",
    "                                               'stop',\n",
    "                                               'time_series_id',\n",
    "                                               'quantity_name',\n",
    "                                               'sample_count',\n",
    "                                               'samples'])\n",
    "        \n",
    "def monitors_time_series(ms):\n",
    "    result = toolz.pipe(\n",
    "        ms,\n",
    "        toolz.map(lambda m:  MonitorSummary(\n",
    "            object_id=m.ObjectId.ToString(), \n",
    "            name=m.Name, \n",
    "            display_name=m.DisplayName,\n",
    "            stage_no=m.Stage.DisplayStageNumber if 'Stage' in m.GetType().Name else 'N/A',\n",
    "            start=m.StartTime.ToString('s'),\n",
    "            stop=m.StopTime.ToString('s'),\n",
    "            time_series_id=str(m.TimeSeries.ObjectId), \n",
    "            quantity_name=m.TimeSeries.SampledQuantityName,\n",
    "            sample_count=len(m.TimeSeries.GetOrderedTimeSeriesHistory()), \n",
    "            samples=m.TimeSeries.GetOrderedTimeSeriesHistory())),\n",
    "        lambda summary: sorted(summary, key=lambda ms: ms.display_name),\n",
    "        list,\n",
    "    )\n",
    "    return result\n",
    "\n",
    "project_monitor_time_series = toolz.pipe(\n",
    "    project_monitors,\n",
    "    toolz.valmap(monitors_time_series),\n",
    "    toolz.valmap(toolz.map(lambda ms: {ms.display_name: ms})),\n",
    "    toolz.valmap(toolz.merge),\n",
    ")\n",
    "pprint.pprint(project_monitor_time_series)"
   ]
  },
  {
   "cell_type": "code",
   "execution_count": null,
   "metadata": {},
   "outputs": [],
   "source": [
    "def shuffle_em(es):\n",
    "    random.shuffle(es)\n",
    "    return es\n",
    "\n",
    "unshuffled_sample_stages = {\n",
    "    'Demo_1H': [8, 22, 36, 50] * 2,\n",
    "    'Demo_2H': [1, 14, 29, 43] * 2,\n",
    "    'Demo_4H': [6, 15, 25, 35] * 2,\n",
    "}\n",
    "sample_stages = toolz.merge(\n",
    "    toolz.valmap(shuffle_em, unshuffled_sample_stages),\n",
    "    {'Hori_02': [1] * 8,\n",
    "     'Vert_01': [1] * 8}\n",
    ")\n",
    "sample_stages"
   ]
  },
  {
   "cell_type": "code",
   "execution_count": null,
   "metadata": {},
   "outputs": [],
   "source": [
    "sample_stages = {\n",
    "    'Demo_1H': [22, 50, 22, 8, 36, 50, 36, 8],\n",
    "    'Demo_2H': [29, 14, 1, 29, 1, 14, 43, 43],\n",
    "    'Demo_3H': ['MonitorWell'] * 8,\n",
    "    'Demo_4H': [35, 25, 6, 35, 15, 15, 25, 6],\n",
    "    'Hori_02': [1] * 8,\n",
    "    'Vert_01': [1] * 8,\n",
    "}"
   ]
  },
  {
   "cell_type": "code",
   "execution_count": null,
   "metadata": {},
   "outputs": [],
   "source": [
    "sample_indices = {\n",
    "    'Demo_1H': [0, 6078, 24489, 35902, 47331, 56567, 94551, 114594],\n",
    "    'Demo_2H': [0, 1105, 14475, 18418, 33263, 83966, 87110, 114594],\n",
    "    'Demo_3H': [0, 9872, 38744, 47718, 58806, 58869, 62026, 62026],\n",
    "    'Demo_4H': [0, 9872, 38744, 47718, 58806, 58869, 62026, 62757],\n",
    "    'Hori_02': [0, 14848, 67025, 138193, 196604, 252497, 256716, 325041],\n",
    "    'Vert_01': [0, 6652, 90175, 134841, 211515, 222007, 300671, 322124],\n",
    "}"
   ]
  },
  {
   "cell_type": "code",
   "execution_count": null,
   "metadata": {},
   "outputs": [],
   "source": [
    "toolz.pipe(\n",
    "    project_monitor_time_series,\n",
    "    # toolz.get_in(['bakken', 'Demo_1H - stage 50']),\n",
    "    # toolz.get_in(['bakken', 'Demo_2H - stage 1']),\n",
    "    # toolz.get_in(['bakken', 'Demo_3H - MonitorWell']),\n",
    "    # toolz.get_in(['bakken', 'Demo_4H - stage 25']),\n",
    "    toolz.get_in(['montney', 'Hori_02 - 0 - stage 1']),\n",
    "    # lambda ms: toolz.get(sample_indices['Demo_1H'], ms.samples),\n",
    "    # lambda ms: toolz.get(sample_indices['Demo_2H'], ms.samples),\n",
    "    # lambda ms: toolz.get(sample_indices['Demo_3H'], ms.samples),\n",
    "    # lambda ms: toolz.get(sample_indices['Demo_4H'], ms.samples),\n",
    "    lambda ms: toolz.get(sample_indices['Hori_02'], ms.samples),\n",
    "    toolz.map(lambda tick: PyTick(sample_at=tick.Timestamp.ToString('o'), \n",
    "                                  sample_value=tick.Value)),\n",
    "    list,\n",
    ")"
   ]
  },
  {
   "cell_type": "code",
   "execution_count": null,
   "metadata": {},
   "outputs": [],
   "source": [
    "def sample_monitor_summary(monitor_summary):\n",
    "    result = toolz.assoc(\n",
    "        monitor_summary,\n",
    "        'samples',\n",
    "        toolz.pipe(\n",
    "            toolz.get(sample_indices[monitor_summary['name']], monitor_summary['samples']),\n",
    "            toolz.map(lambda tick: PyTick(sample_at=tick.Timestamp.ToString('o'), \n",
    "                                  sample_value=tick.Value)),\n",
    "            toolz.map(lambda pytick: {'time': pytick.sample_at, 'value': pytick.sample_value}),\n",
    "            lambda tick_map: zip(sample_indices[monitor_summary['name']], tick_map),\n",
    "            toolz.map(lambda t: toolz.assoc(t[1], 'index', t[0])),\n",
    "            list,\n",
    "       )\n",
    "    )\n",
    "    return result\n",
    "        \n",
    "\n",
    "project_monitor_samples = toolz.pipe(\n",
    "    project_monitor_time_series,\n",
    "    toolz.valmap(toolz.valmap(lambda ms: ms._asdict())),\n",
    "    toolz.valmap(toolz.valmap(sample_monitor_summary)),\n",
    "    toolz.valmap(toolz.valmap(toolz.keyfilter(lambda k: k == 'quantity_name' or k == 'samples'))),\n",
    ")\n",
    "project_monitor_samples"
   ]
  },
  {
   "cell_type": "code",
   "execution_count": null,
   "metadata": {},
   "outputs": [],
   "source": []
  }
 ],
 "metadata": {
  "kernelspec": {
   "display_name": "Python 3 (ipykernel)",
   "language": "python",
   "name": "python3"
  },
  "language_info": {
   "codemirror_mode": {
    "name": "ipython",
    "version": 3
   },
   "file_extension": ".py",
   "mimetype": "text/x-python",
   "name": "python",
   "nbconvert_exporter": "python",
   "pygments_lexer": "ipython3",
   "version": "3.8.7"
  }
 },
 "nbformat": 4,
 "nbformat_minor": 4
}
