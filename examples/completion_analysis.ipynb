{
 "cells": [
  {
   "cell_type": "markdown",
   "metadata": {
    "pycharm": {
     "name": "#%% md\n"
    }
   },
   "source": [
    "# Example: Using Pandas to Analyze Completion Parameters"
   ]
  },
  {
   "cell_type": "markdown",
   "metadata": {
    "pycharm": {
     "name": "#%% md\n"
    }
   },
   "source": [
    "This notebook illustrates using the Python API and the pandas package to perform completion analysis."
   ]
  },
  {
   "cell_type": "markdown",
   "metadata": {
    "pycharm": {
     "name": "#%% md\n"
    }
   },
   "source": [
    "## 0.5 Import packages"
   ]
  },
  {
   "cell_type": "markdown",
   "metadata": {
    "pycharm": {
     "name": "#%% md\n"
    }
   },
   "source": [
    "The only import needed for the Python API is `orchid` itself."
   ]
  },
  {
   "cell_type": "code",
   "execution_count": 1,
   "metadata": {
    "collapsed": false,
    "jupyter": {
     "outputs_hidden": false
    },
    "pycharm": {
     "name": "#%%\n"
    }
   },
   "outputs": [],
   "source": [
    "import orchid"
   ]
  },
  {
   "cell_type": "markdown",
   "metadata": {
    "pycharm": {
     "name": "#%% md\n"
    }
   },
   "source": [
    "The remaining imports are standard python packages to support the analysis."
   ]
  },
  {
   "cell_type": "code",
   "execution_count": 2,
   "metadata": {
    "collapsed": false,
    "jupyter": {
     "outputs_hidden": false
    },
    "pycharm": {
     "name": "#%%\n"
    }
   },
   "outputs": [],
   "source": [
    "import numpy as np\n",
    "import pandas as pd\n",
    "import matplotlib.pyplot as plt\n",
    "from scipy import integrate"
   ]
  },
  {
   "cell_type": "code",
   "execution_count": 3,
   "metadata": {
    "collapsed": false,
    "jupyter": {
     "outputs_hidden": false
    },
    "pycharm": {
     "name": "#%% mdO\n"
    }
   },
   "outputs": [],
   "source": [
    "## 1.0 Load the .ifrac project"
   ]
  },
  {
   "cell_type": "code",
   "execution_count": 4,
   "metadata": {
    "collapsed": false,
    "jupyter": {
     "outputs_hidden": false
    },
    "pycharm": {
     "name": "#%%\n"
    }
   },
   "outputs": [],
   "source": [
    "project = orchid.load_project(\n",
    "    r'c:\\src\\Orchid.IntegrationTestData\\frankNstein_Bakken_UTM13_FEET.ifrac')"
   ]
  },
  {
   "cell_type": "markdown",
   "metadata": {
    "pycharm": {
     "name": "#%% md\n"
    }
   },
   "source": [
    "## 2.0 Define a function to compute the stage treatment data"
   ]
  },
  {
   "cell_type": "code",
   "execution_count": 5,
   "metadata": {
    "collapsed": false,
    "jupyter": {
     "outputs_hidden": false
    },
    "pycharm": {
     "name": "#%%\n"
    }
   },
   "outputs": [],
   "source": [
    "def compute_stage_treatment_aggregates(treatment_stage):\n",
    "    \n",
    "    def slurry_rate_per_min_to_per_second_conversion_factor():\n",
    "        source_slurry_rate_unit = treatment_curves['Slurry Rate'].sampled_quantity_unit()\n",
    "        target_slurry_rate_unit = f'{orchid.slurry_rate_volume_unit(source_slurry_rate_unit)}/s'\n",
    "        local_result = orchid.get_conversion_factor(source_slurry_rate_unit, target_slurry_rate_unit)\n",
    "        return local_result\n",
    "\n",
    "    def slurry_rate_bbl_per_second_to_gal_per_second_conversion_factor():\n",
    "        local_result = orchid.get_conversion_factor('bbl/s', 'gal/s')\n",
    "        return local_result\n",
    "\n",
    "    treatment_curves = treatment_stage.treatment_curves()\n",
    "    if not treatment_curves:\n",
    "        return None\n",
    "    \n",
    "    raw_treatment_series = {n: c.time_series() for n, c in (treatment_curves.items())}\n",
    "    stage_start_time = np.datetime64(stage.start_time)\n",
    "    stage_stop_time = np.datetime64(stage.stop_time)\n",
    "    \n",
    "    fluid_per_sec = (raw_treatment_series[orchid.SLURRY_RATE][stage_start_time:stage_stop_time] *\n",
    "                     slurry_rate_per_min_to_per_second_conversion_factor())\n",
    "    stage_fluid = integrate.trapz(fluid_per_sec.values, \n",
    "                                  (fluid_per_sec.index - stage_start_time).seconds)\n",
    "    \n",
    "    stage_concentration = \\\n",
    "        raw_treatment_series[orchid.PROPPANT_CONCENTRATION][stage_start_time:stage_stop_time]\n",
    "    proppant_per_sec = (fluid_per_sec * \n",
    "                        slurry_rate_bbl_per_second_to_gal_per_second_conversion_factor() *\n",
    "                        stage_concentration)\n",
    "    stage_proppant = integrate.trapz(proppant_per_sec.values, \n",
    "                                     (proppant_per_sec.index - stage_start_time).seconds)\n",
    "    \n",
    "    stage_pressure = \\\n",
    "        raw_treatment_series[orchid.TREATING_PRESSURE][stage_start_time:stage_stop_time]\n",
    "    median_stage_pressure = stage_pressure.median()\n",
    "    \n",
    "    # Assumes that all three curves have the same time basis; that is, \n",
    "    # that the index for each series is equal.\n",
    "    treatment_curves = pd.DataFrame.from_dict(raw_treatment_series)\n",
    "    treatment_curves['dt'] = ((treatment_curves.index.values - stage_start_time) /\n",
    "                              np.timedelta64(1, 's'))\n",
    "    \n",
    "    return stage_fluid, stage_proppant, median_stage_pressure"
   ]
  },
  {
   "cell_type": "markdown",
   "metadata": {
    "pycharm": {
     "name": "#%% md\n"
    }
   },
   "source": [
    "## 3.0 Build a pandas data frame"
   ]
  },
  {
   "cell_type": "code",
   "execution_count": 6,
   "metadata": {
    "collapsed": false,
    "jupyter": {
     "outputs_hidden": false
    },
    "pycharm": {
     "name": "#%%\n"
    }
   },
   "outputs": [],
   "source": [
    "# Remember the project units\n",
    "units = {'length': project.unit('length'),\n",
    "         'mass': project.unit('mass'),\n",
    "         'pressure': project.unit('pressure'),\n",
    "         'slurry volume': orchid.slurry_rate_volume_unit(project.unit('slurry rate')),\n",
    "         'proppant mass': orchid.proppant_concentration_mass_unit(\n",
    "             project.unit('proppant concentration'))}"
   ]
  },
  {
   "cell_type": "code",
   "execution_count": 7,
   "metadata": {
    "collapsed": false,
    "jupyter": {
     "outputs_hidden": false
    },
    "pycharm": {
     "name": "#%%\n"
    }
   },
   "outputs": [],
   "source": [
    "# Calculate the stage results\n",
    "stage_results = []\n",
    "for well in project.wells:\n",
    "    stages = list(well.stages)\n",
    "\n",
    "    for stage in stages:\n",
    "        \n",
    "        treatment_aggregates = compute_stage_treatment_aggregates(stage)\n",
    "        # Skip stages with no aggregates. These stages most likely are from \n",
    "        # an untreated monitor well.\n",
    "        if not treatment_aggregates:\n",
    "            continue\n",
    "            \n",
    "        stage_fluid, stage_proppant, median_stage_pressure = treatment_aggregates\n",
    "        stage_results.append((project.name, well.name, stage.display_stage_number,\n",
    "                              stage.md_top(units['length']).magnitude,\n",
    "                              stage.md_bottom(units['length']).magnitude,\n",
    "                              stage_fluid, stage_proppant, median_stage_pressure))"
   ]
  },
  {
   "cell_type": "code",
   "execution_count": 8,
   "metadata": {
    "collapsed": false,
    "jupyter": {
     "outputs_hidden": false
    },
    "pycharm": {
     "name": "#%%\n"
    }
   },
   "outputs": [
    {
     "data": {
      "text/html": [
       "<div>\n",
       "<style scoped>\n",
       "    .dataframe tbody tr th:only-of-type {\n",
       "        vertical-align: middle;\n",
       "    }\n",
       "\n",
       "    .dataframe tbody tr th {\n",
       "        vertical-align: top;\n",
       "    }\n",
       "\n",
       "    .dataframe thead th {\n",
       "        text-align: right;\n",
       "    }\n",
       "</style>\n",
       "<table border=\"1\" class=\"dataframe\">\n",
       "  <thead>\n",
       "    <tr style=\"text-align: right;\">\n",
       "      <th></th>\n",
       "      <th>Project</th>\n",
       "      <th>Well</th>\n",
       "      <th>Stage</th>\n",
       "      <th>MD Top (ft)</th>\n",
       "      <th>MD Bottom (ft)</th>\n",
       "      <th>Total Fluid (bbl)</th>\n",
       "      <th>Total Proppant (lb)</th>\n",
       "      <th>Median Treating Pressure (psi)</th>\n",
       "    </tr>\n",
       "  </thead>\n",
       "  <tbody>\n",
       "    <tr>\n",
       "      <th>0</th>\n",
       "      <td>frankNstein_Bakken_UTM13_FEET</td>\n",
       "      <td>Demo_1H</td>\n",
       "      <td>1</td>\n",
       "      <td>20883.34</td>\n",
       "      <td>20934.00</td>\n",
       "      <td>3668.300534</td>\n",
       "      <td>139702.110134</td>\n",
       "      <td>6164.037326</td>\n",
       "    </tr>\n",
       "    <tr>\n",
       "      <th>1</th>\n",
       "      <td>frankNstein_Bakken_UTM13_FEET</td>\n",
       "      <td>Demo_1H</td>\n",
       "      <td>2</td>\n",
       "      <td>20782.34</td>\n",
       "      <td>20785.34</td>\n",
       "      <td>4086.916893</td>\n",
       "      <td>204660.325538</td>\n",
       "      <td>6421.972222</td>\n",
       "    </tr>\n",
       "    <tr>\n",
       "      <th>2</th>\n",
       "      <td>frankNstein_Bakken_UTM13_FEET</td>\n",
       "      <td>Demo_1H</td>\n",
       "      <td>3</td>\n",
       "      <td>20582.34</td>\n",
       "      <td>20585.34</td>\n",
       "      <td>4018.791882</td>\n",
       "      <td>217688.550722</td>\n",
       "      <td>6490.994358</td>\n",
       "    </tr>\n",
       "    <tr>\n",
       "      <th>3</th>\n",
       "      <td>frankNstein_Bakken_UTM13_FEET</td>\n",
       "      <td>Demo_1H</td>\n",
       "      <td>4</td>\n",
       "      <td>20358.34</td>\n",
       "      <td>20410.34</td>\n",
       "      <td>4055.974090</td>\n",
       "      <td>233981.926535</td>\n",
       "      <td>6516.329427</td>\n",
       "    </tr>\n",
       "    <tr>\n",
       "      <th>4</th>\n",
       "      <td>frankNstein_Bakken_UTM13_FEET</td>\n",
       "      <td>Demo_1H</td>\n",
       "      <td>5</td>\n",
       "      <td>20158.34</td>\n",
       "      <td>20210.34</td>\n",
       "      <td>4076.240254</td>\n",
       "      <td>215513.673232</td>\n",
       "      <td>6461.559028</td>\n",
       "    </tr>\n",
       "  </tbody>\n",
       "</table>\n",
       "</div>"
      ],
      "text/plain": [
       "                         Project     Well  Stage  MD Top (ft)  MD Bottom (ft)  \\\n",
       "0  frankNstein_Bakken_UTM13_FEET  Demo_1H      1     20883.34        20934.00   \n",
       "1  frankNstein_Bakken_UTM13_FEET  Demo_1H      2     20782.34        20785.34   \n",
       "2  frankNstein_Bakken_UTM13_FEET  Demo_1H      3     20582.34        20585.34   \n",
       "3  frankNstein_Bakken_UTM13_FEET  Demo_1H      4     20358.34        20410.34   \n",
       "4  frankNstein_Bakken_UTM13_FEET  Demo_1H      5     20158.34        20210.34   \n",
       "\n",
       "   Total Fluid (bbl)  Total Proppant (lb)  Median Treating Pressure (psi)  \n",
       "0        3668.300534        139702.110134                     6164.037326  \n",
       "1        4086.916893        204660.325538                     6421.972222  \n",
       "2        4018.791882        217688.550722                     6490.994358  \n",
       "3        4055.974090        233981.926535                     6516.329427  \n",
       "4        4076.240254        215513.673232                     6461.559028  "
      ]
     },
     "execution_count": 8,
     "metadata": {},
     "output_type": "execute_result"
    }
   ],
   "source": [
    "# Create the data frame\n",
    "columns = ['Project',\n",
    "           'Well',\n",
    "           'Stage',\n",
    "           f'MD Top ({units[\"length\"]})',\n",
    "           f'MD Bottom ({units[\"length\"]})',\n",
    "           f'Total Fluid ({units[\"slurry volume\"]})',\n",
    "           f'Total Proppant ({units[\"proppant mass\"]})',\n",
    "           f'Median Treating Pressure ({units[\"pressure\"]})']\n",
    "stage_summaries = pd.DataFrame(data=stage_results, columns=columns)\n",
    "stage_summaries.head()"
   ]
  },
  {
   "cell_type": "markdown",
   "metadata": {
    "pycharm": {
     "name": "#%% md\n"
    }
   },
   "source": [
    "### 3.1 Compute the stage length directly from the data frame"
   ]
  },
  {
   "cell_type": "code",
   "execution_count": 9,
   "metadata": {
    "collapsed": false,
    "jupyter": {
     "outputs_hidden": false
    },
    "pycharm": {
     "name": "#%%"
    }
   },
   "outputs": [
    {
     "data": {
      "text/html": [
       "<div>\n",
       "<style scoped>\n",
       "    .dataframe tbody tr th:only-of-type {\n",
       "        vertical-align: middle;\n",
       "    }\n",
       "\n",
       "    .dataframe tbody tr th {\n",
       "        vertical-align: top;\n",
       "    }\n",
       "\n",
       "    .dataframe thead th {\n",
       "        text-align: right;\n",
       "    }\n",
       "</style>\n",
       "<table border=\"1\" class=\"dataframe\">\n",
       "  <thead>\n",
       "    <tr style=\"text-align: right;\">\n",
       "      <th></th>\n",
       "      <th>Project</th>\n",
       "      <th>Well</th>\n",
       "      <th>Stage</th>\n",
       "      <th>MD Top (ft)</th>\n",
       "      <th>MD Bottom (ft)</th>\n",
       "      <th>Total Fluid (bbl)</th>\n",
       "      <th>Total Proppant (lb)</th>\n",
       "      <th>Median Treating Pressure (psi)</th>\n",
       "      <th>Stage Length (ft)</th>\n",
       "    </tr>\n",
       "  </thead>\n",
       "  <tbody>\n",
       "    <tr>\n",
       "      <th>0</th>\n",
       "      <td>frankNstein_Bakken_UTM13_FEET</td>\n",
       "      <td>Demo_1H</td>\n",
       "      <td>1</td>\n",
       "      <td>20883.34</td>\n",
       "      <td>20934.00</td>\n",
       "      <td>3668.300534</td>\n",
       "      <td>139702.110134</td>\n",
       "      <td>6164.037326</td>\n",
       "      <td>50.66</td>\n",
       "    </tr>\n",
       "    <tr>\n",
       "      <th>1</th>\n",
       "      <td>frankNstein_Bakken_UTM13_FEET</td>\n",
       "      <td>Demo_1H</td>\n",
       "      <td>2</td>\n",
       "      <td>20782.34</td>\n",
       "      <td>20785.34</td>\n",
       "      <td>4086.916893</td>\n",
       "      <td>204660.325538</td>\n",
       "      <td>6421.972222</td>\n",
       "      <td>3.00</td>\n",
       "    </tr>\n",
       "    <tr>\n",
       "      <th>2</th>\n",
       "      <td>frankNstein_Bakken_UTM13_FEET</td>\n",
       "      <td>Demo_1H</td>\n",
       "      <td>3</td>\n",
       "      <td>20582.34</td>\n",
       "      <td>20585.34</td>\n",
       "      <td>4018.791882</td>\n",
       "      <td>217688.550722</td>\n",
       "      <td>6490.994358</td>\n",
       "      <td>3.00</td>\n",
       "    </tr>\n",
       "    <tr>\n",
       "      <th>3</th>\n",
       "      <td>frankNstein_Bakken_UTM13_FEET</td>\n",
       "      <td>Demo_1H</td>\n",
       "      <td>4</td>\n",
       "      <td>20358.34</td>\n",
       "      <td>20410.34</td>\n",
       "      <td>4055.974090</td>\n",
       "      <td>233981.926535</td>\n",
       "      <td>6516.329427</td>\n",
       "      <td>52.00</td>\n",
       "    </tr>\n",
       "    <tr>\n",
       "      <th>4</th>\n",
       "      <td>frankNstein_Bakken_UTM13_FEET</td>\n",
       "      <td>Demo_1H</td>\n",
       "      <td>5</td>\n",
       "      <td>20158.34</td>\n",
       "      <td>20210.34</td>\n",
       "      <td>4076.240254</td>\n",
       "      <td>215513.673232</td>\n",
       "      <td>6461.559028</td>\n",
       "      <td>52.00</td>\n",
       "    </tr>\n",
       "  </tbody>\n",
       "</table>\n",
       "</div>"
      ],
      "text/plain": [
       "                         Project     Well  Stage  MD Top (ft)  MD Bottom (ft)  \\\n",
       "0  frankNstein_Bakken_UTM13_FEET  Demo_1H      1     20883.34        20934.00   \n",
       "1  frankNstein_Bakken_UTM13_FEET  Demo_1H      2     20782.34        20785.34   \n",
       "2  frankNstein_Bakken_UTM13_FEET  Demo_1H      3     20582.34        20585.34   \n",
       "3  frankNstein_Bakken_UTM13_FEET  Demo_1H      4     20358.34        20410.34   \n",
       "4  frankNstein_Bakken_UTM13_FEET  Demo_1H      5     20158.34        20210.34   \n",
       "\n",
       "   Total Fluid (bbl)  Total Proppant (lb)  Median Treating Pressure (psi)  \\\n",
       "0        3668.300534        139702.110134                     6164.037326   \n",
       "1        4086.916893        204660.325538                     6421.972222   \n",
       "2        4018.791882        217688.550722                     6490.994358   \n",
       "3        4055.974090        233981.926535                     6516.329427   \n",
       "4        4076.240254        215513.673232                     6461.559028   \n",
       "\n",
       "   Stage Length (ft)  \n",
       "0              50.66  \n",
       "1               3.00  \n",
       "2               3.00  \n",
       "3              52.00  \n",
       "4              52.00  "
      ]
     },
     "execution_count": 9,
     "metadata": {},
     "output_type": "execute_result"
    }
   ],
   "source": [
    "stage_summaries[f'Stage Length ({units[\"length\"]})'] = \\\n",
    "    stage_summaries.apply(lambda s: s[columns[4]] - s[columns[3]], axis=1)\n",
    "columns = stage_summaries.columns\n",
    "stage_summaries.head()"
   ]
  },
  {
   "cell_type": "markdown",
   "metadata": {
    "pycharm": {
     "name": "#%% md\n"
    }
   },
   "source": [
    "### 3.2 Now compute the proppant loading for each stage"
   ]
  },
  {
   "cell_type": "code",
   "execution_count": 10,
   "metadata": {
    "collapsed": false,
    "jupyter": {
     "outputs_hidden": false
    },
    "pycharm": {
     "name": "#%%\n"
    }
   },
   "outputs": [
    {
     "data": {
      "text/html": [
       "<div>\n",
       "<style scoped>\n",
       "    .dataframe tbody tr th:only-of-type {\n",
       "        vertical-align: middle;\n",
       "    }\n",
       "\n",
       "    .dataframe tbody tr th {\n",
       "        vertical-align: top;\n",
       "    }\n",
       "\n",
       "    .dataframe thead th {\n",
       "        text-align: right;\n",
       "    }\n",
       "</style>\n",
       "<table border=\"1\" class=\"dataframe\">\n",
       "  <thead>\n",
       "    <tr style=\"text-align: right;\">\n",
       "      <th></th>\n",
       "      <th>Project</th>\n",
       "      <th>Well</th>\n",
       "      <th>Stage</th>\n",
       "      <th>MD Top (ft)</th>\n",
       "      <th>MD Bottom (ft)</th>\n",
       "      <th>Total Fluid (bbl)</th>\n",
       "      <th>Total Proppant (lb)</th>\n",
       "      <th>Median Treating Pressure (psi)</th>\n",
       "      <th>Stage Length (ft)</th>\n",
       "      <th>Proppant loading (lb/ft)</th>\n",
       "    </tr>\n",
       "  </thead>\n",
       "  <tbody>\n",
       "    <tr>\n",
       "      <th>0</th>\n",
       "      <td>frankNstein_Bakken_UTM13_FEET</td>\n",
       "      <td>Demo_1H</td>\n",
       "      <td>1</td>\n",
       "      <td>20883.34</td>\n",
       "      <td>20934.00</td>\n",
       "      <td>3668.300534</td>\n",
       "      <td>139702.110134</td>\n",
       "      <td>6164.037326</td>\n",
       "      <td>50.66</td>\n",
       "      <td>2757.641337</td>\n",
       "    </tr>\n",
       "    <tr>\n",
       "      <th>1</th>\n",
       "      <td>frankNstein_Bakken_UTM13_FEET</td>\n",
       "      <td>Demo_1H</td>\n",
       "      <td>2</td>\n",
       "      <td>20782.34</td>\n",
       "      <td>20785.34</td>\n",
       "      <td>4086.916893</td>\n",
       "      <td>204660.325538</td>\n",
       "      <td>6421.972222</td>\n",
       "      <td>3.00</td>\n",
       "      <td>68220.108513</td>\n",
       "    </tr>\n",
       "    <tr>\n",
       "      <th>2</th>\n",
       "      <td>frankNstein_Bakken_UTM13_FEET</td>\n",
       "      <td>Demo_1H</td>\n",
       "      <td>3</td>\n",
       "      <td>20582.34</td>\n",
       "      <td>20585.34</td>\n",
       "      <td>4018.791882</td>\n",
       "      <td>217688.550722</td>\n",
       "      <td>6490.994358</td>\n",
       "      <td>3.00</td>\n",
       "      <td>72562.850241</td>\n",
       "    </tr>\n",
       "    <tr>\n",
       "      <th>3</th>\n",
       "      <td>frankNstein_Bakken_UTM13_FEET</td>\n",
       "      <td>Demo_1H</td>\n",
       "      <td>4</td>\n",
       "      <td>20358.34</td>\n",
       "      <td>20410.34</td>\n",
       "      <td>4055.974090</td>\n",
       "      <td>233981.926535</td>\n",
       "      <td>6516.329427</td>\n",
       "      <td>52.00</td>\n",
       "      <td>4499.652433</td>\n",
       "    </tr>\n",
       "    <tr>\n",
       "      <th>4</th>\n",
       "      <td>frankNstein_Bakken_UTM13_FEET</td>\n",
       "      <td>Demo_1H</td>\n",
       "      <td>5</td>\n",
       "      <td>20158.34</td>\n",
       "      <td>20210.34</td>\n",
       "      <td>4076.240254</td>\n",
       "      <td>215513.673232</td>\n",
       "      <td>6461.559028</td>\n",
       "      <td>52.00</td>\n",
       "      <td>4144.493716</td>\n",
       "    </tr>\n",
       "  </tbody>\n",
       "</table>\n",
       "</div>"
      ],
      "text/plain": [
       "                         Project     Well  Stage  MD Top (ft)  MD Bottom (ft)  \\\n",
       "0  frankNstein_Bakken_UTM13_FEET  Demo_1H      1     20883.34        20934.00   \n",
       "1  frankNstein_Bakken_UTM13_FEET  Demo_1H      2     20782.34        20785.34   \n",
       "2  frankNstein_Bakken_UTM13_FEET  Demo_1H      3     20582.34        20585.34   \n",
       "3  frankNstein_Bakken_UTM13_FEET  Demo_1H      4     20358.34        20410.34   \n",
       "4  frankNstein_Bakken_UTM13_FEET  Demo_1H      5     20158.34        20210.34   \n",
       "\n",
       "   Total Fluid (bbl)  Total Proppant (lb)  Median Treating Pressure (psi)  \\\n",
       "0        3668.300534        139702.110134                     6164.037326   \n",
       "1        4086.916893        204660.325538                     6421.972222   \n",
       "2        4018.791882        217688.550722                     6490.994358   \n",
       "3        4055.974090        233981.926535                     6516.329427   \n",
       "4        4076.240254        215513.673232                     6461.559028   \n",
       "\n",
       "   Stage Length (ft)  Proppant loading (lb/ft)  \n",
       "0              50.66               2757.641337  \n",
       "1               3.00              68220.108513  \n",
       "2               3.00              72562.850241  \n",
       "3              52.00               4499.652433  \n",
       "4              52.00               4144.493716  "
      ]
     },
     "execution_count": 10,
     "metadata": {},
     "output_type": "execute_result"
    }
   ],
   "source": [
    "stage_summaries[f'Proppant loading ({units[\"proppant mass\"]}/{units[\"length\"]})'] = \\\n",
    "    stage_summaries.apply(lambda s: s[columns[6]] / s[columns[8]], axis=1)\n",
    "stage_summaries.head()"
   ]
  },
  {
   "cell_type": "markdown",
   "metadata": {
    "pycharm": {
     "name": "#%% md\n"
    }
   },
   "source": [
    "## 4.0 Completion questions"
   ]
  },
  {
   "cell_type": "markdown",
   "metadata": {
    "pycharm": {
     "name": "#%% md\n"
    }
   },
   "source": [
    "### 4.1 What is the median proppant intensity per well?"
   ]
  },
  {
   "cell_type": "code",
   "execution_count": 11,
   "metadata": {
    "collapsed": false,
    "jupyter": {
     "outputs_hidden": false
    },
    "pycharm": {
     "name": "#%%\n"
    }
   },
   "outputs": [
    {
     "data": {
      "text/html": [
       "<div>\n",
       "<style scoped>\n",
       "    .dataframe tbody tr th:only-of-type {\n",
       "        vertical-align: middle;\n",
       "    }\n",
       "\n",
       "    .dataframe tbody tr th {\n",
       "        vertical-align: top;\n",
       "    }\n",
       "\n",
       "    .dataframe thead th {\n",
       "        text-align: right;\n",
       "    }\n",
       "</style>\n",
       "<table border=\"1\" class=\"dataframe\">\n",
       "  <thead>\n",
       "    <tr style=\"text-align: right;\">\n",
       "      <th></th>\n",
       "      <th>Stage Length (ft)</th>\n",
       "    </tr>\n",
       "    <tr>\n",
       "      <th>Well</th>\n",
       "      <th></th>\n",
       "    </tr>\n",
       "  </thead>\n",
       "  <tbody>\n",
       "    <tr>\n",
       "      <th>Demo_1H</th>\n",
       "      <td>147.225</td>\n",
       "    </tr>\n",
       "    <tr>\n",
       "      <th>Demo_2H</th>\n",
       "      <td>148.050</td>\n",
       "    </tr>\n",
       "    <tr>\n",
       "      <th>Demo_4H</th>\n",
       "      <td>245.000</td>\n",
       "    </tr>\n",
       "  </tbody>\n",
       "</table>\n",
       "</div>"
      ],
      "text/plain": [
       "         Stage Length (ft)\n",
       "Well                      \n",
       "Demo_1H            147.225\n",
       "Demo_2H            148.050\n",
       "Demo_4H            245.000"
      ]
     },
     "execution_count": 11,
     "metadata": {},
     "output_type": "execute_result"
    }
   ],
   "source": [
    "stage_summaries[[columns[1], columns[-1]]].groupby(columns[1]).median()"
   ]
  },
  {
   "cell_type": "code",
   "execution_count": null,
   "outputs": [],
   "source": [],
   "metadata": {
    "collapsed": false,
    "pycharm": {
     "name": "#%%\n"
    }
   }
  },
  {
   "cell_type": "code",
   "execution_count": null,
   "metadata": {},
   "outputs": [],
   "source": []
  }
 ],
 "metadata": {
  "kernelspec": {
   "display_name": "Python 3",
   "language": "python",
   "name": "python3"
  },
  "language_info": {
   "codemirror_mode": {
    "name": "ipython",
    "version": 3
   },
   "file_extension": ".py",
   "mimetype": "text/x-python",
   "name": "python",
   "nbconvert_exporter": "python",
   "pygments_lexer": "ipython3",
   "version": "3.7.7"
  }
 },
 "nbformat": 4,
 "nbformat_minor": 4
}