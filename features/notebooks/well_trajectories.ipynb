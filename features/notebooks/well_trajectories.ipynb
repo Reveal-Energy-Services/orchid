{
 "cells": [
  {
   "cell_type": "code",
   "execution_count": 1,
   "metadata": {
    "collapsed": false,
    "jupyter": {
     "outputs_hidden": false
    },
    "pycharm": {
     "name": "#%%\n"
    }
   },
   "outputs": [],
   "source": [
    "import pathlib\n",
    "import pprint\n",
    "import random"
   ]
  },
  {
   "cell_type": "code",
   "execution_count": 2,
   "metadata": {
    "collapsed": false,
    "jupyter": {
     "outputs_hidden": false
    },
    "pycharm": {
     "name": "#%%\n"
    }
   },
   "outputs": [],
   "source": [
    "import numpy as np\n",
    "import matplotlib.pyplot as plt\n",
    "import pandas as pd\n",
    "import seaborn as sns"
   ]
  },
  {
   "cell_type": "code",
   "execution_count": 3,
   "metadata": {
    "collapsed": false,
    "jupyter": {
     "outputs_hidden": false
    },
    "pycharm": {
     "name": "#%%\n"
    }
   },
   "outputs": [],
   "source": [
    "from orchid import (\n",
    "    core as oc,\n",
    "    net_quantity as onq,\n",
    "    unit_system as units,\n",
    ")"
   ]
  },
  {
   "cell_type": "code",
   "execution_count": 4,
   "metadata": {
    "collapsed": false,
    "jupyter": {
     "outputs_hidden": false
    },
    "pycharm": {
     "name": "#%%\n"
    }
   },
   "outputs": [],
   "source": [
    "import option\n",
    "import toolz.curried as toolz"
   ]
  },
  {
   "cell_type": "code",
   "execution_count": 5,
   "metadata": {
    "collapsed": false,
    "jupyter": {
     "outputs_hidden": false
    },
    "pycharm": {
     "name": "#%%\n"
    }
   },
   "outputs": [],
   "source": [
    "# noinspection PyUnresolvedReferences\n",
    "from Orchid.FractureDiagnostics import WellReferenceFrameXy, DepthDatum\n",
    "# noinspection PyUnresolvedReferences\n",
    "import UnitsNet\n",
    "# noinspection PyUnresolvedReferences\n",
    "from System import Array, Int32"
   ]
  },
  {
   "cell_type": "code",
   "execution_count": 6,
   "metadata": {
    "collapsed": false,
    "jupyter": {
     "outputs_hidden": false
    },
    "pycharm": {
     "name": "#%%\n"
    }
   },
   "outputs": [],
   "source": [
    "project_filenames = {\n",
    "    'bakken': 'frankNstein_Bakken_UTM13_FEET.ifrac',\n",
    "    'montney': 'Project-frankNstein_Montney_UTM13_METERS.ifrac',\n",
    "    'permian': 'Project_frankNstein_Permian_UTM13_FEET.ifrac'\n",
    "}"
   ]
  },
  {
   "cell_type": "code",
   "execution_count": 7,
   "metadata": {
    "collapsed": false,
    "jupyter": {
     "outputs_hidden": false
    },
    "pycharm": {
     "name": "#%%\n"
    }
   },
   "outputs": [
    {
     "name": "stdout",
     "output_type": "stream",
     "text": [
      "{'bakken': <orchid.project.Project object at 0x000001FA1A4BB6D0>,\n",
      " 'montney': <orchid.project.Project object at 0x000001FA1A4B0820>,\n",
      " 'permian': <orchid.project.Project object at 0x000001FA1A4BDD90>}\n"
     ]
    }
   ],
   "source": [
    "projects = toolz.pipe(\n",
    "    project_filenames,\n",
    "    toolz.valmap(lambda fn: str(pathlib.Path(r'c:\\src\\Orchid.IntegrationTestData').joinpath(fn))),\n",
    "    toolz.valmap(toolz.curry(oc.load_project)),\n",
    ")\n",
    "pprint.pprint(projects)"
   ]
  },
  {
   "cell_type": "code",
   "execution_count": 8,
   "metadata": {
    "collapsed": false,
    "jupyter": {
     "outputs_hidden": false
    },
    "pycharm": {
     "name": "#%%\n"
    }
   },
   "outputs": [
    {
     "name": "stdout",
     "output_type": "stream",
     "text": [
      "{'bakken': <Orchid.FractureDiagnostics.Factories.Implementations.Project object at 0x000001FA1A4BDC70>,\n",
      " 'montney': <Orchid.FractureDiagnostics.Factories.Implementations.Project object at 0x000001FA1A4BDD60>,\n",
      " 'permian': <Orchid.FractureDiagnostics.Factories.Implementations.Project object at 0x000001FA1A4BDEE0>}\n"
     ]
    }
   ],
   "source": [
    "native_projects = toolz.valmap(lambda p: p.dom_object, projects)\n",
    "pprint.pprint(native_projects)"
   ]
  },
  {
   "cell_type": "code",
   "execution_count": 9,
   "metadata": {
    "collapsed": false,
    "jupyter": {
     "outputs_hidden": false
    },
    "pycharm": {
     "name": "#%%\n"
    }
   },
   "outputs": [
    {
     "name": "stdout",
     "output_type": "stream",
     "text": [
      "{'bakken': {'Demo_1H': <Orchid.FractureDiagnostics.Factories.Implementations.Well object at 0x000001FA440C8D00>,\n",
      "            'Demo_2H': <Orchid.FractureDiagnostics.Factories.Implementations.Well object at 0x000001FA440C8D30>,\n",
      "            'Demo_3H': <Orchid.FractureDiagnostics.Factories.Implementations.Well object at 0x000001FA440C8D60>,\n",
      "            'Demo_4H': <Orchid.FractureDiagnostics.Factories.Implementations.Well object at 0x000001FA440C8D90>},\n",
      " 'montney': {'Hori_01': <Orchid.FractureDiagnostics.Factories.Implementations.Well object at 0x000001FA440C8DC0>,\n",
      "             'Hori_02': <Orchid.FractureDiagnostics.Factories.Implementations.Well object at 0x000001FA440C8DF0>,\n",
      "             'Hori_03': <Orchid.FractureDiagnostics.Factories.Implementations.Well object at 0x000001FA440C8E20>,\n",
      "             'Vert_01': <Orchid.FractureDiagnostics.Factories.Implementations.Well object at 0x000001FA440C8E50>},\n",
      " 'permian': {'C1': <Orchid.FractureDiagnostics.Factories.Implementations.Well object at 0x000001FA440C8E80>,\n",
      "             'C2': <Orchid.FractureDiagnostics.Factories.Implementations.Well object at 0x000001FA440C8EB0>,\n",
      "             'C3': <Orchid.FractureDiagnostics.Factories.Implementations.Well object at 0x000001FA440C8EE0>,\n",
      "             'P1': <Orchid.FractureDiagnostics.Factories.Implementations.Well object at 0x000001FA440C8F10>}}\n"
     ]
    }
   ],
   "source": [
    "wells = toolz.pipe(native_projects,\n",
    "    toolz.valmap(lambda native_project: native_project.Wells.Items),\n",
    "    toolz.valmap(lambda well_map: [(w.Name, w) for w in well_map]),\n",
    "    toolz.valmap(dict))\n",
    "pprint.pprint(wells)"
   ]
  },
  {
   "cell_type": "code",
   "execution_count": 10,
   "metadata": {
    "collapsed": false,
    "jupyter": {
     "outputs_hidden": false
    },
    "pycharm": {
     "name": "#%%\n"
    }
   },
   "outputs": [
    {
     "name": "stdout",
     "output_type": "stream",
     "text": [
      "{'bakken': {'Demo_1H': <Orchid.FractureDiagnostics.Factories.Implementations.WellTrajectory object at 0x000001FA440CB100>,\n",
      "            'Demo_2H': <Orchid.FractureDiagnostics.Factories.Implementations.WellTrajectory object at 0x000001FA440CB130>,\n",
      "            'Demo_3H': <Orchid.FractureDiagnostics.Factories.Implementations.WellTrajectory object at 0x000001FA440CB160>,\n",
      "            'Demo_4H': <Orchid.FractureDiagnostics.Factories.Implementations.WellTrajectory object at 0x000001FA440CB190>},\n",
      " 'montney': {'Hori_01': <Orchid.FractureDiagnostics.Factories.Implementations.WellTrajectory object at 0x000001FA1A4B0D60>,\n",
      "             'Hori_02': <Orchid.FractureDiagnostics.Factories.Implementations.WellTrajectory object at 0x000001FA440CB1C0>,\n",
      "             'Hori_03': <Orchid.FractureDiagnostics.Factories.Implementations.WellTrajectory object at 0x000001FA440CB220>,\n",
      "             'Vert_01': <Orchid.FractureDiagnostics.Factories.Implementations.WellTrajectory object at 0x000001FA440CB250>},\n",
      " 'permian': {'C1': <Orchid.FractureDiagnostics.Factories.Implementations.WellTrajectory object at 0x000001FA440CB1F0>,\n",
      "             'C2': <Orchid.FractureDiagnostics.Factories.Implementations.WellTrajectory object at 0x000001FA440CB280>,\n",
      "             'C3': <Orchid.FractureDiagnostics.Factories.Implementations.WellTrajectory object at 0x000001FA440CB2E0>,\n",
      "             'P1': <Orchid.FractureDiagnostics.Factories.Implementations.WellTrajectory object at 0x000001FA440CB310>}}\n"
     ]
    }
   ],
   "source": [
    "trajectories = toolz.valmap(toolz.valmap(lambda w: w.Trajectory), wells)\n",
    "pprint.pprint(trajectories)"
   ]
  },
  {
   "cell_type": "code",
   "execution_count": 11,
   "metadata": {
    "collapsed": false,
    "jupyter": {
     "outputs_hidden": false
    },
    "pycharm": {
     "name": "#%%\n"
    }
   },
   "outputs": [
    {
     "name": "stdout",
     "output_type": "stream",
     "text": [
      "{'bakken': <enum 'UsOilfield'>,\n",
      " 'montney': <enum 'Metric'>,\n",
      " 'permian': <enum 'UsOilfield'>}\n"
     ]
    }
   ],
   "source": [
    "project_units = toolz.valmap(lambda p: p.project_units, projects)\n",
    "pprint.pprint(project_units)"
   ]
  },
  {
   "cell_type": "code",
   "execution_count": 12,
   "metadata": {
    "collapsed": false,
    "jupyter": {
     "outputs_hidden": false
    },
    "pycharm": {
     "name": "#%%\n"
    }
   },
   "outputs": [],
   "source": [
    "project_name = 'bakken'\n",
    "well_name = 'Demo_1H'\n",
    "samples = [0, 252, 146, 174, 99, 185]"
   ]
  },
  {
   "cell_type": "code",
   "execution_count": 13,
   "metadata": {
    "collapsed": false,
    "jupyter": {
     "outputs_hidden": false
    },
    "pycharm": {
     "name": "#%%\n"
    }
   },
   "outputs": [
    {
     "name": "stdout",
     "output_type": "stream",
     "text": [
      "['-12994.1290 ft',\n",
      " '-23009.8780 ft',\n",
      " '-13280.2590 ft',\n",
      " '-15903.3980 ft',\n",
      " '-12731.8390 ft',\n",
      " '-16947.1980 ft']\n"
     ]
    }
   ],
   "source": [
    "eastings = toolz.pipe(\n",
    "    trajectories,\n",
    "    toolz.get_in([project_name, well_name]),\n",
    "    lambda t: t.GetEastingArray(WellReferenceFrameXy.Project),\n",
    "    toolz.map(lambda ne: onq.as_measurement(project_units[project_name].LENGTH, option.maybe(ne))),\n",
    "    list,\n",
    "    toolz.get(samples),\n",
    "    toolz.map(lambda e: f'{e.magnitude:.4f} {e.units:~P}'),\n",
    "    list,\n",
    ")\n",
    "pprint.pprint(eastings)"
   ]
  },
  {
   "cell_type": "code",
   "execution_count": 14,
   "metadata": {
    "collapsed": false,
    "jupyter": {
     "outputs_hidden": false
    },
    "pycharm": {
     "name": "#%%\n"
    }
   },
   "outputs": [
    {
     "name": "stdout",
     "output_type": "stream",
     "text": [
      "['35548.8500 ft',\n",
      " '36879.1400 ft',\n",
      " '36869.5100 ft',\n",
      " '36872.5900 ft',\n",
      " '36546.6200 ft',\n",
      " '36880.4600 ft']\n"
     ]
    }
   ],
   "source": [
    "northings = toolz.pipe(\n",
    "    trajectories,\n",
    "    toolz.get_in([project_name, well_name]),\n",
    "    lambda t: t.GetNorthingArray(WellReferenceFrameXy.Project),\n",
    "    toolz.map(lambda ne: onq.as_measurement(project_units[project_name].LENGTH, option.maybe(ne))),\n",
    "    list,\n",
    "    toolz.get(samples),\n",
    "    toolz.map(lambda e: f'{e.magnitude:.4f} {e.units:~P}'),\n",
    "    list,\n",
    ")\n",
    "pprint.pprint(northings)"
   ]
  },
  {
   "cell_type": "code",
   "execution_count": 15,
   "metadata": {
    "collapsed": false,
    "jupyter": {
     "outputs_hidden": false
    },
    "pycharm": {
     "name": "#%%\n"
    }
   },
   "outputs": [
    {
     "name": "stdout",
     "output_type": "stream",
     "text": [
      "['0.0000 ft',\n",
      " '10705.2410 ft',\n",
      " '10769.8474 ft',\n",
      " '10750.7877 ft',\n",
      " '8609.4420 ft',\n",
      " '10739.3417 ft']\n"
     ]
    }
   ],
   "source": [
    "tvdSss = toolz.pipe(\n",
    "    trajectories,\n",
    "    toolz.get_in([project_name, well_name]),\n",
    "    lambda t: t.GetTvdArray(DepthDatum.SeaLevel),\n",
    "    toolz.map(lambda ne: onq.as_measurement(project_units[project_name].LENGTH, option.maybe(ne))),\n",
    "    list,\n",
    "    toolz.get(samples),\n",
    "    toolz.map(lambda e: f'{e.magnitude:.4f} {e.units:~P}'),\n",
    "    list,\n",
    ")\n",
    "pprint.pprint(tvdSss)"
   ]
  },
  {
   "cell_type": "code",
   "execution_count": 16,
   "metadata": {
    "collapsed": false,
    "jupyter": {
     "outputs_hidden": false
    },
    "pycharm": {
     "name": "#%%\n"
    }
   },
   "outputs": [
    {
     "name": "stdout",
     "output_type": "stream",
     "text": [
      "['0.0000 deg',\n",
      " '0.0000 deg',\n",
      " '0.0000 deg',\n",
      " '0.0000 deg',\n",
      " '0.0000 deg',\n",
      " '0.0000 deg']\n"
     ]
    }
   ],
   "source": [
    "inclinations = toolz.pipe(\n",
    "    trajectories,\n",
    "    toolz.get_in([project_name, well_name]),\n",
    "    lambda t: t.GetInclinationArray(),\n",
    "    toolz.map(lambda ne: onq.as_measurement(units.Common.ANGLE, option.maybe(ne))),\n",
    "    list,\n",
    "    toolz.get(samples),\n",
    "    toolz.map(lambda e: f'{e.magnitude:.4f} {e.units:~P}'),\n",
    "    list,\n",
    ")\n",
    "pprint.pprint(inclinations)"
   ]
  },
  {
   "cell_type": "code",
   "execution_count": 17,
   "metadata": {
    "collapsed": false,
    "jupyter": {
     "outputs_hidden": false
    },
    "pycharm": {
     "name": "#%%\n"
    }
   },
   "outputs": [
    {
     "name": "stdout",
     "output_type": "stream",
     "text": [
      "['0.0000 deg',\n",
      " '0.0000 deg',\n",
      " '0.0000 deg',\n",
      " '0.0000 deg',\n",
      " '0.0000 deg',\n",
      " '0.0000 deg']\n"
     ]
    }
   ],
   "source": [
    "azimuths = toolz.pipe(\n",
    "    trajectories,\n",
    "    toolz.get_in([project_name, well_name]),\n",
    "    lambda t: t.GetAzimuthEastOfNorthArray(),\n",
    "    toolz.map(lambda ne: onq.as_measurement(units.Common.ANGLE, option.maybe(ne))),\n",
    "    list,\n",
    "    toolz.get(samples),\n",
    "    toolz.map(lambda e: f'{e.magnitude:.4f} {e.units:~P}'),\n",
    "    list,\n",
    ")\n",
    "pprint.pprint(azimuths)"
   ]
  },
  {
   "cell_type": "code",
   "execution_count": 18,
   "metadata": {
    "collapsed": false,
    "jupyter": {
     "outputs_hidden": false
    },
    "pycharm": {
     "name": "#%%\n"
    }
   },
   "outputs": [
    {
     "name": "stdout",
     "output_type": "stream",
     "text": [
      "['0.0000 ft',\n",
      " '21000.0000 ft',\n",
      " '11266.0000 ft',\n",
      " '13890.0000 ft',\n",
      " '8697.0000 ft',\n",
      " '14934.0000 ft']\n"
     ]
    }
   ],
   "source": [
    "mdKbs = toolz.pipe(\n",
    "    trajectories,\n",
    "    toolz.get_in([project_name, well_name]),\n",
    "    lambda t: t.GetMdKbArray(),\n",
    "    toolz.map(lambda ne: onq.as_measurement(project_units[project_name].LENGTH, option.maybe(ne))),\n",
    "    list,\n",
    "    toolz.get(samples),\n",
    "    toolz.map(lambda e: f'{e.magnitude:.4f} {e.units:~P}'),\n",
    "    list,\n",
    ")\n",
    "pprint.pprint(mdKbs)"
   ]
  },
  {
   "cell_type": "code",
   "execution_count": 19,
   "metadata": {},
   "outputs": [],
   "source": [
    "frame_data = {\n",
    "    'field': [project_name] * len(samples),\n",
    "    'well': [well_name] * len(samples),\n",
    "    'index': samples,\n",
    "    'easting': eastings,\n",
    "    'northing': northings,\n",
    "    'tvdss': tvdSss,\n",
    "    'inclination': inclinations,\n",
    "    'azimuth': azimuths,\n",
    "    'mdkb': mdKbs,\n",
    "}"
   ]
  },
  {
   "cell_type": "code",
   "execution_count": 20,
   "metadata": {},
   "outputs": [
    {
     "data": {
      "text/html": [
       "<div>\n",
       "<style scoped>\n",
       "    .dataframe tbody tr th:only-of-type {\n",
       "        vertical-align: middle;\n",
       "    }\n",
       "\n",
       "    .dataframe tbody tr th {\n",
       "        vertical-align: top;\n",
       "    }\n",
       "\n",
       "    .dataframe thead th {\n",
       "        text-align: right;\n",
       "    }\n",
       "</style>\n",
       "<table border=\"1\" class=\"dataframe\">\n",
       "  <thead>\n",
       "    <tr style=\"text-align: right;\">\n",
       "      <th></th>\n",
       "      <th>field</th>\n",
       "      <th>well</th>\n",
       "      <th>index</th>\n",
       "      <th>easting</th>\n",
       "      <th>northing</th>\n",
       "      <th>tvdss</th>\n",
       "      <th>inclination</th>\n",
       "      <th>azimuth</th>\n",
       "      <th>mdkb</th>\n",
       "    </tr>\n",
       "  </thead>\n",
       "  <tbody>\n",
       "    <tr>\n",
       "      <th>0</th>\n",
       "      <td>bakken</td>\n",
       "      <td>Demo_1H</td>\n",
       "      <td>0</td>\n",
       "      <td>-12994.1290 ft</td>\n",
       "      <td>35548.8500 ft</td>\n",
       "      <td>0.0000 ft</td>\n",
       "      <td>0.0000 deg</td>\n",
       "      <td>0.0000 deg</td>\n",
       "      <td>0.0000 ft</td>\n",
       "    </tr>\n",
       "    <tr>\n",
       "      <th>1</th>\n",
       "      <td>bakken</td>\n",
       "      <td>Demo_1H</td>\n",
       "      <td>252</td>\n",
       "      <td>-23009.8780 ft</td>\n",
       "      <td>36879.1400 ft</td>\n",
       "      <td>10705.2410 ft</td>\n",
       "      <td>0.0000 deg</td>\n",
       "      <td>0.0000 deg</td>\n",
       "      <td>21000.0000 ft</td>\n",
       "    </tr>\n",
       "    <tr>\n",
       "      <th>2</th>\n",
       "      <td>bakken</td>\n",
       "      <td>Demo_1H</td>\n",
       "      <td>146</td>\n",
       "      <td>-13280.2590 ft</td>\n",
       "      <td>36869.5100 ft</td>\n",
       "      <td>10769.8474 ft</td>\n",
       "      <td>0.0000 deg</td>\n",
       "      <td>0.0000 deg</td>\n",
       "      <td>11266.0000 ft</td>\n",
       "    </tr>\n",
       "    <tr>\n",
       "      <th>3</th>\n",
       "      <td>bakken</td>\n",
       "      <td>Demo_1H</td>\n",
       "      <td>174</td>\n",
       "      <td>-15903.3980 ft</td>\n",
       "      <td>36872.5900 ft</td>\n",
       "      <td>10750.7877 ft</td>\n",
       "      <td>0.0000 deg</td>\n",
       "      <td>0.0000 deg</td>\n",
       "      <td>13890.0000 ft</td>\n",
       "    </tr>\n",
       "    <tr>\n",
       "      <th>4</th>\n",
       "      <td>bakken</td>\n",
       "      <td>Demo_1H</td>\n",
       "      <td>99</td>\n",
       "      <td>-12731.8390 ft</td>\n",
       "      <td>36546.6200 ft</td>\n",
       "      <td>8609.4420 ft</td>\n",
       "      <td>0.0000 deg</td>\n",
       "      <td>0.0000 deg</td>\n",
       "      <td>8697.0000 ft</td>\n",
       "    </tr>\n",
       "    <tr>\n",
       "      <th>5</th>\n",
       "      <td>bakken</td>\n",
       "      <td>Demo_1H</td>\n",
       "      <td>185</td>\n",
       "      <td>-16947.1980 ft</td>\n",
       "      <td>36880.4600 ft</td>\n",
       "      <td>10739.3417 ft</td>\n",
       "      <td>0.0000 deg</td>\n",
       "      <td>0.0000 deg</td>\n",
       "      <td>14934.0000 ft</td>\n",
       "    </tr>\n",
       "  </tbody>\n",
       "</table>\n",
       "</div>"
      ],
      "text/plain": [
       "    field     well  index         easting       northing          tvdss  \\\n",
       "0  bakken  Demo_1H      0  -12994.1290 ft  35548.8500 ft      0.0000 ft   \n",
       "1  bakken  Demo_1H    252  -23009.8780 ft  36879.1400 ft  10705.2410 ft   \n",
       "2  bakken  Demo_1H    146  -13280.2590 ft  36869.5100 ft  10769.8474 ft   \n",
       "3  bakken  Demo_1H    174  -15903.3980 ft  36872.5900 ft  10750.7877 ft   \n",
       "4  bakken  Demo_1H     99  -12731.8390 ft  36546.6200 ft   8609.4420 ft   \n",
       "5  bakken  Demo_1H    185  -16947.1980 ft  36880.4600 ft  10739.3417 ft   \n",
       "\n",
       "  inclination     azimuth           mdkb  \n",
       "0  0.0000 deg  0.0000 deg      0.0000 ft  \n",
       "1  0.0000 deg  0.0000 deg  21000.0000 ft  \n",
       "2  0.0000 deg  0.0000 deg  11266.0000 ft  \n",
       "3  0.0000 deg  0.0000 deg  13890.0000 ft  \n",
       "4  0.0000 deg  0.0000 deg   8697.0000 ft  \n",
       "5  0.0000 deg  0.0000 deg  14934.0000 ft  "
      ]
     },
     "execution_count": 20,
     "metadata": {},
     "output_type": "execute_result"
    }
   ],
   "source": [
    "pd.DataFrame(data=frame_data)"
   ]
  },
  {
   "cell_type": "code",
   "execution_count": null,
   "metadata": {},
   "outputs": [],
   "source": []
  }
 ],
 "metadata": {
  "kernelspec": {
   "display_name": "Python 3 (ipykernel)",
   "language": "python",
   "name": "python3"
  },
  "language_info": {
   "codemirror_mode": {
    "name": "ipython",
    "version": 3
   },
   "file_extension": ".py",
   "mimetype": "text/x-python",
   "name": "python",
   "nbconvert_exporter": "python",
   "pygments_lexer": "ipython3",
   "version": "3.8.7"
  }
 },
 "nbformat": 4,
 "nbformat_minor": 4
}
