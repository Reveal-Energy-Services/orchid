{
 "cells": [
  {
   "cell_type": "markdown",
   "metadata": {
    "pycharm": {
     "name": "#%% md\n"
    }
   },
   "source": [
    "# Example: Using Pandas to Analyze Completion Parameters"
   ]
  },
  {
   "cell_type": "markdown",
   "metadata": {
    "pycharm": {
     "name": "#%% md\n"
    }
   },
   "source": [
    "This notebook illustrates using the Python API and the pandas package to perform completion analysis."
   ]
  },
  {
   "cell_type": "markdown",
   "metadata": {
    "pycharm": {
     "name": "#%% md\n"
    }
   },
   "source": [
    "## 0.5 Import packages"
   ]
  },
  {
   "cell_type": "markdown",
   "metadata": {
    "pycharm": {
     "name": "#%% md\n"
    }
   },
   "source": [
    "The only import needed for the Python API is `orchid` itself."
   ]
  },
  {
   "cell_type": "code",
   "execution_count": null,
   "metadata": {
    "collapsed": false,
    "jupyter": {
     "outputs_hidden": false
    },
    "pycharm": {
     "name": "#%%\n"
    }
   },
   "outputs": [],
   "source": [
    "import orchid"
   ]
  },
  {
   "cell_type": "markdown",
   "metadata": {
    "pycharm": {
     "name": "#%% md\n"
    }
   },
   "source": [
    "The remaining imports are standard python packages to support the analysis."
   ]
  },
  {
   "cell_type": "code",
   "execution_count": null,
   "metadata": {
    "collapsed": false,
    "jupyter": {
     "outputs_hidden": false
    },
    "pycharm": {
     "name": "#%%\n"
    }
   },
   "outputs": [],
   "source": [
    "import numpy as np\n",
    "import pandas as pd\n",
    "import matplotlib.pyplot as plt\n",
    "from scipy import integrate"
   ]
  },
  {
   "cell_type": "code",
   "execution_count": null,
   "metadata": {
    "collapsed": false,
    "jupyter": {
     "outputs_hidden": false
    },
    "pycharm": {
     "name": "#%% mdO\n"
    }
   },
   "outputs": [],
   "source": [
    "## 1.0 Load the .ifrac project"
   ]
  },
  {
   "cell_type": "code",
   "execution_count": null,
   "metadata": {
    "collapsed": false,
    "jupyter": {
     "outputs_hidden": false
    },
    "pycharm": {
     "name": "#%%\n"
    }
   },
   "outputs": [],
   "source": [
    "project = orchid.load_project(r'c:\\src\\Orchid.IntegrationTestData\\frankNstein_Bakken_UTM13_FEET.ifrac')"
   ]
  },
  {
   "cell_type": "markdown",
   "metadata": {
    "pycharm": {
     "name": "#%% md\n"
    }
   },
   "source": [
    "## 2.0 Define a function to compute the stage treatment data"
   ]
  },
  {
   "cell_type": "code",
   "execution_count": null,
   "metadata": {
    "collapsed": false,
    "jupyter": {
     "outputs_hidden": false
    },
    "pycharm": {
     "name": "#%%\n"
    }
   },
   "outputs": [],
   "source": [
    "def compute_stage_treatment_aggregates(treatment_stage):\n",
    "    \n",
    "    def slurry_rate_per_min_to_per_second_conversion_factor():\n",
    "        source_slurry_rate_unit = treatment_curves['Slurry Rate'].sampled_quantity_unit()\n",
    "        target_slurry_rate_unit = f'{orchid.slurry_rate_volume_unit(source_slurry_rate_unit)}/s'\n",
    "        local_result = orchid.get_conversion_factor(source_slurry_rate_unit, target_slurry_rate_unit)\n",
    "        return local_result\n",
    "\n",
    "    def slurry_rate_bbl_per_second_to_gal_per_second_conversion_factor():\n",
    "        local_result = orchid.get_conversion_factor('bbl/s', 'gal/s')\n",
    "        return local_result\n",
    "\n",
    "    treatment_curves = stage.treatment_curves()\n",
    "    if not treatment_curves:\n",
    "        return None\n",
    "    \n",
    "    raw_treatment_series = {n: c.time_series() for n, c in (treatment_curves.items())}\n",
    "    stage_start_time = np.datetime64(stage.start_time)\n",
    "    stage_stop_time = np.datetime64(stage.stop_time)\n",
    "    \n",
    "    fluid_per_sec = (raw_treatment_series[orchid.SLURRY_RATE][stage_start_time:stage_stop_time] *\n",
    "                     slurry_rate_per_min_to_per_second_conversion_factor())\n",
    "    stage_fluid = integrate.trapz(fluid_per_sec.values, \n",
    "                                  (fluid_per_sec.index - stage_start_time).seconds)\n",
    "    \n",
    "    stage_concentration = \\\n",
    "        raw_treatment_series[orchid.PROPPANT_CONCENTRATION][stage_start_time:stage_stop_time]\n",
    "    proppant_per_sec = (fluid_per_sec * \n",
    "                        slurry_rate_bbl_per_second_to_gal_per_second_conversion_factor() *\n",
    "                        stage_concentration)\n",
    "    stage_proppant = integrate.trapz(proppant_per_sec.values, \n",
    "                                     (proppant_per_sec.index - stage_start_time).seconds)\n",
    "    \n",
    "    stage_pressure = \\\n",
    "        raw_treatment_series[orchid.TREATING_PRESSURE][stage_start_time:stage_stop_time]\n",
    "    median_stage_pressure = stage_pressure.median()\n",
    "    \n",
    "    # Assumes that all three curves have the same time basis; that is, \n",
    "    # that the index for each series is equal.\n",
    "    treatment_curves = pd.DataFrame.from_dict(raw_treatment_series)\n",
    "    treatment_curves['dt'] = ((treatment_curves.index.values - stage_start_time) /\n",
    "                              np.timedelta64(1, 's'))\n",
    "    \n",
    "    return stage_fluid, stage_proppant, median_stage_pressure"
   ]
  },
  {
   "cell_type": "markdown",
   "metadata": {
    "pycharm": {
     "name": "#%% md\n"
    }
   },
   "source": [
    "## 3.0 Build Pandas DataFrame"
   ]
  },
  {
   "cell_type": "code",
   "execution_count": null,
   "metadata": {
    "collapsed": false,
    "jupyter": {
     "outputs_hidden": false
    },
    "pycharm": {
     "name": "#%%\n"
    }
   },
   "outputs": [],
   "source": [
    "results = []\n",
    "for well in project.wells:\n",
    "    stages = list(well.stages)\n",
    "\n",
    "    for stage in stages:\n",
    "        \n",
    "        treatment_aggregates = compute_stage_treatment_aggregates(stage)\n",
    "        # Skip stages with no aggregates. These stages most likely are from \n",
    "        # an untreated monitor well.\n",
    "        if not treatment_aggregates:\n",
    "            continue\n",
    "            \n",
    "        stage_fluid, stage_proppant, median_stage_pressure = treatment_aggregates\n",
    "        results.append((well.name, stage.display_stage_number, \n",
    "                       stage_fluid, stage_proppant, median_stage_pressure))\n",
    "stage_aggregates = pd.DataFrame(columns=['Well', 'Stage', 'Fluid', 'Proppant', 'Median Pressure'],\n",
    "                                data=results)"
   ]
  },
  {
   "cell_type": "code",
   "execution_count": null,
   "metadata": {},
   "outputs": [],
   "source": []
  }
 ],
 "metadata": {
  "kernelspec": {
   "display_name": "Python 3",
   "language": "python",
   "name": "python3"
  },
  "language_info": {
   "codemirror_mode": {
    "name": "ipython",
    "version": 3
   },
   "file_extension": ".py",
   "mimetype": "text/x-python",
   "name": "python",
   "nbconvert_exporter": "python",
   "pygments_lexer": "ipython3",
   "version": "3.7.7"
  }
 },
 "nbformat": 4,
 "nbformat_minor": 4
}
