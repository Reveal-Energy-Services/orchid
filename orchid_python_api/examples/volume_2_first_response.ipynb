{
 "cells": [
  {
   "cell_type": "code",
   "execution_count": 94,
   "outputs": [],
   "source": [
    "#  Copyright 2017-2021 Reveal Energy Services, Inc\n",
    "#\n",
    "#  Licensed under the Apache License, Version 2.0 (the \"License\");\n",
    "#  you may not use this file except in compliance with the License.\n",
    "#  You may obtain a copy of the License at\n",
    "#\n",
    "#      http://www.apache.org/licenses/LICENSE-2.0\n",
    "#\n",
    "#  Unless required by applicable law or agreed to in writing, software\n",
    "#  distributed under the License is distributed on an \"AS IS\" BASIS,\n",
    "#  WITHOUT WARRANTIES OR CONDITIONS OF ANY KIND, either express or implied.\n",
    "#  See the License for the specific language governing permissions and\n",
    "#  limitations under the License.\n",
    "#\n",
    "# This file is part of Orchid and related technologies.\n",
    "#"
   ],
   "metadata": {
    "collapsed": false,
    "pycharm": {
     "name": "#%%\n"
    }
   }
  },
  {
   "cell_type": "markdown",
   "source": [
    "# Example: Using Pandas to Analyze Volume to First Response (VFR)"
   ],
   "metadata": {
    "collapsed": false
   }
  },
  {
   "cell_type": "markdown",
   "source": [
    "This notebook illustrates using the Orchid* Python API and the pandas package to\n",
    "perform VFR analysis\n",
    "\n",
    "(*Orchid is a mark of Reveal Energy Services, Inc)"
   ],
   "metadata": {
    "collapsed": false
   }
  },
  {
   "cell_type": "markdown",
   "source": [
    "## 0.5 Import packages"
   ],
   "metadata": {
    "collapsed": false
   }
  },
  {
   "cell_type": "markdown",
   "source": [
    "The only import needed for the Python API is `orchid` itself."
   ],
   "metadata": {
    "collapsed": false
   }
  },
  {
   "cell_type": "code",
   "execution_count": 95,
   "outputs": [],
   "source": [
    "import orchid"
   ],
   "metadata": {
    "collapsed": false,
    "pycharm": {
     "name": "#%%\n"
    }
   }
  },
  {
   "cell_type": "markdown",
   "source": [
    "The remaining imports are standard python packages to support the analysis."
   ],
   "metadata": {
    "collapsed": false
   }
  },
  {
   "cell_type": "code",
   "execution_count": 152,
   "outputs": [],
   "source": [
    "import numpy as np\n",
    "import pandas as pd\n",
    "import matplotlib.pyplot as plt\n",
    "import scipy.signal as signal\n",
    "import datetime\n",
    "import dateutil.tz as duz"
   ],
   "metadata": {
    "collapsed": false,
    "pycharm": {
     "name": "#%%\n"
    }
   }
  },
  {
   "cell_type": "markdown",
   "source": [
    "## 1.0 Load the .ifrac project"
   ],
   "metadata": {
    "collapsed": false
   }
  },
  {
   "cell_type": "markdown",
   "source": [
    "The following code simply captures the configured location of the Orchid training data. It is not needed to\n",
    "use the Orchid Python API itself, but it is used in this example to load well-known data."
   ],
   "metadata": {
    "collapsed": false
   }
  },
  {
   "cell_type": "code",
   "execution_count": 97,
   "outputs": [],
   "source": [
    "orchid_training_data_path = orchid.training_data_path()"
   ],
   "metadata": {
    "collapsed": false,
    "pycharm": {
     "name": "#%%\n"
    }
   }
  },
  {
   "cell_type": "code",
   "execution_count": 98,
   "outputs": [],
   "source": [
    "permian_project = orchid.load_project(str(orchid_training_data_path.joinpath(\n",
    "    'Project_frankNstein_Permian_UTM13_FEET.ifrac')))"
   ],
   "metadata": {
    "collapsed": false,
    "pycharm": {
     "name": "#%%\n"
    }
   }
  },
  {
   "cell_type": "markdown",
   "source": [
    "This function will support taking in an stop time and calculating the treatment aggregates"
   ],
   "metadata": {
    "collapsed": false,
    "pycharm": {
     "name": "#%% md\n"
    }
   }
  },
  {
   "cell_type": "code",
   "execution_count": 99,
   "outputs": [],
   "source": [
    "def compute_stage_treatment_aggregates(treatment_stage, stop_time):\n",
    "    # These calculations IGNORE all calculation warnings.\n",
    "    pumped_fluid_volume = orchid.pumped_fluid_volume(treatment_stage,\n",
    "                                                     treatment_stage.start_time,\n",
    "                                                     stop_time)[0].magnitude\n",
    "    total_proppant_mass = orchid.total_proppant_mass(treatment_stage,\n",
    "                                                     treatment_stage.start_time,\n",
    "                                                     stop_time)[0].magnitude\n",
    "    median_treating_pressure = orchid.median_treating_pressure(treatment_stage,\n",
    "                                                               treatment_stage.start_time,\n",
    "                                                               stop_time)[0].magnitude\n",
    "    return pumped_fluid_volume, total_proppant_mass, median_treating_pressure"
   ],
   "metadata": {
    "collapsed": false,
    "pycharm": {
     "name": "#%% Completion Support Function\n"
    }
   }
  },
  {
   "cell_type": "markdown",
   "source": [
    "The first event detection algorithm is to find when the first derivative exceeds a threshold value"
   ],
   "metadata": {
    "collapsed": false,
    "pycharm": {
     "name": "#%% md\n"
    }
   }
  },
  {
   "cell_type": "code",
   "execution_count": 100,
   "outputs": [],
   "source": [
    "def first_derivative_threshold(pressure_curve, threshold, window=51, poly=3):\n",
    "    \"\"\"\n",
    "    The\n",
    "    Args:\n",
    "        pressure_curve: pressure data from the monitoring well.\n",
    "                        Series data, index is time, value is a orchid pressure measurement\n",
    "                        Only pass in the pressure curve data during stage of interest\n",
    "        threshold: provided a\n",
    "        window: passed to window_length arg in savgol filter\n",
    "        poly: passed to polyorder arg in savgol filter\n",
    "\n",
    "    Returns:\n",
    "\n",
    "    \"\"\"\n",
    "    times = pressure_curve.index.values\n",
    "    average_dt = np.mean(np.diff(pressure_curve.index)).total_seconds()/60\n",
    "    pressure = pressure_curve.values\n",
    "    first_derivative = signal.savgol_filter(pressure,\n",
    "                                            window_length=window,\n",
    "                                            polyorder=poly,\n",
    "                                            delta=average_dt,\n",
    "                                            deriv=1)\n",
    "\n",
    "    ndx = np.argwhere(first_derivative > threshold)\n",
    "\n",
    "    return times[ndx[0][0]] if len(ndx)>0 else None"
   ],
   "metadata": {
    "collapsed": false,
    "pycharm": {
     "name": "#%%\n"
    }
   }
  },
  {
   "cell_type": "code",
   "execution_count": 104,
   "outputs": [],
   "source": [
    "def second_derivative_peak(pressure_curve, threshold, window=51, poly=3):\n",
    "    times = pressure_curve.index.values\n",
    "    average_dt = np.mean(np.diff(pressure_curve.index)).total_seconds()/60\n",
    "    pressure = pressure_curve.values\n",
    "    second_derivative = signal.savgol_filter(pressure,\n",
    "                                             window_length=window,\n",
    "                                             polyorder=poly,\n",
    "                                             delta=average_dt,\n",
    "                                             deriv=2)\n",
    "\n",
    "    peaks = signal.find_peaks(second_derivative)\n",
    "    return times[peaks[0][0]]"
   ],
   "metadata": {
    "collapsed": false,
    "pycharm": {
     "name": "#%%\n"
    }
   }
  },
  {
   "cell_type": "code",
   "execution_count": 105,
   "outputs": [],
   "source": [
    "p_curves = list(permian_project.monitor_curves())\n",
    "p_curve = p_curves[0]\n",
    "p_data = p_curve.time_series()"
   ],
   "metadata": {
    "collapsed": false,
    "pycharm": {
     "name": "#%%\n"
    }
   }
  },
  {
   "cell_type": "code",
   "execution_count": 155,
   "outputs": [],
   "source": [
    "data = []\n",
    "for well in permian_project.wells:\n",
    "    for stage in well.stages:\n",
    "        stage_start_time = stage.start_time\n",
    "        stage_stop_time = stage.stop_time\n",
    "\n",
    "        p_stg = p_data[stage_start_time:stage_stop_time]\n",
    "        d1 = first_derivative_threshold(p_stg, 0.2)\n",
    "        d2 = second_derivative_peak(p_stg, 1)\n",
    "        if d1 is not None:\n",
    "            d1 = datetime.datetime.utcfromtimestamp(d1.tolist() * 1e-9).replace(tzinfo=duz.UTC)\n",
    "        if d2 is not None:\n",
    "            d2 = datetime.datetime.utcfromtimestamp(d2.tolist() * 1e-9).replace(tzinfo=duz.UTC)\n",
    "        vfr_d1, _, _ = compute_stage_treatment_aggregates(stage, d1) if d1 is not None else (None, None, None)\n",
    "        vfr_d2, _, _ = compute_stage_treatment_aggregates(stage, d2) if d2 is not None else (None, None, None)\n",
    "        data.append((well.name, stage.display_stage_number, d1, d2, vfr_d1, vfr_d2))\n",
    "\n",
    "\n"
   ],
   "metadata": {
    "collapsed": false,
    "pycharm": {
     "name": "#%%\n"
    }
   }
  },
  {
   "cell_type": "code",
   "execution_count": 156,
   "outputs": [],
   "source": [
    "df = pd.DataFrame(data=data, columns=['Well', 'Stage', 'D1', 'D2', 'VFR_D1', 'VFR_D2'])"
   ],
   "metadata": {
    "collapsed": false,
    "pycharm": {
     "name": "#%%\n"
    }
   }
  },
  {
   "cell_type": "code",
   "execution_count": 157,
   "outputs": [
    {
     "data": {
      "text/plain": "  Well  Stage                        D1                        D2     VFR_D1  \\\n0   C1      1                       NaT 2018-11-13 20:23:50+00:00        NaN   \n1   C1      2                       NaT 2018-11-14 21:58:16+00:00        NaN   \n2   C1      3 2018-11-15 06:12:26+00:00 2018-11-15 04:36:22+00:00  4690.6245   \n3   C1      4 2018-11-15 14:38:54+00:00 2018-11-15 12:56:24+00:00  5201.4615   \n4   C1      5                       NaT 2018-11-15 20:21:40+00:00        NaN   \n\n   VFR_D2  \n0     0.0  \n1     0.0  \n2     0.0  \n3     0.0  \n4     0.0  ",
      "text/html": "<div>\n<style scoped>\n    .dataframe tbody tr th:only-of-type {\n        vertical-align: middle;\n    }\n\n    .dataframe tbody tr th {\n        vertical-align: top;\n    }\n\n    .dataframe thead th {\n        text-align: right;\n    }\n</style>\n<table border=\"1\" class=\"dataframe\">\n  <thead>\n    <tr style=\"text-align: right;\">\n      <th></th>\n      <th>Well</th>\n      <th>Stage</th>\n      <th>D1</th>\n      <th>D2</th>\n      <th>VFR_D1</th>\n      <th>VFR_D2</th>\n    </tr>\n  </thead>\n  <tbody>\n    <tr>\n      <th>0</th>\n      <td>C1</td>\n      <td>1</td>\n      <td>NaT</td>\n      <td>2018-11-13 20:23:50+00:00</td>\n      <td>NaN</td>\n      <td>0.0</td>\n    </tr>\n    <tr>\n      <th>1</th>\n      <td>C1</td>\n      <td>2</td>\n      <td>NaT</td>\n      <td>2018-11-14 21:58:16+00:00</td>\n      <td>NaN</td>\n      <td>0.0</td>\n    </tr>\n    <tr>\n      <th>2</th>\n      <td>C1</td>\n      <td>3</td>\n      <td>2018-11-15 06:12:26+00:00</td>\n      <td>2018-11-15 04:36:22+00:00</td>\n      <td>4690.6245</td>\n      <td>0.0</td>\n    </tr>\n    <tr>\n      <th>3</th>\n      <td>C1</td>\n      <td>4</td>\n      <td>2018-11-15 14:38:54+00:00</td>\n      <td>2018-11-15 12:56:24+00:00</td>\n      <td>5201.4615</td>\n      <td>0.0</td>\n    </tr>\n    <tr>\n      <th>4</th>\n      <td>C1</td>\n      <td>5</td>\n      <td>NaT</td>\n      <td>2018-11-15 20:21:40+00:00</td>\n      <td>NaN</td>\n      <td>0.0</td>\n    </tr>\n  </tbody>\n</table>\n</div>"
     },
     "execution_count": 157,
     "metadata": {},
     "output_type": "execute_result"
    }
   ],
   "source": [
    "df.head()"
   ],
   "metadata": {
    "collapsed": false,
    "pycharm": {
     "name": "#%%\n"
    }
   }
  },
  {
   "cell_type": "code",
   "execution_count": 129,
   "outputs": [],
   "source": [],
   "metadata": {
    "collapsed": false,
    "pycharm": {
     "name": "#%%\n"
    }
   }
  },
  {
   "cell_type": "code",
   "execution_count": null,
   "outputs": [],
   "source": [],
   "metadata": {
    "collapsed": false,
    "pycharm": {
     "name": "#%%\n"
    }
   }
  }
 ],
 "metadata": {
  "kernelspec": {
   "display_name": "Python 3",
   "language": "python",
   "name": "python3"
  },
  "language_info": {
   "codemirror_mode": {
    "name": "ipython",
    "version": 2
   },
   "file_extension": ".py",
   "mimetype": "text/x-python",
   "name": "python",
   "nbconvert_exporter": "python",
   "pygments_lexer": "ipython2",
   "version": "2.7.6"
  }
 },
 "nbformat": 4,
 "nbformat_minor": 0
}