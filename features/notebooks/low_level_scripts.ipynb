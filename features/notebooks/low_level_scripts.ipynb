{
 "cells": [
  {
   "cell_type": "code",
   "execution_count": null,
   "id": "1576e0d1-ef48-4352-93d1-db11f4e53b8a",
   "metadata": {
    "pycharm": {
     "name": "#%%\n"
    }
   },
   "outputs": [],
   "source": [
    "import dataclasses as dc"
   ]
  },
  {
   "cell_type": "code",
   "execution_count": null,
   "outputs": [],
   "source": [
    "import pendulum as pdt\n",
    "import parsy"
   ],
   "metadata": {
    "collapsed": false,
    "pycharm": {
     "name": "#%%\n"
    }
   }
  },
  {
   "cell_type": "code",
   "execution_count": null,
   "id": "518ce5be-33a1-40eb-a75c-3ab2ff968db5",
   "metadata": {
    "pycharm": {
     "name": "#%%\n"
    }
   },
   "outputs": [],
   "source": [
    "auto_pick_output_text = r\"\"\"INFO:root:native_project.Name='frankNstein_Bakken_UTM13_FEET'\n",
    "INFO:root:len(native_project.ObservationSets.Items)=2\n",
    "INFO:root:observation_set.Name='ParentWellObservations'\n",
    "INFO:root:len(observation_set.GetObservations())=17\n",
    "INFO:root:observation_set.Name='Auto-picked Observation Set3'\n",
    "INFO:root:len(observation_set.GetObservations())=120\n",
    "INFO:root:Wrote changes to \"c:\\src\\Orchid.IntegrationTestData\\frankNstein_Bakken_UTM13_FEET.999.ifrac\"\n",
    "\"\"\""
   ]
  },
  {
   "cell_type": "code",
   "execution_count": null,
   "id": "04096660-f3b5-480f-bc83-5c4a46bdd48c",
   "metadata": {
    "pycharm": {
     "name": "#%%\n"
    }
   },
   "outputs": [],
   "source": [
    "auto_pick_output_text"
   ]
  },
  {
   "cell_type": "code",
   "execution_count": null,
   "id": "0137eace-d438-4ffe-be9e-1cd97ee7cca5",
   "metadata": {
    "pycharm": {
     "name": "#%%\n"
    }
   },
   "outputs": [],
   "source": [
    "# Utility parsers\n",
    "comma = parsy.string(',') << parsy.whitespace.many()\n",
    "equals = parsy.string('=')\n",
    "integer = parsy.regex(r'\\d+').map(int)\n",
    "newline = parsy.string('\\n')\n",
    "left_brace = parsy.string('{')\n",
    "left_paren = parsy.string('(')\n",
    "right_brace = parsy.string('}')\n",
    "right_paren = parsy.string(')')\n",
    "single_quote = parsy.string(\"'\")"
   ]
  },
  {
   "cell_type": "code",
   "execution_count": null,
   "outputs": [],
   "source": [
    "comma.parse(\",\")"
   ],
   "metadata": {
    "collapsed": false,
    "pycharm": {
     "name": "#%%\n"
    }
   }
  },
  {
   "cell_type": "code",
   "execution_count": null,
   "outputs": [],
   "source": [
    "comma.parse(\", \")"
   ],
   "metadata": {
    "collapsed": false,
    "pycharm": {
     "name": "#%%\n"
    }
   }
  },
  {
   "cell_type": "code",
   "execution_count": null,
   "id": "6a102d53-1089-4a46-8382-36549f850e02",
   "metadata": {
    "pycharm": {
     "name": "#%%\n"
    }
   },
   "outputs": [],
   "source": [
    "# Single-line parsers\n",
    "project_name = parsy.string(\"INFO:root:native_project.Name='frankNstein_Bakken_UTM13_FEET'\")\n",
    "observation_set_items = parsy.string(\"INFO:root:len(native_project.ObservationSets.Items)=2\")\n",
    "parent_well_observations = parsy.string(\"INFO:root:observation_set.Name='ParentWellObservations'\")\n",
    "get_observations = parsy.string(\"INFO:root:len(observation_set.GetObservations())=\") >> parsy.regex(r'\\d+').map(int)\n",
    "auto_picked_observation_set = parsy.string(\"INFO:root:observation_set.Name='Auto-picked Observation Set3'\")\n",
    "output_path_name = (parsy.string('INFO:root:Wrote changes to') >>\n",
    "                    parsy.regex(r' \"c:\\\\src\\\\Orchid.IntegrationTestData\\\\frankNstein_Bakken_UTM13_FEET.\\d{3}.ifrac\"'))\n",
    "unique_attribute_count_per_stage_per_well_equals = parsy.string(r'INFO:root:Unique counts of attributes per stage per well=')"
   ]
  },
  {
   "cell_type": "code",
   "execution_count": null,
   "id": "991e746e-9169-4cf8-b029-f17495d77ae2",
   "metadata": {
    "pycharm": {
     "name": "#%%\n"
    }
   },
   "outputs": [],
   "source": [
    "@parsy.generate\n",
    "def attribute_count_per_stage_per_well():\n",
    "    yield unique_attribute_count_per_stage_per_well_equals\n",
    "    yield left_brace\n",
    "    attribute_per_stage_per_well_count = yield integer\n",
    "    yield right_brace\n",
    "    \n",
    "    return attribute_per_stage_per_well_count"
   ]
  },
  {
   "cell_type": "code",
   "execution_count": null,
   "id": "ea5d1cbc-dc7a-4df5-a592-b3a1dbc3fdfe",
   "metadata": {
    "pycharm": {
     "name": "#%%\n"
    }
   },
   "outputs": [],
   "source": [
    "@parsy.generate\n",
    "def get_second_observations_count():\n",
    "    yield project_name\n",
    "    yield newline >> observation_set_items\n",
    "    yield newline >> parent_well_observations\n",
    "    yield newline >> get_observations\n",
    "    yield newline >> auto_picked_observation_set\n",
    "    get_observations_count = yield newline >> get_observations\n",
    "    yield (newline >> attribute_count_per_stage_per_well).optional()\n",
    "    yield newline >> output_path_name\n",
    "    yield newline\n",
    "\n",
    "    return get_observations_count"
   ]
  },
  {
   "cell_type": "code",
   "execution_count": null,
   "id": "be9759df-13e8-470d-aeb4-f2c2e3a9ae2e",
   "metadata": {
    "pycharm": {
     "name": "#%%\n"
    }
   },
   "outputs": [],
   "source": [
    "get_second_observations_count.parse(auto_pick_output_text)"
   ]
  },
  {
   "cell_type": "code",
   "execution_count": null,
   "id": "8033c2f9-c878-444f-9f3b-8cadaa9c980d",
   "metadata": {
    "pycharm": {
     "name": "#%%\n"
    }
   },
   "outputs": [],
   "source": [
    "auto_pick_and_create_attributes_output_text = r\"\"\"INFO:root:native_project.Name='frankNstein_Bakken_UTM13_FEET'\n",
    "INFO:root:len(native_project.ObservationSets.Items)=2\n",
    "INFO:root:observation_set.Name='ParentWellObservations'\n",
    "INFO:root:len(observation_set.GetObservations())=17\n",
    "INFO:root:observation_set.Name='Auto-picked Observation Set3'\n",
    "INFO:root:len(observation_set.GetObservations())=120\n",
    "INFO:root:Unique counts of attributes per stage per well={2}\n",
    "INFO:root:Wrote changes to \"c:\\src\\Orchid.IntegrationTestData\\frankNstein_Bakken_UTM13_FEET.998.ifrac\"\n",
    "\"\"\""
   ]
  },
  {
   "cell_type": "code",
   "execution_count": null,
   "id": "5c8a887c-11a2-402a-911a-ab9069c2eb89",
   "metadata": {
    "pycharm": {
     "name": "#%%\n"
    }
   },
   "outputs": [],
   "source": [
    "@parsy.generate\n",
    "def get_attribute_count_for_each_stage_and_well():\n",
    "    yield project_name\n",
    "    yield newline >> observation_set_items\n",
    "    yield newline >> parent_well_observations\n",
    "    yield newline >> get_observations\n",
    "    yield newline >> auto_picked_observation_set\n",
    "    yield newline >> get_observations\n",
    "    attribute_count_for_each_stage_and_well = yield newline >> attribute_count_per_stage_per_well\n",
    "    yield newline >> output_path_name\n",
    "    yield newline\n",
    "\n",
    "    return attribute_count_for_each_stage_and_well"
   ]
  },
  {
   "cell_type": "code",
   "execution_count": null,
   "id": "6886fb21-1caa-424c-928d-6c9dbb4ffa4c",
   "metadata": {
    "pycharm": {
     "name": "#%%\n"
    }
   },
   "outputs": [],
   "source": [
    "get_attribute_count_for_each_stage_and_well.parse(auto_pick_and_create_attributes_output_text)"
   ]
  },
  {
   "cell_type": "code",
   "execution_count": null,
   "id": "4d1be20a-2726-472c-832a-155f951a87e9",
   "metadata": {
    "pycharm": {
     "name": "#%%\n"
    }
   },
   "outputs": [],
   "source": [
    "add_stages_output_text = r\"\"\"INFO:root:CreatedStageDetails(name='Stage-36', shmin='8144.498 psi', cluster_count=0, global_stage_sequence_no=0, start_time='2018-06-06T05:34:03.684000+00:00', stop_time='2018-06-06T07:19:35.560000+00:00')\n",
    "INFO:root:CreatedStageDetails(name='Stage-37', shmin='2.322 psi', cluster_count=0, global_stage_sequence_no=0, start_time='2018-06-15T14:11:40.450000+00:00', stop_time='2018-06-15T15:10:11.200000+00:00')\n",
    "INFO:root:CreatedStageDetails(name='Stage-38', shmin='8041.893 psi', cluster_count=7, global_stage_sequence_no=0, start_time='2018-06-28T23:35:54.379000+00:00', stop_time='2018-06-29T01:18:05.840000+00:00')\n",
    "INFO:root:Wrote changes to \"c:\\src\\Orchid.IntegrationTestData\\frankNstein_Bakken_UTM13_FEET.996.ifrac\"\n",
    "\"\"\""
   ]
  },
  {
   "cell_type": "code",
   "execution_count": null,
   "outputs": [],
   "source": [
    "@parsy.generate\n",
    "def key_value_pair():\n",
    "    yield parsy.regex(r'[\\w_\\d]+').desc('key')\n",
    "    value = yield equals >> ((single_quote >> parsy.regex(r\"[^']+\") << single_quote) |\n",
    "                             integer)\n",
    "    return value"
   ],
   "metadata": {
    "collapsed": false,
    "pycharm": {
     "name": "#%%\n"
    }
   }
  },
  {
   "cell_type": "code",
   "execution_count": null,
   "outputs": [],
   "source": [
    "@dc.dataclass\n",
    "class AddedStageDetails:\n",
    "    stage_name: str\n",
    "    shmin: str\n",
    "    cluster_count: int\n",
    "    global_stage_sequence_no: int\n",
    "    start_time: str\n",
    "    stop_time: str\n",
    "\n",
    "@parsy.generate\n",
    "def added_stage_details():\n",
    "    yield parsy.string('INFO:root:CreatedStageDetails')\n",
    "    yield left_paren\n",
    "    stage_name = yield key_value_pair\n",
    "    shmin = yield comma >> key_value_pair\n",
    "    cluster_count = yield comma >> key_value_pair\n",
    "    global_stage_sequence_no = yield comma >> key_value_pair\n",
    "    start_time = yield (comma >> key_value_pair).map(pdt.parse).desc('start_time')\n",
    "    stop_time = yield (comma >> key_value_pair).map(pdt.parse).desc('stop_time')\n",
    "    yield right_paren\n",
    "\n",
    "    return AddedStageDetails(stage_name=stage_name, shmin=shmin, cluster_count=cluster_count,\n",
    "                             global_stage_sequence_no=global_stage_sequence_no,\n",
    "                             start_time=start_time, stop_time=stop_time)"
   ],
   "metadata": {
    "collapsed": false,
    "pycharm": {
     "name": "#%%\n"
    }
   }
  },
  {
   "cell_type": "code",
   "execution_count": null,
   "outputs": [],
   "source": [
    "key_value_pair.parse(\"name='Stage-36'\")"
   ],
   "metadata": {
    "collapsed": false,
    "pycharm": {
     "name": "#%%\n"
    }
   }
  },
  {
   "cell_type": "code",
   "execution_count": null,
   "outputs": [],
   "source": [
    "key_value_pair.parse('cluster_count=0')"
   ],
   "metadata": {
    "collapsed": false,
    "pycharm": {
     "name": "#%%\n"
    }
   }
  },
  {
   "cell_type": "code",
   "execution_count": null,
   "outputs": [],
   "source": [
    "key_value_pair.parse(\"start_time='2018-06-06T05:34:03.684000+00:00'\")"
   ],
   "metadata": {
    "collapsed": false,
    "pycharm": {
     "name": "#%%\n"
    }
   }
  },
  {
   "cell_type": "code",
   "execution_count": null,
   "outputs": [],
   "source": [
    "add_stages_output_text.split('\\n')[0]"
   ],
   "metadata": {
    "collapsed": false,
    "pycharm": {
     "name": "#%%\n"
    }
   }
  },
  {
   "cell_type": "code",
   "execution_count": null,
   "outputs": [],
   "source": [
    "added_stage_details.parse(add_stages_output_text.split('\\n')[0])"
   ],
   "metadata": {
    "collapsed": false,
    "pycharm": {
     "name": "#%%\n"
    }
   }
  },
  {
   "cell_type": "code",
   "execution_count": null,
   "outputs": [],
   "source": [
    "@parsy.generate\n",
    "def get_added_stages():\n",
    "    added_stages_details = yield (added_stage_details << newline).at_least(1)\n",
    "    yield output_path_name\n",
    "    yield newline\n",
    "\n",
    "    return added_stages_details"
   ],
   "metadata": {
    "collapsed": false,
    "pycharm": {
     "name": "#%%\n"
    }
   }
  },
  {
   "cell_type": "code",
   "execution_count": null,
   "outputs": [],
   "source": [
    "get_added_stages.parse(add_stages_output_text)"
   ],
   "metadata": {
    "collapsed": false,
    "pycharm": {
     "name": "#%%\n"
    }
   }
  },
  {
   "cell_type": "code",
   "execution_count": null,
   "outputs": [],
   "source": [],
   "metadata": {
    "collapsed": false,
    "pycharm": {
     "name": "#%%\n"
    }
   }
  }
 ],
 "metadata": {
  "kernelspec": {
   "display_name": "Python 3 (ipykernel)",
   "language": "python",
   "name": "python3"
  },
  "language_info": {
   "codemirror_mode": {
    "name": "ipython",
    "version": 3
   },
   "file_extension": ".py",
   "mimetype": "text/x-python",
   "name": "python",
   "nbconvert_exporter": "python",
   "pygments_lexer": "ipython3",
   "version": "3.8.10"
  }
 },
 "nbformat": 4,
 "nbformat_minor": 5
}