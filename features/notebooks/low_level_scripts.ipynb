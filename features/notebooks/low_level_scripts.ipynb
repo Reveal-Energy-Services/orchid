{
 "cells": [
  {
   "cell_type": "code",
   "execution_count": null,
   "id": "1576e0d1-ef48-4352-93d1-db11f4e53b8a",
   "metadata": {
    "pycharm": {
     "name": "#%%\n"
    }
   },
   "outputs": [],
   "source": [
    "import dataclasses as dc\n",
    "import uuid"
   ]
  },
  {
   "cell_type": "code",
   "execution_count": null,
   "outputs": [],
   "source": [
    "import pendulum as pdt\n",
    "import parsy"
   ],
   "metadata": {
    "collapsed": false,
    "pycharm": {
     "name": "#%%\n"
    }
   }
  },
  {
   "cell_type": "code",
   "execution_count": null,
   "id": "518ce5be-33a1-40eb-a75c-3ab2ff968db5",
   "metadata": {
    "pycharm": {
     "name": "#%%\n"
    }
   },
   "outputs": [],
   "source": [
    "auto_pick_output_text = r\"\"\"INFO:root:native_project.Name='frankNstein_Bakken_UTM13_FEET'\n",
    "INFO:root:len(native_project.ObservationSets.Items)=2\n",
    "INFO:root:observation_set.Name='ParentWellObservations'\n",
    "INFO:root:len(observation_set.GetObservations())=17\n",
    "INFO:root:observation_set.Name='Auto-picked Observation Set3'\n",
    "INFO:root:len(observation_set.GetObservations())=120\n",
    "INFO:root:Wrote changes to \"c:\\src\\Orchid.IntegrationTestData\\frankNstein_Bakken_UTM13_FEET.999.ifrac\"\n",
    "\"\"\""
   ]
  },
  {
   "cell_type": "code",
   "execution_count": null,
   "id": "04096660-f3b5-480f-bc83-5c4a46bdd48c",
   "metadata": {
    "pycharm": {
     "name": "#%%\n"
    }
   },
   "outputs": [],
   "source": [
    "auto_pick_output_text"
   ]
  },
  {
   "cell_type": "code",
   "execution_count": null,
   "id": "0137eace-d438-4ffe-be9e-1cd97ee7cca5",
   "metadata": {
    "pycharm": {
     "name": "#%%\n"
    }
   },
   "outputs": [],
   "source": [
    "# Utility parsers\n",
    "colon = parsy.string(':') << parsy.whitespace.many()\n",
    "comma = parsy.string(',') << parsy.whitespace.many()\n",
    "dot = parsy.string('.')\n",
    "equals = parsy.string('=')\n",
    "greater_than = parsy.string('>')\n",
    "hex_literal = parsy.string('0x') >> parsy.regex(r'[\\da-fA-F]+').map(lambda hds: int(hds, 16))\n",
    "integer = parsy.regex(r'\\d+').map(int)\n",
    "newline = parsy.string('\\n')\n",
    "left_brace = parsy.string('{')\n",
    "left_paren = parsy.string('(')\n",
    "less_than = parsy.string('<')\n",
    "right_brace = parsy.string('}')\n",
    "right_paren = parsy.string(')')\n",
    "single_quote = parsy.string(\"'\")"
   ]
  },
  {
   "cell_type": "code",
   "execution_count": null,
   "outputs": [],
   "source": [
    "comma.parse(\",\")"
   ],
   "metadata": {
    "collapsed": false,
    "pycharm": {
     "name": "#%%\n"
    }
   }
  },
  {
   "cell_type": "code",
   "execution_count": null,
   "outputs": [],
   "source": [
    "comma.parse(\", \")"
   ],
   "metadata": {
    "collapsed": false,
    "pycharm": {
     "name": "#%%\n"
    }
   }
  },
  {
   "cell_type": "code",
   "execution_count": null,
   "id": "6a102d53-1089-4a46-8382-36549f850e02",
   "metadata": {
    "pycharm": {
     "name": "#%%\n"
    }
   },
   "outputs": [],
   "source": [
    "# Single-line parsers\n",
    "single_quoted_text = (single_quote >> parsy.regex(r\"[^']+\") << single_quote)\n",
    "\n",
    "auto_picked_observation_set = parsy.string(\"INFO:root:observation_set.Name='Auto-picked Observation Set3'\")\n",
    "parent_well_observations = parsy.string(\"INFO:root:observation_set.Name='ParentWellObservations'\")\n",
    "get_observations = parsy.string(\"INFO:root:len(observation_set.GetObservations())=\") >> parsy.regex(r'\\d+').map(int)\n",
    "observation_set_items = parsy.string(\"INFO:root:len(native_project.ObservationSets.Items)=2\")\n",
    "oid_parser = parsy.string('UUID') >> left_paren >> single_quoted_text.map(uuid.UUID) << right_paren\n",
    "output_path_name = (parsy.string('INFO:root:Wrote changes to') >>\n",
    "                    parsy.regex(r' \"c:\\\\src\\\\Orchid.IntegrationTestData\\\\frankNstein_Bakken_UTM13_FEET.\\d{3}.ifrac\"'))\n",
    "project_name = parsy.string(\"INFO:root:native_project.Name='frankNstein_Bakken_UTM13_FEET'\")\n",
    "unique_attribute_count_per_stage_per_well_equals = parsy.string(\n",
    "    r'INFO:root:Unique counts of attributes per stage per well=')\n",
    "python_var_name = parsy.regex(r'[\\w_\\d]+')\n",
    "python_attribute_name = (python_var_name << dot.optional()).many().map(lambda ns: '.'.join(ns))"
   ]
  },
  {
   "cell_type": "code",
   "execution_count": null,
   "id": "991e746e-9169-4cf8-b029-f17495d77ae2",
   "metadata": {
    "pycharm": {
     "name": "#%%\n"
    }
   },
   "outputs": [],
   "source": [
    "@parsy.generate\n",
    "def attribute_count_per_stage_per_well():\n",
    "    yield unique_attribute_count_per_stage_per_well_equals\n",
    "    yield left_brace\n",
    "    attribute_per_stage_per_well_count = yield integer\n",
    "    yield right_brace\n",
    "    \n",
    "    return attribute_per_stage_per_well_count"
   ]
  },
  {
   "cell_type": "code",
   "execution_count": null,
   "id": "ea5d1cbc-dc7a-4df5-a592-b3a1dbc3fdfe",
   "metadata": {
    "pycharm": {
     "name": "#%%\n"
    }
   },
   "outputs": [],
   "source": [
    "@parsy.generate\n",
    "def get_second_observations_count():\n",
    "    yield project_name\n",
    "    yield newline >> observation_set_items\n",
    "    yield newline >> parent_well_observations\n",
    "    yield newline >> get_observations\n",
    "    yield newline >> auto_picked_observation_set\n",
    "    get_observations_count = yield newline >> get_observations\n",
    "    yield (newline >> attribute_count_per_stage_per_well).optional()\n",
    "    yield newline >> output_path_name\n",
    "    yield newline\n",
    "\n",
    "    return get_observations_count"
   ]
  },
  {
   "cell_type": "code",
   "execution_count": null,
   "id": "be9759df-13e8-470d-aeb4-f2c2e3a9ae2e",
   "metadata": {
    "pycharm": {
     "name": "#%%\n"
    }
   },
   "outputs": [],
   "source": [
    "get_second_observations_count.parse(auto_pick_output_text)"
   ]
  },
  {
   "cell_type": "code",
   "execution_count": null,
   "id": "8033c2f9-c878-444f-9f3b-8cadaa9c980d",
   "metadata": {
    "pycharm": {
     "name": "#%%\n"
    }
   },
   "outputs": [],
   "source": [
    "auto_pick_and_create_attributes_output_text = r\"\"\"INFO:root:native_project.Name='frankNstein_Bakken_UTM13_FEET'\n",
    "INFO:root:len(native_project.ObservationSets.Items)=2\n",
    "INFO:root:observation_set.Name='ParentWellObservations'\n",
    "INFO:root:len(observation_set.GetObservations())=17\n",
    "INFO:root:observation_set.Name='Auto-picked Observation Set3'\n",
    "INFO:root:len(observation_set.GetObservations())=120\n",
    "INFO:root:Unique counts of attributes per stage per well={2}\n",
    "INFO:root:Wrote changes to \"c:\\src\\Orchid.IntegrationTestData\\frankNstein_Bakken_UTM13_FEET.998.ifrac\"\n",
    "\"\"\""
   ]
  },
  {
   "cell_type": "code",
   "execution_count": null,
   "id": "5c8a887c-11a2-402a-911a-ab9069c2eb89",
   "metadata": {
    "pycharm": {
     "name": "#%%\n"
    }
   },
   "outputs": [],
   "source": [
    "@parsy.generate\n",
    "def get_attribute_count_for_each_stage_and_well():\n",
    "    yield project_name\n",
    "    yield newline >> observation_set_items\n",
    "    yield newline >> parent_well_observations\n",
    "    yield newline >> get_observations\n",
    "    yield newline >> auto_picked_observation_set\n",
    "    yield newline >> get_observations\n",
    "    attribute_count_for_each_stage_and_well = yield newline >> attribute_count_per_stage_per_well\n",
    "    yield newline >> output_path_name\n",
    "    yield newline\n",
    "\n",
    "    return attribute_count_for_each_stage_and_well"
   ]
  },
  {
   "cell_type": "code",
   "execution_count": null,
   "id": "6886fb21-1caa-424c-928d-6c9dbb4ffa4c",
   "metadata": {
    "pycharm": {
     "name": "#%%\n"
    }
   },
   "outputs": [],
   "source": [
    "get_attribute_count_for_each_stage_and_well.parse(auto_pick_and_create_attributes_output_text)"
   ]
  },
  {
   "cell_type": "code",
   "execution_count": null,
   "id": "4d1be20a-2726-472c-832a-155f951a87e9",
   "metadata": {
    "pycharm": {
     "name": "#%%\n"
    }
   },
   "outputs": [],
   "source": [
    "add_stages_output_text = r\"\"\"INFO:root:CreatedStageDetails(name='Stage-36', shmin='8144.498 psi', cluster_count=0, global_stage_sequence_no=0, start_time='2018-06-06T05:34:03.684000+00:00', stop_time='2018-06-06T07:19:35.560000+00:00')\n",
    "INFO:root:CreatedStageDetails(name='Stage-37', shmin='2.322 psi', cluster_count=0, global_stage_sequence_no=0, start_time='2018-06-15T14:11:40.450000+00:00', stop_time='2018-06-15T15:10:11.200000+00:00')\n",
    "INFO:root:CreatedStageDetails(name='Stage-38', shmin='8041.893 psi', cluster_count=7, global_stage_sequence_no=0, start_time='2018-06-28T23:35:54.379000+00:00', stop_time='2018-06-29T01:18:05.840000+00:00')\n",
    "INFO:root:Wrote changes to \"c:\\src\\Orchid.IntegrationTestData\\frankNstein_Bakken_UTM13_FEET.996.ifrac\"\n",
    "\"\"\""
   ]
  },
  {
   "cell_type": "code",
   "execution_count": null,
   "outputs": [],
   "source": [
    "@parsy.generate\n",
    "def key_value_pair():\n",
    "    yield python_var_name.desc('key')\n",
    "    value = yield equals >> (single_quoted_text | integer)\n",
    "    return value"
   ],
   "metadata": {
    "collapsed": false,
    "pycharm": {
     "name": "#%%\n"
    }
   }
  },
  {
   "cell_type": "code",
   "execution_count": null,
   "outputs": [],
   "source": [
    "@dc.dataclass\n",
    "class AddedStageDetails:\n",
    "    stage_name: str\n",
    "    shmin: str\n",
    "    cluster_count: int\n",
    "    global_stage_sequence_no: int\n",
    "    start_time: str\n",
    "    stop_time: str\n",
    "\n",
    "@parsy.generate\n",
    "def added_stage_details():\n",
    "    yield parsy.string('INFO:root:CreatedStageDetails')\n",
    "    yield left_paren\n",
    "    stage_name = yield key_value_pair\n",
    "    shmin = yield comma >> key_value_pair\n",
    "    cluster_count = yield comma >> key_value_pair\n",
    "    global_stage_sequence_no = yield comma >> key_value_pair\n",
    "    start_time = yield (comma >> key_value_pair).map(pdt.parse).desc('start_time')\n",
    "    stop_time = yield (comma >> key_value_pair).map(pdt.parse).desc('stop_time')\n",
    "    yield right_paren\n",
    "\n",
    "    return AddedStageDetails(stage_name=stage_name, shmin=shmin, cluster_count=cluster_count,\n",
    "                             global_stage_sequence_no=global_stage_sequence_no,\n",
    "                             start_time=start_time, stop_time=stop_time)"
   ],
   "metadata": {
    "collapsed": false,
    "pycharm": {
     "name": "#%%\n"
    }
   }
  },
  {
   "cell_type": "code",
   "execution_count": null,
   "outputs": [],
   "source": [
    "key_value_pair.parse(\"name='Stage-36'\")"
   ],
   "metadata": {
    "collapsed": false,
    "pycharm": {
     "name": "#%%\n"
    }
   }
  },
  {
   "cell_type": "code",
   "execution_count": null,
   "outputs": [],
   "source": [
    "key_value_pair.parse('cluster_count=0')"
   ],
   "metadata": {
    "collapsed": false,
    "pycharm": {
     "name": "#%%\n"
    }
   }
  },
  {
   "cell_type": "code",
   "execution_count": null,
   "outputs": [],
   "source": [
    "key_value_pair.parse(\"start_time='2018-06-06T05:34:03.684000+00:00'\")"
   ],
   "metadata": {
    "collapsed": false,
    "pycharm": {
     "name": "#%%\n"
    }
   }
  },
  {
   "cell_type": "code",
   "execution_count": null,
   "outputs": [],
   "source": [
    "add_stages_output_text.split('\\n')[0]"
   ],
   "metadata": {
    "collapsed": false,
    "pycharm": {
     "name": "#%%\n"
    }
   }
  },
  {
   "cell_type": "code",
   "execution_count": null,
   "outputs": [],
   "source": [
    "added_stage_details.parse(add_stages_output_text.split('\\n')[0])"
   ],
   "metadata": {
    "collapsed": false,
    "pycharm": {
     "name": "#%%\n"
    }
   }
  },
  {
   "cell_type": "code",
   "execution_count": null,
   "outputs": [],
   "source": [
    "@parsy.generate\n",
    "def get_added_stages():\n",
    "    added_stages_details = yield (added_stage_details << newline).at_least(1)\n",
    "    yield output_path_name\n",
    "    yield newline\n",
    "\n",
    "    return added_stages_details"
   ],
   "metadata": {
    "collapsed": false,
    "pycharm": {
     "name": "#%%\n"
    }
   }
  },
  {
   "cell_type": "code",
   "execution_count": null,
   "outputs": [],
   "source": [
    "get_added_stages.parse(add_stages_output_text)"
   ],
   "metadata": {
    "collapsed": false,
    "pycharm": {
     "name": "#%%\n"
    }
   }
  },
  {
   "cell_type": "code",
   "execution_count": null,
   "outputs": [],
   "source": [
    "monitor_time_series_output_text = r\"\"\"\n",
    "All time series in project\n",
    "{UUID('07d3cc41-1040-4125-8e2e-71726a124181'): <orchid.native_time_series_adapter.NativeTimeSeriesAdapter object at 0x000001915BAAC460>,\n",
    " UUID('1b544d11-55bb-4058-a527-7368046045ec'): <orchid.native_time_series_adapter.NativeTimeSeriesAdapter object at 0x000001915BAAC610>,\n",
    " UUID('d46ce56b-db33-488f-901f-8ec060a4455c'): <orchid.native_time_series_adapter.NativeTimeSeriesAdapter object at 0x000001915BAAC760>,\n",
    " UUID('ed590275-68e9-4001-8934-40386dfd1472'): <orchid.native_time_series_adapter.NativeTimeSeriesAdapter object at 0x000001915BAA9C40>}\n",
    "\n",
    "All monitors in project\n",
    "{UUID('14607f23-95f4-4405-b34b-daa0f924c2be'): <orchid.native_monitor_adapter.NativeMonitorAdapter object at 0x000001915BAB2B20>,\n",
    " UUID('182fa5d0-5695-40e8-ad59-ed18e796ee9c'): <orchid.native_monitor_adapter.NativeMonitorAdapter object at 0x000001915BAB27C0>,\n",
    " UUID('4116e3d3-b1ba-4063-b41e-467c5c00eb20'): <orchid.native_monitor_adapter.NativeMonitorAdapter object at 0x000001915BAA9130>,\n",
    " UUID('44e7ad1c-f6b9-411c-84c3-fa903b1a516c'): <orchid.native_monitor_adapter.NativeMonitorAdapter object at 0x000001915BAB2EE0>,\n",
    " UUID('5b68d8c4-a578-44e7-bc08-b1d83483c4ec'): <orchid.native_monitor_adapter.NativeMonitorAdapter object at 0x000001915BAB2310>,\n",
    " UUID('5e51285b-6ac9-4a23-a360-f56399e4fe6b'): <orchid.native_monitor_adapter.NativeMonitorAdapter object at 0x000001915BAB2D90>,\n",
    " UUID('6777b2fe-7575-4fed-a82a-bb0b0085152d'): <orchid.native_monitor_adapter.NativeMonitorAdapter object at 0x000001915BAB2C40>,\n",
    " UUID('6b024601-ef74-4a82-ae4a-2a91648cae07'): <orchid.native_monitor_adapter.NativeMonitorAdapter object at 0x000001915BAB62B0>,\n",
    " UUID('8660a506-e2a3-4427-8a03-d20e60c214df'): <orchid.native_monitor_adapter.NativeMonitorAdapter object at 0x000001915BAB2580>,\n",
    " UUID('8fab7763-8cad-42f4-8d44-899f2e8691bc'): <orchid.native_monitor_adapter.NativeMonitorAdapter object at 0x000001915BAB2550>,\n",
    " UUID('9d702765-5696-4b38-a54c-84813898f907'): <orchid.native_monitor_adapter.NativeMonitorAdapter object at 0x000001915BAB26A0>,\n",
    " UUID('be89b07b-e37f-4222-9759-acd5682dc7a0'): <orchid.native_monitor_adapter.NativeMonitorAdapter object at 0x000001915BAB2A00>,\n",
    " UUID('c1d35d86-a8a1-4e46-a303-f2f1011a399f'): <orchid.native_monitor_adapter.NativeMonitorAdapter object at 0x000001915BAB28E0>}\n",
    "\n",
    "Monitor of interest:\n",
    "  - Object ID: 5b68d8c4-a578-44e7-bc08-b1d83483c4ec\n",
    "  - Display Name: Demo_2H - stage 1\n",
    "\n",
    "Object ID of monitor time series of interest: 07d3cc41-1040-4125-8e2e-71726a124181\n",
    "\n",
    "Head of time series\n",
    "2018-05-27 18:46:21+00:00    13.21247\n",
    "2018-05-27 18:47:18+00:00    13.25400\n",
    "2018-05-27 18:47:48+00:00    13.28520\n",
    "2018-05-27 18:48:18+00:00    13.26438\n",
    "2018-05-27 18:48:48+00:00    13.24896\n",
    "Name: MonitorData-Demo_2H, dtype: float64\n",
    "\"\"\""
   ],
   "metadata": {
    "collapsed": false,
    "pycharm": {
     "name": "#%%\n"
    }
   }
  },
  {
   "cell_type": "code",
   "execution_count": null,
   "outputs": [],
   "source": [
    "oid_parser = parsy.string('UUID') >> left_paren >> single_quoted_text.map(uuid.UUID) << right_paren"
   ],
   "metadata": {
    "collapsed": false,
    "pycharm": {
     "name": "#%%\n"
    }
   }
  },
  {
   "cell_type": "code",
   "execution_count": null,
   "outputs": [],
   "source": [
    "uuid_element = \"UUID('07d3cc41-1040-4125-8e2e-71726a124181')\""
   ],
   "metadata": {
    "collapsed": false,
    "pycharm": {
     "name": "#%%\n"
    }
   }
  },
  {
   "cell_type": "code",
   "execution_count": null,
   "outputs": [],
   "source": [
    "oid_parser.parse(uuid_element)"
   ],
   "metadata": {
    "collapsed": false,
    "pycharm": {
     "name": "#%%\n"
    }
   }
  },
  {
   "cell_type": "code",
   "execution_count": null,
   "outputs": [],
   "source": [
    "time_series_adapter_output = '<orchid.native_time_series_adapter.NativeTimeSeriesAdapter object at 0x000001915BAAC460>'"
   ],
   "metadata": {
    "collapsed": false,
    "pycharm": {
     "name": "#%%\n"
    }
   }
  },
  {
   "cell_type": "code",
   "execution_count": null,
   "outputs": [],
   "source": [
    "time_series_adapter = less_than >> python_attribute_name << parsy.string(' object at ') << hex_literal << greater_than"
   ],
   "metadata": {
    "collapsed": false,
    "pycharm": {
     "name": "#%%\n"
    }
   }
  },
  {
   "cell_type": "code",
   "execution_count": null,
   "outputs": [],
   "source": [
    "time_series_adapter.parse(time_series_adapter_output)"
   ],
   "metadata": {
    "collapsed": false,
    "pycharm": {
     "name": "#%%\n"
    }
   }
  },
  {
   "cell_type": "code",
   "execution_count": null,
   "outputs": [],
   "source": [
    "@dc.dataclass\n",
    "class BriefOrchidObject:\n",
    "    object_id: uuid.UUID\n",
    "    class_name: str\n",
    "\n",
    "\n",
    "@parsy.generate\n",
    "def brief_orchid_object():\n",
    "    oid = yield oid_parser\n",
    "    yield colon\n",
    "    class_name = yield (less_than >> python_attribute_name\n",
    "                        << parsy.string(' object at ')\n",
    "                        << hex_literal\n",
    "                        << greater_than)\n",
    "\n",
    "    return BriefOrchidObject(object_id=oid, class_name=class_name)"
   ],
   "metadata": {
    "collapsed": false,
    "pycharm": {
     "name": "#%%\n"
    }
   }
  },
  {
   "cell_type": "code",
   "execution_count": null,
   "outputs": [],
   "source": [
    "time_series_in_project_output = \"UUID('07d3cc41-1040-4125-8e2e-71726a124181'): <orchid.native_time_series_adapter.NativeTimeSeriesAdapter object at 0x000001915BAAC460>\""
   ],
   "metadata": {
    "collapsed": false,
    "pycharm": {
     "name": "#%%\n"
    }
   }
  },
  {
   "cell_type": "code",
   "execution_count": null,
   "outputs": [],
   "source": [
    "brief_orchid_object.parse(time_series_in_project_output)"
   ],
   "metadata": {
    "collapsed": false,
    "pycharm": {
     "name": "#%%\n"
    }
   }
  },
  {
   "cell_type": "code",
   "execution_count": null,
   "outputs": [],
   "source": [
    "many_times_series_in_project_output = r\"\"\"{UUID('07d3cc41-1040-4125-8e2e-71726a124181'): <orchid.native_time_series_adapter.NativeTimeSeriesAdapter object at 0x000001915BAAC460>,\n",
    " UUID('1b544d11-55bb-4058-a527-7368046045ec'): <orchid.native_time_series_adapter.NativeTimeSeriesAdapter object at 0x000001915BAAC610>,\n",
    " UUID('d46ce56b-db33-488f-901f-8ec060a4455c'): <orchid.native_time_series_adapter.NativeTimeSeriesAdapter object at 0x000001915BAAC760>,\n",
    " UUID('ed590275-68e9-4001-8934-40386dfd1472'): <orchid.native_time_series_adapter.NativeTimeSeriesAdapter object at 0x000001915BAA9C40>}\"\"\""
   ],
   "metadata": {
    "collapsed": false,
    "pycharm": {
     "name": "#%%\n"
    }
   }
  },
  {
   "cell_type": "code",
   "execution_count": null,
   "outputs": [],
   "source": [
    "@parsy.generate\n",
    "def brief_orchid_objects():\n",
    "    yield parsy.whitespace.optional()\n",
    "    yield left_brace\n",
    "    brief_objects = yield (brief_orchid_object << comma.optional()).many()\n",
    "    yield right_brace\n",
    "\n",
    "    return brief_objects"
   ],
   "metadata": {
    "collapsed": false,
    "pycharm": {
     "name": "#%%\n"
    }
   }
  },
  {
   "cell_type": "code",
   "execution_count": null,
   "outputs": [],
   "source": [
    "brief_orchid_objects.parse(many_times_series_in_project_output)"
   ],
   "metadata": {
    "collapsed": false,
    "pycharm": {
     "name": "#%%\n"
    }
   }
  },
  {
   "cell_type": "code",
   "execution_count": null,
   "outputs": [],
   "source": [
    "@parsy.generate\n",
    "def all_times_series_in_project():\n",
    "    yield newline\n",
    "    yield parsy.string('All time series in project')\n",
    "    yield newline\n",
    "    brief_objects = yield brief_orchid_objects\n",
    "\n",
    "    return brief_objects"
   ],
   "metadata": {
    "collapsed": false,
    "pycharm": {
     "name": "#%%\n"
    }
   }
  },
  {
   "cell_type": "code",
   "execution_count": null,
   "outputs": [],
   "source": [
    "def sections(all_output):\n",
    "    return all_output.split('\\n\\n')"
   ],
   "metadata": {
    "collapsed": false,
    "pycharm": {
     "name": "#%%\n"
    }
   }
  },
  {
   "cell_type": "code",
   "execution_count": null,
   "outputs": [],
   "source": [
    "all_times_series_in_project_output = sections(monitor_time_series_output_text)[0]"
   ],
   "metadata": {
    "collapsed": false,
    "pycharm": {
     "name": "#%%\n"
    }
   }
  },
  {
   "cell_type": "code",
   "execution_count": null,
   "outputs": [],
   "source": [
    "all_times_series_in_project_output"
   ],
   "metadata": {
    "collapsed": false,
    "pycharm": {
     "name": "#%%\n"
    }
   }
  },
  {
   "cell_type": "code",
   "execution_count": null,
   "outputs": [],
   "source": [
    "all_times_series_in_project.parse(all_times_series_in_project_output)"
   ],
   "metadata": {
    "collapsed": false,
    "pycharm": {
     "name": "#%%\n"
    }
   }
  },
  {
   "cell_type": "code",
   "execution_count": null,
   "outputs": [],
   "source": [
    "all_monitors_in_project_output = sections(monitor_time_series_output_text)[1]\n",
    "all_monitors_in_project_output"
   ],
   "metadata": {
    "collapsed": false,
    "pycharm": {
     "name": "#%%\n"
    }
   }
  },
  {
   "cell_type": "code",
   "execution_count": null,
   "outputs": [],
   "source": [
    "@parsy.generate\n",
    "def all_monitors_in_project():\n",
    "    yield parsy.string('All monitors in project')\n",
    "    yield newline\n",
    "    brief_objects = yield brief_orchid_objects\n",
    "\n",
    "    return brief_objects"
   ],
   "metadata": {
    "collapsed": false,
    "pycharm": {
     "name": "#%%\n"
    }
   }
  },
  {
   "cell_type": "code",
   "execution_count": null,
   "outputs": [],
   "source": [
    "all_monitors_in_project.parse(all_monitors_in_project_output)"
   ],
   "metadata": {
    "collapsed": false,
    "pycharm": {
     "name": "#%%\n"
    }
   }
  },
  {
   "cell_type": "code",
   "execution_count": null,
   "outputs": [],
   "source": [],
   "metadata": {
    "collapsed": false,
    "pycharm": {
     "name": "#%%\n"
    }
   }
  }
 ],
 "metadata": {
  "kernelspec": {
   "display_name": "Python 3 (ipykernel)",
   "language": "python",
   "name": "python3"
  },
  "language_info": {
   "codemirror_mode": {
    "name": "ipython",
    "version": 3
   },
   "file_extension": ".py",
   "mimetype": "text/x-python",
   "name": "python",
   "nbconvert_exporter": "python",
   "pygments_lexer": "ipython3",
   "version": "3.8.10"
  }
 },
 "nbformat": 4,
 "nbformat_minor": 5
}