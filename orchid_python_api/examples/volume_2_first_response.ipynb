{
 "cells": [
  {
   "cell_type": "code",
   "execution_count": null,
   "outputs": [],
   "source": [
    "#  Copyright 2017-2021 Reveal Energy Services, Inc\n",
    "#\n",
    "#  Licensed under the Apache License, Version 2.0 (the \"License\");\n",
    "#  you may not use this file except in compliance with the License.\n",
    "#  You may obtain a copy of the License at\n",
    "#\n",
    "#      http://www.apache.org/licenses/LICENSE-2.0\n",
    "#\n",
    "#  Unless required by applicable law or agreed to in writing, software\n",
    "#  distributed under the License is distributed on an \"AS IS\" BASIS,\n",
    "#  WITHOUT WARRANTIES OR CONDITIONS OF ANY KIND, either express or implied.\n",
    "#  See the License for the specific language governing permissions and\n",
    "#  limitations under the License.\n",
    "#\n",
    "# This file is part of Orchid and related technologies.\n",
    "#"
   ],
   "metadata": {
    "collapsed": false,
    "pycharm": {
     "name": "#%%\n"
    }
   }
  },
  {
   "cell_type": "markdown",
   "source": [
    "# Example: Using Pandas to Analyze Volume to First Response (VFR)"
   ],
   "metadata": {
    "collapsed": false
   }
  },
  {
   "cell_type": "markdown",
   "source": [
    "This notebook illustrates using the Orchid* Python API and the pandas package to\n",
    "perform VFR analysis\n",
    "\n",
    "(*Orchid is a mark of Reveal Energy Services, Inc)"
   ],
   "metadata": {
    "collapsed": false
   }
  },
  {
   "cell_type": "markdown",
   "source": [
    "## 0.5 Import packages"
   ],
   "metadata": {
    "collapsed": false
   }
  },
  {
   "cell_type": "markdown",
   "source": [
    "The only import needed for the Python API is `orchid` itself."
   ],
   "metadata": {
    "collapsed": false
   }
  },
  {
   "cell_type": "code",
   "execution_count": null,
   "outputs": [],
   "source": [
    "import orchid"
   ],
   "metadata": {
    "collapsed": false,
    "pycharm": {
     "name": "#%%\n"
    }
   }
  },
  {
   "cell_type": "markdown",
   "source": [
    "The remaining imports are standard python packages to support the analysis."
   ],
   "metadata": {
    "collapsed": false
   }
  },
  {
   "cell_type": "code",
   "execution_count": null,
   "outputs": [],
   "source": [
    "import numpy as np\n",
    "import pandas as pd\n",
    "import matplotlib.pyplot as plt\n",
    "import scipy.signal as signal"
   ],
   "metadata": {
    "collapsed": false,
    "pycharm": {
     "name": "#%%\n"
    }
   }
  },
  {
   "cell_type": "markdown",
   "source": [
    "## 1.0 Load the .ifrac project"
   ],
   "metadata": {
    "collapsed": false
   }
  },
  {
   "cell_type": "markdown",
   "source": [
    "The following code simply captures the configured location of the Orchid training data. It is not needed to\n",
    "use the Orchid Python API itself, but it is used in this example to load well-known data."
   ],
   "metadata": {
    "collapsed": false
   }
  },
  {
   "cell_type": "code",
   "execution_count": null,
   "outputs": [],
   "source": [
    "orchid_training_data_path = orchid.training_data_path()"
   ],
   "metadata": {
    "collapsed": false,
    "pycharm": {
     "name": "#%%\n"
    }
   }
  },
  {
   "cell_type": "code",
   "execution_count": null,
   "outputs": [],
   "source": [
    "bakken_project = orchid.load_project(str(orchid_training_data_path.joinpath(\n",
    "    'frankNstein_Bakken_UTM13_FEET.ifrac')))"
   ],
   "metadata": {
    "collapsed": false,
    "pycharm": {
     "name": "#%%\n"
    }
   }
  },
  {
   "cell_type": "markdown",
   "source": [
    "This function will support taking in an stop time and calculating the treatment aggregates"
   ],
   "metadata": {
    "collapsed": false,
    "pycharm": {
     "name": "#%% md\n"
    }
   }
  },
  {
   "cell_type": "code",
   "execution_count": null,
   "outputs": [],
   "source": [
    "def compute_stage_treatment_aggregates(treatment_stage, stop_time):\n",
    "    # These calculations IGNORE all calculation warnings.\n",
    "    pumped_fluid_volume = orchid.pumped_fluid_volume(treatment_stage,\n",
    "                                                     treatment_stage.start_time,\n",
    "                                                     stop_time)[0].magnitude\n",
    "    total_proppant_mass = orchid.total_proppant_mass(treatment_stage,\n",
    "                                                     treatment_stage.start_time,\n",
    "                                                     stop_time)[0].magnitude\n",
    "    median_treating_pressure = orchid.median_treating_pressure(treatment_stage,\n",
    "                                                               treatment_stage.start_time,\n",
    "                                                               stop_time)[0].magnitude\n",
    "    return pumped_fluid_volume, total_proppant_mass, median_treating_pressure"
   ],
   "metadata": {
    "collapsed": false,
    "pycharm": {
     "name": "#%% Completion Support Function\n"
    }
   }
  },
  {
   "cell_type": "markdown",
   "source": [
    "The first event detection algorithm is to find when the first derivative exceeds a threshold value"
   ],
   "metadata": {
    "collapsed": false,
    "pycharm": {
     "name": "#%% md\n"
    }
   }
  },
  {
   "cell_type": "code",
   "execution_count": 1,
   "outputs": [],
   "source": [
    "def first_derivative_threshold(pressure_curve, threshold, window=51, poly=3):\n",
    "    \"\"\"\n",
    "    The\n",
    "    Args:\n",
    "        pressure_curve: pressure data from the monitoring well.\n",
    "                        Series data, index is time, value is a orchid pressure measurement\n",
    "        threshold: provided a\n",
    "        window: passed to window_length arg in savgol filter\n",
    "        poly: passed to polyorder arg in savgol filter\n",
    "\n",
    "    Returns:\n",
    "\n",
    "    \"\"\"\n",
    "    times = pressure_curve.index.values\n",
    "    pressure = [pc.magnitude for pc in pressure_curve.values]\n",
    "    first_derivative = signal.savgol_filter(pressure_curve,\n",
    "                                          window_length=window,\n",
    "                                          polyorder=poly)\n",
    "\n",
    "    pass"
   ],
   "metadata": {
    "collapsed": false,
    "pycharm": {
     "name": "#%%\n"
    }
   }
  },
  {
   "cell_type": "code",
   "execution_count": null,
   "outputs": [],
   "source": [
    "\n",
    "\n",
    "\n",
    "\n",
    "\n",
    "\n",
    "\n",
    "\n",
    "\n",
    "\n"
   ],
   "metadata": {
    "collapsed": false,
    "pycharm": {
     "name": "#%%\n"
    }
   }
  }
 ],
 "metadata": {
  "kernelspec": {
   "display_name": "Python 3",
   "language": "python",
   "name": "python3"
  },
  "language_info": {
   "codemirror_mode": {
    "name": "ipython",
    "version": 2
   },
   "file_extension": ".py",
   "mimetype": "text/x-python",
   "name": "python",
   "nbconvert_exporter": "python",
   "pygments_lexer": "ipython2",
   "version": "2.7.6"
  }
 },
 "nbformat": 4,
 "nbformat_minor": 0
}