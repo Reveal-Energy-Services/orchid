{
 "cells": [
  {
   "cell_type": "code",
   "execution_count": null,
   "metadata": {
    "collapsed": false,
    "jupyter": {
     "outputs_hidden": false
    },
    "pycharm": {
     "name": "#%%\n"
    }
   },
   "outputs": [],
   "source": [
    "from collections import namedtuple\n",
    "import pathlib"
   ]
  },
  {
   "cell_type": "code",
   "execution_count": null,
   "metadata": {
    "collapsed": false,
    "jupyter": {
     "outputs_hidden": false
    },
    "pycharm": {
     "name": "#%%\n"
    }
   },
   "outputs": [],
   "source": [
    "import numpy as np\n",
    "import pandas as pd\n",
    "import scipy\n",
    "import toolz.curried as toolz"
   ]
  },
  {
   "cell_type": "code",
   "execution_count": null,
   "metadata": {},
   "outputs": [],
   "source": [
    "import orchid"
   ]
  },
  {
   "cell_type": "code",
   "execution_count": null,
   "metadata": {},
   "outputs": [],
   "source": [
    "# project_names = ('bakken', 'permian', 'montney')\n",
    "# project_filenames = ('frankNstein_Bakken_UTM13_FEET.ifrac', \n",
    "#                      'Project_frankNstein_Permian_UTM13_FEET.ifrac', \n",
    "#                      'Project-frankNstein_Montney_UTM13_METERS.ifrac')\n",
    "project_names = ('bakken', 'montney')\n",
    "project_filenames = ('frankNstein_Bakken_UTM13_FEET.ifrac', \n",
    "                     'Project-frankNstein_Montney_UTM13_METERS.ifrac')\n",
    "projects = toolz.pipe(\n",
    "    dict(zip(project_names, project_filenames)),\n",
    "    toolz.valmap(lambda fn: str(pathlib.Path(r'c:\\src\\Orchid.IntegrationTestData').joinpath(fn))),\n",
    "    toolz.valmap(toolz.curry(orchid.load_project)),\n",
    "    toolz.valmap(lambda p: p.dom_object),\n",
    ")\n",
    "projects"
   ]
  },
  {
   "cell_type": "code",
   "execution_count": null,
   "metadata": {},
   "outputs": [],
   "source": [
    "# bakken_project, permian_project, montney_project = toolz.map(lambda pn: projects[pn], projects)\n",
    "bakken_project, montney_project = toolz.map(lambda pn: projects[pn], projects)"
   ]
  },
  {
   "cell_type": "code",
   "execution_count": null,
   "metadata": {},
   "outputs": [],
   "source": [
    "wells = toolz.pipe(projects,\n",
    "    toolz.valmap(lambda project: project.Wells.Items),\n",
    "    toolz.valmap(lambda well_map: [(w.Name, w) for w in well_map]),\n",
    "    toolz.valmap(dict))\n",
    "wells"
   ]
  },
  {
   "cell_type": "code",
   "execution_count": null,
   "metadata": {},
   "outputs": [],
   "source": [
    "def stages(project_name, well_name):\n",
    "    return toolz.pipe(wells,\n",
    "                      toolz.get_in([project_name, well_name]),\n",
    "                      lambda w: w.Stages.Items,\n",
    "                      toolz.map(lambda stage: (stage.DisplayStageNumber, stage)),\n",
    "                      dict)"
   ]
  },
  {
   "cell_type": "code",
   "execution_count": null,
   "metadata": {},
   "outputs": [],
   "source": [
    "StageDetails = namedtuple('StageDetails', ['stage_no', 'center_md'])"
   ]
  },
  {
   "cell_type": "code",
   "execution_count": null,
   "metadata": {},
   "outputs": [],
   "source": [
    "def stage_details(project_name, stage_list, stage_number):\n",
    "    project = projects[project_name]\n",
    "    length_unit = project.ProjectUnits.LengthUnit\n",
    "    stage = stage_list[stage_number]\n",
    "    return StageDetails(stage_number, \n",
    "                        (stage.MdTop.As(length_unit)  + stage.MdBottom.As(length_unit)) / 2)"
   ]
  },
  {
   "cell_type": "code",
   "execution_count": null,
   "metadata": {},
   "outputs": [],
   "source": [
    "bakken_demo_1h_stage_details = toolz.partial(stage_details, 'bakken', stages('bakken', 'Demo_1H'))\n",
    "bakken_demo_2h_stage_details = toolz.partial(stage_details, 'bakken', stages('bakken', 'Demo_2H'))\n",
    "bakken_demo_3h_stage_details = toolz.partial(stage_details, 'bakken', stages('bakken', 'Demo_3H'))\n",
    "bakken_demo_4h_stage_details = toolz.partial(stage_details, 'bakken', stages('bakken', 'Demo_4H'))"
   ]
  },
  {
   "cell_type": "code",
   "execution_count": null,
   "metadata": {},
   "outputs": [],
   "source": [
    "def make_stage_details(details_func, indices):\n",
    "    return [details_func(n)._asdict() for n in indices]"
   ]
  },
  {
   "cell_type": "code",
   "execution_count": null,
   "metadata": {},
   "outputs": [],
   "source": [
    "def make_bakken_stages_details():\n",
    "    result = {}\n",
    "    for header, details_func, indices in [('Bakken Demo_1H', bakken_demo_1h_stage_details, [1, 50, 9, 33]),\n",
    "                                          ('Bakken Demo_2H', bakken_demo_2h_stage_details, [1, 50, 21, 8]),\n",
    "                                          # ('Bakken Demo_3H', bakken_demo_3h_stage_details, [1]),\n",
    "                                          ('Bakken Demo_4H', bakken_demo_4h_stage_details, [1, 35, 7, 26]),\n",
    "                                         ]:\n",
    "        result[header] = make_stage_details(details_func, indices)\n",
    "    return result\n",
    "bakken_stages_details = make_bakken_stages_details()"
   ]
  },
  {
   "cell_type": "code",
   "execution_count": null,
   "metadata": {},
   "outputs": [],
   "source": [
    "def stage_details_to_frame_data(item):\n",
    "    key, value = item\n",
    "    field_name, well_name = key.split()\n",
    "    return list(toolz.map(lambda d: toolz.merge(d, {'field': field_name, 'well': well_name}), value))"
   ]
  },
  {
   "cell_type": "code",
   "execution_count": null,
   "metadata": {},
   "outputs": [],
   "source": [
    "column_names = ['field', 'stage_no', 'center_md',]"
   ]
  },
  {
   "cell_type": "code",
   "execution_count": null,
   "metadata": {},
   "outputs": [],
   "source": [
    "pd.DataFrame(data=toolz.concat(toolz.map(stage_details_to_frame_data, bakken_stages_details.items())), \n",
    "             columns=column_names)"
   ]
  },
  {
   "cell_type": "code",
   "execution_count": null,
   "metadata": {},
   "outputs": [],
   "source": [
    "montney_hori_01_stage_details = toolz.partial(stage_details, 'montney', stages('montney', 'Hori_01'))\n",
    "montney_hori_02_stage_details = toolz.partial(stage_details, 'montney', stages('montney', 'Hori_02'))\n",
    "montney_hori_03_stage_details = toolz.partial(stage_details, 'montney', stages('montney', 'Hori_03'))\n",
    "montney_vert_01_stage_details = toolz.partial(stage_details, 'montney', stages('montney', 'Vert_01'))"
   ]
  },
  {
   "cell_type": "code",
   "execution_count": null,
   "metadata": {},
   "outputs": [],
   "source": [
    "def make_montney_stages_details():\n",
    "    result = {}\n",
    "    for header, details_func, indices in [('Montney Hori_01', montney_hori_01_stage_details, [1, 15, 8, 2]),\n",
    "                                          ('Montney Hori_02', montney_hori_02_stage_details, [1, 29, 8, 14]),\n",
    "                                          ('Montney Hori_03', montney_hori_03_stage_details, [1, 28, 9, 20]),\n",
    "                                          ('Montney Vert_01', montney_vert_01_stage_details, [1, 2, 3, 4]),\n",
    "                                         ]:\n",
    "        result[header] = make_stage_details(details_func, indices)\n",
    "    return result\n",
    "montney_stages_details = make_montney_stages_details()"
   ]
  },
  {
   "cell_type": "code",
   "execution_count": null,
   "metadata": {},
   "outputs": [],
   "source": [
    "pd.DataFrame(data=toolz.concat(toolz.map(stage_details_to_frame_data, montney_stages_details.items())), \n",
    "             columns=column_names)"
   ]
  },
  {
   "cell_type": "code",
   "execution_count": null,
   "metadata": {},
   "outputs": [],
   "source": []
  }
 ],
 "metadata": {
  "kernelspec": {
   "display_name": "Python 3 (ipykernel)",
   "language": "python",
   "name": "python3"
  },
  "language_info": {
   "codemirror_mode": {
    "name": "ipython",
    "version": 3
   },
   "file_extension": ".py",
   "mimetype": "text/x-python",
   "name": "python",
   "nbconvert_exporter": "python",
   "pygments_lexer": "ipython3",
   "version": "3.8.7"
  }
 },
 "nbformat": 4,
 "nbformat_minor": 4
}
