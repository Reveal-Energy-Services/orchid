{
 "cells": [
  {
   "cell_type": "code",
   "execution_count": 32,
   "metadata": {
    "collapsed": false,
    "jupyter": {
     "outputs_hidden": false
    },
    "pycharm": {
     "name": "#%%\n"
    }
   },
   "outputs": [],
   "source": [
    "from collections import namedtuple\n",
    "import dataclasses as dc\n",
    "import pathlib\n",
    "import pprint\n",
    "import random\n",
    "import uuid"
   ]
  },
  {
   "cell_type": "code",
   "execution_count": 33,
   "metadata": {
    "collapsed": false,
    "jupyter": {
     "outputs_hidden": false
    },
    "pycharm": {
     "name": "#%%\n"
    }
   },
   "outputs": [],
   "source": [
    "import numpy as np\n",
    "import matplotlib.pyplot as plt\n",
    "import pandas as pd\n",
    "import pendulum\n",
    "import seaborn as sns"
   ]
  },
  {
   "cell_type": "code",
   "execution_count": 34,
   "metadata": {
    "collapsed": false,
    "jupyter": {
     "outputs_hidden": false
    },
    "pycharm": {
     "name": "#%%\n"
    }
   },
   "outputs": [],
   "source": [
    "from orchid import (project_store as ops)"
   ]
  },
  {
   "cell_type": "code",
   "execution_count": 35,
   "metadata": {
    "collapsed": false,
    "jupyter": {
     "outputs_hidden": false
    },
    "pycharm": {
     "name": "#%%\n"
    }
   },
   "outputs": [],
   "source": [
    "import toolz.curried as toolz"
   ]
  },
  {
   "cell_type": "code",
   "execution_count": 36,
   "metadata": {
    "collapsed": false,
    "jupyter": {
     "outputs_hidden": false
    },
    "pycharm": {
     "name": "#%%\n"
    }
   },
   "outputs": [],
   "source": [
    "# noinspection PyUnresolvedReferences\n",
    "import UnitsNet\n",
    "# noinspection PyUnresolvedReferences\n",
    "from System import DateTime"
   ]
  },
  {
   "cell_type": "code",
   "execution_count": 37,
   "metadata": {
    "collapsed": false,
    "jupyter": {
     "outputs_hidden": false
    },
    "pycharm": {
     "name": "#%%\n"
    }
   },
   "outputs": [],
   "source": [
    "project_filenames = {\n",
    "    'bakken': 'frankNstein_Bakken_UTM13_FEET.ifrac',\n",
    "    'montney': 'Project-frankNstein_Montney_UTM13_METERS.ifrac',\n",
    "}"
   ]
  },
  {
   "cell_type": "code",
   "execution_count": 38,
   "metadata": {
    "collapsed": false,
    "jupyter": {
     "outputs_hidden": false
    },
    "pycharm": {
     "name": "#%%\n"
    }
   },
   "outputs": [
    {
     "data": {
      "text/plain": [
       "{'bakken': WindowsPath('c:/src/Orchid.IntegrationTestData/frankNstein_Bakken_UTM13_FEET.ifrac'),\n",
       " 'montney': WindowsPath('c:/src/Orchid.IntegrationTestData/Project-frankNstein_Montney_UTM13_METERS.ifrac')}"
      ]
     },
     "execution_count": 38,
     "metadata": {},
     "output_type": "execute_result"
    }
   ],
   "source": [
    "test_data_path = pathlib.Path('c:/src/Orchid.IntegrationTestData/')\n",
    "project_path_names = toolz.valmap(lambda fn: test_data_path.joinpath(fn), \n",
    "                                  project_filenames)\n",
    "project_path_names"
   ]
  },
  {
   "cell_type": "code",
   "execution_count": 39,
   "metadata": {
    "collapsed": false,
    "jupyter": {
     "outputs_hidden": false
    },
    "pycharm": {
     "name": "#%%\n"
    }
   },
   "outputs": [
    {
     "data": {
      "text/plain": [
       "{'bakken': <Orchid.FractureDiagnostics.Factories.Implementations.Project object at 0x0000028E0A206E50>,\n",
       " 'montney': <Orchid.FractureDiagnostics.Factories.Implementations.Project object at 0x0000028E249B11C0>}"
      ]
     },
     "execution_count": 39,
     "metadata": {},
     "output_type": "execute_result"
    }
   ],
   "source": [
    "projects = toolz.valmap(\n",
    "    lambda pn: ops.ProjectStore(str(pn)).native_project(),\n",
    "    project_path_names)\n",
    "projects"
   ]
  },
  {
   "cell_type": "code",
   "execution_count": 40,
   "metadata": {},
   "outputs": [
    {
     "data": {
      "text/plain": [
       "{'bakken': <Orchid.FractureDiagnostics.IMonitor[] object at 0x0000028E227E23D0>,\n",
       " 'montney': <Orchid.FractureDiagnostics.IMonitor[] object at 0x0000028E227E2460>}"
      ]
     },
     "execution_count": 40,
     "metadata": {},
     "output_type": "execute_result"
    }
   ],
   "source": [
    "def get_project_monitors(proj):\n",
    "    return proj.Monitors.Items\n",
    "\n",
    "project_monitors = toolz.pipe(\n",
    "    projects,\n",
    "    toolz.valmap(get_project_monitors),\n",
    ")\n",
    "project_monitors"
   ]
  },
  {
   "cell_type": "code",
   "execution_count": 41,
   "metadata": {
    "collapsed": false,
    "jupyter": {
     "outputs_hidden": false
    },
    "pycharm": {
     "name": "#%%\n"
    }
   },
   "outputs": [
    {
     "data": {
      "text/plain": [
       "[13, 2]"
      ]
     },
     "execution_count": 41,
     "metadata": {},
     "output_type": "execute_result"
    }
   ],
   "source": [
    "toolz.pipe(project_monitors.values(),\n",
    "           toolz.map(len),\n",
    "           list,)"
   ]
  },
  {
   "cell_type": "code",
   "execution_count": 42,
   "metadata": {
    "collapsed": false,
    "jupyter": {
     "outputs_hidden": false
    },
    "pycharm": {
     "name": "#%%\n"
    }
   },
   "outputs": [
    {
     "data": {
      "text/plain": [
       "{'bakken': [MonitorBasics(object_id=<System.Guid object at 0x0000028E227EF940>, name='Demo_2H - stage 1', display_name='Demo_2H', start_time='2018-06-06T06:57:39.0728704Z', stop_time='2018-06-08T18:41:57.6818816Z'),\n",
       "  MonitorBasics(object_id=<System.Guid object at 0x0000028E227EF2B0>, name='Demo_4H - stage 6', display_name='Demo_4H', start_time='2018-06-08T10:01:14.0478464Z', stop_time='2018-06-12T08:31:14.5422336Z'),\n",
       "  MonitorBasics(object_id=<System.Guid object at 0x0000028E227EF8B0>, name='Demo_1H - stage 8', display_name='Demo_1H', start_time='2018-06-08T14:30:09.6954368Z', stop_time='2018-06-12T12:40:58.0000000Z'),\n",
       "  MonitorBasics(object_id=<System.Guid object at 0x0000028E227EFF10>, name='Demo_2H - stage 14', display_name='Demo_2H', start_time='2018-06-12T02:58:49.9896192Z', stop_time='2018-06-16T10:44:37.1484416Z'),\n",
       "  MonitorBasics(object_id=<System.Guid object at 0x0000028E227EFAF0>, name='Demo_4H - stage 15', display_name='Demo_4H', start_time='2018-06-16T04:46:26.0778752Z', stop_time='2018-06-19T01:00:07.3059072Z'),\n",
       "  MonitorBasics(object_id=<System.Guid object at 0x0000028E2CAE0040>, name='Demo_1H - stage 22', display_name='Demo_1H', start_time='2018-06-16T08:05:09.6496640Z', stop_time='2018-06-19T04:36:34.6289024Z'),\n",
       "  MonitorBasics(object_id=<System.Guid object at 0x0000028E2CAE00D0>, name='Demo_2H - stage 29', display_name='Demo_2H', start_time='2018-06-18T21:54:39.0344192Z', stop_time='2018-06-22T18:31:17.2888192Z'),\n",
       "  MonitorBasics(object_id=<System.Guid object at 0x0000028E2CAE0160>, name='Demo_4H - stage 25', display_name='Demo_4H', start_time='2018-06-22T13:05:04.2663552Z', stop_time='2018-06-25T08:51:22.6538112Z'),\n",
       "  MonitorBasics(object_id=<System.Guid object at 0x0000028E2CAE01F0>, name='Demo_1H - stage 36', display_name='Demo_1H', start_time='2018-06-22T16:24:09.5910656Z', stop_time='2018-06-25T11:39:06.6796928Z'),\n",
       "  MonitorBasics(object_id=<System.Guid object at 0x0000028E2CAE0280>, name='Demo_2H - stage 43', display_name='Demo_2H', start_time='2018-06-25T05:46:56.1804160Z', stop_time='2018-06-29T00:10:52.0385792Z'),\n",
       "  MonitorBasics(object_id=<System.Guid object at 0x0000028E2CAE0310>, name='Demo_1H - stage 50', display_name='Demo_1H', start_time='2018-06-28T12:43:08.3789056Z', stop_time='2018-07-07T03:13:05.0000000Z'),\n",
       "  MonitorBasics(object_id=<System.Guid object at 0x0000028E227E2940>, name='Demo_4H - stage 35', display_name='Demo_4H', start_time='2018-06-28T18:30:42.1874944Z', stop_time='2018-07-07T03:13:05.0000000Z'),\n",
       "  MonitorBasics(object_id=<System.Guid object at 0x0000028E2CAE0490>, name='Demo_3H - MonitorWell', display_name='Demo_3H', start_time='2018-06-07T16:35:02.0000000Z', stop_time='2018-06-29T11:52:22.0000000Z')],\n",
       " 'montney': [MonitorBasics(object_id=<System.Guid object at 0x0000028E2CAE0520>, name='Vert_01 - 0 - stage 1', display_name='Vert_01', start_time='2018-04-06T16:44:00.0000000Z', stop_time='2018-04-10T03:20:00.0000000Z'),\n",
       "  MonitorBasics(object_id=<System.Guid object at 0x0000028E2CAE05B0>, name='Hori_02 - 0 - stage 1', display_name='Hori_02', start_time='2018-04-06T13:30:00.0000000Z', stop_time='2018-04-09T22:06:00.0000000Z')]}"
      ]
     },
     "execution_count": 42,
     "metadata": {},
     "output_type": "execute_result"
    }
   ],
   "source": [
    "@dc.dataclass\n",
    "class MonitorBasics:\n",
    "    object_id: uuid.UUID\n",
    "    name: str\n",
    "    display_name: str\n",
    "    start_time: pendulum.DateTime\n",
    "    stop_time: pendulum.DateTime\n",
    "\n",
    "@toolz.curry\n",
    "def summarize_monitor_basics(m):\n",
    "    result = MonitorBasics(m.ObjectId, m.DisplayName, m.Name, \n",
    "                           m.StartTime.ToString('o'), m.StopTime.ToString('o'))\n",
    "    return result\n",
    "\n",
    "project_monitor_summaries = toolz.pipe(\n",
    "    project_monitors,\n",
    "    toolz.valmap(toolz.map(summarize_monitor_basics)),\n",
    "    toolz.valmap(list),\n",
    ")\n",
    "project_monitor_summaries"
   ]
  },
  {
   "cell_type": "code",
   "execution_count": 43,
   "metadata": {
    "collapsed": false,
    "jupyter": {
     "outputs_hidden": false
    },
    "pycharm": {
     "name": "#%%\n"
    }
   },
   "outputs": [],
   "source": [
    "selected_field_name = 'bakken'"
   ]
  },
  {
   "cell_type": "code",
   "execution_count": 44,
   "metadata": {
    "collapsed": false,
    "jupyter": {
     "outputs_hidden": false
    },
    "pycharm": {
     "name": "#%%\n"
    }
   },
   "outputs": [],
   "source": [
    "def make_id_summary(field_name, summaries):\n",
    "    field_name_summaries = summaries[field_name]\n",
    "    return {\n",
    "        'field': field_name,\n",
    "        'Object Id': [s.object_id for s in field_name_summaries],\n",
    "        # 'Display Name': [s.display_name for s in field_name_summaries],\n",
    "        # 'Name': [s.name for s in field_name_summaries],\n",
    "        'Start Time': [s.start_time for s in field_name_summaries],\n",
    "        'Stop Time': [s.stop_time for s in field_name_summaries],\n",
    "    }"
   ]
  },
  {
   "cell_type": "code",
   "execution_count": 45,
   "metadata": {
    "collapsed": false,
    "jupyter": {
     "outputs_hidden": false
    },
    "pycharm": {
     "name": "#%%\n"
    }
   },
   "outputs": [
    {
     "data": {
      "text/html": [
       "<div>\n",
       "<style scoped>\n",
       "    .dataframe tbody tr th:only-of-type {\n",
       "        vertical-align: middle;\n",
       "    }\n",
       "\n",
       "    .dataframe tbody tr th {\n",
       "        vertical-align: top;\n",
       "    }\n",
       "\n",
       "    .dataframe thead th {\n",
       "        text-align: right;\n",
       "    }\n",
       "</style>\n",
       "<table border=\"1\" class=\"dataframe\">\n",
       "  <thead>\n",
       "    <tr style=\"text-align: right;\">\n",
       "      <th></th>\n",
       "      <th>field</th>\n",
       "      <th>Object Id</th>\n",
       "      <th>Start Time</th>\n",
       "      <th>Stop Time</th>\n",
       "    </tr>\n",
       "  </thead>\n",
       "  <tbody>\n",
       "    <tr>\n",
       "      <th>0</th>\n",
       "      <td>bakken</td>\n",
       "      <td>5b68d8c4-a578-44e7-bc08-b1d83483c4ec</td>\n",
       "      <td>2018-06-06T06:57:39.0728704Z</td>\n",
       "      <td>2018-06-08T18:41:57.6818816Z</td>\n",
       "    </tr>\n",
       "    <tr>\n",
       "      <th>1</th>\n",
       "      <td>bakken</td>\n",
       "      <td>4116e3d3-b1ba-4063-b41e-467c5c00eb20</td>\n",
       "      <td>2018-06-08T10:01:14.0478464Z</td>\n",
       "      <td>2018-06-12T08:31:14.5422336Z</td>\n",
       "    </tr>\n",
       "    <tr>\n",
       "      <th>2</th>\n",
       "      <td>bakken</td>\n",
       "      <td>8fab7763-8cad-42f4-8d44-899f2e8691bc</td>\n",
       "      <td>2018-06-08T14:30:09.6954368Z</td>\n",
       "      <td>2018-06-12T12:40:58.0000000Z</td>\n",
       "    </tr>\n",
       "    <tr>\n",
       "      <th>3</th>\n",
       "      <td>bakken</td>\n",
       "      <td>8660a506-e2a3-4427-8a03-d20e60c214df</td>\n",
       "      <td>2018-06-12T02:58:49.9896192Z</td>\n",
       "      <td>2018-06-16T10:44:37.1484416Z</td>\n",
       "    </tr>\n",
       "    <tr>\n",
       "      <th>4</th>\n",
       "      <td>bakken</td>\n",
       "      <td>9d702765-5696-4b38-a54c-84813898f907</td>\n",
       "      <td>2018-06-16T04:46:26.0778752Z</td>\n",
       "      <td>2018-06-19T01:00:07.3059072Z</td>\n",
       "    </tr>\n",
       "    <tr>\n",
       "      <th>5</th>\n",
       "      <td>bakken</td>\n",
       "      <td>182fa5d0-5695-40e8-ad59-ed18e796ee9c</td>\n",
       "      <td>2018-06-16T08:05:09.6496640Z</td>\n",
       "      <td>2018-06-19T04:36:34.6289024Z</td>\n",
       "    </tr>\n",
       "    <tr>\n",
       "      <th>6</th>\n",
       "      <td>bakken</td>\n",
       "      <td>c1d35d86-a8a1-4e46-a303-f2f1011a399f</td>\n",
       "      <td>2018-06-18T21:54:39.0344192Z</td>\n",
       "      <td>2018-06-22T18:31:17.2888192Z</td>\n",
       "    </tr>\n",
       "    <tr>\n",
       "      <th>7</th>\n",
       "      <td>bakken</td>\n",
       "      <td>be89b07b-e37f-4222-9759-acd5682dc7a0</td>\n",
       "      <td>2018-06-22T13:05:04.2663552Z</td>\n",
       "      <td>2018-06-25T08:51:22.6538112Z</td>\n",
       "    </tr>\n",
       "    <tr>\n",
       "      <th>8</th>\n",
       "      <td>bakken</td>\n",
       "      <td>14607f23-95f4-4405-b34b-daa0f924c2be</td>\n",
       "      <td>2018-06-22T16:24:09.5910656Z</td>\n",
       "      <td>2018-06-25T11:39:06.6796928Z</td>\n",
       "    </tr>\n",
       "    <tr>\n",
       "      <th>9</th>\n",
       "      <td>bakken</td>\n",
       "      <td>6777b2fe-7575-4fed-a82a-bb0b0085152d</td>\n",
       "      <td>2018-06-25T05:46:56.1804160Z</td>\n",
       "      <td>2018-06-29T00:10:52.0385792Z</td>\n",
       "    </tr>\n",
       "    <tr>\n",
       "      <th>10</th>\n",
       "      <td>bakken</td>\n",
       "      <td>5e51285b-6ac9-4a23-a360-f56399e4fe6b</td>\n",
       "      <td>2018-06-28T12:43:08.3789056Z</td>\n",
       "      <td>2018-07-07T03:13:05.0000000Z</td>\n",
       "    </tr>\n",
       "    <tr>\n",
       "      <th>11</th>\n",
       "      <td>bakken</td>\n",
       "      <td>44e7ad1c-f6b9-411c-84c3-fa903b1a516c</td>\n",
       "      <td>2018-06-28T18:30:42.1874944Z</td>\n",
       "      <td>2018-07-07T03:13:05.0000000Z</td>\n",
       "    </tr>\n",
       "    <tr>\n",
       "      <th>12</th>\n",
       "      <td>bakken</td>\n",
       "      <td>6b024601-ef74-4a82-ae4a-2a91648cae07</td>\n",
       "      <td>2018-06-07T16:35:02.0000000Z</td>\n",
       "      <td>2018-06-29T11:52:22.0000000Z</td>\n",
       "    </tr>\n",
       "  </tbody>\n",
       "</table>\n",
       "</div>"
      ],
      "text/plain": [
       "     field                             Object Id  \\\n",
       "0   bakken  5b68d8c4-a578-44e7-bc08-b1d83483c4ec   \n",
       "1   bakken  4116e3d3-b1ba-4063-b41e-467c5c00eb20   \n",
       "2   bakken  8fab7763-8cad-42f4-8d44-899f2e8691bc   \n",
       "3   bakken  8660a506-e2a3-4427-8a03-d20e60c214df   \n",
       "4   bakken  9d702765-5696-4b38-a54c-84813898f907   \n",
       "5   bakken  182fa5d0-5695-40e8-ad59-ed18e796ee9c   \n",
       "6   bakken  c1d35d86-a8a1-4e46-a303-f2f1011a399f   \n",
       "7   bakken  be89b07b-e37f-4222-9759-acd5682dc7a0   \n",
       "8   bakken  14607f23-95f4-4405-b34b-daa0f924c2be   \n",
       "9   bakken  6777b2fe-7575-4fed-a82a-bb0b0085152d   \n",
       "10  bakken  5e51285b-6ac9-4a23-a360-f56399e4fe6b   \n",
       "11  bakken  44e7ad1c-f6b9-411c-84c3-fa903b1a516c   \n",
       "12  bakken  6b024601-ef74-4a82-ae4a-2a91648cae07   \n",
       "\n",
       "                      Start Time                     Stop Time  \n",
       "0   2018-06-06T06:57:39.0728704Z  2018-06-08T18:41:57.6818816Z  \n",
       "1   2018-06-08T10:01:14.0478464Z  2018-06-12T08:31:14.5422336Z  \n",
       "2   2018-06-08T14:30:09.6954368Z  2018-06-12T12:40:58.0000000Z  \n",
       "3   2018-06-12T02:58:49.9896192Z  2018-06-16T10:44:37.1484416Z  \n",
       "4   2018-06-16T04:46:26.0778752Z  2018-06-19T01:00:07.3059072Z  \n",
       "5   2018-06-16T08:05:09.6496640Z  2018-06-19T04:36:34.6289024Z  \n",
       "6   2018-06-18T21:54:39.0344192Z  2018-06-22T18:31:17.2888192Z  \n",
       "7   2018-06-22T13:05:04.2663552Z  2018-06-25T08:51:22.6538112Z  \n",
       "8   2018-06-22T16:24:09.5910656Z  2018-06-25T11:39:06.6796928Z  \n",
       "9   2018-06-25T05:46:56.1804160Z  2018-06-29T00:10:52.0385792Z  \n",
       "10  2018-06-28T12:43:08.3789056Z  2018-07-07T03:13:05.0000000Z  \n",
       "11  2018-06-28T18:30:42.1874944Z  2018-07-07T03:13:05.0000000Z  \n",
       "12  2018-06-07T16:35:02.0000000Z  2018-06-29T11:52:22.0000000Z  "
      ]
     },
     "execution_count": 45,
     "metadata": {},
     "output_type": "execute_result"
    }
   ],
   "source": [
    "pd.DataFrame(data=make_id_summary('bakken', project_monitor_summaries))"
   ]
  },
  {
   "cell_type": "code",
   "execution_count": 46,
   "metadata": {},
   "outputs": [
    {
     "data": {
      "text/html": [
       "<div>\n",
       "<style scoped>\n",
       "    .dataframe tbody tr th:only-of-type {\n",
       "        vertical-align: middle;\n",
       "    }\n",
       "\n",
       "    .dataframe tbody tr th {\n",
       "        vertical-align: top;\n",
       "    }\n",
       "\n",
       "    .dataframe thead th {\n",
       "        text-align: right;\n",
       "    }\n",
       "</style>\n",
       "<table border=\"1\" class=\"dataframe\">\n",
       "  <thead>\n",
       "    <tr style=\"text-align: right;\">\n",
       "      <th></th>\n",
       "      <th>field</th>\n",
       "      <th>Object Id</th>\n",
       "      <th>Start Time</th>\n",
       "      <th>Stop Time</th>\n",
       "    </tr>\n",
       "  </thead>\n",
       "  <tbody>\n",
       "    <tr>\n",
       "      <th>0</th>\n",
       "      <td>montney</td>\n",
       "      <td>ad002ac7-c2e5-44d4-b3cc-fca9ad84d10e</td>\n",
       "      <td>2018-04-06T16:44:00.0000000Z</td>\n",
       "      <td>2018-04-10T03:20:00.0000000Z</td>\n",
       "    </tr>\n",
       "    <tr>\n",
       "      <th>1</th>\n",
       "      <td>montney</td>\n",
       "      <td>34fbef8a-ba84-4437-bfe4-0b78a3e12199</td>\n",
       "      <td>2018-04-06T13:30:00.0000000Z</td>\n",
       "      <td>2018-04-09T22:06:00.0000000Z</td>\n",
       "    </tr>\n",
       "  </tbody>\n",
       "</table>\n",
       "</div>"
      ],
      "text/plain": [
       "     field                             Object Id  \\\n",
       "0  montney  ad002ac7-c2e5-44d4-b3cc-fca9ad84d10e   \n",
       "1  montney  34fbef8a-ba84-4437-bfe4-0b78a3e12199   \n",
       "\n",
       "                     Start Time                     Stop Time  \n",
       "0  2018-04-06T16:44:00.0000000Z  2018-04-10T03:20:00.0000000Z  \n",
       "1  2018-04-06T13:30:00.0000000Z  2018-04-09T22:06:00.0000000Z  "
      ]
     },
     "execution_count": 46,
     "metadata": {},
     "output_type": "execute_result"
    }
   ],
   "source": [
    "pd.DataFrame(data=make_id_summary('montney', project_monitor_summaries))"
   ]
  },
  {
   "cell_type": "code",
   "execution_count": 47,
   "metadata": {
    "pycharm": {
     "name": "#%%\n"
    }
   },
   "outputs": [
    {
     "name": "stdout",
     "output_type": "stream",
     "text": [
      "{'bakken': {'Demo_1H - stage 22': MonitorSummary(object_id='182fa5d0-5695-40e8-ad59-ed18e796ee9c', name='Demo_1H', display_name='Demo_1H - stage 22', stage_no=22, start='2018-06-16T08:05:09', stop='2018-06-19T04:36:34', time_series_id='ed590275-68e9-4001-8934-40386dfd1472', quantity_name='Pressure', sample_count=114595, samples=<Orchid.FractureDiagnostics.TimeSeries.0, Culture=neutral, PublicKeyToken=b77a5c561934e089]][] object at 0x0000028E227DA940>),\n",
      "            'Demo_1H - stage 36': MonitorSummary(object_id='14607f23-95f4-4405-b34b-daa0f924c2be', name='Demo_1H', display_name='Demo_1H - stage 36', stage_no=36, start='2018-06-22T16:24:09', stop='2018-06-25T11:39:06', time_series_id='ed590275-68e9-4001-8934-40386dfd1472', quantity_name='Pressure', sample_count=114595, samples=<Orchid.FractureDiagnostics.TimeSeries.0, Culture=neutral, PublicKeyToken=b77a5c561934e089]][] object at 0x0000028E2CAF0190>),\n",
      "            'Demo_1H - stage 50': MonitorSummary(object_id='5e51285b-6ac9-4a23-a360-f56399e4fe6b', name='Demo_1H', display_name='Demo_1H - stage 50', stage_no=50, start='2018-06-28T12:43:08', stop='2018-07-07T03:13:05', time_series_id='ed590275-68e9-4001-8934-40386dfd1472', quantity_name='Pressure', sample_count=114595, samples=<Orchid.FractureDiagnostics.TimeSeries.0, Culture=neutral, PublicKeyToken=b77a5c561934e089]][] object at 0x0000028E2CAF0280>),\n",
      "            'Demo_1H - stage 8': MonitorSummary(object_id='8fab7763-8cad-42f4-8d44-899f2e8691bc', name='Demo_1H', display_name='Demo_1H - stage 8', stage_no=8, start='2018-06-08T14:30:09', stop='2018-06-12T12:40:58', time_series_id='ed590275-68e9-4001-8934-40386dfd1472', quantity_name='Pressure', sample_count=114595, samples=<Orchid.FractureDiagnostics.TimeSeries.0, Culture=neutral, PublicKeyToken=b77a5c561934e089]][] object at 0x0000028E227EFDF0>),\n",
      "            'Demo_2H - stage 1': MonitorSummary(object_id='5b68d8c4-a578-44e7-bc08-b1d83483c4ec', name='Demo_2H', display_name='Demo_2H - stage 1', stage_no=1, start='2018-06-06T06:57:39', stop='2018-06-08T18:41:57', time_series_id='07d3cc41-1040-4125-8e2e-71726a124181', quantity_name='Pressure', sample_count=114595, samples=<Orchid.FractureDiagnostics.TimeSeries.0, Culture=neutral, PublicKeyToken=b77a5c561934e089]][] object at 0x0000028E249B10D0>),\n",
      "            'Demo_2H - stage 14': MonitorSummary(object_id='8660a506-e2a3-4427-8a03-d20e60c214df', name='Demo_2H', display_name='Demo_2H - stage 14', stage_no=14, start='2018-06-12T02:58:49', stop='2018-06-16T10:44:37', time_series_id='07d3cc41-1040-4125-8e2e-71726a124181', quantity_name='Pressure', sample_count=114595, samples=<Orchid.FractureDiagnostics.TimeSeries.0, Culture=neutral, PublicKeyToken=b77a5c561934e089]][] object at 0x0000028E227DA160>),\n",
      "            'Demo_2H - stage 29': MonitorSummary(object_id='c1d35d86-a8a1-4e46-a303-f2f1011a399f', name='Demo_2H', display_name='Demo_2H - stage 29', stage_no=29, start='2018-06-18T21:54:39', stop='2018-06-22T18:31:17', time_series_id='07d3cc41-1040-4125-8e2e-71726a124181', quantity_name='Pressure', sample_count=114595, samples=<Orchid.FractureDiagnostics.TimeSeries.0, Culture=neutral, PublicKeyToken=b77a5c561934e089]][] object at 0x0000028E0A206E20>),\n",
      "            'Demo_2H - stage 43': MonitorSummary(object_id='6777b2fe-7575-4fed-a82a-bb0b0085152d', name='Demo_2H', display_name='Demo_2H - stage 43', stage_no=43, start='2018-06-25T05:46:56', stop='2018-06-29T00:10:52', time_series_id='07d3cc41-1040-4125-8e2e-71726a124181', quantity_name='Pressure', sample_count=114595, samples=<Orchid.FractureDiagnostics.TimeSeries.0, Culture=neutral, PublicKeyToken=b77a5c561934e089]][] object at 0x0000028E2CAF01C0>),\n",
      "            'Demo_3H - MonitorWell': MonitorSummary(object_id='6b024601-ef74-4a82-ae4a-2a91648cae07', name='Demo_3H', display_name='Demo_3H - MonitorWell', stage_no='N/A', start='2018-06-07T16:35:02', stop='2018-06-29T11:52:22', time_series_id='1b544d11-55bb-4058-a527-7368046045ec', quantity_name='Pressure', sample_count=62758, samples=<Orchid.FractureDiagnostics.TimeSeries.0, Culture=neutral, PublicKeyToken=b77a5c561934e089]][] object at 0x0000028E2CAF0160>),\n",
      "            'Demo_4H - stage 15': MonitorSummary(object_id='9d702765-5696-4b38-a54c-84813898f907', name='Demo_4H', display_name='Demo_4H - stage 15', stage_no=15, start='2018-06-16T04:46:26', stop='2018-06-19T01:00:07', time_series_id='d46ce56b-db33-488f-901f-8ec060a4455c', quantity_name='Pressure', sample_count=114595, samples=<Orchid.FractureDiagnostics.TimeSeries.0, Culture=neutral, PublicKeyToken=b77a5c561934e089]][] object at 0x0000028E227DA8B0>),\n",
      "            'Demo_4H - stage 25': MonitorSummary(object_id='be89b07b-e37f-4222-9759-acd5682dc7a0', name='Demo_4H', display_name='Demo_4H - stage 25', stage_no=25, start='2018-06-22T13:05:04', stop='2018-06-25T08:51:22', time_series_id='d46ce56b-db33-488f-901f-8ec060a4455c', quantity_name='Pressure', sample_count=114595, samples=<Orchid.FractureDiagnostics.TimeSeries.0, Culture=neutral, PublicKeyToken=b77a5c561934e089]][] object at 0x0000028E2CAF0220>),\n",
      "            'Demo_4H - stage 35': MonitorSummary(object_id='44e7ad1c-f6b9-411c-84c3-fa903b1a516c', name='Demo_4H', display_name='Demo_4H - stage 35', stage_no=35, start='2018-06-28T18:30:42', stop='2018-07-07T03:13:05', time_series_id='d46ce56b-db33-488f-901f-8ec060a4455c', quantity_name='Pressure', sample_count=114595, samples=<Orchid.FractureDiagnostics.TimeSeries.0, Culture=neutral, PublicKeyToken=b77a5c561934e089]][] object at 0x0000028E2CAF0250>),\n",
      "            'Demo_4H - stage 6': MonitorSummary(object_id='4116e3d3-b1ba-4063-b41e-467c5c00eb20', name='Demo_4H', display_name='Demo_4H - stage 6', stage_no=6, start='2018-06-08T10:01:14', stop='2018-06-12T08:31:14', time_series_id='d46ce56b-db33-488f-901f-8ec060a4455c', quantity_name='Pressure', sample_count=114595, samples=<Orchid.FractureDiagnostics.TimeSeries.0, Culture=neutral, PublicKeyToken=b77a5c561934e089]][] object at 0x0000028E2499B6A0>)},\n",
      " 'montney': {'Hori_02 - 0 - stage 1': MonitorSummary(object_id='34fbef8a-ba84-4437-bfe4-0b78a3e12199', name='Hori_02', display_name='Hori_02 - 0 - stage 1', stage_no=1, start='2018-04-06T13:30:00', stop='2018-04-09T22:06:00', time_series_id='2df531f5-2d97-4827-b3c0-a7462f4bfea5', quantity_name='Pressure', sample_count=332478, samples=<Orchid.FractureDiagnostics.TimeSeries.0, Culture=neutral, PublicKeyToken=b77a5c561934e089]][] object at 0x0000028E2CAF0310>),\n",
      "             'Vert_01 - 0 - stage 1': MonitorSummary(object_id='ad002ac7-c2e5-44d4-b3cc-fca9ad84d10e', name='Vert_01', display_name='Vert_01 - 0 - stage 1', stage_no=1, start='2018-04-06T16:44:00', stop='2018-04-10T03:20:00', time_series_id='8f240fa4-a666-40cc-a46b-9d8a5e77b542', quantity_name='Pressure', sample_count=322125, samples=<Orchid.FractureDiagnostics.TimeSeries.0, Culture=neutral, PublicKeyToken=b77a5c561934e089]][] object at 0x0000028E2CAF0100>)}}\n"
     ]
    }
   ],
   "source": [
    "@dc.dataclass\n",
    "class PyTick:\n",
    "    sample_at: DateTime\n",
    "    sample_value: float\n",
    "        \n",
    "MonitorSummary = namedtuple('MonitorSummary', ['object_id',\n",
    "                                               'name', \n",
    "                                               'display_name',\n",
    "                                               'stage_no',\n",
    "                                               'start',\n",
    "                                               'stop',\n",
    "                                               'time_series_id',\n",
    "                                               'quantity_name',\n",
    "                                               'sample_count',\n",
    "                                               'samples'])\n",
    "        \n",
    "def monitors_time_series(ms):\n",
    "    result = toolz.pipe(\n",
    "        ms,\n",
    "        toolz.map(lambda m:  MonitorSummary(\n",
    "            object_id=m.ObjectId.ToString(), \n",
    "            name=m.Name, \n",
    "            display_name=m.DisplayName,\n",
    "            stage_no=m.Stage.DisplayStageNumber if 'Stage' in m.GetType().Name else 'N/A',\n",
    "            start=m.StartTime.ToString('s'),\n",
    "            stop=m.StopTime.ToString('s'),\n",
    "            time_series_id=str(m.TimeSeries.ObjectId), \n",
    "            quantity_name=m.TimeSeries.SampledQuantityName,\n",
    "            sample_count=len(m.TimeSeries.GetOrderedTimeSeriesHistory()), \n",
    "            samples=m.TimeSeries.GetOrderedTimeSeriesHistory())),\n",
    "        lambda summary: sorted(summary, key=lambda ms: ms.display_name),\n",
    "        list,\n",
    "    )\n",
    "    return result\n",
    "\n",
    "project_monitor_time_series = toolz.pipe(\n",
    "    project_monitors,\n",
    "    toolz.valmap(monitors_time_series),\n",
    "    toolz.valmap(toolz.map(lambda ms: {ms.display_name: ms})),\n",
    "    toolz.valmap(toolz.merge),\n",
    ")\n",
    "pprint.pprint(project_monitor_time_series)"
   ]
  },
  {
   "cell_type": "code",
   "execution_count": 48,
   "metadata": {},
   "outputs": [
    {
     "data": {
      "text/plain": [
       "{'Demo_1H': [8, 8, 50, 50, 22, 36, 22, 36],\n",
       " 'Demo_2H': [29, 43, 43, 29, 14, 14, 1, 1],\n",
       " 'Demo_4H': [25, 6, 35, 15, 6, 15, 25, 35],\n",
       " 'Hori_02': [1, 1, 1, 1, 1, 1, 1, 1],\n",
       " 'Vert_01': [1, 1, 1, 1, 1, 1, 1, 1]}"
      ]
     },
     "execution_count": 48,
     "metadata": {},
     "output_type": "execute_result"
    }
   ],
   "source": [
    "def shuffle_em(es):\n",
    "    random.shuffle(es)\n",
    "    return es\n",
    "\n",
    "unshuffled_sample_stages = {\n",
    "    'Demo_1H': [8, 22, 36, 50] * 2,\n",
    "    'Demo_2H': [1, 14, 29, 43] * 2,\n",
    "    'Demo_4H': [6, 15, 25, 35] * 2,\n",
    "}\n",
    "sample_stages = toolz.merge(\n",
    "    toolz.valmap(shuffle_em, unshuffled_sample_stages),\n",
    "    {'Hori_02': [1] * 8,\n",
    "     'Vert_01': [1] * 8}\n",
    ")\n",
    "sample_stages"
   ]
  },
  {
   "cell_type": "code",
   "execution_count": 49,
   "metadata": {},
   "outputs": [],
   "source": [
    "sample_stages = {\n",
    "    'Demo_1H': [22, 50, 22, 8, 36, 50, 36, 8],\n",
    "    'Demo_2H': [29, 14, 1, 29, 1, 14, 43, 43],\n",
    "    'Demo_3H': ['MonitorWell'] * 8,\n",
    "    'Demo_4H': [35, 25, 6, 35, 15, 15, 25, 6],\n",
    "    'Hori_02': [1] * 8,\n",
    "    'Vert_01': [1] * 8,\n",
    "}"
   ]
  },
  {
   "cell_type": "code",
   "execution_count": 50,
   "metadata": {},
   "outputs": [],
   "source": [
    "sample_indices = {\n",
    "    'Demo_1H': [0, 6078, 24489, 35902, 47331, 56567, 94551, 114594],\n",
    "    'Demo_2H': [0, 1105, 14475, 18418, 33263, 83966, 87110, 114594],\n",
    "    'Demo_3H': [0, 9872, 38744, 47718, 58806, 58869, 62026, 62026],\n",
    "    'Demo_4H': [0, 9872, 38744, 47718, 58806, 58869, 62026, 62757],\n",
    "    'Hori_02': [0, 14848, 67025, 138193, 196604, 252497, 256716, 325041],\n",
    "    'Vert_01': [0, 6652, 90175, 134841, 211515, 222007, 300671, 322124],\n",
    "}"
   ]
  },
  {
   "cell_type": "code",
   "execution_count": 51,
   "metadata": {},
   "outputs": [
    {
     "data": {
      "text/plain": [
       "[PyTick(sample_at='2018-04-05T09:26:03', sample_value=16136.96875),\n",
       " PyTick(sample_at='2018-04-05T13:37:11', sample_value=15879.14063),\n",
       " PyTick(sample_at='2018-04-06T04:19:06', sample_value=15373.36328),\n",
       " PyTick(sample_at='2018-04-07T00:21:01', sample_value=24102.6582),\n",
       " PyTick(sample_at='2018-04-07T16:47:21', sample_value=16848.8125),\n",
       " PyTick(sample_at='2018-04-08T08:30:30', sample_value=14907.30176),\n",
       " PyTick(sample_at='2018-04-08T09:42:19', sample_value=14807.57031),\n",
       " PyTick(sample_at='2018-04-09T04:58:44', sample_value=13633.97754)]"
      ]
     },
     "execution_count": 51,
     "metadata": {},
     "output_type": "execute_result"
    }
   ],
   "source": [
    "toolz.pipe(\n",
    "    project_monitor_time_series,\n",
    "    # toolz.get_in(['bakken', 'Demo_1H - stage 50']),\n",
    "    # toolz.get_in(['bakken', 'Demo_2H - stage 1']),\n",
    "    # toolz.get_in(['bakken', 'Demo_3H - MonitorWell']),\n",
    "    # toolz.get_in(['bakken', 'Demo_4H - stage 25']),\n",
    "    toolz.get_in(['montney', 'Hori_02 - 0 - stage 1']),\n",
    "    # lambda ms: toolz.get(sample_indices['Demo_1H'], ms.samples),\n",
    "    # lambda ms: toolz.get(sample_indices['Demo_2H'], ms.samples),\n",
    "    # lambda ms: toolz.get(sample_indices['Demo_3H'], ms.samples),\n",
    "    # lambda ms: toolz.get(sample_indices['Demo_4H'], ms.samples),\n",
    "    lambda ms: toolz.get(sample_indices['Hori_02'], ms.samples),\n",
    "    toolz.map(lambda tick: PyTick(sample_at=tick.Timestamp.ToString('s'), \n",
    "                                  sample_value=tick.Value)),\n",
    "    list,\n",
    ")"
   ]
  },
  {
   "cell_type": "code",
   "execution_count": 62,
   "metadata": {},
   "outputs": [
    {
     "data": {
      "text/plain": [
       "{'bakken': {'Demo_1H - stage 22': {'object_id': '182fa5d0-5695-40e8-ad59-ed18e796ee9c',\n",
       "   'name': 'Demo_1H',\n",
       "   'display_name': 'Demo_1H - stage 22',\n",
       "   'stage_no': 22,\n",
       "   'start': '2018-06-16T08:05:09',\n",
       "   'stop': '2018-06-19T04:36:34',\n",
       "   'time_series_id': 'ed590275-68e9-4001-8934-40386dfd1472',\n",
       "   'quantity_name': 'Pressure',\n",
       "   'sample_count': 114595,\n",
       "   'samples': (<Orchid.FractureDiagnostics.Factories.Implementations.TimeSeries.0, Culture=neutral, PublicKeyToken=b77a5c561934e089]] object at 0x0000028E249B42E0>,\n",
       "    <Orchid.FractureDiagnostics.Factories.Implementations.TimeSeries.0, Culture=neutral, PublicKeyToken=b77a5c561934e089]] object at 0x0000028E249B4FA0>,\n",
       "    <Orchid.FractureDiagnostics.Factories.Implementations.TimeSeries.0, Culture=neutral, PublicKeyToken=b77a5c561934e089]] object at 0x0000028E2498CB80>,\n",
       "    <Orchid.FractureDiagnostics.Factories.Implementations.TimeSeries.0, Culture=neutral, PublicKeyToken=b77a5c561934e089]] object at 0x0000028E2498C550>,\n",
       "    <Orchid.FractureDiagnostics.Factories.Implementations.TimeSeries.0, Culture=neutral, PublicKeyToken=b77a5c561934e089]] object at 0x0000028E2498C190>,\n",
       "    <Orchid.FractureDiagnostics.Factories.Implementations.TimeSeries.0, Culture=neutral, PublicKeyToken=b77a5c561934e089]] object at 0x0000028E2498C3D0>,\n",
       "    <Orchid.FractureDiagnostics.Factories.Implementations.TimeSeries.0, Culture=neutral, PublicKeyToken=b77a5c561934e089]] object at 0x0000028E2498CD30>,\n",
       "    <Orchid.FractureDiagnostics.Factories.Implementations.TimeSeries.0, Culture=neutral, PublicKeyToken=b77a5c561934e089]] object at 0x0000028E2498C760>)},\n",
       "  'Demo_1H - stage 36': {'object_id': '14607f23-95f4-4405-b34b-daa0f924c2be',\n",
       "   'name': 'Demo_1H',\n",
       "   'display_name': 'Demo_1H - stage 36',\n",
       "   'stage_no': 36,\n",
       "   'start': '2018-06-22T16:24:09',\n",
       "   'stop': '2018-06-25T11:39:06',\n",
       "   'time_series_id': 'ed590275-68e9-4001-8934-40386dfd1472',\n",
       "   'quantity_name': 'Pressure',\n",
       "   'sample_count': 114595,\n",
       "   'samples': (<Orchid.FractureDiagnostics.Factories.Implementations.TimeSeries.0, Culture=neutral, PublicKeyToken=b77a5c561934e089]] object at 0x0000028E2498C8B0>,\n",
       "    <Orchid.FractureDiagnostics.Factories.Implementations.TimeSeries.0, Culture=neutral, PublicKeyToken=b77a5c561934e089]] object at 0x0000028E2498C5E0>,\n",
       "    <Orchid.FractureDiagnostics.Factories.Implementations.TimeSeries.0, Culture=neutral, PublicKeyToken=b77a5c561934e089]] object at 0x0000028E2498C5B0>,\n",
       "    <Orchid.FractureDiagnostics.Factories.Implementations.TimeSeries.0, Culture=neutral, PublicKeyToken=b77a5c561934e089]] object at 0x0000028E2498CE50>,\n",
       "    <Orchid.FractureDiagnostics.Factories.Implementations.TimeSeries.0, Culture=neutral, PublicKeyToken=b77a5c561934e089]] object at 0x0000028E2498CD90>,\n",
       "    <Orchid.FractureDiagnostics.Factories.Implementations.TimeSeries.0, Culture=neutral, PublicKeyToken=b77a5c561934e089]] object at 0x0000028E2498C850>,\n",
       "    <Orchid.FractureDiagnostics.Factories.Implementations.TimeSeries.0, Culture=neutral, PublicKeyToken=b77a5c561934e089]] object at 0x0000028E2498CF10>,\n",
       "    <Orchid.FractureDiagnostics.Factories.Implementations.TimeSeries.0, Culture=neutral, PublicKeyToken=b77a5c561934e089]] object at 0x0000028E690B8880>)},\n",
       "  'Demo_1H - stage 50': {'object_id': '5e51285b-6ac9-4a23-a360-f56399e4fe6b',\n",
       "   'name': 'Demo_1H',\n",
       "   'display_name': 'Demo_1H - stage 50',\n",
       "   'stage_no': 50,\n",
       "   'start': '2018-06-28T12:43:08',\n",
       "   'stop': '2018-07-07T03:13:05',\n",
       "   'time_series_id': 'ed590275-68e9-4001-8934-40386dfd1472',\n",
       "   'quantity_name': 'Pressure',\n",
       "   'sample_count': 114595,\n",
       "   'samples': (<Orchid.FractureDiagnostics.Factories.Implementations.TimeSeries.0, Culture=neutral, PublicKeyToken=b77a5c561934e089]] object at 0x0000028E690B8790>,\n",
       "    <Orchid.FractureDiagnostics.Factories.Implementations.TimeSeries.0, Culture=neutral, PublicKeyToken=b77a5c561934e089]] object at 0x0000028E2CAE06D0>,\n",
       "    <Orchid.FractureDiagnostics.Factories.Implementations.TimeSeries.0, Culture=neutral, PublicKeyToken=b77a5c561934e089]] object at 0x0000028E2CAE0AF0>,\n",
       "    <Orchid.FractureDiagnostics.Factories.Implementations.TimeSeries.0, Culture=neutral, PublicKeyToken=b77a5c561934e089]] object at 0x0000028E2CAE0940>,\n",
       "    <Orchid.FractureDiagnostics.Factories.Implementations.TimeSeries.0, Culture=neutral, PublicKeyToken=b77a5c561934e089]] object at 0x0000028E2CAE0910>,\n",
       "    <Orchid.FractureDiagnostics.Factories.Implementations.TimeSeries.0, Culture=neutral, PublicKeyToken=b77a5c561934e089]] object at 0x0000028E2CAE0880>,\n",
       "    <Orchid.FractureDiagnostics.Factories.Implementations.TimeSeries.0, Culture=neutral, PublicKeyToken=b77a5c561934e089]] object at 0x0000028E2CAE0970>,\n",
       "    <Orchid.FractureDiagnostics.Factories.Implementations.TimeSeries.0, Culture=neutral, PublicKeyToken=b77a5c561934e089]] object at 0x0000028E2CAE0CD0>)},\n",
       "  'Demo_1H - stage 8': {'object_id': '8fab7763-8cad-42f4-8d44-899f2e8691bc',\n",
       "   'name': 'Demo_1H',\n",
       "   'display_name': 'Demo_1H - stage 8',\n",
       "   'stage_no': 8,\n",
       "   'start': '2018-06-08T14:30:09',\n",
       "   'stop': '2018-06-12T12:40:58',\n",
       "   'time_series_id': 'ed590275-68e9-4001-8934-40386dfd1472',\n",
       "   'quantity_name': 'Pressure',\n",
       "   'sample_count': 114595,\n",
       "   'samples': (<Orchid.FractureDiagnostics.Factories.Implementations.TimeSeries.0, Culture=neutral, PublicKeyToken=b77a5c561934e089]] object at 0x0000028E2CAE0B50>,\n",
       "    <Orchid.FractureDiagnostics.Factories.Implementations.TimeSeries.0, Culture=neutral, PublicKeyToken=b77a5c561934e089]] object at 0x0000028E2CAE0D90>,\n",
       "    <Orchid.FractureDiagnostics.Factories.Implementations.TimeSeries.0, Culture=neutral, PublicKeyToken=b77a5c561934e089]] object at 0x0000028E2CAE0850>,\n",
       "    <Orchid.FractureDiagnostics.Factories.Implementations.TimeSeries.0, Culture=neutral, PublicKeyToken=b77a5c561934e089]] object at 0x0000028E2CAE0640>,\n",
       "    <Orchid.FractureDiagnostics.Factories.Implementations.TimeSeries.0, Culture=neutral, PublicKeyToken=b77a5c561934e089]] object at 0x0000028E2CAE0FD0>,\n",
       "    <Orchid.FractureDiagnostics.Factories.Implementations.TimeSeries.0, Culture=neutral, PublicKeyToken=b77a5c561934e089]] object at 0x0000028E2CAE0E50>,\n",
       "    <Orchid.FractureDiagnostics.Factories.Implementations.TimeSeries.0, Culture=neutral, PublicKeyToken=b77a5c561934e089]] object at 0x0000028E2CAE08E0>,\n",
       "    <Orchid.FractureDiagnostics.Factories.Implementations.TimeSeries.0, Culture=neutral, PublicKeyToken=b77a5c561934e089]] object at 0x0000028E2CAE0C40>)},\n",
       "  'Demo_2H - stage 1': {'object_id': '5b68d8c4-a578-44e7-bc08-b1d83483c4ec',\n",
       "   'name': 'Demo_2H',\n",
       "   'display_name': 'Demo_2H - stage 1',\n",
       "   'stage_no': 1,\n",
       "   'start': '2018-06-06T06:57:39',\n",
       "   'stop': '2018-06-08T18:41:57',\n",
       "   'time_series_id': '07d3cc41-1040-4125-8e2e-71726a124181',\n",
       "   'quantity_name': 'Pressure',\n",
       "   'sample_count': 114595,\n",
       "   'samples': (<Orchid.FractureDiagnostics.Factories.Implementations.TimeSeries.0, Culture=neutral, PublicKeyToken=b77a5c561934e089]] object at 0x0000028E2CAE0C10>,\n",
       "    <Orchid.FractureDiagnostics.Factories.Implementations.TimeSeries.0, Culture=neutral, PublicKeyToken=b77a5c561934e089]] object at 0x0000028E2CAE09D0>,\n",
       "    <Orchid.FractureDiagnostics.Factories.Implementations.TimeSeries.0, Culture=neutral, PublicKeyToken=b77a5c561934e089]] object at 0x0000028E2CAE0E80>,\n",
       "    <Orchid.FractureDiagnostics.Factories.Implementations.TimeSeries.0, Culture=neutral, PublicKeyToken=b77a5c561934e089]] object at 0x0000028E2CAE0F10>,\n",
       "    <Orchid.FractureDiagnostics.Factories.Implementations.TimeSeries.0, Culture=neutral, PublicKeyToken=b77a5c561934e089]] object at 0x0000028E2CAE0DF0>,\n",
       "    <Orchid.FractureDiagnostics.Factories.Implementations.TimeSeries.0, Culture=neutral, PublicKeyToken=b77a5c561934e089]] object at 0x0000028E2CAE0AC0>,\n",
       "    <Orchid.FractureDiagnostics.Factories.Implementations.TimeSeries.0, Culture=neutral, PublicKeyToken=b77a5c561934e089]] object at 0x0000028E2CAE0430>,\n",
       "    <Orchid.FractureDiagnostics.Factories.Implementations.TimeSeries.0, Culture=neutral, PublicKeyToken=b77a5c561934e089]] object at 0x0000028E2CAE07F0>)},\n",
       "  'Demo_2H - stage 14': {'object_id': '8660a506-e2a3-4427-8a03-d20e60c214df',\n",
       "   'name': 'Demo_2H',\n",
       "   'display_name': 'Demo_2H - stage 14',\n",
       "   'stage_no': 14,\n",
       "   'start': '2018-06-12T02:58:49',\n",
       "   'stop': '2018-06-16T10:44:37',\n",
       "   'time_series_id': '07d3cc41-1040-4125-8e2e-71726a124181',\n",
       "   'quantity_name': 'Pressure',\n",
       "   'sample_count': 114595,\n",
       "   'samples': (<Orchid.FractureDiagnostics.Factories.Implementations.TimeSeries.0, Culture=neutral, PublicKeyToken=b77a5c561934e089]] object at 0x0000028E2CAE0A90>,\n",
       "    <Orchid.FractureDiagnostics.Factories.Implementations.TimeSeries.0, Culture=neutral, PublicKeyToken=b77a5c561934e089]] object at 0x0000028E2CAE0760>,\n",
       "    <Orchid.FractureDiagnostics.Factories.Implementations.TimeSeries.0, Culture=neutral, PublicKeyToken=b77a5c561934e089]] object at 0x0000028E2CAE0A00>,\n",
       "    <Orchid.FractureDiagnostics.Factories.Implementations.TimeSeries.0, Culture=neutral, PublicKeyToken=b77a5c561934e089]] object at 0x0000028E2CAE08B0>,\n",
       "    <Orchid.FractureDiagnostics.Factories.Implementations.TimeSeries.0, Culture=neutral, PublicKeyToken=b77a5c561934e089]] object at 0x0000028E2CAE03D0>,\n",
       "    <Orchid.FractureDiagnostics.Factories.Implementations.TimeSeries.0, Culture=neutral, PublicKeyToken=b77a5c561934e089]] object at 0x0000028E2CAE0E20>,\n",
       "    <Orchid.FractureDiagnostics.Factories.Implementations.TimeSeries.0, Culture=neutral, PublicKeyToken=b77a5c561934e089]] object at 0x0000028E2CAE0A60>,\n",
       "    <Orchid.FractureDiagnostics.Factories.Implementations.TimeSeries.0, Culture=neutral, PublicKeyToken=b77a5c561934e089]] object at 0x0000028E2CAE06A0>)},\n",
       "  'Demo_2H - stage 29': {'object_id': 'c1d35d86-a8a1-4e46-a303-f2f1011a399f',\n",
       "   'name': 'Demo_2H',\n",
       "   'display_name': 'Demo_2H - stage 29',\n",
       "   'stage_no': 29,\n",
       "   'start': '2018-06-18T21:54:39',\n",
       "   'stop': '2018-06-22T18:31:17',\n",
       "   'time_series_id': '07d3cc41-1040-4125-8e2e-71726a124181',\n",
       "   'quantity_name': 'Pressure',\n",
       "   'sample_count': 114595,\n",
       "   'samples': (<Orchid.FractureDiagnostics.Factories.Implementations.TimeSeries.0, Culture=neutral, PublicKeyToken=b77a5c561934e089]] object at 0x0000028E2CAE0EB0>,\n",
       "    <Orchid.FractureDiagnostics.Factories.Implementations.TimeSeries.0, Culture=neutral, PublicKeyToken=b77a5c561934e089]] object at 0x0000028E2CAE0A30>,\n",
       "    <Orchid.FractureDiagnostics.Factories.Implementations.TimeSeries.0, Culture=neutral, PublicKeyToken=b77a5c561934e089]] object at 0x0000028E2CAE0DC0>,\n",
       "    <Orchid.FractureDiagnostics.Factories.Implementations.TimeSeries.0, Culture=neutral, PublicKeyToken=b77a5c561934e089]] object at 0x0000028E7A057AC0>,\n",
       "    <Orchid.FractureDiagnostics.Factories.Implementations.TimeSeries.0, Culture=neutral, PublicKeyToken=b77a5c561934e089]] object at 0x0000028E7A057A60>,\n",
       "    <Orchid.FractureDiagnostics.Factories.Implementations.TimeSeries.0, Culture=neutral, PublicKeyToken=b77a5c561934e089]] object at 0x0000028E7A057A30>,\n",
       "    <Orchid.FractureDiagnostics.Factories.Implementations.TimeSeries.0, Culture=neutral, PublicKeyToken=b77a5c561934e089]] object at 0x0000028E227D7BB0>,\n",
       "    <Orchid.FractureDiagnostics.Factories.Implementations.TimeSeries.0, Culture=neutral, PublicKeyToken=b77a5c561934e089]] object at 0x0000028E227D7A90>)},\n",
       "  'Demo_2H - stage 43': {'object_id': '6777b2fe-7575-4fed-a82a-bb0b0085152d',\n",
       "   'name': 'Demo_2H',\n",
       "   'display_name': 'Demo_2H - stage 43',\n",
       "   'stage_no': 43,\n",
       "   'start': '2018-06-25T05:46:56',\n",
       "   'stop': '2018-06-29T00:10:52',\n",
       "   'time_series_id': '07d3cc41-1040-4125-8e2e-71726a124181',\n",
       "   'quantity_name': 'Pressure',\n",
       "   'sample_count': 114595,\n",
       "   'samples': (<Orchid.FractureDiagnostics.Factories.Implementations.TimeSeries.0, Culture=neutral, PublicKeyToken=b77a5c561934e089]] object at 0x0000028E227D7CD0>,\n",
       "    <Orchid.FractureDiagnostics.Factories.Implementations.TimeSeries.0, Culture=neutral, PublicKeyToken=b77a5c561934e089]] object at 0x0000028E227D7CA0>,\n",
       "    <Orchid.FractureDiagnostics.Factories.Implementations.TimeSeries.0, Culture=neutral, PublicKeyToken=b77a5c561934e089]] object at 0x0000028E227D7E20>,\n",
       "    <Orchid.FractureDiagnostics.Factories.Implementations.TimeSeries.0, Culture=neutral, PublicKeyToken=b77a5c561934e089]] object at 0x0000028E2CB01040>,\n",
       "    <Orchid.FractureDiagnostics.Factories.Implementations.TimeSeries.0, Culture=neutral, PublicKeyToken=b77a5c561934e089]] object at 0x0000028E2CB01070>,\n",
       "    <Orchid.FractureDiagnostics.Factories.Implementations.TimeSeries.0, Culture=neutral, PublicKeyToken=b77a5c561934e089]] object at 0x0000028E2CB010A0>,\n",
       "    <Orchid.FractureDiagnostics.Factories.Implementations.TimeSeries.0, Culture=neutral, PublicKeyToken=b77a5c561934e089]] object at 0x0000028E2CB010D0>,\n",
       "    <Orchid.FractureDiagnostics.Factories.Implementations.TimeSeries.0, Culture=neutral, PublicKeyToken=b77a5c561934e089]] object at 0x0000028E2CB01100>)},\n",
       "  'Demo_3H - MonitorWell': {'object_id': '6b024601-ef74-4a82-ae4a-2a91648cae07',\n",
       "   'name': 'Demo_3H',\n",
       "   'display_name': 'Demo_3H - MonitorWell',\n",
       "   'stage_no': 'N/A',\n",
       "   'start': '2018-06-07T16:35:02',\n",
       "   'stop': '2018-06-29T11:52:22',\n",
       "   'time_series_id': '1b544d11-55bb-4058-a527-7368046045ec',\n",
       "   'quantity_name': 'Pressure',\n",
       "   'sample_count': 62758,\n",
       "   'samples': (<Orchid.FractureDiagnostics.Factories.Implementations.TimeSeries.0, Culture=neutral, PublicKeyToken=b77a5c561934e089]] object at 0x0000028E2CB01130>,\n",
       "    <Orchid.FractureDiagnostics.Factories.Implementations.TimeSeries.0, Culture=neutral, PublicKeyToken=b77a5c561934e089]] object at 0x0000028E2CB01160>,\n",
       "    <Orchid.FractureDiagnostics.Factories.Implementations.TimeSeries.0, Culture=neutral, PublicKeyToken=b77a5c561934e089]] object at 0x0000028E2CB01190>,\n",
       "    <Orchid.FractureDiagnostics.Factories.Implementations.TimeSeries.0, Culture=neutral, PublicKeyToken=b77a5c561934e089]] object at 0x0000028E2CB011C0>,\n",
       "    <Orchid.FractureDiagnostics.Factories.Implementations.TimeSeries.0, Culture=neutral, PublicKeyToken=b77a5c561934e089]] object at 0x0000028E2CB011F0>,\n",
       "    <Orchid.FractureDiagnostics.Factories.Implementations.TimeSeries.0, Culture=neutral, PublicKeyToken=b77a5c561934e089]] object at 0x0000028E2CB01220>,\n",
       "    <Orchid.FractureDiagnostics.Factories.Implementations.TimeSeries.0, Culture=neutral, PublicKeyToken=b77a5c561934e089]] object at 0x0000028E2CB01250>,\n",
       "    <Orchid.FractureDiagnostics.Factories.Implementations.TimeSeries.0, Culture=neutral, PublicKeyToken=b77a5c561934e089]] object at 0x0000028E2CB01280>)},\n",
       "  'Demo_4H - stage 15': {'object_id': '9d702765-5696-4b38-a54c-84813898f907',\n",
       "   'name': 'Demo_4H',\n",
       "   'display_name': 'Demo_4H - stage 15',\n",
       "   'stage_no': 15,\n",
       "   'start': '2018-06-16T04:46:26',\n",
       "   'stop': '2018-06-19T01:00:07',\n",
       "   'time_series_id': 'd46ce56b-db33-488f-901f-8ec060a4455c',\n",
       "   'quantity_name': 'Pressure',\n",
       "   'sample_count': 114595,\n",
       "   'samples': (<Orchid.FractureDiagnostics.Factories.Implementations.TimeSeries.0, Culture=neutral, PublicKeyToken=b77a5c561934e089]] object at 0x0000028E2CB012B0>,\n",
       "    <Orchid.FractureDiagnostics.Factories.Implementations.TimeSeries.0, Culture=neutral, PublicKeyToken=b77a5c561934e089]] object at 0x0000028E2CB012E0>,\n",
       "    <Orchid.FractureDiagnostics.Factories.Implementations.TimeSeries.0, Culture=neutral, PublicKeyToken=b77a5c561934e089]] object at 0x0000028E2CB01310>,\n",
       "    <Orchid.FractureDiagnostics.Factories.Implementations.TimeSeries.0, Culture=neutral, PublicKeyToken=b77a5c561934e089]] object at 0x0000028E2CB01340>,\n",
       "    <Orchid.FractureDiagnostics.Factories.Implementations.TimeSeries.0, Culture=neutral, PublicKeyToken=b77a5c561934e089]] object at 0x0000028E2CB01370>,\n",
       "    <Orchid.FractureDiagnostics.Factories.Implementations.TimeSeries.0, Culture=neutral, PublicKeyToken=b77a5c561934e089]] object at 0x0000028E2CB013A0>,\n",
       "    <Orchid.FractureDiagnostics.Factories.Implementations.TimeSeries.0, Culture=neutral, PublicKeyToken=b77a5c561934e089]] object at 0x0000028E2CB013D0>,\n",
       "    <Orchid.FractureDiagnostics.Factories.Implementations.TimeSeries.0, Culture=neutral, PublicKeyToken=b77a5c561934e089]] object at 0x0000028E2CB01400>)},\n",
       "  'Demo_4H - stage 25': {'object_id': 'be89b07b-e37f-4222-9759-acd5682dc7a0',\n",
       "   'name': 'Demo_4H',\n",
       "   'display_name': 'Demo_4H - stage 25',\n",
       "   'stage_no': 25,\n",
       "   'start': '2018-06-22T13:05:04',\n",
       "   'stop': '2018-06-25T08:51:22',\n",
       "   'time_series_id': 'd46ce56b-db33-488f-901f-8ec060a4455c',\n",
       "   'quantity_name': 'Pressure',\n",
       "   'sample_count': 114595,\n",
       "   'samples': (<Orchid.FractureDiagnostics.Factories.Implementations.TimeSeries.0, Culture=neutral, PublicKeyToken=b77a5c561934e089]] object at 0x0000028E2CB01430>,\n",
       "    <Orchid.FractureDiagnostics.Factories.Implementations.TimeSeries.0, Culture=neutral, PublicKeyToken=b77a5c561934e089]] object at 0x0000028E2CB01460>,\n",
       "    <Orchid.FractureDiagnostics.Factories.Implementations.TimeSeries.0, Culture=neutral, PublicKeyToken=b77a5c561934e089]] object at 0x0000028E2CB01490>,\n",
       "    <Orchid.FractureDiagnostics.Factories.Implementations.TimeSeries.0, Culture=neutral, PublicKeyToken=b77a5c561934e089]] object at 0x0000028E2CB014C0>,\n",
       "    <Orchid.FractureDiagnostics.Factories.Implementations.TimeSeries.0, Culture=neutral, PublicKeyToken=b77a5c561934e089]] object at 0x0000028E2CB014F0>,\n",
       "    <Orchid.FractureDiagnostics.Factories.Implementations.TimeSeries.0, Culture=neutral, PublicKeyToken=b77a5c561934e089]] object at 0x0000028E2CB01520>,\n",
       "    <Orchid.FractureDiagnostics.Factories.Implementations.TimeSeries.0, Culture=neutral, PublicKeyToken=b77a5c561934e089]] object at 0x0000028E2CB01550>,\n",
       "    <Orchid.FractureDiagnostics.Factories.Implementations.TimeSeries.0, Culture=neutral, PublicKeyToken=b77a5c561934e089]] object at 0x0000028E2CB01580>)},\n",
       "  'Demo_4H - stage 35': {'object_id': '44e7ad1c-f6b9-411c-84c3-fa903b1a516c',\n",
       "   'name': 'Demo_4H',\n",
       "   'display_name': 'Demo_4H - stage 35',\n",
       "   'stage_no': 35,\n",
       "   'start': '2018-06-28T18:30:42',\n",
       "   'stop': '2018-07-07T03:13:05',\n",
       "   'time_series_id': 'd46ce56b-db33-488f-901f-8ec060a4455c',\n",
       "   'quantity_name': 'Pressure',\n",
       "   'sample_count': 114595,\n",
       "   'samples': (<Orchid.FractureDiagnostics.Factories.Implementations.TimeSeries.0, Culture=neutral, PublicKeyToken=b77a5c561934e089]] object at 0x0000028E2CB015B0>,\n",
       "    <Orchid.FractureDiagnostics.Factories.Implementations.TimeSeries.0, Culture=neutral, PublicKeyToken=b77a5c561934e089]] object at 0x0000028E2CB015E0>,\n",
       "    <Orchid.FractureDiagnostics.Factories.Implementations.TimeSeries.0, Culture=neutral, PublicKeyToken=b77a5c561934e089]] object at 0x0000028E2CB01610>,\n",
       "    <Orchid.FractureDiagnostics.Factories.Implementations.TimeSeries.0, Culture=neutral, PublicKeyToken=b77a5c561934e089]] object at 0x0000028E2CB01640>,\n",
       "    <Orchid.FractureDiagnostics.Factories.Implementations.TimeSeries.0, Culture=neutral, PublicKeyToken=b77a5c561934e089]] object at 0x0000028E2CB01670>,\n",
       "    <Orchid.FractureDiagnostics.Factories.Implementations.TimeSeries.0, Culture=neutral, PublicKeyToken=b77a5c561934e089]] object at 0x0000028E2CB016A0>,\n",
       "    <Orchid.FractureDiagnostics.Factories.Implementations.TimeSeries.0, Culture=neutral, PublicKeyToken=b77a5c561934e089]] object at 0x0000028E2CB016D0>,\n",
       "    <Orchid.FractureDiagnostics.Factories.Implementations.TimeSeries.0, Culture=neutral, PublicKeyToken=b77a5c561934e089]] object at 0x0000028E2CB01700>)},\n",
       "  'Demo_4H - stage 6': {'object_id': '4116e3d3-b1ba-4063-b41e-467c5c00eb20',\n",
       "   'name': 'Demo_4H',\n",
       "   'display_name': 'Demo_4H - stage 6',\n",
       "   'stage_no': 6,\n",
       "   'start': '2018-06-08T10:01:14',\n",
       "   'stop': '2018-06-12T08:31:14',\n",
       "   'time_series_id': 'd46ce56b-db33-488f-901f-8ec060a4455c',\n",
       "   'quantity_name': 'Pressure',\n",
       "   'sample_count': 114595,\n",
       "   'samples': (<Orchid.FractureDiagnostics.Factories.Implementations.TimeSeries.0, Culture=neutral, PublicKeyToken=b77a5c561934e089]] object at 0x0000028E2CB01730>,\n",
       "    <Orchid.FractureDiagnostics.Factories.Implementations.TimeSeries.0, Culture=neutral, PublicKeyToken=b77a5c561934e089]] object at 0x0000028E2CB01760>,\n",
       "    <Orchid.FractureDiagnostics.Factories.Implementations.TimeSeries.0, Culture=neutral, PublicKeyToken=b77a5c561934e089]] object at 0x0000028E2CB01790>,\n",
       "    <Orchid.FractureDiagnostics.Factories.Implementations.TimeSeries.0, Culture=neutral, PublicKeyToken=b77a5c561934e089]] object at 0x0000028E2CB017C0>,\n",
       "    <Orchid.FractureDiagnostics.Factories.Implementations.TimeSeries.0, Culture=neutral, PublicKeyToken=b77a5c561934e089]] object at 0x0000028E2CB017F0>,\n",
       "    <Orchid.FractureDiagnostics.Factories.Implementations.TimeSeries.0, Culture=neutral, PublicKeyToken=b77a5c561934e089]] object at 0x0000028E2CB01820>,\n",
       "    <Orchid.FractureDiagnostics.Factories.Implementations.TimeSeries.0, Culture=neutral, PublicKeyToken=b77a5c561934e089]] object at 0x0000028E2CB01850>,\n",
       "    <Orchid.FractureDiagnostics.Factories.Implementations.TimeSeries.0, Culture=neutral, PublicKeyToken=b77a5c561934e089]] object at 0x0000028E2CB01880>)}},\n",
       " 'montney': {'Hori_02 - 0 - stage 1': {'object_id': '34fbef8a-ba84-4437-bfe4-0b78a3e12199',\n",
       "   'name': 'Hori_02',\n",
       "   'display_name': 'Hori_02 - 0 - stage 1',\n",
       "   'stage_no': 1,\n",
       "   'start': '2018-04-06T13:30:00',\n",
       "   'stop': '2018-04-09T22:06:00',\n",
       "   'time_series_id': '2df531f5-2d97-4827-b3c0-a7462f4bfea5',\n",
       "   'quantity_name': 'Pressure',\n",
       "   'sample_count': 332478,\n",
       "   'samples': (<Orchid.FractureDiagnostics.Factories.Implementations.TimeSeries.0, Culture=neutral, PublicKeyToken=b77a5c561934e089]] object at 0x0000028E2CB018B0>,\n",
       "    <Orchid.FractureDiagnostics.Factories.Implementations.TimeSeries.0, Culture=neutral, PublicKeyToken=b77a5c561934e089]] object at 0x0000028E2CB018E0>,\n",
       "    <Orchid.FractureDiagnostics.Factories.Implementations.TimeSeries.0, Culture=neutral, PublicKeyToken=b77a5c561934e089]] object at 0x0000028E2CB01910>,\n",
       "    <Orchid.FractureDiagnostics.Factories.Implementations.TimeSeries.0, Culture=neutral, PublicKeyToken=b77a5c561934e089]] object at 0x0000028E2CB01940>,\n",
       "    <Orchid.FractureDiagnostics.Factories.Implementations.TimeSeries.0, Culture=neutral, PublicKeyToken=b77a5c561934e089]] object at 0x0000028E2CB01970>,\n",
       "    <Orchid.FractureDiagnostics.Factories.Implementations.TimeSeries.0, Culture=neutral, PublicKeyToken=b77a5c561934e089]] object at 0x0000028E2CB019A0>,\n",
       "    <Orchid.FractureDiagnostics.Factories.Implementations.TimeSeries.0, Culture=neutral, PublicKeyToken=b77a5c561934e089]] object at 0x0000028E2CB019D0>,\n",
       "    <Orchid.FractureDiagnostics.Factories.Implementations.TimeSeries.0, Culture=neutral, PublicKeyToken=b77a5c561934e089]] object at 0x0000028E2CB01A00>)},\n",
       "  'Vert_01 - 0 - stage 1': {'object_id': 'ad002ac7-c2e5-44d4-b3cc-fca9ad84d10e',\n",
       "   'name': 'Vert_01',\n",
       "   'display_name': 'Vert_01 - 0 - stage 1',\n",
       "   'stage_no': 1,\n",
       "   'start': '2018-04-06T16:44:00',\n",
       "   'stop': '2018-04-10T03:20:00',\n",
       "   'time_series_id': '8f240fa4-a666-40cc-a46b-9d8a5e77b542',\n",
       "   'quantity_name': 'Pressure',\n",
       "   'sample_count': 322125,\n",
       "   'samples': (<Orchid.FractureDiagnostics.Factories.Implementations.TimeSeries.0, Culture=neutral, PublicKeyToken=b77a5c561934e089]] object at 0x0000028E2CB01A30>,\n",
       "    <Orchid.FractureDiagnostics.Factories.Implementations.TimeSeries.0, Culture=neutral, PublicKeyToken=b77a5c561934e089]] object at 0x0000028E2CB01A60>,\n",
       "    <Orchid.FractureDiagnostics.Factories.Implementations.TimeSeries.0, Culture=neutral, PublicKeyToken=b77a5c561934e089]] object at 0x0000028E2CB01A90>,\n",
       "    <Orchid.FractureDiagnostics.Factories.Implementations.TimeSeries.0, Culture=neutral, PublicKeyToken=b77a5c561934e089]] object at 0x0000028E2CB01AC0>,\n",
       "    <Orchid.FractureDiagnostics.Factories.Implementations.TimeSeries.0, Culture=neutral, PublicKeyToken=b77a5c561934e089]] object at 0x0000028E2CB01AF0>,\n",
       "    <Orchid.FractureDiagnostics.Factories.Implementations.TimeSeries.0, Culture=neutral, PublicKeyToken=b77a5c561934e089]] object at 0x0000028E2CB01B20>,\n",
       "    <Orchid.FractureDiagnostics.Factories.Implementations.TimeSeries.0, Culture=neutral, PublicKeyToken=b77a5c561934e089]] object at 0x0000028E2CB01B50>,\n",
       "    <Orchid.FractureDiagnostics.Factories.Implementations.TimeSeries.0, Culture=neutral, PublicKeyToken=b77a5c561934e089]] object at 0x0000028E2CB01B80>)}}}"
      ]
     },
     "execution_count": 62,
     "metadata": {},
     "output_type": "execute_result"
    }
   ],
   "source": [
    "def sample_monitor_summary(monitor_summary):\n",
    "    result = toolz.assoc(\n",
    "        monitor_summary,\n",
    "        'samples',\n",
    "        toolz.pipe(\n",
    "            toolz.get(sample_indices[monitor_summary['name']], monitor_summary['samples'])),\n",
    "#             toolz.map(lambda tick: PyTick(sample_at=tick.Timestamp.ToString('s'), \n",
    "#                                   sample_value=tick.Value)),\n",
    "       )\n",
    "    return result\n",
    "        \n",
    "\n",
    "toolz.pipe(\n",
    "    project_monitor_time_series,\n",
    "    toolz.valmap(toolz.valmap(lambda ms: ms._asdict())),\n",
    "    toolz.valmap(toolz.valmap(sample_monitor_summary)),\n",
    ")"
   ]
  },
  {
   "cell_type": "code",
   "execution_count": null,
   "metadata": {},
   "outputs": [],
   "source": []
  }
 ],
 "metadata": {
  "kernelspec": {
   "display_name": "Python 3 (ipykernel)",
   "language": "python",
   "name": "python3"
  },
  "language_info": {
   "codemirror_mode": {
    "name": "ipython",
    "version": 3
   },
   "file_extension": ".py",
   "mimetype": "text/x-python",
   "name": "python",
   "nbconvert_exporter": "python",
   "pygments_lexer": "ipython3",
   "version": "3.8.7"
  }
 },
 "nbformat": 4,
 "nbformat_minor": 4
}
