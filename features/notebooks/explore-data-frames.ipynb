{
 "cells": [
  {
   "cell_type": "code",
   "execution_count": null,
   "metadata": {
    "collapsed": false,
    "jupyter": {
     "outputs_hidden": false
    },
    "pycharm": {
     "name": "#%%\n"
    }
   },
   "outputs": [],
   "source": [
    "import pathlib"
   ]
  },
  {
   "cell_type": "code",
   "execution_count": null,
   "metadata": {
    "collapsed": false,
    "jupyter": {
     "outputs_hidden": false
    },
    "pycharm": {
     "name": "#%%\n"
    }
   },
   "outputs": [],
   "source": [
    "import numpy as np\n",
    "import matplotlib.pyplot as plt\n",
    "import pandas as pd\n",
    "import seaborn as sns"
   ]
  },
  {
   "cell_type": "code",
   "execution_count": null,
   "metadata": {
    "collapsed": false,
    "jupyter": {
     "outputs_hidden": false
    },
    "pycharm": {
     "name": "#%%\n"
    }
   },
   "outputs": [],
   "source": [
    "from orchid import (project_loader as opl)"
   ]
  },
  {
   "cell_type": "code",
   "execution_count": null,
   "metadata": {
    "collapsed": false,
    "jupyter": {
     "outputs_hidden": false
    },
    "pycharm": {
     "name": "#%%\n"
    }
   },
   "outputs": [],
   "source": [
    "import toolz.curried as toolz"
   ]
  },
  {
   "cell_type": "code",
   "execution_count": null,
   "metadata": {
    "collapsed": false,
    "jupyter": {
     "outputs_hidden": false
    },
    "pycharm": {
     "name": "#%%\n"
    }
   },
   "outputs": [],
   "source": [
    "# noinspection PyUnresolvedReferences\n",
    "import UnitsNet"
   ]
  },
  {
   "cell_type": "code",
   "execution_count": null,
   "metadata": {
    "collapsed": false,
    "jupyter": {
     "outputs_hidden": false
    },
    "pycharm": {
     "name": "#%%\n"
    }
   },
   "outputs": [],
   "source": [
    "project_filenames = {\n",
    "    'permian-a': 'Project-frankNstein_Permian_UTM13FT_0412_PjtDataFrame.ifrac',\n",
    "    'gng': 'GnG_DemoProject_wDataFrames.ifrac',\n",
    "}"
   ]
  },
  {
   "cell_type": "code",
   "execution_count": null,
   "metadata": {
    "collapsed": false,
    "jupyter": {
     "outputs_hidden": false
    },
    "pycharm": {
     "name": "#%%\n"
    }
   },
   "outputs": [],
   "source": [
    "test_data_path = pathlib.Path('c:/src/Orchid.IntegrationTestData/')\n",
    "project_path_names = toolz.valmap(lambda fn: test_data_path.joinpath(fn), project_filenames)\n",
    "project_path_names"
   ]
  },
  {
   "cell_type": "code",
   "execution_count": null,
   "metadata": {
    "collapsed": false,
    "jupyter": {
     "outputs_hidden": false
    },
    "pycharm": {
     "name": "#%%\n"
    }
   },
   "outputs": [],
   "source": [
    "projects = toolz.valmap(\n",
    "    lambda pn: opl.ProjectLoader(str(pn)).native_project(),\n",
    "    project_path_names)\n",
    "projects"
   ]
  },
  {
   "cell_type": "code",
   "execution_count": null,
   "metadata": {
    "collapsed": false,
    "jupyter": {
     "outputs_hidden": false
    },
    "pycharm": {
     "name": "#%%\n"
    }
   },
   "outputs": [],
   "source": [
    "project_units = toolz.valmap(lambda p: p.ProjectUnits, projects)\n",
    "project_units"
   ]
  },
  {
   "cell_type": "code",
   "execution_count": null,
   "metadata": {
    "collapsed": false,
    "jupyter": {
     "outputs_hidden": false
    },
    "pycharm": {
     "name": "#%%\n"
    }
   },
   "outputs": [],
   "source": [
    "def accumulate_net_data_frames_by_id(so_far, element):\n",
    "    return toolz.assoc(so_far,  element.ObjectId, element)\n",
    "\n",
    "def net_data_frames_by_object_id(project):\n",
    "    return toolz.pipe(project.DataFrames.Items,\n",
    "                   list,\n",
    "                   lambda dfs: toolz.reduce(accumulate_net_data_frames_by_id, dfs, {})\n",
    "              )\n",
    "\n",
    "project_net_data_frames = toolz.valmap(net_data_frames_by_object_id, projects)\n",
    "project_net_data_frames"
   ]
  },
  {
   "cell_type": "code",
   "execution_count": null,
   "metadata": {
    "collapsed": false,
    "jupyter": {
     "outputs_hidden": false
    },
    "pycharm": {
     "name": "#%%\n"
    }
   },
   "outputs": [],
   "source": [
    "def accumulate_project_net_data_frames_by_name(so_far, element):\n",
    "    return toolz.assoc(so_far,  element.Name, element)\n",
    "\n",
    "def build_project_net_data_frames_by_id(project):\n",
    "    return toolz.pipe(project.DataFrames.Items,\n",
    "                      list,\n",
    "                      lambda dfs: toolz.reduce(accumulate_project_net_data_frames_by_name, dfs, {})\n",
    "                      )\n",
    "\n",
    "project_net_data_frames_by_name = toolz.valmap(build_project_net_data_frames_by_id, projects)\n",
    "project_net_data_frames_by_name"
   ]
  },
  {
   "cell_type": "code",
   "execution_count": null,
   "metadata": {
    "collapsed": false,
    "jupyter": {
     "outputs_hidden": false
    },
    "pycharm": {
     "name": "#%%\n"
    }
   },
   "outputs": [],
   "source": [
    "def identify_net_data_frame(item):\n",
    "    df_id, net_data_frame = item\n",
    "    return {'id': net_data_frame.ObjectId, 'name': net_data_frame.Name, 'display_name': net_data_frame.DisplayName}\n",
    "\n",
    "def identify_project_net_data_frames(net_dfs):\n",
    "    return toolz.pipe(net_dfs,\n",
    "                      # toolz.do(lambda df: print(df)),\n",
    "                      lambda dfs: toolz.map(identify_net_data_frame, dfs.items()),\n",
    "                      list)\n",
    "\n",
    "\n",
    "identifications = toolz.valmap(identify_project_net_data_frames, project_net_data_frames)\n",
    "identifications"
   ]
  },
  {
   "cell_type": "code",
   "execution_count": null,
   "metadata": {
    "collapsed": false,
    "jupyter": {
     "outputs_hidden": false
    },
    "pycharm": {
     "name": "#%%\n"
    }
   },
   "outputs": [],
   "source": [
    "@toolz.curry\n",
    "def add_project_name(pn, df_ids):\n",
    "    return toolz.assoc(df_ids, 'project', pn)\n",
    "\n",
    "def summarize_project_net_data_frames(item):\n",
    "    pn, dfs_ids = item\n",
    "    result = toolz.pipe(dfs_ids,\n",
    "                        # toolz.do(lambda df_id: print(df_id)),\n",
    "                        toolz.map(lambda df_ids: add_project_name(pn, df_ids)),\n",
    "                        list,\n",
    "                       )\n",
    "    return pn, result\n",
    "\n",
    "id_summaries = toolz.itemmap(summarize_project_net_data_frames, identifications)\n",
    "id_summaries"
   ]
  },
  {
   "cell_type": "code",
   "execution_count": null,
   "metadata": {
    "collapsed": false,
    "jupyter": {
     "outputs_hidden": false
    },
    "pycharm": {
     "name": "#%%\n"
    }
   },
   "outputs": [],
   "source": [
    "col_names = ['project', 'id', 'name', 'display_name']"
   ]
  },
  {
   "cell_type": "code",
   "execution_count": null,
   "metadata": {
    "collapsed": false,
    "jupyter": {
     "outputs_hidden": false
    },
    "pycharm": {
     "name": "#%%\n"
    }
   },
   "outputs": [],
   "source": [
    "pd.DataFrame(data=id_summaries['permian-a'], columns=col_names)"
   ]
  },
  {
   "cell_type": "code",
   "execution_count": null,
   "metadata": {
    "collapsed": false,
    "jupyter": {
     "outputs_hidden": false
    },
    "pycharm": {
     "name": "#%%\n"
    }
   },
   "outputs": [],
   "source": [
    "pd.DataFrame(data=id_summaries['gng'], columns=col_names)"
   ]
  },
  {
   "cell_type": "code",
   "execution_count": null,
   "metadata": {
    "collapsed": false,
    "jupyter": {
     "outputs_hidden": false
    },
    "pycharm": {
     "name": "#%%\n"
    }
   },
   "outputs": [],
   "source": [
    "@toolz.curry\n",
    "def find_net_data_frame_by_name(project_name, net_dfs, name):\n",
    "    project_net_dfs = toolz.get(project_name, net_dfs)\n",
    "    candidates = toolz.pipe(project_net_dfs,\n",
    "                            toolz.valfilter(lambda df: df.Name == name),\n",
    "                            lambda cs: cs.values(),\n",
    "                            list,\n",
    "                           )\n",
    "    assert len(candidates) == 1\n",
    "    return candidates[0]"
   ]
  },
  {
   "cell_type": "code",
   "execution_count": null,
   "metadata": {
    "collapsed": false,
    "jupyter": {
     "outputs_hidden": false
    },
    "pycharm": {
     "name": "#%%\n"
    }
   },
   "outputs": [],
   "source": [
    "# Create a function partially applying the project name and the .NET data frames\n",
    "find_permian_data_frames = find_net_data_frame_by_name('permian-a', project_net_data_frames)\n",
    "find_permian_data_frames('C3-Microseismic Data Frame 01')"
   ]
  },
  {
   "cell_type": "code",
   "execution_count": null,
   "metadata": {
    "collapsed": false,
    "jupyter": {
     "outputs_hidden": false
    },
    "pycharm": {
     "name": "#%%\n"
    }
   },
   "outputs": [],
   "source": [
    "# Adapted from code at\n",
    "# https://docs.microsoft.com/en-us/dotnet/framework/data/adonet/dataset-datatable-dataview/creating-a-datareader\n",
    "# retrieved on 18-Apr-2021.\n",
    "\n",
    "def table_row_to_dict(reader):\n",
    "    return {reader.GetName(i): reader[reader.GetName(i)] for i in range(reader.FieldCount)}\n",
    "\n",
    "def read_data_table(data_table):\n",
    "    reader = data_table.CreateDataReader()\n",
    "    try:\n",
    "        while True:\n",
    "            if reader.HasRows:\n",
    "                has_row = reader.Read()\n",
    "                while has_row:\n",
    "                    yield table_row_to_dict(reader)\n",
    "                    has_row = reader.Read()\n",
    "            else:\n",
    "                return\n",
    "            if not reader.NextResult():\n",
    "                break\n",
    "    finally:\n",
    "        reader.Dispose()"
   ]
  },
  {
   "cell_type": "code",
   "execution_count": null,
   "metadata": {
    "collapsed": false,
    "jupyter": {
     "outputs_hidden": false
    },
    "pycharm": {
     "name": "#%%\n"
    }
   },
   "outputs": [],
   "source": [
    "net_data_frame_names = {\n",
    "    'permian-a': [\n",
    "        'Project Data Frame 01',\n",
    "        'FDI Observations',\n",
    "        'C3-Microseismic Data Frame 01',\n",
    "    ],\n",
    "    'gng': [\n",
    "        'Project Data Frame 01',\n",
    "        'Fault Trace Set Data Frame 01',\n",
    "        'Stage Data Frame 01',\n",
    "        'Well Log Set Data Frame 01',\n",
    "        'Horizon Marker Set Data Frame01',\n",
    "    ],\n",
    "}"
   ]
  },
  {
   "cell_type": "code",
   "execution_count": null,
   "metadata": {
    "collapsed": false,
    "jupyter": {
     "outputs_hidden": false
    },
    "pycharm": {
     "name": "#%%\n"
    }
   },
   "outputs": [],
   "source": [
    "def table_to_data_frame(data_table):\n",
    "    return pd.DataFrame(data=[r for r in read_data_table(data_table)])\n",
    "\n",
    "def data_frames_for_project_by_name(item):\n",
    "    project_name, project_dfs_by_name = item\n",
    "    tables_to_data_frames = toolz.pipe(\n",
    "        project_dfs_by_name,\n",
    "        toolz.valmap(toolz.compose(table_to_data_frame, lambda df: df.DataTable)),\n",
    "    )\n",
    "    return project_name, tables_to_data_frames\n",
    "\n",
    "data_frames_by_name = toolz.pipe(\n",
    "    project_net_data_frames_by_name,\n",
    "    toolz.itemmap(data_frames_for_project_by_name),\n",
    ")"
   ]
  },
  {
   "cell_type": "code",
   "execution_count": null,
   "metadata": {
    "collapsed": false,
    "jupyter": {
     "outputs_hidden": false
    },
    "pycharm": {
     "name": "#%%\n"
    }
   },
   "outputs": [],
   "source": [
    "def extract_data_frames_for_project(project_name):\n",
    "    result = toolz.pipe(\n",
    "        net_data_frame_names[project_name],\n",
    "        toolz.map(lambda dfn: toolz.get_in([project_name, dfn], data_frames_by_name)),\n",
    "        list,\n",
    "    )\n",
    "    return result"
   ]
  },
  {
   "cell_type": "code",
   "execution_count": null,
   "metadata": {
    "collapsed": false,
    "jupyter": {
     "outputs_hidden": false
    },
    "pycharm": {
     "name": "#%%\n"
    }
   },
   "outputs": [],
   "source": [
    "(permian_project, \n",
    " permian_fdi_observations,\n",
    " permian_microseismic) = extract_data_frames_for_project('permian-a')"
   ]
  },
  {
   "cell_type": "code",
   "execution_count": null,
   "metadata": {
    "collapsed": false,
    "jupyter": {
     "outputs_hidden": false
    },
    "pycharm": {
     "name": "#%%\n"
    }
   },
   "outputs": [],
   "source": [
    "permian_project"
   ]
  },
  {
   "cell_type": "code",
   "execution_count": null,
   "metadata": {
    "collapsed": false,
    "jupyter": {
     "outputs_hidden": false
    },
    "pycharm": {
     "name": "#%%\n"
    }
   },
   "outputs": [],
   "source": [
    "permian_fdi_observations"
   ]
  },
  {
   "cell_type": "code",
   "execution_count": null,
   "metadata": {
    "collapsed": false,
    "jupyter": {
     "outputs_hidden": false
    },
    "pycharm": {
     "name": "#%%\n"
    }
   },
   "outputs": [],
   "source": [
    "permian_microseismic"
   ]
  },
  {
   "cell_type": "code",
   "execution_count": null,
   "metadata": {
    "collapsed": false,
    "jupyter": {
     "outputs_hidden": false
    },
    "pycharm": {
     "name": "#%%\n"
    }
   },
   "outputs": [],
   "source": [
    "(gng_project,\n",
    " gng_fault_trace,\n",
    " gng_stage,\n",
    " gng_well_log,\n",
    " gng_horizon_marker) = extract_data_frames_for_project('gng')"
   ]
  },
  {
   "cell_type": "code",
   "execution_count": null,
   "metadata": {
    "collapsed": false,
    "jupyter": {
     "outputs_hidden": false
    },
    "pycharm": {
     "name": "#%%\n"
    }
   },
   "outputs": [],
   "source": [
    "gng_project"
   ]
  },
  {
   "cell_type": "code",
   "execution_count": null,
   "metadata": {
    "collapsed": false,
    "jupyter": {
     "outputs_hidden": false
    },
    "pycharm": {
     "name": "#%%\n"
    }
   },
   "outputs": [],
   "source": [
    "gng_fault_trace"
   ]
  },
  {
   "cell_type": "code",
   "execution_count": null,
   "metadata": {
    "collapsed": false,
    "jupyter": {
     "outputs_hidden": false
    },
    "pycharm": {
     "name": "#%%\n"
    }
   },
   "outputs": [],
   "source": [
    "gng_stage"
   ]
  },
  {
   "cell_type": "code",
   "execution_count": null,
   "metadata": {
    "collapsed": false,
    "jupyter": {
     "outputs_hidden": false
    },
    "pycharm": {
     "name": "#%%\n"
    }
   },
   "outputs": [],
   "source": [
    "gng_well_log"
   ]
  },
  {
   "cell_type": "code",
   "execution_count": null,
   "metadata": {
    "collapsed": false,
    "jupyter": {
     "outputs_hidden": false
    },
    "pycharm": {
     "name": "#%%\n"
    }
   },
   "outputs": [],
   "source": [
    "gng_horizon_marker"
   ]
  }
 ],
 "metadata": {
  "kernelspec": {
   "display_name": "Python 3",
   "language": "python",
   "name": "python3"
  },
  "language_info": {
   "codemirror_mode": {
    "name": "ipython",
    "version": 3
   },
   "file_extension": ".py",
   "mimetype": "text/x-python",
   "name": "python",
   "nbconvert_exporter": "python",
   "pygments_lexer": "ipython3",
   "version": "3.8.7"
  }
 },
 "nbformat": 4,
 "nbformat_minor": 4
}
