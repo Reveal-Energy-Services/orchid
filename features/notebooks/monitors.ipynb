{
 "cells": [
  {
   "cell_type": "code",
   "execution_count": null,
   "metadata": {
    "collapsed": false,
    "jupyter": {
     "outputs_hidden": false
    },
    "pycharm": {
     "name": "#%%\n"
    }
   },
   "outputs": [],
   "source": [
    "from collections import namedtuple\n",
    "import dataclasses as dc\n",
    "import pathlib\n",
    "import random\n",
    "import uuid"
   ]
  },
  {
   "cell_type": "code",
   "execution_count": null,
   "metadata": {
    "collapsed": false,
    "jupyter": {
     "outputs_hidden": false
    },
    "pycharm": {
     "name": "#%%\n"
    }
   },
   "outputs": [],
   "source": [
    "import numpy as np\n",
    "import matplotlib.pyplot as plt\n",
    "import pandas as pd\n",
    "import pendulum\n",
    "import seaborn as sns"
   ]
  },
  {
   "cell_type": "code",
   "execution_count": null,
   "metadata": {
    "collapsed": false,
    "jupyter": {
     "outputs_hidden": false
    },
    "pycharm": {
     "name": "#%%\n"
    }
   },
   "outputs": [],
   "source": [
    "from orchid import (project_store as ops)"
   ]
  },
  {
   "cell_type": "code",
   "execution_count": null,
   "metadata": {
    "collapsed": false,
    "jupyter": {
     "outputs_hidden": false
    },
    "pycharm": {
     "name": "#%%\n"
    }
   },
   "outputs": [],
   "source": [
    "import toolz.curried as toolz"
   ]
  },
  {
   "cell_type": "code",
   "execution_count": null,
   "metadata": {
    "collapsed": false,
    "jupyter": {
     "outputs_hidden": false
    },
    "pycharm": {
     "name": "#%%\n"
    }
   },
   "outputs": [],
   "source": [
    "# noinspection PyUnresolvedReferences\n",
    "import UnitsNet\n",
    "# noinspection PyUnresolvedReferences\n",
    "from System import DateTime"
   ]
  },
  {
   "cell_type": "code",
   "execution_count": null,
   "metadata": {
    "collapsed": false,
    "jupyter": {
     "outputs_hidden": false
    },
    "pycharm": {
     "name": "#%%\n"
    }
   },
   "outputs": [],
   "source": [
    "project_filenames = {\n",
    "    'bakken': 'frankNstein_Bakken_UTM13_FEET.ifrac',\n",
    "    'montney': 'Project-frankNstein_Montney_UTM13_METERS.ifrac',\n",
    "}"
   ]
  },
  {
   "cell_type": "code",
   "execution_count": null,
   "metadata": {
    "collapsed": false,
    "jupyter": {
     "outputs_hidden": false
    },
    "pycharm": {
     "name": "#%%\n"
    }
   },
   "outputs": [],
   "source": [
    "test_data_path = pathlib.Path('c:/src/Orchid.IntegrationTestData/')\n",
    "project_path_names = toolz.valmap(lambda fn: test_data_path.joinpath(fn), \n",
    "                                  project_filenames)\n",
    "project_path_names"
   ]
  },
  {
   "cell_type": "code",
   "execution_count": null,
   "metadata": {
    "collapsed": false,
    "jupyter": {
     "outputs_hidden": false
    },
    "pycharm": {
     "name": "#%%\n"
    }
   },
   "outputs": [],
   "source": [
    "projects = toolz.valmap(\n",
    "    lambda pn: ops.ProjectStore(str(pn)).native_project(),\n",
    "    project_path_names)\n",
    "projects"
   ]
  },
  {
   "cell_type": "code",
   "execution_count": null,
   "metadata": {},
   "outputs": [],
   "source": [
    "def get_project_monitors(proj):\n",
    "    return proj.Monitors.Items\n",
    "\n",
    "project_monitors = toolz.pipe(\n",
    "    projects,\n",
    "    toolz.valmap(get_project_monitors),\n",
    ")\n",
    "project_monitors"
   ]
  },
  {
   "cell_type": "code",
   "execution_count": null,
   "metadata": {
    "collapsed": false,
    "jupyter": {
     "outputs_hidden": false
    },
    "pycharm": {
     "name": "#%%\n"
    }
   },
   "outputs": [],
   "source": [
    "toolz.pipe(project_monitors.values(),\n",
    "           toolz.map(len),\n",
    "           list,)"
   ]
  },
  {
   "cell_type": "code",
   "execution_count": null,
   "metadata": {
    "collapsed": false,
    "jupyter": {
     "outputs_hidden": false
    },
    "pycharm": {
     "name": "#%%\n"
    }
   },
   "outputs": [],
   "source": [
    "@dc.dataclass\n",
    "class MonitorBasics:\n",
    "    object_id: uuid.UUID\n",
    "    name: str\n",
    "    display_name: str\n",
    "    start_time: pendulum.DateTime\n",
    "    stop_time: pendulum.DateTime\n",
    "\n",
    "@toolz.curry\n",
    "def summarize_monitor_basics(m):\n",
    "    result = MonitorBasics(m.ObjectId, m.DisplayName, m.Name, m.StartTime.ToString('o'), m.StopTime.ToString('o'))\n",
    "    return result\n",
    "\n",
    "project_monitor_summaries = toolz.pipe(\n",
    "    project_monitors,\n",
    "    toolz.valmap(toolz.map(summarize_monitor_basics)),\n",
    "    toolz.valmap(list),\n",
    ")\n",
    "project_monitor_summaries"
   ]
  },
  {
   "cell_type": "code",
   "execution_count": null,
   "metadata": {
    "collapsed": false,
    "jupyter": {
     "outputs_hidden": false
    },
    "pycharm": {
     "name": "#%%\n"
    }
   },
   "outputs": [],
   "source": [
    "selected_field_name = 'bakken'"
   ]
  },
  {
   "cell_type": "code",
   "execution_count": null,
   "metadata": {
    "collapsed": false,
    "jupyter": {
     "outputs_hidden": false
    },
    "pycharm": {
     "name": "#%%\n"
    }
   },
   "outputs": [],
   "source": [
    "def make_id_summary(field_name, summaries):\n",
    "    field_name_summaries = summaries[field_name]\n",
    "    return {\n",
    "        'field': field_name,\n",
    "        'Object Id': [s.object_id for s in field_name_summaries],\n",
    "        # 'Display Name': [s.display_name for s in field_name_summaries],\n",
    "        # 'Name': [s.name for s in field_name_summaries],\n",
    "        'Start Time': [s.start_time for s in field_name_summaries],\n",
    "        'Stop Time': [s.stop_time for s in field_name_summaries],\n",
    "    }"
   ]
  },
  {
   "cell_type": "code",
   "execution_count": null,
   "metadata": {
    "collapsed": false,
    "jupyter": {
     "outputs_hidden": false
    },
    "pycharm": {
     "name": "#%%\n"
    }
   },
   "outputs": [],
   "source": [
    "pd.DataFrame(data=make_id_summary('bakken', project_monitor_summaries))"
   ]
  },
  {
   "cell_type": "code",
   "execution_count": null,
   "metadata": {},
   "outputs": [],
   "source": [
    "pd.DataFrame(data=make_id_summary('montney', project_monitor_summaries))"
   ]
  },
  {
   "cell_type": "code",
   "execution_count": null,
   "metadata": {
    "pycharm": {
     "name": "#%%\n"
    }
   },
   "outputs": [],
   "source": [
    "@dc.dataclass\n",
    "class PyTick:\n",
    "    sample_at: DateTime\n",
    "    sample_value: float\n",
    "        \n",
    "MonitorSummary = namedtuple('MonitorSummary', ['object_id',\n",
    "                                               'name', \n",
    "                                               'display_name',\n",
    "                                               'time_series_id',\n",
    "                                               'sample_count',\n",
    "                                               'samples'])\n",
    "        \n",
    "def monitors_time_series(ms):\n",
    "    result = toolz.pipe(\n",
    "        ms,\n",
    "        toolz.map(lambda m:  MonitorSummary(object_id=m.ObjectId.ToString(), \n",
    "                                            name=m.Name, \n",
    "                                            display_name=m.DisplayName,\n",
    "                                            time_series_id=str(m.TimeSeries.ObjectId), \n",
    "                                            sample_count=len(m.TimeSeries.GetOrderedTimeSeriesHistory()), \n",
    "                                            samples=m.TimeSeries.GetOrderedTimeSeriesHistory())),\n",
    "        lambda summary: sorted(summary, key=lambda ms: ms.display_name),\n",
    "        list,\n",
    "    )\n",
    "    return result\n",
    "\n",
    "project_monitor_time_series = toolz.pipe(\n",
    "    project_monitors,\n",
    "    toolz.valmap(monitors_time_series),\n",
    "    toolz.valmap(toolz.map(lambda ms: {ms.display_name: ms})),\n",
    "    toolz.valmap(toolz.merge),\n",
    "#     toolz.valmap(toolz.map(toolz.map(lambda tick: PyTick(sample_at=tick.Timestamp.ToString('s'),\n",
    "#                                                          sample_value=tick.Value)))),\n",
    "#     toolz.valmap(toolz.map(list)),\n",
    "#     toolz.valmap(list),\n",
    ")\n",
    "project_monitor_time_series"
   ]
  },
  {
   "cell_type": "code",
   "execution_count": null,
   "metadata": {},
   "outputs": [],
   "source": [
    "random.choice([22, 36, 50])"
   ]
  },
  {
   "cell_type": "code",
   "execution_count": null,
   "metadata": {},
   "outputs": [],
   "source": [
    "toolz.pipe(\n",
    "    project_monitor_time_series,\n",
    "    toolz.get_in(['bakken', 'Demo_1H - stage 50']),\n",
    "    lambda ms: toolz.get([0, 6078, 24489, 35902, 47331, 56567, 94551, 114594], ms.samples),\n",
    "#     lambda ms: toolz.get([0, 1105, 14475, 18418, 33263, 83966, 87110, 114594], ms.samples),\n",
    "    toolz.map(lambda tick: PyTick(sample_at=tick.Timestamp.ToString('s'), \n",
    "                                  sample_value=tick.Value)),\n",
    "    list,\n",
    ")"
   ]
  },
  {
   "cell_type": "code",
   "execution_count": null,
   "metadata": {},
   "outputs": [],
   "source": []
  }
 ],
 "metadata": {
  "kernelspec": {
   "display_name": "Python 3 (ipykernel)",
   "language": "python",
   "name": "python3"
  },
  "language_info": {
   "codemirror_mode": {
    "name": "ipython",
    "version": 3
   },
   "file_extension": ".py",
   "mimetype": "text/x-python",
   "name": "python",
   "nbconvert_exporter": "python",
   "pygments_lexer": "ipython3",
   "version": "3.8.7"
  }
 },
 "nbformat": 4,
 "nbformat_minor": 4
}
